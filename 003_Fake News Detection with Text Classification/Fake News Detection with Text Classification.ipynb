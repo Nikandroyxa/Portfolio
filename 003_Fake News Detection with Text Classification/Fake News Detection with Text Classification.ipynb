{
 "cells": [
  {
   "cell_type": "markdown",
   "id": "5e361c3e",
   "metadata": {},
   "source": [
    "--- Setup & Load Data ---"
   ]
  },
  {
   "cell_type": "code",
   "execution_count": null,
   "id": "d432461f",
   "metadata": {},
   "outputs": [],
   "source": []
  },
  {
   "cell_type": "code",
   "execution_count": 1,
   "id": "96ac71b1",
   "metadata": {},
   "outputs": [],
   "source": [
    "import pandas as pd\n",
    "import numpy as np\n",
    "import matplotlib.pyplot as plt\n",
    "import seaborn as sns"
   ]
  },
  {
   "cell_type": "code",
   "execution_count": 2,
   "id": "69a305eb",
   "metadata": {},
   "outputs": [
    {
     "data": {
      "text/html": [
       "<div>\n",
       "<style scoped>\n",
       "    .dataframe tbody tr th:only-of-type {\n",
       "        vertical-align: middle;\n",
       "    }\n",
       "\n",
       "    .dataframe tbody tr th {\n",
       "        vertical-align: top;\n",
       "    }\n",
       "\n",
       "    .dataframe thead th {\n",
       "        text-align: right;\n",
       "    }\n",
       "</style>\n",
       "<table border=\"1\" class=\"dataframe\">\n",
       "  <thead>\n",
       "    <tr style=\"text-align: right;\">\n",
       "      <th></th>\n",
       "      <th>title</th>\n",
       "      <th>text</th>\n",
       "      <th>subject</th>\n",
       "      <th>date</th>\n",
       "    </tr>\n",
       "  </thead>\n",
       "  <tbody>\n",
       "    <tr>\n",
       "      <th>0</th>\n",
       "      <td>Donald Trump Sends Out Embarrassing New Year’...</td>\n",
       "      <td>Donald Trump just couldn t wish all Americans ...</td>\n",
       "      <td>News</td>\n",
       "      <td>December 31, 2017</td>\n",
       "    </tr>\n",
       "    <tr>\n",
       "      <th>1</th>\n",
       "      <td>Drunk Bragging Trump Staffer Started Russian ...</td>\n",
       "      <td>House Intelligence Committee Chairman Devin Nu...</td>\n",
       "      <td>News</td>\n",
       "      <td>December 31, 2017</td>\n",
       "    </tr>\n",
       "    <tr>\n",
       "      <th>2</th>\n",
       "      <td>Sheriff David Clarke Becomes An Internet Joke...</td>\n",
       "      <td>On Friday, it was revealed that former Milwauk...</td>\n",
       "      <td>News</td>\n",
       "      <td>December 30, 2017</td>\n",
       "    </tr>\n",
       "    <tr>\n",
       "      <th>3</th>\n",
       "      <td>Trump Is So Obsessed He Even Has Obama’s Name...</td>\n",
       "      <td>On Christmas day, Donald Trump announced that ...</td>\n",
       "      <td>News</td>\n",
       "      <td>December 29, 2017</td>\n",
       "    </tr>\n",
       "    <tr>\n",
       "      <th>4</th>\n",
       "      <td>Pope Francis Just Called Out Donald Trump Dur...</td>\n",
       "      <td>Pope Francis used his annual Christmas Day mes...</td>\n",
       "      <td>News</td>\n",
       "      <td>December 25, 2017</td>\n",
       "    </tr>\n",
       "    <tr>\n",
       "      <th>...</th>\n",
       "      <td>...</td>\n",
       "      <td>...</td>\n",
       "      <td>...</td>\n",
       "      <td>...</td>\n",
       "    </tr>\n",
       "    <tr>\n",
       "      <th>23476</th>\n",
       "      <td>McPain: John McCain Furious That Iran Treated ...</td>\n",
       "      <td>21st Century Wire says As 21WIRE reported earl...</td>\n",
       "      <td>Middle-east</td>\n",
       "      <td>January 16, 2016</td>\n",
       "    </tr>\n",
       "    <tr>\n",
       "      <th>23477</th>\n",
       "      <td>JUSTICE? Yahoo Settles E-mail Privacy Class-ac...</td>\n",
       "      <td>21st Century Wire says It s a familiar theme. ...</td>\n",
       "      <td>Middle-east</td>\n",
       "      <td>January 16, 2016</td>\n",
       "    </tr>\n",
       "    <tr>\n",
       "      <th>23478</th>\n",
       "      <td>Sunnistan: US and Allied ‘Safe Zone’ Plan to T...</td>\n",
       "      <td>Patrick Henningsen  21st Century WireRemember ...</td>\n",
       "      <td>Middle-east</td>\n",
       "      <td>January 15, 2016</td>\n",
       "    </tr>\n",
       "    <tr>\n",
       "      <th>23479</th>\n",
       "      <td>How to Blow $700 Million: Al Jazeera America F...</td>\n",
       "      <td>21st Century Wire says Al Jazeera America will...</td>\n",
       "      <td>Middle-east</td>\n",
       "      <td>January 14, 2016</td>\n",
       "    </tr>\n",
       "    <tr>\n",
       "      <th>23480</th>\n",
       "      <td>10 U.S. Navy Sailors Held by Iranian Military ...</td>\n",
       "      <td>21st Century Wire says As 21WIRE predicted in ...</td>\n",
       "      <td>Middle-east</td>\n",
       "      <td>January 12, 2016</td>\n",
       "    </tr>\n",
       "  </tbody>\n",
       "</table>\n",
       "<p>23481 rows × 4 columns</p>\n",
       "</div>"
      ],
      "text/plain": [
       "                                                   title  \\\n",
       "0       Donald Trump Sends Out Embarrassing New Year’...   \n",
       "1       Drunk Bragging Trump Staffer Started Russian ...   \n",
       "2       Sheriff David Clarke Becomes An Internet Joke...   \n",
       "3       Trump Is So Obsessed He Even Has Obama’s Name...   \n",
       "4       Pope Francis Just Called Out Donald Trump Dur...   \n",
       "...                                                  ...   \n",
       "23476  McPain: John McCain Furious That Iran Treated ...   \n",
       "23477  JUSTICE? Yahoo Settles E-mail Privacy Class-ac...   \n",
       "23478  Sunnistan: US and Allied ‘Safe Zone’ Plan to T...   \n",
       "23479  How to Blow $700 Million: Al Jazeera America F...   \n",
       "23480  10 U.S. Navy Sailors Held by Iranian Military ...   \n",
       "\n",
       "                                                    text      subject  \\\n",
       "0      Donald Trump just couldn t wish all Americans ...         News   \n",
       "1      House Intelligence Committee Chairman Devin Nu...         News   \n",
       "2      On Friday, it was revealed that former Milwauk...         News   \n",
       "3      On Christmas day, Donald Trump announced that ...         News   \n",
       "4      Pope Francis used his annual Christmas Day mes...         News   \n",
       "...                                                  ...          ...   \n",
       "23476  21st Century Wire says As 21WIRE reported earl...  Middle-east   \n",
       "23477  21st Century Wire says It s a familiar theme. ...  Middle-east   \n",
       "23478  Patrick Henningsen  21st Century WireRemember ...  Middle-east   \n",
       "23479  21st Century Wire says Al Jazeera America will...  Middle-east   \n",
       "23480  21st Century Wire says As 21WIRE predicted in ...  Middle-east   \n",
       "\n",
       "                    date  \n",
       "0      December 31, 2017  \n",
       "1      December 31, 2017  \n",
       "2      December 30, 2017  \n",
       "3      December 29, 2017  \n",
       "4      December 25, 2017  \n",
       "...                  ...  \n",
       "23476   January 16, 2016  \n",
       "23477   January 16, 2016  \n",
       "23478   January 15, 2016  \n",
       "23479   January 14, 2016  \n",
       "23480   January 12, 2016  \n",
       "\n",
       "[23481 rows x 4 columns]"
      ]
     },
     "execution_count": 2,
     "metadata": {},
     "output_type": "execute_result"
    }
   ],
   "source": [
    "df_fake= pd.read_csv('C://Users//User//Desktop//jobs//Tony Blair//archive (10)//Fake.csv')\n",
    "df_fake"
   ]
  },
  {
   "cell_type": "code",
   "execution_count": 3,
   "id": "f2c068d7",
   "metadata": {},
   "outputs": [
    {
     "data": {
      "text/html": [
       "<div>\n",
       "<style scoped>\n",
       "    .dataframe tbody tr th:only-of-type {\n",
       "        vertical-align: middle;\n",
       "    }\n",
       "\n",
       "    .dataframe tbody tr th {\n",
       "        vertical-align: top;\n",
       "    }\n",
       "\n",
       "    .dataframe thead th {\n",
       "        text-align: right;\n",
       "    }\n",
       "</style>\n",
       "<table border=\"1\" class=\"dataframe\">\n",
       "  <thead>\n",
       "    <tr style=\"text-align: right;\">\n",
       "      <th></th>\n",
       "      <th>title</th>\n",
       "      <th>text</th>\n",
       "      <th>subject</th>\n",
       "      <th>date</th>\n",
       "    </tr>\n",
       "  </thead>\n",
       "  <tbody>\n",
       "    <tr>\n",
       "      <th>0</th>\n",
       "      <td>As U.S. budget fight looms, Republicans flip t...</td>\n",
       "      <td>WASHINGTON (Reuters) - The head of a conservat...</td>\n",
       "      <td>politicsNews</td>\n",
       "      <td>December 31, 2017</td>\n",
       "    </tr>\n",
       "    <tr>\n",
       "      <th>1</th>\n",
       "      <td>U.S. military to accept transgender recruits o...</td>\n",
       "      <td>WASHINGTON (Reuters) - Transgender people will...</td>\n",
       "      <td>politicsNews</td>\n",
       "      <td>December 29, 2017</td>\n",
       "    </tr>\n",
       "    <tr>\n",
       "      <th>2</th>\n",
       "      <td>Senior U.S. Republican senator: 'Let Mr. Muell...</td>\n",
       "      <td>WASHINGTON (Reuters) - The special counsel inv...</td>\n",
       "      <td>politicsNews</td>\n",
       "      <td>December 31, 2017</td>\n",
       "    </tr>\n",
       "    <tr>\n",
       "      <th>3</th>\n",
       "      <td>FBI Russia probe helped by Australian diplomat...</td>\n",
       "      <td>WASHINGTON (Reuters) - Trump campaign adviser ...</td>\n",
       "      <td>politicsNews</td>\n",
       "      <td>December 30, 2017</td>\n",
       "    </tr>\n",
       "    <tr>\n",
       "      <th>4</th>\n",
       "      <td>Trump wants Postal Service to charge 'much mor...</td>\n",
       "      <td>SEATTLE/WASHINGTON (Reuters) - President Donal...</td>\n",
       "      <td>politicsNews</td>\n",
       "      <td>December 29, 2017</td>\n",
       "    </tr>\n",
       "    <tr>\n",
       "      <th>...</th>\n",
       "      <td>...</td>\n",
       "      <td>...</td>\n",
       "      <td>...</td>\n",
       "      <td>...</td>\n",
       "    </tr>\n",
       "    <tr>\n",
       "      <th>21412</th>\n",
       "      <td>'Fully committed' NATO backs new U.S. approach...</td>\n",
       "      <td>BRUSSELS (Reuters) - NATO allies on Tuesday we...</td>\n",
       "      <td>worldnews</td>\n",
       "      <td>August 22, 2017</td>\n",
       "    </tr>\n",
       "    <tr>\n",
       "      <th>21413</th>\n",
       "      <td>LexisNexis withdrew two products from Chinese ...</td>\n",
       "      <td>LONDON (Reuters) - LexisNexis, a provider of l...</td>\n",
       "      <td>worldnews</td>\n",
       "      <td>August 22, 2017</td>\n",
       "    </tr>\n",
       "    <tr>\n",
       "      <th>21414</th>\n",
       "      <td>Minsk cultural hub becomes haven from authorities</td>\n",
       "      <td>MINSK (Reuters) - In the shadow of disused Sov...</td>\n",
       "      <td>worldnews</td>\n",
       "      <td>August 22, 2017</td>\n",
       "    </tr>\n",
       "    <tr>\n",
       "      <th>21415</th>\n",
       "      <td>Vatican upbeat on possibility of Pope Francis ...</td>\n",
       "      <td>MOSCOW (Reuters) - Vatican Secretary of State ...</td>\n",
       "      <td>worldnews</td>\n",
       "      <td>August 22, 2017</td>\n",
       "    </tr>\n",
       "    <tr>\n",
       "      <th>21416</th>\n",
       "      <td>Indonesia to buy $1.14 billion worth of Russia...</td>\n",
       "      <td>JAKARTA (Reuters) - Indonesia will buy 11 Sukh...</td>\n",
       "      <td>worldnews</td>\n",
       "      <td>August 22, 2017</td>\n",
       "    </tr>\n",
       "  </tbody>\n",
       "</table>\n",
       "<p>21417 rows × 4 columns</p>\n",
       "</div>"
      ],
      "text/plain": [
       "                                                   title  \\\n",
       "0      As U.S. budget fight looms, Republicans flip t...   \n",
       "1      U.S. military to accept transgender recruits o...   \n",
       "2      Senior U.S. Republican senator: 'Let Mr. Muell...   \n",
       "3      FBI Russia probe helped by Australian diplomat...   \n",
       "4      Trump wants Postal Service to charge 'much mor...   \n",
       "...                                                  ...   \n",
       "21412  'Fully committed' NATO backs new U.S. approach...   \n",
       "21413  LexisNexis withdrew two products from Chinese ...   \n",
       "21414  Minsk cultural hub becomes haven from authorities   \n",
       "21415  Vatican upbeat on possibility of Pope Francis ...   \n",
       "21416  Indonesia to buy $1.14 billion worth of Russia...   \n",
       "\n",
       "                                                    text       subject  \\\n",
       "0      WASHINGTON (Reuters) - The head of a conservat...  politicsNews   \n",
       "1      WASHINGTON (Reuters) - Transgender people will...  politicsNews   \n",
       "2      WASHINGTON (Reuters) - The special counsel inv...  politicsNews   \n",
       "3      WASHINGTON (Reuters) - Trump campaign adviser ...  politicsNews   \n",
       "4      SEATTLE/WASHINGTON (Reuters) - President Donal...  politicsNews   \n",
       "...                                                  ...           ...   \n",
       "21412  BRUSSELS (Reuters) - NATO allies on Tuesday we...     worldnews   \n",
       "21413  LONDON (Reuters) - LexisNexis, a provider of l...     worldnews   \n",
       "21414  MINSK (Reuters) - In the shadow of disused Sov...     worldnews   \n",
       "21415  MOSCOW (Reuters) - Vatican Secretary of State ...     worldnews   \n",
       "21416  JAKARTA (Reuters) - Indonesia will buy 11 Sukh...     worldnews   \n",
       "\n",
       "                     date  \n",
       "0      December 31, 2017   \n",
       "1      December 29, 2017   \n",
       "2      December 31, 2017   \n",
       "3      December 30, 2017   \n",
       "4      December 29, 2017   \n",
       "...                   ...  \n",
       "21412    August 22, 2017   \n",
       "21413    August 22, 2017   \n",
       "21414    August 22, 2017   \n",
       "21415    August 22, 2017   \n",
       "21416    August 22, 2017   \n",
       "\n",
       "[21417 rows x 4 columns]"
      ]
     },
     "execution_count": 3,
     "metadata": {},
     "output_type": "execute_result"
    }
   ],
   "source": [
    "df_true= pd.read_csv('C://Users//User//Desktop//jobs//Tony Blair//archive (10)//True.csv')\n",
    "df_true"
   ]
  },
  {
   "cell_type": "code",
   "execution_count": 4,
   "id": "08b85cdd",
   "metadata": {},
   "outputs": [
    {
     "name": "stdout",
     "output_type": "stream",
     "text": [
      "<class 'pandas.core.frame.DataFrame'>\n",
      "RangeIndex: 23481 entries, 0 to 23480\n",
      "Data columns (total 4 columns):\n",
      " #   Column   Non-Null Count  Dtype \n",
      "---  ------   --------------  ----- \n",
      " 0   title    23481 non-null  object\n",
      " 1   text     23481 non-null  object\n",
      " 2   subject  23481 non-null  object\n",
      " 3   date     23481 non-null  object\n",
      "dtypes: object(4)\n",
      "memory usage: 733.9+ KB\n"
     ]
    }
   ],
   "source": [
    "df_fake.info()"
   ]
  },
  {
   "cell_type": "code",
   "execution_count": 5,
   "id": "ee73200b",
   "metadata": {},
   "outputs": [
    {
     "name": "stdout",
     "output_type": "stream",
     "text": [
      "<class 'pandas.core.frame.DataFrame'>\n",
      "RangeIndex: 21417 entries, 0 to 21416\n",
      "Data columns (total 4 columns):\n",
      " #   Column   Non-Null Count  Dtype \n",
      "---  ------   --------------  ----- \n",
      " 0   title    21417 non-null  object\n",
      " 1   text     21417 non-null  object\n",
      " 2   subject  21417 non-null  object\n",
      " 3   date     21417 non-null  object\n",
      "dtypes: object(4)\n",
      "memory usage: 669.4+ KB\n"
     ]
    }
   ],
   "source": [
    "df_true.info()"
   ]
  },
  {
   "cell_type": "code",
   "execution_count": null,
   "id": "b7ba56c5",
   "metadata": {},
   "outputs": [],
   "source": []
  },
  {
   "cell_type": "markdown",
   "id": "3cfcce59",
   "metadata": {},
   "source": [
    "--- Preparation & Labeling ---\n",
    "\n",
    "    Prepare the dataset for binary classification:\n",
    "    - We assign a label of '0' to all fake articles and '1' to all real articles\n",
    "    - We concatenate the 'title' and 'text' fields into a new column called 'full' to use as our input feature\n",
    "    - We retain only the relevant columns: 'full', 'subject', and 'label\n",
    "    - Finally, we concatenate the fake and real datasets into a single DataFrame for unified processing\n",
    "\n",
    "    This results in a dataset of 44,898 articles"
   ]
  },
  {
   "cell_type": "code",
   "execution_count": 6,
   "id": "ba1922d9",
   "metadata": {},
   "outputs": [],
   "source": [
    "df_fake['label']= 0\n",
    "df_true['label'] = 1"
   ]
  },
  {
   "cell_type": "code",
   "execution_count": 7,
   "id": "522afc0b",
   "metadata": {},
   "outputs": [],
   "source": [
    "df= pd.concat([df_fake, df_true], ignore_index= True)\n",
    "df['full']= df['title'] + ' ' + df['text']\n",
    "df= df[['full', 'subject', 'label']]"
   ]
  },
  {
   "cell_type": "code",
   "execution_count": 8,
   "id": "bb9453ce",
   "metadata": {},
   "outputs": [
    {
     "data": {
      "text/html": [
       "<div>\n",
       "<style scoped>\n",
       "    .dataframe tbody tr th:only-of-type {\n",
       "        vertical-align: middle;\n",
       "    }\n",
       "\n",
       "    .dataframe tbody tr th {\n",
       "        vertical-align: top;\n",
       "    }\n",
       "\n",
       "    .dataframe thead th {\n",
       "        text-align: right;\n",
       "    }\n",
       "</style>\n",
       "<table border=\"1\" class=\"dataframe\">\n",
       "  <thead>\n",
       "    <tr style=\"text-align: right;\">\n",
       "      <th></th>\n",
       "      <th>full</th>\n",
       "      <th>subject</th>\n",
       "      <th>label</th>\n",
       "    </tr>\n",
       "  </thead>\n",
       "  <tbody>\n",
       "    <tr>\n",
       "      <th>0</th>\n",
       "      <td>Donald Trump Sends Out Embarrassing New Year’...</td>\n",
       "      <td>News</td>\n",
       "      <td>0</td>\n",
       "    </tr>\n",
       "    <tr>\n",
       "      <th>1</th>\n",
       "      <td>Drunk Bragging Trump Staffer Started Russian ...</td>\n",
       "      <td>News</td>\n",
       "      <td>0</td>\n",
       "    </tr>\n",
       "    <tr>\n",
       "      <th>2</th>\n",
       "      <td>Sheriff David Clarke Becomes An Internet Joke...</td>\n",
       "      <td>News</td>\n",
       "      <td>0</td>\n",
       "    </tr>\n",
       "    <tr>\n",
       "      <th>3</th>\n",
       "      <td>Trump Is So Obsessed He Even Has Obama’s Name...</td>\n",
       "      <td>News</td>\n",
       "      <td>0</td>\n",
       "    </tr>\n",
       "    <tr>\n",
       "      <th>4</th>\n",
       "      <td>Pope Francis Just Called Out Donald Trump Dur...</td>\n",
       "      <td>News</td>\n",
       "      <td>0</td>\n",
       "    </tr>\n",
       "    <tr>\n",
       "      <th>...</th>\n",
       "      <td>...</td>\n",
       "      <td>...</td>\n",
       "      <td>...</td>\n",
       "    </tr>\n",
       "    <tr>\n",
       "      <th>44893</th>\n",
       "      <td>'Fully committed' NATO backs new U.S. approach...</td>\n",
       "      <td>worldnews</td>\n",
       "      <td>1</td>\n",
       "    </tr>\n",
       "    <tr>\n",
       "      <th>44894</th>\n",
       "      <td>LexisNexis withdrew two products from Chinese ...</td>\n",
       "      <td>worldnews</td>\n",
       "      <td>1</td>\n",
       "    </tr>\n",
       "    <tr>\n",
       "      <th>44895</th>\n",
       "      <td>Minsk cultural hub becomes haven from authorit...</td>\n",
       "      <td>worldnews</td>\n",
       "      <td>1</td>\n",
       "    </tr>\n",
       "    <tr>\n",
       "      <th>44896</th>\n",
       "      <td>Vatican upbeat on possibility of Pope Francis ...</td>\n",
       "      <td>worldnews</td>\n",
       "      <td>1</td>\n",
       "    </tr>\n",
       "    <tr>\n",
       "      <th>44897</th>\n",
       "      <td>Indonesia to buy $1.14 billion worth of Russia...</td>\n",
       "      <td>worldnews</td>\n",
       "      <td>1</td>\n",
       "    </tr>\n",
       "  </tbody>\n",
       "</table>\n",
       "<p>44898 rows × 3 columns</p>\n",
       "</div>"
      ],
      "text/plain": [
       "                                                    full    subject  label\n",
       "0       Donald Trump Sends Out Embarrassing New Year’...       News      0\n",
       "1       Drunk Bragging Trump Staffer Started Russian ...       News      0\n",
       "2       Sheriff David Clarke Becomes An Internet Joke...       News      0\n",
       "3       Trump Is So Obsessed He Even Has Obama’s Name...       News      0\n",
       "4       Pope Francis Just Called Out Donald Trump Dur...       News      0\n",
       "...                                                  ...        ...    ...\n",
       "44893  'Fully committed' NATO backs new U.S. approach...  worldnews      1\n",
       "44894  LexisNexis withdrew two products from Chinese ...  worldnews      1\n",
       "44895  Minsk cultural hub becomes haven from authorit...  worldnews      1\n",
       "44896  Vatican upbeat on possibility of Pope Francis ...  worldnews      1\n",
       "44897  Indonesia to buy $1.14 billion worth of Russia...  worldnews      1\n",
       "\n",
       "[44898 rows x 3 columns]"
      ]
     },
     "execution_count": 8,
     "metadata": {},
     "output_type": "execute_result"
    }
   ],
   "source": [
    "df"
   ]
  },
  {
   "cell_type": "code",
   "execution_count": null,
   "id": "f7a9c7f9",
   "metadata": {},
   "outputs": [],
   "source": []
  },
  {
   "cell_type": "markdown",
   "id": "36d0e300",
   "metadata": {},
   "source": [
    "--- Text Cleansing ---\n",
    "\n",
    "    Prepare the text for vectorization\n",
    "\n",
    "    - Applied a function 'preprocessing_pipeline' which:\n",
    "        - Converts all text to lowercase\n",
    "        - Removes multiple punctuation marks like \"!!!\" and \"???\"\n",
    "        - Removes URLs (`http...`), hashtags (`#...`), and mentions (`@...`)\n",
    "        - Strips all punctuation and digits\n",
    "        - Normalizes excessive whitespace\n",
    "\n",
    "    - Also, tested the function to confirm it works"
   ]
  },
  {
   "cell_type": "code",
   "execution_count": null,
   "id": "d70a05cf",
   "metadata": {},
   "outputs": [],
   "source": []
  },
  {
   "cell_type": "code",
   "execution_count": 9,
   "id": "e0a8fb50",
   "metadata": {},
   "outputs": [],
   "source": [
    "import re\n",
    "import string\n",
    "\n",
    "def preprocessing_pipeline(text):\n",
    "    text= text.lower().strip()\n",
    "\n",
    "    text= re.sub(r'\\!+', '!', text)\n",
    "    text= re.sub(r'\\?+', '?', text)\n",
    "\n",
    "    text= ' '.join(word for word in text.split() if not word.startswith(('@', '#', 'http')))\n",
    "\n",
    "    text= text.translate(str.maketrans('', '', string.punctuation))\n",
    "\n",
    "    text= re.sub(r'\\d+', '', text)\n",
    "\n",
    "    text= re.sub(r'\\s+', ' ', text)\n",
    "\n",
    "    return text.strip()"
   ]
  },
  {
   "cell_type": "code",
   "execution_count": 10,
   "id": "bba43f19",
   "metadata": {},
   "outputs": [
    {
     "data": {
      "text/plain": [
       "'breaking check this out true'"
      ]
     },
     "execution_count": 10,
     "metadata": {},
     "output_type": "execute_result"
    }
   ],
   "source": [
    "preprocessing_pipeline(\"Breaking!!! Check this out: https://fakeurl.com/news @user123 #breaking123 100% True???\")"
   ]
  },
  {
   "cell_type": "code",
   "execution_count": 11,
   "id": "dadb982f",
   "metadata": {},
   "outputs": [],
   "source": [
    "df['full']= df['full'].apply(preprocessing_pipeline)"
   ]
  },
  {
   "cell_type": "code",
   "execution_count": 12,
   "id": "18e0565d",
   "metadata": {},
   "outputs": [
    {
     "data": {
      "text/plain": [
       "0        donald trump sends out embarrassing new year’s...\n",
       "1        drunk bragging trump staffer started russian c...\n",
       "2        sheriff david clarke becomes an internet joke ...\n",
       "3        trump is so obsessed he even has obama’s name ...\n",
       "4        pope francis just called out donald trump duri...\n",
       "                               ...                        \n",
       "44893    fully committed nato backs new us approach on ...\n",
       "44894    lexisnexis withdrew two products from chinese ...\n",
       "44895    minsk cultural hub becomes haven from authorit...\n",
       "44896    vatican upbeat on possibility of pope francis ...\n",
       "44897    indonesia to buy billion worth of russian jets...\n",
       "Name: full, Length: 44898, dtype: object"
      ]
     },
     "execution_count": 12,
     "metadata": {},
     "output_type": "execute_result"
    }
   ],
   "source": [
    "df['full']"
   ]
  },
  {
   "cell_type": "code",
   "execution_count": null,
   "id": "cc24022e",
   "metadata": {},
   "outputs": [],
   "source": []
  },
  {
   "cell_type": "code",
   "execution_count": null,
   "id": "43d6ce6a",
   "metadata": {},
   "outputs": [],
   "source": []
  },
  {
   "cell_type": "markdown",
   "id": "9969d491",
   "metadata": {},
   "source": [
    "--- Step 1 - Baseline ---"
   ]
  },
  {
   "cell_type": "code",
   "execution_count": null,
   "id": "ea58e582",
   "metadata": {},
   "outputs": [],
   "source": []
  },
  {
   "cell_type": "code",
   "execution_count": null,
   "id": "76c930bc",
   "metadata": {},
   "outputs": [],
   "source": []
  },
  {
   "cell_type": "markdown",
   "id": "302562a7",
   "metadata": {},
   "source": [
    "--- Split - Train/Test Sets ---\n",
    "\n",
    "    Splited the dataset into training set (80%) and test set (20%), \n",
    "    stratifying on the 'label' column to ensure class balance in both sets\n",
    "\n",
    "    Also, extracted the 'subject' column using: subj = df['subject']\n",
    "    \n",
    "    *This captures the domain or topic category of each article (e.g., \"Politics\", \"News\", \"Middle-east\", \"WorldNews\")\n",
    "     We store it separately as subj_train and subj_test so that we can later:\n",
    "\n",
    "     - Evaluate model performance per domain\n",
    "     - Identify if the model performs better on certain topics\n",
    "     - Use it as an additional feature in the final improvement step"
   ]
  },
  {
   "cell_type": "code",
   "execution_count": null,
   "id": "dc19671b",
   "metadata": {},
   "outputs": [],
   "source": []
  },
  {
   "cell_type": "code",
   "execution_count": 13,
   "id": "32fceca1",
   "metadata": {},
   "outputs": [],
   "source": [
    "from sklearn.model_selection import train_test_split\n",
    "\n",
    "X= df['full']\n",
    "y= df['label']\n",
    "\n",
    "subj= df['subject']\n",
    "\n",
    "X_train, X_test, y_train, y_test, subj_train, subj_test= train_test_split(\n",
    "    X, y, subj, test_size= 0.2, stratify= y, random_state= 42)"
   ]
  },
  {
   "cell_type": "code",
   "execution_count": null,
   "id": "95aebf4c",
   "metadata": {},
   "outputs": [],
   "source": []
  },
  {
   "cell_type": "markdown",
   "id": "c3f41a27",
   "metadata": {},
   "source": [
    "--- TF-IDF Vectorization (convert text to numeric features) ---\n",
    "\n",
    "    To convert the text data into numerical format for machine learning, \n",
    "    we applied TF-IDF (Term Frequency–Inverse Document Frequency) vectorization \n",
    "\n",
    "    Used the following parameters:\n",
    "        - 'stop_words= 'english'': removes common words like \"the\", \"and\", etc.\n",
    "        - 'max_df=0.8': ignores words that appear in more than 80% of documents\n",
    "        \n",
    "    Result:\n",
    "        - Training set: (35,918 samples, 185,039 features)\n",
    "        - Test set: (8,980 samples, 185,039 features)\n",
    "\n",
    "    Also, checked the top TF-IDF weighted terms in the first few training documents \n",
    "    and visualized the distribution of document lengths."
   ]
  },
  {
   "cell_type": "code",
   "execution_count": null,
   "id": "1971e4da",
   "metadata": {},
   "outputs": [],
   "source": []
  },
  {
   "cell_type": "code",
   "execution_count": 14,
   "id": "ba8358a9",
   "metadata": {},
   "outputs": [],
   "source": [
    "from sklearn.feature_extraction.text import TfidfVectorizer\n",
    "\n",
    "tfidf= TfidfVectorizer(stop_words= 'english', max_df= 0.8)\n",
    "\n",
    "X_train_vec= tfidf.fit_transform(X_train)\n",
    "X_test_vec= tfidf.transform(X_test)"
   ]
  },
  {
   "cell_type": "code",
   "execution_count": 15,
   "id": "986bd18b",
   "metadata": {},
   "outputs": [
    {
     "name": "stdout",
     "output_type": "stream",
     "text": [
      "TF-IDF Train Matrix Shape: (35918, 185039)\n",
      "TF-IDF Test Matrix Shape: (8980, 185039)\n"
     ]
    }
   ],
   "source": [
    "print(f\"TF-IDF Train Matrix Shape: {X_train_vec.shape}\")\n",
    "print(f\"TF-IDF Test Matrix Shape: {X_test_vec.shape}\")"
   ]
  },
  {
   "cell_type": "code",
   "execution_count": 16,
   "id": "5a8fb4a0",
   "metadata": {},
   "outputs": [
    {
     "data": {
      "text/plain": [
       "array(['aa', 'aaa', 'aaaaackkk', 'aaaarrgh',\n",
       "       'aaainnertextreplacernrngquotnquotelsevar', 'aaarf', 'aab', 'aaba',\n",
       "       'aabo', 'aaccording', 'aadhaar', 'aadhar', 'aadl',\n",
       "       'aadocumentmodevoid', 'aaf', 'aafunctionabforvar', 'aai', 'aaja',\n",
       "       'aalberg', 'aaldef'], dtype=object)"
      ]
     },
     "execution_count": 16,
     "metadata": {},
     "output_type": "execute_result"
    }
   ],
   "source": [
    "tfidf.get_feature_names_out()[:20]"
   ]
  },
  {
   "cell_type": "code",
   "execution_count": 17,
   "id": "a309aa78",
   "metadata": {},
   "outputs": [
    {
     "data": {
      "text/html": [
       "<div>\n",
       "<style scoped>\n",
       "    .dataframe tbody tr th:only-of-type {\n",
       "        vertical-align: middle;\n",
       "    }\n",
       "\n",
       "    .dataframe tbody tr th {\n",
       "        vertical-align: top;\n",
       "    }\n",
       "\n",
       "    .dataframe thead th {\n",
       "        text-align: right;\n",
       "    }\n",
       "</style>\n",
       "<table border=\"1\" class=\"dataframe\">\n",
       "  <thead>\n",
       "    <tr style=\"text-align: right;\">\n",
       "      <th></th>\n",
       "      <th>0</th>\n",
       "      <th>1</th>\n",
       "      <th>2</th>\n",
       "      <th>3</th>\n",
       "      <th>4</th>\n",
       "    </tr>\n",
       "  </thead>\n",
       "  <tbody>\n",
       "    <tr>\n",
       "      <th>nord</th>\n",
       "      <td>0.367433</td>\n",
       "      <td>0.0</td>\n",
       "      <td>0.0</td>\n",
       "      <td>0.0</td>\n",
       "      <td>0.0</td>\n",
       "    </tr>\n",
       "    <tr>\n",
       "      <th>du</th>\n",
       "      <td>0.350107</td>\n",
       "      <td>0.0</td>\n",
       "      <td>0.0</td>\n",
       "      <td>0.0</td>\n",
       "      <td>0.0</td>\n",
       "    </tr>\n",
       "    <tr>\n",
       "      <th>bank</th>\n",
       "      <td>0.309871</td>\n",
       "      <td>0.0</td>\n",
       "      <td>0.0</td>\n",
       "      <td>0.0</td>\n",
       "      <td>0.0</td>\n",
       "    </tr>\n",
       "    <tr>\n",
       "      <th>socgen</th>\n",
       "      <td>0.307549</td>\n",
       "      <td>0.0</td>\n",
       "      <td>0.0</td>\n",
       "      <td>0.0</td>\n",
       "      <td>0.0</td>\n",
       "    </tr>\n",
       "    <tr>\n",
       "      <th>generale</th>\n",
       "      <td>0.271861</td>\n",
       "      <td>0.0</td>\n",
       "      <td>0.0</td>\n",
       "      <td>0.0</td>\n",
       "      <td>0.0</td>\n",
       "    </tr>\n",
       "    <tr>\n",
       "      <th>societe</th>\n",
       "      <td>0.258985</td>\n",
       "      <td>0.0</td>\n",
       "      <td>0.0</td>\n",
       "      <td>0.0</td>\n",
       "      <td>0.0</td>\n",
       "    </tr>\n",
       "    <tr>\n",
       "      <th>account</th>\n",
       "      <td>0.240880</td>\n",
       "      <td>0.0</td>\n",
       "      <td>0.0</td>\n",
       "      <td>0.0</td>\n",
       "      <td>0.0</td>\n",
       "    </tr>\n",
       "    <tr>\n",
       "      <th>credit</th>\n",
       "      <td>0.199142</td>\n",
       "      <td>0.0</td>\n",
       "      <td>0.0</td>\n",
       "      <td>0.0</td>\n",
       "      <td>0.0</td>\n",
       "    </tr>\n",
       "    <tr>\n",
       "      <th>banking</th>\n",
       "      <td>0.157554</td>\n",
       "      <td>0.0</td>\n",
       "      <td>0.0</td>\n",
       "      <td>0.0</td>\n",
       "      <td>0.0</td>\n",
       "    </tr>\n",
       "    <tr>\n",
       "      <th>regulatory</th>\n",
       "      <td>0.155495</td>\n",
       "      <td>0.0</td>\n",
       "      <td>0.0</td>\n",
       "      <td>0.0</td>\n",
       "      <td>0.0</td>\n",
       "    </tr>\n",
       "  </tbody>\n",
       "</table>\n",
       "</div>"
      ],
      "text/plain": [
       "                   0    1    2    3    4\n",
       "nord        0.367433  0.0  0.0  0.0  0.0\n",
       "du          0.350107  0.0  0.0  0.0  0.0\n",
       "bank        0.309871  0.0  0.0  0.0  0.0\n",
       "socgen      0.307549  0.0  0.0  0.0  0.0\n",
       "generale    0.271861  0.0  0.0  0.0  0.0\n",
       "societe     0.258985  0.0  0.0  0.0  0.0\n",
       "account     0.240880  0.0  0.0  0.0  0.0\n",
       "credit      0.199142  0.0  0.0  0.0  0.0\n",
       "banking     0.157554  0.0  0.0  0.0  0.0\n",
       "regulatory  0.155495  0.0  0.0  0.0  0.0"
      ]
     },
     "execution_count": 17,
     "metadata": {},
     "output_type": "execute_result"
    }
   ],
   "source": [
    "tfidf_df= pd.DataFrame(X_train_vec[:5].toarray(), columns= tfidf.get_feature_names_out())\n",
    "tfidf_df.T.sort_values(by= 0, ascending= False).head(10)"
   ]
  },
  {
   "cell_type": "code",
   "execution_count": 18,
   "id": "d989d185",
   "metadata": {},
   "outputs": [
    {
     "data": {
      "image/png": "[encoded data removed]",
      "text/plain": [
       "<Figure size 432x288 with 1 Axes>"
      ]
     },
     "metadata": {
      "needs_background": "light"
     },
     "output_type": "display_data"
    }
   ],
   "source": [
    "df['doc_length']= df['full'].apply(lambda x: len(x.split()))\n",
    "sns.histplot(df['doc_length'], bins= 50)\n",
    "plt.title(\"Distribution of Document Lengths (in words)\")\n",
    "plt.show()"
   ]
  },
  {
   "cell_type": "code",
   "execution_count": null,
   "id": "769f80f2",
   "metadata": {},
   "outputs": [],
   "source": []
  },
  {
   "cell_type": "markdown",
   "id": "f34780e8",
   "metadata": {},
   "source": [
    "--- LogisticRegression ---\n",
    "\n",
    "    Begun with LR(Logistic Regression)\n",
    "\n",
    "    Results - Evaluation Metrics:\n",
    "        - Accuracy: 98.76%\n",
    "            This shows that 99% of articles were classified correctly as either fake or real\n",
    "            \n",
    "        - Precision: 98.40%\n",
    "            Out of all articles predicted as real, 98.4% were actually real.  \n",
    "            This is important when false positives (e.g., labeling fake news as real) are costly\n",
    "            \n",
    "        - Recall: 99%\n",
    "            Out of all actual real articles, 99% were correctly identified  \n",
    "            This reflects how well the model catches all real news\n",
    "            \n",
    "        - F1 Score: 99%\n",
    "            F1 balances both concerns and is especially useful when classes are imbalanced or \n",
    "            when we care equally about precision and recall\n",
    "            \n",
    "        - AUC: 0.9878\n",
    "            Area Under the Receiver Operating Characteristic(ROC) Curve  \n",
    "            AUC near 1.0 indicates the model can almost perfectly separate fake from real news \n",
    "            across all classification thresholds\n",
    "\n",
    "    The confusion matrix shows strong performance on both fake and real classes, \n",
    "    with a small misclassification.\n",
    "\n",
    "    These results show us that a basic linear classifier performs exceptionally well on this dataset,\n",
    "    due to strong lexical differences between fake and real news articles."
   ]
  },
  {
   "cell_type": "code",
   "execution_count": null,
   "id": "9af2fc88",
   "metadata": {},
   "outputs": [],
   "source": []
  },
  {
   "cell_type": "code",
   "execution_count": 19,
   "id": "6d73ccc6",
   "metadata": {},
   "outputs": [],
   "source": [
    "from sklearn.linear_model import LogisticRegression\n",
    "lr= LogisticRegression(max_iter= 1000)\n",
    "lr.fit(X_train_vec, y_train)\n",
    "\n",
    "y_pred= lr.predict(X_test_vec)"
   ]
  },
  {
   "cell_type": "code",
   "execution_count": 20,
   "id": "85718a0f",
   "metadata": {
    "scrolled": false
   },
   "outputs": [
    {
     "name": "stdout",
     "output_type": "stream",
     "text": [
      "              precision    recall  f1-score   support\n",
      "\n",
      "           0       0.99      0.99      0.99      4696\n",
      "           1       0.98      0.99      0.99      4284\n",
      "\n",
      "    accuracy                           0.99      8980\n",
      "   macro avg       0.99      0.99      0.99      8980\n",
      "weighted avg       0.99      0.99      0.99      8980\n",
      "\n",
      "Precision: 0.9839944328462074\n",
      "Accuracy: 0.9876391982182628\n",
      "AUC: 0.9877513611918363\n"
     ]
    },
    {
     "data": {
      "text/plain": [
       "<sklearn.metrics._plot.confusion_matrix.ConfusionMatrixDisplay at 0x18c046d1520>"
      ]
     },
     "execution_count": 20,
     "metadata": {},
     "output_type": "execute_result"
    },
    {
     "data": {
      "image/png": "[encoded data removed]",
      "text/plain": [
       "<Figure size 432x288 with 2 Axes>"
      ]
     },
     "metadata": {
      "needs_background": "light"
     },
     "output_type": "display_data"
    }
   ],
   "source": [
    "from sklearn.metrics import confusion_matrix, ConfusionMatrixDisplay, classification_report, precision_score, roc_auc_score, accuracy_score \n",
    "\n",
    "cm= confusion_matrix(y_test, y_pred, labels= lr.classes_)\n",
    "print(classification_report(y_test, y_pred))\n",
    "print('Precision:', precision_score(y_test, y_pred))\n",
    "print('Accuracy:', accuracy_score(y_test, y_pred))\n",
    "print('AUC:', roc_auc_score(y_test, y_pred))\n",
    "dcm_lr= ConfusionMatrixDisplay(cm, display_labels= lr.classes_)\n",
    "dcm_lr.plot()"
   ]
  },
  {
   "cell_type": "code",
   "execution_count": null,
   "id": "9399e178",
   "metadata": {},
   "outputs": [],
   "source": []
  },
  {
   "cell_type": "markdown",
   "id": "702b0be8",
   "metadata": {},
   "source": [
    "--- Evaluation by Domain (subject) ---\n",
    "\n",
    "    To understand how the model performs across different news domains, \n",
    "    we evaluated accuracy, precision, recall, and F1-score separately for each value \n",
    "    of the 'subject' field (e.g., \"Politics\", \"News\", \"WorldNews\")\n",
    "\n",
    "    Grouped predictions by domain using a DataFrame that combined:\n",
    "        - 'subject' (domain)\n",
    "        - 'true' labels\n",
    "        - 'pred' labels\n",
    "\n",
    "    During stratified train/test splitting, \n",
    "    some domains such as PoliticsNews, WorldNews, and Left-News \n",
    "    contain only one class(all real or all fake) in the test set\n",
    "\n",
    "    Result:\n",
    "        - The model cannot predict the missing class\n",
    "        - Metrics like precision, recall, and F1 for that class are undefined and default to 0.0\n",
    "        - This probably is not a model issue, but a reflection of class imbalance within specific domains\n",
    "\n",
    "\n",
    "    Despite the class imbalance in some domains, the model maintained very high performance \n",
    "    wherever both classes were present\n",
    "    This means that while the model generalizes well, domain diversity and label balance\n",
    "    should be considered in future dataset preparation."
   ]
  },
  {
   "cell_type": "code",
   "execution_count": null,
   "id": "3afc5564",
   "metadata": {},
   "outputs": [],
   "source": []
  },
  {
   "cell_type": "code",
   "execution_count": 21,
   "id": "b1a7cac1",
   "metadata": {},
   "outputs": [
    {
     "name": "stdout",
     "output_type": "stream",
     "text": [
      "\n",
      "--- POLITICSNEWS ---\n",
      "              precision    recall  f1-score   support\n",
      "\n",
      "           0       0.00      0.00      0.00         0\n",
      "           1       1.00      0.98      0.99      2196\n",
      "\n",
      "    accuracy                           0.98      2196\n",
      "   macro avg       0.50      0.49      0.50      2196\n",
      "weighted avg       1.00      0.98      0.99      2196\n",
      "\n",
      "\n",
      "--- NEWS ---\n",
      "              precision    recall  f1-score   support\n",
      "\n",
      "           0       1.00      1.00      1.00      1771\n",
      "           1       0.00      0.00      0.00         0\n",
      "\n",
      "    accuracy                           1.00      1771\n",
      "   macro avg       0.50      0.50      0.50      1771\n",
      "weighted avg       1.00      1.00      1.00      1771\n",
      "\n",
      "\n",
      "--- WORLDNEWS ---\n",
      "              precision    recall  f1-score   support\n",
      "\n",
      "           0       0.00      0.00      0.00         0\n",
      "           1       1.00      1.00      1.00      2088\n",
      "\n",
      "    accuracy                           1.00      2088\n",
      "   macro avg       0.50      0.50      0.50      2088\n",
      "weighted avg       1.00      1.00      1.00      2088\n",
      "\n",
      "\n",
      "--- MIDDLE-EAST ---\n",
      "              precision    recall  f1-score   support\n",
      "\n",
      "           0       1.00      0.98      0.99       173\n",
      "           1       0.00      0.00      0.00         0\n",
      "\n",
      "    accuracy                           0.98       173\n",
      "   macro avg       0.50      0.49      0.50       173\n",
      "weighted avg       1.00      0.98      0.99       173\n",
      "\n",
      "\n",
      "--- POLITICS ---\n",
      "              precision    recall  f1-score   support\n",
      "\n",
      "           0       1.00      0.98      0.99      1354\n",
      "           1       0.00      0.00      0.00         0\n",
      "\n",
      "    accuracy                           0.98      1354\n",
      "   macro avg       0.50      0.49      0.49      1354\n",
      "weighted avg       1.00      0.98      0.99      1354\n",
      "\n",
      "\n",
      "--- US_NEWS ---\n",
      "              precision    recall  f1-score   support\n",
      "\n",
      "           0       1.00      0.98      0.99       176\n",
      "           1       0.00      0.00      0.00         0\n",
      "\n",
      "    accuracy                           0.98       176\n",
      "   macro avg       0.50      0.49      0.49       176\n",
      "weighted avg       1.00      0.98      0.99       176\n",
      "\n",
      "\n",
      "--- LEFT-NEWS ---\n",
      "              precision    recall  f1-score   support\n",
      "\n",
      "           0       1.00      0.99      0.99       904\n",
      "           1       0.00      0.00      0.00         0\n",
      "\n",
      "    accuracy                           0.99       904\n",
      "   macro avg       0.50      0.49      0.50       904\n",
      "weighted avg       1.00      0.99      0.99       904\n",
      "\n",
      "\n",
      "--- GOVERNMENT NEWS ---\n",
      "              precision    recall  f1-score   support\n",
      "\n",
      "           0       1.00      0.96      0.98       318\n",
      "           1       0.00      0.00      0.00         0\n",
      "\n",
      "    accuracy                           0.96       318\n",
      "   macro avg       0.50      0.48      0.49       318\n",
      "weighted avg       1.00      0.96      0.98       318\n",
      "\n"
     ]
    }
   ],
   "source": [
    "df_eval= pd.DataFrame({'subject': subj_test,\n",
    "                       'true': y_test,\n",
    "                       'pred': y_pred\n",
    "                      })\n",
    "\n",
    "from sklearn.metrics import classification_report\n",
    "\n",
    "for domain in df_eval['subject'].unique():\n",
    "    print(f\"\\n--- {domain.upper()} ---\")\n",
    "    d= df_eval[df_eval['subject']== domain]\n",
    "    print(classification_report(d['true'], d['pred'], zero_division= 0))"
   ]
  },
  {
   "cell_type": "code",
   "execution_count": null,
   "id": "b1d52ebe",
   "metadata": {},
   "outputs": [],
   "source": []
  },
  {
   "cell_type": "markdown",
   "id": "15aba030",
   "metadata": {},
   "source": [
    "--- Feature Importance (Top Words) ---\n",
    "\n",
    "    To understand how LR model makes decisions, extracted and visualized \n",
    "    the most influential words based on the model's learned coefficients.\n",
    "\n",
    "    Each word's weight (positive or negative) indicates how strongly \n",
    "    it contributes to predicting an article as real or fake:\n",
    "            - Positive weights -> push the prediction toward real news\n",
    "            - Negative weights -> push the prediction toward fake news\n",
    "\n",
    "    Visualized the top 20 most influential features and\n",
    "    sorted by the absolute value of their coefficients.\n",
    "\n",
    "    - Words like \"reuters\", \"said\", and weekday names(e.g., wednesday, tuesday) are strongly \n",
    "      associated with real news\n",
    "      \n",
    "    - Words like \"video\", \"just\", \"hillary\", and \"gop\" are \n",
    "      associated with fake news"
   ]
  },
  {
   "cell_type": "code",
   "execution_count": null,
   "id": "6919774d",
   "metadata": {},
   "outputs": [],
   "source": []
  },
  {
   "cell_type": "code",
   "execution_count": 22,
   "id": "c2aee2ca",
   "metadata": {},
   "outputs": [],
   "source": [
    "feat_names= tfidf.get_feature_names_out()\n",
    "coef= lr.coef_[0]"
   ]
  },
  {
   "cell_type": "code",
   "execution_count": 23,
   "id": "4fe7ad1a",
   "metadata": {},
   "outputs": [],
   "source": [
    "feat_df= pd.DataFrame({'feature': feat_names,\n",
    "                           'weight': coef\n",
    "                          })\n",
    "\n",
    "top_feat= feat_df.reindex(np.argsort(np.abs(feat_df['weight']))[::-1]).head(20)"
   ]
  },
  {
   "cell_type": "code",
   "execution_count": 24,
   "id": "06337c18",
   "metadata": {},
   "outputs": [
    {
     "data": {
      "image/png": "[encoded data removed]",
      "text/plain": [
       "<Figure size 720x432 with 1 Axes>"
      ]
     },
     "metadata": {
      "needs_background": "light"
     },
     "output_type": "display_data"
    }
   ],
   "source": [
    "plt.figure(figsize= (10, 6))\n",
    "sns.barplot(data= top_feat, x= 'weight', y= 'feature')\n",
    "plt.title('Top 20 Most Influential Words')\n",
    "plt.tight_layout()\n",
    "plt.show()"
   ]
  },
  {
   "cell_type": "code",
   "execution_count": 25,
   "id": "5a675af8",
   "metadata": {},
   "outputs": [
    {
     "name": "stdout",
     "output_type": "stream",
     "text": [
      "Top 20 Most Influential Words (Ordered by Importance):\n",
      "\n",
      "137694. reuters (weight= 26.2478)\n",
      "141572. said (weight= 20.9961)\n",
      "174688. video (weight= -9.8488)\n",
      "83306. just (weight= -7.3496)\n",
      "177157. washington (weight= 6.6200)\n",
      "74875. image (weight= -6.5526)\n",
      "63805. gop (weight= -6.0835)\n",
      "70667. hillary (weight= -5.9564)\n",
      "178175. wednesday (weight= 5.9231)\n",
      "168907. tuesday (weight= 5.3618)\n",
      "164138. thursday (weight= 5.2882)\n",
      "6305. america (weight= -4.8351)\n",
      "180472. wire (weight= -4.7705)\n",
      "136419. republican (weight= 4.7597)\n",
      "59836. friday (weight= 4.7115)\n",
      "101028. monday (weight= 4.6910)\n",
      "90452. like (weight= -4.5069)\n",
      "102614. mr (weight= -4.3549)\n",
      "109632. obama (weight= -4.2888)\n",
      "74903. images (weight= -4.2585)\n"
     ]
    }
   ],
   "source": [
    "print(\"Top 20 Most Influential Words (Ordered by Importance):\\n\")\n",
    "\n",
    "for i, row in top_feat.iterrows():\n",
    "    print(f\"{i+1}. {row['feature']} (weight= {row['weight']:.4f})\")"
   ]
  },
  {
   "cell_type": "code",
   "execution_count": 26,
   "id": "11437046",
   "metadata": {},
   "outputs": [
    {
     "name": "stdout",
     "output_type": "stream",
     "text": [
      "['reuters', 'said', 'video', 'just', 'washington', 'image', 'gop', 'hillary', 'wednesday', 'tuesday', 'thursday', 'america', 'wire', 'republican', 'friday', 'monday', 'like', 'mr', 'obama', 'images']\n"
     ]
    }
   ],
   "source": [
    "top_words= top_feat['feature'].tolist()\n",
    "print(top_words)"
   ]
  },
  {
   "cell_type": "code",
   "execution_count": null,
   "id": "8a5386aa",
   "metadata": {},
   "outputs": [],
   "source": []
  },
  {
   "cell_type": "markdown",
   "id": "727b4d80",
   "metadata": {},
   "source": [
    "--- Top Predictors of Real News (positive weights) ----"
   ]
  },
  {
   "cell_type": "code",
   "execution_count": 27,
   "id": "d22a5269",
   "metadata": {},
   "outputs": [
    {
     "name": "stdout",
     "output_type": "stream",
     "text": [
      "Words that strongly indicate **Real** news:\n",
      "\n",
      "reuters (weight= 26.2478)\n",
      "said (weight= 20.9961)\n",
      "washington (weight= 6.6200)\n",
      "wednesday (weight= 5.9231)\n",
      "tuesday (weight= 5.3618)\n",
      "thursday (weight= 5.2882)\n",
      "republican (weight= 4.7597)\n",
      "friday (weight= 4.7115)\n",
      "monday (weight= 4.6910)\n"
     ]
    }
   ],
   "source": [
    "top_feat= top_feat.reset_index(drop= True)\n",
    "\n",
    "top_real= top_feat[top_feat['weight'] > 0].sort_values(by= 'weight', ascending= False)\n",
    "\n",
    "print(\"Words that strongly indicate **Real** news:\\n\")\n",
    "for i, row in top_real.iterrows():\n",
    "    print(f\"{row['feature']} (weight= {row['weight']:.4f})\")"
   ]
  },
  {
   "cell_type": "code",
   "execution_count": null,
   "id": "8ef89c84",
   "metadata": {},
   "outputs": [],
   "source": []
  },
  {
   "cell_type": "markdown",
   "id": "e9d89386",
   "metadata": {},
   "source": [
    "--- Top Predictors of Fake News (negative weights) ---"
   ]
  },
  {
   "cell_type": "code",
   "execution_count": 28,
   "id": "92fefaa8",
   "metadata": {},
   "outputs": [
    {
     "name": "stdout",
     "output_type": "stream",
     "text": [
      "\n",
      "Words that strongly indicate **Fake** news:\n",
      "\n",
      "video (weight= -9.8488)\n",
      "just (weight= -7.3496)\n",
      "image (weight= -6.5526)\n",
      "gop (weight= -6.0835)\n",
      "hillary (weight= -5.9564)\n",
      "america (weight= -4.8351)\n",
      "wire (weight= -4.7705)\n",
      "like (weight= -4.5069)\n",
      "mr (weight= -4.3549)\n",
      "obama (weight= -4.2888)\n",
      "images (weight= -4.2585)\n"
     ]
    }
   ],
   "source": [
    "top_fake= top_feat[top_feat['weight'] < 0].sort_values(by= 'weight')\n",
    "\n",
    "print(\"\\nWords that strongly indicate **Fake** news:\\n\")\n",
    "for i, row in top_fake.iterrows():\n",
    "    print(f\"{row['feature']} (weight= {row['weight']:.4f})\")"
   ]
  },
  {
   "cell_type": "code",
   "execution_count": null,
   "id": "89fe7bc2",
   "metadata": {},
   "outputs": [],
   "source": []
  },
  {
   "cell_type": "code",
   "execution_count": null,
   "id": "26427d28",
   "metadata": {},
   "outputs": [],
   "source": []
  },
  {
   "cell_type": "markdown",
   "id": "099ebc3b",
   "metadata": {},
   "source": [
    "--- Step 2 - Improvement ---"
   ]
  },
  {
   "cell_type": "code",
   "execution_count": null,
   "id": "4485f496",
   "metadata": {},
   "outputs": [],
   "source": []
  },
  {
   "cell_type": "code",
   "execution_count": null,
   "id": "c304bd4c",
   "metadata": {},
   "outputs": [],
   "source": []
  },
  {
   "cell_type": "markdown",
   "id": "d04534fd",
   "metadata": {},
   "source": [
    "--- Improvement 1 – TF-IDF with Bigrams ---\n",
    "\n",
    "    We tried to enhanced the TF-IDF vectorizer by including bigrams('ngram_range=(1, 2)'), \n",
    "    which allows the model to consider two-word phrases like:\n",
    "        - \"donald trump\"\n",
    "        - \"white house\"\n",
    "        - \"fake news\"\n",
    "\n",
    "    Results - Evaluation(LR with Bigrams):\n",
    "\n",
    "        - Accuracy (98.71%):  \n",
    "              The overall proportion of correctly predicted articles nearly 99% of predictions were correct\n",
    "\n",
    "        - Precision (98.22%):  \n",
    "              Of all the articles predicted as real, 98.22% were actually real \n",
    "  \n",
    "        - Recall (99%):  \n",
    "              Out of all actual real news articles, 99% were correctly identified  \n",
    "              This shows how well the model captures true positives\n",
    "\n",
    "        - F1 Score (99%):  \n",
    "              A high F1 score indicates strong, consistent performance across both classes\n",
    "\n",
    "        - AUC (0.9872):  \n",
    "              AUC close to 1 means near-perfect separability\n",
    "\n",
    "\n",
    "    While bigrams help capture multi-word expressions that may signal credibility or bias, \n",
    "    the overall performance remained close to the unigram-based baseline\n",
    "    This indicates that the dataset is already highly separable using unigrams alone"
   ]
  },
  {
   "cell_type": "code",
   "execution_count": null,
   "id": "1bdd9002",
   "metadata": {},
   "outputs": [],
   "source": []
  },
  {
   "cell_type": "code",
   "execution_count": 29,
   "id": "f7f0d2ab",
   "metadata": {},
   "outputs": [],
   "source": [
    "tfidf_bigram= TfidfVectorizer(stop_words= 'english',\n",
    "                              max_df= 0.8,\n",
    "                              ngram_range= (1, 2)\n",
    "                             )\n",
    "\n",
    "X_train_vec_bigram= tfidf_bigram.fit_transform(X_train)\n",
    "X_test_vec_bigram= tfidf_bigram.transform(X_test)"
   ]
  },
  {
   "cell_type": "code",
   "execution_count": 30,
   "id": "d1ab3a96",
   "metadata": {},
   "outputs": [
    {
     "name": "stdout",
     "output_type": "stream",
     "text": [
      "Classification Report (LogReg with Bigrams):\n",
      "              precision    recall  f1-score   support\n",
      "\n",
      "           0       0.99      0.98      0.99      4696\n",
      "           1       0.98      0.99      0.99      4284\n",
      "\n",
      "    accuracy                           0.99      8980\n",
      "   macro avg       0.99      0.99      0.99      8980\n",
      "weighted avg       0.99      0.99      0.99      8980\n",
      "\n",
      "Precision: 0.9821841739935215\n",
      "Accuracy: 0.9870824053452116\n",
      "AUC: 0.9872497124914702\n"
     ]
    },
    {
     "data": {
      "text/plain": [
       "<sklearn.metrics._plot.confusion_matrix.ConfusionMatrixDisplay at 0x18c0455a9d0>"
      ]
     },
     "execution_count": 30,
     "metadata": {},
     "output_type": "execute_result"
    },
    {
     "data": {
      "image/png": "[encoded data removed]",
      "text/plain": [
       "<Figure size 432x288 with 2 Axes>"
      ]
     },
     "metadata": {
      "needs_background": "light"
     },
     "output_type": "display_data"
    }
   ],
   "source": [
    "lr_bigram= LogisticRegression(max_iter= 1000)\n",
    "lr_bigram.fit(X_train_vec_bigram, y_train)\n",
    "\n",
    "y_pred_bigram= lr_bigram.predict(X_test_vec_bigram)\n",
    "\n",
    "cm_bigram= confusion_matrix(y_test, y_pred_bigram, labels= lr_bigram.classes_)\n",
    "\n",
    "print(\"Classification Report (LogReg with Bigrams):\")\n",
    "print(classification_report(y_test, y_pred_bigram))\n",
    "print('Precision:', precision_score(y_test, y_pred_bigram))\n",
    "print('Accuracy:', accuracy_score(y_test, y_pred_bigram))\n",
    "print('AUC:', roc_auc_score(y_test, y_pred_bigram))\n",
    "\n",
    "disp_bigram= ConfusionMatrixDisplay(cm_bigram, display_labels= lr_bigram.classes_)\n",
    "disp_bigram.plot()"
   ]
  },
  {
   "cell_type": "code",
   "execution_count": null,
   "id": "7e90e4f2",
   "metadata": {},
   "outputs": [],
   "source": []
  },
  {
   "cell_type": "markdown",
   "id": "c9b00e52",
   "metadata": {},
   "source": [
    "---  Improvement 2 – XGBoost ---\n",
    "\n",
    "    We trained an XGBoost classifier, a powerful tree-based ensemble model known \n",
    "    for its robustness, high performance, and ability to handle \n",
    "    sparse data well — such as our TF-IDF matrix\n",
    "\n",
    "    XGBoost is a non-linear model, which allows it to capture complex relationships \n",
    "    in the data that linear models like Logistic Regression may miss\n",
    "\n",
    "    Results - Evaluation (XGBoost on Unigram TF-IDF):\n",
    "\n",
    "        - Accuracy (99.78%):  \n",
    "              Nearly all articles were correctly classified, showing a strong model fit\n",
    "\n",
    "        - Precision (99.79%):  \n",
    "              Of all predicted real news articles, 99.79% were correct, indicating very low false positives\n",
    "\n",
    "        - Recall (100%):  \n",
    "              The model successfully identified all real news articles in the test set meaning zero false negatives\n",
    "\n",
    "        - F1 Score (1.00):  \n",
    "              Perfect balance between precision and recall\n",
    "\n",
    "        - AUC (0.9978):  \n",
    "              The ROC-AUC score shows near-perfect class separability across thresholds\n",
    "\n",
    "\n",
    "    XGBoost significantly outperformed both Logistic Regression models\n",
    "\n",
    "    This shows us that non-linear, tree-based models are highly effective\n",
    "    in detecting fake news, even when working with high-dimensional, sparse TF-IDF features"
   ]
  },
  {
   "cell_type": "code",
   "execution_count": null,
   "id": "054c5a0d",
   "metadata": {},
   "outputs": [],
   "source": []
  },
  {
   "cell_type": "code",
   "execution_count": 31,
   "id": "3d4139c7",
   "metadata": {},
   "outputs": [
    {
     "name": "stdout",
     "output_type": "stream",
     "text": [
      "Classification Report (XGBoost):\n",
      "              precision    recall  f1-score   support\n",
      "\n",
      "           0       1.00      1.00      1.00      4696\n",
      "           1       1.00      1.00      1.00      4284\n",
      "\n",
      "    accuracy                           1.00      8980\n",
      "   macro avg       1.00      1.00      1.00      8980\n",
      "weighted avg       1.00      1.00      1.00      8980\n",
      "\n",
      "Precision: 0.9978981784212985\n",
      "Accuracy: 0.9977728285077951\n",
      "AUC: 0.9977578907769808\n"
     ]
    },
    {
     "data": {
      "text/plain": [
       "<sklearn.metrics._plot.confusion_matrix.ConfusionMatrixDisplay at 0x18c1dddd8e0>"
      ]
     },
     "execution_count": 31,
     "metadata": {},
     "output_type": "execute_result"
    },
    {
     "data": {
      "image/png": "[encoded data removed]",
      "text/plain": [
       "<Figure size 432x288 with 2 Axes>"
      ]
     },
     "metadata": {
      "needs_background": "light"
     },
     "output_type": "display_data"
    }
   ],
   "source": [
    "from xgboost import XGBClassifier\n",
    "\n",
    "xgb= XGBClassifier(use_label_encoder= False, eval_metric= 'logloss', random_state= 42)\n",
    "xgb.fit(X_train_vec, y_train)\n",
    "\n",
    "y_pred_xgb= xgb.predict(X_test_vec)\n",
    "\n",
    "cm_xgb= confusion_matrix(y_test, y_pred_xgb, labels= xgb.classes_)\n",
    "\n",
    "print(\"Classification Report (XGBoost):\")\n",
    "print(classification_report(y_test, y_pred_xgb))\n",
    "print('Precision:', precision_score(y_test, y_pred_xgb))\n",
    "print('Accuracy:', accuracy_score(y_test, y_pred_xgb))\n",
    "print('AUC:', roc_auc_score(y_test, y_pred_xgb))\n",
    "\n",
    "disp_xgb= ConfusionMatrixDisplay(cm_xgb, display_labels= xgb.classes_)\n",
    "disp_xgb.plot()"
   ]
  },
  {
   "cell_type": "code",
   "execution_count": null,
   "id": "fb6514e1",
   "metadata": {},
   "outputs": [],
   "source": []
  },
  {
   "cell_type": "markdown",
   "id": "c0ce0531",
   "metadata": {},
   "source": [
    "--- Final Improvement ---\n",
    "\n",
    "    Finally we tried to enhanced our feature set by including domain metadata ('subject' column) \n",
    "    with the TF-IDF text features\n",
    "\n",
    "    We used:\n",
    "        - One-hot encoding for the 'subject' field (e.g., Politics, WorldNews, US_News)\n",
    "        - Combined it with the sparse TF-IDF matrix using 'scipy.sparse.hstack'\n",
    "\n",
    "    Then we trained a LR model on the combined feature matrix\n",
    "\n",
    "    Results - Evaluation (LogReg + TF-IDF + 'subject'):\n",
    "\n",
    "        - Accuracy (100%):  \n",
    "              Every article in the test set was correctly classified\n",
    "\n",
    "        - Precision (1.0):  \n",
    "              All articles predicted as real were truly real\n",
    "\n",
    "        - Recall (1.0):  \n",
    "              All real news articles were correctly captured — no false negatives\n",
    "\n",
    "        - F1 Score (1.0):  \n",
    "              Perfect balance between precision and recall.\n",
    "\n",
    "        - AUC (1.0):  \n",
    "              The model achieved perfect separability between fake and real news.\n",
    "\n",
    "    What does that mean in real world:\n",
    "\n",
    "        While these results are impressive, such perfect performance in \n",
    "        real-world datasets is rare and may indicate:\n",
    "            - Data leakage or Overfitting \n",
    "            - Strong correlation between the 'subject' and the label, allowing the model \n",
    "                to \"shortcut\" classification without relying solely on article content\n",
    "\n",
    "    This doesn't invalidate the result, it emphasizes the importance of understanding \n",
    "    feature interactions and validating models on truly unseen or diverse data\n",
    "\n",
    "\n",
    "    By combining textual and categorical metadata, we were able to build a highly accurate and interpretable model\n",
    "    This shows how integrating multiple data sources can significantly enhance model performance in NLP tasks"
   ]
  },
  {
   "cell_type": "code",
   "execution_count": null,
   "id": "56385a70",
   "metadata": {},
   "outputs": [],
   "source": []
  },
  {
   "cell_type": "code",
   "execution_count": 34,
   "id": "c4bcbb7f",
   "metadata": {},
   "outputs": [
    {
     "name": "stderr",
     "output_type": "stream",
     "text": [
      "C:\\Users\\User\\anaconda3\\lib\\site-packages\\sklearn\\preprocessing\\_encoders.py:868: FutureWarning: `sparse` was renamed to `sparse_output` in version 1.2 and will be removed in 1.4. `sparse_output` is ignored unless you leave `sparse` to its default value.\n",
      "  warnings.warn(\n"
     ]
    }
   ],
   "source": [
    "from sklearn.preprocessing import OneHotEncoder\n",
    "\n",
    "enc= OneHotEncoder(handle_unknown= 'ignore', sparse= True)\n",
    "subj_train_enc= enc.fit_transform(subj_train.values.reshape(-1, 1))\n",
    "subj_test_enc= enc.transform(subj_test.values.reshape(-1, 1))"
   ]
  },
  {
   "cell_type": "code",
   "execution_count": 35,
   "id": "9eba1cc2",
   "metadata": {},
   "outputs": [
    {
     "name": "stdout",
     "output_type": "stream",
     "text": [
      "Classification Report (LogReg + Subject):\n",
      "              precision    recall  f1-score   support\n",
      "\n",
      "           0       1.00      1.00      1.00      4696\n",
      "           1       1.00      1.00      1.00      4284\n",
      "\n",
      "    accuracy                           1.00      8980\n",
      "   macro avg       1.00      1.00      1.00      8980\n",
      "weighted avg       1.00      1.00      1.00      8980\n",
      "\n",
      "Precision: 1.0\n",
      "Accuracy: 1.0\n",
      "AUC: 1.0\n"
     ]
    },
    {
     "data": {
      "text/plain": [
       "<sklearn.metrics._plot.confusion_matrix.ConfusionMatrixDisplay at 0x18c20fc8c40>"
      ]
     },
     "execution_count": 35,
     "metadata": {},
     "output_type": "execute_result"
    },
    {
     "data": {
      "image/png": "[encoded data removed]",
      "text/plain": [
       "<Figure size 432x288 with 2 Axes>"
      ]
     },
     "metadata": {
      "needs_background": "light"
     },
     "output_type": "display_data"
    }
   ],
   "source": [
    "from scipy.sparse import hstack\n",
    "\n",
    "X_train_comb= hstack([X_train_vec, subj_train_enc])\n",
    "X_test_comb= hstack([X_test_vec, subj_test_enc])\n",
    "\n",
    "lr_comb= LogisticRegression(max_iter= 1000)\n",
    "lr_comb.fit(X_train_comb, y_train)\n",
    "\n",
    "y_pred_comb= lr_comb.predict(X_test_comb)\n",
    "\n",
    "cm_comb= confusion_matrix(y_test, y_pred_comb, labels=lr_comb.classes_)\n",
    "\n",
    "print(\"Classification Report (LogReg + Subject):\")\n",
    "print(classification_report(y_test, y_pred_comb))\n",
    "print('Precision:', precision_score(y_test, y_pred_comb))\n",
    "print('Accuracy:', accuracy_score(y_test, y_pred_comb))\n",
    "print('AUC:', roc_auc_score(y_test, y_pred_comb))\n",
    "\n",
    "disp_comb= ConfusionMatrixDisplay(cm_comb, display_labels= lr_comb.classes_)\n",
    "disp_comb.plot()"
   ]
  },
  {
   "cell_type": "code",
   "execution_count": null,
   "id": "7565d293",
   "metadata": {},
   "outputs": [],
   "source": []
  },
  {
   "cell_type": "code",
   "execution_count": null,
   "id": "f1a5412e",
   "metadata": {},
   "outputs": [],
   "source": []
  },
  {
   "cell_type": "code",
   "execution_count": null,
   "id": "c423a8b4",
   "metadata": {},
   "outputs": [],
   "source": []
  },
  {
   "cell_type": "code",
   "execution_count": null,
   "id": "92fe6a14",
   "metadata": {},
   "outputs": [],
   "source": []
  },
  {
   "cell_type": "code",
   "execution_count": null,
   "id": "44ee5539",
   "metadata": {},
   "outputs": [],
   "source": []
  },
  {
   "cell_type": "code",
   "execution_count": null,
   "id": "21ff91c9",
   "metadata": {},
   "outputs": [],
   "source": []
  },
  {
   "cell_type": "code",
   "execution_count": null,
   "id": "22e0d663",
   "metadata": {},
   "outputs": [],
   "source": []
  },
  {
   "cell_type": "code",
   "execution_count": null,
   "id": "befc6fb5",
   "metadata": {},
   "outputs": [],
   "source": []
  },
  {
   "cell_type": "code",
   "execution_count": null,
   "id": "f8aaf8a6",
   "metadata": {},
   "outputs": [],
   "source": []
  },
  {
   "cell_type": "code",
   "execution_count": null,
   "id": "6d02455d",
   "metadata": {},
   "outputs": [],
   "source": []
  }
 ],
 "metadata": {
  "kernelspec": {
   "display_name": "Python 3 (ipykernel)",
   "language": "python",
   "name": "python3"
  },
  "language_info": {
   "codemirror_mode": {
    "name": "ipython",
    "version": 3
   },
   "file_extension": ".py",
   "mimetype": "text/x-python",
   "name": "python",
   "nbconvert_exporter": "python",
   "pygments_lexer": "ipython3",
   "version": "3.9.12"
  }
 },
 "nbformat": 4,
 "nbformat_minor": 5
}
