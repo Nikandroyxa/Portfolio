{
 "cells": [
  {
   "cell_type": "code",
   "execution_count": 1,
   "id": "f807d5eb",
   "metadata": {},
   "outputs": [],
   "source": [
    "import pandas as pd\n",
    "import seaborn as sns\n",
    "import matplotlib.pyplot as plt\n",
    "import numpy as np\n",
    "\n",
    "df= pd.read_csv('C://Users//User//Desktop//MSc Westminster//Dissertation//DataSets//Heart_Disease_Indicators.csv')"
   ]
  },
  {
   "cell_type": "code",
   "execution_count": 2,
   "id": "8bc6ebfe",
   "metadata": {},
   "outputs": [
    {
     "name": "stdout",
     "output_type": "stream",
     "text": [
      "0    0.90582\n",
      "1    0.09418\n",
      "Name: HeartDiseaseorAttack, dtype: float64\n"
     ]
    }
   ],
   "source": [
    "from sklearn.model_selection import train_test_split\n",
    "\n",
    "target_size = 50000\n",
    "\n",
    "num_class_0 = int(target_size * df['HeartDiseaseorAttack'].value_counts(normalize=True)[0])\n",
    "num_class_1 = target_size - num_class_0\n",
    "\n",
    "df_class_0 = df[df['HeartDiseaseorAttack'] == 0]\n",
    "df_class_1 = df[df['HeartDiseaseorAttack'] == 1]\n",
    "\n",
    "df_class_0_sampled = df_class_0.sample(n=num_class_0, random_state=15)\n",
    "df_class_1_sampled = df_class_1.sample(n=num_class_1, random_state=15)\n",
    "\n",
    "df_sampled = pd.concat([df_class_0_sampled, df_class_1_sampled])\n",
    "\n",
    "df_sampled = df_sampled.sample(frac=1, random_state=15).reset_index(drop=True)\n",
    "df= df_sampled\n",
    "print(df['HeartDiseaseorAttack'].value_counts(normalize=True))"
   ]
  },
  {
   "cell_type": "code",
   "execution_count": 3,
   "id": "d77e531a",
   "metadata": {},
   "outputs": [
    {
     "data": {
      "text/plain": [
       "(48050, 22)"
      ]
     },
     "execution_count": 3,
     "metadata": {},
     "output_type": "execute_result"
    }
   ],
   "source": [
    "df.drop_duplicates(inplace= True)\n",
    "df.shape"
   ]
  },
  {
   "cell_type": "code",
   "execution_count": 4,
   "id": "bfa3c756",
   "metadata": {},
   "outputs": [
    {
     "name": "stdout",
     "output_type": "stream",
     "text": [
      "0    40175\n",
      "1     6968\n",
      "Name: Diabetes, dtype: int64\n"
     ]
    }
   ],
   "source": [
    "df= df[df['Diabetes'] != 1].copy()\n",
    "df.loc[df['Diabetes'] == 2, 'Diabetes'] = 1\n",
    "print(df['Diabetes'].value_counts())"
   ]
  },
  {
   "cell_type": "code",
   "execution_count": 5,
   "id": "453b65ff",
   "metadata": {},
   "outputs": [],
   "source": [
    "categorical_columns= ['HighBP', 'HighChol', 'CholCheck', 'Smoker', 'Stroke', 'Diabetes', 'PhysActivity',\n",
    "                      'Fruits', 'Veggies', 'HvyAlcoholConsump', 'AnyHealthcare', 'NoDocbcCost', 'DiffWalk',\n",
    "                      'Sex', 'Age', 'Education', 'Income'\n",
    "                     ]\n",
    "df[categorical_columns]= df[categorical_columns].astype(str)\n",
    "df= pd.get_dummies(df, columns= categorical_columns, drop_first= True)"
   ]
  },
  {
   "cell_type": "code",
   "execution_count": null,
   "id": "abd0aa2d",
   "metadata": {},
   "outputs": [],
   "source": []
  },
  {
   "cell_type": "code",
   "execution_count": 6,
   "id": "151027e8",
   "metadata": {},
   "outputs": [],
   "source": [
    "X= df.drop(['HeartDiseaseorAttack'], axis= 1)\n",
    "y= df['HeartDiseaseorAttack']"
   ]
  },
  {
   "cell_type": "code",
   "execution_count": 7,
   "id": "e49eb021",
   "metadata": {},
   "outputs": [],
   "source": [
    "from sklearn.model_selection import train_test_split\n",
    "X_train, X_test, y_train, y_test= train_test_split(X, y, test_size= 0.2, random_state= 15, stratify= y)\n",
    "\n",
    "continuous_columns = ['BMI', 'GenHlth', 'MentHlth', 'PhysHlth']\n",
    "\n",
    "from sklearn.preprocessing import StandardScaler\n",
    "ss= StandardScaler()\n",
    "X_train= ss.fit_transform(X_train)\n",
    "X_test= ss.transform(X_test)"
   ]
  },
  {
   "cell_type": "code",
   "execution_count": null,
   "id": "6b0826cd",
   "metadata": {},
   "outputs": [],
   "source": []
  },
  {
   "cell_type": "markdown",
   "id": "d0bf5ba8",
   "metadata": {},
   "source": [
    "--- LogisticRegression ---"
   ]
  },
  {
   "cell_type": "code",
   "execution_count": null,
   "id": "0f982495",
   "metadata": {},
   "outputs": [],
   "source": []
  },
  {
   "cell_type": "code",
   "execution_count": 8,
   "id": "790b3cfb",
   "metadata": {},
   "outputs": [
    {
     "name": "stdout",
     "output_type": "stream",
     "text": [
      "              precision    recall  f1-score   support\n",
      "\n",
      "           0       0.97      0.75      0.84      8517\n",
      "           1       0.25      0.81      0.39       912\n",
      "\n",
      "    accuracy                           0.75      9429\n",
      "   macro avg       0.61      0.78      0.61      9429\n",
      "weighted avg       0.90      0.75      0.80      9429\n",
      "\n",
      "Precision: 0.25318197454420366\n",
      "Accuracy: 0.7510870717997666\n",
      "AUC: 0.7760577915376676\n"
     ]
    }
   ],
   "source": [
    "from sklearn.metrics import confusion_matrix, classification_report, precision_score, roc_auc_score, accuracy_score\n",
    "from sklearn.linear_model import LogisticRegression\n",
    "lr_cs= LogisticRegression(random_state=15, class_weight= 'balanced', max_iter= 1000)\n",
    "lr_cs.fit(X_train, y_train)\n",
    "y_pred_lr_cs= lr_cs.predict(X_test)\n",
    "y_pred_prob_lr_cs= lr_cs.predict_proba(X_test)[:,1]\n",
    "\n",
    "cm= confusion_matrix(y_test, y_pred_lr_cs, labels= lr_cs.classes_)\n",
    "print(classification_report(y_test, y_pred_lr_cs, zero_division= 0))\n",
    "print('Precision:', precision_score(y_test, y_pred_lr_cs, zero_division= 0))\n",
    "print('Accuracy:', accuracy_score(y_test, y_pred_lr_cs))\n",
    "print('AUC:', roc_auc_score(y_test, y_pred_lr_cs))"
   ]
  },
  {
   "cell_type": "code",
   "execution_count": null,
   "id": "63f446a5",
   "metadata": {},
   "outputs": [],
   "source": []
  },
  {
   "cell_type": "markdown",
   "id": "935a91fa",
   "metadata": {},
   "source": [
    "--- DecisionTreeClassifier ---"
   ]
  },
  {
   "cell_type": "code",
   "execution_count": null,
   "id": "17227aab",
   "metadata": {},
   "outputs": [],
   "source": []
  },
  {
   "cell_type": "code",
   "execution_count": 9,
   "id": "4f328e19",
   "metadata": {},
   "outputs": [
    {
     "name": "stdout",
     "output_type": "stream",
     "text": [
      "              precision    recall  f1-score   support\n",
      "\n",
      "           0       0.92      0.92      0.92      8517\n",
      "           1       0.23      0.22      0.22       912\n",
      "\n",
      "    accuracy                           0.85      9429\n",
      "   macro avg       0.57      0.57      0.57      9429\n",
      "weighted avg       0.85      0.85      0.85      9429\n",
      "\n",
      "Precision: 0.22591362126245848\n",
      "Accuracy: 0.8507795100222717\n",
      "AUC: 0.5709979035736577\n"
     ]
    }
   ],
   "source": [
    "from sklearn.tree import DecisionTreeClassifier\n",
    "dt_cs= DecisionTreeClassifier(class_weight= 'balanced', random_state= 15)\n",
    "dt_cs.fit(X_train, y_train)\n",
    "y_pred_dt_cs= dt_cs.predict(X_test)\n",
    "y_pred_prob_dt_cs= dt_cs.predict_proba(X_test)[:,1]\n",
    "\n",
    "cm= confusion_matrix(y_test, y_pred_dt_cs, labels= dt_cs.classes_)\n",
    "print(classification_report(y_test, y_pred_dt_cs, zero_division= 0))\n",
    "print('Precision:', precision_score(y_test, y_pred_dt_cs, zero_division= 0))\n",
    "print('Accuracy:', accuracy_score(y_test, y_pred_dt_cs))\n",
    "print('AUC:', roc_auc_score(y_test, y_pred_prob_dt_cs))"
   ]
  },
  {
   "cell_type": "markdown",
   "id": "2b5ed7fc",
   "metadata": {},
   "source": [
    "--- Tuned - DecisionTreeClassifier ---"
   ]
  },
  {
   "cell_type": "code",
   "execution_count": null,
   "id": "8ca0fbe2",
   "metadata": {},
   "outputs": [],
   "source": []
  },
  {
   "cell_type": "code",
   "execution_count": 10,
   "id": "cb57a7c9",
   "metadata": {},
   "outputs": [
    {
     "name": "stdout",
     "output_type": "stream",
     "text": [
      "Best Parameters: {'criterion': 'entropy', 'max_depth': 40, 'max_features': 'sqrt', 'min_samples_leaf': 1, 'min_samples_split': 2}\n",
      "Best Precision Score: 0.24502888724061084\n"
     ]
    }
   ],
   "source": [
    "from sklearn.model_selection import GridSearchCV\n",
    "param_grid= {\n",
    "             'max_depth': [None, 10, 20, 30, 40, 50],\n",
    "             'min_samples_split': [2, 10, 20],\n",
    "             'min_samples_leaf': [1, 5, 10],\n",
    "             'max_features': [None, 'sqrt', 'log2'],\n",
    "             'criterion': ['gini', 'entropy']\n",
    "            }\n",
    "\n",
    "gs_dt_cs= GridSearchCV(estimator= dt_cs, param_grid= param_grid, cv= 5, scoring= 'precision')\n",
    "gs_dt_cs.fit(X_train, y_train)\n",
    "\n",
    "print(\"Best Parameters:\", gs_dt_cs.best_params_)\n",
    "print(\"Best Precision Score:\", gs_dt_cs.best_score_)"
   ]
  },
  {
   "cell_type": "code",
   "execution_count": 11,
   "id": "3e0146a2",
   "metadata": {},
   "outputs": [
    {
     "name": "stdout",
     "output_type": "stream",
     "text": [
      "              precision    recall  f1-score   support\n",
      "\n",
      "           0       0.92      0.92      0.92      8517\n",
      "           1       0.24      0.24      0.24       912\n",
      "\n",
      "    accuracy                           0.85      9429\n",
      "   macro avg       0.58      0.58      0.58      9429\n",
      "weighted avg       0.85      0.85      0.85      9429\n",
      "\n",
      "Precision: 0.24282560706401765\n",
      "Accuracy: 0.8538551277972214\n",
      "AUC: 0.5805823852810374\n"
     ]
    }
   ],
   "source": [
    "tuned_dt_cs= gs_dt_cs.best_estimator_\n",
    "y_pred_tuned_dt_cs= tuned_dt_cs.predict(X_test)\n",
    "y_pred_prob_tuned_dt_cs= tuned_dt_cs.predict_proba(X_test)[:,1]\n",
    "\n",
    "cm= confusion_matrix(y_test, y_pred_tuned_dt_cs, labels= tuned_dt_cs.classes_)\n",
    "print(classification_report(y_test, y_pred_tuned_dt_cs, zero_division= 0))\n",
    "print('Precision:', precision_score(y_test, y_pred_tuned_dt_cs, zero_division= 0))\n",
    "print('Accuracy:', accuracy_score(y_test, y_pred_tuned_dt_cs))\n",
    "print('AUC:', roc_auc_score(y_test, y_pred_prob_tuned_dt_cs))"
   ]
  },
  {
   "cell_type": "code",
   "execution_count": null,
   "id": "04681239",
   "metadata": {},
   "outputs": [],
   "source": []
  },
  {
   "cell_type": "markdown",
   "id": "0cc62ec3",
   "metadata": {},
   "source": [
    "--- SVM ---"
   ]
  },
  {
   "cell_type": "code",
   "execution_count": null,
   "id": "d446f144",
   "metadata": {},
   "outputs": [],
   "source": []
  },
  {
   "cell_type": "code",
   "execution_count": 12,
   "id": "f655fef3",
   "metadata": {},
   "outputs": [
    {
     "name": "stdout",
     "output_type": "stream",
     "text": [
      "              precision    recall  f1-score   support\n",
      "\n",
      "           0       0.90      0.98      0.94      8517\n",
      "           1       0.15      0.03      0.05       912\n",
      "\n",
      "    accuracy                           0.89      9429\n",
      "   macro avg       0.53      0.51      0.50      9429\n",
      "weighted avg       0.83      0.89      0.86      9429\n",
      "\n",
      "Precision: 0.15204678362573099\n",
      "Accuracy: 0.8906564853112737\n",
      "AUC: 0.6954538420578863\n"
     ]
    }
   ],
   "source": [
    "from sklearn.svm import SVC\n",
    "svc_cs= SVC(kernel= 'rbf',probability= True, class_weight= 'balanced', gamma= 1, random_state= 15)\n",
    "svc_cs.fit(X_train, y_train)\n",
    "y_pred_svc_cs= svc_cs.predict(X_test)\n",
    "y_pred_prob_svc_cs= svc_cs.predict_proba(X_test)[:,1]\n",
    "\n",
    "cm= confusion_matrix(y_test, y_pred_svc_cs, labels= svc_cs.classes_)\n",
    "print(classification_report(y_test, y_pred_svc_cs, zero_division= 0))\n",
    "print('Precision:', precision_score(y_test, y_pred_svc_cs, zero_division= 0))\n",
    "print('Accuracy:', accuracy_score(y_test, y_pred_svc_cs))\n",
    "print('AUC:', roc_auc_score(y_test, y_pred_prob_svc_cs))"
   ]
  },
  {
   "cell_type": "code",
   "execution_count": null,
   "id": "b64e4268",
   "metadata": {},
   "outputs": [],
   "source": []
  },
  {
   "cell_type": "markdown",
   "id": "04c79ba0",
   "metadata": {},
   "source": [
    "--- Random Forest ---"
   ]
  },
  {
   "cell_type": "code",
   "execution_count": null,
   "id": "69542e4d",
   "metadata": {},
   "outputs": [],
   "source": []
  },
  {
   "cell_type": "code",
   "execution_count": 13,
   "id": "23d9f00e",
   "metadata": {},
   "outputs": [],
   "source": [
    "from sklearn.ensemble import RandomForestClassifier\n",
    "rf_cs= RandomForestClassifier(class_weight= 'balanced', random_state= 15)\n",
    "rf_cs.fit(X_train, y_train)\n",
    "y_pred_rf_cs= rf_cs.predict(X_test)\n",
    "y_pred_prob_rf_cs= rf_cs.predict_proba(X_test)[:,1]"
   ]
  },
  {
   "cell_type": "code",
   "execution_count": 14,
   "id": "4a3a4ca9",
   "metadata": {
    "scrolled": false
   },
   "outputs": [
    {
     "name": "stdout",
     "output_type": "stream",
     "text": [
      "              precision    recall  f1-score   support\n",
      "\n",
      "           0       0.91      0.99      0.95      8517\n",
      "           1       0.39      0.06      0.10       912\n",
      "\n",
      "    accuracy                           0.90      9429\n",
      "   macro avg       0.65      0.52      0.52      9429\n",
      "weighted avg       0.86      0.90      0.87      9429\n",
      "\n",
      "Precision: 0.38848920863309355\n",
      "Accuracy: 0.8999893944214656\n",
      "AUC: 0.8204212704621716\n"
     ]
    }
   ],
   "source": [
    "cm= confusion_matrix(y_test, y_pred_rf_cs, labels= rf_cs.classes_)\n",
    "print(classification_report(y_test, y_pred_rf_cs, zero_division= 0))\n",
    "print('Precision:', precision_score(y_test, y_pred_rf_cs, zero_division= 0))\n",
    "print('Accuracy:', accuracy_score(y_test, y_pred_rf_cs))\n",
    "print('AUC:', roc_auc_score(y_test, y_pred_prob_rf_cs))"
   ]
  },
  {
   "cell_type": "code",
   "execution_count": 15,
   "id": "f30d7119",
   "metadata": {},
   "outputs": [
    {
     "name": "stdout",
     "output_type": "stream",
     "text": [
      "Fitting 5 folds for each of 108 candidates, totalling 540 fits\n",
      "Best Parameters: {'max_depth': None, 'min_samples_leaf': 1, 'min_samples_split': 2, 'n_estimators': 300}\n",
      "Best Precision Score: 0.45930032763163126\n"
     ]
    }
   ],
   "source": [
    "param_grid= {\n",
    "             'n_estimators': [100, 200, 300],\n",
    "             'max_depth': [None, 10, 20, 30],\n",
    "             'min_samples_split': [2, 5, 10],\n",
    "             'min_samples_leaf': [1, 2, 4],\n",
    "            }\n",
    "\n",
    "gs_tuned_rf_cs= GridSearchCV(estimator= rf_cs, param_grid= param_grid, cv= 5, scoring= 'precision', n_jobs= -1, verbose= 2)\n",
    "gs_tuned_rf_cs.fit(X_train, y_train)\n",
    "print(\"Best Parameters:\", gs_tuned_rf_cs.best_params_)\n",
    "print(\"Best Precision Score:\", gs_tuned_rf_cs.best_score_)"
   ]
  },
  {
   "cell_type": "code",
   "execution_count": 16,
   "id": "741c1f08",
   "metadata": {},
   "outputs": [
    {
     "name": "stdout",
     "output_type": "stream",
     "text": [
      "              precision    recall  f1-score   support\n",
      "\n",
      "           0       0.91      0.99      0.95      8517\n",
      "           1       0.38      0.05      0.09       912\n",
      "\n",
      "    accuracy                           0.90      9429\n",
      "   macro avg       0.64      0.52      0.52      9429\n",
      "weighted avg       0.86      0.90      0.86      9429\n",
      "\n",
      "Precision: 0.3790322580645161\n",
      "Accuracy: 0.9000954502068088\n",
      "AUC: 0.8253678401710511\n"
     ]
    }
   ],
   "source": [
    "tuned_rf_cs= gs_tuned_rf_cs.best_estimator_\n",
    "y_pred_tuned_rf_cs= tuned_rf_cs.predict(X_test)\n",
    "y_pred_prob_tuned_rf_cs= tuned_rf_cs.predict_proba(X_test)[:,1]\n",
    "\n",
    "cm= confusion_matrix(y_test, y_pred_tuned_rf_cs, labels= tuned_rf_cs.classes_)\n",
    "print(classification_report(y_test, y_pred_tuned_rf_cs, zero_division= 0))\n",
    "print('Precision:', precision_score(y_test, y_pred_tuned_rf_cs, zero_division= 0))\n",
    "print('Accuracy:', accuracy_score(y_test, y_pred_tuned_rf_cs))\n",
    "print('AUC:', roc_auc_score(y_test, y_pred_prob_tuned_rf_cs))"
   ]
  },
  {
   "cell_type": "markdown",
   "id": "73a70a30",
   "metadata": {},
   "source": [
    "--- AdaBoost ---"
   ]
  },
  {
   "cell_type": "code",
   "execution_count": 17,
   "id": "39e0218b",
   "metadata": {},
   "outputs": [],
   "source": [
    "from sklearn.ensemble import AdaBoostClassifier\n",
    "ada_cs= AdaBoostClassifier(random_state=15)\n",
    "ada_cs.fit(X_train, y_train, sample_weight= (y_train== 0).astype(int) + (y_train== 1).astype(int) * 2)\n",
    "y_pred_ada_cs= ada_cs.predict(X_test)\n",
    "y_pred_prob_ada_cs= ada_cs.predict_proba(X_test)[:,1]"
   ]
  },
  {
   "cell_type": "code",
   "execution_count": 18,
   "id": "342a43f8",
   "metadata": {
    "scrolled": false
   },
   "outputs": [
    {
     "name": "stdout",
     "output_type": "stream",
     "text": [
      "              precision    recall  f1-score   support\n",
      "\n",
      "           0       0.93      0.96      0.94      8517\n",
      "           1       0.45      0.31      0.37       912\n",
      "\n",
      "    accuracy                           0.90      9429\n",
      "   macro avg       0.69      0.63      0.65      9429\n",
      "weighted avg       0.88      0.90      0.89      9429\n",
      "\n",
      "Precision: 0.45032051282051283\n",
      "Accuracy: 0.8967016650758299\n",
      "AUC: 0.8531471628466494\n"
     ]
    }
   ],
   "source": [
    "cm= confusion_matrix(y_test, y_pred_ada_cs, labels= ada_cs.classes_)\n",
    "print(classification_report(y_test, y_pred_ada_cs, zero_division= 0))\n",
    "print('Precision:', precision_score(y_test, y_pred_ada_cs, zero_division= 0))\n",
    "print('Accuracy:', accuracy_score(y_test, y_pred_ada_cs))\n",
    "print('AUC:', roc_auc_score(y_test, y_pred_prob_ada_cs))"
   ]
  },
  {
   "cell_type": "code",
   "execution_count": 19,
   "id": "708588e4",
   "metadata": {},
   "outputs": [
    {
     "name": "stdout",
     "output_type": "stream",
     "text": [
      "Fitting 5 folds for each of 3 candidates, totalling 15 fits\n",
      "Best Parameters: {'n_estimators': 50}\n",
      "Best Precision Score: 0.4252253078879136\n"
     ]
    }
   ],
   "source": [
    "param_grid= {'n_estimators': [50, 100, 200]}\n",
    "\n",
    "gs_ada_cs= GridSearchCV(estimator= ada_cs, param_grid= param_grid, cv= 5, scoring= 'precision', n_jobs= -1, verbose= 2)\n",
    "gs_ada_cs.fit(X_train, y_train, sample_weight=(y_train == 0).astype(int) + (y_train == 1).astype(int) * 2)\n",
    "print(\"Best Parameters:\", gs_ada_cs.best_params_)\n",
    "print(\"Best Precision Score:\", gs_ada_cs.best_score_)"
   ]
  },
  {
   "cell_type": "code",
   "execution_count": 20,
   "id": "d85b3030",
   "metadata": {},
   "outputs": [
    {
     "name": "stdout",
     "output_type": "stream",
     "text": [
      "              precision    recall  f1-score   support\n",
      "\n",
      "           0       0.93      0.96      0.94      8517\n",
      "           1       0.45      0.31      0.37       912\n",
      "\n",
      "    accuracy                           0.90      9429\n",
      "   macro avg       0.69      0.63      0.65      9429\n",
      "weighted avg       0.88      0.90      0.89      9429\n",
      "\n",
      "Precision: 0.45032051282051283\n",
      "Accuracy: 0.8967016650758299\n",
      "AUC: 0.8531471628466494\n"
     ]
    }
   ],
   "source": [
    "tuned_ada_cs= gs_ada_cs.best_estimator_\n",
    "y_pred_tuned_ada_cs= tuned_ada_cs.predict(X_test)\n",
    "y_pred_prob_tuned_ada_cs= tuned_ada_cs.predict_proba(X_test)[:,1]\n",
    "\n",
    "cm= confusion_matrix(y_test, y_pred_tuned_ada_cs, labels= tuned_ada_cs.classes_)\n",
    "print(classification_report(y_test, y_pred_tuned_ada_cs, zero_division= 0))\n",
    "print('Precision:', precision_score(y_test, y_pred_tuned_ada_cs, zero_division= 0))\n",
    "print('Accuracy:', accuracy_score(y_test, y_pred_tuned_ada_cs))\n",
    "print('AUC:', roc_auc_score(y_test, y_pred_prob_tuned_ada_cs))"
   ]
  },
  {
   "cell_type": "code",
   "execution_count": null,
   "id": "260a91d7",
   "metadata": {},
   "outputs": [],
   "source": []
  },
  {
   "cell_type": "markdown",
   "id": "a74a4591",
   "metadata": {},
   "source": [
    "--- GradientBoosting ---"
   ]
  },
  {
   "cell_type": "code",
   "execution_count": 21,
   "id": "39fc7e71",
   "metadata": {
    "scrolled": false
   },
   "outputs": [
    {
     "name": "stdout",
     "output_type": "stream",
     "text": [
      "              precision    recall  f1-score   support\n",
      "\n",
      "           0       0.93      0.96      0.94      8517\n",
      "           1       0.46      0.29      0.36       912\n",
      "\n",
      "    accuracy                           0.90      9429\n",
      "   macro avg       0.69      0.63      0.65      9429\n",
      "weighted avg       0.88      0.90      0.89      9429\n",
      "\n",
      "Precision: 0.4570446735395189\n",
      "Accuracy: 0.897974334499947\n",
      "AUC: 0.8540342560493049\n"
     ]
    }
   ],
   "source": [
    "from sklearn.ensemble import GradientBoostingClassifier\n",
    "grb_cs= GradientBoostingClassifier(random_state= 15)\n",
    "grb_cs.fit(X_train, y_train, sample_weight= (y_train== 0).astype(int) + (y_train== 1).astype(int) * 2)\n",
    "y_pred_grb_cs= grb_cs.predict(X_test)\n",
    "y_pred_prob_grb_cs= grb_cs.predict_proba(X_test)[:,1]\n",
    "\n",
    "\n",
    "cm= confusion_matrix(y_test, y_pred_grb_cs, labels= grb_cs.classes_)\n",
    "print(classification_report(y_test, y_pred_grb_cs, zero_division= 0))\n",
    "print('Precision:', precision_score(y_test, y_pred_grb_cs, zero_division= 0))\n",
    "print('Accuracy:', accuracy_score(y_test, y_pred_grb_cs))\n",
    "print('AUC:', roc_auc_score(y_test, y_pred_prob_grb_cs))"
   ]
  },
  {
   "cell_type": "code",
   "execution_count": 22,
   "id": "1020da31",
   "metadata": {},
   "outputs": [
    {
     "name": "stdout",
     "output_type": "stream",
     "text": [
      "Fitting 5 folds for each of 3 candidates, totalling 15 fits\n",
      "Best Parameters: {'learning_rate': 0.01}\n",
      "Best Precision Score: 0.7094227504244481\n"
     ]
    }
   ],
   "source": [
    "param_grid= {'learning_rate': [0.01, 0.1, 0.2]}\n",
    "\n",
    "gs_grb_cs= GridSearchCV(estimator= grb_cs, param_grid= param_grid, cv= 5, scoring= 'precision', n_jobs= -1, verbose= 2)\n",
    "gs_grb_cs.fit(X_train, y_train, sample_weight= (y_train== 0).astype(int) + (y_train== 1).astype(int) * 2)\n",
    "\n",
    "print(\"Best Parameters:\", gs_grb_cs.best_params_)\n",
    "print(\"Best Precision Score:\", gs_grb_cs.best_score_)"
   ]
  },
  {
   "cell_type": "code",
   "execution_count": 23,
   "id": "9bb445f5",
   "metadata": {},
   "outputs": [
    {
     "name": "stdout",
     "output_type": "stream",
     "text": [
      "              precision    recall  f1-score   support\n",
      "\n",
      "           0       0.90      1.00      0.95      8517\n",
      "           1       0.58      0.02      0.03       912\n",
      "\n",
      "    accuracy                           0.90      9429\n",
      "   macro avg       0.74      0.51      0.49      9429\n",
      "weighted avg       0.87      0.90      0.86      9429\n",
      "\n",
      "Precision: 0.5769230769230769\n",
      "Accuracy: 0.9037013469084738\n",
      "AUC: 0.8301535473943753\n"
     ]
    }
   ],
   "source": [
    "tuned_grb_cs= gs_grb_cs.best_estimator_\n",
    "y_pred_tuned_grb_cs= tuned_grb_cs.predict(X_test)\n",
    "y_pred_prob_tuned_grb_cs= tuned_grb_cs.predict_proba(X_test)[:,1]\n",
    "\n",
    "cm= confusion_matrix(y_test, y_pred_tuned_grb_cs, labels= tuned_grb_cs.classes_)\n",
    "print(classification_report(y_test, y_pred_tuned_grb_cs, zero_division= 0))\n",
    "print('Precision:', precision_score(y_test, y_pred_tuned_grb_cs, zero_division= 0))\n",
    "print('Accuracy:', accuracy_score(y_test, y_pred_tuned_grb_cs))\n",
    "print('AUC:', roc_auc_score(y_test, y_pred_prob_tuned_grb_cs))"
   ]
  },
  {
   "cell_type": "code",
   "execution_count": null,
   "id": "c9496232",
   "metadata": {},
   "outputs": [],
   "source": []
  },
  {
   "cell_type": "markdown",
   "id": "29ff8e08",
   "metadata": {},
   "source": [
    "--- XGB ---"
   ]
  },
  {
   "cell_type": "code",
   "execution_count": 24,
   "id": "8943f6b5",
   "metadata": {
    "scrolled": false
   },
   "outputs": [
    {
     "name": "stdout",
     "output_type": "stream",
     "text": [
      "              precision    recall  f1-score   support\n",
      "\n",
      "           0       0.96      0.80      0.87      8517\n",
      "           1       0.26      0.65      0.37       912\n",
      "\n",
      "    accuracy                           0.79      9429\n",
      "   macro avg       0.61      0.73      0.62      9429\n",
      "weighted avg       0.89      0.79      0.82      9429\n",
      "\n",
      "Precision: 0.2624394539850286\n",
      "Accuracy: 0.7888429313819069\n",
      "AUC: 0.8139428058228229\n"
     ]
    }
   ],
   "source": [
    "from xgboost import XGBClassifier\n",
    "xgb_cs= XGBClassifier(scale_pos_weight= (y_train== 0).sum() / (y_train== 1).sum(), random_state= 15)\n",
    "xgb_cs.fit(X_train, y_train)\n",
    "y_pred_xgb_cs= xgb_cs.predict(X_test)\n",
    "y_pred_prob_xgb_cs= xgb_cs.predict_proba(X_test)[:,1]\n",
    "\n",
    "cm= confusion_matrix(y_test, y_pred_xgb_cs, labels= xgb_cs.classes_)\n",
    "print(classification_report(y_test, y_pred_xgb_cs, zero_division=0))\n",
    "print('Precision:', precision_score(y_test, y_pred_xgb_cs, zero_division=0))\n",
    "print('Accuracy:', accuracy_score(y_test, y_pred_xgb_cs))\n",
    "print('AUC:', roc_auc_score(y_test, y_pred_prob_xgb_cs))"
   ]
  },
  {
   "cell_type": "code",
   "execution_count": 25,
   "id": "da093569",
   "metadata": {},
   "outputs": [
    {
     "name": "stdout",
     "output_type": "stream",
     "text": [
      "Fitting 5 folds for each of 3 candidates, totalling 15 fits\n",
      "Best Parameters: {'learning_rate': 1.0}\n",
      "Best Precision Score: 0.24946840139333643\n",
      "              precision    recall  f1-score   support\n",
      "\n",
      "           0       0.93      0.86      0.89      8517\n",
      "           1       0.25      0.44      0.32       912\n",
      "\n",
      "    accuracy                           0.82      9429\n",
      "   macro avg       0.59      0.65      0.61      9429\n",
      "weighted avg       0.87      0.82      0.84      9429\n",
      "\n",
      "Precision: 0.250155183116077\n",
      "Accuracy: 0.8179022165659137\n",
      "AUC: 0.7512845825377109\n"
     ]
    }
   ],
   "source": [
    "params_XGBoost= {'learning_rate': [0.01, 0.1, 1.0]}\n",
    "\n",
    "gs_xgb_cs= GridSearchCV(estimator= xgb_cs, param_grid= params_XGBoost, cv= 5, scoring= 'precision', n_jobs= -1, verbose= 2)\n",
    "gs_xgb_cs.fit(X_train, y_train)\n",
    "\n",
    "print(\"Best Parameters:\", gs_xgb_cs.best_params_)\n",
    "print(\"Best Precision Score:\", gs_xgb_cs.best_score_)\n",
    "\n",
    "tuned_xgb_cs= gs_xgb_cs.best_estimator_\n",
    "y_pred_tuned_xgb_cs= tuned_xgb_cs.predict(X_test)\n",
    "y_pred_prob_tuned_xgb_cs= tuned_xgb_cs.predict_proba(X_test)[:,1]\n",
    "\n",
    "cm= confusion_matrix(y_test, y_pred_tuned_xgb_cs, labels= tuned_xgb_cs.classes_)\n",
    "print(classification_report(y_test, y_pred_tuned_xgb_cs, zero_division= 0))\n",
    "print('Precision:', precision_score(y_test, y_pred_tuned_xgb_cs, zero_division= 0))\n",
    "print('Accuracy:', accuracy_score(y_test, y_pred_tuned_xgb_cs))\n",
    "print('AUC:', roc_auc_score(y_test, y_pred_prob_tuned_xgb_cs))"
   ]
  },
  {
   "cell_type": "code",
   "execution_count": null,
   "id": "57bd651d",
   "metadata": {},
   "outputs": [],
   "source": []
  },
  {
   "cell_type": "markdown",
   "id": "fe4ddc2b",
   "metadata": {},
   "source": [
    "--- LGBM ---"
   ]
  },
  {
   "cell_type": "code",
   "execution_count": 26,
   "id": "0a1effa6",
   "metadata": {},
   "outputs": [
    {
     "name": "stdout",
     "output_type": "stream",
     "text": [
      "[LightGBM] [Info] Number of positive: 3649, number of negative: 34065\n",
      "[LightGBM] [Info] Auto-choosing row-wise multi-threading, the overhead of testing was 0.006451 seconds.\n",
      "You can set `force_row_wise=true` to remove the overhead.\n",
      "And if memory is not enough, you can set `force_col_wise=true`.\n",
      "[LightGBM] [Info] Total Bins 251\n",
      "[LightGBM] [Info] Number of data points in the train set: 37714, number of used features: 42\n",
      "[LightGBM] [Info] [binary:BoostFromScore]: pavg=0.500000 -> initscore=-0.000000\n",
      "[LightGBM] [Info] Start training from score -0.000000\n",
      "              precision    recall  f1-score   support\n",
      "\n",
      "           0       0.97      0.75      0.84      8517\n",
      "           1       0.25      0.79      0.38       912\n",
      "\n",
      "    accuracy                           0.75      9429\n",
      "   macro avg       0.61      0.77      0.61      9429\n",
      "weighted avg       0.90      0.75      0.80      9429\n",
      "\n",
      "Precision: 0.24843858431644691\n",
      "Accuracy: 0.7494962350196204\n",
      "AUC: 0.8469875264949976\n"
     ]
    }
   ],
   "source": [
    "from lightgbm import LGBMClassifier\n",
    "lgm_cs= LGBMClassifier(class_weight='balanced', random_state= 15)\n",
    "lgm_cs.fit(X_train, y_train)\n",
    "y_pred_lgm_cs= lgm_cs.predict(X_test)\n",
    "y_pred_prob_lgm_cs= lgm_cs.predict_proba(X_test)[:,1]\n",
    "\n",
    "cm= confusion_matrix(y_test, y_pred_lgm_cs, labels= lgm_cs.classes_)\n",
    "print(classification_report(y_test, y_pred_lgm_cs, zero_division= 0))\n",
    "print('Precision:', precision_score(y_test, y_pred_lgm_cs, zero_division= 0))\n",
    "print('Accuracy:', accuracy_score(y_test, y_pred_lgm_cs))\n",
    "print('AUC:', roc_auc_score(y_test, y_pred_prob_lgm_cs))"
   ]
  },
  {
   "cell_type": "code",
   "execution_count": 27,
   "id": "d9dec891",
   "metadata": {},
   "outputs": [
    {
     "name": "stdout",
     "output_type": "stream",
     "text": [
      "Fitting 5 folds for each of 80 candidates, totalling 400 fits\n",
      "[LightGBM] [Warning] min_data_in_leaf is set=50, min_child_samples=20 will be ignored. Current value: min_data_in_leaf=50\n",
      "[LightGBM] [Warning] min_data_in_leaf is set=50, min_child_samples=20 will be ignored. Current value: min_data_in_leaf=50\n",
      "[LightGBM] [Info] Number of positive: 3649, number of negative: 34065\n",
      "[LightGBM] [Info] Auto-choosing row-wise multi-threading, the overhead of testing was 0.005493 seconds.\n",
      "You can set `force_row_wise=true` to remove the overhead.\n",
      "And if memory is not enough, you can set `force_col_wise=true`.\n",
      "[LightGBM] [Info] Total Bins 251\n",
      "[LightGBM] [Info] Number of data points in the train set: 37714, number of used features: 42\n",
      "[LightGBM] [Info] [binary:BoostFromScore]: pavg=0.500000 -> initscore=-0.000000\n",
      "[LightGBM] [Info] Start training from score -0.000000\n",
      "Best Parameters: {'learning_rate': 1.0, 'min_data_in_leaf': 50, 'num_leaves': 127, 'reg_alpha': 0.1}\n",
      "Best Precision Score: 0.27386568243692677\n",
      "[LightGBM] [Warning] min_data_in_leaf is set=50, min_child_samples=20 will be ignored. Current value: min_data_in_leaf=50\n",
      "[LightGBM] [Warning] min_data_in_leaf is set=50, min_child_samples=20 will be ignored. Current value: min_data_in_leaf=50\n",
      "              precision    recall  f1-score   support\n",
      "\n",
      "           0       0.92      0.91      0.92      8517\n",
      "           1       0.26      0.29      0.28       912\n",
      "\n",
      "    accuracy                           0.85      9429\n",
      "   macro avg       0.59      0.60      0.60      9429\n",
      "weighted avg       0.86      0.85      0.86      9429\n",
      "\n",
      "Precision: 0.26099706744868034\n",
      "Accuracy: 0.8514158447343303\n",
      "AUC: 0.7618340460461944\n"
     ]
    }
   ],
   "source": [
    "params_LGB= {'learning_rate': [0.001, 0.01, 0.1, 1.0],\n",
    "             'num_leaves': [31, 127],\n",
    "             'reg_alpha': [0.1, 0.5],\n",
    "             'min_data_in_leaf': [30, 50, 100, 300, 400]}\n",
    "\n",
    "gs_lgm_cs= GridSearchCV(estimator= lgm_cs, param_grid= params_LGB, cv=5, scoring='precision', n_jobs=-1, verbose=2)\n",
    "gs_lgm_cs.fit(X_train, y_train)\n",
    "\n",
    "print(\"Best Parameters:\", gs_lgm_cs.best_params_)\n",
    "print(\"Best Precision Score:\", gs_lgm_cs.best_score_)\n",
    "\n",
    "tuned_lgm_cs= gs_lgm_cs.best_estimator_\n",
    "y_pred_tuned_lgm_cs= tuned_lgm_cs.predict(X_test)\n",
    "y_pred_prob_tuned_lgm_cs= tuned_lgm_cs.predict_proba(X_test)[:,1]\n",
    "\n",
    "cm= confusion_matrix(y_test, y_pred_tuned_lgm_cs, labels= tuned_lgm_cs.classes_)\n",
    "print(classification_report(y_test, y_pred_tuned_lgm_cs, zero_division= 0))\n",
    "print('Precision:', precision_score(y_test, y_pred_tuned_lgm_cs, zero_division= 0))\n",
    "print('Accuracy:', accuracy_score(y_test, y_pred_tuned_lgm_cs))\n",
    "print('AUC:', roc_auc_score(y_test, y_pred_prob_tuned_lgm_cs))"
   ]
  },
  {
   "cell_type": "code",
   "execution_count": null,
   "id": "229ae9fa",
   "metadata": {},
   "outputs": [],
   "source": []
  },
  {
   "cell_type": "markdown",
   "id": "9a7670df",
   "metadata": {},
   "source": [
    "--- CatBoost ---"
   ]
  },
  {
   "cell_type": "code",
   "execution_count": 28,
   "id": "cfa1cef8",
   "metadata": {
    "scrolled": true
   },
   "outputs": [
    {
     "name": "stdout",
     "output_type": "stream",
     "text": [
      "              precision    recall  f1-score   support\n",
      "\n",
      "           0       0.96      0.79      0.87      8517\n",
      "           1       0.27      0.70      0.39       912\n",
      "\n",
      "    accuracy                           0.79      9429\n",
      "   macro avg       0.61      0.75      0.63      9429\n",
      "weighted avg       0.89      0.79      0.82      9429\n",
      "\n",
      "Precision: 0.2676409185803758\n",
      "Accuracy: 0.7852370346802418\n",
      "AUC: 0.8361629424329874\n"
     ]
    }
   ],
   "source": [
    "from catboost import CatBoostClassifier\n",
    "cat_cs= CatBoostClassifier(class_weights= [1, (y_train== 0).sum() / (y_train== 1).sum()], random_state=15, silent=True)\n",
    "cat_cs.fit(X_train, y_train)\n",
    "y_pred_cat_cs= cat_cs.predict(X_test)\n",
    "y_pred_prob_cat_cs= cat_cs.predict_proba(X_test)[:,1]\n",
    "\n",
    "cm= confusion_matrix(y_test, y_pred_cat_cs, labels= cat_cs.classes_)\n",
    "print(classification_report(y_test, y_pred_cat_cs, zero_division=0))\n",
    "print('Precision:', precision_score(y_test, y_pred_cat_cs, zero_division=0))\n",
    "print('Accuracy:', accuracy_score(y_test, y_pred_cat_cs))\n",
    "print('AUC:', roc_auc_score(y_test, y_pred_prob_cat_cs))"
   ]
  },
  {
   "cell_type": "code",
   "execution_count": null,
   "id": "dd8d322e",
   "metadata": {},
   "outputs": [],
   "source": []
  },
  {
   "cell_type": "code",
   "execution_count": 29,
   "id": "0af2c970",
   "metadata": {},
   "outputs": [
    {
     "name": "stdout",
     "output_type": "stream",
     "text": [
      "Fitting 5 folds for each of 36 candidates, totalling 180 fits\n",
      "Best Parameters: {'depth': 10, 'iterations': 100, 'learning_rate': 1}\n",
      "Best Precision Score: 0.28813063260922284\n",
      "              precision    recall  f1-score   support\n",
      "\n",
      "           0       0.92      0.92      0.92      8517\n",
      "           1       0.27      0.29      0.28       912\n",
      "\n",
      "    accuracy                           0.86      9429\n",
      "   macro avg       0.60      0.60      0.60      9429\n",
      "weighted avg       0.86      0.86      0.86      9429\n",
      "\n",
      "Precision: 0.27395833333333336\n",
      "Accuracy: 0.8572489129282003\n",
      "AUC: 0.7462397187050049\n"
     ]
    }
   ],
   "source": [
    "params_CatBoost= {\n",
    "                  'depth': [3,5,10],\n",
    "                  'learning_rate' : [0.01,0.1,1],\n",
    "                  'iterations' : [5,10,50,100]\n",
    "                 }\n",
    "\n",
    "gs_cat_cs= GridSearchCV(estimator= cat_cs, param_grid= params_CatBoost, cv= 5, scoring='precision', n_jobs= -1, verbose= 2)\n",
    "gs_cat_cs.fit(X_train, y_train)\n",
    "\n",
    "print(\"Best Parameters:\", gs_cat_cs.best_params_)\n",
    "print(\"Best Precision Score:\", gs_cat_cs.best_score_)\n",
    "\n",
    "tuned_cat_cs= gs_cat_cs.best_estimator_\n",
    "y_pred_tuned_cat_cs= tuned_cat_cs.predict(X_test)\n",
    "y_pred_prob_tuned_cat_cs= tuned_cat_cs.predict_proba(X_test)[:,1]\n",
    "\n",
    "cm= confusion_matrix(y_test, y_pred_tuned_cat_cs, labels= tuned_cat_cs.classes_)\n",
    "print(classification_report(y_test, y_pred_tuned_cat_cs, zero_division=0))\n",
    "print('Precision:', precision_score(y_test, y_pred_tuned_cat_cs, zero_division=0))\n",
    "print('Accuracy:', accuracy_score(y_test, y_pred_tuned_cat_cs))\n",
    "print('AUC:', roc_auc_score(y_test, y_pred_prob_tuned_cat_cs))"
   ]
  },
  {
   "cell_type": "code",
   "execution_count": null,
   "id": "44677a1f",
   "metadata": {},
   "outputs": [],
   "source": []
  },
  {
   "cell_type": "code",
   "execution_count": null,
   "id": "770d3077",
   "metadata": {},
   "outputs": [],
   "source": []
  },
  {
   "cell_type": "markdown",
   "id": "b57855ee",
   "metadata": {},
   "source": [
    "--- Visualisation ---"
   ]
  },
  {
   "cell_type": "code",
   "execution_count": 30,
   "id": "8a9d69fd",
   "metadata": {},
   "outputs": [
    {
     "name": "stdout",
     "output_type": "stream",
     "text": [
      "Logistic Regression Precision: 0.25318197454420366\n",
      "Decision Tree Precision: 0.22591362126245848\n",
      "Tuned Decision Tree Precision: 0.24282560706401765\n",
      "SVM Precision: 0.15204678362573099\n",
      "Random Forest Precision: 0.38848920863309355\n",
      "Tuned Random Forest Precision: 0.3790322580645161\n",
      "AdaBoost Precision: 0.45032051282051283\n",
      "Tuned AdaBoost Precision: 0.45032051282051283\n",
      "GradientBoosting Precision: 0.4570446735395189\n",
      "Tuned GradientBoosting Precision: 0.5769230769230769\n",
      "XGB Precision: 0.2624394539850286\n",
      "Tuned XGB Precision: 0.250155183116077\n",
      "LGBM Precision: 0.24843858431644691\n",
      "Tuned LGBM Precision: 0.26099706744868034\n",
      "CatBoost Precision: 0.2676409185803758\n",
      "Tuned CatBoost Precision: 0.27395833333333336\n"
     ]
    }
   ],
   "source": [
    "print('Logistic Regression Precision:', precision_score(y_test, y_pred_lr_cs, zero_division= 0))\n",
    "print('Decision Tree Precision:', precision_score(y_test, y_pred_dt_cs, zero_division= 0))\n",
    "print('Tuned Decision Tree Precision:', precision_score(y_test, y_pred_tuned_dt_cs, zero_division= 0))\n",
    "print('SVM Precision:', precision_score(y_test, y_pred_svc_cs, zero_division= 0))\n",
    "print('Random Forest Precision:', precision_score(y_test, y_pred_rf_cs, zero_division= 0))\n",
    "print('Tuned Random Forest Precision:', precision_score(y_test, y_pred_tuned_rf_cs, zero_division= 0))\n",
    "print('AdaBoost Precision:', precision_score(y_test, y_pred_ada_cs, zero_division= 0))\n",
    "print('Tuned AdaBoost Precision:', precision_score(y_test, y_pred_tuned_ada_cs, zero_division= 0))\n",
    "print('GradientBoosting Precision:', precision_score(y_test, y_pred_grb_cs, zero_division= 0))\n",
    "print('Tuned GradientBoosting Precision:', precision_score(y_test, y_pred_tuned_grb_cs, zero_division= 0))\n",
    "print('XGB Precision:', precision_score(y_test, y_pred_xgb_cs, zero_division= 0))\n",
    "print('Tuned XGB Precision:', precision_score(y_test, y_pred_tuned_xgb_cs, zero_division= 0))\n",
    "print('LGBM Precision:', precision_score(y_test, y_pred_lgm_cs, zero_division= 0))\n",
    "print('Tuned LGBM Precision:', precision_score(y_test, y_pred_tuned_lgm_cs, zero_division= 0))\n",
    "print('CatBoost Precision:', precision_score(y_test, y_pred_cat_cs, zero_division= 0))\n",
    "print('Tuned CatBoost Precision:', precision_score(y_test, y_pred_tuned_cat_cs, zero_division= 0))"
   ]
  },
  {
   "cell_type": "code",
   "execution_count": 31,
   "id": "9984fadc",
   "metadata": {},
   "outputs": [
    {
     "name": "stdout",
     "output_type": "stream",
     "text": [
      "                                Model  Precision Score\n",
      "9   Tuned GradientBoosting Precision:         0.576923\n",
      "8         GradientBoosting Precision:         0.457045\n",
      "6                 AdaBoost Precision:         0.450321\n",
      "7           Tuned AdaBoost Precision:         0.450321\n",
      "4            Random Forest Precision:         0.388489\n",
      "5      Tuned Random Forest Precision:         0.379032\n",
      "15          Tuned CatBoost Precision:         0.273958\n",
      "14                CatBoost Precision:         0.267641\n",
      "10                     XGB Precision:         0.262439\n",
      "13              Tuned LGBM Precision:         0.260997\n",
      "0      Logistic Regression Precision:         0.253182\n",
      "11               Tuned XGB Precision:         0.250155\n",
      "12                    LGBM Precision:         0.248439\n",
      "2      Tuned Decision Tree Precision:         0.242826\n",
      "1            Decision Tree Precision:         0.225914\n",
      "3                      SVM Precision:         0.152047\n"
     ]
    }
   ],
   "source": [
    "precision_scores= {\n",
    "                    'Logistic Regression Precision:': precision_score(y_test, y_pred_lr_cs, zero_division= 0),\n",
    "                    'Decision Tree Precision:': precision_score(y_test, y_pred_dt_cs, zero_division= 0),\n",
    "                    'Tuned Decision Tree Precision:': precision_score(y_test, y_pred_tuned_dt_cs, zero_division= 0),\n",
    "                    'SVM Precision:': precision_score(y_test, y_pred_svc_cs, zero_division= 0),\n",
    "                    'Random Forest Precision:': precision_score(y_test, y_pred_rf_cs, zero_division= 0),\n",
    "                    'Tuned Random Forest Precision:': precision_score(y_test, y_pred_tuned_rf_cs, zero_division= 0),\n",
    "                    'AdaBoost Precision:': precision_score(y_test, y_pred_ada_cs, zero_division= 0),\n",
    "                    'Tuned AdaBoost Precision:': precision_score(y_test, y_pred_tuned_ada_cs, zero_division= 0),\n",
    "                    'GradientBoosting Precision:': precision_score(y_test, y_pred_grb_cs, zero_division= 0),\n",
    "                    'Tuned GradientBoosting Precision:': precision_score(y_test, y_pred_tuned_grb_cs, zero_division= 0),\n",
    "                    'XGB Precision:': precision_score(y_test, y_pred_xgb_cs, zero_division= 0),\n",
    "                    'Tuned XGB Precision:': precision_score(y_test, y_pred_tuned_xgb_cs, zero_division= 0),\n",
    "                    'LGBM Precision:': precision_score(y_test, y_pred_lgm_cs, zero_division= 0),\n",
    "                    'Tuned LGBM Precision:': precision_score(y_test, y_pred_tuned_lgm_cs, zero_division= 0),\n",
    "                    'CatBoost Precision:': precision_score(y_test, y_pred_cat_cs, zero_division= 0),\n",
    "                    'Tuned CatBoost Precision:': precision_score(y_test, y_pred_tuned_cat_cs, zero_division= 0)\n",
    "                  }\n",
    "\n",
    "cs_precision= pd.DataFrame(list(precision_scores.items()), columns= ['Model', 'Precision Score'])\n",
    "cs_precision= cs_precision.sort_values(by= 'Precision Score', ascending=False)\n",
    "print(cs_precision)"
   ]
  },
  {
   "cell_type": "code",
   "execution_count": 32,
   "id": "209b0ea5",
   "metadata": {},
   "outputs": [
    {
     "name": "stdout",
     "output_type": "stream",
     "text": [
      "                               Model  Accuracy Score\n",
      "9   Tuned GradientBoosting Accuracy:        0.903701\n",
      "5      Tuned Random Forest Accuracy:        0.900095\n",
      "4            Random Forest Accuracy:        0.899989\n",
      "8         GradientBoosting Accuracy:        0.897974\n",
      "6                 AdaBoost Accuracy:        0.896702\n",
      "7           Tuned AdaBoost Accuracy:        0.896702\n",
      "3                      SVM Accuracy:        0.890656\n",
      "15          Tuned CatBoost Accuracy:        0.857249\n",
      "2      Tuned Decision Tree Accuracy:        0.853855\n",
      "13              Tuned LGBM Accuracy:        0.851416\n",
      "1            Decision Tree Accuracy:        0.850780\n",
      "11               Tuned XGB Accuracy:        0.817902\n",
      "10                     XGB Accuracy:        0.788843\n",
      "14                CatBoost Accuracy:        0.785237\n",
      "0      Logistic Regression Accuracy:        0.751087\n",
      "12                    LGBM Accuracy:        0.749496\n"
     ]
    }
   ],
   "source": [
    "accuracy_scores= {\n",
    "                    'Logistic Regression Accuracy:': accuracy_score(y_test, y_pred_lr_cs),\n",
    "                    'Decision Tree Accuracy:': accuracy_score(y_test, y_pred_dt_cs),\n",
    "                    'Tuned Decision Tree Accuracy:': accuracy_score(y_test, y_pred_tuned_dt_cs),\n",
    "                    'SVM Accuracy:': accuracy_score(y_test, y_pred_svc_cs),\n",
    "                    'Random Forest Accuracy:': accuracy_score(y_test, y_pred_rf_cs),\n",
    "                    'Tuned Random Forest Accuracy:': accuracy_score(y_test, y_pred_tuned_rf_cs),\n",
    "                    'AdaBoost Accuracy:': accuracy_score(y_test, y_pred_ada_cs),\n",
    "                    'Tuned AdaBoost Accuracy:': accuracy_score(y_test, y_pred_tuned_ada_cs),\n",
    "                    'GradientBoosting Accuracy:': accuracy_score(y_test, y_pred_grb_cs),\n",
    "                    'Tuned GradientBoosting Accuracy:': accuracy_score(y_test, y_pred_tuned_grb_cs),\n",
    "                    'XGB Accuracy:': accuracy_score(y_test, y_pred_xgb_cs),\n",
    "                    'Tuned XGB Accuracy:': accuracy_score(y_test, y_pred_tuned_xgb_cs),\n",
    "                    'LGBM Accuracy:': accuracy_score(y_test, y_pred_lgm_cs),\n",
    "                    'Tuned LGBM Accuracy:': accuracy_score(y_test, y_pred_tuned_lgm_cs),\n",
    "                    'CatBoost Accuracy:': accuracy_score(y_test, y_pred_cat_cs),\n",
    "                    'Tuned CatBoost Accuracy:': accuracy_score(y_test, y_pred_tuned_cat_cs)\n",
    "                  }\n",
    "\n",
    "cs_accuracy= pd.DataFrame(list(accuracy_scores.items()), columns= ['Model', 'Accuracy Score'])\n",
    "cs_accuracy= cs_accuracy.sort_values(by= 'Accuracy Score', ascending=False)\n",
    "print(cs_accuracy)"
   ]
  },
  {
   "cell_type": "code",
   "execution_count": 33,
   "id": "a7f99f97",
   "metadata": {},
   "outputs": [
    {
     "name": "stdout",
     "output_type": "stream",
     "text": [
      "                          Model  AUC Score\n",
      "8         GradientBoosting AUC:   0.854034\n",
      "0      Logistic Regression AUC:   0.853933\n",
      "6                 AdaBoost AUC:   0.853147\n",
      "7           Tuned AdaBoost AUC:   0.853147\n",
      "12                    LGBM AUC:   0.846988\n",
      "14                CatBoost AUC:   0.836163\n",
      "9   Tuned GradientBoosting AUC:   0.830154\n",
      "5      Tuned Random Forest AUC:   0.825368\n",
      "4            Random Forest AUC:   0.820421\n",
      "10                     XGB AUC:   0.813943\n",
      "13              Tuned LGBM AUC:   0.761834\n",
      "11               Tuned XGB AUC:   0.751285\n",
      "15          Tuned CatBoost AUC:   0.746240\n",
      "3                      SVM AUC:   0.695454\n",
      "2      Tuned Decision Tree AUC:   0.580582\n",
      "1            Decision Tree AUC:   0.570998\n"
     ]
    }
   ],
   "source": [
    "auc_scores= {\n",
    "                    'Logistic Regression AUC:': roc_auc_score(y_test, y_pred_prob_lr_cs),\n",
    "                    'Decision Tree AUC:': roc_auc_score(y_test, y_pred_prob_dt_cs),\n",
    "                    'Tuned Decision Tree AUC:': roc_auc_score(y_test, y_pred_prob_tuned_dt_cs),\n",
    "                    'SVM AUC:': roc_auc_score(y_test, y_pred_prob_svc_cs),\n",
    "                    'Random Forest AUC:': roc_auc_score(y_test, y_pred_prob_rf_cs),\n",
    "                    'Tuned Random Forest AUC:': roc_auc_score(y_test, y_pred_prob_tuned_rf_cs),\n",
    "                    'AdaBoost AUC:': roc_auc_score(y_test, y_pred_prob_ada_cs),\n",
    "                    'Tuned AdaBoost AUC:': roc_auc_score(y_test, y_pred_prob_tuned_ada_cs),\n",
    "                    'GradientBoosting AUC:': roc_auc_score(y_test, y_pred_prob_grb_cs),\n",
    "                    'Tuned GradientBoosting AUC:': roc_auc_score(y_test, y_pred_prob_tuned_grb_cs),\n",
    "                    'XGB AUC:': roc_auc_score(y_test, y_pred_prob_xgb_cs),\n",
    "                    'Tuned XGB AUC:': roc_auc_score(y_test, y_pred_prob_tuned_xgb_cs),\n",
    "                    'LGBM AUC:': roc_auc_score(y_test, y_pred_prob_lgm_cs),\n",
    "                    'Tuned LGBM AUC:': roc_auc_score(y_test, y_pred_prob_tuned_lgm_cs),\n",
    "                    'CatBoost AUC:': roc_auc_score(y_test, y_pred_prob_cat_cs),\n",
    "                    'Tuned CatBoost AUC:': roc_auc_score(y_test, y_pred_prob_tuned_cat_cs)\n",
    "                  }\n",
    "\n",
    "cs_auc= pd.DataFrame(list(auc_scores.items()), columns= ['Model', 'AUC Score'])\n",
    "cs_auc= cs_auc.sort_values(by= 'AUC Score', ascending=False)\n",
    "print(cs_auc)"
   ]
  },
  {
   "cell_type": "code",
   "execution_count": null,
   "id": "25c2ac15",
   "metadata": {},
   "outputs": [],
   "source": []
  },
  {
   "cell_type": "code",
   "execution_count": null,
   "id": "1dee7d67",
   "metadata": {},
   "outputs": [],
   "source": []
  },
  {
   "cell_type": "code",
   "execution_count": null,
   "id": "95d9919c",
   "metadata": {},
   "outputs": [],
   "source": []
  }
 ],
 "metadata": {
  "kernelspec": {
   "display_name": "Python 3 (ipykernel)",
   "language": "python",
   "name": "python3"
  },
  "language_info": {
   "codemirror_mode": {
    "name": "ipython",
    "version": 3
   },
   "file_extension": ".py",
   "mimetype": "text/x-python",
   "name": "python",
   "nbconvert_exporter": "python",
   "pygments_lexer": "ipython3",
   "version": "3.9.12"
  }
 },
 "nbformat": 4,
 "nbformat_minor": 5
}
