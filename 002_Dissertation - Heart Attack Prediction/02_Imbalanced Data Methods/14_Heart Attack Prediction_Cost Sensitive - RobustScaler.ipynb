{
 "cells": [
  {
   "cell_type": "code",
   "execution_count": 1,
   "id": "f807d5eb",
   "metadata": {},
   "outputs": [],
   "source": [
    "import pandas as pd\n",
    "import numpy as np\n",
    "import seaborn as sns\n",
    "import matplotlib.pyplot as plt\n",
    "\n",
    "df= pd.read_csv('C://Users//User//Desktop//MSc Westminster//Dissertation//DataSets//Heart_Attack_Prediction.csv')"
   ]
  },
  {
   "cell_type": "code",
   "execution_count": 2,
   "id": "d77e531a",
   "metadata": {},
   "outputs": [],
   "source": [
    "columns=df.columns\n",
    "\n",
    "for column in columns:\n",
    "    if df[column].dtype==\"int32\":\n",
    "        df[column]=df[column].astype(\"int16\")\n",
    "    elif df[column].dtype==\"float64\":\n",
    "        df[column]=df[column].astype(\"float16\")\n",
    "    elif df[column].dtype==\"object\":\n",
    "        df[column]=df[column].astype(\"category\")"
   ]
  },
  {
   "cell_type": "code",
   "execution_count": 3,
   "id": "bfa3c756",
   "metadata": {},
   "outputs": [],
   "source": [
    "df['Sex']= df['Sex'].map({'Female': 0, 'Male': 1})\n",
    "df['Sex']= pd.to_numeric(df['Sex'])\n",
    "\n",
    "df['Diet']= df['Diet'].map({'Healthy': 0, 'Average': 1, 'Unhealthy':2})\n",
    "df['Diet']= pd.to_numeric(df['Diet'])\n",
    "\n",
    "df[['HBP', 'LBP']]= df['Blood Pressure'].str.split('/', expand= True)\n",
    "df['HBP']= pd.to_numeric(df['HBP'])\n",
    "df['LBP']= pd.to_numeric(df['LBP'])\n",
    "\n",
    "df['Diabetes'] = df['Diabetes'].map({0: 1, 1: 0})\n",
    "\n",
    "df['Exercise Hours Per Week']= round(df['Exercise Hours Per Week'], 0)\n",
    "\n",
    "df['Sedentary Hours Per Day']= round(df['Sedentary Hours Per Day'], 0)\n",
    "\n",
    "df['Income']= round(df['Income'], 0)\n",
    "\n",
    "df['BMI']= round(df['BMI'], 0)\n",
    "\n",
    "df = df.drop(columns=['Patient ID', 'Blood Pressure', 'Country', 'Continent', 'Hemisphere'])"
   ]
  },
  {
   "cell_type": "code",
   "execution_count": 4,
   "id": "e882eadd",
   "metadata": {},
   "outputs": [
    {
     "name": "stdout",
     "output_type": "stream",
     "text": [
      "<class 'pandas.core.frame.DataFrame'>\n",
      "RangeIndex: 8763 entries, 0 to 8762\n",
      "Data columns (total 23 columns):\n",
      " #   Column                           Non-Null Count  Dtype  \n",
      "---  ------                           --------------  -----  \n",
      " 0   Age                              8763 non-null   int64  \n",
      " 1   Sex                              8763 non-null   int64  \n",
      " 2   Cholesterol                      8763 non-null   int64  \n",
      " 3   Heart Rate                       8763 non-null   int64  \n",
      " 4   Diabetes                         8763 non-null   int64  \n",
      " 5   Family History                   8763 non-null   int64  \n",
      " 6   Smoking                          8763 non-null   int64  \n",
      " 7   Obesity                          8763 non-null   int64  \n",
      " 8   Alcohol Consumption              8763 non-null   int64  \n",
      " 9   Exercise Hours Per Week          8763 non-null   float16\n",
      " 10  Diet                             8763 non-null   int64  \n",
      " 11  Previous Heart Problems          8763 non-null   int64  \n",
      " 12  Medication Use                   8763 non-null   int64  \n",
      " 13  Stress Level                     8763 non-null   int64  \n",
      " 14  Sedentary Hours Per Day          8763 non-null   float16\n",
      " 15  Income                           8763 non-null   int64  \n",
      " 16  BMI                              8763 non-null   float16\n",
      " 17  Triglycerides                    8763 non-null   int64  \n",
      " 18  Physical Activity Days Per Week  8763 non-null   int64  \n",
      " 19  Sleep Hours Per Day              8763 non-null   int64  \n",
      " 20  Heart Attack Risk                8763 non-null   int64  \n",
      " 21  HBP                              8763 non-null   int64  \n",
      " 22  LBP                              8763 non-null   int64  \n",
      "dtypes: float16(3), int64(20)\n",
      "memory usage: 1.4 MB\n"
     ]
    }
   ],
   "source": [
    "df.info()"
   ]
  },
  {
   "cell_type": "code",
   "execution_count": 5,
   "id": "6be2a80d",
   "metadata": {
    "scrolled": false
   },
   "outputs": [
    {
     "data": {
      "text/html": [
       "<div>\n",
       "<style scoped>\n",
       "    .dataframe tbody tr th:only-of-type {\n",
       "        vertical-align: middle;\n",
       "    }\n",
       "\n",
       "    .dataframe tbody tr th {\n",
       "        vertical-align: top;\n",
       "    }\n",
       "\n",
       "    .dataframe thead th {\n",
       "        text-align: right;\n",
       "    }\n",
       "</style>\n",
       "<table border=\"1\" class=\"dataframe\">\n",
       "  <thead>\n",
       "    <tr style=\"text-align: right;\">\n",
       "      <th></th>\n",
       "      <th>count</th>\n",
       "      <th>mean</th>\n",
       "      <th>std</th>\n",
       "      <th>min</th>\n",
       "      <th>25%</th>\n",
       "      <th>50%</th>\n",
       "      <th>75%</th>\n",
       "      <th>max</th>\n",
       "    </tr>\n",
       "  </thead>\n",
       "  <tbody>\n",
       "    <tr>\n",
       "      <th>Age</th>\n",
       "      <td>8763.0</td>\n",
       "      <td>5.370798e+01</td>\n",
       "      <td>21.249509</td>\n",
       "      <td>18.0</td>\n",
       "      <td>35.0</td>\n",
       "      <td>54.0</td>\n",
       "      <td>72.0</td>\n",
       "      <td>90.0</td>\n",
       "    </tr>\n",
       "    <tr>\n",
       "      <th>Sex</th>\n",
       "      <td>8763.0</td>\n",
       "      <td>6.973639e-01</td>\n",
       "      <td>0.459425</td>\n",
       "      <td>0.0</td>\n",
       "      <td>0.0</td>\n",
       "      <td>1.0</td>\n",
       "      <td>1.0</td>\n",
       "      <td>1.0</td>\n",
       "    </tr>\n",
       "    <tr>\n",
       "      <th>Cholesterol</th>\n",
       "      <td>8763.0</td>\n",
       "      <td>2.598772e+02</td>\n",
       "      <td>80.863276</td>\n",
       "      <td>120.0</td>\n",
       "      <td>192.0</td>\n",
       "      <td>259.0</td>\n",
       "      <td>330.0</td>\n",
       "      <td>400.0</td>\n",
       "    </tr>\n",
       "    <tr>\n",
       "      <th>Heart Rate</th>\n",
       "      <td>8763.0</td>\n",
       "      <td>7.502168e+01</td>\n",
       "      <td>20.550948</td>\n",
       "      <td>40.0</td>\n",
       "      <td>57.0</td>\n",
       "      <td>75.0</td>\n",
       "      <td>93.0</td>\n",
       "      <td>110.0</td>\n",
       "    </tr>\n",
       "    <tr>\n",
       "      <th>Diabetes</th>\n",
       "      <td>8763.0</td>\n",
       "      <td>3.477120e-01</td>\n",
       "      <td>0.476271</td>\n",
       "      <td>0.0</td>\n",
       "      <td>0.0</td>\n",
       "      <td>0.0</td>\n",
       "      <td>1.0</td>\n",
       "      <td>1.0</td>\n",
       "    </tr>\n",
       "    <tr>\n",
       "      <th>Family History</th>\n",
       "      <td>8763.0</td>\n",
       "      <td>4.929819e-01</td>\n",
       "      <td>0.499979</td>\n",
       "      <td>0.0</td>\n",
       "      <td>0.0</td>\n",
       "      <td>0.0</td>\n",
       "      <td>1.0</td>\n",
       "      <td>1.0</td>\n",
       "    </tr>\n",
       "    <tr>\n",
       "      <th>Smoking</th>\n",
       "      <td>8763.0</td>\n",
       "      <td>8.968390e-01</td>\n",
       "      <td>0.304186</td>\n",
       "      <td>0.0</td>\n",
       "      <td>1.0</td>\n",
       "      <td>1.0</td>\n",
       "      <td>1.0</td>\n",
       "      <td>1.0</td>\n",
       "    </tr>\n",
       "    <tr>\n",
       "      <th>Obesity</th>\n",
       "      <td>8763.0</td>\n",
       "      <td>5.014265e-01</td>\n",
       "      <td>0.500026</td>\n",
       "      <td>0.0</td>\n",
       "      <td>0.0</td>\n",
       "      <td>1.0</td>\n",
       "      <td>1.0</td>\n",
       "      <td>1.0</td>\n",
       "    </tr>\n",
       "    <tr>\n",
       "      <th>Alcohol Consumption</th>\n",
       "      <td>8763.0</td>\n",
       "      <td>5.980828e-01</td>\n",
       "      <td>0.490313</td>\n",
       "      <td>0.0</td>\n",
       "      <td>0.0</td>\n",
       "      <td>1.0</td>\n",
       "      <td>1.0</td>\n",
       "      <td>1.0</td>\n",
       "    </tr>\n",
       "    <tr>\n",
       "      <th>Exercise Hours Per Week</th>\n",
       "      <td>8763.0</td>\n",
       "      <td>inf</td>\n",
       "      <td>5.796875</td>\n",
       "      <td>0.0</td>\n",
       "      <td>5.0</td>\n",
       "      <td>10.0</td>\n",
       "      <td>15.0</td>\n",
       "      <td>20.0</td>\n",
       "    </tr>\n",
       "    <tr>\n",
       "      <th>Diet</th>\n",
       "      <td>8763.0</td>\n",
       "      <td>9.921260e-01</td>\n",
       "      <td>0.817134</td>\n",
       "      <td>0.0</td>\n",
       "      <td>0.0</td>\n",
       "      <td>1.0</td>\n",
       "      <td>2.0</td>\n",
       "      <td>2.0</td>\n",
       "    </tr>\n",
       "    <tr>\n",
       "      <th>Previous Heart Problems</th>\n",
       "      <td>8763.0</td>\n",
       "      <td>4.958348e-01</td>\n",
       "      <td>0.500011</td>\n",
       "      <td>0.0</td>\n",
       "      <td>0.0</td>\n",
       "      <td>0.0</td>\n",
       "      <td>1.0</td>\n",
       "      <td>1.0</td>\n",
       "    </tr>\n",
       "    <tr>\n",
       "      <th>Medication Use</th>\n",
       "      <td>8763.0</td>\n",
       "      <td>4.983453e-01</td>\n",
       "      <td>0.500026</td>\n",
       "      <td>0.0</td>\n",
       "      <td>0.0</td>\n",
       "      <td>0.0</td>\n",
       "      <td>1.0</td>\n",
       "      <td>1.0</td>\n",
       "    </tr>\n",
       "    <tr>\n",
       "      <th>Stress Level</th>\n",
       "      <td>8763.0</td>\n",
       "      <td>5.469702e+00</td>\n",
       "      <td>2.859622</td>\n",
       "      <td>1.0</td>\n",
       "      <td>3.0</td>\n",
       "      <td>5.0</td>\n",
       "      <td>8.0</td>\n",
       "      <td>10.0</td>\n",
       "    </tr>\n",
       "    <tr>\n",
       "      <th>Sedentary Hours Per Day</th>\n",
       "      <td>8763.0</td>\n",
       "      <td>5.992188e+00</td>\n",
       "      <td>3.490234</td>\n",
       "      <td>0.0</td>\n",
       "      <td>3.0</td>\n",
       "      <td>6.0</td>\n",
       "      <td>9.0</td>\n",
       "      <td>12.0</td>\n",
       "    </tr>\n",
       "    <tr>\n",
       "      <th>Income</th>\n",
       "      <td>8763.0</td>\n",
       "      <td>1.582632e+05</td>\n",
       "      <td>80575.190806</td>\n",
       "      <td>20062.0</td>\n",
       "      <td>88310.0</td>\n",
       "      <td>157866.0</td>\n",
       "      <td>227749.0</td>\n",
       "      <td>299954.0</td>\n",
       "    </tr>\n",
       "    <tr>\n",
       "      <th>BMI</th>\n",
       "      <td>8763.0</td>\n",
       "      <td>inf</td>\n",
       "      <td>6.328125</td>\n",
       "      <td>18.0</td>\n",
       "      <td>23.0</td>\n",
       "      <td>29.0</td>\n",
       "      <td>34.0</td>\n",
       "      <td>40.0</td>\n",
       "    </tr>\n",
       "    <tr>\n",
       "      <th>Triglycerides</th>\n",
       "      <td>8763.0</td>\n",
       "      <td>4.176771e+02</td>\n",
       "      <td>223.748137</td>\n",
       "      <td>30.0</td>\n",
       "      <td>225.5</td>\n",
       "      <td>417.0</td>\n",
       "      <td>612.0</td>\n",
       "      <td>800.0</td>\n",
       "    </tr>\n",
       "    <tr>\n",
       "      <th>Physical Activity Days Per Week</th>\n",
       "      <td>8763.0</td>\n",
       "      <td>3.489672e+00</td>\n",
       "      <td>2.282687</td>\n",
       "      <td>0.0</td>\n",
       "      <td>2.0</td>\n",
       "      <td>3.0</td>\n",
       "      <td>5.0</td>\n",
       "      <td>7.0</td>\n",
       "    </tr>\n",
       "    <tr>\n",
       "      <th>Sleep Hours Per Day</th>\n",
       "      <td>8763.0</td>\n",
       "      <td>7.023508e+00</td>\n",
       "      <td>1.988473</td>\n",
       "      <td>4.0</td>\n",
       "      <td>5.0</td>\n",
       "      <td>7.0</td>\n",
       "      <td>9.0</td>\n",
       "      <td>10.0</td>\n",
       "    </tr>\n",
       "    <tr>\n",
       "      <th>Heart Attack Risk</th>\n",
       "      <td>8763.0</td>\n",
       "      <td>3.582107e-01</td>\n",
       "      <td>0.479502</td>\n",
       "      <td>0.0</td>\n",
       "      <td>0.0</td>\n",
       "      <td>0.0</td>\n",
       "      <td>1.0</td>\n",
       "      <td>1.0</td>\n",
       "    </tr>\n",
       "    <tr>\n",
       "      <th>HBP</th>\n",
       "      <td>8763.0</td>\n",
       "      <td>1.350757e+02</td>\n",
       "      <td>26.349976</td>\n",
       "      <td>90.0</td>\n",
       "      <td>112.0</td>\n",
       "      <td>135.0</td>\n",
       "      <td>158.0</td>\n",
       "      <td>180.0</td>\n",
       "    </tr>\n",
       "    <tr>\n",
       "      <th>LBP</th>\n",
       "      <td>8763.0</td>\n",
       "      <td>8.515611e+01</td>\n",
       "      <td>14.676565</td>\n",
       "      <td>60.0</td>\n",
       "      <td>72.0</td>\n",
       "      <td>85.0</td>\n",
       "      <td>98.0</td>\n",
       "      <td>110.0</td>\n",
       "    </tr>\n",
       "  </tbody>\n",
       "</table>\n",
       "</div>"
      ],
      "text/plain": [
       "                                  count          mean           std      min  \\\n",
       "Age                              8763.0  5.370798e+01     21.249509     18.0   \n",
       "Sex                              8763.0  6.973639e-01      0.459425      0.0   \n",
       "Cholesterol                      8763.0  2.598772e+02     80.863276    120.0   \n",
       "Heart Rate                       8763.0  7.502168e+01     20.550948     40.0   \n",
       "Diabetes                         8763.0  3.477120e-01      0.476271      0.0   \n",
       "Family History                   8763.0  4.929819e-01      0.499979      0.0   \n",
       "Smoking                          8763.0  8.968390e-01      0.304186      0.0   \n",
       "Obesity                          8763.0  5.014265e-01      0.500026      0.0   \n",
       "Alcohol Consumption              8763.0  5.980828e-01      0.490313      0.0   \n",
       "Exercise Hours Per Week          8763.0           inf      5.796875      0.0   \n",
       "Diet                             8763.0  9.921260e-01      0.817134      0.0   \n",
       "Previous Heart Problems          8763.0  4.958348e-01      0.500011      0.0   \n",
       "Medication Use                   8763.0  4.983453e-01      0.500026      0.0   \n",
       "Stress Level                     8763.0  5.469702e+00      2.859622      1.0   \n",
       "Sedentary Hours Per Day          8763.0  5.992188e+00      3.490234      0.0   \n",
       "Income                           8763.0  1.582632e+05  80575.190806  20062.0   \n",
       "BMI                              8763.0           inf      6.328125     18.0   \n",
       "Triglycerides                    8763.0  4.176771e+02    223.748137     30.0   \n",
       "Physical Activity Days Per Week  8763.0  3.489672e+00      2.282687      0.0   \n",
       "Sleep Hours Per Day              8763.0  7.023508e+00      1.988473      4.0   \n",
       "Heart Attack Risk                8763.0  3.582107e-01      0.479502      0.0   \n",
       "HBP                              8763.0  1.350757e+02     26.349976     90.0   \n",
       "LBP                              8763.0  8.515611e+01     14.676565     60.0   \n",
       "\n",
       "                                     25%       50%       75%       max  \n",
       "Age                                 35.0      54.0      72.0      90.0  \n",
       "Sex                                  0.0       1.0       1.0       1.0  \n",
       "Cholesterol                        192.0     259.0     330.0     400.0  \n",
       "Heart Rate                          57.0      75.0      93.0     110.0  \n",
       "Diabetes                             0.0       0.0       1.0       1.0  \n",
       "Family History                       0.0       0.0       1.0       1.0  \n",
       "Smoking                              1.0       1.0       1.0       1.0  \n",
       "Obesity                              0.0       1.0       1.0       1.0  \n",
       "Alcohol Consumption                  0.0       1.0       1.0       1.0  \n",
       "Exercise Hours Per Week              5.0      10.0      15.0      20.0  \n",
       "Diet                                 0.0       1.0       2.0       2.0  \n",
       "Previous Heart Problems              0.0       0.0       1.0       1.0  \n",
       "Medication Use                       0.0       0.0       1.0       1.0  \n",
       "Stress Level                         3.0       5.0       8.0      10.0  \n",
       "Sedentary Hours Per Day              3.0       6.0       9.0      12.0  \n",
       "Income                           88310.0  157866.0  227749.0  299954.0  \n",
       "BMI                                 23.0      29.0      34.0      40.0  \n",
       "Triglycerides                      225.5     417.0     612.0     800.0  \n",
       "Physical Activity Days Per Week      2.0       3.0       5.0       7.0  \n",
       "Sleep Hours Per Day                  5.0       7.0       9.0      10.0  \n",
       "Heart Attack Risk                    0.0       0.0       1.0       1.0  \n",
       "HBP                                112.0     135.0     158.0     180.0  \n",
       "LBP                                 72.0      85.0      98.0     110.0  "
      ]
     },
     "execution_count": 5,
     "metadata": {},
     "output_type": "execute_result"
    }
   ],
   "source": [
    "df.describe().transpose()"
   ]
  },
  {
   "cell_type": "code",
   "execution_count": null,
   "id": "453b65ff",
   "metadata": {},
   "outputs": [],
   "source": []
  },
  {
   "cell_type": "code",
   "execution_count": 6,
   "id": "151027e8",
   "metadata": {},
   "outputs": [],
   "source": [
    "X= df.drop(['Heart Attack Risk'], axis= 1)\n",
    "y= df['Heart Attack Risk']"
   ]
  },
  {
   "cell_type": "code",
   "execution_count": 7,
   "id": "e49eb021",
   "metadata": {},
   "outputs": [],
   "source": [
    "from sklearn.model_selection import train_test_split\n",
    "X_train, X_test, y_train, y_test= train_test_split(X, y, test_size= 0.2, random_state= 15, stratify= y)\n",
    "\n",
    "\n",
    "from sklearn.preprocessing import RobustScaler\n",
    "scaler= RobustScaler()\n",
    "scaler.fit(X_train)\n",
    "\n",
    "X_train= scaler.transform(X_train)\n",
    "X_test= scaler.transform(X_test)"
   ]
  },
  {
   "cell_type": "code",
   "execution_count": null,
   "id": "6b0826cd",
   "metadata": {},
   "outputs": [],
   "source": []
  },
  {
   "cell_type": "markdown",
   "id": "d0bf5ba8",
   "metadata": {},
   "source": [
    "--- LogisticRegression ---"
   ]
  },
  {
   "cell_type": "code",
   "execution_count": null,
   "id": "0f982495",
   "metadata": {},
   "outputs": [],
   "source": []
  },
  {
   "cell_type": "code",
   "execution_count": 8,
   "id": "790b3cfb",
   "metadata": {},
   "outputs": [
    {
     "name": "stdout",
     "output_type": "stream",
     "text": [
      "              precision    recall  f1-score   support\n",
      "\n",
      "           0       0.63      0.49      0.55      1125\n",
      "           1       0.35      0.49      0.41       628\n",
      "\n",
      "    accuracy                           0.49      1753\n",
      "   macro avg       0.49      0.49      0.48      1753\n",
      "weighted avg       0.53      0.49      0.50      1753\n",
      "\n",
      "Precision: 0.34650112866817157\n",
      "Accuracy: 0.48659440958357103\n",
      "AUC: 0.48709341825902336\n"
     ]
    }
   ],
   "source": [
    "from sklearn.metrics import confusion_matrix, classification_report, precision_score, roc_auc_score, accuracy_score\n",
    "from sklearn.linear_model import LogisticRegression\n",
    "lr_cs= LogisticRegression(random_state=15, class_weight= 'balanced', max_iter= 1000)\n",
    "lr_cs.fit(X_train, y_train)\n",
    "y_pred_lr_cs= lr_cs.predict(X_test)\n",
    "y_pred_prob_lr_cs= lr_cs.predict_proba(X_test)[:,1]\n",
    "\n",
    "cm= confusion_matrix(y_test, y_pred_lr_cs, labels= lr_cs.classes_)\n",
    "print(classification_report(y_test, y_pred_lr_cs, zero_division= 0))\n",
    "print('Precision:', precision_score(y_test, y_pred_lr_cs, zero_division= 0))\n",
    "print('Accuracy:', accuracy_score(y_test, y_pred_lr_cs))\n",
    "print('AUC:', roc_auc_score(y_test, y_pred_lr_cs))"
   ]
  },
  {
   "cell_type": "code",
   "execution_count": null,
   "id": "63f446a5",
   "metadata": {},
   "outputs": [],
   "source": []
  },
  {
   "cell_type": "markdown",
   "id": "935a91fa",
   "metadata": {},
   "source": [
    "--- DecisionTreeClassifier ---"
   ]
  },
  {
   "cell_type": "code",
   "execution_count": null,
   "id": "17227aab",
   "metadata": {},
   "outputs": [],
   "source": []
  },
  {
   "cell_type": "code",
   "execution_count": 9,
   "id": "4f328e19",
   "metadata": {},
   "outputs": [
    {
     "name": "stdout",
     "output_type": "stream",
     "text": [
      "              precision    recall  f1-score   support\n",
      "\n",
      "           0       0.64      0.63      0.64      1125\n",
      "           1       0.35      0.35      0.35       628\n",
      "\n",
      "    accuracy                           0.53      1753\n",
      "   macro avg       0.49      0.49      0.49      1753\n",
      "weighted avg       0.53      0.53      0.53      1753\n",
      "\n",
      "Precision: 0.3501577287066246\n",
      "Accuracy: 0.5333713633770679\n",
      "AUC: 0.4936404812455768\n"
     ]
    }
   ],
   "source": [
    "from sklearn.tree import DecisionTreeClassifier\n",
    "dt_cs= DecisionTreeClassifier(class_weight= 'balanced', random_state= 15)\n",
    "dt_cs.fit(X_train, y_train)\n",
    "y_pred_dt_cs= dt_cs.predict(X_test)\n",
    "y_pred_prob_dt_cs= dt_cs.predict_proba(X_test)[:,1]\n",
    "\n",
    "cm= confusion_matrix(y_test, y_pred_dt_cs, labels= dt_cs.classes_)\n",
    "print(classification_report(y_test, y_pred_dt_cs, zero_division= 0))\n",
    "print('Precision:', precision_score(y_test, y_pred_dt_cs, zero_division= 0))\n",
    "print('Accuracy:', accuracy_score(y_test, y_pred_dt_cs))\n",
    "print('AUC:', roc_auc_score(y_test, y_pred_prob_dt_cs))"
   ]
  },
  {
   "cell_type": "markdown",
   "id": "2b5ed7fc",
   "metadata": {},
   "source": [
    "--- Tuned - DecisionTreeClassifier ---"
   ]
  },
  {
   "cell_type": "code",
   "execution_count": null,
   "id": "8ca0fbe2",
   "metadata": {},
   "outputs": [],
   "source": []
  },
  {
   "cell_type": "code",
   "execution_count": 10,
   "id": "cb57a7c9",
   "metadata": {},
   "outputs": [
    {
     "name": "stdout",
     "output_type": "stream",
     "text": [
      "Best Parameters: {'criterion': 'gini', 'max_depth': 30, 'max_features': None, 'min_samples_leaf': 1, 'min_samples_split': 2}\n",
      "Best Precision Score: 0.37954070946562746\n"
     ]
    }
   ],
   "source": [
    "from sklearn.model_selection import GridSearchCV\n",
    "param_grid= {\n",
    "             'max_depth': [None, 10, 20, 30, 40, 50],\n",
    "             'min_samples_split': [2, 10, 20],\n",
    "             'min_samples_leaf': [1, 5, 10],\n",
    "             'max_features': [None, 'sqrt', 'log2'],\n",
    "             'criterion': ['gini', 'entropy']\n",
    "            }\n",
    "\n",
    "gs_dt_cs= GridSearchCV(estimator= dt_cs, param_grid= param_grid, cv= 5, scoring= 'precision')\n",
    "gs_dt_cs.fit(X_train, y_train)\n",
    "\n",
    "print(\"Best Parameters:\", gs_dt_cs.best_params_)\n",
    "print(\"Best Precision Score:\", gs_dt_cs.best_score_)"
   ]
  },
  {
   "cell_type": "code",
   "execution_count": 11,
   "id": "3e0146a2",
   "metadata": {},
   "outputs": [
    {
     "name": "stdout",
     "output_type": "stream",
     "text": [
      "              precision    recall  f1-score   support\n",
      "\n",
      "           0       0.64      0.64      0.64      1125\n",
      "           1       0.36      0.36      0.36       628\n",
      "\n",
      "    accuracy                           0.54      1753\n",
      "   macro avg       0.50      0.50      0.50      1753\n",
      "weighted avg       0.54      0.54      0.54      1753\n",
      "\n",
      "Precision: 0.3563579277864992\n",
      "Accuracy: 0.5373645179691957\n",
      "AUC: 0.4985102618542108\n"
     ]
    }
   ],
   "source": [
    "tuned_dt_cs= gs_dt_cs.best_estimator_\n",
    "y_pred_tuned_dt_cs= tuned_dt_cs.predict(X_test)\n",
    "y_pred_prob_tuned_dt_cs= tuned_dt_cs.predict_proba(X_test)[:,1]\n",
    "\n",
    "cm= confusion_matrix(y_test, y_pred_tuned_dt_cs, labels= tuned_dt_cs.classes_)\n",
    "print(classification_report(y_test, y_pred_tuned_dt_cs, zero_division= 0))\n",
    "print('Precision:', precision_score(y_test, y_pred_tuned_dt_cs, zero_division= 0))\n",
    "print('Accuracy:', accuracy_score(y_test, y_pred_tuned_dt_cs))\n",
    "print('AUC:', roc_auc_score(y_test, y_pred_prob_tuned_dt_cs))"
   ]
  },
  {
   "cell_type": "code",
   "execution_count": null,
   "id": "04681239",
   "metadata": {},
   "outputs": [],
   "source": []
  },
  {
   "cell_type": "markdown",
   "id": "0cc62ec3",
   "metadata": {},
   "source": [
    "--- SVM ---"
   ]
  },
  {
   "cell_type": "code",
   "execution_count": null,
   "id": "d446f144",
   "metadata": {},
   "outputs": [],
   "source": []
  },
  {
   "cell_type": "code",
   "execution_count": 12,
   "id": "f655fef3",
   "metadata": {},
   "outputs": [
    {
     "name": "stdout",
     "output_type": "stream",
     "text": [
      "              precision    recall  f1-score   support\n",
      "\n",
      "           0       0.64      0.99      0.78      1125\n",
      "           1       0.30      0.01      0.02       628\n",
      "\n",
      "    accuracy                           0.64      1753\n",
      "   macro avg       0.47      0.50      0.40      1753\n",
      "weighted avg       0.52      0.64      0.51      1753\n",
      "\n",
      "Precision: 0.30434782608695654\n",
      "Accuracy: 0.6366229321163719\n",
      "AUC: 0.489381457891012\n"
     ]
    }
   ],
   "source": [
    "from sklearn.svm import SVC\n",
    "svc_cs= SVC(kernel= 'rbf',probability= True, class_weight= 'balanced', gamma= 1, random_state= 15)\n",
    "svc_cs.fit(X_train, y_train)\n",
    "y_pred_svc_cs= svc_cs.predict(X_test)\n",
    "y_pred_prob_svc_cs= svc_cs.predict_proba(X_test)[:,1]\n",
    "\n",
    "cm= confusion_matrix(y_test, y_pred_svc_cs, labels= svc_cs.classes_)\n",
    "print(classification_report(y_test, y_pred_svc_cs, zero_division= 0))\n",
    "print('Precision:', precision_score(y_test, y_pred_svc_cs, zero_division= 0))\n",
    "print('Accuracy:', accuracy_score(y_test, y_pred_svc_cs))\n",
    "print('AUC:', roc_auc_score(y_test, y_pred_prob_svc_cs))"
   ]
  },
  {
   "cell_type": "code",
   "execution_count": null,
   "id": "b64e4268",
   "metadata": {},
   "outputs": [],
   "source": []
  },
  {
   "cell_type": "markdown",
   "id": "04c79ba0",
   "metadata": {},
   "source": [
    "--- Random Forest ---"
   ]
  },
  {
   "cell_type": "code",
   "execution_count": null,
   "id": "69542e4d",
   "metadata": {},
   "outputs": [],
   "source": []
  },
  {
   "cell_type": "code",
   "execution_count": 13,
   "id": "23d9f00e",
   "metadata": {},
   "outputs": [],
   "source": [
    "from sklearn.ensemble import RandomForestClassifier\n",
    "rf_cs= RandomForestClassifier(class_weight= 'balanced', random_state= 15)\n",
    "rf_cs.fit(X_train, y_train)\n",
    "y_pred_rf_cs= rf_cs.predict(X_test)\n",
    "y_pred_prob_rf_cs= rf_cs.predict_proba(X_test)[:,1]"
   ]
  },
  {
   "cell_type": "code",
   "execution_count": 14,
   "id": "4a3a4ca9",
   "metadata": {
    "scrolled": false
   },
   "outputs": [
    {
     "name": "stdout",
     "output_type": "stream",
     "text": [
      "              precision    recall  f1-score   support\n",
      "\n",
      "           0       0.64      0.98      0.78      1125\n",
      "           1       0.36      0.02      0.03       628\n",
      "\n",
      "    accuracy                           0.64      1753\n",
      "   macro avg       0.50      0.50      0.40      1753\n",
      "weighted avg       0.54      0.64      0.51      1753\n",
      "\n",
      "Precision: 0.35714285714285715\n",
      "Accuracy: 0.6371933827723902\n",
      "AUC: 0.5208662420382166\n"
     ]
    }
   ],
   "source": [
    "cm= confusion_matrix(y_test, y_pred_rf_cs, labels= rf_cs.classes_)\n",
    "print(classification_report(y_test, y_pred_rf_cs, zero_division= 0))\n",
    "print('Precision:', precision_score(y_test, y_pred_rf_cs, zero_division= 0))\n",
    "print('Accuracy:', accuracy_score(y_test, y_pred_rf_cs))\n",
    "print('AUC:', roc_auc_score(y_test, y_pred_prob_rf_cs))"
   ]
  },
  {
   "cell_type": "code",
   "execution_count": 15,
   "id": "f30d7119",
   "metadata": {},
   "outputs": [
    {
     "name": "stdout",
     "output_type": "stream",
     "text": [
      "Fitting 5 folds for each of 108 candidates, totalling 540 fits\n",
      "Best Parameters: {'max_depth': 30, 'min_samples_leaf': 1, 'min_samples_split': 2, 'n_estimators': 300}\n",
      "Best Precision Score: 0.569047619047619\n"
     ]
    }
   ],
   "source": [
    "param_grid= {\n",
    "             'n_estimators': [100, 200, 300],\n",
    "             'max_depth': [None, 10, 20, 30],\n",
    "             'min_samples_split': [2, 5, 10],\n",
    "             'min_samples_leaf': [1, 2, 4],\n",
    "            }\n",
    "\n",
    "gs_tuned_rf_cs= GridSearchCV(estimator= rf_cs, param_grid= param_grid, cv= 5, scoring= 'precision', n_jobs= -1, verbose= 2)\n",
    "gs_tuned_rf_cs.fit(X_train, y_train)\n",
    "print(\"Best Parameters:\", gs_tuned_rf_cs.best_params_)\n",
    "print(\"Best Precision Score:\", gs_tuned_rf_cs.best_score_)"
   ]
  },
  {
   "cell_type": "code",
   "execution_count": 16,
   "id": "741c1f08",
   "metadata": {},
   "outputs": [
    {
     "name": "stdout",
     "output_type": "stream",
     "text": [
      "              precision    recall  f1-score   support\n",
      "\n",
      "           0       0.64      1.00      0.78      1125\n",
      "           1       0.00      0.00      0.00       628\n",
      "\n",
      "    accuracy                           0.64      1753\n",
      "   macro avg       0.32      0.50      0.39      1753\n",
      "weighted avg       0.41      0.64      0.50      1753\n",
      "\n",
      "Precision: 0.0\n",
      "Accuracy: 0.6406160867084997\n",
      "AUC: 0.5340311394196744\n"
     ]
    }
   ],
   "source": [
    "tuned_rf_cs= gs_tuned_rf_cs.best_estimator_\n",
    "y_pred_tuned_rf_cs= tuned_rf_cs.predict(X_test)\n",
    "y_pred_prob_tuned_rf_cs= tuned_rf_cs.predict_proba(X_test)[:,1]\n",
    "\n",
    "cm= confusion_matrix(y_test, y_pred_tuned_rf_cs, labels= tuned_rf_cs.classes_)\n",
    "print(classification_report(y_test, y_pred_tuned_rf_cs, zero_division= 0))\n",
    "print('Precision:', precision_score(y_test, y_pred_tuned_rf_cs, zero_division= 0))\n",
    "print('Accuracy:', accuracy_score(y_test, y_pred_tuned_rf_cs))\n",
    "print('AUC:', roc_auc_score(y_test, y_pred_prob_tuned_rf_cs))"
   ]
  },
  {
   "cell_type": "markdown",
   "id": "73a70a30",
   "metadata": {},
   "source": [
    "--- AdaBoost ---"
   ]
  },
  {
   "cell_type": "code",
   "execution_count": 17,
   "id": "39e0218b",
   "metadata": {},
   "outputs": [],
   "source": [
    "from sklearn.ensemble import AdaBoostClassifier\n",
    "ada_cs= AdaBoostClassifier(random_state=15)\n",
    "ada_cs.fit(X_train, y_train, sample_weight= (y_train== 0).astype(int) + (y_train== 1).astype(int) * 2)\n",
    "y_pred_ada_cs= ada_cs.predict(X_test)\n",
    "y_pred_prob_ada_cs= ada_cs.predict_proba(X_test)[:,1]"
   ]
  },
  {
   "cell_type": "code",
   "execution_count": 18,
   "id": "342a43f8",
   "metadata": {
    "scrolled": false
   },
   "outputs": [
    {
     "name": "stdout",
     "output_type": "stream",
     "text": [
      "              precision    recall  f1-score   support\n",
      "\n",
      "           0       0.65      0.35      0.45      1125\n",
      "           1       0.36      0.66      0.47       628\n",
      "\n",
      "    accuracy                           0.46      1753\n",
      "   macro avg       0.51      0.51      0.46      1753\n",
      "weighted avg       0.55      0.46      0.46      1753\n",
      "\n",
      "Precision: 0.3622936576889661\n",
      "Accuracy: 0.46092413006274957\n",
      "AUC: 0.49761358811040346\n"
     ]
    }
   ],
   "source": [
    "cm= confusion_matrix(y_test, y_pred_ada_cs, labels= ada_cs.classes_)\n",
    "print(classification_report(y_test, y_pred_ada_cs, zero_division= 0))\n",
    "print('Precision:', precision_score(y_test, y_pred_ada_cs, zero_division= 0))\n",
    "print('Accuracy:', accuracy_score(y_test, y_pred_ada_cs))\n",
    "print('AUC:', roc_auc_score(y_test, y_pred_prob_ada_cs))"
   ]
  },
  {
   "cell_type": "code",
   "execution_count": 19,
   "id": "708588e4",
   "metadata": {},
   "outputs": [
    {
     "name": "stdout",
     "output_type": "stream",
     "text": [
      "Fitting 5 folds for each of 3 candidates, totalling 15 fits\n",
      "Best Parameters: {'n_estimators': 200}\n",
      "Best Precision Score: 0.3682910882671858\n"
     ]
    }
   ],
   "source": [
    "param_grid= {'n_estimators': [50, 100, 200]}\n",
    "\n",
    "gs_ada_cs= GridSearchCV(estimator= ada_cs, param_grid= param_grid, cv= 5, scoring= 'precision', n_jobs= -1, verbose= 2)\n",
    "gs_ada_cs.fit(X_train, y_train, sample_weight=(y_train == 0).astype(int) + (y_train == 1).astype(int) * 2)\n",
    "print(\"Best Parameters:\", gs_ada_cs.best_params_)\n",
    "print(\"Best Precision Score:\", gs_ada_cs.best_score_)"
   ]
  },
  {
   "cell_type": "code",
   "execution_count": 20,
   "id": "d85b3030",
   "metadata": {},
   "outputs": [
    {
     "name": "stdout",
     "output_type": "stream",
     "text": [
      "              precision    recall  f1-score   support\n",
      "\n",
      "           0       0.63      0.38      0.47      1125\n",
      "           1       0.35      0.59      0.44       628\n",
      "\n",
      "    accuracy                           0.46      1753\n",
      "   macro avg       0.49      0.49      0.46      1753\n",
      "weighted avg       0.53      0.46      0.46      1753\n",
      "\n",
      "Precision: 0.3477038425492034\n",
      "Accuracy: 0.45636052481460354\n",
      "AUC: 0.4934819532908705\n"
     ]
    }
   ],
   "source": [
    "tuned_ada_cs= gs_ada_cs.best_estimator_\n",
    "y_pred_tuned_ada_cs= tuned_ada_cs.predict(X_test)\n",
    "y_pred_prob_tuned_ada_cs= tuned_ada_cs.predict_proba(X_test)[:,1]\n",
    "\n",
    "cm= confusion_matrix(y_test, y_pred_tuned_ada_cs, labels= tuned_ada_cs.classes_)\n",
    "print(classification_report(y_test, y_pred_tuned_ada_cs, zero_division= 0))\n",
    "print('Precision:', precision_score(y_test, y_pred_tuned_ada_cs, zero_division= 0))\n",
    "print('Accuracy:', accuracy_score(y_test, y_pred_tuned_ada_cs))\n",
    "print('AUC:', roc_auc_score(y_test, y_pred_prob_tuned_ada_cs))"
   ]
  },
  {
   "cell_type": "code",
   "execution_count": null,
   "id": "260a91d7",
   "metadata": {},
   "outputs": [],
   "source": []
  },
  {
   "cell_type": "markdown",
   "id": "a74a4591",
   "metadata": {},
   "source": [
    "--- GradientBoosting ---"
   ]
  },
  {
   "cell_type": "code",
   "execution_count": 21,
   "id": "39fc7e71",
   "metadata": {
    "scrolled": false
   },
   "outputs": [
    {
     "name": "stdout",
     "output_type": "stream",
     "text": [
      "              precision    recall  f1-score   support\n",
      "\n",
      "           0       0.66      0.33      0.44      1125\n",
      "           1       0.36      0.69      0.48       628\n",
      "\n",
      "    accuracy                           0.46      1753\n",
      "   macro avg       0.51      0.51      0.46      1753\n",
      "weighted avg       0.55      0.46      0.45      1753\n",
      "\n",
      "Precision: 0.36486486486486486\n",
      "Accuracy: 0.4592127780946948\n",
      "AUC: 0.5038726114649681\n"
     ]
    }
   ],
   "source": [
    "from sklearn.ensemble import GradientBoostingClassifier\n",
    "grb_cs= GradientBoostingClassifier(random_state= 15)\n",
    "grb_cs.fit(X_train, y_train, sample_weight= (y_train== 0).astype(int) + (y_train== 1).astype(int) * 2)\n",
    "y_pred_grb_cs= grb_cs.predict(X_test)\n",
    "y_pred_prob_grb_cs= grb_cs.predict_proba(X_test)[:,1]\n",
    "\n",
    "\n",
    "cm= confusion_matrix(y_test, y_pred_grb_cs, labels= grb_cs.classes_)\n",
    "print(classification_report(y_test, y_pred_grb_cs, zero_division= 0))\n",
    "print('Precision:', precision_score(y_test, y_pred_grb_cs, zero_division= 0))\n",
    "print('Accuracy:', accuracy_score(y_test, y_pred_grb_cs))\n",
    "print('AUC:', roc_auc_score(y_test, y_pred_prob_grb_cs))"
   ]
  },
  {
   "cell_type": "code",
   "execution_count": 22,
   "id": "1020da31",
   "metadata": {},
   "outputs": [
    {
     "name": "stdout",
     "output_type": "stream",
     "text": [
      "Fitting 5 folds for each of 3 candidates, totalling 15 fits\n",
      "Best Parameters: {'learning_rate': 0.1}\n",
      "Best Precision Score: 0.3656010184908228\n"
     ]
    }
   ],
   "source": [
    "param_grid= {'learning_rate': [0.01, 0.1, 0.2]}\n",
    "\n",
    "gs_grb_cs= GridSearchCV(estimator= grb_cs, param_grid= param_grid, cv= 5, scoring= 'precision', n_jobs= -1, verbose= 2)\n",
    "gs_grb_cs.fit(X_train, y_train, sample_weight= (y_train== 0).astype(int) + (y_train== 1).astype(int) * 2)\n",
    "\n",
    "print(\"Best Parameters:\", gs_grb_cs.best_params_)\n",
    "print(\"Best Precision Score:\", gs_grb_cs.best_score_)"
   ]
  },
  {
   "cell_type": "code",
   "execution_count": 23,
   "id": "9bb445f5",
   "metadata": {},
   "outputs": [
    {
     "name": "stdout",
     "output_type": "stream",
     "text": [
      "              precision    recall  f1-score   support\n",
      "\n",
      "           0       0.66      0.33      0.44      1125\n",
      "           1       0.36      0.69      0.48       628\n",
      "\n",
      "    accuracy                           0.46      1753\n",
      "   macro avg       0.51      0.51      0.46      1753\n",
      "weighted avg       0.55      0.46      0.45      1753\n",
      "\n",
      "Precision: 0.36486486486486486\n",
      "Accuracy: 0.4592127780946948\n",
      "AUC: 0.5038726114649681\n"
     ]
    }
   ],
   "source": [
    "tuned_grb_cs= gs_grb_cs.best_estimator_\n",
    "y_pred_tuned_grb_cs= tuned_grb_cs.predict(X_test)\n",
    "y_pred_prob_tuned_grb_cs= tuned_grb_cs.predict_proba(X_test)[:,1]\n",
    "\n",
    "cm= confusion_matrix(y_test, y_pred_tuned_grb_cs, labels= tuned_grb_cs.classes_)\n",
    "print(classification_report(y_test, y_pred_tuned_grb_cs, zero_division= 0))\n",
    "print('Precision:', precision_score(y_test, y_pred_tuned_grb_cs, zero_division= 0))\n",
    "print('Accuracy:', accuracy_score(y_test, y_pred_tuned_grb_cs))\n",
    "print('AUC:', roc_auc_score(y_test, y_pred_prob_tuned_grb_cs))"
   ]
  },
  {
   "cell_type": "code",
   "execution_count": null,
   "id": "c9496232",
   "metadata": {},
   "outputs": [],
   "source": []
  },
  {
   "cell_type": "markdown",
   "id": "29ff8e08",
   "metadata": {},
   "source": [
    "--- XGB ---"
   ]
  },
  {
   "cell_type": "code",
   "execution_count": 24,
   "id": "8943f6b5",
   "metadata": {
    "scrolled": false
   },
   "outputs": [
    {
     "name": "stdout",
     "output_type": "stream",
     "text": [
      "              precision    recall  f1-score   support\n",
      "\n",
      "           0       0.65      0.67      0.66      1125\n",
      "           1       0.37      0.34      0.35       628\n",
      "\n",
      "    accuracy                           0.55      1753\n",
      "   macro avg       0.51      0.51      0.51      1753\n",
      "weighted avg       0.55      0.55      0.55      1753\n",
      "\n",
      "Precision: 0.36660929432013767\n",
      "Accuracy: 0.5533371363377068\n",
      "AUC: 0.504761500353857\n"
     ]
    }
   ],
   "source": [
    "from xgboost import XGBClassifier\n",
    "xgb_cs= XGBClassifier(scale_pos_weight= (y_train== 0).sum() / (y_train== 1).sum(), random_state= 15)\n",
    "xgb_cs.fit(X_train, y_train)\n",
    "y_pred_xgb_cs= xgb_cs.predict(X_test)\n",
    "y_pred_prob_xgb_cs= xgb_cs.predict_proba(X_test)[:,1]\n",
    "\n",
    "cm= confusion_matrix(y_test, y_pred_xgb_cs, labels= xgb_cs.classes_)\n",
    "print(classification_report(y_test, y_pred_xgb_cs, zero_division=0))\n",
    "print('Precision:', precision_score(y_test, y_pred_xgb_cs, zero_division=0))\n",
    "print('Accuracy:', accuracy_score(y_test, y_pred_xgb_cs))\n",
    "print('AUC:', roc_auc_score(y_test, y_pred_prob_xgb_cs))"
   ]
  },
  {
   "cell_type": "code",
   "execution_count": 25,
   "id": "da093569",
   "metadata": {},
   "outputs": [
    {
     "name": "stdout",
     "output_type": "stream",
     "text": [
      "Fitting 5 folds for each of 3 candidates, totalling 15 fits\n",
      "Best Parameters: {'learning_rate': 0.1}\n",
      "Best Precision Score: 0.369148752042389\n",
      "              precision    recall  f1-score   support\n",
      "\n",
      "           0       0.64      0.62      0.63      1125\n",
      "           1       0.35      0.37      0.36       628\n",
      "\n",
      "    accuracy                           0.53      1753\n",
      "   macro avg       0.49      0.49      0.49      1753\n",
      "weighted avg       0.54      0.53      0.53      1753\n",
      "\n",
      "Precision: 0.35135135135135137\n",
      "Accuracy: 0.5288077581289219\n",
      "AUC: 0.5082547770700636\n"
     ]
    }
   ],
   "source": [
    "params_XGBoost= {'learning_rate': [0.01, 0.1, 1.0]}\n",
    "\n",
    "gs_xgb_cs= GridSearchCV(estimator= xgb_cs, param_grid= params_XGBoost, cv= 5, scoring= 'precision', n_jobs= -1, verbose= 2)\n",
    "gs_xgb_cs.fit(X_train, y_train)\n",
    "\n",
    "print(\"Best Parameters:\", gs_xgb_cs.best_params_)\n",
    "print(\"Best Precision Score:\", gs_xgb_cs.best_score_)\n",
    "\n",
    "tuned_xgb_cs= gs_xgb_cs.best_estimator_\n",
    "y_pred_tuned_xgb_cs= tuned_xgb_cs.predict(X_test)\n",
    "y_pred_prob_tuned_xgb_cs= tuned_xgb_cs.predict_proba(X_test)[:,1]\n",
    "\n",
    "cm= confusion_matrix(y_test, y_pred_tuned_xgb_cs, labels= tuned_xgb_cs.classes_)\n",
    "print(classification_report(y_test, y_pred_tuned_xgb_cs, zero_division= 0))\n",
    "print('Precision:', precision_score(y_test, y_pred_tuned_xgb_cs, zero_division= 0))\n",
    "print('Accuracy:', accuracy_score(y_test, y_pred_tuned_xgb_cs))\n",
    "print('AUC:', roc_auc_score(y_test, y_pred_prob_tuned_xgb_cs))"
   ]
  },
  {
   "cell_type": "code",
   "execution_count": null,
   "id": "57bd651d",
   "metadata": {},
   "outputs": [],
   "source": []
  },
  {
   "cell_type": "markdown",
   "id": "fe4ddc2b",
   "metadata": {},
   "source": [
    "--- LGBM ---"
   ]
  },
  {
   "cell_type": "code",
   "execution_count": 26,
   "id": "0a1effa6",
   "metadata": {},
   "outputs": [
    {
     "name": "stdout",
     "output_type": "stream",
     "text": [
      "[LightGBM] [Info] Number of positive: 2511, number of negative: 4499\n",
      "[LightGBM] [Info] Auto-choosing row-wise multi-threading, the overhead of testing was 0.000593 seconds.\n",
      "You can set `force_row_wise=true` to remove the overhead.\n",
      "And if memory is not enough, you can set `force_col_wise=true`.\n",
      "[LightGBM] [Info] Total Bins 1145\n",
      "[LightGBM] [Info] Number of data points in the train set: 7010, number of used features: 22\n",
      "[LightGBM] [Info] [binary:BoostFromScore]: pavg=0.500000 -> initscore=-0.000000\n",
      "[LightGBM] [Info] Start training from score -0.000000\n",
      "              precision    recall  f1-score   support\n",
      "\n",
      "           0       0.65      0.64      0.65      1125\n",
      "           1       0.38      0.39      0.39       628\n",
      "\n",
      "    accuracy                           0.55      1753\n",
      "   macro avg       0.52      0.52      0.52      1753\n",
      "weighted avg       0.55      0.55      0.55      1753\n",
      "\n",
      "Precision: 0.37709923664122136\n",
      "Accuracy: 0.5499144324015972\n",
      "AUC: 0.519932059447983\n"
     ]
    }
   ],
   "source": [
    "from lightgbm import LGBMClassifier\n",
    "lgm_cs= LGBMClassifier(class_weight='balanced', random_state= 15)\n",
    "lgm_cs.fit(X_train, y_train)\n",
    "y_pred_lgm_cs= lgm_cs.predict(X_test)\n",
    "y_pred_prob_lgm_cs= lgm_cs.predict_proba(X_test)[:,1]\n",
    "\n",
    "cm= confusion_matrix(y_test, y_pred_lgm_cs, labels= lgm_cs.classes_)\n",
    "print(classification_report(y_test, y_pred_lgm_cs, zero_division= 0))\n",
    "print('Precision:', precision_score(y_test, y_pred_lgm_cs, zero_division= 0))\n",
    "print('Accuracy:', accuracy_score(y_test, y_pred_lgm_cs))\n",
    "print('AUC:', roc_auc_score(y_test, y_pred_prob_lgm_cs))"
   ]
  },
  {
   "cell_type": "code",
   "execution_count": 27,
   "id": "d9dec891",
   "metadata": {},
   "outputs": [
    {
     "name": "stdout",
     "output_type": "stream",
     "text": [
      "Fitting 5 folds for each of 80 candidates, totalling 400 fits\n",
      "[LightGBM] [Warning] min_data_in_leaf is set=30, min_child_samples=20 will be ignored. Current value: min_data_in_leaf=30\n",
      "[LightGBM] [Warning] min_data_in_leaf is set=30, min_child_samples=20 will be ignored. Current value: min_data_in_leaf=30\n",
      "[LightGBM] [Info] Number of positive: 2511, number of negative: 4499\n",
      "[LightGBM] [Info] Auto-choosing row-wise multi-threading, the overhead of testing was 0.000409 seconds.\n",
      "You can set `force_row_wise=true` to remove the overhead.\n",
      "And if memory is not enough, you can set `force_col_wise=true`.\n",
      "[LightGBM] [Info] Total Bins 1145\n",
      "[LightGBM] [Info] Number of data points in the train set: 7010, number of used features: 22\n",
      "[LightGBM] [Info] [binary:BoostFromScore]: pavg=0.500000 -> initscore=-0.000000\n",
      "[LightGBM] [Info] Start training from score -0.000000\n",
      "Best Parameters: {'learning_rate': 0.01, 'min_data_in_leaf': 30, 'num_leaves': 127, 'reg_alpha': 0.1}\n",
      "Best Precision Score: 0.3723139794169571\n",
      "[LightGBM] [Warning] min_data_in_leaf is set=30, min_child_samples=20 will be ignored. Current value: min_data_in_leaf=30\n",
      "[LightGBM] [Warning] min_data_in_leaf is set=30, min_child_samples=20 will be ignored. Current value: min_data_in_leaf=30\n",
      "              precision    recall  f1-score   support\n",
      "\n",
      "           0       0.65      0.61      0.63      1125\n",
      "           1       0.38      0.42      0.40       628\n",
      "\n",
      "    accuracy                           0.54      1753\n",
      "   macro avg       0.52      0.52      0.51      1753\n",
      "weighted avg       0.55      0.54      0.55      1753\n",
      "\n",
      "Precision: 0.3764367816091954\n",
      "Accuracy: 0.5436394751853965\n",
      "AUC: 0.5272625619249823\n"
     ]
    }
   ],
   "source": [
    "params_LGB= {'learning_rate': [0.001, 0.01, 0.1, 1.0],\n",
    "             'num_leaves': [31, 127],\n",
    "             'reg_alpha': [0.1, 0.5],\n",
    "             'min_data_in_leaf': [30, 50, 100, 300, 400]}\n",
    "\n",
    "gs_lgm_cs= GridSearchCV(estimator= lgm_cs, param_grid= params_LGB, cv=5, scoring='precision', n_jobs=-1, verbose=2)\n",
    "gs_lgm_cs.fit(X_train, y_train)\n",
    "\n",
    "print(\"Best Parameters:\", gs_lgm_cs.best_params_)\n",
    "print(\"Best Precision Score:\", gs_lgm_cs.best_score_)\n",
    "\n",
    "tuned_lgm_cs= gs_lgm_cs.best_estimator_\n",
    "y_pred_tuned_lgm_cs= tuned_lgm_cs.predict(X_test)\n",
    "y_pred_prob_tuned_lgm_cs= tuned_lgm_cs.predict_proba(X_test)[:,1]\n",
    "\n",
    "cm= confusion_matrix(y_test, y_pred_tuned_lgm_cs, labels= tuned_lgm_cs.classes_)\n",
    "print(classification_report(y_test, y_pred_tuned_lgm_cs, zero_division= 0))\n",
    "print('Precision:', precision_score(y_test, y_pred_tuned_lgm_cs, zero_division= 0))\n",
    "print('Accuracy:', accuracy_score(y_test, y_pred_tuned_lgm_cs))\n",
    "print('AUC:', roc_auc_score(y_test, y_pred_prob_tuned_lgm_cs))"
   ]
  },
  {
   "cell_type": "code",
   "execution_count": null,
   "id": "229ae9fa",
   "metadata": {},
   "outputs": [],
   "source": []
  },
  {
   "cell_type": "markdown",
   "id": "9a7670df",
   "metadata": {},
   "source": [
    "--- CatBoost ---"
   ]
  },
  {
   "cell_type": "code",
   "execution_count": 28,
   "id": "cfa1cef8",
   "metadata": {
    "scrolled": true
   },
   "outputs": [
    {
     "name": "stdout",
     "output_type": "stream",
     "text": [
      "              precision    recall  f1-score   support\n",
      "\n",
      "           0       0.65      0.67      0.66      1125\n",
      "           1       0.38      0.36      0.37       628\n",
      "\n",
      "    accuracy                           0.56      1753\n",
      "   macro avg       0.51      0.51      0.51      1753\n",
      "weighted avg       0.55      0.56      0.56      1753\n",
      "\n",
      "Precision: 0.3770764119601329\n",
      "Accuracy: 0.5573302909298345\n",
      "AUC: 0.5218782731776362\n"
     ]
    }
   ],
   "source": [
    "from catboost import CatBoostClassifier\n",
    "cat_cs= CatBoostClassifier(class_weights= [1, (y_train== 0).sum() / (y_train== 1).sum()], random_state=15, silent=True)\n",
    "cat_cs.fit(X_train, y_train)\n",
    "y_pred_cat_cs= cat_cs.predict(X_test)\n",
    "y_pred_prob_cat_cs= cat_cs.predict_proba(X_test)[:,1]\n",
    "\n",
    "cm= confusion_matrix(y_test, y_pred_cat_cs, labels= cat_cs.classes_)\n",
    "print(classification_report(y_test, y_pred_cat_cs, zero_division=0))\n",
    "print('Precision:', precision_score(y_test, y_pred_cat_cs, zero_division=0))\n",
    "print('Accuracy:', accuracy_score(y_test, y_pred_cat_cs))\n",
    "print('AUC:', roc_auc_score(y_test, y_pred_prob_cat_cs))"
   ]
  },
  {
   "cell_type": "code",
   "execution_count": null,
   "id": "dd8d322e",
   "metadata": {},
   "outputs": [],
   "source": []
  },
  {
   "cell_type": "code",
   "execution_count": 29,
   "id": "0af2c970",
   "metadata": {},
   "outputs": [
    {
     "name": "stdout",
     "output_type": "stream",
     "text": [
      "Fitting 5 folds for each of 36 candidates, totalling 180 fits\n",
      "Best Parameters: {'depth': 5, 'iterations': 50, 'learning_rate': 0.1}\n",
      "Best Precision Score: 0.37420723677922696\n",
      "              precision    recall  f1-score   support\n",
      "\n",
      "           0       0.64      0.53      0.58      1125\n",
      "           1       0.36      0.46      0.40       628\n",
      "\n",
      "    accuracy                           0.51      1753\n",
      "   macro avg       0.50      0.50      0.49      1753\n",
      "weighted avg       0.54      0.51      0.52      1753\n",
      "\n",
      "Precision: 0.3561811505507956\n",
      "Accuracy: 0.5077010838562465\n",
      "AUC: 0.5046043878273178\n"
     ]
    }
   ],
   "source": [
    "params_CatBoost= {\n",
    "                  'depth': [3,5,10],\n",
    "                  'learning_rate' : [0.01,0.1,1],\n",
    "                  'iterations' : [5,10,50,100]\n",
    "                 }\n",
    "\n",
    "gs_cat_cs= GridSearchCV(estimator= cat_cs, param_grid= params_CatBoost, cv= 5, scoring='precision', n_jobs= -1, verbose= 2)\n",
    "gs_cat_cs.fit(X_train, y_train)\n",
    "\n",
    "print(\"Best Parameters:\", gs_cat_cs.best_params_)\n",
    "print(\"Best Precision Score:\", gs_cat_cs.best_score_)\n",
    "\n",
    "tuned_cat_cs= gs_cat_cs.best_estimator_\n",
    "y_pred_tuned_cat_cs= tuned_cat_cs.predict(X_test)\n",
    "y_pred_prob_tuned_cat_cs= tuned_cat_cs.predict_proba(X_test)[:,1]\n",
    "\n",
    "cm= confusion_matrix(y_test, y_pred_tuned_cat_cs, labels= tuned_cat_cs.classes_)\n",
    "print(classification_report(y_test, y_pred_tuned_cat_cs, zero_division=0))\n",
    "print('Precision:', precision_score(y_test, y_pred_tuned_cat_cs, zero_division=0))\n",
    "print('Accuracy:', accuracy_score(y_test, y_pred_tuned_cat_cs))\n",
    "print('AUC:', roc_auc_score(y_test, y_pred_prob_tuned_cat_cs))"
   ]
  },
  {
   "cell_type": "code",
   "execution_count": null,
   "id": "44677a1f",
   "metadata": {},
   "outputs": [],
   "source": []
  },
  {
   "cell_type": "code",
   "execution_count": null,
   "id": "770d3077",
   "metadata": {},
   "outputs": [],
   "source": []
  },
  {
   "cell_type": "markdown",
   "id": "b57855ee",
   "metadata": {},
   "source": [
    "--- Visualisation ---"
   ]
  },
  {
   "cell_type": "code",
   "execution_count": 30,
   "id": "8a9d69fd",
   "metadata": {},
   "outputs": [
    {
     "name": "stdout",
     "output_type": "stream",
     "text": [
      "Logistic Regression Precision: 0.34650112866817157\n",
      "Decision Tree Precision: 0.3501577287066246\n",
      "Tuned Decision Tree Precision: 0.3563579277864992\n",
      "SVM Precision: 0.30434782608695654\n",
      "Random Forest Precision: 0.35714285714285715\n",
      "Tuned Random Forest Precision: 0.0\n",
      "AdaBoost Precision: 0.3622936576889661\n",
      "Tuned AdaBoost Precision: 0.3477038425492034\n",
      "GradientBoosting Precision: 0.36486486486486486\n",
      "Tuned GradientBoosting Precision: 0.36486486486486486\n",
      "XGB Precision: 0.36660929432013767\n",
      "Tuned XGB Precision: 0.35135135135135137\n",
      "LGBM Precision: 0.37709923664122136\n",
      "Tuned LGBM Precision: 0.3764367816091954\n",
      "CatBoost Precision: 0.3770764119601329\n",
      "Tuned CatBoost Precision: 0.3561811505507956\n"
     ]
    }
   ],
   "source": [
    "print('Logistic Regression Precision:', precision_score(y_test, y_pred_lr_cs, zero_division= 0))\n",
    "print('Decision Tree Precision:', precision_score(y_test, y_pred_dt_cs, zero_division= 0))\n",
    "print('Tuned Decision Tree Precision:', precision_score(y_test, y_pred_tuned_dt_cs, zero_division= 0))\n",
    "print('SVM Precision:', precision_score(y_test, y_pred_svc_cs, zero_division= 0))\n",
    "print('Random Forest Precision:', precision_score(y_test, y_pred_rf_cs, zero_division= 0))\n",
    "print('Tuned Random Forest Precision:', precision_score(y_test, y_pred_tuned_rf_cs, zero_division= 0))\n",
    "print('AdaBoost Precision:', precision_score(y_test, y_pred_ada_cs, zero_division= 0))\n",
    "print('Tuned AdaBoost Precision:', precision_score(y_test, y_pred_tuned_ada_cs, zero_division= 0))\n",
    "print('GradientBoosting Precision:', precision_score(y_test, y_pred_grb_cs, zero_division= 0))\n",
    "print('Tuned GradientBoosting Precision:', precision_score(y_test, y_pred_tuned_grb_cs, zero_division= 0))\n",
    "print('XGB Precision:', precision_score(y_test, y_pred_xgb_cs, zero_division= 0))\n",
    "print('Tuned XGB Precision:', precision_score(y_test, y_pred_tuned_xgb_cs, zero_division= 0))\n",
    "print('LGBM Precision:', precision_score(y_test, y_pred_lgm_cs, zero_division= 0))\n",
    "print('Tuned LGBM Precision:', precision_score(y_test, y_pred_tuned_lgm_cs, zero_division= 0))\n",
    "print('CatBoost Precision:', precision_score(y_test, y_pred_cat_cs, zero_division= 0))\n",
    "print('Tuned CatBoost Precision:', precision_score(y_test, y_pred_tuned_cat_cs, zero_division= 0))"
   ]
  },
  {
   "cell_type": "code",
   "execution_count": 31,
   "id": "9984fadc",
   "metadata": {},
   "outputs": [
    {
     "name": "stdout",
     "output_type": "stream",
     "text": [
      "                                Model  Precision Score\n",
      "12                    LGBM Precision:         0.377099\n",
      "14                CatBoost Precision:         0.377076\n",
      "13              Tuned LGBM Precision:         0.376437\n",
      "10                     XGB Precision:         0.366609\n",
      "8         GradientBoosting Precision:         0.364865\n",
      "9   Tuned GradientBoosting Precision:         0.364865\n",
      "6                 AdaBoost Precision:         0.362294\n",
      "4            Random Forest Precision:         0.357143\n",
      "2      Tuned Decision Tree Precision:         0.356358\n",
      "15          Tuned CatBoost Precision:         0.356181\n",
      "11               Tuned XGB Precision:         0.351351\n",
      "1            Decision Tree Precision:         0.350158\n",
      "7           Tuned AdaBoost Precision:         0.347704\n",
      "0      Logistic Regression Precision:         0.346501\n",
      "3                      SVM Precision:         0.304348\n",
      "5      Tuned Random Forest Precision:         0.000000\n"
     ]
    }
   ],
   "source": [
    "precision_scores= {\n",
    "                    'Logistic Regression Precision:': precision_score(y_test, y_pred_lr_cs, zero_division= 0),\n",
    "                    'Decision Tree Precision:': precision_score(y_test, y_pred_dt_cs, zero_division= 0),\n",
    "                    'Tuned Decision Tree Precision:': precision_score(y_test, y_pred_tuned_dt_cs, zero_division= 0),\n",
    "                    'SVM Precision:': precision_score(y_test, y_pred_svc_cs, zero_division= 0),\n",
    "                    'Random Forest Precision:': precision_score(y_test, y_pred_rf_cs, zero_division= 0),\n",
    "                    'Tuned Random Forest Precision:': precision_score(y_test, y_pred_tuned_rf_cs, zero_division= 0),\n",
    "                    'AdaBoost Precision:': precision_score(y_test, y_pred_ada_cs, zero_division= 0),\n",
    "                    'Tuned AdaBoost Precision:': precision_score(y_test, y_pred_tuned_ada_cs, zero_division= 0),\n",
    "                    'GradientBoosting Precision:': precision_score(y_test, y_pred_grb_cs, zero_division= 0),\n",
    "                    'Tuned GradientBoosting Precision:': precision_score(y_test, y_pred_tuned_grb_cs, zero_division= 0),\n",
    "                    'XGB Precision:': precision_score(y_test, y_pred_xgb_cs, zero_division= 0),\n",
    "                    'Tuned XGB Precision:': precision_score(y_test, y_pred_tuned_xgb_cs, zero_division= 0),\n",
    "                    'LGBM Precision:': precision_score(y_test, y_pred_lgm_cs, zero_division= 0),\n",
    "                    'Tuned LGBM Precision:': precision_score(y_test, y_pred_tuned_lgm_cs, zero_division= 0),\n",
    "                    'CatBoost Precision:': precision_score(y_test, y_pred_cat_cs, zero_division= 0),\n",
    "                    'Tuned CatBoost Precision:': precision_score(y_test, y_pred_tuned_cat_cs, zero_division= 0)\n",
    "                  }\n",
    "\n",
    "cs_precision= pd.DataFrame(list(precision_scores.items()), columns= ['Model', 'Precision Score'])\n",
    "cs_precision= cs_precision.sort_values(by= 'Precision Score', ascending=False)\n",
    "print(cs_precision)"
   ]
  },
  {
   "cell_type": "code",
   "execution_count": 32,
   "id": "209b0ea5",
   "metadata": {},
   "outputs": [
    {
     "name": "stdout",
     "output_type": "stream",
     "text": [
      "                               Model  Accuracy Score\n",
      "5      Tuned Random Forest Accuracy:        0.640616\n",
      "4            Random Forest Accuracy:        0.637193\n",
      "3                      SVM Accuracy:        0.636623\n",
      "14                CatBoost Accuracy:        0.557330\n",
      "10                     XGB Accuracy:        0.553337\n",
      "12                    LGBM Accuracy:        0.549914\n",
      "13              Tuned LGBM Accuracy:        0.543639\n",
      "2      Tuned Decision Tree Accuracy:        0.537365\n",
      "1            Decision Tree Accuracy:        0.533371\n",
      "11               Tuned XGB Accuracy:        0.528808\n",
      "15          Tuned CatBoost Accuracy:        0.507701\n",
      "0      Logistic Regression Accuracy:        0.486594\n",
      "6                 AdaBoost Accuracy:        0.460924\n",
      "8         GradientBoosting Accuracy:        0.459213\n",
      "9   Tuned GradientBoosting Accuracy:        0.459213\n",
      "7           Tuned AdaBoost Accuracy:        0.456361\n"
     ]
    }
   ],
   "source": [
    "accuracy_scores= {\n",
    "                    'Logistic Regression Accuracy:': accuracy_score(y_test, y_pred_lr_cs),\n",
    "                    'Decision Tree Accuracy:': accuracy_score(y_test, y_pred_dt_cs),\n",
    "                    'Tuned Decision Tree Accuracy:': accuracy_score(y_test, y_pred_tuned_dt_cs),\n",
    "                    'SVM Accuracy:': accuracy_score(y_test, y_pred_svc_cs),\n",
    "                    'Random Forest Accuracy:': accuracy_score(y_test, y_pred_rf_cs),\n",
    "                    'Tuned Random Forest Accuracy:': accuracy_score(y_test, y_pred_tuned_rf_cs),\n",
    "                    'AdaBoost Accuracy:': accuracy_score(y_test, y_pred_ada_cs),\n",
    "                    'Tuned AdaBoost Accuracy:': accuracy_score(y_test, y_pred_tuned_ada_cs),\n",
    "                    'GradientBoosting Accuracy:': accuracy_score(y_test, y_pred_grb_cs),\n",
    "                    'Tuned GradientBoosting Accuracy:': accuracy_score(y_test, y_pred_tuned_grb_cs),\n",
    "                    'XGB Accuracy:': accuracy_score(y_test, y_pred_xgb_cs),\n",
    "                    'Tuned XGB Accuracy:': accuracy_score(y_test, y_pred_tuned_xgb_cs),\n",
    "                    'LGBM Accuracy:': accuracy_score(y_test, y_pred_lgm_cs),\n",
    "                    'Tuned LGBM Accuracy:': accuracy_score(y_test, y_pred_tuned_lgm_cs),\n",
    "                    'CatBoost Accuracy:': accuracy_score(y_test, y_pred_cat_cs),\n",
    "                    'Tuned CatBoost Accuracy:': accuracy_score(y_test, y_pred_tuned_cat_cs)\n",
    "                  }\n",
    "\n",
    "cs_accuracy= pd.DataFrame(list(accuracy_scores.items()), columns= ['Model', 'Accuracy Score'])\n",
    "cs_accuracy= cs_accuracy.sort_values(by= 'Accuracy Score', ascending=False)\n",
    "print(cs_accuracy)"
   ]
  },
  {
   "cell_type": "code",
   "execution_count": 33,
   "id": "a7f99f97",
   "metadata": {},
   "outputs": [
    {
     "name": "stdout",
     "output_type": "stream",
     "text": [
      "                          Model  AUC Score\n",
      "5      Tuned Random Forest AUC:   0.534031\n",
      "13              Tuned LGBM AUC:   0.527263\n",
      "14                CatBoost AUC:   0.521878\n",
      "4            Random Forest AUC:   0.520866\n",
      "12                    LGBM AUC:   0.519932\n",
      "11               Tuned XGB AUC:   0.508255\n",
      "10                     XGB AUC:   0.504762\n",
      "15          Tuned CatBoost AUC:   0.504604\n",
      "8         GradientBoosting AUC:   0.503873\n",
      "9   Tuned GradientBoosting AUC:   0.503873\n",
      "2      Tuned Decision Tree AUC:   0.498510\n",
      "6                 AdaBoost AUC:   0.497614\n",
      "1            Decision Tree AUC:   0.493640\n",
      "7           Tuned AdaBoost AUC:   0.493482\n",
      "3                      SVM AUC:   0.489381\n",
      "0      Logistic Regression AUC:   0.482713\n"
     ]
    }
   ],
   "source": [
    "auc_scores= {\n",
    "                    'Logistic Regression AUC:': roc_auc_score(y_test, y_pred_prob_lr_cs),\n",
    "                    'Decision Tree AUC:': roc_auc_score(y_test, y_pred_prob_dt_cs),\n",
    "                    'Tuned Decision Tree AUC:': roc_auc_score(y_test, y_pred_prob_tuned_dt_cs),\n",
    "                    'SVM AUC:': roc_auc_score(y_test, y_pred_prob_svc_cs),\n",
    "                    'Random Forest AUC:': roc_auc_score(y_test, y_pred_prob_rf_cs),\n",
    "                    'Tuned Random Forest AUC:': roc_auc_score(y_test, y_pred_prob_tuned_rf_cs),\n",
    "                    'AdaBoost AUC:': roc_auc_score(y_test, y_pred_prob_ada_cs),\n",
    "                    'Tuned AdaBoost AUC:': roc_auc_score(y_test, y_pred_prob_tuned_ada_cs),\n",
    "                    'GradientBoosting AUC:': roc_auc_score(y_test, y_pred_prob_grb_cs),\n",
    "                    'Tuned GradientBoosting AUC:': roc_auc_score(y_test, y_pred_prob_tuned_grb_cs),\n",
    "                    'XGB AUC:': roc_auc_score(y_test, y_pred_prob_xgb_cs),\n",
    "                    'Tuned XGB AUC:': roc_auc_score(y_test, y_pred_prob_tuned_xgb_cs),\n",
    "                    'LGBM AUC:': roc_auc_score(y_test, y_pred_prob_lgm_cs),\n",
    "                    'Tuned LGBM AUC:': roc_auc_score(y_test, y_pred_prob_tuned_lgm_cs),\n",
    "                    'CatBoost AUC:': roc_auc_score(y_test, y_pred_prob_cat_cs),\n",
    "                    'Tuned CatBoost AUC:': roc_auc_score(y_test, y_pred_prob_tuned_cat_cs)\n",
    "                  }\n",
    "\n",
    "cs_auc= pd.DataFrame(list(auc_scores.items()), columns= ['Model', 'AUC Score'])\n",
    "cs_auc= cs_auc.sort_values(by= 'AUC Score', ascending=False)\n",
    "print(cs_auc)"
   ]
  },
  {
   "cell_type": "code",
   "execution_count": null,
   "id": "25c2ac15",
   "metadata": {},
   "outputs": [],
   "source": []
  },
  {
   "cell_type": "code",
   "execution_count": null,
   "id": "1dee7d67",
   "metadata": {},
   "outputs": [],
   "source": []
  },
  {
   "cell_type": "code",
   "execution_count": null,
   "id": "95d9919c",
   "metadata": {},
   "outputs": [],
   "source": []
  }
 ],
 "metadata": {
  "kernelspec": {
   "display_name": "Python 3 (ipykernel)",
   "language": "python",
   "name": "python3"
  },
  "language_info": {
   "codemirror_mode": {
    "name": "ipython",
    "version": 3
   },
   "file_extension": ".py",
   "mimetype": "text/x-python",
   "name": "python",
   "nbconvert_exporter": "python",
   "pygments_lexer": "ipython3",
   "version": "3.9.12"
  }
 },
 "nbformat": 4,
 "nbformat_minor": 5
}
