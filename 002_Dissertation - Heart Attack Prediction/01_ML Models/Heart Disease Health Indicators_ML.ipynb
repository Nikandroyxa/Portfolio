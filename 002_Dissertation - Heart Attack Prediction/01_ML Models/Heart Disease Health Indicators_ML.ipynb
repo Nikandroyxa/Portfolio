{
 "cells": [
  {
   "cell_type": "code",
   "execution_count": 1,
   "id": "f807d5eb",
   "metadata": {
    "scrolled": false
   },
   "outputs": [
    {
     "data": {
      "text/html": [
       "<div>\n",
       "<style scoped>\n",
       "    .dataframe tbody tr th:only-of-type {\n",
       "        vertical-align: middle;\n",
       "    }\n",
       "\n",
       "    .dataframe tbody tr th {\n",
       "        vertical-align: top;\n",
       "    }\n",
       "\n",
       "    .dataframe thead th {\n",
       "        text-align: right;\n",
       "    }\n",
       "</style>\n",
       "<table border=\"1\" class=\"dataframe\">\n",
       "  <thead>\n",
       "    <tr style=\"text-align: right;\">\n",
       "      <th></th>\n",
       "      <th>HeartDiseaseorAttack</th>\n",
       "      <th>HighBP</th>\n",
       "      <th>HighChol</th>\n",
       "      <th>CholCheck</th>\n",
       "      <th>BMI</th>\n",
       "      <th>Smoker</th>\n",
       "      <th>Stroke</th>\n",
       "      <th>Diabetes</th>\n",
       "      <th>PhysActivity</th>\n",
       "      <th>Fruits</th>\n",
       "      <th>...</th>\n",
       "      <th>AnyHealthcare</th>\n",
       "      <th>NoDocbcCost</th>\n",
       "      <th>GenHlth</th>\n",
       "      <th>MentHlth</th>\n",
       "      <th>PhysHlth</th>\n",
       "      <th>DiffWalk</th>\n",
       "      <th>Sex</th>\n",
       "      <th>Age</th>\n",
       "      <th>Education</th>\n",
       "      <th>Income</th>\n",
       "    </tr>\n",
       "  </thead>\n",
       "  <tbody>\n",
       "    <tr>\n",
       "      <th>0</th>\n",
       "      <td>0</td>\n",
       "      <td>1</td>\n",
       "      <td>1</td>\n",
       "      <td>1</td>\n",
       "      <td>40</td>\n",
       "      <td>1</td>\n",
       "      <td>0</td>\n",
       "      <td>0</td>\n",
       "      <td>0</td>\n",
       "      <td>0</td>\n",
       "      <td>...</td>\n",
       "      <td>1</td>\n",
       "      <td>0</td>\n",
       "      <td>5</td>\n",
       "      <td>18</td>\n",
       "      <td>15</td>\n",
       "      <td>1</td>\n",
       "      <td>0</td>\n",
       "      <td>9</td>\n",
       "      <td>4</td>\n",
       "      <td>3</td>\n",
       "    </tr>\n",
       "    <tr>\n",
       "      <th>1</th>\n",
       "      <td>0</td>\n",
       "      <td>0</td>\n",
       "      <td>0</td>\n",
       "      <td>0</td>\n",
       "      <td>25</td>\n",
       "      <td>1</td>\n",
       "      <td>0</td>\n",
       "      <td>0</td>\n",
       "      <td>1</td>\n",
       "      <td>0</td>\n",
       "      <td>...</td>\n",
       "      <td>0</td>\n",
       "      <td>1</td>\n",
       "      <td>3</td>\n",
       "      <td>0</td>\n",
       "      <td>0</td>\n",
       "      <td>0</td>\n",
       "      <td>0</td>\n",
       "      <td>7</td>\n",
       "      <td>6</td>\n",
       "      <td>1</td>\n",
       "    </tr>\n",
       "    <tr>\n",
       "      <th>2</th>\n",
       "      <td>0</td>\n",
       "      <td>1</td>\n",
       "      <td>1</td>\n",
       "      <td>1</td>\n",
       "      <td>28</td>\n",
       "      <td>0</td>\n",
       "      <td>0</td>\n",
       "      <td>0</td>\n",
       "      <td>0</td>\n",
       "      <td>1</td>\n",
       "      <td>...</td>\n",
       "      <td>1</td>\n",
       "      <td>1</td>\n",
       "      <td>5</td>\n",
       "      <td>30</td>\n",
       "      <td>30</td>\n",
       "      <td>1</td>\n",
       "      <td>0</td>\n",
       "      <td>9</td>\n",
       "      <td>4</td>\n",
       "      <td>8</td>\n",
       "    </tr>\n",
       "    <tr>\n",
       "      <th>3</th>\n",
       "      <td>0</td>\n",
       "      <td>1</td>\n",
       "      <td>0</td>\n",
       "      <td>1</td>\n",
       "      <td>27</td>\n",
       "      <td>0</td>\n",
       "      <td>0</td>\n",
       "      <td>0</td>\n",
       "      <td>1</td>\n",
       "      <td>1</td>\n",
       "      <td>...</td>\n",
       "      <td>1</td>\n",
       "      <td>0</td>\n",
       "      <td>2</td>\n",
       "      <td>0</td>\n",
       "      <td>0</td>\n",
       "      <td>0</td>\n",
       "      <td>0</td>\n",
       "      <td>11</td>\n",
       "      <td>3</td>\n",
       "      <td>6</td>\n",
       "    </tr>\n",
       "    <tr>\n",
       "      <th>4</th>\n",
       "      <td>0</td>\n",
       "      <td>1</td>\n",
       "      <td>1</td>\n",
       "      <td>1</td>\n",
       "      <td>24</td>\n",
       "      <td>0</td>\n",
       "      <td>0</td>\n",
       "      <td>0</td>\n",
       "      <td>1</td>\n",
       "      <td>1</td>\n",
       "      <td>...</td>\n",
       "      <td>1</td>\n",
       "      <td>0</td>\n",
       "      <td>2</td>\n",
       "      <td>3</td>\n",
       "      <td>0</td>\n",
       "      <td>0</td>\n",
       "      <td>0</td>\n",
       "      <td>11</td>\n",
       "      <td>5</td>\n",
       "      <td>4</td>\n",
       "    </tr>\n",
       "  </tbody>\n",
       "</table>\n",
       "<p>5 rows × 22 columns</p>\n",
       "</div>"
      ],
      "text/plain": [
       "   HeartDiseaseorAttack  HighBP  HighChol  CholCheck  BMI  Smoker  Stroke  \\\n",
       "0                     0       1         1          1   40       1       0   \n",
       "1                     0       0         0          0   25       1       0   \n",
       "2                     0       1         1          1   28       0       0   \n",
       "3                     0       1         0          1   27       0       0   \n",
       "4                     0       1         1          1   24       0       0   \n",
       "\n",
       "   Diabetes  PhysActivity  Fruits  ...  AnyHealthcare  NoDocbcCost  GenHlth  \\\n",
       "0         0             0       0  ...              1            0        5   \n",
       "1         0             1       0  ...              0            1        3   \n",
       "2         0             0       1  ...              1            1        5   \n",
       "3         0             1       1  ...              1            0        2   \n",
       "4         0             1       1  ...              1            0        2   \n",
       "\n",
       "   MentHlth  PhysHlth  DiffWalk  Sex  Age  Education  Income  \n",
       "0        18        15         1    0    9          4       3  \n",
       "1         0         0         0    0    7          6       1  \n",
       "2        30        30         1    0    9          4       8  \n",
       "3         0         0         0    0   11          3       6  \n",
       "4         3         0         0    0   11          5       4  \n",
       "\n",
       "[5 rows x 22 columns]"
      ]
     },
     "execution_count": 1,
     "metadata": {},
     "output_type": "execute_result"
    }
   ],
   "source": [
    "import pandas as pd\n",
    "import seaborn as sns\n",
    "import matplotlib.pyplot as plt\n",
    "import numpy as np\n",
    "\n",
    "df= pd.read_csv('C://Users//User//Desktop//MSc Westminster//Dissertation//DataSets//Heart_Disease_Indicators.csv')\n",
    "df.head(5)"
   ]
  },
  {
   "cell_type": "code",
   "execution_count": 2,
   "id": "2ea465ea",
   "metadata": {},
   "outputs": [
    {
     "name": "stdout",
     "output_type": "stream",
     "text": [
      "0    0.90582\n",
      "1    0.09418\n",
      "Name: HeartDiseaseorAttack, dtype: float64\n"
     ]
    }
   ],
   "source": [
    "from sklearn.model_selection import train_test_split\n",
    "\n",
    "target_size = 50000\n",
    "\n",
    "num_class_0 = int(target_size * df['HeartDiseaseorAttack'].value_counts(normalize=True)[0])\n",
    "num_class_1 = target_size - num_class_0\n",
    "\n",
    "df_class_0 = df[df['HeartDiseaseorAttack'] == 0]\n",
    "df_class_1 = df[df['HeartDiseaseorAttack'] == 1]\n",
    "\n",
    "df_class_0_sampled = df_class_0.sample(n=num_class_0, random_state=15)\n",
    "df_class_1_sampled = df_class_1.sample(n=num_class_1, random_state=15)\n",
    "\n",
    "df_sampled = pd.concat([df_class_0_sampled, df_class_1_sampled])\n",
    "\n",
    "df_sampled = df_sampled.sample(frac=1, random_state=15).reset_index(drop=True)\n",
    "df= df_sampled\n",
    "print(df['HeartDiseaseorAttack'].value_counts(normalize=True))"
   ]
  },
  {
   "cell_type": "code",
   "execution_count": 3,
   "id": "d77e531a",
   "metadata": {},
   "outputs": [
    {
     "name": "stdout",
     "output_type": "stream",
     "text": [
      "<class 'pandas.core.frame.DataFrame'>\n",
      "RangeIndex: 50000 entries, 0 to 49999\n",
      "Data columns (total 22 columns):\n",
      " #   Column                Non-Null Count  Dtype\n",
      "---  ------                --------------  -----\n",
      " 0   HeartDiseaseorAttack  50000 non-null  int64\n",
      " 1   HighBP                50000 non-null  int64\n",
      " 2   HighChol              50000 non-null  int64\n",
      " 3   CholCheck             50000 non-null  int64\n",
      " 4   BMI                   50000 non-null  int64\n",
      " 5   Smoker                50000 non-null  int64\n",
      " 6   Stroke                50000 non-null  int64\n",
      " 7   Diabetes              50000 non-null  int64\n",
      " 8   PhysActivity          50000 non-null  int64\n",
      " 9   Fruits                50000 non-null  int64\n",
      " 10  Veggies               50000 non-null  int64\n",
      " 11  HvyAlcoholConsump     50000 non-null  int64\n",
      " 12  AnyHealthcare         50000 non-null  int64\n",
      " 13  NoDocbcCost           50000 non-null  int64\n",
      " 14  GenHlth               50000 non-null  int64\n",
      " 15  MentHlth              50000 non-null  int64\n",
      " 16  PhysHlth              50000 non-null  int64\n",
      " 17  DiffWalk              50000 non-null  int64\n",
      " 18  Sex                   50000 non-null  int64\n",
      " 19  Age                   50000 non-null  int64\n",
      " 20  Education             50000 non-null  int64\n",
      " 21  Income                50000 non-null  int64\n",
      "dtypes: int64(22)\n",
      "memory usage: 8.4 MB\n"
     ]
    }
   ],
   "source": [
    "df.info()"
   ]
  },
  {
   "cell_type": "code",
   "execution_count": 4,
   "id": "bfa3c756",
   "metadata": {},
   "outputs": [
    {
     "data": {
      "text/plain": [
       "HeartDiseaseorAttack    0\n",
       "HighBP                  0\n",
       "HighChol                0\n",
       "CholCheck               0\n",
       "BMI                     0\n",
       "Smoker                  0\n",
       "Stroke                  0\n",
       "Diabetes                0\n",
       "PhysActivity            0\n",
       "Fruits                  0\n",
       "Veggies                 0\n",
       "HvyAlcoholConsump       0\n",
       "AnyHealthcare           0\n",
       "NoDocbcCost             0\n",
       "GenHlth                 0\n",
       "MentHlth                0\n",
       "PhysHlth                0\n",
       "DiffWalk                0\n",
       "Sex                     0\n",
       "Age                     0\n",
       "Education               0\n",
       "Income                  0\n",
       "dtype: int64"
      ]
     },
     "execution_count": 4,
     "metadata": {},
     "output_type": "execute_result"
    }
   ],
   "source": [
    "df.isnull().sum()"
   ]
  },
  {
   "cell_type": "code",
   "execution_count": 5,
   "id": "e882eadd",
   "metadata": {},
   "outputs": [
    {
     "data": {
      "text/plain": [
       "1950"
      ]
     },
     "execution_count": 5,
     "metadata": {},
     "output_type": "execute_result"
    }
   ],
   "source": [
    "df.duplicated().sum()"
   ]
  },
  {
   "cell_type": "code",
   "execution_count": 6,
   "id": "6be2a80d",
   "metadata": {
    "scrolled": false
   },
   "outputs": [
    {
     "data": {
      "text/plain": [
       "(48050, 22)"
      ]
     },
     "execution_count": 6,
     "metadata": {},
     "output_type": "execute_result"
    }
   ],
   "source": [
    "df.drop_duplicates(inplace= True)\n",
    "df.shape"
   ]
  },
  {
   "cell_type": "code",
   "execution_count": 7,
   "id": "ea681c0c",
   "metadata": {
    "scrolled": true
   },
   "outputs": [
    {
     "data": {
      "text/plain": [
       "0    40175\n",
       "2     6968\n",
       "1      907\n",
       "Name: Diabetes, dtype: int64"
      ]
     },
     "execution_count": 7,
     "metadata": {},
     "output_type": "execute_result"
    }
   ],
   "source": [
    "df['Diabetes'].value_counts()"
   ]
  },
  {
   "cell_type": "code",
   "execution_count": 8,
   "id": "039424b6",
   "metadata": {},
   "outputs": [
    {
     "name": "stdout",
     "output_type": "stream",
     "text": [
      "0    40175\n",
      "1     6968\n",
      "Name: Diabetes, dtype: int64\n"
     ]
    }
   ],
   "source": [
    "df= df[df['Diabetes'] != 1].copy()\n",
    "df.loc[df['Diabetes'] == 2, 'Diabetes'] = 1\n",
    "print(df['Diabetes'].value_counts())"
   ]
  },
  {
   "cell_type": "code",
   "execution_count": 9,
   "id": "de0a5a4e",
   "metadata": {},
   "outputs": [
    {
     "data": {
      "text/html": [
       "<div>\n",
       "<style scoped>\n",
       "    .dataframe tbody tr th:only-of-type {\n",
       "        vertical-align: middle;\n",
       "    }\n",
       "\n",
       "    .dataframe tbody tr th {\n",
       "        vertical-align: top;\n",
       "    }\n",
       "\n",
       "    .dataframe thead th {\n",
       "        text-align: right;\n",
       "    }\n",
       "</style>\n",
       "<table border=\"1\" class=\"dataframe\">\n",
       "  <thead>\n",
       "    <tr style=\"text-align: right;\">\n",
       "      <th></th>\n",
       "      <th>count</th>\n",
       "      <th>mean</th>\n",
       "      <th>std</th>\n",
       "      <th>min</th>\n",
       "      <th>25%</th>\n",
       "      <th>50%</th>\n",
       "      <th>75%</th>\n",
       "      <th>max</th>\n",
       "    </tr>\n",
       "  </thead>\n",
       "  <tbody>\n",
       "    <tr>\n",
       "      <th>HeartDiseaseorAttack</th>\n",
       "      <td>47143.0</td>\n",
       "      <td>0.096748</td>\n",
       "      <td>0.295618</td>\n",
       "      <td>0.0</td>\n",
       "      <td>0.0</td>\n",
       "      <td>0.0</td>\n",
       "      <td>0.0</td>\n",
       "      <td>1.0</td>\n",
       "    </tr>\n",
       "    <tr>\n",
       "      <th>HighBP</th>\n",
       "      <td>47143.0</td>\n",
       "      <td>0.433765</td>\n",
       "      <td>0.495599</td>\n",
       "      <td>0.0</td>\n",
       "      <td>0.0</td>\n",
       "      <td>0.0</td>\n",
       "      <td>1.0</td>\n",
       "      <td>1.0</td>\n",
       "    </tr>\n",
       "    <tr>\n",
       "      <th>HighChol</th>\n",
       "      <td>47143.0</td>\n",
       "      <td>0.428632</td>\n",
       "      <td>0.494886</td>\n",
       "      <td>0.0</td>\n",
       "      <td>0.0</td>\n",
       "      <td>0.0</td>\n",
       "      <td>1.0</td>\n",
       "      <td>1.0</td>\n",
       "    </tr>\n",
       "    <tr>\n",
       "      <th>CholCheck</th>\n",
       "      <td>47143.0</td>\n",
       "      <td>0.960227</td>\n",
       "      <td>0.195427</td>\n",
       "      <td>0.0</td>\n",
       "      <td>1.0</td>\n",
       "      <td>1.0</td>\n",
       "      <td>1.0</td>\n",
       "      <td>1.0</td>\n",
       "    </tr>\n",
       "    <tr>\n",
       "      <th>BMI</th>\n",
       "      <td>47143.0</td>\n",
       "      <td>28.476677</td>\n",
       "      <td>6.610910</td>\n",
       "      <td>12.0</td>\n",
       "      <td>24.0</td>\n",
       "      <td>27.0</td>\n",
       "      <td>31.0</td>\n",
       "      <td>98.0</td>\n",
       "    </tr>\n",
       "    <tr>\n",
       "      <th>Smoker</th>\n",
       "      <td>47143.0</td>\n",
       "      <td>0.450523</td>\n",
       "      <td>0.497551</td>\n",
       "      <td>0.0</td>\n",
       "      <td>0.0</td>\n",
       "      <td>0.0</td>\n",
       "      <td>1.0</td>\n",
       "      <td>1.0</td>\n",
       "    </tr>\n",
       "    <tr>\n",
       "      <th>Stroke</th>\n",
       "      <td>47143.0</td>\n",
       "      <td>0.041151</td>\n",
       "      <td>0.198642</td>\n",
       "      <td>0.0</td>\n",
       "      <td>0.0</td>\n",
       "      <td>0.0</td>\n",
       "      <td>0.0</td>\n",
       "      <td>1.0</td>\n",
       "    </tr>\n",
       "    <tr>\n",
       "      <th>Diabetes</th>\n",
       "      <td>47143.0</td>\n",
       "      <td>0.147806</td>\n",
       "      <td>0.354911</td>\n",
       "      <td>0.0</td>\n",
       "      <td>0.0</td>\n",
       "      <td>0.0</td>\n",
       "      <td>0.0</td>\n",
       "      <td>1.0</td>\n",
       "    </tr>\n",
       "    <tr>\n",
       "      <th>PhysActivity</th>\n",
       "      <td>47143.0</td>\n",
       "      <td>0.752180</td>\n",
       "      <td>0.431752</td>\n",
       "      <td>0.0</td>\n",
       "      <td>1.0</td>\n",
       "      <td>1.0</td>\n",
       "      <td>1.0</td>\n",
       "      <td>1.0</td>\n",
       "    </tr>\n",
       "    <tr>\n",
       "      <th>Fruits</th>\n",
       "      <td>47143.0</td>\n",
       "      <td>0.626201</td>\n",
       "      <td>0.483816</td>\n",
       "      <td>0.0</td>\n",
       "      <td>0.0</td>\n",
       "      <td>1.0</td>\n",
       "      <td>1.0</td>\n",
       "      <td>1.0</td>\n",
       "    </tr>\n",
       "    <tr>\n",
       "      <th>Veggies</th>\n",
       "      <td>47143.0</td>\n",
       "      <td>0.804255</td>\n",
       "      <td>0.396777</td>\n",
       "      <td>0.0</td>\n",
       "      <td>1.0</td>\n",
       "      <td>1.0</td>\n",
       "      <td>1.0</td>\n",
       "      <td>1.0</td>\n",
       "    </tr>\n",
       "    <tr>\n",
       "      <th>HvyAlcoholConsump</th>\n",
       "      <td>47143.0</td>\n",
       "      <td>0.058227</td>\n",
       "      <td>0.234175</td>\n",
       "      <td>0.0</td>\n",
       "      <td>0.0</td>\n",
       "      <td>0.0</td>\n",
       "      <td>0.0</td>\n",
       "      <td>1.0</td>\n",
       "    </tr>\n",
       "    <tr>\n",
       "      <th>AnyHealthcare</th>\n",
       "      <td>47143.0</td>\n",
       "      <td>0.949515</td>\n",
       "      <td>0.218945</td>\n",
       "      <td>0.0</td>\n",
       "      <td>1.0</td>\n",
       "      <td>1.0</td>\n",
       "      <td>1.0</td>\n",
       "      <td>1.0</td>\n",
       "    </tr>\n",
       "    <tr>\n",
       "      <th>NoDocbcCost</th>\n",
       "      <td>47143.0</td>\n",
       "      <td>0.087860</td>\n",
       "      <td>0.283095</td>\n",
       "      <td>0.0</td>\n",
       "      <td>0.0</td>\n",
       "      <td>0.0</td>\n",
       "      <td>0.0</td>\n",
       "      <td>1.0</td>\n",
       "    </tr>\n",
       "    <tr>\n",
       "      <th>GenHlth</th>\n",
       "      <td>47143.0</td>\n",
       "      <td>2.543262</td>\n",
       "      <td>1.062666</td>\n",
       "      <td>1.0</td>\n",
       "      <td>2.0</td>\n",
       "      <td>2.0</td>\n",
       "      <td>3.0</td>\n",
       "      <td>5.0</td>\n",
       "    </tr>\n",
       "    <tr>\n",
       "      <th>MentHlth</th>\n",
       "      <td>47143.0</td>\n",
       "      <td>3.297096</td>\n",
       "      <td>7.511928</td>\n",
       "      <td>0.0</td>\n",
       "      <td>0.0</td>\n",
       "      <td>0.0</td>\n",
       "      <td>2.0</td>\n",
       "      <td>30.0</td>\n",
       "    </tr>\n",
       "    <tr>\n",
       "      <th>PhysHlth</th>\n",
       "      <td>47143.0</td>\n",
       "      <td>4.390069</td>\n",
       "      <td>8.800696</td>\n",
       "      <td>0.0</td>\n",
       "      <td>0.0</td>\n",
       "      <td>0.0</td>\n",
       "      <td>3.0</td>\n",
       "      <td>30.0</td>\n",
       "    </tr>\n",
       "    <tr>\n",
       "      <th>DiffWalk</th>\n",
       "      <td>47143.0</td>\n",
       "      <td>0.174851</td>\n",
       "      <td>0.379844</td>\n",
       "      <td>0.0</td>\n",
       "      <td>0.0</td>\n",
       "      <td>0.0</td>\n",
       "      <td>0.0</td>\n",
       "      <td>1.0</td>\n",
       "    </tr>\n",
       "    <tr>\n",
       "      <th>Sex</th>\n",
       "      <td>47143.0</td>\n",
       "      <td>0.438177</td>\n",
       "      <td>0.496169</td>\n",
       "      <td>0.0</td>\n",
       "      <td>0.0</td>\n",
       "      <td>0.0</td>\n",
       "      <td>1.0</td>\n",
       "      <td>1.0</td>\n",
       "    </tr>\n",
       "    <tr>\n",
       "      <th>Age</th>\n",
       "      <td>47143.0</td>\n",
       "      <td>8.028361</td>\n",
       "      <td>3.093384</td>\n",
       "      <td>1.0</td>\n",
       "      <td>6.0</td>\n",
       "      <td>8.0</td>\n",
       "      <td>10.0</td>\n",
       "      <td>13.0</td>\n",
       "    </tr>\n",
       "    <tr>\n",
       "      <th>Education</th>\n",
       "      <td>47143.0</td>\n",
       "      <td>5.021785</td>\n",
       "      <td>0.984723</td>\n",
       "      <td>1.0</td>\n",
       "      <td>4.0</td>\n",
       "      <td>5.0</td>\n",
       "      <td>6.0</td>\n",
       "      <td>6.0</td>\n",
       "    </tr>\n",
       "    <tr>\n",
       "      <th>Income</th>\n",
       "      <td>47143.0</td>\n",
       "      <td>5.995058</td>\n",
       "      <td>2.080677</td>\n",
       "      <td>1.0</td>\n",
       "      <td>5.0</td>\n",
       "      <td>7.0</td>\n",
       "      <td>8.0</td>\n",
       "      <td>8.0</td>\n",
       "    </tr>\n",
       "  </tbody>\n",
       "</table>\n",
       "</div>"
      ],
      "text/plain": [
       "                        count       mean       std   min   25%   50%   75%  \\\n",
       "HeartDiseaseorAttack  47143.0   0.096748  0.295618   0.0   0.0   0.0   0.0   \n",
       "HighBP                47143.0   0.433765  0.495599   0.0   0.0   0.0   1.0   \n",
       "HighChol              47143.0   0.428632  0.494886   0.0   0.0   0.0   1.0   \n",
       "CholCheck             47143.0   0.960227  0.195427   0.0   1.0   1.0   1.0   \n",
       "BMI                   47143.0  28.476677  6.610910  12.0  24.0  27.0  31.0   \n",
       "Smoker                47143.0   0.450523  0.497551   0.0   0.0   0.0   1.0   \n",
       "Stroke                47143.0   0.041151  0.198642   0.0   0.0   0.0   0.0   \n",
       "Diabetes              47143.0   0.147806  0.354911   0.0   0.0   0.0   0.0   \n",
       "PhysActivity          47143.0   0.752180  0.431752   0.0   1.0   1.0   1.0   \n",
       "Fruits                47143.0   0.626201  0.483816   0.0   0.0   1.0   1.0   \n",
       "Veggies               47143.0   0.804255  0.396777   0.0   1.0   1.0   1.0   \n",
       "HvyAlcoholConsump     47143.0   0.058227  0.234175   0.0   0.0   0.0   0.0   \n",
       "AnyHealthcare         47143.0   0.949515  0.218945   0.0   1.0   1.0   1.0   \n",
       "NoDocbcCost           47143.0   0.087860  0.283095   0.0   0.0   0.0   0.0   \n",
       "GenHlth               47143.0   2.543262  1.062666   1.0   2.0   2.0   3.0   \n",
       "MentHlth              47143.0   3.297096  7.511928   0.0   0.0   0.0   2.0   \n",
       "PhysHlth              47143.0   4.390069  8.800696   0.0   0.0   0.0   3.0   \n",
       "DiffWalk              47143.0   0.174851  0.379844   0.0   0.0   0.0   0.0   \n",
       "Sex                   47143.0   0.438177  0.496169   0.0   0.0   0.0   1.0   \n",
       "Age                   47143.0   8.028361  3.093384   1.0   6.0   8.0  10.0   \n",
       "Education             47143.0   5.021785  0.984723   1.0   4.0   5.0   6.0   \n",
       "Income                47143.0   5.995058  2.080677   1.0   5.0   7.0   8.0   \n",
       "\n",
       "                       max  \n",
       "HeartDiseaseorAttack   1.0  \n",
       "HighBP                 1.0  \n",
       "HighChol               1.0  \n",
       "CholCheck              1.0  \n",
       "BMI                   98.0  \n",
       "Smoker                 1.0  \n",
       "Stroke                 1.0  \n",
       "Diabetes               1.0  \n",
       "PhysActivity           1.0  \n",
       "Fruits                 1.0  \n",
       "Veggies                1.0  \n",
       "HvyAlcoholConsump      1.0  \n",
       "AnyHealthcare          1.0  \n",
       "NoDocbcCost            1.0  \n",
       "GenHlth                5.0  \n",
       "MentHlth              30.0  \n",
       "PhysHlth              30.0  \n",
       "DiffWalk               1.0  \n",
       "Sex                    1.0  \n",
       "Age                   13.0  \n",
       "Education              6.0  \n",
       "Income                 8.0  "
      ]
     },
     "execution_count": 9,
     "metadata": {},
     "output_type": "execute_result"
    }
   ],
   "source": [
    "df.describe().transpose()"
   ]
  },
  {
   "cell_type": "code",
   "execution_count": 10,
   "id": "c4f8ed2a",
   "metadata": {},
   "outputs": [],
   "source": [
    "categorical_columns= ['HighBP', 'HighChol', 'CholCheck', 'Smoker', 'Stroke', 'Diabetes', 'PhysActivity',\n",
    "                      'Fruits', 'Veggies', 'HvyAlcoholConsump', 'AnyHealthcare', 'NoDocbcCost', 'DiffWalk',\n",
    "                      'Sex', 'Age', 'Education', 'Income'\n",
    "                     ]\n",
    "df[categorical_columns]= df[categorical_columns].astype(str)\n",
    "df= pd.get_dummies(df, columns= categorical_columns, drop_first= True)"
   ]
  },
  {
   "cell_type": "code",
   "execution_count": 11,
   "id": "d09e07e2",
   "metadata": {},
   "outputs": [
    {
     "name": "stdout",
     "output_type": "stream",
     "text": [
      "<class 'pandas.core.frame.DataFrame'>\n",
      "Int64Index: 47143 entries, 0 to 49999\n",
      "Data columns (total 43 columns):\n",
      " #   Column                Non-Null Count  Dtype\n",
      "---  ------                --------------  -----\n",
      " 0   HeartDiseaseorAttack  47143 non-null  int64\n",
      " 1   BMI                   47143 non-null  int64\n",
      " 2   GenHlth               47143 non-null  int64\n",
      " 3   MentHlth              47143 non-null  int64\n",
      " 4   PhysHlth              47143 non-null  int64\n",
      " 5   HighBP_1              47143 non-null  uint8\n",
      " 6   HighChol_1            47143 non-null  uint8\n",
      " 7   CholCheck_1           47143 non-null  uint8\n",
      " 8   Smoker_1              47143 non-null  uint8\n",
      " 9   Stroke_1              47143 non-null  uint8\n",
      " 10  Diabetes_1            47143 non-null  uint8\n",
      " 11  PhysActivity_1        47143 non-null  uint8\n",
      " 12  Fruits_1              47143 non-null  uint8\n",
      " 13  Veggies_1             47143 non-null  uint8\n",
      " 14  HvyAlcoholConsump_1   47143 non-null  uint8\n",
      " 15  AnyHealthcare_1       47143 non-null  uint8\n",
      " 16  NoDocbcCost_1         47143 non-null  uint8\n",
      " 17  DiffWalk_1            47143 non-null  uint8\n",
      " 18  Sex_1                 47143 non-null  uint8\n",
      " 19  Age_10                47143 non-null  uint8\n",
      " 20  Age_11                47143 non-null  uint8\n",
      " 21  Age_12                47143 non-null  uint8\n",
      " 22  Age_13                47143 non-null  uint8\n",
      " 23  Age_2                 47143 non-null  uint8\n",
      " 24  Age_3                 47143 non-null  uint8\n",
      " 25  Age_4                 47143 non-null  uint8\n",
      " 26  Age_5                 47143 non-null  uint8\n",
      " 27  Age_6                 47143 non-null  uint8\n",
      " 28  Age_7                 47143 non-null  uint8\n",
      " 29  Age_8                 47143 non-null  uint8\n",
      " 30  Age_9                 47143 non-null  uint8\n",
      " 31  Education_2           47143 non-null  uint8\n",
      " 32  Education_3           47143 non-null  uint8\n",
      " 33  Education_4           47143 non-null  uint8\n",
      " 34  Education_5           47143 non-null  uint8\n",
      " 35  Education_6           47143 non-null  uint8\n",
      " 36  Income_2              47143 non-null  uint8\n",
      " 37  Income_3              47143 non-null  uint8\n",
      " 38  Income_4              47143 non-null  uint8\n",
      " 39  Income_5              47143 non-null  uint8\n",
      " 40  Income_6              47143 non-null  uint8\n",
      " 41  Income_7              47143 non-null  uint8\n",
      " 42  Income_8              47143 non-null  uint8\n",
      "dtypes: int64(5), uint8(38)\n",
      "memory usage: 3.9 MB\n"
     ]
    }
   ],
   "source": [
    "df.info()"
   ]
  },
  {
   "cell_type": "code",
   "execution_count": 12,
   "id": "151027e8",
   "metadata": {},
   "outputs": [],
   "source": [
    "X= df.drop(['HeartDiseaseorAttack'], axis= 1)\n",
    "y= df['HeartDiseaseorAttack']"
   ]
  },
  {
   "cell_type": "code",
   "execution_count": 13,
   "id": "d0b1d034",
   "metadata": {},
   "outputs": [],
   "source": [
    "from sklearn.model_selection import train_test_split\n",
    "X_train, X_test, y_train, y_test= train_test_split(X, y, test_size=0.2, random_state= 15, stratify=y)"
   ]
  },
  {
   "cell_type": "code",
   "execution_count": 14,
   "id": "db8e4185",
   "metadata": {},
   "outputs": [],
   "source": [
    "continuous_columns = ['BMI', 'GenHlth', 'MentHlth', 'PhysHlth']\n",
    "\n",
    "from sklearn.preprocessing import StandardScaler\n",
    "ss= StandardScaler()\n",
    "X_train= ss.fit_transform(X_train)\n",
    "X_test= ss.transform(X_test)"
   ]
  },
  {
   "cell_type": "code",
   "execution_count": null,
   "id": "af0b6dab",
   "metadata": {},
   "outputs": [],
   "source": []
  },
  {
   "cell_type": "markdown",
   "id": "d0bf5ba8",
   "metadata": {},
   "source": [
    "--- LogisticRegression ---"
   ]
  },
  {
   "cell_type": "code",
   "execution_count": null,
   "id": "0f982495",
   "metadata": {},
   "outputs": [],
   "source": []
  },
  {
   "cell_type": "code",
   "execution_count": 15,
   "id": "790b3cfb",
   "metadata": {},
   "outputs": [
    {
     "name": "stdout",
     "output_type": "stream",
     "text": [
      "[[8424   93]\n",
      " [ 788  124]]\n",
      "              precision    recall  f1-score   support\n",
      "\n",
      "           0       0.91      0.99      0.95      8517\n",
      "           1       0.57      0.14      0.22       912\n",
      "\n",
      "    accuracy                           0.91      9429\n",
      "   macro avg       0.74      0.56      0.58      9429\n",
      "weighted avg       0.88      0.91      0.88      9429\n",
      "\n",
      "Precision: 0.5714285714285714\n",
      "Accuracy: 0.9065648531127373\n",
      "AUC: 0.8545025532011312\n"
     ]
    },
    {
     "data": {
      "text/plain": [
       "<sklearn.metrics._plot.confusion_matrix.ConfusionMatrixDisplay at 0x27e5b119100>"
      ]
     },
     "execution_count": 15,
     "metadata": {},
     "output_type": "execute_result"
    },
    {
     "data": {
      "image/png": "[encoded data removed]",
      "text/plain": [
       "<Figure size 432x288 with 2 Axes>"
      ]
     },
     "metadata": {
      "needs_background": "light"
     },
     "output_type": "display_data"
    }
   ],
   "source": [
    "from sklearn.linear_model import LogisticRegression\n",
    "lr= LogisticRegression(max_iter= 1000, random_state=15)\n",
    "lr.fit(X_train, y_train)\n",
    "y_pred_lr= lr.predict(X_test)\n",
    "y_pred_prob_lr= lr.predict_proba(X_test)[:,1]\n",
    "\n",
    "from sklearn.metrics import confusion_matrix, ConfusionMatrixDisplay, classification_report, precision_score, roc_auc_score, accuracy_score \n",
    "cm= confusion_matrix(y_test, y_pred_lr, labels= lr.classes_)\n",
    "print(cm)\n",
    "print(classification_report(y_test, y_pred_lr, zero_division=0))\n",
    "print('Precision:', precision_score(y_test, y_pred_lr, zero_division=0))\n",
    "print('Accuracy:', accuracy_score(y_test, y_pred_lr))\n",
    "print('AUC:', roc_auc_score(y_test, y_pred_prob_lr))\n",
    "dcm_lr= ConfusionMatrixDisplay(cm, display_labels= lr.classes_)\n",
    "dcm_lr.plot()"
   ]
  },
  {
   "cell_type": "code",
   "execution_count": null,
   "id": "63f446a5",
   "metadata": {},
   "outputs": [],
   "source": []
  },
  {
   "cell_type": "markdown",
   "id": "935a91fa",
   "metadata": {},
   "source": [
    "--- DecisionTreeClassifier ---"
   ]
  },
  {
   "cell_type": "code",
   "execution_count": null,
   "id": "17227aab",
   "metadata": {},
   "outputs": [],
   "source": []
  },
  {
   "cell_type": "code",
   "execution_count": 16,
   "id": "4f328e19",
   "metadata": {},
   "outputs": [
    {
     "name": "stdout",
     "output_type": "stream",
     "text": [
      "[[7709  808]\n",
      " [ 648  264]]\n",
      "              precision    recall  f1-score   support\n",
      "\n",
      "           0       0.92      0.91      0.91      8517\n",
      "           1       0.25      0.29      0.27       912\n",
      "\n",
      "    accuracy                           0.85      9429\n",
      "   macro avg       0.58      0.60      0.59      9429\n",
      "weighted avg       0.86      0.85      0.85      9429\n",
      "\n",
      "Precision: 0.2462686567164179\n",
      "Accuracy: 0.8455827765404603\n",
      "AUC: 0.5967974396923388\n"
     ]
    },
    {
     "data": {
      "text/plain": [
       "<sklearn.metrics._plot.confusion_matrix.ConfusionMatrixDisplay at 0x27e65c3e9d0>"
      ]
     },
     "execution_count": 16,
     "metadata": {},
     "output_type": "execute_result"
    },
    {
     "data": {
      "image/png": "[encoded data removed]",
      "text/plain": [
       "<Figure size 432x288 with 2 Axes>"
      ]
     },
     "metadata": {
      "needs_background": "light"
     },
     "output_type": "display_data"
    }
   ],
   "source": [
    "from sklearn.tree import DecisionTreeClassifier\n",
    "dt= DecisionTreeClassifier(random_state=15)\n",
    "dt.fit(X_train, y_train)\n",
    "y_pred_dt= dt.predict(X_test)\n",
    "y_pred_prob_dt= dt.predict_proba(X_test)[:,1]\n",
    "\n",
    "cm= confusion_matrix(y_test, y_pred_dt, labels= dt.classes_)\n",
    "print(cm)\n",
    "print(classification_report(y_test, y_pred_dt, zero_division=0))\n",
    "print('Precision:', precision_score(y_test, y_pred_dt, zero_division=0))\n",
    "print('Accuracy:', accuracy_score(y_test, y_pred_dt))\n",
    "print('AUC:', roc_auc_score(y_test, y_pred_prob_dt))\n",
    "dcm_dt= ConfusionMatrixDisplay(cm, display_labels= dt.classes_)\n",
    "dcm_dt.plot()"
   ]
  },
  {
   "cell_type": "markdown",
   "id": "2b5ed7fc",
   "metadata": {},
   "source": [
    "--- Tuned - DecisionTreeClassifier ---"
   ]
  },
  {
   "cell_type": "code",
   "execution_count": null,
   "id": "8ca0fbe2",
   "metadata": {},
   "outputs": [],
   "source": []
  },
  {
   "cell_type": "code",
   "execution_count": 17,
   "id": "cb57a7c9",
   "metadata": {},
   "outputs": [
    {
     "name": "stdout",
     "output_type": "stream",
     "text": [
      "Best Parameters: {'criterion': 'entropy', 'max_depth': 10, 'max_features': 'sqrt', 'min_samples_leaf': 10, 'min_samples_split': 2}\n",
      "Best Precision Score: 0.46569723206086844\n"
     ]
    }
   ],
   "source": [
    "from sklearn.model_selection import GridSearchCV\n",
    "param_grid= {\n",
    "             'max_depth': [None, 10, 20, 30, 40, 50],\n",
    "             'min_samples_split': [2, 10, 20],\n",
    "             'min_samples_leaf': [1, 5, 10],\n",
    "             'max_features': [None, 'sqrt', 'log2'],\n",
    "             'criterion': ['gini', 'entropy']\n",
    "            }\n",
    "\n",
    "gs_dt= GridSearchCV(estimator= dt, param_grid= param_grid, cv= 5, scoring= 'precision')\n",
    "gs_dt.fit(X_train, y_train)\n",
    "\n",
    "print(\"Best Parameters:\", gs_dt.best_params_)\n",
    "print(\"Best Precision Score:\", gs_dt.best_score_)"
   ]
  },
  {
   "cell_type": "code",
   "execution_count": 18,
   "id": "3e0146a2",
   "metadata": {},
   "outputs": [
    {
     "name": "stdout",
     "output_type": "stream",
     "text": [
      "[[8447   70]\n",
      " [ 842   70]]\n",
      "              precision    recall  f1-score   support\n",
      "\n",
      "           0       0.91      0.99      0.95      8517\n",
      "           1       0.50      0.08      0.13       912\n",
      "\n",
      "    accuracy                           0.90      9429\n",
      "   macro avg       0.70      0.53      0.54      9429\n",
      "weighted avg       0.87      0.90      0.87      9429\n",
      "\n",
      "Precision: 0.5\n",
      "Accuracy: 0.9032771237671015\n",
      "AUC: 0.799414908572947\n"
     ]
    },
    {
     "data": {
      "text/plain": [
       "<sklearn.metrics._plot.confusion_matrix.ConfusionMatrixDisplay at 0x27e5ac1d790>"
      ]
     },
     "execution_count": 18,
     "metadata": {},
     "output_type": "execute_result"
    },
    {
     "data": {
      "image/png": "[encoded data removed]",
      "text/plain": [
       "<Figure size 432x288 with 2 Axes>"
      ]
     },
     "metadata": {
      "needs_background": "light"
     },
     "output_type": "display_data"
    }
   ],
   "source": [
    "tuned_dt= gs_dt.best_estimator_\n",
    "y_pred_tuned_dt= tuned_dt.predict(X_test)\n",
    "y_pred_prob_tuned_dt= tuned_dt.predict_proba(X_test)[:,1]\n",
    "\n",
    "cm= confusion_matrix(y_test, y_pred_tuned_dt, labels= tuned_dt.classes_)\n",
    "print(cm)\n",
    "print(classification_report(y_test, y_pred_tuned_dt, zero_division=0))\n",
    "print('Precision:', precision_score(y_test, y_pred_tuned_dt, zero_division=0))\n",
    "print('Accuracy:', accuracy_score(y_test, y_pred_tuned_dt))\n",
    "print('AUC:', roc_auc_score(y_test, y_pred_prob_tuned_dt))\n",
    "dcm_tuned_dt= ConfusionMatrixDisplay(cm, display_labels= tuned_dt.classes_)\n",
    "dcm_tuned_dt.plot()"
   ]
  },
  {
   "cell_type": "code",
   "execution_count": null,
   "id": "04681239",
   "metadata": {},
   "outputs": [],
   "source": []
  },
  {
   "cell_type": "markdown",
   "id": "da98fb3b",
   "metadata": {},
   "source": [
    "--- KNeighborsClassifier ---"
   ]
  },
  {
   "cell_type": "code",
   "execution_count": null,
   "id": "432e3c97",
   "metadata": {},
   "outputs": [],
   "source": []
  },
  {
   "cell_type": "code",
   "execution_count": 19,
   "id": "5aacb03b",
   "metadata": {},
   "outputs": [
    {
     "name": "stdout",
     "output_type": "stream",
     "text": [
      "[[8338  179]\n",
      " [ 808  104]]\n",
      "              precision    recall  f1-score   support\n",
      "\n",
      "           0       0.91      0.98      0.94      8517\n",
      "           1       0.37      0.11      0.17       912\n",
      "\n",
      "    accuracy                           0.90      9429\n",
      "   macro avg       0.64      0.55      0.56      9429\n",
      "weighted avg       0.86      0.90      0.87      9429\n",
      "\n",
      "Precision: 0.3674911660777385\n",
      "Accuracy: 0.8953229398663697\n",
      "AUC: 0.7065606918258427\n"
     ]
    },
    {
     "data": {
      "text/plain": [
       "<sklearn.metrics._plot.confusion_matrix.ConfusionMatrixDisplay at 0x27e65dd07f0>"
      ]
     },
     "execution_count": 19,
     "metadata": {},
     "output_type": "execute_result"
    },
    {
     "data": {
      "image/png": "[encoded data removed]",
      "text/plain": [
       "<Figure size 432x288 with 2 Axes>"
      ]
     },
     "metadata": {
      "needs_background": "light"
     },
     "output_type": "display_data"
    }
   ],
   "source": [
    "from sklearn.neighbors import KNeighborsClassifier\n",
    "knn= KNeighborsClassifier()\n",
    "knn.fit(X_train, y_train)\n",
    "y_pred_knn= knn.predict(X_test)\n",
    "y_pred_prob_knn= knn.predict_proba(X_test)[:,1]\n",
    "\n",
    "cm= confusion_matrix(y_test, y_pred_knn, labels= knn.classes_)\n",
    "print(cm)\n",
    "print(classification_report(y_test, y_pred_knn, zero_division=0))\n",
    "print('Precision:', precision_score(y_test, y_pred_knn, zero_division=0))\n",
    "print('Accuracy:', accuracy_score(y_test, y_pred_knn))\n",
    "print('AUC:', roc_auc_score(y_test, y_pred_prob_knn))\n",
    "dcm_knn= ConfusionMatrixDisplay(cm, display_labels= knn.classes_)\n",
    "dcm_knn.plot()"
   ]
  },
  {
   "cell_type": "code",
   "execution_count": null,
   "id": "87a13f8d",
   "metadata": {},
   "outputs": [],
   "source": []
  },
  {
   "cell_type": "markdown",
   "id": "0fcc60fe",
   "metadata": {},
   "source": [
    "--- Tuned - KNeighborsClassifier ---"
   ]
  },
  {
   "cell_type": "code",
   "execution_count": 20,
   "id": "f25b087f",
   "metadata": {},
   "outputs": [
    {
     "name": "stdout",
     "output_type": "stream",
     "text": [
      "Best Parameters: {'metric': 'manhattan', 'n_neighbors': 28, 'weights': 'uniform'}\n",
      "Best Precision Score: 0.6815538847117795\n"
     ]
    }
   ],
   "source": [
    "param_grid= {\n",
    "             'n_neighbors': np.arange(1,40),\n",
    "             'weights': ['uniform', 'distance'],\n",
    "             'metric': ['euclidean', 'manhattan', 'minkowski']\n",
    "            }\n",
    "\n",
    "gs_knn= GridSearchCV(estimator= knn, param_grid= param_grid, cv=5, scoring= 'precision')\n",
    "gs_knn.fit(X_train, y_train)\n",
    "print(\"Best Parameters:\", gs_knn.best_params_)\n",
    "print(\"Best Precision Score:\", gs_knn.best_score_)"
   ]
  },
  {
   "cell_type": "code",
   "execution_count": 21,
   "id": "26be4e33",
   "metadata": {},
   "outputs": [
    {
     "name": "stdout",
     "output_type": "stream",
     "text": [
      "[[8505   12]\n",
      " [ 900   12]]\n",
      "              precision    recall  f1-score   support\n",
      "\n",
      "           0       0.90      1.00      0.95      8517\n",
      "           1       0.50      0.01      0.03       912\n",
      "\n",
      "    accuracy                           0.90      9429\n",
      "   macro avg       0.70      0.51      0.49      9429\n",
      "weighted avg       0.87      0.90      0.86      9429\n",
      "\n",
      "Precision: 0.5\n",
      "Accuracy: 0.9032771237671015\n",
      "AUC: 0.8086405877615255\n"
     ]
    },
    {
     "data": {
      "text/plain": [
       "<sklearn.metrics._plot.confusion_matrix.ConfusionMatrixDisplay at 0x27e5b11fdf0>"
      ]
     },
     "execution_count": 21,
     "metadata": {},
     "output_type": "execute_result"
    },
    {
     "data": {
      "image/png": "[encoded data removed]",
      "text/plain": [
       "<Figure size 432x288 with 2 Axes>"
      ]
     },
     "metadata": {
      "needs_background": "light"
     },
     "output_type": "display_data"
    }
   ],
   "source": [
    "tuned_knn= gs_knn.best_estimator_\n",
    "y_pred_tuned_knn= tuned_knn.predict(X_test)\n",
    "y_pred_prob_tuned_knn= tuned_knn.predict_proba(X_test)[:,1]\n",
    "\n",
    "cm= confusion_matrix(y_test, y_pred_tuned_knn, labels= tuned_knn.classes_)\n",
    "print(cm)\n",
    "print(classification_report(y_test, y_pred_tuned_knn, zero_division=0))\n",
    "print('Precision:', precision_score(y_test, y_pred_tuned_knn, zero_division=0))\n",
    "print('Accuracy:', accuracy_score(y_test, y_pred_tuned_knn))\n",
    "print('AUC:', roc_auc_score(y_test, y_pred_prob_tuned_knn))\n",
    "dcm_tuned_knn= ConfusionMatrixDisplay(cm, display_labels= tuned_knn.classes_)\n",
    "dcm_tuned_knn.plot()"
   ]
  },
  {
   "cell_type": "code",
   "execution_count": null,
   "id": "80894d0a",
   "metadata": {},
   "outputs": [],
   "source": []
  },
  {
   "cell_type": "markdown",
   "id": "aa848951",
   "metadata": {},
   "source": [
    "--- GaussianNB ---"
   ]
  },
  {
   "cell_type": "code",
   "execution_count": 22,
   "id": "4dbd7832",
   "metadata": {},
   "outputs": [
    {
     "name": "stdout",
     "output_type": "stream",
     "text": [
      "[[5828 2689]\n",
      " [ 193  719]]\n",
      "              precision    recall  f1-score   support\n",
      "\n",
      "           0       0.97      0.68      0.80      8517\n",
      "           1       0.21      0.79      0.33       912\n",
      "\n",
      "    accuracy                           0.69      9429\n",
      "   macro avg       0.59      0.74      0.57      9429\n",
      "weighted avg       0.89      0.69      0.76      9429\n",
      "\n",
      "Precision: 0.21097417840375587\n",
      "Accuracy: 0.6943472266412133\n",
      "AUC: 0.8056105281696668\n"
     ]
    },
    {
     "data": {
      "text/plain": [
       "<sklearn.metrics._plot.confusion_matrix.ConfusionMatrixDisplay at 0x27e65f7b640>"
      ]
     },
     "execution_count": 22,
     "metadata": {},
     "output_type": "execute_result"
    },
    {
     "data": {
      "image/png": "[encoded data removed]",
      "text/plain": [
       "<Figure size 432x288 with 2 Axes>"
      ]
     },
     "metadata": {
      "needs_background": "light"
     },
     "output_type": "display_data"
    }
   ],
   "source": [
    "from sklearn.naive_bayes import GaussianNB\n",
    "nb= GaussianNB()\n",
    "nb.fit(X_train, y_train)\n",
    "y_pred_nb= nb.predict(X_test)\n",
    "y_pred_prob_nb= nb.predict_proba(X_test)[:,1]\n",
    "\n",
    "cm= confusion_matrix(y_test, y_pred_nb, labels= nb.classes_)\n",
    "print(cm)\n",
    "print(classification_report(y_test, y_pred_nb, zero_division=0))\n",
    "print('Precision:', precision_score(y_test, y_pred_nb, zero_division=0))\n",
    "print('Accuracy:', accuracy_score(y_test, y_pred_nb))\n",
    "print('AUC:', roc_auc_score(y_test, y_pred_prob_nb))\n",
    "dcm_nb= ConfusionMatrixDisplay(cm, display_labels= nb.classes_)\n",
    "dcm_nb.plot()"
   ]
  },
  {
   "cell_type": "code",
   "execution_count": null,
   "id": "56176147",
   "metadata": {},
   "outputs": [],
   "source": []
  },
  {
   "cell_type": "markdown",
   "id": "0cc62ec3",
   "metadata": {},
   "source": [
    "--- SVM ---"
   ]
  },
  {
   "cell_type": "code",
   "execution_count": null,
   "id": "d446f144",
   "metadata": {},
   "outputs": [],
   "source": []
  },
  {
   "cell_type": "code",
   "execution_count": 23,
   "id": "f655fef3",
   "metadata": {},
   "outputs": [
    {
     "name": "stdout",
     "output_type": "stream",
     "text": [
      "[[8501   16]\n",
      " [ 908    4]]\n",
      "              precision    recall  f1-score   support\n",
      "\n",
      "           0       0.90      1.00      0.95      8517\n",
      "           1       0.20      0.00      0.01       912\n",
      "\n",
      "    accuracy                           0.90      9429\n",
      "   macro avg       0.55      0.50      0.48      9429\n",
      "weighted avg       0.84      0.90      0.86      9429\n",
      "\n",
      "Precision: 0.2\n",
      "Accuracy: 0.9020044543429844\n",
      "AUC: 0.6972790744620151\n"
     ]
    },
    {
     "data": {
      "text/plain": [
       "<sklearn.metrics._plot.confusion_matrix.ConfusionMatrixDisplay at 0x27e65f7b670>"
      ]
     },
     "execution_count": 23,
     "metadata": {},
     "output_type": "execute_result"
    },
    {
     "data": {
      "image/png": "[encoded data removed]",
      "text/plain": [
       "<Figure size 432x288 with 2 Axes>"
      ]
     },
     "metadata": {
      "needs_background": "light"
     },
     "output_type": "display_data"
    }
   ],
   "source": [
    "from sklearn.svm import SVC\n",
    "svc= SVC(kernel= 'rbf', gamma= 1, probability=True, random_state=15)\n",
    "svc.fit(X_train, y_train)\n",
    "y_pred_svc= svc.predict(X_test)\n",
    "y_pred_prob_svc= svc.predict_proba(X_test)[:,1]\n",
    "\n",
    "cm= confusion_matrix(y_test, y_pred_svc, labels= svc.classes_)\n",
    "print(cm)\n",
    "print(classification_report(y_test, y_pred_svc, zero_division=0))\n",
    "print('Precision:', precision_score(y_test, y_pred_svc, zero_division=0))\n",
    "print('Accuracy:', accuracy_score(y_test, y_pred_svc))\n",
    "print('AUC:', roc_auc_score(y_test, y_pred_prob_svc))\n",
    "dcm_svc= ConfusionMatrixDisplay(cm, display_labels= svc.classes_)\n",
    "dcm_svc.plot()"
   ]
  },
  {
   "cell_type": "code",
   "execution_count": null,
   "id": "b64e4268",
   "metadata": {},
   "outputs": [],
   "source": []
  },
  {
   "cell_type": "markdown",
   "id": "04c79ba0",
   "metadata": {},
   "source": [
    "--- Random Forest ---"
   ]
  },
  {
   "cell_type": "code",
   "execution_count": null,
   "id": "69542e4d",
   "metadata": {},
   "outputs": [],
   "source": []
  },
  {
   "cell_type": "code",
   "execution_count": 24,
   "id": "23d9f00e",
   "metadata": {},
   "outputs": [],
   "source": [
    "from sklearn.ensemble import RandomForestClassifier\n",
    "rf= RandomForestClassifier(random_state=15)\n",
    "rf.fit(X_train, y_train)\n",
    "y_pred_rf= rf.predict(X_test)\n",
    "y_pred_prob_rf= rf.predict_proba(X_test)[:,1]"
   ]
  },
  {
   "cell_type": "code",
   "execution_count": 25,
   "id": "4a3a4ca9",
   "metadata": {
    "scrolled": false
   },
   "outputs": [
    {
     "name": "stdout",
     "output_type": "stream",
     "text": [
      "[[8428   89]\n",
      " [ 846   66]]\n",
      "              precision    recall  f1-score   support\n",
      "\n",
      "           0       0.91      0.99      0.95      8517\n",
      "           1       0.43      0.07      0.12       912\n",
      "\n",
      "    accuracy                           0.90      9429\n",
      "   macro avg       0.67      0.53      0.54      9429\n",
      "weighted avg       0.86      0.90      0.87      9429\n",
      "\n",
      "Precision: 0.4258064516129032\n",
      "Accuracy: 0.9008378407042105\n",
      "AUC: 0.8206786890615054\n"
     ]
    },
    {
     "data": {
      "text/plain": [
       "<sklearn.metrics._plot.confusion_matrix.ConfusionMatrixDisplay at 0x27e490e36a0>"
      ]
     },
     "execution_count": 25,
     "metadata": {},
     "output_type": "execute_result"
    },
    {
     "data": {
      "image/png": "[encoded data removed]",
      "text/plain": [
       "<Figure size 432x288 with 2 Axes>"
      ]
     },
     "metadata": {
      "needs_background": "light"
     },
     "output_type": "display_data"
    }
   ],
   "source": [
    "cm= confusion_matrix(y_test, y_pred_rf, labels= rf.classes_)\n",
    "print(cm)\n",
    "print(classification_report(y_test, y_pred_rf, zero_division=0))\n",
    "print('Precision:', precision_score(y_test, y_pred_rf, zero_division=0))\n",
    "print('Accuracy:', accuracy_score(y_test, y_pred_rf))\n",
    "print('AUC:', roc_auc_score(y_test, y_pred_prob_rf))\n",
    "dcm_rf= ConfusionMatrixDisplay(cm, display_labels= rf.classes_)\n",
    "dcm_rf.plot()"
   ]
  },
  {
   "cell_type": "code",
   "execution_count": 26,
   "id": "f30d7119",
   "metadata": {},
   "outputs": [
    {
     "name": "stdout",
     "output_type": "stream",
     "text": [
      "Fitting 5 folds for each of 108 candidates, totalling 540 fits\n",
      "Best Parameters: {'max_depth': 10, 'min_samples_leaf': 2, 'min_samples_split': 2, 'n_estimators': 300}\n",
      "Best Precision Score: 0.6932043515080452\n"
     ]
    }
   ],
   "source": [
    "param_grid= {\n",
    "             'n_estimators': [100, 200, 300],\n",
    "             'max_depth': [None, 10, 20, 30],\n",
    "             'min_samples_split': [2, 5, 10],\n",
    "             'min_samples_leaf': [1, 2, 4],\n",
    "            }\n",
    "\n",
    "gs_tuned_rf= GridSearchCV(estimator= rf, param_grid= param_grid, cv= 5, scoring= 'precision', n_jobs= -1, verbose= 2)\n",
    "gs_tuned_rf.fit(X_train, y_train)\n",
    "print(\"Best Parameters:\", gs_tuned_rf.best_params_)\n",
    "print(\"Best Precision Score:\", gs_tuned_rf.best_score_)"
   ]
  },
  {
   "cell_type": "code",
   "execution_count": 27,
   "id": "741c1f08",
   "metadata": {},
   "outputs": [
    {
     "name": "stdout",
     "output_type": "stream",
     "text": [
      "[[8503   14]\n",
      " [ 889   23]]\n",
      "              precision    recall  f1-score   support\n",
      "\n",
      "           0       0.91      1.00      0.95      8517\n",
      "           1       0.62      0.03      0.05       912\n",
      "\n",
      "    accuracy                           0.90      9429\n",
      "   macro avg       0.76      0.51      0.50      9429\n",
      "weighted avg       0.88      0.90      0.86      9429\n",
      "\n",
      "Precision: 0.6216216216216216\n",
      "Accuracy: 0.9042316258351893\n",
      "AUC: 0.8498955391590399\n"
     ]
    },
    {
     "data": {
      "text/plain": [
       "<sklearn.metrics._plot.confusion_matrix.ConfusionMatrixDisplay at 0x27e491c5af0>"
      ]
     },
     "execution_count": 27,
     "metadata": {},
     "output_type": "execute_result"
    },
    {
     "data": {
      "image/png": "[encoded data removed]",
      "text/plain": [
       "<Figure size 432x288 with 2 Axes>"
      ]
     },
     "metadata": {
      "needs_background": "light"
     },
     "output_type": "display_data"
    }
   ],
   "source": [
    "tuned_rf= gs_tuned_rf.best_estimator_\n",
    "y_pred_tuned_rf= tuned_rf.predict(X_test)\n",
    "y_pred_prob_tuned_rf= tuned_rf.predict_proba(X_test)[:,1]\n",
    "\n",
    "cm= confusion_matrix(y_test, y_pred_tuned_rf, labels= tuned_rf.classes_)\n",
    "print(cm)\n",
    "print(classification_report(y_test, y_pred_tuned_rf, zero_division=0))\n",
    "print('Precision:', precision_score(y_test, y_pred_tuned_rf, zero_division=0))\n",
    "print('Accuracy:', accuracy_score(y_test, y_pred_tuned_rf))\n",
    "print('AUC:', roc_auc_score(y_test, y_pred_prob_tuned_rf))\n",
    "dcm_tuned_rf= ConfusionMatrixDisplay(cm, display_labels= tuned_rf.classes_)\n",
    "dcm_tuned_rf.plot()"
   ]
  },
  {
   "cell_type": "markdown",
   "id": "73a70a30",
   "metadata": {},
   "source": [
    "--- AdaBoost ---"
   ]
  },
  {
   "cell_type": "code",
   "execution_count": 28,
   "id": "39e0218b",
   "metadata": {},
   "outputs": [],
   "source": [
    "from sklearn.ensemble import AdaBoostClassifier\n",
    "ada= AdaBoostClassifier(random_state=15)\n",
    "ada.fit(X_train, y_train)\n",
    "y_pred_ada= ada.predict(X_test)\n",
    "y_pred_prob_ada= ada.predict_proba(X_test)[:,1]"
   ]
  },
  {
   "cell_type": "code",
   "execution_count": 29,
   "id": "342a43f8",
   "metadata": {
    "scrolled": false
   },
   "outputs": [
    {
     "name": "stdout",
     "output_type": "stream",
     "text": [
      "[[8394  123]\n",
      " [ 777  135]]\n",
      "              precision    recall  f1-score   support\n",
      "\n",
      "           0       0.92      0.99      0.95      8517\n",
      "           1       0.52      0.15      0.23       912\n",
      "\n",
      "    accuracy                           0.90      9429\n",
      "   macro avg       0.72      0.57      0.59      9429\n",
      "weighted avg       0.88      0.90      0.88      9429\n",
      "\n",
      "Precision: 0.5232558139534884\n",
      "Accuracy: 0.9045497931912185\n",
      "AUC: 0.8531471628466494\n"
     ]
    },
    {
     "data": {
      "text/plain": [
       "<sklearn.metrics._plot.confusion_matrix.ConfusionMatrixDisplay at 0x27e49282f70>"
      ]
     },
     "execution_count": 29,
     "metadata": {},
     "output_type": "execute_result"
    },
    {
     "data": {
      "image/png": "[encoded data removed]",
      "text/plain": [
       "<Figure size 432x288 with 2 Axes>"
      ]
     },
     "metadata": {
      "needs_background": "light"
     },
     "output_type": "display_data"
    }
   ],
   "source": [
    "cm= confusion_matrix(y_test, y_pred_ada, labels= ada.classes_)\n",
    "print(cm)\n",
    "print(classification_report(y_test, y_pred_ada, zero_division=0))\n",
    "print('Precision:', precision_score(y_test, y_pred_ada, zero_division=0))\n",
    "print('Accuracy:', accuracy_score(y_test, y_pred_ada))\n",
    "print('AUC:', roc_auc_score(y_test, y_pred_prob_ada))\n",
    "dcm_ada= ConfusionMatrixDisplay(cm, display_labels= ada.classes_)\n",
    "dcm_ada.plot()"
   ]
  },
  {
   "cell_type": "code",
   "execution_count": 30,
   "id": "708588e4",
   "metadata": {},
   "outputs": [
    {
     "name": "stdout",
     "output_type": "stream",
     "text": [
      "Fitting 5 folds for each of 3 candidates, totalling 15 fits\n",
      "Best Parameters: {'n_estimators': 100}\n",
      "Best Precision Score: 0.5390309313775772\n"
     ]
    }
   ],
   "source": [
    "param_grid= {'n_estimators': [50, 100, 200]}\n",
    "\n",
    "gs_ada= GridSearchCV(estimator= ada, param_grid= param_grid, cv= 5, scoring= 'precision', n_jobs= -1, verbose= 2)\n",
    "gs_ada.fit(X_train, y_train)\n",
    "print(\"Best Parameters:\", gs_ada.best_params_)\n",
    "print(\"Best Precision Score:\", gs_ada.best_score_)"
   ]
  },
  {
   "cell_type": "code",
   "execution_count": 31,
   "id": "d85b3030",
   "metadata": {},
   "outputs": [
    {
     "name": "stdout",
     "output_type": "stream",
     "text": [
      "[[8391  126]\n",
      " [ 772  140]]\n",
      "              precision    recall  f1-score   support\n",
      "\n",
      "           0       0.92      0.99      0.95      8517\n",
      "           1       0.53      0.15      0.24       912\n",
      "\n",
      "    accuracy                           0.90      9429\n",
      "   macro avg       0.72      0.57      0.59      9429\n",
      "weighted avg       0.88      0.90      0.88      9429\n",
      "\n",
      "Precision: 0.5263157894736842\n",
      "Accuracy: 0.9047619047619048\n",
      "AUC: 0.8532704328185734\n"
     ]
    },
    {
     "data": {
      "text/plain": [
       "<sklearn.metrics._plot.confusion_matrix.ConfusionMatrixDisplay at 0x27e68b88040>"
      ]
     },
     "execution_count": 31,
     "metadata": {},
     "output_type": "execute_result"
    },
    {
     "data": {
      "image/png": "[encoded data removed]",
      "text/plain": [
       "<Figure size 432x288 with 2 Axes>"
      ]
     },
     "metadata": {
      "needs_background": "light"
     },
     "output_type": "display_data"
    }
   ],
   "source": [
    "tuned_ada= gs_ada.best_estimator_\n",
    "y_pred_tuned_ada= tuned_ada.predict(X_test)\n",
    "y_pred_prob_tuned_ada= tuned_ada.predict_proba(X_test)[:,1]\n",
    "\n",
    "cm= confusion_matrix(y_test, y_pred_tuned_ada, labels= tuned_ada.classes_)\n",
    "print(cm)\n",
    "print(classification_report(y_test, y_pred_tuned_ada, zero_division=0))\n",
    "print('Precision:', precision_score(y_test, y_pred_tuned_ada, zero_division=0))\n",
    "print('Accuracy:', accuracy_score(y_test, y_pred_tuned_ada))\n",
    "print('AUC:', roc_auc_score(y_test, y_pred_prob_tuned_ada))\n",
    "dcm_tuned_ada= ConfusionMatrixDisplay(cm, display_labels= tuned_ada.classes_)\n",
    "dcm_tuned_ada.plot()"
   ]
  },
  {
   "cell_type": "code",
   "execution_count": null,
   "id": "260a91d7",
   "metadata": {},
   "outputs": [],
   "source": []
  },
  {
   "cell_type": "markdown",
   "id": "a74a4591",
   "metadata": {},
   "source": [
    "--- GradientBoosting ---"
   ]
  },
  {
   "cell_type": "code",
   "execution_count": 32,
   "id": "39fc7e71",
   "metadata": {
    "scrolled": false
   },
   "outputs": [
    {
     "name": "stdout",
     "output_type": "stream",
     "text": [
      "[[8427   90]\n",
      " [ 802  110]]\n",
      "              precision    recall  f1-score   support\n",
      "\n",
      "           0       0.91      0.99      0.95      8517\n",
      "           1       0.55      0.12      0.20       912\n",
      "\n",
      "    accuracy                           0.91      9429\n",
      "   macro avg       0.73      0.56      0.57      9429\n",
      "weighted avg       0.88      0.91      0.88      9429\n",
      "\n",
      "Precision: 0.55\n",
      "Accuracy: 0.9053982394739633\n",
      "AUC: 0.8550621924365922\n"
     ]
    },
    {
     "data": {
      "text/plain": [
       "<sklearn.metrics._plot.confusion_matrix.ConfusionMatrixDisplay at 0x27e68c63040>"
      ]
     },
     "execution_count": 32,
     "metadata": {},
     "output_type": "execute_result"
    },
    {
     "data": {
      "image/png": "[encoded data removed]",
      "text/plain": [
       "<Figure size 432x288 with 2 Axes>"
      ]
     },
     "metadata": {
      "needs_background": "light"
     },
     "output_type": "display_data"
    }
   ],
   "source": [
    "from sklearn.ensemble import GradientBoostingClassifier\n",
    "grb= GradientBoostingClassifier(random_state=15)\n",
    "grb.fit(X_train, y_train)\n",
    "y_pred_grb= grb.predict(X_test)\n",
    "y_pred_prob_grb= grb.predict_proba(X_test)[:,1]\n",
    "\n",
    "cm= confusion_matrix(y_test, y_pred_grb, labels= grb.classes_)\n",
    "print(cm)\n",
    "print(classification_report(y_test, y_pred_grb, zero_division=0))\n",
    "print('Precision:', precision_score(y_test, y_pred_grb, zero_division=0))\n",
    "print('Accuracy:', accuracy_score(y_test, y_pred_grb))\n",
    "print('AUC:', roc_auc_score(y_test, y_pred_prob_grb))\n",
    "dcm_grb= ConfusionMatrixDisplay(cm, display_labels= grb.classes_)\n",
    "dcm_grb.plot()"
   ]
  },
  {
   "cell_type": "code",
   "execution_count": 33,
   "id": "1020da31",
   "metadata": {},
   "outputs": [
    {
     "name": "stdout",
     "output_type": "stream",
     "text": [
      "Fitting 5 folds for each of 3 candidates, totalling 15 fits\n",
      "Best Parameters: {'learning_rate': 0.1}\n",
      "Best Precision Score: 0.5509480931292992\n"
     ]
    }
   ],
   "source": [
    "param_grid= {'learning_rate': [0.01, 0.1, 0.2]}\n",
    "\n",
    "gs_grb= GridSearchCV(estimator= grb, param_grid= param_grid, cv= 5, scoring= 'precision', n_jobs= -1, verbose= 2)\n",
    "gs_grb.fit(X_train, y_train)\n",
    "\n",
    "print(\"Best Parameters:\", gs_grb.best_params_)\n",
    "print(\"Best Precision Score:\", gs_grb.best_score_)"
   ]
  },
  {
   "cell_type": "code",
   "execution_count": 34,
   "id": "9bb445f5",
   "metadata": {},
   "outputs": [
    {
     "name": "stdout",
     "output_type": "stream",
     "text": [
      "[[8427   90]\n",
      " [ 802  110]]\n",
      "              precision    recall  f1-score   support\n",
      "\n",
      "           0       0.91      0.99      0.95      8517\n",
      "           1       0.55      0.12      0.20       912\n",
      "\n",
      "    accuracy                           0.91      9429\n",
      "   macro avg       0.73      0.56      0.57      9429\n",
      "weighted avg       0.88      0.91      0.88      9429\n",
      "\n",
      "Precision: 0.55\n",
      "Accuracy: 0.9053982394739633\n",
      "AUC: 0.8550621924365922\n"
     ]
    },
    {
     "data": {
      "text/plain": [
       "<sklearn.metrics._plot.confusion_matrix.ConfusionMatrixDisplay at 0x27e68d0f6a0>"
      ]
     },
     "execution_count": 34,
     "metadata": {},
     "output_type": "execute_result"
    },
    {
     "data": {
      "image/png": "[encoded data removed]",
      "text/plain": [
       "<Figure size 432x288 with 2 Axes>"
      ]
     },
     "metadata": {
      "needs_background": "light"
     },
     "output_type": "display_data"
    }
   ],
   "source": [
    "tuned_grb= gs_grb.best_estimator_\n",
    "y_pred_tuned_grb= tuned_grb.predict(X_test)\n",
    "y_pred_prob_tuned_grb= tuned_grb.predict_proba(X_test)[:,1]\n",
    "\n",
    "cm= confusion_matrix(y_test, y_pred_tuned_grb, labels= tuned_grb.classes_)\n",
    "print(cm)\n",
    "print(classification_report(y_test, y_pred_tuned_grb, zero_division=0))\n",
    "print('Precision:', precision_score(y_test, y_pred_tuned_grb, zero_division=0))\n",
    "print('Accuracy:', accuracy_score(y_test, y_pred_tuned_grb))\n",
    "print('AUC:', roc_auc_score(y_test, y_pred_prob_tuned_grb))\n",
    "dcm_tuned_grb= ConfusionMatrixDisplay(cm, display_labels= tuned_grb.classes_)\n",
    "dcm_tuned_grb.plot()"
   ]
  },
  {
   "cell_type": "code",
   "execution_count": null,
   "id": "c9496232",
   "metadata": {},
   "outputs": [],
   "source": []
  },
  {
   "cell_type": "markdown",
   "id": "29ff8e08",
   "metadata": {},
   "source": [
    "--- XGB ---"
   ]
  },
  {
   "cell_type": "code",
   "execution_count": 35,
   "id": "8943f6b5",
   "metadata": {
    "scrolled": false
   },
   "outputs": [
    {
     "name": "stdout",
     "output_type": "stream",
     "text": [
      "[[8377  140]\n",
      " [ 794  118]]\n",
      "              precision    recall  f1-score   support\n",
      "\n",
      "           0       0.91      0.98      0.95      8517\n",
      "           1       0.46      0.13      0.20       912\n",
      "\n",
      "    accuracy                           0.90      9429\n",
      "   macro avg       0.69      0.56      0.57      9429\n",
      "weighted avg       0.87      0.90      0.88      9429\n",
      "\n",
      "Precision: 0.4573643410852713\n",
      "Accuracy: 0.9009438964895535\n",
      "AUC: 0.832983092123287\n"
     ]
    },
    {
     "data": {
      "text/plain": [
       "<sklearn.metrics._plot.confusion_matrix.ConfusionMatrixDisplay at 0x27e78de2f40>"
      ]
     },
     "execution_count": 35,
     "metadata": {},
     "output_type": "execute_result"
    },
    {
     "data": {
      "image/png": "[encoded data removed]",
      "text/plain": [
       "<Figure size 432x288 with 2 Axes>"
      ]
     },
     "metadata": {
      "needs_background": "light"
     },
     "output_type": "display_data"
    }
   ],
   "source": [
    "from xgboost import XGBClassifier\n",
    "xgb= XGBClassifier(random_state=15)\n",
    "xgb.fit(X_train, y_train)\n",
    "y_pred_xgb= xgb.predict(X_test)\n",
    "y_pred_prob_xgb= xgb.predict_proba(X_test)[:,1]\n",
    "\n",
    "cm= confusion_matrix(y_test, y_pred_xgb, labels= xgb.classes_)\n",
    "print(cm)\n",
    "print(classification_report(y_test, y_pred_xgb, zero_division=0))\n",
    "print('Precision:', precision_score(y_test, y_pred_xgb, zero_division=0))\n",
    "print('Accuracy:', accuracy_score(y_test, y_pred_xgb))\n",
    "print('AUC:', roc_auc_score(y_test, y_pred_prob_xgb))\n",
    "dcm_xgb= ConfusionMatrixDisplay(cm, display_labels= xgb.classes_)\n",
    "dcm_xgb.plot()"
   ]
  },
  {
   "cell_type": "code",
   "execution_count": 36,
   "id": "da093569",
   "metadata": {},
   "outputs": [
    {
     "name": "stdout",
     "output_type": "stream",
     "text": [
      "Fitting 5 folds for each of 3 candidates, totalling 15 fits\n",
      "Best Parameters: {'learning_rate': 0.1}\n",
      "Best Precision Score: 0.5129835358709718\n",
      "[[8433   84]\n",
      " [ 816   96]]\n",
      "              precision    recall  f1-score   support\n",
      "\n",
      "           0       0.91      0.99      0.95      8517\n",
      "           1       0.53      0.11      0.18       912\n",
      "\n",
      "    accuracy                           0.90      9429\n",
      "   macro avg       0.72      0.55      0.56      9429\n",
      "weighted avg       0.88      0.90      0.87      9429\n",
      "\n",
      "Precision: 0.5333333333333333\n",
      "Accuracy: 0.9045497931912185\n",
      "AUC: 0.8516466808385293\n"
     ]
    },
    {
     "data": {
      "text/plain": [
       "<sklearn.metrics._plot.confusion_matrix.ConfusionMatrixDisplay at 0x27e790d4f10>"
      ]
     },
     "execution_count": 36,
     "metadata": {},
     "output_type": "execute_result"
    },
    {
     "data": {
      "image/png": "[encoded data removed]",
      "text/plain": [
       "<Figure size 432x288 with 2 Axes>"
      ]
     },
     "metadata": {
      "needs_background": "light"
     },
     "output_type": "display_data"
    }
   ],
   "source": [
    "params_XGBoost= {'learning_rate': [0.01, 0.1, 1.0]}\n",
    "\n",
    "gs_xgb= GridSearchCV(estimator= xgb, param_grid= params_XGBoost, cv= 5, scoring= 'precision', n_jobs= -1, verbose= 2)\n",
    "gs_xgb.fit(X_train, y_train)\n",
    "\n",
    "print(\"Best Parameters:\", gs_xgb.best_params_)\n",
    "print(\"Best Precision Score:\", gs_xgb.best_score_)\n",
    "\n",
    "tuned_xgb= gs_xgb.best_estimator_\n",
    "y_pred_tuned_xgb= tuned_xgb.predict(X_test)\n",
    "y_pred_prob_tuned_xgb= tuned_xgb.predict_proba(X_test)[:,1]\n",
    "\n",
    "\n",
    "cm= confusion_matrix(y_test, y_pred_tuned_xgb, labels= tuned_xgb.classes_)\n",
    "print(cm)\n",
    "print(classification_report(y_test, y_pred_tuned_xgb, zero_division=0))\n",
    "print('Precision:', precision_score(y_test, y_pred_tuned_xgb, zero_division=0))\n",
    "print('Accuracy:', accuracy_score(y_test, y_pred_tuned_xgb))\n",
    "print('AUC:', roc_auc_score(y_test, y_pred_prob_tuned_xgb))\n",
    "dcm_tuned_xgb= ConfusionMatrixDisplay(cm, display_labels= tuned_xgb.classes_)\n",
    "dcm_tuned_xgb.plot()"
   ]
  },
  {
   "cell_type": "code",
   "execution_count": null,
   "id": "57bd651d",
   "metadata": {},
   "outputs": [],
   "source": []
  },
  {
   "cell_type": "markdown",
   "id": "fe4ddc2b",
   "metadata": {},
   "source": [
    "--- LGBM ---"
   ]
  },
  {
   "cell_type": "code",
   "execution_count": 37,
   "id": "0a1effa6",
   "metadata": {},
   "outputs": [
    {
     "name": "stdout",
     "output_type": "stream",
     "text": [
      "[LightGBM] [Info] Number of positive: 3649, number of negative: 34065\n",
      "[LightGBM] [Info] Auto-choosing row-wise multi-threading, the overhead of testing was 0.006114 seconds.\n",
      "You can set `force_row_wise=true` to remove the overhead.\n",
      "And if memory is not enough, you can set `force_col_wise=true`.\n",
      "[LightGBM] [Info] Total Bins 251\n",
      "[LightGBM] [Info] Number of data points in the train set: 37714, number of used features: 42\n",
      "[LightGBM] [Info] [binary:BoostFromScore]: pavg=0.096755 -> initscore=-2.233817\n",
      "[LightGBM] [Info] Start training from score -2.233817\n",
      "[[8439   78]\n",
      " [ 820   92]]\n",
      "              precision    recall  f1-score   support\n",
      "\n",
      "           0       0.91      0.99      0.95      8517\n",
      "           1       0.54      0.10      0.17       912\n",
      "\n",
      "    accuracy                           0.90      9429\n",
      "   macro avg       0.73      0.55      0.56      9429\n",
      "weighted avg       0.88      0.90      0.87      9429\n",
      "\n",
      "Precision: 0.5411764705882353\n",
      "Accuracy: 0.9047619047619048\n",
      "AUC: 0.848600914785496\n"
     ]
    },
    {
     "data": {
      "text/plain": [
       "<sklearn.metrics._plot.confusion_matrix.ConfusionMatrixDisplay at 0x27e09675670>"
      ]
     },
     "execution_count": 37,
     "metadata": {},
     "output_type": "execute_result"
    },
    {
     "data": {
      "image/png": "[encoded data removed]",
      "text/plain": [
       "<Figure size 432x288 with 2 Axes>"
      ]
     },
     "metadata": {
      "needs_background": "light"
     },
     "output_type": "display_data"
    }
   ],
   "source": [
    "from lightgbm import LGBMClassifier\n",
    "lgm= LGBMClassifier(random_state=15)\n",
    "lgm.fit(X_train, y_train)\n",
    "y_pred_lgm= lgm.predict(X_test)\n",
    "y_pred_prob_lgm= lgm.predict_proba(X_test)[:,1]\n",
    "\n",
    "\n",
    "cm= confusion_matrix(y_test, y_pred_lgm, labels= lgm.classes_)\n",
    "print(cm)\n",
    "print(classification_report(y_test, y_pred_lgm, zero_division=0))\n",
    "print('Precision:', precision_score(y_test, y_pred_lgm, zero_division=0))\n",
    "print('Accuracy:', accuracy_score(y_test, y_pred_lgm))\n",
    "print('AUC:', roc_auc_score(y_test, y_pred_prob_lgm))\n",
    "dcm_lgm= ConfusionMatrixDisplay(cm, display_labels= lgm.classes_)\n",
    "dcm_lgm.plot()"
   ]
  },
  {
   "cell_type": "code",
   "execution_count": 38,
   "id": "d9dec891",
   "metadata": {},
   "outputs": [
    {
     "name": "stdout",
     "output_type": "stream",
     "text": [
      "Fitting 5 folds for each of 80 candidates, totalling 400 fits\n",
      "[LightGBM] [Warning] min_data_in_leaf is set=30, min_child_samples=20 will be ignored. Current value: min_data_in_leaf=30\n",
      "[LightGBM] [Warning] min_data_in_leaf is set=30, min_child_samples=20 will be ignored. Current value: min_data_in_leaf=30\n",
      "[LightGBM] [Info] Number of positive: 3649, number of negative: 34065\n",
      "[LightGBM] [Info] Auto-choosing row-wise multi-threading, the overhead of testing was 0.005733 seconds.\n",
      "You can set `force_row_wise=true` to remove the overhead.\n",
      "And if memory is not enough, you can set `force_col_wise=true`.\n",
      "[LightGBM] [Info] Total Bins 251\n",
      "[LightGBM] [Info] Number of data points in the train set: 37714, number of used features: 42\n",
      "[LightGBM] [Info] [binary:BoostFromScore]: pavg=0.096755 -> initscore=-2.233817\n",
      "[LightGBM] [Info] Start training from score -2.233817\n",
      "Best Parameters: {'learning_rate': 0.01, 'min_data_in_leaf': 30, 'num_leaves': 127, 'reg_alpha': 0.1}\n",
      "Best Precision Score: 0.6\n",
      "[LightGBM] [Warning] min_data_in_leaf is set=30, min_child_samples=20 will be ignored. Current value: min_data_in_leaf=30\n",
      "[LightGBM] [Warning] min_data_in_leaf is set=30, min_child_samples=20 will be ignored. Current value: min_data_in_leaf=30\n",
      "[[8517    0]\n",
      " [ 912    0]]\n",
      "              precision    recall  f1-score   support\n",
      "\n",
      "           0       0.90      1.00      0.95      8517\n",
      "           1       0.00      0.00      0.00       912\n",
      "\n",
      "    accuracy                           0.90      9429\n",
      "   macro avg       0.45      0.50      0.47      9429\n",
      "weighted avg       0.82      0.90      0.86      9429\n",
      "\n",
      "Precision: 0.0\n",
      "Accuracy: 0.9032771237671015\n",
      "AUC: 0.8424034928079858\n"
     ]
    },
    {
     "data": {
      "text/plain": [
       "<sklearn.metrics._plot.confusion_matrix.ConfusionMatrixDisplay at 0x27e0973cd00>"
      ]
     },
     "execution_count": 38,
     "metadata": {},
     "output_type": "execute_result"
    },
    {
     "data": {
      "image/png": "[encoded data removed]",
      "text/plain": [
       "<Figure size 432x288 with 2 Axes>"
      ]
     },
     "metadata": {
      "needs_background": "light"
     },
     "output_type": "display_data"
    }
   ],
   "source": [
    "params_LGB= {'learning_rate': [0.001, 0.01, 0.1, 1.0],\n",
    "             'num_leaves': [31, 127],\n",
    "             'reg_alpha': [0.1, 0.5],\n",
    "             'min_data_in_leaf': [30, 50, 100, 300, 400]}\n",
    "\n",
    "gs_lgm= GridSearchCV(estimator= lgm, param_grid= params_LGB, cv=5, scoring='precision', n_jobs=-1, verbose=2)\n",
    "gs_lgm.fit(X_train, y_train)\n",
    "\n",
    "print(\"Best Parameters:\", gs_lgm.best_params_)\n",
    "print(\"Best Precision Score:\", gs_lgm.best_score_)\n",
    "\n",
    "tuned_lgm= gs_lgm.best_estimator_\n",
    "y_pred_tuned_lgm= tuned_lgm.predict(X_test)\n",
    "y_pred_prob_tuned_lgm= tuned_lgm.predict_proba(X_test)[:,1]\n",
    "\n",
    "\n",
    "cm= confusion_matrix(y_test, y_pred_tuned_lgm, labels= tuned_lgm.classes_)\n",
    "print(cm)\n",
    "print(classification_report(y_test, y_pred_tuned_lgm, zero_division=0))\n",
    "print('Precision:', precision_score(y_test, y_pred_tuned_lgm, zero_division=0))\n",
    "print('Accuracy:', accuracy_score(y_test, y_pred_tuned_lgm))\n",
    "print('AUC:', roc_auc_score(y_test, y_pred_prob_tuned_lgm))\n",
    "dcm_tuned_lgm= ConfusionMatrixDisplay(cm, display_labels= tuned_lgm.classes_)\n",
    "dcm_tuned_lgm.plot()"
   ]
  },
  {
   "cell_type": "code",
   "execution_count": null,
   "id": "229ae9fa",
   "metadata": {},
   "outputs": [],
   "source": []
  },
  {
   "cell_type": "markdown",
   "id": "9a7670df",
   "metadata": {},
   "source": [
    "--- CatBoost ---"
   ]
  },
  {
   "cell_type": "code",
   "execution_count": 39,
   "id": "cfa1cef8",
   "metadata": {
    "scrolled": true
   },
   "outputs": [
    {
     "name": "stdout",
     "output_type": "stream",
     "text": [
      "Learning rate set to 0.04854\n",
      "0:\tlearn: 0.6390849\ttotal: 161ms\tremaining: 2m 41s\n",
      "1:\tlearn: 0.5937888\ttotal: 180ms\tremaining: 1m 29s\n",
      "2:\tlearn: 0.5573397\ttotal: 208ms\tremaining: 1m 9s\n",
      "3:\tlearn: 0.5183734\ttotal: 228ms\tremaining: 56.9s\n",
      "4:\tlearn: 0.4915505\ttotal: 247ms\tremaining: 49.1s\n",
      "5:\tlearn: 0.4629431\ttotal: 265ms\tremaining: 43.9s\n",
      "6:\tlearn: 0.4394643\ttotal: 283ms\tremaining: 40.2s\n",
      "7:\tlearn: 0.4203563\ttotal: 301ms\tremaining: 37.3s\n",
      "8:\tlearn: 0.4018322\ttotal: 320ms\tremaining: 35.2s\n",
      "9:\tlearn: 0.3857597\ttotal: 340ms\tremaining: 33.7s\n",
      "10:\tlearn: 0.3718986\ttotal: 357ms\tremaining: 32.1s\n",
      "11:\tlearn: 0.3580574\ttotal: 368ms\tremaining: 30.3s\n",
      "12:\tlearn: 0.3481623\ttotal: 380ms\tremaining: 28.9s\n",
      "13:\tlearn: 0.3389341\ttotal: 392ms\tremaining: 27.6s\n",
      "14:\tlearn: 0.3310245\ttotal: 411ms\tremaining: 27s\n",
      "15:\tlearn: 0.3232157\ttotal: 425ms\tremaining: 26.1s\n",
      "16:\tlearn: 0.3161048\ttotal: 440ms\tremaining: 25.4s\n",
      "17:\tlearn: 0.3109163\ttotal: 452ms\tremaining: 24.6s\n",
      "18:\tlearn: 0.3049972\ttotal: 466ms\tremaining: 24.1s\n",
      "19:\tlearn: 0.2999864\ttotal: 481ms\tremaining: 23.6s\n",
      "20:\tlearn: 0.2950964\ttotal: 499ms\tremaining: 23.3s\n",
      "21:\tlearn: 0.2912025\ttotal: 515ms\tremaining: 22.9s\n",
      "22:\tlearn: 0.2882584\ttotal: 528ms\tremaining: 22.4s\n",
      "23:\tlearn: 0.2853996\ttotal: 540ms\tremaining: 22s\n",
      "24:\tlearn: 0.2821970\ttotal: 556ms\tremaining: 21.7s\n",
      "25:\tlearn: 0.2791073\ttotal: 567ms\tremaining: 21.3s\n",
      "26:\tlearn: 0.2764121\ttotal: 579ms\tremaining: 20.9s\n",
      "27:\tlearn: 0.2742184\ttotal: 590ms\tremaining: 20.5s\n",
      "28:\tlearn: 0.2722057\ttotal: 609ms\tremaining: 20.4s\n",
      "29:\tlearn: 0.2703718\ttotal: 631ms\tremaining: 20.4s\n",
      "30:\tlearn: 0.2687683\ttotal: 642ms\tremaining: 20.1s\n",
      "31:\tlearn: 0.2672137\ttotal: 654ms\tremaining: 19.8s\n",
      "32:\tlearn: 0.2660187\ttotal: 667ms\tremaining: 19.5s\n",
      "33:\tlearn: 0.2646214\ttotal: 723ms\tremaining: 20.5s\n",
      "34:\tlearn: 0.2632416\ttotal: 761ms\tremaining: 21s\n",
      "35:\tlearn: 0.2623583\ttotal: 813ms\tremaining: 21.8s\n",
      "36:\tlearn: 0.2609413\ttotal: 884ms\tremaining: 23s\n",
      "37:\tlearn: 0.2600572\ttotal: 927ms\tremaining: 23.5s\n",
      "38:\tlearn: 0.2590696\ttotal: 977ms\tremaining: 24.1s\n",
      "39:\tlearn: 0.2583834\ttotal: 1s\tremaining: 24.1s\n",
      "40:\tlearn: 0.2572490\ttotal: 1.09s\tremaining: 25.6s\n",
      "41:\tlearn: 0.2565760\ttotal: 1.12s\tremaining: 25.6s\n",
      "42:\tlearn: 0.2559796\ttotal: 1.16s\tremaining: 25.8s\n",
      "43:\tlearn: 0.2551485\ttotal: 1.21s\tremaining: 26.2s\n",
      "44:\tlearn: 0.2544658\ttotal: 1.25s\tremaining: 26.5s\n",
      "45:\tlearn: 0.2539282\ttotal: 1.37s\tremaining: 28.5s\n",
      "46:\tlearn: 0.2534072\ttotal: 1.43s\tremaining: 29.1s\n",
      "47:\tlearn: 0.2530760\ttotal: 1.47s\tremaining: 29.1s\n",
      "48:\tlearn: 0.2526119\ttotal: 1.5s\tremaining: 29.1s\n",
      "49:\tlearn: 0.2520039\ttotal: 1.55s\tremaining: 29.5s\n",
      "50:\tlearn: 0.2514599\ttotal: 1.65s\tremaining: 30.6s\n",
      "51:\tlearn: 0.2511649\ttotal: 1.68s\tremaining: 30.6s\n",
      "52:\tlearn: 0.2506195\ttotal: 1.71s\tremaining: 30.5s\n",
      "53:\tlearn: 0.2502065\ttotal: 1.77s\tremaining: 31.1s\n",
      "54:\tlearn: 0.2498551\ttotal: 1.84s\tremaining: 31.6s\n",
      "55:\tlearn: 0.2494983\ttotal: 1.87s\tremaining: 31.6s\n",
      "56:\tlearn: 0.2492047\ttotal: 1.9s\tremaining: 31.5s\n",
      "57:\tlearn: 0.2488733\ttotal: 1.94s\tremaining: 31.6s\n",
      "58:\tlearn: 0.2485704\ttotal: 1.97s\tremaining: 31.5s\n",
      "59:\tlearn: 0.2483111\ttotal: 2.05s\tremaining: 32.1s\n",
      "60:\tlearn: 0.2481135\ttotal: 2.07s\tremaining: 31.9s\n",
      "61:\tlearn: 0.2478651\ttotal: 2.12s\tremaining: 32.1s\n",
      "62:\tlearn: 0.2476205\ttotal: 2.16s\tremaining: 32.1s\n",
      "63:\tlearn: 0.2473064\ttotal: 2.19s\tremaining: 32s\n",
      "64:\tlearn: 0.2470688\ttotal: 2.23s\tremaining: 32.1s\n",
      "65:\tlearn: 0.2467729\ttotal: 2.27s\tremaining: 32.2s\n",
      "66:\tlearn: 0.2465519\ttotal: 2.33s\tremaining: 32.4s\n",
      "67:\tlearn: 0.2463054\ttotal: 2.37s\tremaining: 32.4s\n",
      "68:\tlearn: 0.2461119\ttotal: 2.41s\tremaining: 32.5s\n",
      "69:\tlearn: 0.2459100\ttotal: 2.46s\tremaining: 32.7s\n",
      "70:\tlearn: 0.2456887\ttotal: 2.5s\tremaining: 32.7s\n",
      "71:\tlearn: 0.2455509\ttotal: 2.53s\tremaining: 32.6s\n",
      "72:\tlearn: 0.2454372\ttotal: 2.56s\tremaining: 32.5s\n",
      "73:\tlearn: 0.2453117\ttotal: 2.59s\tremaining: 32.4s\n",
      "74:\tlearn: 0.2451539\ttotal: 2.62s\tremaining: 32.3s\n",
      "75:\tlearn: 0.2450293\ttotal: 2.67s\tremaining: 32.5s\n",
      "76:\tlearn: 0.2448440\ttotal: 2.71s\tremaining: 32.4s\n",
      "77:\tlearn: 0.2446738\ttotal: 2.77s\tremaining: 32.7s\n",
      "78:\tlearn: 0.2444991\ttotal: 2.82s\tremaining: 32.8s\n",
      "79:\tlearn: 0.2443358\ttotal: 2.87s\tremaining: 33s\n",
      "80:\tlearn: 0.2441813\ttotal: 2.9s\tremaining: 32.9s\n",
      "81:\tlearn: 0.2440055\ttotal: 2.93s\tremaining: 32.8s\n",
      "82:\tlearn: 0.2438753\ttotal: 2.96s\tremaining: 32.7s\n",
      "83:\tlearn: 0.2437569\ttotal: 3s\tremaining: 32.8s\n",
      "84:\tlearn: 0.2436001\ttotal: 3.04s\tremaining: 32.7s\n",
      "85:\tlearn: 0.2434967\ttotal: 3.07s\tremaining: 32.6s\n",
      "86:\tlearn: 0.2433785\ttotal: 3.1s\tremaining: 32.6s\n",
      "87:\tlearn: 0.2432649\ttotal: 3.2s\tremaining: 33.2s\n",
      "88:\tlearn: 0.2431478\ttotal: 3.23s\tremaining: 33.1s\n",
      "89:\tlearn: 0.2430228\ttotal: 3.26s\tremaining: 33s\n",
      "90:\tlearn: 0.2429112\ttotal: 3.29s\tremaining: 32.9s\n",
      "91:\tlearn: 0.2427957\ttotal: 3.34s\tremaining: 33s\n",
      "92:\tlearn: 0.2426760\ttotal: 3.38s\tremaining: 33s\n",
      "93:\tlearn: 0.2425744\ttotal: 3.44s\tremaining: 33.2s\n",
      "94:\tlearn: 0.2424775\ttotal: 3.48s\tremaining: 33.2s\n",
      "95:\tlearn: 0.2423503\ttotal: 3.51s\tremaining: 33.1s\n",
      "96:\tlearn: 0.2422598\ttotal: 3.57s\tremaining: 33.2s\n",
      "97:\tlearn: 0.2421524\ttotal: 3.65s\tremaining: 33.6s\n",
      "98:\tlearn: 0.2420378\ttotal: 3.69s\tremaining: 33.6s\n",
      "99:\tlearn: 0.2419318\ttotal: 3.74s\tremaining: 33.7s\n",
      "100:\tlearn: 0.2418276\ttotal: 3.77s\tremaining: 33.6s\n",
      "101:\tlearn: 0.2417182\ttotal: 3.84s\tremaining: 33.8s\n",
      "102:\tlearn: 0.2415922\ttotal: 3.9s\tremaining: 34s\n",
      "103:\tlearn: 0.2414982\ttotal: 3.94s\tremaining: 34s\n",
      "104:\tlearn: 0.2414312\ttotal: 3.98s\tremaining: 33.9s\n",
      "105:\tlearn: 0.2413785\ttotal: 4.04s\tremaining: 34.1s\n",
      "106:\tlearn: 0.2412707\ttotal: 4.08s\tremaining: 34s\n",
      "107:\tlearn: 0.2411769\ttotal: 4.13s\tremaining: 34.1s\n",
      "108:\tlearn: 0.2410872\ttotal: 4.16s\tremaining: 34s\n",
      "109:\tlearn: 0.2410046\ttotal: 4.22s\tremaining: 34.1s\n",
      "110:\tlearn: 0.2408903\ttotal: 4.29s\tremaining: 34.4s\n",
      "111:\tlearn: 0.2407819\ttotal: 4.34s\tremaining: 34.4s\n",
      "112:\tlearn: 0.2406970\ttotal: 4.39s\tremaining: 34.5s\n",
      "113:\tlearn: 0.2406055\ttotal: 4.45s\tremaining: 34.6s\n",
      "114:\tlearn: 0.2405170\ttotal: 4.49s\tremaining: 34.5s\n",
      "115:\tlearn: 0.2404319\ttotal: 4.52s\tremaining: 34.4s\n",
      "116:\tlearn: 0.2403300\ttotal: 4.55s\tremaining: 34.3s\n",
      "117:\tlearn: 0.2402488\ttotal: 4.59s\tremaining: 34.3s\n",
      "118:\tlearn: 0.2401292\ttotal: 4.62s\tremaining: 34.2s\n",
      "119:\tlearn: 0.2400214\ttotal: 4.67s\tremaining: 34.3s\n",
      "120:\tlearn: 0.2398910\ttotal: 4.75s\tremaining: 34.5s\n",
      "121:\tlearn: 0.2397813\ttotal: 4.78s\tremaining: 34.4s\n",
      "122:\tlearn: 0.2396987\ttotal: 4.82s\tremaining: 34.3s\n",
      "123:\tlearn: 0.2396148\ttotal: 4.86s\tremaining: 34.3s\n",
      "124:\tlearn: 0.2395099\ttotal: 4.9s\tremaining: 34.3s\n",
      "125:\tlearn: 0.2394020\ttotal: 4.95s\tremaining: 34.3s\n",
      "126:\tlearn: 0.2393380\ttotal: 4.98s\tremaining: 34.2s\n",
      "127:\tlearn: 0.2392571\ttotal: 5.03s\tremaining: 34.3s\n",
      "128:\tlearn: 0.2391579\ttotal: 5.07s\tremaining: 34.2s\n",
      "129:\tlearn: 0.2390524\ttotal: 5.11s\tremaining: 34.2s\n",
      "130:\tlearn: 0.2389564\ttotal: 5.16s\tremaining: 34.2s\n",
      "131:\tlearn: 0.2388596\ttotal: 5.19s\tremaining: 34.2s\n",
      "132:\tlearn: 0.2387796\ttotal: 5.24s\tremaining: 34.1s\n",
      "133:\tlearn: 0.2386946\ttotal: 5.27s\tremaining: 34s\n",
      "134:\tlearn: 0.2386263\ttotal: 5.34s\tremaining: 34.2s\n",
      "135:\tlearn: 0.2385585\ttotal: 5.37s\tremaining: 34.1s\n",
      "136:\tlearn: 0.2384782\ttotal: 5.41s\tremaining: 34.1s\n",
      "137:\tlearn: 0.2383907\ttotal: 5.45s\tremaining: 34s\n",
      "138:\tlearn: 0.2383033\ttotal: 5.48s\tremaining: 33.9s\n",
      "139:\tlearn: 0.2382332\ttotal: 5.51s\tremaining: 33.8s\n",
      "140:\tlearn: 0.2381359\ttotal: 5.54s\tremaining: 33.7s\n",
      "141:\tlearn: 0.2380218\ttotal: 5.58s\tremaining: 33.7s\n",
      "142:\tlearn: 0.2379284\ttotal: 5.63s\tremaining: 33.7s\n",
      "143:\tlearn: 0.2378389\ttotal: 5.66s\tremaining: 33.6s\n",
      "144:\tlearn: 0.2377384\ttotal: 5.72s\tremaining: 33.7s\n",
      "145:\tlearn: 0.2376681\ttotal: 5.78s\tremaining: 33.8s\n",
      "146:\tlearn: 0.2376165\ttotal: 5.82s\tremaining: 33.8s\n",
      "147:\tlearn: 0.2375487\ttotal: 5.86s\tremaining: 33.7s\n",
      "148:\tlearn: 0.2374583\ttotal: 5.9s\tremaining: 33.7s\n",
      "149:\tlearn: 0.2374106\ttotal: 5.94s\tremaining: 33.6s\n",
      "150:\tlearn: 0.2373408\ttotal: 5.97s\tremaining: 33.5s\n",
      "151:\tlearn: 0.2372348\ttotal: 6.01s\tremaining: 33.5s\n",
      "152:\tlearn: 0.2371902\ttotal: 6.06s\tremaining: 33.5s\n",
      "153:\tlearn: 0.2371004\ttotal: 6.1s\tremaining: 33.5s\n",
      "154:\tlearn: 0.2370147\ttotal: 6.17s\tremaining: 33.6s\n",
      "155:\tlearn: 0.2369287\ttotal: 6.21s\tremaining: 33.6s\n",
      "156:\tlearn: 0.2368553\ttotal: 6.26s\tremaining: 33.6s\n",
      "157:\tlearn: 0.2367693\ttotal: 6.36s\tremaining: 33.9s\n",
      "158:\tlearn: 0.2366695\ttotal: 6.42s\tremaining: 34s\n",
      "159:\tlearn: 0.2365793\ttotal: 6.5s\tremaining: 34.1s\n",
      "160:\tlearn: 0.2364878\ttotal: 6.58s\tremaining: 34.3s\n"
     ]
    },
    {
     "name": "stdout",
     "output_type": "stream",
     "text": [
      "161:\tlearn: 0.2363954\ttotal: 6.63s\tremaining: 34.3s\n",
      "162:\tlearn: 0.2363063\ttotal: 6.67s\tremaining: 34.2s\n",
      "163:\tlearn: 0.2362263\ttotal: 6.71s\tremaining: 34.2s\n",
      "164:\tlearn: 0.2361188\ttotal: 6.78s\tremaining: 34.3s\n",
      "165:\tlearn: 0.2360553\ttotal: 6.86s\tremaining: 34.5s\n",
      "166:\tlearn: 0.2359972\ttotal: 6.92s\tremaining: 34.5s\n",
      "167:\tlearn: 0.2359635\ttotal: 6.99s\tremaining: 34.6s\n",
      "168:\tlearn: 0.2359123\ttotal: 7.08s\tremaining: 34.8s\n",
      "169:\tlearn: 0.2358662\ttotal: 7.17s\tremaining: 35s\n",
      "170:\tlearn: 0.2357982\ttotal: 7.22s\tremaining: 35s\n",
      "171:\tlearn: 0.2357075\ttotal: 7.3s\tremaining: 35.1s\n",
      "172:\tlearn: 0.2356281\ttotal: 7.36s\tremaining: 35.2s\n",
      "173:\tlearn: 0.2355814\ttotal: 7.42s\tremaining: 35.2s\n",
      "174:\tlearn: 0.2355020\ttotal: 7.5s\tremaining: 35.3s\n",
      "175:\tlearn: 0.2354213\ttotal: 7.56s\tremaining: 35.4s\n",
      "176:\tlearn: 0.2353368\ttotal: 7.66s\tremaining: 35.6s\n",
      "177:\tlearn: 0.2352342\ttotal: 7.77s\tremaining: 35.9s\n",
      "178:\tlearn: 0.2351318\ttotal: 7.86s\tremaining: 36.1s\n",
      "179:\tlearn: 0.2350745\ttotal: 7.93s\tremaining: 36.1s\n",
      "180:\tlearn: 0.2350074\ttotal: 7.99s\tremaining: 36.1s\n",
      "181:\tlearn: 0.2349453\ttotal: 8.09s\tremaining: 36.4s\n",
      "182:\tlearn: 0.2348808\ttotal: 8.18s\tremaining: 36.5s\n",
      "183:\tlearn: 0.2348103\ttotal: 8.23s\tremaining: 36.5s\n",
      "184:\tlearn: 0.2347510\ttotal: 8.35s\tremaining: 36.8s\n",
      "185:\tlearn: 0.2346752\ttotal: 8.48s\tremaining: 37.1s\n",
      "186:\tlearn: 0.2345954\ttotal: 8.61s\tremaining: 37.4s\n",
      "187:\tlearn: 0.2345258\ttotal: 8.67s\tremaining: 37.5s\n",
      "188:\tlearn: 0.2344432\ttotal: 8.89s\tremaining: 38.2s\n",
      "189:\tlearn: 0.2343602\ttotal: 8.96s\tremaining: 38.2s\n",
      "190:\tlearn: 0.2342729\ttotal: 9.01s\tremaining: 38.1s\n",
      "191:\tlearn: 0.2341721\ttotal: 9.04s\tremaining: 38s\n",
      "192:\tlearn: 0.2340644\ttotal: 9.07s\tremaining: 37.9s\n",
      "193:\tlearn: 0.2340067\ttotal: 9.1s\tremaining: 37.8s\n",
      "194:\tlearn: 0.2339214\ttotal: 9.13s\tremaining: 37.7s\n",
      "195:\tlearn: 0.2338684\ttotal: 9.15s\tremaining: 37.5s\n",
      "196:\tlearn: 0.2337904\ttotal: 9.17s\tremaining: 37.4s\n",
      "197:\tlearn: 0.2337085\ttotal: 9.19s\tremaining: 37.2s\n",
      "198:\tlearn: 0.2336483\ttotal: 9.22s\tremaining: 37.1s\n",
      "199:\tlearn: 0.2335810\ttotal: 9.24s\tremaining: 37s\n",
      "200:\tlearn: 0.2335284\ttotal: 9.27s\tremaining: 36.8s\n",
      "201:\tlearn: 0.2334522\ttotal: 9.29s\tremaining: 36.7s\n",
      "202:\tlearn: 0.2334031\ttotal: 9.31s\tremaining: 36.6s\n",
      "203:\tlearn: 0.2333320\ttotal: 9.34s\tremaining: 36.4s\n",
      "204:\tlearn: 0.2332595\ttotal: 9.36s\tremaining: 36.3s\n",
      "205:\tlearn: 0.2331700\ttotal: 9.39s\tremaining: 36.2s\n",
      "206:\tlearn: 0.2331196\ttotal: 9.41s\tremaining: 36s\n",
      "207:\tlearn: 0.2330321\ttotal: 9.44s\tremaining: 35.9s\n",
      "208:\tlearn: 0.2329520\ttotal: 9.46s\tremaining: 35.8s\n",
      "209:\tlearn: 0.2328767\ttotal: 9.49s\tremaining: 35.7s\n",
      "210:\tlearn: 0.2327979\ttotal: 9.51s\tremaining: 35.6s\n",
      "211:\tlearn: 0.2327202\ttotal: 9.54s\tremaining: 35.5s\n",
      "212:\tlearn: 0.2326347\ttotal: 9.56s\tremaining: 35.3s\n",
      "213:\tlearn: 0.2325465\ttotal: 9.59s\tremaining: 35.2s\n",
      "214:\tlearn: 0.2324483\ttotal: 9.61s\tremaining: 35.1s\n",
      "215:\tlearn: 0.2324015\ttotal: 9.64s\tremaining: 35s\n",
      "216:\tlearn: 0.2323016\ttotal: 9.67s\tremaining: 34.9s\n",
      "217:\tlearn: 0.2322280\ttotal: 9.7s\tremaining: 34.8s\n",
      "218:\tlearn: 0.2321345\ttotal: 9.72s\tremaining: 34.7s\n",
      "219:\tlearn: 0.2320765\ttotal: 9.74s\tremaining: 34.5s\n",
      "220:\tlearn: 0.2319820\ttotal: 9.76s\tremaining: 34.4s\n",
      "221:\tlearn: 0.2319053\ttotal: 9.79s\tremaining: 34.3s\n",
      "222:\tlearn: 0.2318185\ttotal: 9.81s\tremaining: 34.2s\n",
      "223:\tlearn: 0.2317374\ttotal: 9.82s\tremaining: 34s\n",
      "224:\tlearn: 0.2316611\ttotal: 9.83s\tremaining: 33.9s\n",
      "225:\tlearn: 0.2316001\ttotal: 9.85s\tremaining: 33.7s\n",
      "226:\tlearn: 0.2315627\ttotal: 9.86s\tremaining: 33.6s\n",
      "227:\tlearn: 0.2315024\ttotal: 9.88s\tremaining: 33.5s\n",
      "228:\tlearn: 0.2314364\ttotal: 9.89s\tremaining: 33.3s\n",
      "229:\tlearn: 0.2313596\ttotal: 9.91s\tremaining: 33.2s\n",
      "230:\tlearn: 0.2313011\ttotal: 9.92s\tremaining: 33s\n",
      "231:\tlearn: 0.2312397\ttotal: 9.95s\tremaining: 32.9s\n",
      "232:\tlearn: 0.2311407\ttotal: 9.96s\tremaining: 32.8s\n",
      "233:\tlearn: 0.2310733\ttotal: 9.97s\tremaining: 32.6s\n",
      "234:\tlearn: 0.2309931\ttotal: 9.99s\tremaining: 32.5s\n",
      "235:\tlearn: 0.2309167\ttotal: 10s\tremaining: 32.4s\n",
      "236:\tlearn: 0.2308233\ttotal: 10s\tremaining: 32.2s\n",
      "237:\tlearn: 0.2307548\ttotal: 10s\tremaining: 32.1s\n",
      "238:\tlearn: 0.2306827\ttotal: 10s\tremaining: 32s\n",
      "239:\tlearn: 0.2305886\ttotal: 10.1s\tremaining: 31.8s\n",
      "240:\tlearn: 0.2305128\ttotal: 10.1s\tremaining: 31.7s\n",
      "241:\tlearn: 0.2304475\ttotal: 10.1s\tremaining: 31.6s\n",
      "242:\tlearn: 0.2303550\ttotal: 10.1s\tremaining: 31.4s\n",
      "243:\tlearn: 0.2302789\ttotal: 10.1s\tremaining: 31.3s\n",
      "244:\tlearn: 0.2302078\ttotal: 10.1s\tremaining: 31.2s\n",
      "245:\tlearn: 0.2301453\ttotal: 10.1s\tremaining: 31.1s\n",
      "246:\tlearn: 0.2300550\ttotal: 10.1s\tremaining: 30.9s\n",
      "247:\tlearn: 0.2299991\ttotal: 10.2s\tremaining: 30.8s\n",
      "248:\tlearn: 0.2299600\ttotal: 10.2s\tremaining: 30.7s\n",
      "249:\tlearn: 0.2298595\ttotal: 10.2s\tremaining: 30.6s\n",
      "250:\tlearn: 0.2297834\ttotal: 10.2s\tremaining: 30.4s\n",
      "251:\tlearn: 0.2296734\ttotal: 10.2s\tremaining: 30.3s\n",
      "252:\tlearn: 0.2295943\ttotal: 10.2s\tremaining: 30.2s\n",
      "253:\tlearn: 0.2295365\ttotal: 10.2s\tremaining: 30.1s\n",
      "254:\tlearn: 0.2294744\ttotal: 10.3s\tremaining: 30s\n",
      "255:\tlearn: 0.2293838\ttotal: 10.3s\tremaining: 29.8s\n",
      "256:\tlearn: 0.2292950\ttotal: 10.3s\tremaining: 29.7s\n",
      "257:\tlearn: 0.2292181\ttotal: 10.3s\tremaining: 29.6s\n",
      "258:\tlearn: 0.2291365\ttotal: 10.3s\tremaining: 29.5s\n",
      "259:\tlearn: 0.2290400\ttotal: 10.3s\tremaining: 29.4s\n",
      "260:\tlearn: 0.2289774\ttotal: 10.3s\tremaining: 29.3s\n",
      "261:\tlearn: 0.2288911\ttotal: 10.4s\tremaining: 29.2s\n",
      "262:\tlearn: 0.2288105\ttotal: 10.4s\tremaining: 29.1s\n",
      "263:\tlearn: 0.2287216\ttotal: 10.4s\tremaining: 28.9s\n",
      "264:\tlearn: 0.2286298\ttotal: 10.4s\tremaining: 28.8s\n",
      "265:\tlearn: 0.2285447\ttotal: 10.4s\tremaining: 28.7s\n",
      "266:\tlearn: 0.2284624\ttotal: 10.4s\tremaining: 28.6s\n",
      "267:\tlearn: 0.2284051\ttotal: 10.4s\tremaining: 28.5s\n",
      "268:\tlearn: 0.2283467\ttotal: 10.5s\tremaining: 28.4s\n",
      "269:\tlearn: 0.2282661\ttotal: 10.5s\tremaining: 28.3s\n",
      "270:\tlearn: 0.2281777\ttotal: 10.5s\tremaining: 28.2s\n",
      "271:\tlearn: 0.2280847\ttotal: 10.5s\tremaining: 28.1s\n",
      "272:\tlearn: 0.2280008\ttotal: 10.5s\tremaining: 28s\n",
      "273:\tlearn: 0.2279595\ttotal: 10.5s\tremaining: 27.9s\n",
      "274:\tlearn: 0.2278804\ttotal: 10.5s\tremaining: 27.8s\n",
      "275:\tlearn: 0.2277954\ttotal: 10.6s\tremaining: 27.7s\n",
      "276:\tlearn: 0.2277212\ttotal: 10.6s\tremaining: 27.6s\n",
      "277:\tlearn: 0.2276780\ttotal: 10.6s\tremaining: 27.5s\n",
      "278:\tlearn: 0.2275945\ttotal: 10.6s\tremaining: 27.4s\n",
      "279:\tlearn: 0.2275053\ttotal: 10.6s\tremaining: 27.3s\n",
      "280:\tlearn: 0.2274171\ttotal: 10.6s\tremaining: 27.2s\n",
      "281:\tlearn: 0.2273614\ttotal: 10.6s\tremaining: 27.1s\n",
      "282:\tlearn: 0.2273110\ttotal: 10.7s\tremaining: 27s\n",
      "283:\tlearn: 0.2272259\ttotal: 10.7s\tremaining: 26.9s\n",
      "284:\tlearn: 0.2271445\ttotal: 10.7s\tremaining: 26.8s\n",
      "285:\tlearn: 0.2270899\ttotal: 10.7s\tremaining: 26.7s\n",
      "286:\tlearn: 0.2270195\ttotal: 10.7s\tremaining: 26.6s\n",
      "287:\tlearn: 0.2269874\ttotal: 10.7s\tremaining: 26.5s\n",
      "288:\tlearn: 0.2268957\ttotal: 10.7s\tremaining: 26.4s\n",
      "289:\tlearn: 0.2268330\ttotal: 10.8s\tremaining: 26.4s\n",
      "290:\tlearn: 0.2267521\ttotal: 10.8s\tremaining: 26.3s\n",
      "291:\tlearn: 0.2266762\ttotal: 10.8s\tremaining: 26.2s\n",
      "292:\tlearn: 0.2265799\ttotal: 10.8s\tremaining: 26.1s\n",
      "293:\tlearn: 0.2265002\ttotal: 10.8s\tremaining: 26s\n",
      "294:\tlearn: 0.2264202\ttotal: 10.8s\tremaining: 25.9s\n",
      "295:\tlearn: 0.2263610\ttotal: 10.9s\tremaining: 25.8s\n",
      "296:\tlearn: 0.2262858\ttotal: 10.9s\tremaining: 25.7s\n",
      "297:\tlearn: 0.2262173\ttotal: 10.9s\tremaining: 25.6s\n",
      "298:\tlearn: 0.2261304\ttotal: 10.9s\tremaining: 25.5s\n",
      "299:\tlearn: 0.2260776\ttotal: 10.9s\tremaining: 25.5s\n",
      "300:\tlearn: 0.2260115\ttotal: 10.9s\tremaining: 25.4s\n",
      "301:\tlearn: 0.2259325\ttotal: 10.9s\tremaining: 25.3s\n",
      "302:\tlearn: 0.2258800\ttotal: 11s\tremaining: 25.2s\n",
      "303:\tlearn: 0.2258024\ttotal: 11s\tremaining: 25.1s\n",
      "304:\tlearn: 0.2257480\ttotal: 11s\tremaining: 25s\n",
      "305:\tlearn: 0.2256861\ttotal: 11s\tremaining: 25s\n",
      "306:\tlearn: 0.2256285\ttotal: 11s\tremaining: 24.9s\n",
      "307:\tlearn: 0.2255514\ttotal: 11s\tremaining: 24.8s\n",
      "308:\tlearn: 0.2255009\ttotal: 11s\tremaining: 24.7s\n",
      "309:\tlearn: 0.2254477\ttotal: 11.1s\tremaining: 24.6s\n",
      "310:\tlearn: 0.2253779\ttotal: 11.1s\tremaining: 24.5s\n",
      "311:\tlearn: 0.2253158\ttotal: 11.1s\tremaining: 24.4s\n",
      "312:\tlearn: 0.2252504\ttotal: 11.1s\tremaining: 24.3s\n",
      "313:\tlearn: 0.2251833\ttotal: 11.1s\tremaining: 24.3s\n",
      "314:\tlearn: 0.2251101\ttotal: 11.1s\tremaining: 24.2s\n",
      "315:\tlearn: 0.2250302\ttotal: 11.1s\tremaining: 24.1s\n",
      "316:\tlearn: 0.2249608\ttotal: 11.1s\tremaining: 24s\n",
      "317:\tlearn: 0.2248915\ttotal: 11.2s\tremaining: 23.9s\n",
      "318:\tlearn: 0.2248548\ttotal: 11.2s\tremaining: 23.8s\n",
      "319:\tlearn: 0.2247809\ttotal: 11.2s\tremaining: 23.7s\n",
      "320:\tlearn: 0.2247151\ttotal: 11.2s\tremaining: 23.7s\n",
      "321:\tlearn: 0.2246394\ttotal: 11.2s\tremaining: 23.7s\n",
      "322:\tlearn: 0.2245819\ttotal: 11.3s\tremaining: 23.6s\n",
      "323:\tlearn: 0.2245302\ttotal: 11.3s\tremaining: 23.6s\n"
     ]
    },
    {
     "name": "stdout",
     "output_type": "stream",
     "text": [
      "324:\tlearn: 0.2244801\ttotal: 11.3s\tremaining: 23.6s\n",
      "325:\tlearn: 0.2243990\ttotal: 11.4s\tremaining: 23.5s\n",
      "326:\tlearn: 0.2243283\ttotal: 11.4s\tremaining: 23.5s\n",
      "327:\tlearn: 0.2242464\ttotal: 11.4s\tremaining: 23.4s\n",
      "328:\tlearn: 0.2242081\ttotal: 11.5s\tremaining: 23.4s\n",
      "329:\tlearn: 0.2241524\ttotal: 11.5s\tremaining: 23.3s\n",
      "330:\tlearn: 0.2240700\ttotal: 11.5s\tremaining: 23.3s\n",
      "331:\tlearn: 0.2240211\ttotal: 11.6s\tremaining: 23.3s\n",
      "332:\tlearn: 0.2239739\ttotal: 11.6s\tremaining: 23.2s\n",
      "333:\tlearn: 0.2239212\ttotal: 11.6s\tremaining: 23.2s\n",
      "334:\tlearn: 0.2238843\ttotal: 11.6s\tremaining: 23.1s\n",
      "335:\tlearn: 0.2238049\ttotal: 11.7s\tremaining: 23.1s\n",
      "336:\tlearn: 0.2237290\ttotal: 11.7s\tremaining: 23s\n",
      "337:\tlearn: 0.2236860\ttotal: 11.7s\tremaining: 23s\n",
      "338:\tlearn: 0.2235874\ttotal: 11.8s\tremaining: 22.9s\n",
      "339:\tlearn: 0.2235293\ttotal: 11.8s\tremaining: 22.9s\n",
      "340:\tlearn: 0.2234927\ttotal: 11.8s\tremaining: 22.9s\n",
      "341:\tlearn: 0.2234355\ttotal: 11.9s\tremaining: 22.8s\n",
      "342:\tlearn: 0.2233708\ttotal: 11.9s\tremaining: 22.8s\n",
      "343:\tlearn: 0.2232997\ttotal: 11.9s\tremaining: 22.7s\n",
      "344:\tlearn: 0.2232702\ttotal: 11.9s\tremaining: 22.7s\n",
      "345:\tlearn: 0.2232165\ttotal: 12s\tremaining: 22.6s\n",
      "346:\tlearn: 0.2231578\ttotal: 12s\tremaining: 22.6s\n",
      "347:\tlearn: 0.2230950\ttotal: 12s\tremaining: 22.6s\n",
      "348:\tlearn: 0.2230374\ttotal: 12.1s\tremaining: 22.5s\n",
      "349:\tlearn: 0.2229819\ttotal: 12.1s\tremaining: 22.5s\n",
      "350:\tlearn: 0.2228895\ttotal: 12.1s\tremaining: 22.5s\n",
      "351:\tlearn: 0.2228344\ttotal: 12.2s\tremaining: 22.4s\n",
      "352:\tlearn: 0.2227665\ttotal: 12.2s\tremaining: 22.4s\n",
      "353:\tlearn: 0.2226898\ttotal: 12.2s\tremaining: 22.3s\n",
      "354:\tlearn: 0.2226039\ttotal: 12.3s\tremaining: 22.3s\n",
      "355:\tlearn: 0.2225421\ttotal: 12.3s\tremaining: 22.2s\n",
      "356:\tlearn: 0.2224907\ttotal: 12.3s\tremaining: 22.2s\n",
      "357:\tlearn: 0.2224139\ttotal: 12.4s\tremaining: 22.2s\n",
      "358:\tlearn: 0.2223418\ttotal: 12.4s\tremaining: 22.1s\n",
      "359:\tlearn: 0.2222540\ttotal: 12.4s\tremaining: 22.1s\n",
      "360:\tlearn: 0.2222065\ttotal: 12.5s\tremaining: 22s\n",
      "361:\tlearn: 0.2221605\ttotal: 12.5s\tremaining: 22s\n",
      "362:\tlearn: 0.2221036\ttotal: 12.5s\tremaining: 22s\n",
      "363:\tlearn: 0.2220398\ttotal: 12.5s\tremaining: 21.9s\n",
      "364:\tlearn: 0.2219517\ttotal: 12.6s\tremaining: 21.9s\n",
      "365:\tlearn: 0.2219074\ttotal: 12.6s\tremaining: 21.8s\n",
      "366:\tlearn: 0.2218431\ttotal: 12.6s\tremaining: 21.8s\n",
      "367:\tlearn: 0.2217920\ttotal: 12.7s\tremaining: 21.8s\n",
      "368:\tlearn: 0.2217350\ttotal: 12.7s\tremaining: 21.7s\n",
      "369:\tlearn: 0.2216706\ttotal: 12.7s\tremaining: 21.7s\n",
      "370:\tlearn: 0.2216188\ttotal: 12.8s\tremaining: 21.6s\n",
      "371:\tlearn: 0.2215542\ttotal: 12.8s\tremaining: 21.6s\n",
      "372:\tlearn: 0.2214868\ttotal: 12.8s\tremaining: 21.6s\n",
      "373:\tlearn: 0.2214328\ttotal: 12.9s\tremaining: 21.5s\n",
      "374:\tlearn: 0.2213416\ttotal: 12.9s\tremaining: 21.5s\n",
      "375:\tlearn: 0.2213017\ttotal: 12.9s\tremaining: 21.4s\n",
      "376:\tlearn: 0.2212285\ttotal: 12.9s\tremaining: 21.4s\n",
      "377:\tlearn: 0.2211726\ttotal: 13s\tremaining: 21.4s\n",
      "378:\tlearn: 0.2211014\ttotal: 13s\tremaining: 21.3s\n",
      "379:\tlearn: 0.2210239\ttotal: 13s\tremaining: 21.3s\n",
      "380:\tlearn: 0.2209719\ttotal: 13.1s\tremaining: 21.2s\n",
      "381:\tlearn: 0.2209230\ttotal: 13.1s\tremaining: 21.2s\n",
      "382:\tlearn: 0.2208819\ttotal: 13.1s\tremaining: 21.2s\n",
      "383:\tlearn: 0.2208081\ttotal: 13.2s\tremaining: 21.1s\n",
      "384:\tlearn: 0.2207682\ttotal: 13.2s\tremaining: 21.1s\n",
      "385:\tlearn: 0.2207169\ttotal: 13.3s\tremaining: 21.1s\n",
      "386:\tlearn: 0.2206425\ttotal: 13.3s\tremaining: 21s\n",
      "387:\tlearn: 0.2206083\ttotal: 13.3s\tremaining: 21s\n",
      "388:\tlearn: 0.2205365\ttotal: 13.3s\tremaining: 21s\n",
      "389:\tlearn: 0.2204727\ttotal: 13.4s\tremaining: 20.9s\n",
      "390:\tlearn: 0.2203911\ttotal: 13.4s\tremaining: 20.9s\n",
      "391:\tlearn: 0.2203388\ttotal: 13.4s\tremaining: 20.8s\n",
      "392:\tlearn: 0.2202615\ttotal: 13.5s\tremaining: 20.8s\n",
      "393:\tlearn: 0.2202180\ttotal: 13.5s\tremaining: 20.8s\n",
      "394:\tlearn: 0.2201782\ttotal: 13.5s\tremaining: 20.7s\n",
      "395:\tlearn: 0.2201198\ttotal: 13.6s\tremaining: 20.7s\n",
      "396:\tlearn: 0.2200420\ttotal: 13.6s\tremaining: 20.7s\n",
      "397:\tlearn: 0.2199733\ttotal: 13.6s\tremaining: 20.6s\n",
      "398:\tlearn: 0.2199306\ttotal: 13.7s\tremaining: 20.6s\n",
      "399:\tlearn: 0.2198858\ttotal: 13.7s\tremaining: 20.5s\n",
      "400:\tlearn: 0.2198403\ttotal: 13.7s\tremaining: 20.5s\n",
      "401:\tlearn: 0.2197870\ttotal: 13.8s\tremaining: 20.5s\n",
      "402:\tlearn: 0.2197518\ttotal: 13.8s\tremaining: 20.4s\n",
      "403:\tlearn: 0.2196981\ttotal: 13.8s\tremaining: 20.4s\n",
      "404:\tlearn: 0.2196191\ttotal: 13.9s\tremaining: 20.4s\n",
      "405:\tlearn: 0.2195521\ttotal: 13.9s\tremaining: 20.3s\n",
      "406:\tlearn: 0.2194864\ttotal: 13.9s\tremaining: 20.3s\n",
      "407:\tlearn: 0.2194467\ttotal: 14s\tremaining: 20.2s\n",
      "408:\tlearn: 0.2193983\ttotal: 14s\tremaining: 20.2s\n",
      "409:\tlearn: 0.2193160\ttotal: 14s\tremaining: 20.2s\n",
      "410:\tlearn: 0.2192257\ttotal: 14.1s\tremaining: 20.1s\n",
      "411:\tlearn: 0.2191589\ttotal: 14.1s\tremaining: 20.1s\n",
      "412:\tlearn: 0.2190759\ttotal: 14.1s\tremaining: 20.1s\n",
      "413:\tlearn: 0.2190042\ttotal: 14.1s\tremaining: 20s\n",
      "414:\tlearn: 0.2189131\ttotal: 14.2s\tremaining: 20s\n",
      "415:\tlearn: 0.2188724\ttotal: 14.2s\tremaining: 20s\n",
      "416:\tlearn: 0.2188157\ttotal: 14.3s\tremaining: 19.9s\n",
      "417:\tlearn: 0.2187774\ttotal: 14.3s\tremaining: 20s\n",
      "418:\tlearn: 0.2187114\ttotal: 14.4s\tremaining: 19.9s\n",
      "419:\tlearn: 0.2186323\ttotal: 14.4s\tremaining: 19.9s\n",
      "420:\tlearn: 0.2186035\ttotal: 14.4s\tremaining: 19.8s\n",
      "421:\tlearn: 0.2185554\ttotal: 14.5s\tremaining: 19.8s\n",
      "422:\tlearn: 0.2185070\ttotal: 14.5s\tremaining: 19.8s\n",
      "423:\tlearn: 0.2184396\ttotal: 14.5s\tremaining: 19.7s\n",
      "424:\tlearn: 0.2183795\ttotal: 14.6s\tremaining: 19.7s\n",
      "425:\tlearn: 0.2183170\ttotal: 14.6s\tremaining: 19.6s\n",
      "426:\tlearn: 0.2182698\ttotal: 14.6s\tremaining: 19.6s\n",
      "427:\tlearn: 0.2182102\ttotal: 14.7s\tremaining: 19.6s\n",
      "428:\tlearn: 0.2181556\ttotal: 14.7s\tremaining: 19.5s\n",
      "429:\tlearn: 0.2180855\ttotal: 14.7s\tremaining: 19.5s\n",
      "430:\tlearn: 0.2180337\ttotal: 14.8s\tremaining: 19.5s\n",
      "431:\tlearn: 0.2179914\ttotal: 14.8s\tremaining: 19.4s\n",
      "432:\tlearn: 0.2179464\ttotal: 14.8s\tremaining: 19.4s\n",
      "433:\tlearn: 0.2179008\ttotal: 14.8s\tremaining: 19.4s\n",
      "434:\tlearn: 0.2178634\ttotal: 14.9s\tremaining: 19.3s\n",
      "435:\tlearn: 0.2178033\ttotal: 14.9s\tremaining: 19.3s\n",
      "436:\tlearn: 0.2177507\ttotal: 14.9s\tremaining: 19.2s\n",
      "437:\tlearn: 0.2176884\ttotal: 15s\tremaining: 19.2s\n",
      "438:\tlearn: 0.2176529\ttotal: 15s\tremaining: 19.2s\n",
      "439:\tlearn: 0.2175847\ttotal: 15s\tremaining: 19.1s\n",
      "440:\tlearn: 0.2175149\ttotal: 15.1s\tremaining: 19.1s\n",
      "441:\tlearn: 0.2174493\ttotal: 15.1s\tremaining: 19.1s\n",
      "442:\tlearn: 0.2173899\ttotal: 15.1s\tremaining: 19s\n",
      "443:\tlearn: 0.2173402\ttotal: 15.2s\tremaining: 19s\n",
      "444:\tlearn: 0.2172914\ttotal: 15.2s\tremaining: 18.9s\n",
      "445:\tlearn: 0.2172574\ttotal: 15.2s\tremaining: 18.9s\n",
      "446:\tlearn: 0.2172294\ttotal: 15.2s\tremaining: 18.9s\n",
      "447:\tlearn: 0.2171855\ttotal: 15.3s\tremaining: 18.8s\n",
      "448:\tlearn: 0.2171324\ttotal: 15.3s\tremaining: 18.8s\n",
      "449:\tlearn: 0.2170681\ttotal: 15.3s\tremaining: 18.8s\n",
      "450:\tlearn: 0.2169897\ttotal: 15.4s\tremaining: 18.8s\n",
      "451:\tlearn: 0.2169629\ttotal: 15.4s\tremaining: 18.7s\n",
      "452:\tlearn: 0.2169208\ttotal: 15.5s\tremaining: 18.7s\n",
      "453:\tlearn: 0.2168391\ttotal: 15.5s\tremaining: 18.6s\n",
      "454:\tlearn: 0.2168048\ttotal: 15.5s\tremaining: 18.6s\n",
      "455:\tlearn: 0.2167381\ttotal: 15.6s\tremaining: 18.6s\n",
      "456:\tlearn: 0.2166643\ttotal: 15.6s\tremaining: 18.5s\n",
      "457:\tlearn: 0.2166427\ttotal: 15.6s\tremaining: 18.5s\n",
      "458:\tlearn: 0.2165881\ttotal: 15.7s\tremaining: 18.5s\n",
      "459:\tlearn: 0.2165522\ttotal: 15.7s\tremaining: 18.4s\n",
      "460:\tlearn: 0.2165006\ttotal: 15.7s\tremaining: 18.4s\n",
      "461:\tlearn: 0.2164324\ttotal: 15.8s\tremaining: 18.4s\n",
      "462:\tlearn: 0.2163539\ttotal: 15.8s\tremaining: 18.3s\n",
      "463:\tlearn: 0.2162984\ttotal: 15.8s\tremaining: 18.3s\n",
      "464:\tlearn: 0.2162571\ttotal: 15.9s\tremaining: 18.3s\n",
      "465:\tlearn: 0.2161743\ttotal: 15.9s\tremaining: 18.2s\n",
      "466:\tlearn: 0.2161231\ttotal: 15.9s\tremaining: 18.2s\n",
      "467:\tlearn: 0.2160830\ttotal: 16s\tremaining: 18.1s\n",
      "468:\tlearn: 0.2160160\ttotal: 16s\tremaining: 18.1s\n",
      "469:\tlearn: 0.2159648\ttotal: 16s\tremaining: 18.1s\n",
      "470:\tlearn: 0.2159156\ttotal: 16.1s\tremaining: 18s\n",
      "471:\tlearn: 0.2158668\ttotal: 16.1s\tremaining: 18s\n",
      "472:\tlearn: 0.2157752\ttotal: 16.1s\tremaining: 18s\n",
      "473:\tlearn: 0.2157189\ttotal: 16.1s\tremaining: 17.9s\n",
      "474:\tlearn: 0.2156900\ttotal: 16.2s\tremaining: 17.9s\n",
      "475:\tlearn: 0.2156425\ttotal: 16.2s\tremaining: 17.8s\n",
      "476:\tlearn: 0.2155663\ttotal: 16.2s\tremaining: 17.8s\n",
      "477:\tlearn: 0.2154931\ttotal: 16.3s\tremaining: 17.8s\n",
      "478:\tlearn: 0.2154333\ttotal: 16.3s\tremaining: 17.7s\n",
      "479:\tlearn: 0.2153826\ttotal: 16.3s\tremaining: 17.7s\n",
      "480:\tlearn: 0.2153159\ttotal: 16.4s\tremaining: 17.7s\n",
      "481:\tlearn: 0.2152553\ttotal: 16.4s\tremaining: 17.6s\n",
      "482:\tlearn: 0.2152095\ttotal: 16.4s\tremaining: 17.6s\n",
      "483:\tlearn: 0.2151699\ttotal: 16.5s\tremaining: 17.5s\n"
     ]
    },
    {
     "name": "stdout",
     "output_type": "stream",
     "text": [
      "484:\tlearn: 0.2151355\ttotal: 16.5s\tremaining: 17.5s\n",
      "485:\tlearn: 0.2150791\ttotal: 16.5s\tremaining: 17.5s\n",
      "486:\tlearn: 0.2150380\ttotal: 16.6s\tremaining: 17.5s\n",
      "487:\tlearn: 0.2149644\ttotal: 16.6s\tremaining: 17.4s\n",
      "488:\tlearn: 0.2149331\ttotal: 16.6s\tremaining: 17.4s\n",
      "489:\tlearn: 0.2149327\ttotal: 16.7s\tremaining: 17.3s\n",
      "490:\tlearn: 0.2149011\ttotal: 16.7s\tremaining: 17.3s\n",
      "491:\tlearn: 0.2148702\ttotal: 16.7s\tremaining: 17.3s\n",
      "492:\tlearn: 0.2148472\ttotal: 16.7s\tremaining: 17.2s\n",
      "493:\tlearn: 0.2147714\ttotal: 16.8s\tremaining: 17.2s\n",
      "494:\tlearn: 0.2147044\ttotal: 16.8s\tremaining: 17.1s\n",
      "495:\tlearn: 0.2146498\ttotal: 16.8s\tremaining: 17.1s\n",
      "496:\tlearn: 0.2146129\ttotal: 16.9s\tremaining: 17.1s\n",
      "497:\tlearn: 0.2145578\ttotal: 16.9s\tremaining: 17s\n",
      "498:\tlearn: 0.2145038\ttotal: 16.9s\tremaining: 17s\n",
      "499:\tlearn: 0.2144487\ttotal: 17s\tremaining: 17s\n",
      "500:\tlearn: 0.2144097\ttotal: 17s\tremaining: 16.9s\n",
      "501:\tlearn: 0.2143554\ttotal: 17s\tremaining: 16.9s\n",
      "502:\tlearn: 0.2142778\ttotal: 17s\tremaining: 16.8s\n",
      "503:\tlearn: 0.2142318\ttotal: 17.1s\tremaining: 16.8s\n",
      "504:\tlearn: 0.2141712\ttotal: 17.1s\tremaining: 16.7s\n",
      "505:\tlearn: 0.2140990\ttotal: 17.1s\tremaining: 16.7s\n",
      "506:\tlearn: 0.2140429\ttotal: 17.1s\tremaining: 16.6s\n",
      "507:\tlearn: 0.2139798\ttotal: 17.1s\tremaining: 16.6s\n",
      "508:\tlearn: 0.2139008\ttotal: 17.2s\tremaining: 16.5s\n",
      "509:\tlearn: 0.2138394\ttotal: 17.2s\tremaining: 16.5s\n",
      "510:\tlearn: 0.2137767\ttotal: 17.2s\tremaining: 16.5s\n",
      "511:\tlearn: 0.2137081\ttotal: 17.2s\tremaining: 16.4s\n",
      "512:\tlearn: 0.2136803\ttotal: 17.2s\tremaining: 16.4s\n",
      "513:\tlearn: 0.2136320\ttotal: 17.3s\tremaining: 16.3s\n",
      "514:\tlearn: 0.2136034\ttotal: 17.3s\tremaining: 16.3s\n",
      "515:\tlearn: 0.2135453\ttotal: 17.3s\tremaining: 16.2s\n",
      "516:\tlearn: 0.2134930\ttotal: 17.3s\tremaining: 16.2s\n",
      "517:\tlearn: 0.2134279\ttotal: 17.3s\tremaining: 16.1s\n",
      "518:\tlearn: 0.2133899\ttotal: 17.4s\tremaining: 16.1s\n",
      "519:\tlearn: 0.2133407\ttotal: 17.4s\tremaining: 16s\n",
      "520:\tlearn: 0.2132883\ttotal: 17.4s\tremaining: 16s\n",
      "521:\tlearn: 0.2132047\ttotal: 17.4s\tremaining: 16s\n",
      "522:\tlearn: 0.2131318\ttotal: 17.4s\tremaining: 15.9s\n",
      "523:\tlearn: 0.2130684\ttotal: 17.5s\tremaining: 15.9s\n",
      "524:\tlearn: 0.2130309\ttotal: 17.5s\tremaining: 15.8s\n",
      "525:\tlearn: 0.2130021\ttotal: 17.5s\tremaining: 15.8s\n",
      "526:\tlearn: 0.2129445\ttotal: 17.5s\tremaining: 15.7s\n",
      "527:\tlearn: 0.2128780\ttotal: 17.6s\tremaining: 15.7s\n",
      "528:\tlearn: 0.2128031\ttotal: 17.6s\tremaining: 15.7s\n",
      "529:\tlearn: 0.2127371\ttotal: 17.6s\tremaining: 15.6s\n",
      "530:\tlearn: 0.2126818\ttotal: 17.6s\tremaining: 15.6s\n",
      "531:\tlearn: 0.2126451\ttotal: 17.7s\tremaining: 15.5s\n",
      "532:\tlearn: 0.2126369\ttotal: 17.7s\tremaining: 15.5s\n",
      "533:\tlearn: 0.2125775\ttotal: 17.7s\tremaining: 15.4s\n",
      "534:\tlearn: 0.2125092\ttotal: 17.7s\tremaining: 15.4s\n",
      "535:\tlearn: 0.2124490\ttotal: 17.7s\tremaining: 15.3s\n",
      "536:\tlearn: 0.2123831\ttotal: 17.7s\tremaining: 15.3s\n",
      "537:\tlearn: 0.2122918\ttotal: 17.8s\tremaining: 15.3s\n",
      "538:\tlearn: 0.2122257\ttotal: 17.8s\tremaining: 15.2s\n",
      "539:\tlearn: 0.2121837\ttotal: 17.8s\tremaining: 15.2s\n",
      "540:\tlearn: 0.2121794\ttotal: 17.8s\tremaining: 15.1s\n",
      "541:\tlearn: 0.2121702\ttotal: 17.9s\tremaining: 15.1s\n",
      "542:\tlearn: 0.2121222\ttotal: 17.9s\tremaining: 15s\n",
      "543:\tlearn: 0.2120611\ttotal: 17.9s\tremaining: 15s\n",
      "544:\tlearn: 0.2119924\ttotal: 17.9s\tremaining: 14.9s\n",
      "545:\tlearn: 0.2119457\ttotal: 17.9s\tremaining: 14.9s\n",
      "546:\tlearn: 0.2118945\ttotal: 18s\tremaining: 14.9s\n",
      "547:\tlearn: 0.2118266\ttotal: 18s\tremaining: 14.8s\n",
      "548:\tlearn: 0.2117857\ttotal: 18s\tremaining: 14.8s\n",
      "549:\tlearn: 0.2117389\ttotal: 18s\tremaining: 14.7s\n",
      "550:\tlearn: 0.2116814\ttotal: 18s\tremaining: 14.7s\n",
      "551:\tlearn: 0.2116367\ttotal: 18.1s\tremaining: 14.7s\n",
      "552:\tlearn: 0.2115730\ttotal: 18.1s\tremaining: 14.6s\n",
      "553:\tlearn: 0.2115115\ttotal: 18.1s\tremaining: 14.6s\n",
      "554:\tlearn: 0.2114464\ttotal: 18.2s\tremaining: 14.6s\n",
      "555:\tlearn: 0.2113886\ttotal: 18.2s\tremaining: 14.5s\n",
      "556:\tlearn: 0.2113342\ttotal: 18.2s\tremaining: 14.5s\n",
      "557:\tlearn: 0.2112898\ttotal: 18.3s\tremaining: 14.5s\n",
      "558:\tlearn: 0.2112502\ttotal: 18.3s\tremaining: 14.4s\n",
      "559:\tlearn: 0.2112083\ttotal: 18.3s\tremaining: 14.4s\n",
      "560:\tlearn: 0.2111698\ttotal: 18.4s\tremaining: 14.4s\n",
      "561:\tlearn: 0.2110962\ttotal: 18.4s\tremaining: 14.3s\n",
      "562:\tlearn: 0.2110470\ttotal: 18.4s\tremaining: 14.3s\n",
      "563:\tlearn: 0.2109986\ttotal: 18.5s\tremaining: 14.3s\n",
      "564:\tlearn: 0.2109168\ttotal: 18.5s\tremaining: 14.2s\n",
      "565:\tlearn: 0.2108551\ttotal: 18.5s\tremaining: 14.2s\n",
      "566:\tlearn: 0.2108263\ttotal: 18.5s\tremaining: 14.2s\n",
      "567:\tlearn: 0.2108022\ttotal: 18.6s\tremaining: 14.1s\n",
      "568:\tlearn: 0.2107463\ttotal: 18.6s\tremaining: 14.1s\n",
      "569:\tlearn: 0.2106752\ttotal: 18.7s\tremaining: 14.1s\n",
      "570:\tlearn: 0.2106111\ttotal: 18.7s\tremaining: 14.1s\n",
      "571:\tlearn: 0.2105470\ttotal: 18.7s\tremaining: 14s\n",
      "572:\tlearn: 0.2104860\ttotal: 18.8s\tremaining: 14s\n",
      "573:\tlearn: 0.2104504\ttotal: 18.8s\tremaining: 14s\n",
      "574:\tlearn: 0.2104121\ttotal: 18.8s\tremaining: 13.9s\n",
      "575:\tlearn: 0.2103448\ttotal: 18.8s\tremaining: 13.9s\n",
      "576:\tlearn: 0.2102881\ttotal: 18.9s\tremaining: 13.8s\n",
      "577:\tlearn: 0.2102415\ttotal: 18.9s\tremaining: 13.8s\n",
      "578:\tlearn: 0.2101712\ttotal: 18.9s\tremaining: 13.7s\n",
      "579:\tlearn: 0.2101175\ttotal: 18.9s\tremaining: 13.7s\n",
      "580:\tlearn: 0.2100960\ttotal: 18.9s\tremaining: 13.7s\n",
      "581:\tlearn: 0.2100584\ttotal: 18.9s\tremaining: 13.6s\n",
      "582:\tlearn: 0.2100041\ttotal: 19s\tremaining: 13.6s\n",
      "583:\tlearn: 0.2099382\ttotal: 19s\tremaining: 13.5s\n",
      "584:\tlearn: 0.2098948\ttotal: 19s\tremaining: 13.5s\n",
      "585:\tlearn: 0.2098439\ttotal: 19s\tremaining: 13.4s\n",
      "586:\tlearn: 0.2097918\ttotal: 19s\tremaining: 13.4s\n",
      "587:\tlearn: 0.2097449\ttotal: 19s\tremaining: 13.3s\n",
      "588:\tlearn: 0.2096907\ttotal: 19.1s\tremaining: 13.3s\n",
      "589:\tlearn: 0.2096627\ttotal: 19.1s\tremaining: 13.3s\n",
      "590:\tlearn: 0.2096072\ttotal: 19.1s\tremaining: 13.2s\n",
      "591:\tlearn: 0.2095572\ttotal: 19.1s\tremaining: 13.2s\n",
      "592:\tlearn: 0.2095160\ttotal: 19.1s\tremaining: 13.1s\n",
      "593:\tlearn: 0.2094587\ttotal: 19.1s\tremaining: 13.1s\n",
      "594:\tlearn: 0.2094000\ttotal: 19.1s\tremaining: 13s\n",
      "595:\tlearn: 0.2093528\ttotal: 19.2s\tremaining: 13s\n",
      "596:\tlearn: 0.2093126\ttotal: 19.2s\tremaining: 13s\n",
      "597:\tlearn: 0.2092519\ttotal: 19.2s\tremaining: 12.9s\n",
      "598:\tlearn: 0.2092066\ttotal: 19.2s\tremaining: 12.9s\n",
      "599:\tlearn: 0.2091663\ttotal: 19.2s\tremaining: 12.8s\n",
      "600:\tlearn: 0.2091432\ttotal: 19.3s\tremaining: 12.8s\n",
      "601:\tlearn: 0.2090885\ttotal: 19.3s\tremaining: 12.7s\n",
      "602:\tlearn: 0.2090343\ttotal: 19.3s\tremaining: 12.7s\n",
      "603:\tlearn: 0.2089794\ttotal: 19.3s\tremaining: 12.7s\n",
      "604:\tlearn: 0.2089105\ttotal: 19.3s\tremaining: 12.6s\n",
      "605:\tlearn: 0.2088761\ttotal: 19.3s\tremaining: 12.6s\n",
      "606:\tlearn: 0.2088128\ttotal: 19.4s\tremaining: 12.5s\n",
      "607:\tlearn: 0.2087899\ttotal: 19.4s\tremaining: 12.5s\n",
      "608:\tlearn: 0.2087429\ttotal: 19.4s\tremaining: 12.4s\n",
      "609:\tlearn: 0.2086790\ttotal: 19.4s\tremaining: 12.4s\n",
      "610:\tlearn: 0.2086385\ttotal: 19.4s\tremaining: 12.4s\n",
      "611:\tlearn: 0.2085818\ttotal: 19.4s\tremaining: 12.3s\n",
      "612:\tlearn: 0.2085068\ttotal: 19.4s\tremaining: 12.3s\n",
      "613:\tlearn: 0.2084597\ttotal: 19.5s\tremaining: 12.2s\n",
      "614:\tlearn: 0.2084428\ttotal: 19.5s\tremaining: 12.2s\n",
      "615:\tlearn: 0.2084329\ttotal: 19.5s\tremaining: 12.2s\n",
      "616:\tlearn: 0.2084326\ttotal: 19.5s\tremaining: 12.1s\n",
      "617:\tlearn: 0.2084122\ttotal: 19.5s\tremaining: 12.1s\n",
      "618:\tlearn: 0.2083636\ttotal: 19.5s\tremaining: 12s\n",
      "619:\tlearn: 0.2083333\ttotal: 19.6s\tremaining: 12s\n",
      "620:\tlearn: 0.2082587\ttotal: 19.6s\tremaining: 11.9s\n",
      "621:\tlearn: 0.2082251\ttotal: 19.6s\tremaining: 11.9s\n",
      "622:\tlearn: 0.2081834\ttotal: 19.6s\tremaining: 11.9s\n",
      "623:\tlearn: 0.2081166\ttotal: 19.6s\tremaining: 11.8s\n",
      "624:\tlearn: 0.2080606\ttotal: 19.6s\tremaining: 11.8s\n",
      "625:\tlearn: 0.2080040\ttotal: 19.6s\tremaining: 11.7s\n",
      "626:\tlearn: 0.2079640\ttotal: 19.7s\tremaining: 11.7s\n",
      "627:\tlearn: 0.2079074\ttotal: 19.7s\tremaining: 11.7s\n",
      "628:\tlearn: 0.2078652\ttotal: 19.7s\tremaining: 11.6s\n",
      "629:\tlearn: 0.2078257\ttotal: 19.7s\tremaining: 11.6s\n",
      "630:\tlearn: 0.2078230\ttotal: 19.7s\tremaining: 11.5s\n",
      "631:\tlearn: 0.2078027\ttotal: 19.7s\tremaining: 11.5s\n",
      "632:\tlearn: 0.2077566\ttotal: 19.8s\tremaining: 11.5s\n",
      "633:\tlearn: 0.2077069\ttotal: 19.8s\tremaining: 11.4s\n",
      "634:\tlearn: 0.2076531\ttotal: 19.8s\tremaining: 11.4s\n",
      "635:\tlearn: 0.2076231\ttotal: 19.8s\tremaining: 11.3s\n",
      "636:\tlearn: 0.2075877\ttotal: 19.8s\tremaining: 11.3s\n",
      "637:\tlearn: 0.2075682\ttotal: 19.8s\tremaining: 11.3s\n",
      "638:\tlearn: 0.2075351\ttotal: 19.9s\tremaining: 11.2s\n",
      "639:\tlearn: 0.2074639\ttotal: 19.9s\tremaining: 11.2s\n",
      "640:\tlearn: 0.2074085\ttotal: 19.9s\tremaining: 11.1s\n",
      "641:\tlearn: 0.2073716\ttotal: 19.9s\tremaining: 11.1s\n",
      "642:\tlearn: 0.2072942\ttotal: 19.9s\tremaining: 11.1s\n",
      "643:\tlearn: 0.2072513\ttotal: 19.9s\tremaining: 11s\n",
      "644:\tlearn: 0.2072099\ttotal: 19.9s\tremaining: 11s\n",
      "645:\tlearn: 0.2071471\ttotal: 20s\tremaining: 10.9s\n",
      "646:\tlearn: 0.2071224\ttotal: 20s\tremaining: 10.9s\n",
      "647:\tlearn: 0.2070446\ttotal: 20s\tremaining: 10.9s\n",
      "648:\tlearn: 0.2070076\ttotal: 20s\tremaining: 10.8s\n"
     ]
    },
    {
     "name": "stdout",
     "output_type": "stream",
     "text": [
      "649:\tlearn: 0.2069615\ttotal: 20s\tremaining: 10.8s\n",
      "650:\tlearn: 0.2069204\ttotal: 20s\tremaining: 10.7s\n",
      "651:\tlearn: 0.2068583\ttotal: 20.1s\tremaining: 10.7s\n",
      "652:\tlearn: 0.2068105\ttotal: 20.1s\tremaining: 10.7s\n",
      "653:\tlearn: 0.2067549\ttotal: 20.1s\tremaining: 10.6s\n",
      "654:\tlearn: 0.2067052\ttotal: 20.1s\tremaining: 10.6s\n",
      "655:\tlearn: 0.2066673\ttotal: 20.1s\tremaining: 10.5s\n",
      "656:\tlearn: 0.2066201\ttotal: 20.1s\tremaining: 10.5s\n",
      "657:\tlearn: 0.2065747\ttotal: 20.1s\tremaining: 10.5s\n",
      "658:\tlearn: 0.2065424\ttotal: 20.2s\tremaining: 10.4s\n",
      "659:\tlearn: 0.2065132\ttotal: 20.2s\tremaining: 10.4s\n",
      "660:\tlearn: 0.2064594\ttotal: 20.2s\tremaining: 10.3s\n",
      "661:\tlearn: 0.2064039\ttotal: 20.2s\tremaining: 10.3s\n",
      "662:\tlearn: 0.2063625\ttotal: 20.2s\tremaining: 10.3s\n",
      "663:\tlearn: 0.2062883\ttotal: 20.2s\tremaining: 10.2s\n",
      "664:\tlearn: 0.2062475\ttotal: 20.2s\tremaining: 10.2s\n",
      "665:\tlearn: 0.2062095\ttotal: 20.2s\tremaining: 10.2s\n",
      "666:\tlearn: 0.2061566\ttotal: 20.3s\tremaining: 10.1s\n",
      "667:\tlearn: 0.2061266\ttotal: 20.3s\tremaining: 10.1s\n",
      "668:\tlearn: 0.2060969\ttotal: 20.3s\tremaining: 10s\n",
      "669:\tlearn: 0.2060325\ttotal: 20.3s\tremaining: 9.99s\n",
      "670:\tlearn: 0.2059976\ttotal: 20.3s\tremaining: 9.95s\n",
      "671:\tlearn: 0.2059411\ttotal: 20.4s\tremaining: 9.94s\n",
      "672:\tlearn: 0.2058964\ttotal: 20.4s\tremaining: 9.91s\n",
      "673:\tlearn: 0.2058551\ttotal: 20.5s\tremaining: 9.89s\n",
      "674:\tlearn: 0.2058132\ttotal: 20.5s\tremaining: 9.86s\n",
      "675:\tlearn: 0.2057542\ttotal: 20.5s\tremaining: 9.83s\n",
      "676:\tlearn: 0.2057177\ttotal: 20.5s\tremaining: 9.8s\n",
      "677:\tlearn: 0.2056693\ttotal: 20.6s\tremaining: 9.79s\n",
      "678:\tlearn: 0.2056041\ttotal: 20.7s\tremaining: 9.76s\n",
      "679:\tlearn: 0.2055539\ttotal: 20.7s\tremaining: 9.74s\n",
      "680:\tlearn: 0.2054862\ttotal: 20.8s\tremaining: 9.72s\n",
      "681:\tlearn: 0.2054566\ttotal: 20.8s\tremaining: 9.69s\n",
      "682:\tlearn: 0.2054177\ttotal: 20.8s\tremaining: 9.67s\n",
      "683:\tlearn: 0.2053812\ttotal: 20.9s\tremaining: 9.65s\n",
      "684:\tlearn: 0.2053489\ttotal: 20.9s\tremaining: 9.62s\n",
      "685:\tlearn: 0.2052943\ttotal: 20.9s\tremaining: 9.59s\n",
      "686:\tlearn: 0.2052438\ttotal: 21s\tremaining: 9.56s\n",
      "687:\tlearn: 0.2051981\ttotal: 21.1s\tremaining: 9.55s\n",
      "688:\tlearn: 0.2051440\ttotal: 21.1s\tremaining: 9.52s\n",
      "689:\tlearn: 0.2051064\ttotal: 21.1s\tremaining: 9.5s\n",
      "690:\tlearn: 0.2050563\ttotal: 21.2s\tremaining: 9.47s\n",
      "691:\tlearn: 0.2050107\ttotal: 21.2s\tremaining: 9.45s\n",
      "692:\tlearn: 0.2049619\ttotal: 21.3s\tremaining: 9.42s\n",
      "693:\tlearn: 0.2049158\ttotal: 21.3s\tremaining: 9.39s\n",
      "694:\tlearn: 0.2048728\ttotal: 21.3s\tremaining: 9.36s\n",
      "695:\tlearn: 0.2048228\ttotal: 21.4s\tremaining: 9.34s\n",
      "696:\tlearn: 0.2047851\ttotal: 21.4s\tremaining: 9.31s\n",
      "697:\tlearn: 0.2047409\ttotal: 21.5s\tremaining: 9.29s\n",
      "698:\tlearn: 0.2046704\ttotal: 21.5s\tremaining: 9.27s\n",
      "699:\tlearn: 0.2046298\ttotal: 21.6s\tremaining: 9.25s\n",
      "700:\tlearn: 0.2046017\ttotal: 21.6s\tremaining: 9.22s\n",
      "701:\tlearn: 0.2045525\ttotal: 21.7s\tremaining: 9.2s\n",
      "702:\tlearn: 0.2045054\ttotal: 21.7s\tremaining: 9.17s\n",
      "703:\tlearn: 0.2044754\ttotal: 21.8s\tremaining: 9.15s\n",
      "704:\tlearn: 0.2044338\ttotal: 21.8s\tremaining: 9.12s\n",
      "705:\tlearn: 0.2043822\ttotal: 21.8s\tremaining: 9.09s\n",
      "706:\tlearn: 0.2043222\ttotal: 21.9s\tremaining: 9.06s\n",
      "707:\tlearn: 0.2042613\ttotal: 21.9s\tremaining: 9.04s\n",
      "708:\tlearn: 0.2042312\ttotal: 22s\tremaining: 9.02s\n",
      "709:\tlearn: 0.2041993\ttotal: 22s\tremaining: 8.99s\n",
      "710:\tlearn: 0.2041505\ttotal: 22.1s\tremaining: 8.97s\n",
      "711:\tlearn: 0.2040953\ttotal: 22.1s\tremaining: 8.94s\n",
      "712:\tlearn: 0.2040500\ttotal: 22.1s\tremaining: 8.91s\n",
      "713:\tlearn: 0.2040217\ttotal: 22.2s\tremaining: 8.91s\n",
      "714:\tlearn: 0.2039552\ttotal: 22.3s\tremaining: 8.88s\n",
      "715:\tlearn: 0.2038930\ttotal: 22.3s\tremaining: 8.86s\n",
      "716:\tlearn: 0.2038587\ttotal: 22.4s\tremaining: 8.83s\n",
      "717:\tlearn: 0.2038265\ttotal: 22.4s\tremaining: 8.8s\n",
      "718:\tlearn: 0.2037832\ttotal: 22.4s\tremaining: 8.77s\n",
      "719:\tlearn: 0.2037243\ttotal: 22.5s\tremaining: 8.74s\n",
      "720:\tlearn: 0.2036897\ttotal: 22.5s\tremaining: 8.71s\n",
      "721:\tlearn: 0.2036526\ttotal: 22.6s\tremaining: 8.69s\n",
      "722:\tlearn: 0.2036218\ttotal: 22.6s\tremaining: 8.66s\n",
      "723:\tlearn: 0.2035859\ttotal: 22.6s\tremaining: 8.63s\n",
      "724:\tlearn: 0.2035668\ttotal: 22.7s\tremaining: 8.62s\n",
      "725:\tlearn: 0.2035044\ttotal: 22.8s\tremaining: 8.59s\n",
      "726:\tlearn: 0.2034399\ttotal: 22.8s\tremaining: 8.56s\n",
      "727:\tlearn: 0.2034356\ttotal: 22.8s\tremaining: 8.53s\n",
      "728:\tlearn: 0.2034182\ttotal: 22.9s\tremaining: 8.5s\n",
      "729:\tlearn: 0.2033970\ttotal: 22.9s\tremaining: 8.48s\n",
      "730:\tlearn: 0.2033513\ttotal: 22.9s\tremaining: 8.44s\n",
      "731:\tlearn: 0.2033043\ttotal: 23s\tremaining: 8.42s\n",
      "732:\tlearn: 0.2032849\ttotal: 23s\tremaining: 8.39s\n",
      "733:\tlearn: 0.2032333\ttotal: 23.1s\tremaining: 8.37s\n",
      "734:\tlearn: 0.2031974\ttotal: 23.1s\tremaining: 8.35s\n",
      "735:\tlearn: 0.2031466\ttotal: 23.2s\tremaining: 8.32s\n",
      "736:\tlearn: 0.2030975\ttotal: 23.2s\tremaining: 8.29s\n",
      "737:\tlearn: 0.2030622\ttotal: 23.3s\tremaining: 8.26s\n",
      "738:\tlearn: 0.2030149\ttotal: 23.3s\tremaining: 8.23s\n",
      "739:\tlearn: 0.2029849\ttotal: 23.4s\tremaining: 8.21s\n",
      "740:\tlearn: 0.2029314\ttotal: 23.4s\tremaining: 8.19s\n",
      "741:\tlearn: 0.2029114\ttotal: 23.5s\tremaining: 8.17s\n",
      "742:\tlearn: 0.2028510\ttotal: 23.5s\tremaining: 8.14s\n",
      "743:\tlearn: 0.2028172\ttotal: 23.6s\tremaining: 8.11s\n",
      "744:\tlearn: 0.2027611\ttotal: 23.6s\tremaining: 8.08s\n",
      "745:\tlearn: 0.2027353\ttotal: 23.6s\tremaining: 8.04s\n",
      "746:\tlearn: 0.2026974\ttotal: 23.7s\tremaining: 8.01s\n",
      "747:\tlearn: 0.2026397\ttotal: 23.7s\tremaining: 7.99s\n",
      "748:\tlearn: 0.2025950\ttotal: 23.7s\tremaining: 7.95s\n",
      "749:\tlearn: 0.2025414\ttotal: 23.8s\tremaining: 7.92s\n",
      "750:\tlearn: 0.2025035\ttotal: 23.8s\tremaining: 7.9s\n",
      "751:\tlearn: 0.2024615\ttotal: 23.9s\tremaining: 7.88s\n",
      "752:\tlearn: 0.2024285\ttotal: 23.9s\tremaining: 7.85s\n",
      "753:\tlearn: 0.2023899\ttotal: 24s\tremaining: 7.82s\n",
      "754:\tlearn: 0.2023496\ttotal: 24s\tremaining: 7.79s\n",
      "755:\tlearn: 0.2022912\ttotal: 24.1s\tremaining: 7.77s\n",
      "756:\tlearn: 0.2022741\ttotal: 24.1s\tremaining: 7.74s\n",
      "757:\tlearn: 0.2022401\ttotal: 24.2s\tremaining: 7.72s\n",
      "758:\tlearn: 0.2022107\ttotal: 24.2s\tremaining: 7.7s\n",
      "759:\tlearn: 0.2021832\ttotal: 24.3s\tremaining: 7.67s\n",
      "760:\tlearn: 0.2021339\ttotal: 24.4s\tremaining: 7.65s\n",
      "761:\tlearn: 0.2020717\ttotal: 24.4s\tremaining: 7.62s\n",
      "762:\tlearn: 0.2020476\ttotal: 24.4s\tremaining: 7.59s\n",
      "763:\tlearn: 0.2019985\ttotal: 24.5s\tremaining: 7.56s\n",
      "764:\tlearn: 0.2019443\ttotal: 24.5s\tremaining: 7.53s\n",
      "765:\tlearn: 0.2018958\ttotal: 24.6s\tremaining: 7.5s\n",
      "766:\tlearn: 0.2018706\ttotal: 24.6s\tremaining: 7.47s\n",
      "767:\tlearn: 0.2018286\ttotal: 24.6s\tremaining: 7.44s\n",
      "768:\tlearn: 0.2018055\ttotal: 24.7s\tremaining: 7.41s\n",
      "769:\tlearn: 0.2017877\ttotal: 24.7s\tremaining: 7.38s\n",
      "770:\tlearn: 0.2017610\ttotal: 24.7s\tremaining: 7.35s\n",
      "771:\tlearn: 0.2017025\ttotal: 24.8s\tremaining: 7.32s\n",
      "772:\tlearn: 0.2016731\ttotal: 24.8s\tremaining: 7.28s\n",
      "773:\tlearn: 0.2016222\ttotal: 24.8s\tremaining: 7.25s\n",
      "774:\tlearn: 0.2015504\ttotal: 24.9s\tremaining: 7.22s\n",
      "775:\tlearn: 0.2014934\ttotal: 24.9s\tremaining: 7.2s\n",
      "776:\tlearn: 0.2014495\ttotal: 25s\tremaining: 7.18s\n",
      "777:\tlearn: 0.2014231\ttotal: 25s\tremaining: 7.14s\n",
      "778:\tlearn: 0.2013774\ttotal: 25.1s\tremaining: 7.12s\n",
      "779:\tlearn: 0.2013103\ttotal: 25.1s\tremaining: 7.09s\n",
      "780:\tlearn: 0.2012529\ttotal: 25.2s\tremaining: 7.05s\n",
      "781:\tlearn: 0.2012287\ttotal: 25.2s\tremaining: 7.02s\n",
      "782:\tlearn: 0.2012039\ttotal: 25.2s\tremaining: 7s\n",
      "783:\tlearn: 0.2011645\ttotal: 25.3s\tremaining: 6.97s\n",
      "784:\tlearn: 0.2011324\ttotal: 25.3s\tremaining: 6.94s\n",
      "785:\tlearn: 0.2010850\ttotal: 25.4s\tremaining: 6.91s\n",
      "786:\tlearn: 0.2010295\ttotal: 25.4s\tremaining: 6.88s\n",
      "787:\tlearn: 0.2010005\ttotal: 25.4s\tremaining: 6.84s\n",
      "788:\tlearn: 0.2009495\ttotal: 25.5s\tremaining: 6.82s\n",
      "789:\tlearn: 0.2008866\ttotal: 25.5s\tremaining: 6.79s\n",
      "790:\tlearn: 0.2008492\ttotal: 25.6s\tremaining: 6.76s\n",
      "791:\tlearn: 0.2008092\ttotal: 25.6s\tremaining: 6.73s\n",
      "792:\tlearn: 0.2007681\ttotal: 25.7s\tremaining: 6.7s\n",
      "793:\tlearn: 0.2007032\ttotal: 25.7s\tremaining: 6.67s\n",
      "794:\tlearn: 0.2006652\ttotal: 25.8s\tremaining: 6.64s\n",
      "795:\tlearn: 0.2006305\ttotal: 25.8s\tremaining: 6.61s\n",
      "796:\tlearn: 0.2005734\ttotal: 25.8s\tremaining: 6.58s\n",
      "797:\tlearn: 0.2005260\ttotal: 25.9s\tremaining: 6.54s\n",
      "798:\tlearn: 0.2004767\ttotal: 25.9s\tremaining: 6.51s\n",
      "799:\tlearn: 0.2004411\ttotal: 26s\tremaining: 6.49s\n",
      "800:\tlearn: 0.2003941\ttotal: 26s\tremaining: 6.46s\n",
      "801:\tlearn: 0.2003697\ttotal: 26s\tremaining: 6.43s\n",
      "802:\tlearn: 0.2003412\ttotal: 26.1s\tremaining: 6.39s\n",
      "803:\tlearn: 0.2003148\ttotal: 26.1s\tremaining: 6.36s\n",
      "804:\tlearn: 0.2002744\ttotal: 26.2s\tremaining: 6.34s\n",
      "805:\tlearn: 0.2002293\ttotal: 26.2s\tremaining: 6.31s\n",
      "806:\tlearn: 0.2002290\ttotal: 26.2s\tremaining: 6.27s\n",
      "807:\tlearn: 0.2001856\ttotal: 26.3s\tremaining: 6.24s\n",
      "808:\tlearn: 0.2001544\ttotal: 26.3s\tremaining: 6.21s\n",
      "809:\tlearn: 0.2001012\ttotal: 26.4s\tremaining: 6.19s\n"
     ]
    },
    {
     "name": "stdout",
     "output_type": "stream",
     "text": [
      "810:\tlearn: 0.2000467\ttotal: 26.4s\tremaining: 6.16s\n",
      "811:\tlearn: 0.2000105\ttotal: 26.5s\tremaining: 6.13s\n",
      "812:\tlearn: 0.1999563\ttotal: 26.5s\tremaining: 6.1s\n",
      "813:\tlearn: 0.1999315\ttotal: 26.6s\tremaining: 6.07s\n",
      "814:\tlearn: 0.1999297\ttotal: 26.6s\tremaining: 6.04s\n",
      "815:\tlearn: 0.1999131\ttotal: 26.7s\tremaining: 6.02s\n",
      "816:\tlearn: 0.1998880\ttotal: 26.7s\tremaining: 5.98s\n",
      "817:\tlearn: 0.1998404\ttotal: 26.8s\tremaining: 5.96s\n",
      "818:\tlearn: 0.1998159\ttotal: 26.8s\tremaining: 5.92s\n",
      "819:\tlearn: 0.1997654\ttotal: 26.8s\tremaining: 5.89s\n",
      "820:\tlearn: 0.1997417\ttotal: 26.9s\tremaining: 5.88s\n",
      "821:\tlearn: 0.1997073\ttotal: 27s\tremaining: 5.84s\n",
      "822:\tlearn: 0.1996700\ttotal: 27s\tremaining: 5.81s\n",
      "823:\tlearn: 0.1996547\ttotal: 27s\tremaining: 5.77s\n",
      "824:\tlearn: 0.1996173\ttotal: 27.1s\tremaining: 5.74s\n",
      "825:\tlearn: 0.1995568\ttotal: 27.1s\tremaining: 5.71s\n",
      "826:\tlearn: 0.1995273\ttotal: 27.1s\tremaining: 5.67s\n",
      "827:\tlearn: 0.1994873\ttotal: 27.2s\tremaining: 5.64s\n",
      "828:\tlearn: 0.1994384\ttotal: 27.2s\tremaining: 5.61s\n",
      "829:\tlearn: 0.1993990\ttotal: 27.2s\tremaining: 5.57s\n",
      "830:\tlearn: 0.1993542\ttotal: 27.2s\tremaining: 5.54s\n",
      "831:\tlearn: 0.1993478\ttotal: 27.2s\tremaining: 5.5s\n",
      "832:\tlearn: 0.1993449\ttotal: 27.3s\tremaining: 5.46s\n",
      "833:\tlearn: 0.1993118\ttotal: 27.3s\tremaining: 5.43s\n",
      "834:\tlearn: 0.1992431\ttotal: 27.3s\tremaining: 5.39s\n",
      "835:\tlearn: 0.1992142\ttotal: 27.3s\tremaining: 5.36s\n",
      "836:\tlearn: 0.1992058\ttotal: 27.3s\tremaining: 5.32s\n",
      "837:\tlearn: 0.1991642\ttotal: 27.4s\tremaining: 5.29s\n",
      "838:\tlearn: 0.1991409\ttotal: 27.4s\tremaining: 5.25s\n",
      "839:\tlearn: 0.1991050\ttotal: 27.4s\tremaining: 5.22s\n",
      "840:\tlearn: 0.1990546\ttotal: 27.4s\tremaining: 5.18s\n",
      "841:\tlearn: 0.1990073\ttotal: 27.4s\tremaining: 5.15s\n",
      "842:\tlearn: 0.1989351\ttotal: 27.5s\tremaining: 5.12s\n",
      "843:\tlearn: 0.1988996\ttotal: 27.5s\tremaining: 5.08s\n",
      "844:\tlearn: 0.1988220\ttotal: 27.5s\tremaining: 5.05s\n",
      "845:\tlearn: 0.1987711\ttotal: 27.5s\tremaining: 5.01s\n",
      "846:\tlearn: 0.1987205\ttotal: 27.6s\tremaining: 4.98s\n",
      "847:\tlearn: 0.1986662\ttotal: 27.6s\tremaining: 4.94s\n",
      "848:\tlearn: 0.1986206\ttotal: 27.6s\tremaining: 4.91s\n",
      "849:\tlearn: 0.1985799\ttotal: 27.6s\tremaining: 4.87s\n",
      "850:\tlearn: 0.1985470\ttotal: 27.6s\tremaining: 4.84s\n",
      "851:\tlearn: 0.1985253\ttotal: 27.7s\tremaining: 4.8s\n",
      "852:\tlearn: 0.1984730\ttotal: 27.7s\tremaining: 4.77s\n",
      "853:\tlearn: 0.1984507\ttotal: 27.7s\tremaining: 4.73s\n",
      "854:\tlearn: 0.1983992\ttotal: 27.7s\tremaining: 4.7s\n",
      "855:\tlearn: 0.1983462\ttotal: 27.7s\tremaining: 4.66s\n",
      "856:\tlearn: 0.1983072\ttotal: 27.7s\tremaining: 4.63s\n",
      "857:\tlearn: 0.1982727\ttotal: 27.8s\tremaining: 4.6s\n",
      "858:\tlearn: 0.1982182\ttotal: 27.8s\tremaining: 4.56s\n",
      "859:\tlearn: 0.1981857\ttotal: 27.8s\tremaining: 4.53s\n",
      "860:\tlearn: 0.1981437\ttotal: 27.8s\tremaining: 4.49s\n",
      "861:\tlearn: 0.1981117\ttotal: 27.9s\tremaining: 4.46s\n",
      "862:\tlearn: 0.1980392\ttotal: 27.9s\tremaining: 4.42s\n",
      "863:\tlearn: 0.1979811\ttotal: 27.9s\tremaining: 4.39s\n",
      "864:\tlearn: 0.1979536\ttotal: 27.9s\tremaining: 4.35s\n",
      "865:\tlearn: 0.1979164\ttotal: 27.9s\tremaining: 4.32s\n",
      "866:\tlearn: 0.1978659\ttotal: 27.9s\tremaining: 4.28s\n",
      "867:\tlearn: 0.1978304\ttotal: 27.9s\tremaining: 4.25s\n",
      "868:\tlearn: 0.1977979\ttotal: 28s\tremaining: 4.21s\n",
      "869:\tlearn: 0.1977526\ttotal: 28s\tremaining: 4.18s\n",
      "870:\tlearn: 0.1977338\ttotal: 28s\tremaining: 4.15s\n",
      "871:\tlearn: 0.1976855\ttotal: 28s\tremaining: 4.11s\n",
      "872:\tlearn: 0.1976308\ttotal: 28s\tremaining: 4.08s\n",
      "873:\tlearn: 0.1975716\ttotal: 28s\tremaining: 4.04s\n",
      "874:\tlearn: 0.1975376\ttotal: 28s\tremaining: 4.01s\n",
      "875:\tlearn: 0.1974850\ttotal: 28.1s\tremaining: 3.97s\n",
      "876:\tlearn: 0.1974604\ttotal: 28.1s\tremaining: 3.94s\n",
      "877:\tlearn: 0.1974574\ttotal: 28.1s\tremaining: 3.9s\n",
      "878:\tlearn: 0.1974247\ttotal: 28.1s\tremaining: 3.87s\n",
      "879:\tlearn: 0.1973692\ttotal: 28.1s\tremaining: 3.83s\n",
      "880:\tlearn: 0.1972993\ttotal: 28.1s\tremaining: 3.8s\n",
      "881:\tlearn: 0.1972720\ttotal: 28.1s\tremaining: 3.77s\n",
      "882:\tlearn: 0.1972461\ttotal: 28.2s\tremaining: 3.73s\n",
      "883:\tlearn: 0.1972360\ttotal: 28.2s\tremaining: 3.7s\n",
      "884:\tlearn: 0.1972177\ttotal: 28.2s\tremaining: 3.66s\n",
      "885:\tlearn: 0.1971677\ttotal: 28.2s\tremaining: 3.63s\n",
      "886:\tlearn: 0.1971066\ttotal: 28.2s\tremaining: 3.59s\n",
      "887:\tlearn: 0.1970740\ttotal: 28.2s\tremaining: 3.56s\n",
      "888:\tlearn: 0.1970169\ttotal: 28.2s\tremaining: 3.53s\n",
      "889:\tlearn: 0.1969855\ttotal: 28.3s\tremaining: 3.49s\n",
      "890:\tlearn: 0.1969609\ttotal: 28.3s\tremaining: 3.46s\n",
      "891:\tlearn: 0.1969370\ttotal: 28.3s\tremaining: 3.42s\n",
      "892:\tlearn: 0.1969198\ttotal: 28.3s\tremaining: 3.39s\n",
      "893:\tlearn: 0.1968870\ttotal: 28.3s\tremaining: 3.36s\n",
      "894:\tlearn: 0.1968527\ttotal: 28.3s\tremaining: 3.32s\n",
      "895:\tlearn: 0.1968071\ttotal: 28.3s\tremaining: 3.29s\n",
      "896:\tlearn: 0.1967785\ttotal: 28.4s\tremaining: 3.26s\n",
      "897:\tlearn: 0.1967199\ttotal: 28.4s\tremaining: 3.22s\n",
      "898:\tlearn: 0.1966734\ttotal: 28.4s\tremaining: 3.19s\n",
      "899:\tlearn: 0.1966369\ttotal: 28.4s\tremaining: 3.16s\n",
      "900:\tlearn: 0.1966067\ttotal: 28.4s\tremaining: 3.12s\n",
      "901:\tlearn: 0.1965779\ttotal: 28.4s\tremaining: 3.09s\n",
      "902:\tlearn: 0.1965230\ttotal: 28.4s\tremaining: 3.06s\n",
      "903:\tlearn: 0.1964857\ttotal: 28.5s\tremaining: 3.02s\n",
      "904:\tlearn: 0.1964379\ttotal: 28.5s\tremaining: 2.99s\n",
      "905:\tlearn: 0.1964051\ttotal: 28.5s\tremaining: 2.96s\n",
      "906:\tlearn: 0.1963430\ttotal: 28.5s\tremaining: 2.92s\n",
      "907:\tlearn: 0.1963030\ttotal: 28.5s\tremaining: 2.89s\n",
      "908:\tlearn: 0.1962544\ttotal: 28.5s\tremaining: 2.86s\n",
      "909:\tlearn: 0.1961942\ttotal: 28.6s\tremaining: 2.82s\n",
      "910:\tlearn: 0.1961680\ttotal: 28.6s\tremaining: 2.79s\n",
      "911:\tlearn: 0.1961276\ttotal: 28.6s\tremaining: 2.76s\n",
      "912:\tlearn: 0.1960771\ttotal: 28.6s\tremaining: 2.73s\n",
      "913:\tlearn: 0.1960209\ttotal: 28.6s\tremaining: 2.69s\n",
      "914:\tlearn: 0.1959785\ttotal: 28.6s\tremaining: 2.66s\n",
      "915:\tlearn: 0.1959382\ttotal: 28.6s\tremaining: 2.63s\n",
      "916:\tlearn: 0.1959044\ttotal: 28.7s\tremaining: 2.59s\n",
      "917:\tlearn: 0.1958617\ttotal: 28.7s\tremaining: 2.56s\n",
      "918:\tlearn: 0.1958404\ttotal: 28.7s\tremaining: 2.53s\n",
      "919:\tlearn: 0.1957870\ttotal: 28.7s\tremaining: 2.5s\n",
      "920:\tlearn: 0.1957383\ttotal: 28.7s\tremaining: 2.46s\n",
      "921:\tlearn: 0.1956683\ttotal: 28.7s\tremaining: 2.43s\n",
      "922:\tlearn: 0.1955962\ttotal: 28.8s\tremaining: 2.4s\n",
      "923:\tlearn: 0.1955480\ttotal: 28.8s\tremaining: 2.37s\n",
      "924:\tlearn: 0.1955158\ttotal: 28.8s\tremaining: 2.33s\n",
      "925:\tlearn: 0.1954795\ttotal: 28.8s\tremaining: 2.3s\n",
      "926:\tlearn: 0.1954423\ttotal: 28.8s\tremaining: 2.27s\n",
      "927:\tlearn: 0.1954065\ttotal: 28.8s\tremaining: 2.24s\n",
      "928:\tlearn: 0.1953456\ttotal: 28.9s\tremaining: 2.21s\n",
      "929:\tlearn: 0.1953024\ttotal: 28.9s\tremaining: 2.17s\n",
      "930:\tlearn: 0.1952581\ttotal: 28.9s\tremaining: 2.14s\n",
      "931:\tlearn: 0.1952032\ttotal: 28.9s\tremaining: 2.11s\n",
      "932:\tlearn: 0.1951613\ttotal: 28.9s\tremaining: 2.08s\n",
      "933:\tlearn: 0.1951297\ttotal: 28.9s\tremaining: 2.04s\n",
      "934:\tlearn: 0.1950880\ttotal: 28.9s\tremaining: 2.01s\n",
      "935:\tlearn: 0.1950299\ttotal: 28.9s\tremaining: 1.98s\n",
      "936:\tlearn: 0.1949822\ttotal: 29s\tremaining: 1.95s\n",
      "937:\tlearn: 0.1949612\ttotal: 29s\tremaining: 1.91s\n",
      "938:\tlearn: 0.1949000\ttotal: 29s\tremaining: 1.88s\n",
      "939:\tlearn: 0.1948754\ttotal: 29s\tremaining: 1.85s\n",
      "940:\tlearn: 0.1948615\ttotal: 29s\tremaining: 1.82s\n",
      "941:\tlearn: 0.1948485\ttotal: 29s\tremaining: 1.79s\n",
      "942:\tlearn: 0.1948458\ttotal: 29s\tremaining: 1.75s\n",
      "943:\tlearn: 0.1948125\ttotal: 29s\tremaining: 1.72s\n",
      "944:\tlearn: 0.1947616\ttotal: 29.1s\tremaining: 1.69s\n",
      "945:\tlearn: 0.1947173\ttotal: 29.1s\tremaining: 1.66s\n",
      "946:\tlearn: 0.1946669\ttotal: 29.1s\tremaining: 1.63s\n",
      "947:\tlearn: 0.1946166\ttotal: 29.1s\tremaining: 1.59s\n",
      "948:\tlearn: 0.1945777\ttotal: 29.1s\tremaining: 1.56s\n",
      "949:\tlearn: 0.1945449\ttotal: 29.1s\tremaining: 1.53s\n",
      "950:\tlearn: 0.1945092\ttotal: 29.1s\tremaining: 1.5s\n",
      "951:\tlearn: 0.1944618\ttotal: 29.1s\tremaining: 1.47s\n",
      "952:\tlearn: 0.1944530\ttotal: 29.2s\tremaining: 1.44s\n",
      "953:\tlearn: 0.1944257\ttotal: 29.2s\tremaining: 1.41s\n",
      "954:\tlearn: 0.1943913\ttotal: 29.2s\tremaining: 1.37s\n",
      "955:\tlearn: 0.1943354\ttotal: 29.2s\tremaining: 1.34s\n",
      "956:\tlearn: 0.1942822\ttotal: 29.2s\tremaining: 1.31s\n",
      "957:\tlearn: 0.1942524\ttotal: 29.2s\tremaining: 1.28s\n",
      "958:\tlearn: 0.1942431\ttotal: 29.2s\tremaining: 1.25s\n",
      "959:\tlearn: 0.1941950\ttotal: 29.2s\tremaining: 1.22s\n",
      "960:\tlearn: 0.1941528\ttotal: 29.2s\tremaining: 1.19s\n",
      "961:\tlearn: 0.1941125\ttotal: 29.3s\tremaining: 1.16s\n",
      "962:\tlearn: 0.1940514\ttotal: 29.3s\tremaining: 1.12s\n",
      "963:\tlearn: 0.1940078\ttotal: 29.3s\tremaining: 1.09s\n",
      "964:\tlearn: 0.1939791\ttotal: 29.3s\tremaining: 1.06s\n",
      "965:\tlearn: 0.1939347\ttotal: 29.3s\tremaining: 1.03s\n",
      "966:\tlearn: 0.1938837\ttotal: 29.3s\tremaining: 1s\n",
      "967:\tlearn: 0.1938475\ttotal: 29.3s\tremaining: 969ms\n",
      "968:\tlearn: 0.1938223\ttotal: 29.3s\tremaining: 938ms\n",
      "969:\tlearn: 0.1937634\ttotal: 29.3s\tremaining: 908ms\n",
      "970:\tlearn: 0.1936894\ttotal: 29.4s\tremaining: 877ms\n",
      "971:\tlearn: 0.1936380\ttotal: 29.4s\tremaining: 846ms\n"
     ]
    },
    {
     "name": "stdout",
     "output_type": "stream",
     "text": [
      "972:\tlearn: 0.1935949\ttotal: 29.4s\tremaining: 816ms\n",
      "973:\tlearn: 0.1935542\ttotal: 29.4s\tremaining: 785ms\n",
      "974:\tlearn: 0.1935034\ttotal: 29.4s\tremaining: 755ms\n",
      "975:\tlearn: 0.1935013\ttotal: 29.4s\tremaining: 724ms\n",
      "976:\tlearn: 0.1935008\ttotal: 29.5s\tremaining: 693ms\n",
      "977:\tlearn: 0.1934822\ttotal: 29.5s\tremaining: 663ms\n",
      "978:\tlearn: 0.1934582\ttotal: 29.5s\tremaining: 632ms\n",
      "979:\tlearn: 0.1934317\ttotal: 29.5s\tremaining: 602ms\n",
      "980:\tlearn: 0.1934187\ttotal: 29.5s\tremaining: 571ms\n",
      "981:\tlearn: 0.1933761\ttotal: 29.5s\tremaining: 541ms\n",
      "982:\tlearn: 0.1933231\ttotal: 29.5s\tremaining: 511ms\n",
      "983:\tlearn: 0.1933038\ttotal: 29.5s\tremaining: 480ms\n",
      "984:\tlearn: 0.1932789\ttotal: 29.5s\tremaining: 450ms\n",
      "985:\tlearn: 0.1932556\ttotal: 29.6s\tremaining: 420ms\n",
      "986:\tlearn: 0.1932058\ttotal: 29.6s\tremaining: 390ms\n",
      "987:\tlearn: 0.1931722\ttotal: 29.6s\tremaining: 359ms\n",
      "988:\tlearn: 0.1931268\ttotal: 29.6s\tremaining: 329ms\n",
      "989:\tlearn: 0.1930915\ttotal: 29.6s\tremaining: 299ms\n",
      "990:\tlearn: 0.1930610\ttotal: 29.6s\tremaining: 269ms\n",
      "991:\tlearn: 0.1930124\ttotal: 29.6s\tremaining: 239ms\n",
      "992:\tlearn: 0.1929730\ttotal: 29.6s\tremaining: 209ms\n",
      "993:\tlearn: 0.1929338\ttotal: 29.7s\tremaining: 179ms\n",
      "994:\tlearn: 0.1928881\ttotal: 29.7s\tremaining: 149ms\n",
      "995:\tlearn: 0.1928481\ttotal: 29.7s\tremaining: 119ms\n",
      "996:\tlearn: 0.1928177\ttotal: 29.7s\tremaining: 89.4ms\n",
      "997:\tlearn: 0.1927901\ttotal: 29.7s\tremaining: 59.5ms\n",
      "998:\tlearn: 0.1927414\ttotal: 29.7s\tremaining: 29.7ms\n",
      "999:\tlearn: 0.1927020\ttotal: 29.7s\tremaining: 0us\n",
      "[[8419   98]\n",
      " [ 797  115]]\n",
      "              precision    recall  f1-score   support\n",
      "\n",
      "           0       0.91      0.99      0.95      8517\n",
      "           1       0.54      0.13      0.20       912\n",
      "\n",
      "    accuracy                           0.91      9429\n",
      "   macro avg       0.73      0.56      0.58      9429\n",
      "weighted avg       0.88      0.91      0.88      9429\n",
      "\n",
      "Precision: 0.539906103286385\n",
      "Accuracy: 0.9050800721179341\n",
      "AUC: 0.8467160107030522\n"
     ]
    },
    {
     "data": {
      "text/plain": [
       "<sklearn.metrics._plot.confusion_matrix.ConfusionMatrixDisplay at 0x27e0983e550>"
      ]
     },
     "execution_count": 39,
     "metadata": {},
     "output_type": "execute_result"
    },
    {
     "data": {
      "image/png": "[encoded data removed]",
      "text/plain": [
       "<Figure size 432x288 with 2 Axes>"
      ]
     },
     "metadata": {
      "needs_background": "light"
     },
     "output_type": "display_data"
    }
   ],
   "source": [
    "from catboost import CatBoostClassifier\n",
    "cat= CatBoostClassifier(random_state=15)\n",
    "cat.fit(X_train, y_train)\n",
    "y_pred_cat= cat.predict(X_test)\n",
    "y_pred_prob_cat= cat.predict_proba(X_test)[:,1]\n",
    "\n",
    "cm= confusion_matrix(y_test, y_pred_cat, labels= cat.classes_)\n",
    "print(cm)\n",
    "print(classification_report(y_test, y_pred_cat, zero_division=0))\n",
    "print('Precision:', precision_score(y_test, y_pred_cat, zero_division=0))\n",
    "print('Accuracy:', accuracy_score(y_test, y_pred_cat))\n",
    "print('AUC:', roc_auc_score(y_test, y_pred_prob_cat))\n",
    "dcm_cat= ConfusionMatrixDisplay(cm, display_labels= cat.classes_)\n",
    "dcm_cat.plot()"
   ]
  },
  {
   "cell_type": "code",
   "execution_count": null,
   "id": "dd8d322e",
   "metadata": {},
   "outputs": [],
   "source": []
  },
  {
   "cell_type": "code",
   "execution_count": 40,
   "id": "0af2c970",
   "metadata": {},
   "outputs": [
    {
     "name": "stdout",
     "output_type": "stream",
     "text": [
      "Fitting 5 folds for each of 36 candidates, totalling 180 fits\n",
      "0:\tlearn: 0.6816196\ttotal: 45.6ms\tremaining: 4.52s\n",
      "1:\tlearn: 0.6714722\ttotal: 88.1ms\tremaining: 4.32s\n",
      "2:\tlearn: 0.6613995\ttotal: 115ms\tremaining: 3.73s\n",
      "3:\tlearn: 0.6513357\ttotal: 155ms\tremaining: 3.72s\n",
      "4:\tlearn: 0.6413585\ttotal: 195ms\tremaining: 3.7s\n",
      "5:\tlearn: 0.6312247\ttotal: 233ms\tremaining: 3.65s\n",
      "6:\tlearn: 0.6222469\ttotal: 285ms\tremaining: 3.78s\n",
      "7:\tlearn: 0.6136571\ttotal: 312ms\tremaining: 3.58s\n",
      "8:\tlearn: 0.6052308\ttotal: 374ms\tremaining: 3.78s\n",
      "9:\tlearn: 0.5963060\ttotal: 399ms\tremaining: 3.59s\n",
      "10:\tlearn: 0.5880142\ttotal: 435ms\tremaining: 3.52s\n",
      "11:\tlearn: 0.5800307\ttotal: 496ms\tremaining: 3.64s\n",
      "12:\tlearn: 0.5718503\ttotal: 528ms\tremaining: 3.53s\n",
      "13:\tlearn: 0.5638283\ttotal: 556ms\tremaining: 3.41s\n",
      "14:\tlearn: 0.5561548\ttotal: 607ms\tremaining: 3.44s\n",
      "15:\tlearn: 0.5482328\ttotal: 635ms\tremaining: 3.33s\n",
      "16:\tlearn: 0.5406864\ttotal: 670ms\tremaining: 3.27s\n",
      "17:\tlearn: 0.5335859\ttotal: 703ms\tremaining: 3.2s\n",
      "18:\tlearn: 0.5271269\ttotal: 752ms\tremaining: 3.2s\n",
      "19:\tlearn: 0.5202350\ttotal: 776ms\tremaining: 3.1s\n",
      "20:\tlearn: 0.5133476\ttotal: 806ms\tremaining: 3.03s\n",
      "21:\tlearn: 0.5071595\ttotal: 842ms\tremaining: 2.98s\n",
      "22:\tlearn: 0.5012364\ttotal: 891ms\tremaining: 2.98s\n",
      "23:\tlearn: 0.4958478\ttotal: 938ms\tremaining: 2.97s\n",
      "24:\tlearn: 0.4903359\ttotal: 974ms\tremaining: 2.92s\n",
      "25:\tlearn: 0.4843411\ttotal: 1s\tremaining: 2.85s\n",
      "26:\tlearn: 0.4790923\ttotal: 1.03s\tremaining: 2.79s\n",
      "27:\tlearn: 0.4738934\ttotal: 1.06s\tremaining: 2.73s\n",
      "28:\tlearn: 0.4688822\ttotal: 1.09s\tremaining: 2.67s\n",
      "29:\tlearn: 0.4637860\ttotal: 1.13s\tremaining: 2.63s\n",
      "30:\tlearn: 0.4593467\ttotal: 1.15s\tremaining: 2.57s\n",
      "31:\tlearn: 0.4540754\ttotal: 1.18s\tremaining: 2.51s\n",
      "32:\tlearn: 0.4498476\ttotal: 1.21s\tremaining: 2.45s\n",
      "33:\tlearn: 0.4453141\ttotal: 1.24s\tremaining: 2.41s\n",
      "34:\tlearn: 0.4411559\ttotal: 1.29s\tremaining: 2.39s\n",
      "35:\tlearn: 0.4368952\ttotal: 1.32s\tremaining: 2.35s\n",
      "36:\tlearn: 0.4324608\ttotal: 1.37s\tremaining: 2.33s\n",
      "37:\tlearn: 0.4287503\ttotal: 1.42s\tremaining: 2.31s\n",
      "38:\tlearn: 0.4247029\ttotal: 1.44s\tremaining: 2.26s\n",
      "39:\tlearn: 0.4203545\ttotal: 1.49s\tremaining: 2.23s\n",
      "40:\tlearn: 0.4163394\ttotal: 1.52s\tremaining: 2.18s\n",
      "41:\tlearn: 0.4129376\ttotal: 1.56s\tremaining: 2.15s\n",
      "42:\tlearn: 0.4094311\ttotal: 1.59s\tremaining: 2.12s\n",
      "43:\tlearn: 0.4060086\ttotal: 1.62s\tremaining: 2.06s\n",
      "44:\tlearn: 0.4027513\ttotal: 1.65s\tremaining: 2.01s\n",
      "45:\tlearn: 0.3997961\ttotal: 1.69s\tremaining: 1.99s\n",
      "46:\tlearn: 0.3969000\ttotal: 1.75s\tremaining: 1.97s\n",
      "47:\tlearn: 0.3936101\ttotal: 1.78s\tremaining: 1.93s\n",
      "48:\tlearn: 0.3907609\ttotal: 1.81s\tremaining: 1.89s\n",
      "49:\tlearn: 0.3876626\ttotal: 1.88s\tremaining: 1.88s\n",
      "50:\tlearn: 0.3847305\ttotal: 1.95s\tremaining: 1.87s\n",
      "51:\tlearn: 0.3821590\ttotal: 2s\tremaining: 1.84s\n",
      "52:\tlearn: 0.3791890\ttotal: 2.03s\tremaining: 1.8s\n",
      "53:\tlearn: 0.3766601\ttotal: 2.07s\tremaining: 1.76s\n",
      "54:\tlearn: 0.3743157\ttotal: 2.1s\tremaining: 1.72s\n",
      "55:\tlearn: 0.3717040\ttotal: 2.13s\tremaining: 1.67s\n",
      "56:\tlearn: 0.3692911\ttotal: 2.18s\tremaining: 1.65s\n",
      "57:\tlearn: 0.3665507\ttotal: 2.22s\tremaining: 1.61s\n",
      "58:\tlearn: 0.3646361\ttotal: 2.25s\tremaining: 1.56s\n",
      "59:\tlearn: 0.3624305\ttotal: 2.28s\tremaining: 1.52s\n",
      "60:\tlearn: 0.3602250\ttotal: 2.33s\tremaining: 1.49s\n",
      "61:\tlearn: 0.3581079\ttotal: 2.38s\tremaining: 1.46s\n",
      "62:\tlearn: 0.3560274\ttotal: 2.41s\tremaining: 1.42s\n",
      "63:\tlearn: 0.3538921\ttotal: 2.47s\tremaining: 1.39s\n",
      "64:\tlearn: 0.3518485\ttotal: 2.51s\tremaining: 1.35s\n",
      "65:\tlearn: 0.3497269\ttotal: 2.56s\tremaining: 1.32s\n",
      "66:\tlearn: 0.3478051\ttotal: 2.59s\tremaining: 1.27s\n",
      "67:\tlearn: 0.3457313\ttotal: 2.64s\tremaining: 1.24s\n",
      "68:\tlearn: 0.3438410\ttotal: 2.68s\tremaining: 1.2s\n",
      "69:\tlearn: 0.3420906\ttotal: 2.7s\tremaining: 1.16s\n",
      "70:\tlearn: 0.3401708\ttotal: 2.75s\tremaining: 1.12s\n",
      "71:\tlearn: 0.3384536\ttotal: 2.78s\tremaining: 1.08s\n",
      "72:\tlearn: 0.3368406\ttotal: 2.81s\tremaining: 1.04s\n",
      "73:\tlearn: 0.3352503\ttotal: 2.85s\tremaining: 1s\n",
      "74:\tlearn: 0.3337503\ttotal: 2.91s\tremaining: 969ms\n",
      "75:\tlearn: 0.3320574\ttotal: 2.96s\tremaining: 936ms\n",
      "76:\tlearn: 0.3304696\ttotal: 3.01s\tremaining: 899ms\n",
      "77:\tlearn: 0.3290875\ttotal: 3.04s\tremaining: 856ms\n",
      "78:\tlearn: 0.3276499\ttotal: 3.09s\tremaining: 822ms\n",
      "79:\tlearn: 0.3259202\ttotal: 3.12s\tremaining: 780ms\n",
      "80:\tlearn: 0.3244119\ttotal: 3.15s\tremaining: 738ms\n",
      "81:\tlearn: 0.3229150\ttotal: 3.18s\tremaining: 699ms\n",
      "82:\tlearn: 0.3213042\ttotal: 3.21s\tremaining: 658ms\n",
      "83:\tlearn: 0.3197641\ttotal: 3.24s\tremaining: 617ms\n",
      "84:\tlearn: 0.3184902\ttotal: 3.36s\tremaining: 593ms\n",
      "85:\tlearn: 0.3171644\ttotal: 3.38s\tremaining: 551ms\n",
      "86:\tlearn: 0.3157274\ttotal: 3.41s\tremaining: 510ms\n",
      "87:\tlearn: 0.3144991\ttotal: 3.44s\tremaining: 470ms\n",
      "88:\tlearn: 0.3135478\ttotal: 3.48s\tremaining: 430ms\n",
      "89:\tlearn: 0.3123440\ttotal: 3.5s\tremaining: 389ms\n",
      "90:\tlearn: 0.3111695\ttotal: 3.53s\tremaining: 349ms\n",
      "91:\tlearn: 0.3098969\ttotal: 3.56s\tremaining: 310ms\n",
      "92:\tlearn: 0.3087182\ttotal: 3.59s\tremaining: 270ms\n",
      "93:\tlearn: 0.3078815\ttotal: 3.62s\tremaining: 231ms\n",
      "94:\tlearn: 0.3068608\ttotal: 3.65s\tremaining: 192ms\n",
      "95:\tlearn: 0.3059184\ttotal: 3.68s\tremaining: 153ms\n",
      "96:\tlearn: 0.3050508\ttotal: 3.71s\tremaining: 115ms\n",
      "97:\tlearn: 0.3039329\ttotal: 3.74s\tremaining: 76.2ms\n",
      "98:\tlearn: 0.3030356\ttotal: 3.76s\tremaining: 38ms\n",
      "99:\tlearn: 0.3020502\ttotal: 3.79s\tremaining: 0us\n",
      "Best Parameters: {'depth': 5, 'iterations': 100, 'learning_rate': 0.01}\n",
      "Best Precision Score: 0.8217391304347826\n",
      "[[8517    0]\n",
      " [ 907    5]]\n",
      "              precision    recall  f1-score   support\n",
      "\n",
      "           0       0.90      1.00      0.95      8517\n",
      "           1       1.00      0.01      0.01       912\n",
      "\n",
      "    accuracy                           0.90      9429\n",
      "   macro avg       0.95      0.50      0.48      9429\n",
      "weighted avg       0.91      0.90      0.86      9429\n",
      "\n",
      "Precision: 1.0\n",
      "Accuracy: 0.903807402693817\n",
      "AUC: 0.8403583055766691\n"
     ]
    },
    {
     "data": {
      "text/plain": [
       "<sklearn.metrics._plot.confusion_matrix.ConfusionMatrixDisplay at 0x27e097ee6d0>"
      ]
     },
     "execution_count": 40,
     "metadata": {},
     "output_type": "execute_result"
    },
    {
     "data": {
      "image/png": "[encoded data removed]",
      "text/plain": [
       "<Figure size 432x288 with 2 Axes>"
      ]
     },
     "metadata": {
      "needs_background": "light"
     },
     "output_type": "display_data"
    }
   ],
   "source": [
    "params_CatBoost= {\n",
    "                  'depth': [3,5,10],\n",
    "                  'learning_rate' : [0.01,0.1,1],\n",
    "                  'iterations' : [5,10,50,100]\n",
    "                 }\n",
    "\n",
    "gs_cat= GridSearchCV(estimator= cat, param_grid= params_CatBoost, cv=5, scoring='precision', n_jobs=-1, verbose=2)\n",
    "gs_cat.fit(X_train, y_train)\n",
    "\n",
    "print(\"Best Parameters:\", gs_cat.best_params_)\n",
    "print(\"Best Precision Score:\", gs_cat.best_score_)\n",
    "\n",
    "tuned_cat= gs_cat.best_estimator_\n",
    "y_pred_tuned_cat= tuned_cat.predict(X_test)\n",
    "y_pred_prob_tuned_cat= tuned_cat.predict_proba(X_test)[:,1]\n",
    "\n",
    "cm= confusion_matrix(y_test, y_pred_tuned_cat, labels= tuned_cat.classes_)\n",
    "print(cm)\n",
    "print(classification_report(y_test, y_pred_tuned_cat, zero_division=0))\n",
    "print('Precision:', precision_score(y_test, y_pred_tuned_cat, zero_division=0))\n",
    "print('Accuracy:', accuracy_score(y_test, y_pred_tuned_cat))\n",
    "print('AUC:', roc_auc_score(y_test, y_pred_prob_tuned_cat))\n",
    "dcm_tuned_cat= ConfusionMatrixDisplay(cm, display_labels= tuned_cat.classes_)\n",
    "dcm_tuned_cat.plot()"
   ]
  },
  {
   "cell_type": "code",
   "execution_count": null,
   "id": "44677a1f",
   "metadata": {},
   "outputs": [],
   "source": []
  },
  {
   "cell_type": "code",
   "execution_count": 41,
   "id": "35fd0e92",
   "metadata": {},
   "outputs": [
    {
     "data": {
      "text/html": [
       "<style type=\"text/css\">\n",
       "#T_8f3bd_row8_col1 {\n",
       "  background-color: lightgreen;\n",
       "}\n",
       "</style>\n",
       "<table id=\"T_8f3bd\">\n",
       "  <thead>\n",
       "    <tr>\n",
       "      <th class=\"blank level0\" >&nbsp;</th>\n",
       "      <th id=\"T_8f3bd_level0_col0\" class=\"col_heading level0 col0\" >Description</th>\n",
       "      <th id=\"T_8f3bd_level0_col1\" class=\"col_heading level0 col1\" >Value</th>\n",
       "    </tr>\n",
       "  </thead>\n",
       "  <tbody>\n",
       "    <tr>\n",
       "      <th id=\"T_8f3bd_level0_row0\" class=\"row_heading level0 row0\" >0</th>\n",
       "      <td id=\"T_8f3bd_row0_col0\" class=\"data row0 col0\" >Session id</td>\n",
       "      <td id=\"T_8f3bd_row0_col1\" class=\"data row0 col1\" >3477</td>\n",
       "    </tr>\n",
       "    <tr>\n",
       "      <th id=\"T_8f3bd_level0_row1\" class=\"row_heading level0 row1\" >1</th>\n",
       "      <td id=\"T_8f3bd_row1_col0\" class=\"data row1 col0\" >Target</td>\n",
       "      <td id=\"T_8f3bd_row1_col1\" class=\"data row1 col1\" >HeartDiseaseorAttack</td>\n",
       "    </tr>\n",
       "    <tr>\n",
       "      <th id=\"T_8f3bd_level0_row2\" class=\"row_heading level0 row2\" >2</th>\n",
       "      <td id=\"T_8f3bd_row2_col0\" class=\"data row2 col0\" >Target type</td>\n",
       "      <td id=\"T_8f3bd_row2_col1\" class=\"data row2 col1\" >Binary</td>\n",
       "    </tr>\n",
       "    <tr>\n",
       "      <th id=\"T_8f3bd_level0_row3\" class=\"row_heading level0 row3\" >3</th>\n",
       "      <td id=\"T_8f3bd_row3_col0\" class=\"data row3 col0\" >Original data shape</td>\n",
       "      <td id=\"T_8f3bd_row3_col1\" class=\"data row3 col1\" >(47143, 43)</td>\n",
       "    </tr>\n",
       "    <tr>\n",
       "      <th id=\"T_8f3bd_level0_row4\" class=\"row_heading level0 row4\" >4</th>\n",
       "      <td id=\"T_8f3bd_row4_col0\" class=\"data row4 col0\" >Transformed data shape</td>\n",
       "      <td id=\"T_8f3bd_row4_col1\" class=\"data row4 col1\" >(47143, 43)</td>\n",
       "    </tr>\n",
       "    <tr>\n",
       "      <th id=\"T_8f3bd_level0_row5\" class=\"row_heading level0 row5\" >5</th>\n",
       "      <td id=\"T_8f3bd_row5_col0\" class=\"data row5 col0\" >Transformed train set shape</td>\n",
       "      <td id=\"T_8f3bd_row5_col1\" class=\"data row5 col1\" >(33000, 43)</td>\n",
       "    </tr>\n",
       "    <tr>\n",
       "      <th id=\"T_8f3bd_level0_row6\" class=\"row_heading level0 row6\" >6</th>\n",
       "      <td id=\"T_8f3bd_row6_col0\" class=\"data row6 col0\" >Transformed test set shape</td>\n",
       "      <td id=\"T_8f3bd_row6_col1\" class=\"data row6 col1\" >(14143, 43)</td>\n",
       "    </tr>\n",
       "    <tr>\n",
       "      <th id=\"T_8f3bd_level0_row7\" class=\"row_heading level0 row7\" >7</th>\n",
       "      <td id=\"T_8f3bd_row7_col0\" class=\"data row7 col0\" >Numeric features</td>\n",
       "      <td id=\"T_8f3bd_row7_col1\" class=\"data row7 col1\" >42</td>\n",
       "    </tr>\n",
       "    <tr>\n",
       "      <th id=\"T_8f3bd_level0_row8\" class=\"row_heading level0 row8\" >8</th>\n",
       "      <td id=\"T_8f3bd_row8_col0\" class=\"data row8 col0\" >Preprocess</td>\n",
       "      <td id=\"T_8f3bd_row8_col1\" class=\"data row8 col1\" >True</td>\n",
       "    </tr>\n",
       "    <tr>\n",
       "      <th id=\"T_8f3bd_level0_row9\" class=\"row_heading level0 row9\" >9</th>\n",
       "      <td id=\"T_8f3bd_row9_col0\" class=\"data row9 col0\" >Imputation type</td>\n",
       "      <td id=\"T_8f3bd_row9_col1\" class=\"data row9 col1\" >simple</td>\n",
       "    </tr>\n",
       "    <tr>\n",
       "      <th id=\"T_8f3bd_level0_row10\" class=\"row_heading level0 row10\" >10</th>\n",
       "      <td id=\"T_8f3bd_row10_col0\" class=\"data row10 col0\" >Numeric imputation</td>\n",
       "      <td id=\"T_8f3bd_row10_col1\" class=\"data row10 col1\" >mean</td>\n",
       "    </tr>\n",
       "    <tr>\n",
       "      <th id=\"T_8f3bd_level0_row11\" class=\"row_heading level0 row11\" >11</th>\n",
       "      <td id=\"T_8f3bd_row11_col0\" class=\"data row11 col0\" >Categorical imputation</td>\n",
       "      <td id=\"T_8f3bd_row11_col1\" class=\"data row11 col1\" >mode</td>\n",
       "    </tr>\n",
       "    <tr>\n",
       "      <th id=\"T_8f3bd_level0_row12\" class=\"row_heading level0 row12\" >12</th>\n",
       "      <td id=\"T_8f3bd_row12_col0\" class=\"data row12 col0\" >Fold Generator</td>\n",
       "      <td id=\"T_8f3bd_row12_col1\" class=\"data row12 col1\" >StratifiedKFold</td>\n",
       "    </tr>\n",
       "    <tr>\n",
       "      <th id=\"T_8f3bd_level0_row13\" class=\"row_heading level0 row13\" >13</th>\n",
       "      <td id=\"T_8f3bd_row13_col0\" class=\"data row13 col0\" >Fold Number</td>\n",
       "      <td id=\"T_8f3bd_row13_col1\" class=\"data row13 col1\" >10</td>\n",
       "    </tr>\n",
       "    <tr>\n",
       "      <th id=\"T_8f3bd_level0_row14\" class=\"row_heading level0 row14\" >14</th>\n",
       "      <td id=\"T_8f3bd_row14_col0\" class=\"data row14 col0\" >CPU Jobs</td>\n",
       "      <td id=\"T_8f3bd_row14_col1\" class=\"data row14 col1\" >-1</td>\n",
       "    </tr>\n",
       "    <tr>\n",
       "      <th id=\"T_8f3bd_level0_row15\" class=\"row_heading level0 row15\" >15</th>\n",
       "      <td id=\"T_8f3bd_row15_col0\" class=\"data row15 col0\" >Use GPU</td>\n",
       "      <td id=\"T_8f3bd_row15_col1\" class=\"data row15 col1\" >False</td>\n",
       "    </tr>\n",
       "    <tr>\n",
       "      <th id=\"T_8f3bd_level0_row16\" class=\"row_heading level0 row16\" >16</th>\n",
       "      <td id=\"T_8f3bd_row16_col0\" class=\"data row16 col0\" >Log Experiment</td>\n",
       "      <td id=\"T_8f3bd_row16_col1\" class=\"data row16 col1\" >False</td>\n",
       "    </tr>\n",
       "    <tr>\n",
       "      <th id=\"T_8f3bd_level0_row17\" class=\"row_heading level0 row17\" >17</th>\n",
       "      <td id=\"T_8f3bd_row17_col0\" class=\"data row17 col0\" >Experiment Name</td>\n",
       "      <td id=\"T_8f3bd_row17_col1\" class=\"data row17 col1\" >clf-default-name</td>\n",
       "    </tr>\n",
       "    <tr>\n",
       "      <th id=\"T_8f3bd_level0_row18\" class=\"row_heading level0 row18\" >18</th>\n",
       "      <td id=\"T_8f3bd_row18_col0\" class=\"data row18 col0\" >USI</td>\n",
       "      <td id=\"T_8f3bd_row18_col1\" class=\"data row18 col1\" >3cf3</td>\n",
       "    </tr>\n",
       "  </tbody>\n",
       "</table>\n"
      ],
      "text/plain": [
       "<pandas.io.formats.style.Styler at 0x27e0acd3f40>"
      ]
     },
     "metadata": {},
     "output_type": "display_data"
    }
   ],
   "source": [
    "from pycaret.classification import *\n",
    "s= setup(df, target = 'HeartDiseaseorAttack')"
   ]
  },
  {
   "cell_type": "code",
   "execution_count": 42,
   "id": "4c0ca890",
   "metadata": {},
   "outputs": [
    {
     "data": {
      "text/html": [],
      "text/plain": [
       "<IPython.core.display.HTML object>"
      ]
     },
     "metadata": {},
     "output_type": "display_data"
    },
    {
     "data": {
      "text/html": [
       "<style type=\"text/css\">\n",
       "#T_ff4e1 th {\n",
       "  text-align: left;\n",
       "}\n",
       "#T_ff4e1_row0_col0, #T_ff4e1_row0_col1, #T_ff4e1_row0_col2, #T_ff4e1_row0_col3, #T_ff4e1_row0_col5, #T_ff4e1_row0_col6, #T_ff4e1_row0_col7, #T_ff4e1_row1_col0, #T_ff4e1_row1_col3, #T_ff4e1_row1_col4, #T_ff4e1_row1_col5, #T_ff4e1_row1_col6, #T_ff4e1_row1_col7, #T_ff4e1_row2_col0, #T_ff4e1_row2_col1, #T_ff4e1_row2_col2, #T_ff4e1_row2_col3, #T_ff4e1_row2_col4, #T_ff4e1_row2_col5, #T_ff4e1_row2_col6, #T_ff4e1_row2_col7, #T_ff4e1_row3_col0, #T_ff4e1_row3_col1, #T_ff4e1_row3_col2, #T_ff4e1_row3_col3, #T_ff4e1_row3_col4, #T_ff4e1_row3_col5, #T_ff4e1_row3_col6, #T_ff4e1_row3_col7, #T_ff4e1_row4_col0, #T_ff4e1_row4_col1, #T_ff4e1_row4_col2, #T_ff4e1_row4_col3, #T_ff4e1_row4_col4, #T_ff4e1_row4_col5, #T_ff4e1_row4_col6, #T_ff4e1_row4_col7, #T_ff4e1_row5_col0, #T_ff4e1_row5_col1, #T_ff4e1_row5_col2, #T_ff4e1_row5_col3, #T_ff4e1_row5_col4, #T_ff4e1_row5_col5, #T_ff4e1_row5_col6, #T_ff4e1_row5_col7, #T_ff4e1_row6_col0, #T_ff4e1_row6_col1, #T_ff4e1_row6_col2, #T_ff4e1_row6_col3, #T_ff4e1_row6_col4, #T_ff4e1_row6_col5, #T_ff4e1_row6_col7, #T_ff4e1_row7_col0, #T_ff4e1_row7_col1, #T_ff4e1_row7_col2, #T_ff4e1_row7_col3, #T_ff4e1_row7_col4, #T_ff4e1_row7_col5, #T_ff4e1_row7_col6, #T_ff4e1_row7_col7, #T_ff4e1_row8_col0, #T_ff4e1_row8_col1, #T_ff4e1_row8_col2, #T_ff4e1_row8_col3, #T_ff4e1_row8_col4, #T_ff4e1_row8_col5, #T_ff4e1_row8_col6, #T_ff4e1_row8_col7, #T_ff4e1_row9_col0, #T_ff4e1_row9_col1, #T_ff4e1_row9_col2, #T_ff4e1_row9_col3, #T_ff4e1_row9_col4, #T_ff4e1_row9_col5, #T_ff4e1_row9_col6, #T_ff4e1_row9_col7, #T_ff4e1_row10_col0, #T_ff4e1_row10_col1, #T_ff4e1_row10_col2, #T_ff4e1_row10_col3, #T_ff4e1_row10_col4, #T_ff4e1_row10_col5, #T_ff4e1_row10_col6, #T_ff4e1_row10_col7, #T_ff4e1_row11_col0, #T_ff4e1_row11_col1, #T_ff4e1_row11_col2, #T_ff4e1_row11_col3, #T_ff4e1_row11_col4, #T_ff4e1_row11_col5, #T_ff4e1_row11_col6, #T_ff4e1_row11_col7, #T_ff4e1_row12_col0, #T_ff4e1_row12_col1, #T_ff4e1_row12_col2, #T_ff4e1_row12_col3, #T_ff4e1_row12_col4, #T_ff4e1_row12_col5, #T_ff4e1_row12_col6, #T_ff4e1_row12_col7, #T_ff4e1_row13_col0, #T_ff4e1_row13_col1, #T_ff4e1_row13_col2, #T_ff4e1_row13_col3, #T_ff4e1_row13_col4, #T_ff4e1_row13_col6, #T_ff4e1_row14_col0, #T_ff4e1_row14_col1, #T_ff4e1_row14_col2, #T_ff4e1_row14_col4, #T_ff4e1_row14_col5, #T_ff4e1_row14_col6, #T_ff4e1_row14_col7, #T_ff4e1_row15_col0, #T_ff4e1_row15_col1, #T_ff4e1_row15_col2, #T_ff4e1_row15_col3, #T_ff4e1_row15_col4, #T_ff4e1_row15_col5, #T_ff4e1_row15_col6, #T_ff4e1_row15_col7 {\n",
       "  text-align: left;\n",
       "}\n",
       "#T_ff4e1_row0_col4, #T_ff4e1_row1_col1, #T_ff4e1_row1_col2, #T_ff4e1_row6_col6, #T_ff4e1_row13_col5, #T_ff4e1_row13_col7, #T_ff4e1_row14_col3 {\n",
       "  text-align: left;\n",
       "  background-color: yellow;\n",
       "}\n",
       "#T_ff4e1_row0_col8, #T_ff4e1_row1_col8, #T_ff4e1_row2_col8, #T_ff4e1_row3_col8, #T_ff4e1_row4_col8, #T_ff4e1_row5_col8, #T_ff4e1_row6_col8, #T_ff4e1_row7_col8, #T_ff4e1_row8_col8, #T_ff4e1_row9_col8, #T_ff4e1_row10_col8, #T_ff4e1_row11_col8, #T_ff4e1_row12_col8, #T_ff4e1_row13_col8, #T_ff4e1_row14_col8 {\n",
       "  text-align: left;\n",
       "  background-color: lightgrey;\n",
       "}\n",
       "#T_ff4e1_row15_col8 {\n",
       "  text-align: left;\n",
       "  background-color: yellow;\n",
       "  background-color: lightgrey;\n",
       "}\n",
       "</style>\n",
       "<table id=\"T_ff4e1\">\n",
       "  <thead>\n",
       "    <tr>\n",
       "      <th class=\"blank level0\" >&nbsp;</th>\n",
       "      <th id=\"T_ff4e1_level0_col0\" class=\"col_heading level0 col0\" >Model</th>\n",
       "      <th id=\"T_ff4e1_level0_col1\" class=\"col_heading level0 col1\" >Accuracy</th>\n",
       "      <th id=\"T_ff4e1_level0_col2\" class=\"col_heading level0 col2\" >AUC</th>\n",
       "      <th id=\"T_ff4e1_level0_col3\" class=\"col_heading level0 col3\" >Recall</th>\n",
       "      <th id=\"T_ff4e1_level0_col4\" class=\"col_heading level0 col4\" >Prec.</th>\n",
       "      <th id=\"T_ff4e1_level0_col5\" class=\"col_heading level0 col5\" >F1</th>\n",
       "      <th id=\"T_ff4e1_level0_col6\" class=\"col_heading level0 col6\" >Kappa</th>\n",
       "      <th id=\"T_ff4e1_level0_col7\" class=\"col_heading level0 col7\" >MCC</th>\n",
       "      <th id=\"T_ff4e1_level0_col8\" class=\"col_heading level0 col8\" >TT (Sec)</th>\n",
       "    </tr>\n",
       "  </thead>\n",
       "  <tbody>\n",
       "    <tr>\n",
       "      <th id=\"T_ff4e1_level0_row0\" class=\"row_heading level0 row0\" >ridge</th>\n",
       "      <td id=\"T_ff4e1_row0_col0\" class=\"data row0 col0\" >Ridge Classifier</td>\n",
       "      <td id=\"T_ff4e1_row0_col1\" class=\"data row0 col1\" >0.9048</td>\n",
       "      <td id=\"T_ff4e1_row0_col2\" class=\"data row0 col2\" >0.0000</td>\n",
       "      <td id=\"T_ff4e1_row0_col3\" class=\"data row0 col3\" >0.0282</td>\n",
       "      <td id=\"T_ff4e1_row0_col4\" class=\"data row0 col4\" >0.6913</td>\n",
       "      <td id=\"T_ff4e1_row0_col5\" class=\"data row0 col5\" >0.0541</td>\n",
       "      <td id=\"T_ff4e1_row0_col6\" class=\"data row0 col6\" >0.0469</td>\n",
       "      <td id=\"T_ff4e1_row0_col7\" class=\"data row0 col7\" >0.1260</td>\n",
       "      <td id=\"T_ff4e1_row0_col8\" class=\"data row0 col8\" >0.0810</td>\n",
       "    </tr>\n",
       "    <tr>\n",
       "      <th id=\"T_ff4e1_level0_row1\" class=\"row_heading level0 row1\" >gbc</th>\n",
       "      <td id=\"T_ff4e1_row1_col0\" class=\"data row1 col0\" >Gradient Boosting Classifier</td>\n",
       "      <td id=\"T_ff4e1_row1_col1\" class=\"data row1 col1\" >0.9055</td>\n",
       "      <td id=\"T_ff4e1_row1_col2\" class=\"data row1 col2\" >0.8417</td>\n",
       "      <td id=\"T_ff4e1_row1_col3\" class=\"data row1 col3\" >0.1159</td>\n",
       "      <td id=\"T_ff4e1_row1_col4\" class=\"data row1 col4\" >0.5557</td>\n",
       "      <td id=\"T_ff4e1_row1_col5\" class=\"data row1 col5\" >0.1916</td>\n",
       "      <td id=\"T_ff4e1_row1_col6\" class=\"data row1 col6\" >0.1636</td>\n",
       "      <td id=\"T_ff4e1_row1_col7\" class=\"data row1 col7\" >0.2225</td>\n",
       "      <td id=\"T_ff4e1_row1_col8\" class=\"data row1 col8\" >1.8860</td>\n",
       "    </tr>\n",
       "    <tr>\n",
       "      <th id=\"T_ff4e1_level0_row2\" class=\"row_heading level0 row2\" >lr</th>\n",
       "      <td id=\"T_ff4e1_row2_col0\" class=\"data row2 col0\" >Logistic Regression</td>\n",
       "      <td id=\"T_ff4e1_row2_col1\" class=\"data row2 col1\" >0.9049</td>\n",
       "      <td id=\"T_ff4e1_row2_col2\" class=\"data row2 col2\" >0.8416</td>\n",
       "      <td id=\"T_ff4e1_row2_col3\" class=\"data row2 col3\" >0.1256</td>\n",
       "      <td id=\"T_ff4e1_row2_col4\" class=\"data row2 col4\" >0.5377</td>\n",
       "      <td id=\"T_ff4e1_row2_col5\" class=\"data row2 col5\" >0.2034</td>\n",
       "      <td id=\"T_ff4e1_row2_col6\" class=\"data row2 col6\" >0.1732</td>\n",
       "      <td id=\"T_ff4e1_row2_col7\" class=\"data row2 col7\" >0.2266</td>\n",
       "      <td id=\"T_ff4e1_row2_col8\" class=\"data row2 col8\" >3.3070</td>\n",
       "    </tr>\n",
       "    <tr>\n",
       "      <th id=\"T_ff4e1_level0_row3\" class=\"row_heading level0 row3\" >lightgbm</th>\n",
       "      <td id=\"T_ff4e1_row3_col0\" class=\"data row3 col0\" >Light Gradient Boosting Machine</td>\n",
       "      <td id=\"T_ff4e1_row3_col1\" class=\"data row3 col1\" >0.9046</td>\n",
       "      <td id=\"T_ff4e1_row3_col2\" class=\"data row3 col2\" >0.8348</td>\n",
       "      <td id=\"T_ff4e1_row3_col3\" class=\"data row3 col3\" >0.1065</td>\n",
       "      <td id=\"T_ff4e1_row3_col4\" class=\"data row3 col4\" >0.5366</td>\n",
       "      <td id=\"T_ff4e1_row3_col5\" class=\"data row3 col5\" >0.1775</td>\n",
       "      <td id=\"T_ff4e1_row3_col6\" class=\"data row3 col6\" >0.1502</td>\n",
       "      <td id=\"T_ff4e1_row3_col7\" class=\"data row3 col7\" >0.2079</td>\n",
       "      <td id=\"T_ff4e1_row3_col8\" class=\"data row3 col8\" >4.6010</td>\n",
       "    </tr>\n",
       "    <tr>\n",
       "      <th id=\"T_ff4e1_level0_row4\" class=\"row_heading level0 row4\" >ada</th>\n",
       "      <td id=\"T_ff4e1_row4_col0\" class=\"data row4 col0\" >Ada Boost Classifier</td>\n",
       "      <td id=\"T_ff4e1_row4_col1\" class=\"data row4 col1\" >0.9047</td>\n",
       "      <td id=\"T_ff4e1_row4_col2\" class=\"data row4 col2\" >0.8401</td>\n",
       "      <td id=\"T_ff4e1_row4_col3\" class=\"data row4 col3\" >0.1459</td>\n",
       "      <td id=\"T_ff4e1_row4_col4\" class=\"data row4 col4\" >0.5275</td>\n",
       "      <td id=\"T_ff4e1_row4_col5\" class=\"data row4 col5\" >0.2285</td>\n",
       "      <td id=\"T_ff4e1_row4_col6\" class=\"data row4 col6\" >0.1947</td>\n",
       "      <td id=\"T_ff4e1_row4_col7\" class=\"data row4 col7\" >0.2415</td>\n",
       "      <td id=\"T_ff4e1_row4_col8\" class=\"data row4 col8\" >1.0110</td>\n",
       "    </tr>\n",
       "    <tr>\n",
       "      <th id=\"T_ff4e1_level0_row5\" class=\"row_heading level0 row5\" >catboost</th>\n",
       "      <td id=\"T_ff4e1_row5_col0\" class=\"data row5 col0\" >CatBoost Classifier</td>\n",
       "      <td id=\"T_ff4e1_row5_col1\" class=\"data row5 col1\" >0.9032</td>\n",
       "      <td id=\"T_ff4e1_row5_col2\" class=\"data row5 col2\" >0.8320</td>\n",
       "      <td id=\"T_ff4e1_row5_col3\" class=\"data row5 col3\" >0.1231</td>\n",
       "      <td id=\"T_ff4e1_row5_col4\" class=\"data row5 col4\" >0.5006</td>\n",
       "      <td id=\"T_ff4e1_row5_col5\" class=\"data row5 col5\" >0.1974</td>\n",
       "      <td id=\"T_ff4e1_row5_col6\" class=\"data row5 col6\" >0.1655</td>\n",
       "      <td id=\"T_ff4e1_row5_col7\" class=\"data row5 col7\" >0.2131</td>\n",
       "      <td id=\"T_ff4e1_row5_col8\" class=\"data row5 col8\" >10.5380</td>\n",
       "    </tr>\n",
       "    <tr>\n",
       "      <th id=\"T_ff4e1_level0_row6\" class=\"row_heading level0 row6\" >lda</th>\n",
       "      <td id=\"T_ff4e1_row6_col0\" class=\"data row6 col0\" >Linear Discriminant Analysis</td>\n",
       "      <td id=\"T_ff4e1_row6_col1\" class=\"data row6 col1\" >0.8999</td>\n",
       "      <td id=\"T_ff4e1_row6_col2\" class=\"data row6 col2\" >0.8370</td>\n",
       "      <td id=\"T_ff4e1_row6_col3\" class=\"data row6 col3\" >0.2029</td>\n",
       "      <td id=\"T_ff4e1_row6_col4\" class=\"data row6 col4\" >0.4602</td>\n",
       "      <td id=\"T_ff4e1_row6_col5\" class=\"data row6 col5\" >0.2815</td>\n",
       "      <td id=\"T_ff4e1_row6_col6\" class=\"data row6 col6\" >0.2364</td>\n",
       "      <td id=\"T_ff4e1_row6_col7\" class=\"data row6 col7\" >0.2595</td>\n",
       "      <td id=\"T_ff4e1_row6_col8\" class=\"data row6 col8\" >0.1990</td>\n",
       "    </tr>\n",
       "    <tr>\n",
       "      <th id=\"T_ff4e1_level0_row7\" class=\"row_heading level0 row7\" >svm</th>\n",
       "      <td id=\"T_ff4e1_row7_col0\" class=\"data row7 col0\" >SVM - Linear Kernel</td>\n",
       "      <td id=\"T_ff4e1_row7_col1\" class=\"data row7 col1\" >0.8956</td>\n",
       "      <td id=\"T_ff4e1_row7_col2\" class=\"data row7 col2\" >0.0000</td>\n",
       "      <td id=\"T_ff4e1_row7_col3\" class=\"data row7 col3\" >0.1642</td>\n",
       "      <td id=\"T_ff4e1_row7_col4\" class=\"data row7 col4\" >0.4452</td>\n",
       "      <td id=\"T_ff4e1_row7_col5\" class=\"data row7 col5\" >0.2052</td>\n",
       "      <td id=\"T_ff4e1_row7_col6\" class=\"data row7 col6\" >0.1684</td>\n",
       "      <td id=\"T_ff4e1_row7_col7\" class=\"data row7 col7\" >0.1973</td>\n",
       "      <td id=\"T_ff4e1_row7_col8\" class=\"data row7 col8\" >0.6520</td>\n",
       "    </tr>\n",
       "    <tr>\n",
       "      <th id=\"T_ff4e1_level0_row8\" class=\"row_heading level0 row8\" >xgboost</th>\n",
       "      <td id=\"T_ff4e1_row8_col0\" class=\"data row8 col0\" >Extreme Gradient Boosting</td>\n",
       "      <td id=\"T_ff4e1_row8_col1\" class=\"data row8 col1\" >0.8996</td>\n",
       "      <td id=\"T_ff4e1_row8_col2\" class=\"data row8 col2\" >0.8171</td>\n",
       "      <td id=\"T_ff4e1_row8_col3\" class=\"data row8 col3\" >0.1353</td>\n",
       "      <td id=\"T_ff4e1_row8_col4\" class=\"data row8 col4\" >0.4430</td>\n",
       "      <td id=\"T_ff4e1_row8_col5\" class=\"data row8 col5\" >0.2068</td>\n",
       "      <td id=\"T_ff4e1_row8_col6\" class=\"data row8 col6\" >0.1690</td>\n",
       "      <td id=\"T_ff4e1_row8_col7\" class=\"data row8 col7\" >0.2038</td>\n",
       "      <td id=\"T_ff4e1_row8_col8\" class=\"data row8 col8\" >1.6550</td>\n",
       "    </tr>\n",
       "    <tr>\n",
       "      <th id=\"T_ff4e1_level0_row9\" class=\"row_heading level0 row9\" >rf</th>\n",
       "      <td id=\"T_ff4e1_row9_col0\" class=\"data row9 col0\" >Random Forest Classifier</td>\n",
       "      <td id=\"T_ff4e1_row9_col1\" class=\"data row9 col1\" >0.9014</td>\n",
       "      <td id=\"T_ff4e1_row9_col2\" class=\"data row9 col2\" >0.8078</td>\n",
       "      <td id=\"T_ff4e1_row9_col3\" class=\"data row9 col3\" >0.0714</td>\n",
       "      <td id=\"T_ff4e1_row9_col4\" class=\"data row9 col4\" >0.4409</td>\n",
       "      <td id=\"T_ff4e1_row9_col5\" class=\"data row9 col5\" >0.1228</td>\n",
       "      <td id=\"T_ff4e1_row9_col6\" class=\"data row9 col6\" >0.0985</td>\n",
       "      <td id=\"T_ff4e1_row9_col7\" class=\"data row9 col7\" >0.1468</td>\n",
       "      <td id=\"T_ff4e1_row9_col8\" class=\"data row9 col8\" >1.0580</td>\n",
       "    </tr>\n",
       "    <tr>\n",
       "      <th id=\"T_ff4e1_level0_row10\" class=\"row_heading level0 row10\" >et</th>\n",
       "      <td id=\"T_ff4e1_row10_col0\" class=\"data row10 col0\" >Extra Trees Classifier</td>\n",
       "      <td id=\"T_ff4e1_row10_col1\" class=\"data row10 col1\" >0.8947</td>\n",
       "      <td id=\"T_ff4e1_row10_col2\" class=\"data row10 col2\" >0.7909</td>\n",
       "      <td id=\"T_ff4e1_row10_col3\" class=\"data row10 col3\" >0.1018</td>\n",
       "      <td id=\"T_ff4e1_row10_col4\" class=\"data row10 col4\" >0.3484</td>\n",
       "      <td id=\"T_ff4e1_row10_col5\" class=\"data row10 col5\" >0.1574</td>\n",
       "      <td id=\"T_ff4e1_row10_col6\" class=\"data row10 col6\" >0.1190</td>\n",
       "      <td id=\"T_ff4e1_row10_col7\" class=\"data row10 col7\" >0.1451</td>\n",
       "      <td id=\"T_ff4e1_row10_col8\" class=\"data row10 col8\" >1.5270</td>\n",
       "    </tr>\n",
       "    <tr>\n",
       "      <th id=\"T_ff4e1_level0_row11\" class=\"row_heading level0 row11\" >knn</th>\n",
       "      <td id=\"T_ff4e1_row11_col0\" class=\"data row11 col0\" >K Neighbors Classifier</td>\n",
       "      <td id=\"T_ff4e1_row11_col1\" class=\"data row11 col1\" >0.8943</td>\n",
       "      <td id=\"T_ff4e1_row11_col2\" class=\"data row11 col2\" >0.6691</td>\n",
       "      <td id=\"T_ff4e1_row11_col3\" class=\"data row11 col3\" >0.0749</td>\n",
       "      <td id=\"T_ff4e1_row11_col4\" class=\"data row11 col4\" >0.3119</td>\n",
       "      <td id=\"T_ff4e1_row11_col5\" class=\"data row11 col5\" >0.1205</td>\n",
       "      <td id=\"T_ff4e1_row11_col6\" class=\"data row11 col6\" >0.0861</td>\n",
       "      <td id=\"T_ff4e1_row11_col7\" class=\"data row11 col7\" >0.1118</td>\n",
       "      <td id=\"T_ff4e1_row11_col8\" class=\"data row11 col8\" >0.9900</td>\n",
       "    </tr>\n",
       "    <tr>\n",
       "      <th id=\"T_ff4e1_level0_row12\" class=\"row_heading level0 row12\" >dt</th>\n",
       "      <td id=\"T_ff4e1_row12_col0\" class=\"data row12 col0\" >Decision Tree Classifier</td>\n",
       "      <td id=\"T_ff4e1_row12_col1\" class=\"data row12 col1\" >0.8455</td>\n",
       "      <td id=\"T_ff4e1_row12_col2\" class=\"data row12 col2\" >0.5921</td>\n",
       "      <td id=\"T_ff4e1_row12_col3\" class=\"data row12 col3\" >0.2784</td>\n",
       "      <td id=\"T_ff4e1_row12_col4\" class=\"data row12 col4\" >0.2410</td>\n",
       "      <td id=\"T_ff4e1_row12_col5\" class=\"data row12 col5\" >0.2581</td>\n",
       "      <td id=\"T_ff4e1_row12_col6\" class=\"data row12 col6\" >0.1724</td>\n",
       "      <td id=\"T_ff4e1_row12_col7\" class=\"data row12 col7\" >0.1731</td>\n",
       "      <td id=\"T_ff4e1_row12_col8\" class=\"data row12 col8\" >0.1410</td>\n",
       "    </tr>\n",
       "    <tr>\n",
       "      <th id=\"T_ff4e1_level0_row13\" class=\"row_heading level0 row13\" >nb</th>\n",
       "      <td id=\"T_ff4e1_row13_col0\" class=\"data row13 col0\" >Naive Bayes</td>\n",
       "      <td id=\"T_ff4e1_row13_col1\" class=\"data row13 col1\" >0.6871</td>\n",
       "      <td id=\"T_ff4e1_row13_col2\" class=\"data row13 col2\" >0.7962</td>\n",
       "      <td id=\"T_ff4e1_row13_col3\" class=\"data row13 col3\" >0.7917</td>\n",
       "      <td id=\"T_ff4e1_row13_col4\" class=\"data row13 col4\" >0.2075</td>\n",
       "      <td id=\"T_ff4e1_row13_col5\" class=\"data row13 col5\" >0.3287</td>\n",
       "      <td id=\"T_ff4e1_row13_col6\" class=\"data row13 col6\" >0.2072</td>\n",
       "      <td id=\"T_ff4e1_row13_col7\" class=\"data row13 col7\" >0.2865</td>\n",
       "      <td id=\"T_ff4e1_row13_col8\" class=\"data row13 col8\" >0.0770</td>\n",
       "    </tr>\n",
       "    <tr>\n",
       "      <th id=\"T_ff4e1_level0_row14\" class=\"row_heading level0 row14\" >qda</th>\n",
       "      <td id=\"T_ff4e1_row14_col0\" class=\"data row14 col0\" >Quadratic Discriminant Analysis</td>\n",
       "      <td id=\"T_ff4e1_row14_col1\" class=\"data row14 col1\" >0.6112</td>\n",
       "      <td id=\"T_ff4e1_row14_col2\" class=\"data row14 col2\" >0.7927</td>\n",
       "      <td id=\"T_ff4e1_row14_col3\" class=\"data row14 col3\" >0.8600</td>\n",
       "      <td id=\"T_ff4e1_row14_col4\" class=\"data row14 col4\" >0.1816</td>\n",
       "      <td id=\"T_ff4e1_row14_col5\" class=\"data row14 col5\" >0.2999</td>\n",
       "      <td id=\"T_ff4e1_row14_col6\" class=\"data row14 col6\" >0.1667</td>\n",
       "      <td id=\"T_ff4e1_row14_col7\" class=\"data row14 col7\" >0.2638</td>\n",
       "      <td id=\"T_ff4e1_row14_col8\" class=\"data row14 col8\" >0.1580</td>\n",
       "    </tr>\n",
       "    <tr>\n",
       "      <th id=\"T_ff4e1_level0_row15\" class=\"row_heading level0 row15\" >dummy</th>\n",
       "      <td id=\"T_ff4e1_row15_col0\" class=\"data row15 col0\" >Dummy Classifier</td>\n",
       "      <td id=\"T_ff4e1_row15_col1\" class=\"data row15 col1\" >0.9032</td>\n",
       "      <td id=\"T_ff4e1_row15_col2\" class=\"data row15 col2\" >0.5000</td>\n",
       "      <td id=\"T_ff4e1_row15_col3\" class=\"data row15 col3\" >0.0000</td>\n",
       "      <td id=\"T_ff4e1_row15_col4\" class=\"data row15 col4\" >0.0000</td>\n",
       "      <td id=\"T_ff4e1_row15_col5\" class=\"data row15 col5\" >0.0000</td>\n",
       "      <td id=\"T_ff4e1_row15_col6\" class=\"data row15 col6\" >0.0000</td>\n",
       "      <td id=\"T_ff4e1_row15_col7\" class=\"data row15 col7\" >0.0000</td>\n",
       "      <td id=\"T_ff4e1_row15_col8\" class=\"data row15 col8\" >0.0490</td>\n",
       "    </tr>\n",
       "  </tbody>\n",
       "</table>\n"
      ],
      "text/plain": [
       "<pandas.io.formats.style.Styler at 0x27e5ac0ba90>"
      ]
     },
     "metadata": {},
     "output_type": "display_data"
    },
    {
     "data": {
      "application/vnd.jupyter.widget-view+json": {
       "model_id": "",
       "version_major": 2,
       "version_minor": 0
      },
      "text/plain": [
       "Processing:   0%|          | 0/69 [00:00<?, ?it/s]"
      ]
     },
     "metadata": {},
     "output_type": "display_data"
    }
   ],
   "source": [
    "best_model= compare_models(sort= 'Precision')"
   ]
  },
  {
   "cell_type": "code",
   "execution_count": 43,
   "id": "dac19f1e",
   "metadata": {},
   "outputs": [
    {
     "name": "stdout",
     "output_type": "stream",
     "text": [
      "RidgeClassifier(alpha=1.0, class_weight=None, copy_X=True, fit_intercept=True,\n",
      "                max_iter=None, positive=False, random_state=3477, solver='auto',\n",
      "                tol=0.0001)\n"
     ]
    }
   ],
   "source": [
    "print(best_model)"
   ]
  },
  {
   "cell_type": "code",
   "execution_count": 44,
   "id": "fc6deb75",
   "metadata": {},
   "outputs": [
    {
     "data": {
      "text/html": [],
      "text/plain": [
       "<IPython.core.display.HTML object>"
      ]
     },
     "metadata": {},
     "output_type": "display_data"
    },
    {
     "data": {
      "text/html": [
       "<style type=\"text/css\">\n",
       "#T_6b09e_row10_col0, #T_6b09e_row10_col1, #T_6b09e_row10_col2, #T_6b09e_row10_col3, #T_6b09e_row10_col4, #T_6b09e_row10_col5, #T_6b09e_row10_col6 {\n",
       "  background: yellow;\n",
       "}\n",
       "</style>\n",
       "<table id=\"T_6b09e\">\n",
       "  <thead>\n",
       "    <tr>\n",
       "      <th class=\"blank level0\" >&nbsp;</th>\n",
       "      <th id=\"T_6b09e_level0_col0\" class=\"col_heading level0 col0\" >Accuracy</th>\n",
       "      <th id=\"T_6b09e_level0_col1\" class=\"col_heading level0 col1\" >AUC</th>\n",
       "      <th id=\"T_6b09e_level0_col2\" class=\"col_heading level0 col2\" >Recall</th>\n",
       "      <th id=\"T_6b09e_level0_col3\" class=\"col_heading level0 col3\" >Prec.</th>\n",
       "      <th id=\"T_6b09e_level0_col4\" class=\"col_heading level0 col4\" >F1</th>\n",
       "      <th id=\"T_6b09e_level0_col5\" class=\"col_heading level0 col5\" >Kappa</th>\n",
       "      <th id=\"T_6b09e_level0_col6\" class=\"col_heading level0 col6\" >MCC</th>\n",
       "    </tr>\n",
       "    <tr>\n",
       "      <th class=\"index_name level0\" >Fold</th>\n",
       "      <th class=\"blank col0\" >&nbsp;</th>\n",
       "      <th class=\"blank col1\" >&nbsp;</th>\n",
       "      <th class=\"blank col2\" >&nbsp;</th>\n",
       "      <th class=\"blank col3\" >&nbsp;</th>\n",
       "      <th class=\"blank col4\" >&nbsp;</th>\n",
       "      <th class=\"blank col5\" >&nbsp;</th>\n",
       "      <th class=\"blank col6\" >&nbsp;</th>\n",
       "    </tr>\n",
       "  </thead>\n",
       "  <tbody>\n",
       "    <tr>\n",
       "      <th id=\"T_6b09e_level0_row0\" class=\"row_heading level0 row0\" >0</th>\n",
       "      <td id=\"T_6b09e_row0_col0\" class=\"data row0 col0\" >0.9055</td>\n",
       "      <td id=\"T_6b09e_row0_col1\" class=\"data row0 col1\" >0.0000</td>\n",
       "      <td id=\"T_6b09e_row0_col2\" class=\"data row0 col2\" >0.0313</td>\n",
       "      <td id=\"T_6b09e_row0_col3\" class=\"data row0 col3\" >0.7692</td>\n",
       "      <td id=\"T_6b09e_row0_col4\" class=\"data row0 col4\" >0.0602</td>\n",
       "      <td id=\"T_6b09e_row0_col5\" class=\"data row0 col5\" >0.0531</td>\n",
       "      <td id=\"T_6b09e_row0_col6\" class=\"data row0 col6\" >0.1431</td>\n",
       "    </tr>\n",
       "    <tr>\n",
       "      <th id=\"T_6b09e_level0_row1\" class=\"row_heading level0 row1\" >1</th>\n",
       "      <td id=\"T_6b09e_row1_col0\" class=\"data row1 col0\" >0.9042</td>\n",
       "      <td id=\"T_6b09e_row1_col1\" class=\"data row1 col1\" >0.0000</td>\n",
       "      <td id=\"T_6b09e_row1_col2\" class=\"data row1 col2\" >0.0188</td>\n",
       "      <td id=\"T_6b09e_row1_col3\" class=\"data row1 col3\" >0.6667</td>\n",
       "      <td id=\"T_6b09e_row1_col4\" class=\"data row1 col4\" >0.0366</td>\n",
       "      <td id=\"T_6b09e_row1_col5\" class=\"data row1 col5\" >0.0314</td>\n",
       "      <td id=\"T_6b09e_row1_col6\" class=\"data row1 col6\" >0.1009</td>\n",
       "    </tr>\n",
       "    <tr>\n",
       "      <th id=\"T_6b09e_level0_row2\" class=\"row_heading level0 row2\" >2</th>\n",
       "      <td id=\"T_6b09e_row2_col0\" class=\"data row2 col0\" >0.9042</td>\n",
       "      <td id=\"T_6b09e_row2_col1\" class=\"data row2 col1\" >0.0000</td>\n",
       "      <td id=\"T_6b09e_row2_col2\" class=\"data row2 col2\" >0.0251</td>\n",
       "      <td id=\"T_6b09e_row2_col3\" class=\"data row2 col3\" >0.6154</td>\n",
       "      <td id=\"T_6b09e_row2_col4\" class=\"data row2 col4\" >0.0482</td>\n",
       "      <td id=\"T_6b09e_row2_col5\" class=\"data row2 col5\" >0.0409</td>\n",
       "      <td id=\"T_6b09e_row2_col6\" class=\"data row2 col6\" >0.1104</td>\n",
       "    </tr>\n",
       "    <tr>\n",
       "      <th id=\"T_6b09e_level0_row3\" class=\"row_heading level0 row3\" >3</th>\n",
       "      <td id=\"T_6b09e_row3_col0\" class=\"data row3 col0\" >0.9039</td>\n",
       "      <td id=\"T_6b09e_row3_col1\" class=\"data row3 col1\" >0.0000</td>\n",
       "      <td id=\"T_6b09e_row3_col2\" class=\"data row3 col2\" >0.0188</td>\n",
       "      <td id=\"T_6b09e_row3_col3\" class=\"data row3 col3\" >0.6000</td>\n",
       "      <td id=\"T_6b09e_row3_col4\" class=\"data row3 col4\" >0.0365</td>\n",
       "      <td id=\"T_6b09e_row3_col5\" class=\"data row3 col5\" >0.0308</td>\n",
       "      <td id=\"T_6b09e_row3_col6\" class=\"data row3 col6\" >0.0939</td>\n",
       "    </tr>\n",
       "    <tr>\n",
       "      <th id=\"T_6b09e_level0_row4\" class=\"row_heading level0 row4\" >4</th>\n",
       "      <td id=\"T_6b09e_row4_col0\" class=\"data row4 col0\" >0.9052</td>\n",
       "      <td id=\"T_6b09e_row4_col1\" class=\"data row4 col1\" >0.0000</td>\n",
       "      <td id=\"T_6b09e_row4_col2\" class=\"data row4 col2\" >0.0282</td>\n",
       "      <td id=\"T_6b09e_row4_col3\" class=\"data row4 col3\" >0.7500</td>\n",
       "      <td id=\"T_6b09e_row4_col4\" class=\"data row4 col4\" >0.0544</td>\n",
       "      <td id=\"T_6b09e_row4_col5\" class=\"data row4 col5\" >0.0477</td>\n",
       "      <td id=\"T_6b09e_row4_col6\" class=\"data row4 col6\" >0.1336</td>\n",
       "    </tr>\n",
       "    <tr>\n",
       "      <th id=\"T_6b09e_level0_row5\" class=\"row_heading level0 row5\" >5</th>\n",
       "      <td id=\"T_6b09e_row5_col0\" class=\"data row5 col0\" >0.9039</td>\n",
       "      <td id=\"T_6b09e_row5_col1\" class=\"data row5 col1\" >0.0000</td>\n",
       "      <td id=\"T_6b09e_row5_col2\" class=\"data row5 col2\" >0.0157</td>\n",
       "      <td id=\"T_6b09e_row5_col3\" class=\"data row5 col3\" >0.6250</td>\n",
       "      <td id=\"T_6b09e_row5_col4\" class=\"data row5 col4\" >0.0306</td>\n",
       "      <td id=\"T_6b09e_row5_col5\" class=\"data row5 col5\" >0.0260</td>\n",
       "      <td id=\"T_6b09e_row5_col6\" class=\"data row5 col6\" >0.0881</td>\n",
       "    </tr>\n",
       "    <tr>\n",
       "      <th id=\"T_6b09e_level0_row6\" class=\"row_heading level0 row6\" >6</th>\n",
       "      <td id=\"T_6b09e_row6_col0\" class=\"data row6 col0\" >0.9055</td>\n",
       "      <td id=\"T_6b09e_row6_col1\" class=\"data row6 col1\" >0.0000</td>\n",
       "      <td id=\"T_6b09e_row6_col2\" class=\"data row6 col2\" >0.0282</td>\n",
       "      <td id=\"T_6b09e_row6_col3\" class=\"data row6 col3\" >0.8182</td>\n",
       "      <td id=\"T_6b09e_row6_col4\" class=\"data row6 col4\" >0.0545</td>\n",
       "      <td id=\"T_6b09e_row6_col5\" class=\"data row6 col5\" >0.0484</td>\n",
       "      <td id=\"T_6b09e_row6_col6\" class=\"data row6 col6\" >0.1412</td>\n",
       "    </tr>\n",
       "    <tr>\n",
       "      <th id=\"T_6b09e_level0_row7\" class=\"row_heading level0 row7\" >7</th>\n",
       "      <td id=\"T_6b09e_row7_col0\" class=\"data row7 col0\" >0.9042</td>\n",
       "      <td id=\"T_6b09e_row7_col1\" class=\"data row7 col1\" >0.0000</td>\n",
       "      <td id=\"T_6b09e_row7_col2\" class=\"data row7 col2\" >0.0250</td>\n",
       "      <td id=\"T_6b09e_row7_col3\" class=\"data row7 col3\" >0.6667</td>\n",
       "      <td id=\"T_6b09e_row7_col4\" class=\"data row7 col4\" >0.0482</td>\n",
       "      <td id=\"T_6b09e_row7_col5\" class=\"data row7 col5\" >0.0415</td>\n",
       "      <td id=\"T_6b09e_row7_col6\" class=\"data row7 col6\" >0.1163</td>\n",
       "    </tr>\n",
       "    <tr>\n",
       "      <th id=\"T_6b09e_level0_row8\" class=\"row_heading level0 row8\" >8</th>\n",
       "      <td id=\"T_6b09e_row8_col0\" class=\"data row8 col0\" >0.9058</td>\n",
       "      <td id=\"T_6b09e_row8_col1\" class=\"data row8 col1\" >0.0000</td>\n",
       "      <td id=\"T_6b09e_row8_col2\" class=\"data row8 col2\" >0.0375</td>\n",
       "      <td id=\"T_6b09e_row8_col3\" class=\"data row8 col3\" >0.8000</td>\n",
       "      <td id=\"T_6b09e_row8_col4\" class=\"data row8 col4\" >0.0716</td>\n",
       "      <td id=\"T_6b09e_row8_col5\" class=\"data row8 col5\" >0.0635</td>\n",
       "      <td id=\"T_6b09e_row8_col6\" class=\"data row8 col6\" >0.1605</td>\n",
       "    </tr>\n",
       "    <tr>\n",
       "      <th id=\"T_6b09e_level0_row9\" class=\"row_heading level0 row9\" >9</th>\n",
       "      <td id=\"T_6b09e_row9_col0\" class=\"data row9 col0\" >0.9052</td>\n",
       "      <td id=\"T_6b09e_row9_col1\" class=\"data row9 col1\" >0.0000</td>\n",
       "      <td id=\"T_6b09e_row9_col2\" class=\"data row9 col2\" >0.0406</td>\n",
       "      <td id=\"T_6b09e_row9_col3\" class=\"data row9 col3\" >0.6842</td>\n",
       "      <td id=\"T_6b09e_row9_col4\" class=\"data row9 col4\" >0.0767</td>\n",
       "      <td id=\"T_6b09e_row9_col5\" class=\"data row9 col5\" >0.0665</td>\n",
       "      <td id=\"T_6b09e_row9_col6\" class=\"data row9 col6\" >0.1510</td>\n",
       "    </tr>\n",
       "    <tr>\n",
       "      <th id=\"T_6b09e_level0_row10\" class=\"row_heading level0 row10\" >Mean</th>\n",
       "      <td id=\"T_6b09e_row10_col0\" class=\"data row10 col0\" >0.9048</td>\n",
       "      <td id=\"T_6b09e_row10_col1\" class=\"data row10 col1\" >0.0000</td>\n",
       "      <td id=\"T_6b09e_row10_col2\" class=\"data row10 col2\" >0.0269</td>\n",
       "      <td id=\"T_6b09e_row10_col3\" class=\"data row10 col3\" >0.6995</td>\n",
       "      <td id=\"T_6b09e_row10_col4\" class=\"data row10 col4\" >0.0518</td>\n",
       "      <td id=\"T_6b09e_row10_col5\" class=\"data row10 col5\" >0.0450</td>\n",
       "      <td id=\"T_6b09e_row10_col6\" class=\"data row10 col6\" >0.1239</td>\n",
       "    </tr>\n",
       "    <tr>\n",
       "      <th id=\"T_6b09e_level0_row11\" class=\"row_heading level0 row11\" >Std</th>\n",
       "      <td id=\"T_6b09e_row11_col0\" class=\"data row11 col0\" >0.0007</td>\n",
       "      <td id=\"T_6b09e_row11_col1\" class=\"data row11 col1\" >0.0000</td>\n",
       "      <td id=\"T_6b09e_row11_col2\" class=\"data row11 col2\" >0.0077</td>\n",
       "      <td id=\"T_6b09e_row11_col3\" class=\"data row11 col3\" >0.0752</td>\n",
       "      <td id=\"T_6b09e_row11_col4\" class=\"data row11 col4\" >0.0143</td>\n",
       "      <td id=\"T_6b09e_row11_col5\" class=\"data row11 col5\" >0.0129</td>\n",
       "      <td id=\"T_6b09e_row11_col6\" class=\"data row11 col6\" >0.0241</td>\n",
       "    </tr>\n",
       "  </tbody>\n",
       "</table>\n"
      ],
      "text/plain": [
       "<pandas.io.formats.style.Styler at 0x27e0ac0f4c0>"
      ]
     },
     "metadata": {},
     "output_type": "display_data"
    },
    {
     "data": {
      "application/vnd.jupyter.widget-view+json": {
       "model_id": "",
       "version_major": 2,
       "version_minor": 0
      },
      "text/plain": [
       "Processing:   0%|          | 0/7 [00:00<?, ?it/s]"
      ]
     },
     "metadata": {},
     "output_type": "display_data"
    },
    {
     "name": "stdout",
     "output_type": "stream",
     "text": [
      "Fitting 10 folds for each of 10 candidates, totalling 100 fits\n",
      "Original model was better than the tuned model, hence it will be returned. NOTE: The display metrics are for the tuned model (not the original one).\n"
     ]
    }
   ],
   "source": [
    "tuned_best_model = tune_model(best_model)"
   ]
  },
  {
   "cell_type": "code",
   "execution_count": null,
   "id": "770d3077",
   "metadata": {},
   "outputs": [],
   "source": []
  },
  {
   "cell_type": "markdown",
   "id": "b57855ee",
   "metadata": {},
   "source": [
    "--- Visualisation ---"
   ]
  },
  {
   "cell_type": "code",
   "execution_count": 45,
   "id": "8a9d69fd",
   "metadata": {},
   "outputs": [
    {
     "name": "stdout",
     "output_type": "stream",
     "text": [
      "Logistic Regression Precision: 0.5714285714285714\n",
      "Decision Tree Precision: 0.2462686567164179\n",
      "Tuned Decision Tree Precision: 0.5\n",
      "KNeighborsClassifier Precision: 0.3674911660777385\n",
      "Tuned KNeighborsClassifier Precision: 0.5\n",
      "GaussianNB Precision: 0.21097417840375587\n",
      "SVM Precision: 0.2\n",
      "Random Forest Precision: 0.4258064516129032\n",
      "Tuned Random Forest Precision: 0.6216216216216216\n",
      "AdaBoost Precision: 0.5232558139534884\n",
      "Tuned AdaBoost Precision: 0.5263157894736842\n",
      "GradientBoosting Precision: 0.55\n",
      "Tuned GradientBoosting Precision: 0.55\n",
      "XGB Precision: 0.4573643410852713\n",
      "Tuned XGB Precision: 0.5333333333333333\n",
      "LGBM Precision: 0.5411764705882353\n",
      "Tuned LGBM Precision: 0.0\n",
      "CatBoost Precision: 0.539906103286385\n",
      "Tuned CatBoost Precision: 1.0\n"
     ]
    }
   ],
   "source": [
    "print('Logistic Regression Precision:', precision_score(y_test, y_pred_lr, zero_division= 0))\n",
    "print('Decision Tree Precision:', precision_score(y_test, y_pred_dt, zero_division= 0))\n",
    "print('Tuned Decision Tree Precision:', precision_score(y_test, y_pred_tuned_dt, zero_division= 0))\n",
    "print('KNeighborsClassifier Precision:', precision_score(y_test, y_pred_knn, zero_division= 0))\n",
    "print('Tuned KNeighborsClassifier Precision:', precision_score(y_test, y_pred_tuned_knn, zero_division= 0))\n",
    "print('GaussianNB Precision:', precision_score(y_test, y_pred_nb, zero_division= 0))\n",
    "print('SVM Precision:', precision_score(y_test, y_pred_svc, zero_division= 0))\n",
    "print('Random Forest Precision:', precision_score(y_test, y_pred_rf, zero_division= 0))\n",
    "print('Tuned Random Forest Precision:', precision_score(y_test, y_pred_tuned_rf, zero_division= 0))\n",
    "print('AdaBoost Precision:', precision_score(y_test, y_pred_ada, zero_division= 0))\n",
    "print('Tuned AdaBoost Precision:', precision_score(y_test, y_pred_tuned_ada, zero_division= 0))\n",
    "print('GradientBoosting Precision:', precision_score(y_test, y_pred_grb, zero_division= 0))\n",
    "print('Tuned GradientBoosting Precision:', precision_score(y_test, y_pred_tuned_grb, zero_division= 0))\n",
    "print('XGB Precision:', precision_score(y_test, y_pred_xgb, zero_division= 0))\n",
    "print('Tuned XGB Precision:', precision_score(y_test, y_pred_tuned_xgb, zero_division= 0))\n",
    "print('LGBM Precision:', precision_score(y_test, y_pred_lgm, zero_division= 0))\n",
    "print('Tuned LGBM Precision:', precision_score(y_test, y_pred_tuned_lgm, zero_division= 0))\n",
    "print('CatBoost Precision:', precision_score(y_test, y_pred_cat, zero_division= 0))\n",
    "print('Tuned CatBoost Precision:', precision_score(y_test, y_pred_tuned_cat, zero_division= 0))"
   ]
  },
  {
   "cell_type": "code",
   "execution_count": 46,
   "id": "9984fadc",
   "metadata": {},
   "outputs": [
    {
     "name": "stdout",
     "output_type": "stream",
     "text": [
      "                                    Model  Precision Score\n",
      "18              Tuned CatBoost Precision:         1.000000\n",
      "8          Tuned Random Forest Precision:         0.621622\n",
      "0          Logistic Regression Precision:         0.571429\n",
      "11            GradientBoosting Precision:         0.550000\n",
      "12      Tuned GradientBoosting Precision:         0.550000\n",
      "15                        LGBM Precision:         0.541176\n",
      "17                    CatBoost Precision:         0.539906\n",
      "14                   Tuned XGB Precision:         0.533333\n",
      "10              Tuned AdaBoost Precision:         0.526316\n",
      "9                     AdaBoost Precision:         0.523256\n",
      "4   Tuned KNeighborsClassifier Precision:         0.500000\n",
      "2          Tuned Decision Tree Precision:         0.500000\n",
      "13                         XGB Precision:         0.457364\n",
      "7                Random Forest Precision:         0.425806\n",
      "3         KNeighborsClassifier Precision:         0.367491\n",
      "1                Decision Tree Precision:         0.246269\n",
      "5                   GaussianNB Precision:         0.210974\n",
      "6                          SVM Precision:         0.200000\n",
      "16                  Tuned LGBM Precision:         0.000000\n"
     ]
    }
   ],
   "source": [
    "precision_scores= {\n",
    "                    'Logistic Regression Precision:': precision_score(y_test, y_pred_lr, zero_division= 0),\n",
    "                    'Decision Tree Precision:': precision_score(y_test, y_pred_dt, zero_division= 0),\n",
    "                    'Tuned Decision Tree Precision:': precision_score(y_test, y_pred_tuned_dt, zero_division= 0),\n",
    "                    'KNeighborsClassifier Precision:': precision_score(y_test, y_pred_knn, zero_division= 0),\n",
    "                    'Tuned KNeighborsClassifier Precision:': precision_score(y_test, y_pred_tuned_knn, zero_division= 0),\n",
    "                    'GaussianNB Precision:': precision_score(y_test, y_pred_nb, zero_division= 0),\n",
    "                    'SVM Precision:': precision_score(y_test, y_pred_svc, zero_division= 0),\n",
    "                    'Random Forest Precision:': precision_score(y_test, y_pred_rf, zero_division= 0),\n",
    "                    'Tuned Random Forest Precision:': precision_score(y_test, y_pred_tuned_rf, zero_division= 0),\n",
    "                    'AdaBoost Precision:': precision_score(y_test, y_pred_ada, zero_division= 0),\n",
    "                    'Tuned AdaBoost Precision:': precision_score(y_test, y_pred_tuned_ada, zero_division= 0),\n",
    "                    'GradientBoosting Precision:': precision_score(y_test, y_pred_grb, zero_division= 0),\n",
    "                    'Tuned GradientBoosting Precision:': precision_score(y_test, y_pred_tuned_grb, zero_division= 0),\n",
    "                    'XGB Precision:': precision_score(y_test, y_pred_xgb, zero_division= 0),\n",
    "                    'Tuned XGB Precision:': precision_score(y_test, y_pred_tuned_xgb, zero_division= 0),\n",
    "                    'LGBM Precision:': precision_score(y_test, y_pred_lgm, zero_division= 0),\n",
    "                    'Tuned LGBM Precision:': precision_score(y_test, y_pred_tuned_lgm, zero_division= 0),\n",
    "                    'CatBoost Precision:': precision_score(y_test, y_pred_cat, zero_division= 0),\n",
    "                    'Tuned CatBoost Precision:': precision_score(y_test, y_pred_tuned_cat, zero_division= 0)\n",
    "                  }\n",
    "\n",
    "ml_precision= pd.DataFrame(list(precision_scores.items()), columns= ['Model', 'Precision Score'])\n",
    "ml_precision= ml_precision.sort_values(by= 'Precision Score', ascending=False)\n",
    "print(ml_precision)"
   ]
  },
  {
   "cell_type": "code",
   "execution_count": 47,
   "id": "e4dfa440",
   "metadata": {},
   "outputs": [
    {
     "name": "stdout",
     "output_type": "stream",
     "text": [
      "                                   Model  Accuracy Score\n",
      "0          Logistic Regression Accuracy:        0.906565\n",
      "12      Tuned GradientBoosting Accuracy:        0.905398\n",
      "11            GradientBoosting Accuracy:        0.905398\n",
      "17                    CatBoost Accuracy:        0.905080\n",
      "10              Tuned AdaBoost Accuracy:        0.904762\n",
      "15                        LGBM Accuracy:        0.904762\n",
      "14                   Tuned XGB Accuracy:        0.904550\n",
      "9                     AdaBoost Accuracy:        0.904550\n",
      "8          Tuned Random Forest Accuracy:        0.904232\n",
      "18              Tuned CatBoost Accuracy:        0.903807\n",
      "4   Tuned KNeighborsClassifier Accuracy:        0.903277\n",
      "16                  Tuned LGBM Accuracy:        0.903277\n",
      "2          Tuned Decision Tree Accuracy:        0.903277\n",
      "6                          SVM Accuracy:        0.902004\n",
      "13                         XGB Accuracy:        0.900944\n",
      "7                Random Forest Accuracy:        0.900838\n",
      "3         KNeighborsClassifier Accuracy:        0.895323\n",
      "1                Decision Tree Accuracy:        0.845583\n",
      "5                   GaussianNB Accuracy:        0.694347\n"
     ]
    }
   ],
   "source": [
    "accuracy_scores= {\n",
    "                    'Logistic Regression Accuracy:': accuracy_score(y_test, y_pred_lr),\n",
    "                    'Decision Tree Accuracy:': accuracy_score(y_test, y_pred_dt),\n",
    "                    'Tuned Decision Tree Accuracy:': accuracy_score(y_test, y_pred_tuned_dt),\n",
    "                    'KNeighborsClassifier Accuracy:': accuracy_score(y_test, y_pred_knn),\n",
    "                    'Tuned KNeighborsClassifier Accuracy:': accuracy_score(y_test, y_pred_tuned_knn),\n",
    "                    'GaussianNB Accuracy:': accuracy_score(y_test, y_pred_nb),\n",
    "                    'SVM Accuracy:': accuracy_score(y_test, y_pred_svc),\n",
    "                    'Random Forest Accuracy:': accuracy_score(y_test, y_pred_rf),\n",
    "                    'Tuned Random Forest Accuracy:': accuracy_score(y_test, y_pred_tuned_rf),\n",
    "                    'AdaBoost Accuracy:': accuracy_score(y_test, y_pred_ada),\n",
    "                    'Tuned AdaBoost Accuracy:': accuracy_score(y_test, y_pred_tuned_ada),\n",
    "                    'GradientBoosting Accuracy:': accuracy_score(y_test, y_pred_grb),\n",
    "                    'Tuned GradientBoosting Accuracy:': accuracy_score(y_test, y_pred_tuned_grb),\n",
    "                    'XGB Accuracy:': accuracy_score(y_test, y_pred_xgb),\n",
    "                    'Tuned XGB Accuracy:': accuracy_score(y_test, y_pred_tuned_xgb),\n",
    "                    'LGBM Accuracy:': accuracy_score(y_test, y_pred_lgm),\n",
    "                    'Tuned LGBM Accuracy:': accuracy_score(y_test, y_pred_tuned_lgm),\n",
    "                    'CatBoost Accuracy:': accuracy_score(y_test, y_pred_cat),\n",
    "                    'Tuned CatBoost Accuracy:': accuracy_score(y_test, y_pred_tuned_cat)\n",
    "                  }\n",
    "\n",
    "ml_accuracy= pd.DataFrame(list(accuracy_scores.items()), columns= ['Model', 'Accuracy Score'])\n",
    "ml_accuracy= ml_accuracy.sort_values(by= 'Accuracy Score', ascending=False)\n",
    "print(ml_accuracy)"
   ]
  },
  {
   "cell_type": "code",
   "execution_count": 48,
   "id": "6585b742",
   "metadata": {},
   "outputs": [
    {
     "name": "stdout",
     "output_type": "stream",
     "text": [
      "                              Model  AUC Score\n",
      "12      Tuned GradientBoosting AUC:   0.855062\n",
      "11            GradientBoosting AUC:   0.855062\n",
      "0          Logistic Regression AUC:   0.854503\n",
      "10              Tuned AdaBoost AUC:   0.853270\n",
      "9                     AdaBoost AUC:   0.853147\n",
      "14                   Tuned XGB AUC:   0.851647\n",
      "8          Tuned Random Forest AUC:   0.849896\n",
      "15                        LGBM AUC:   0.848601\n",
      "17                    CatBoost AUC:   0.846716\n",
      "16                  Tuned LGBM AUC:   0.842403\n",
      "18              Tuned CatBoost AUC:   0.840358\n",
      "13                         XGB AUC:   0.832983\n",
      "7                Random Forest AUC:   0.820679\n",
      "4   Tuned KNeighborsClassifier AUC:   0.808641\n",
      "5                   GaussianNB AUC:   0.805611\n",
      "2          Tuned Decision Tree AUC:   0.799415\n",
      "3         KNeighborsClassifier AUC:   0.706561\n",
      "6                          SVM AUC:   0.697279\n",
      "1                Decision Tree AUC:   0.596797\n"
     ]
    }
   ],
   "source": [
    "auc_scores= {\n",
    "                    'Logistic Regression AUC:': roc_auc_score(y_test, y_pred_prob_lr),\n",
    "                    'Decision Tree AUC:': roc_auc_score(y_test, y_pred_prob_dt),\n",
    "                    'Tuned Decision Tree AUC:': roc_auc_score(y_test, y_pred_prob_tuned_dt),\n",
    "                    'KNeighborsClassifier AUC:': roc_auc_score(y_test, y_pred_prob_knn),\n",
    "                    'Tuned KNeighborsClassifier AUC:': roc_auc_score(y_test, y_pred_prob_tuned_knn),\n",
    "                    'GaussianNB AUC:': roc_auc_score(y_test, y_pred_prob_nb),\n",
    "                    'SVM AUC:': roc_auc_score(y_test, y_pred_prob_svc),\n",
    "                    'Random Forest AUC:': roc_auc_score(y_test, y_pred_prob_rf),\n",
    "                    'Tuned Random Forest AUC:': roc_auc_score(y_test, y_pred_prob_tuned_rf),\n",
    "                    'AdaBoost AUC:': roc_auc_score(y_test, y_pred_prob_ada),\n",
    "                    'Tuned AdaBoost AUC:': roc_auc_score(y_test, y_pred_prob_tuned_ada),\n",
    "                    'GradientBoosting AUC:': roc_auc_score(y_test, y_pred_prob_grb),\n",
    "                    'Tuned GradientBoosting AUC:': roc_auc_score(y_test, y_pred_prob_tuned_grb),\n",
    "                    'XGB AUC:': roc_auc_score(y_test, y_pred_prob_xgb),\n",
    "                    'Tuned XGB AUC:': roc_auc_score(y_test, y_pred_prob_tuned_xgb),\n",
    "                    'LGBM AUC:': roc_auc_score(y_test, y_pred_prob_lgm),\n",
    "                    'Tuned LGBM AUC:': roc_auc_score(y_test, y_pred_prob_tuned_lgm),\n",
    "                    'CatBoost AUC:': roc_auc_score(y_test, y_pred_prob_cat),\n",
    "                    'Tuned CatBoost AUC:': roc_auc_score(y_test, y_pred_prob_tuned_cat)\n",
    "                  }\n",
    "\n",
    "ml_auc= pd.DataFrame(list(auc_scores.items()), columns= ['Model', 'AUC Score'])\n",
    "ml_auc= ml_auc.sort_values(by= 'AUC Score', ascending=False)\n",
    "print(ml_auc)"
   ]
  },
  {
   "cell_type": "code",
   "execution_count": null,
   "id": "12b7cef4",
   "metadata": {},
   "outputs": [],
   "source": []
  },
  {
   "cell_type": "code",
   "execution_count": null,
   "id": "f482b326",
   "metadata": {},
   "outputs": [],
   "source": []
  },
  {
   "cell_type": "code",
   "execution_count": null,
   "id": "03a46620",
   "metadata": {},
   "outputs": [],
   "source": []
  },
  {
   "cell_type": "code",
   "execution_count": null,
   "id": "5da4c5e1",
   "metadata": {},
   "outputs": [],
   "source": []
  },
  {
   "cell_type": "code",
   "execution_count": 49,
   "id": "209b0ea5",
   "metadata": {},
   "outputs": [
    {
     "name": "stdout",
     "output_type": "stream",
     "text": [
      "Logistic Regression Precision: 0.5714285714285714\n",
      "Decision Tree Precision: 0.2462686567164179\n",
      "Tuned Decision Tree Precision: 0.5\n"
     ]
    },
    {
     "data": {
      "image/png": "[encoded data removed]",
      "text/plain": [
       "<Figure size 1080x360 with 6 Axes>"
      ]
     },
     "metadata": {
      "needs_background": "light"
     },
     "output_type": "display_data"
    }
   ],
   "source": [
    "fig, axes= plt.subplots(1, 3, figsize= (15, 5))\n",
    "\n",
    "print('Logistic Regression Precision:', precision_score(y_test, y_pred_lr, zero_division= 0))\n",
    "print('Decision Tree Precision:', precision_score(y_test, y_pred_dt, zero_division= 0))\n",
    "print('Tuned Decision Tree Precision:', precision_score(y_test, y_pred_tuned_dt, zero_division= 0))\n",
    "\n",
    "dcm_lr.plot(ax= axes[0])\n",
    "axes[0].set_title('Confusion Matrix for Logistic Regression')\n",
    "axes[0].grid(linewidth= 0)\n",
    "\n",
    "dcm_dt.plot(ax= axes[1])\n",
    "axes[1].set_title('Confusion Matrix for Decision Tree')\n",
    "axes[1].grid(linewidth= 0)\n",
    "\n",
    "dcm_knn.plot(ax= axes[2])\n",
    "axes[2].set_title('Confusion Matrix for Tuned Decision Tree')\n",
    "axes[2].grid(linewidth= 0)\n",
    "\n",
    "plt.tight_layout()\n",
    "plt.show()"
   ]
  },
  {
   "cell_type": "code",
   "execution_count": 50,
   "id": "a7f99f97",
   "metadata": {},
   "outputs": [
    {
     "name": "stdout",
     "output_type": "stream",
     "text": [
      "KNeighborsClassifier Precision: 0.3674911660777385\n",
      "Tuned KNeighborsClassifier Precision: 0.5\n",
      "GaussianNB Precision: 0.21097417840375587\n"
     ]
    },
    {
     "data": {
      "image/png": "[encoded data removed]",
      "text/plain": [
       "<Figure size 1080x360 with 6 Axes>"
      ]
     },
     "metadata": {
      "needs_background": "light"
     },
     "output_type": "display_data"
    }
   ],
   "source": [
    "fig, axes= plt.subplots(1, 3, figsize= (15, 5))\n",
    "print('KNeighborsClassifier Precision:', precision_score(y_test, y_pred_knn, zero_division= 0))\n",
    "print('Tuned KNeighborsClassifier Precision:', precision_score(y_test, y_pred_tuned_knn, zero_division= 0))\n",
    "print('GaussianNB Precision:', precision_score(y_test, y_pred_nb, zero_division= 0))\n",
    "\n",
    "dcm_knn.plot(ax= axes[0])\n",
    "axes[0].set_title('Confusion Matrix for KNeighborsClassifier')\n",
    "axes[0].grid(linewidth= 0)\n",
    "\n",
    "dcm_tuned_knn.plot(ax= axes[1])\n",
    "axes[1].set_title('Confusion Matrix for Tuned KNeighborsClassifier')\n",
    "axes[1].grid(linewidth= 0)\n",
    "\n",
    "dcm_nb.plot(ax= axes[2])\n",
    "axes[2].set_title('Confusion Matrix for GaussianNB')\n",
    "axes[2].grid(linewidth= 0)\n",
    "\n",
    "plt.tight_layout()\n",
    "plt.show()"
   ]
  },
  {
   "cell_type": "code",
   "execution_count": 51,
   "id": "25317f74",
   "metadata": {},
   "outputs": [
    {
     "name": "stdout",
     "output_type": "stream",
     "text": [
      "SVM Precision: 0.2\n",
      "Random Forest Precision: 0.4258064516129032\n",
      "Tuned Random Forest Precision: 0.6216216216216216\n"
     ]
    },
    {
     "data": {
      "image/png": "[encoded data removed]",
      "text/plain": [
       "<Figure size 1080x360 with 6 Axes>"
      ]
     },
     "metadata": {
      "needs_background": "light"
     },
     "output_type": "display_data"
    }
   ],
   "source": [
    "fig, axes= plt.subplots(1, 3, figsize= (15, 5))\n",
    "print('SVM Precision:', precision_score(y_test, y_pred_svc, zero_division=0))\n",
    "print('Random Forest Precision:', precision_score(y_test, y_pred_rf, zero_division=0))\n",
    "print('Tuned Random Forest Precision:', precision_score(y_test, y_pred_tuned_rf, zero_division=0))\n",
    "\n",
    "dcm_svc.plot(ax= axes[0])\n",
    "axes[0].set_title('Confusion Matrix for SVM')\n",
    "axes[0].grid(linewidth= 0)\n",
    "\n",
    "dcm_rf.plot(ax= axes[1])\n",
    "axes[1].set_title('Confusion Matrix for Random Forest')\n",
    "axes[1].grid(linewidth= 0)\n",
    "\n",
    "dcm_tuned_rf.plot(ax= axes[2])\n",
    "axes[2].set_title('Confusion Matrix for Tuned Random Forest')\n",
    "axes[2].grid(linewidth= 0)\n",
    "\n",
    "plt.tight_layout()\n",
    "plt.show()"
   ]
  },
  {
   "cell_type": "code",
   "execution_count": 52,
   "id": "337608d0",
   "metadata": {},
   "outputs": [
    {
     "name": "stdout",
     "output_type": "stream",
     "text": [
      "AdaBoost Precision: 0.5232558139534884\n",
      "Tuned AdaBoost Precision: 0.5263157894736842\n",
      "GradientBoosting Precision: 0.55\n"
     ]
    },
    {
     "data": {
      "image/png": "[encoded data removed]",
      "text/plain": [
       "<Figure size 1080x360 with 6 Axes>"
      ]
     },
     "metadata": {
      "needs_background": "light"
     },
     "output_type": "display_data"
    }
   ],
   "source": [
    "fig, axes= plt.subplots(1, 3, figsize= (15, 5))\n",
    "\n",
    "print('AdaBoost Precision:', precision_score(y_test, y_pred_ada, zero_division=0))\n",
    "print('Tuned AdaBoost Precision:', precision_score(y_test, y_pred_tuned_ada, zero_division=0))\n",
    "print('GradientBoosting Precision:', precision_score(y_test, y_pred_grb, zero_division=0))\n",
    "\n",
    "dcm_ada.plot(ax= axes[0])\n",
    "axes[0].set_title('Confusion Matrix for AdaBoost')\n",
    "axes[0].grid(linewidth= 0)\n",
    "\n",
    "dcm_tuned_ada.plot(ax= axes[1])\n",
    "axes[1].set_title('Confusion Matrix for Tuned AdaBoost')\n",
    "axes[1].grid(linewidth= 0)\n",
    "\n",
    "dcm_grb.plot(ax= axes[2])\n",
    "axes[2].set_title('Confusion Matrix for GradientBoosting')\n",
    "axes[2].grid(linewidth= 0)\n",
    "\n",
    "plt.tight_layout()\n",
    "plt.show()"
   ]
  },
  {
   "cell_type": "code",
   "execution_count": 53,
   "id": "bda41d9d",
   "metadata": {},
   "outputs": [
    {
     "name": "stdout",
     "output_type": "stream",
     "text": [
      "Tuned GradientBoosting Precision: 0.55\n",
      "XGB Precision: 0.4573643410852713\n",
      "Tuned XGB Precision: 0.5333333333333333\n"
     ]
    },
    {
     "data": {
      "image/png": "[encoded data removed]",
      "text/plain": [
       "<Figure size 1080x360 with 6 Axes>"
      ]
     },
     "metadata": {
      "needs_background": "light"
     },
     "output_type": "display_data"
    }
   ],
   "source": [
    "fig, axes= plt.subplots(1, 3, figsize= (15, 5))\n",
    "\n",
    "print('Tuned GradientBoosting Precision:', precision_score(y_test, y_pred_tuned_grb, zero_division=0))\n",
    "print('XGB Precision:', precision_score(y_test, y_pred_xgb, zero_division=0))\n",
    "print('Tuned XGB Precision:', precision_score(y_test, y_pred_tuned_xgb, zero_division=0))\n",
    "\n",
    "dcm_tuned_grb.plot(ax= axes[0])\n",
    "axes[0].set_title('Confusion Matrix for Tuned GradientBoosting')\n",
    "axes[0].grid(linewidth= 0)\n",
    "\n",
    "dcm_xgb.plot(ax= axes[1])\n",
    "axes[1].set_title('Confusion Matrix for XGB')\n",
    "axes[1].grid(linewidth= 0)\n",
    "\n",
    "dcm_tuned_xgb.plot(ax= axes[2])\n",
    "axes[2].set_title('Confusion Matrix for Tuned XGB')\n",
    "axes[2].grid(linewidth= 0)\n",
    "\n",
    "plt.tight_layout()\n",
    "plt.show()"
   ]
  },
  {
   "cell_type": "code",
   "execution_count": 54,
   "id": "722d4360",
   "metadata": {},
   "outputs": [
    {
     "name": "stdout",
     "output_type": "stream",
     "text": [
      "LGBM Precision: 0.5411764705882353\n",
      "Tuned LGBM Precision: 0.0\n",
      "CatBoost Precision: 0.539906103286385\n",
      "Tuned CatBoost Precision: 1.0\n"
     ]
    },
    {
     "data": {
      "image/png": "[encoded data removed]",
      "text/plain": [
       "<Figure size 1080x360 with 8 Axes>"
      ]
     },
     "metadata": {
      "needs_background": "light"
     },
     "output_type": "display_data"
    }
   ],
   "source": [
    "fig, axes= plt.subplots(1, 4, figsize= (15, 5))\n",
    "\n",
    "print('LGBM Precision:', precision_score(y_test, y_pred_lgm, zero_division=0))\n",
    "print('Tuned LGBM Precision:', precision_score(y_test, y_pred_tuned_lgm, zero_division=0))\n",
    "print('CatBoost Precision:', precision_score(y_test, y_pred_cat, zero_division=0))\n",
    "print('Tuned CatBoost Precision:', precision_score(y_test, y_pred_tuned_cat, zero_division=0))\n",
    "\n",
    "dcm_lgm.plot(ax= axes[0])\n",
    "axes[0].set_title('Confusion Matrix for LGBM')\n",
    "axes[0].grid(linewidth= 0)\n",
    "\n",
    "dcm_tuned_lgm.plot(ax= axes[1])\n",
    "axes[1].set_title('Confusion Matrix for Tuned LGBM')\n",
    "axes[1].grid(linewidth= 0)\n",
    "\n",
    "dcm_cat.plot(ax= axes[2])\n",
    "axes[2].set_title('Confusion Matrix for CatBoost')\n",
    "axes[2].grid(linewidth= 0)\n",
    "\n",
    "dcm_tuned_cat.plot(ax= axes[3])\n",
    "axes[3].set_title('Confusion Matrix for CatBoost')\n",
    "axes[3].grid(linewidth= 0)\n",
    "\n",
    "plt.tight_layout()\n",
    "plt.show()"
   ]
  },
  {
   "cell_type": "code",
   "execution_count": null,
   "id": "801130ed",
   "metadata": {},
   "outputs": [],
   "source": []
  },
  {
   "cell_type": "code",
   "execution_count": null,
   "id": "38ce1a41",
   "metadata": {},
   "outputs": [],
   "source": []
  },
  {
   "cell_type": "code",
   "execution_count": null,
   "id": "73786909",
   "metadata": {},
   "outputs": [],
   "source": []
  },
  {
   "cell_type": "code",
   "execution_count": null,
   "id": "d6107981",
   "metadata": {},
   "outputs": [],
   "source": []
  }
 ],
 "metadata": {
  "kernelspec": {
   "display_name": "Python 3 (ipykernel)",
   "language": "python",
   "name": "python3"
  },
  "language_info": {
   "codemirror_mode": {
    "name": "ipython",
    "version": 3
   },
   "file_extension": ".py",
   "mimetype": "text/x-python",
   "name": "python",
   "nbconvert_exporter": "python",
   "pygments_lexer": "ipython3",
   "version": "3.9.12"
  }
 },
 "nbformat": 4,
 "nbformat_minor": 5
}
