{
 "cells": [
  {
   "cell_type": "code",
   "execution_count": 1,
   "id": "f807d5eb",
   "metadata": {},
   "outputs": [],
   "source": [
    "import pandas as pd\n",
    "import numpy as np\n",
    "import seaborn as sns\n",
    "import matplotlib.pyplot as plt\n",
    "\n",
    "df= pd.read_csv('C://Users//User//Desktop//MSc Westminster//Dissertation//DataSets//Heart_Attack_Prediction.csv')"
   ]
  },
  {
   "cell_type": "code",
   "execution_count": 2,
   "id": "d77e531a",
   "metadata": {},
   "outputs": [],
   "source": [
    "columns=df.columns\n",
    "\n",
    "for column in columns:\n",
    "    if df[column].dtype==\"int32\":\n",
    "        df[column]=df[column].astype(\"int16\")\n",
    "    elif df[column].dtype==\"float64\":\n",
    "        df[column]=df[column].astype(\"float16\")\n",
    "    elif df[column].dtype==\"object\":\n",
    "        df[column]=df[column].astype(\"category\")"
   ]
  },
  {
   "cell_type": "code",
   "execution_count": 3,
   "id": "bfa3c756",
   "metadata": {},
   "outputs": [],
   "source": [
    "df['Sex']= df['Sex'].map({'Female': 0, 'Male': 1})\n",
    "df['Sex']= pd.to_numeric(df['Sex'])\n",
    "\n",
    "df['Diet']= df['Diet'].map({'Healthy': 0, 'Average': 1, 'Unhealthy':2})\n",
    "df['Diet']= pd.to_numeric(df['Diet'])\n",
    "\n",
    "df[['HBP', 'LBP']]= df['Blood Pressure'].str.split('/', expand= True)\n",
    "df['HBP']= pd.to_numeric(df['HBP'])\n",
    "df['LBP']= pd.to_numeric(df['LBP'])\n",
    "\n",
    "df['Diabetes'] = df['Diabetes'].map({0: 1, 1: 0})\n",
    "\n",
    "df['Exercise Hours Per Week']= round(df['Exercise Hours Per Week'], 0)\n",
    "\n",
    "df['Sedentary Hours Per Day']= round(df['Sedentary Hours Per Day'], 0)\n",
    "\n",
    "df['Income']= round(df['Income'], 0)\n",
    "\n",
    "df['BMI']= round(df['BMI'], 0)\n",
    "\n",
    "df = df.drop(columns=['Patient ID', 'Blood Pressure', 'Country', 'Continent', 'Hemisphere'])"
   ]
  },
  {
   "cell_type": "code",
   "execution_count": 4,
   "id": "e882eadd",
   "metadata": {},
   "outputs": [
    {
     "name": "stdout",
     "output_type": "stream",
     "text": [
      "<class 'pandas.core.frame.DataFrame'>\n",
      "RangeIndex: 8763 entries, 0 to 8762\n",
      "Data columns (total 23 columns):\n",
      " #   Column                           Non-Null Count  Dtype  \n",
      "---  ------                           --------------  -----  \n",
      " 0   Age                              8763 non-null   int64  \n",
      " 1   Sex                              8763 non-null   int64  \n",
      " 2   Cholesterol                      8763 non-null   int64  \n",
      " 3   Heart Rate                       8763 non-null   int64  \n",
      " 4   Diabetes                         8763 non-null   int64  \n",
      " 5   Family History                   8763 non-null   int64  \n",
      " 6   Smoking                          8763 non-null   int64  \n",
      " 7   Obesity                          8763 non-null   int64  \n",
      " 8   Alcohol Consumption              8763 non-null   int64  \n",
      " 9   Exercise Hours Per Week          8763 non-null   float16\n",
      " 10  Diet                             8763 non-null   int64  \n",
      " 11  Previous Heart Problems          8763 non-null   int64  \n",
      " 12  Medication Use                   8763 non-null   int64  \n",
      " 13  Stress Level                     8763 non-null   int64  \n",
      " 14  Sedentary Hours Per Day          8763 non-null   float16\n",
      " 15  Income                           8763 non-null   int64  \n",
      " 16  BMI                              8763 non-null   float16\n",
      " 17  Triglycerides                    8763 non-null   int64  \n",
      " 18  Physical Activity Days Per Week  8763 non-null   int64  \n",
      " 19  Sleep Hours Per Day              8763 non-null   int64  \n",
      " 20  Heart Attack Risk                8763 non-null   int64  \n",
      " 21  HBP                              8763 non-null   int64  \n",
      " 22  LBP                              8763 non-null   int64  \n",
      "dtypes: float16(3), int64(20)\n",
      "memory usage: 1.4 MB\n"
     ]
    }
   ],
   "source": [
    "df.info()"
   ]
  },
  {
   "cell_type": "code",
   "execution_count": 5,
   "id": "6be2a80d",
   "metadata": {
    "scrolled": false
   },
   "outputs": [
    {
     "data": {
      "text/html": [
       "<div>\n",
       "<style scoped>\n",
       "    .dataframe tbody tr th:only-of-type {\n",
       "        vertical-align: middle;\n",
       "    }\n",
       "\n",
       "    .dataframe tbody tr th {\n",
       "        vertical-align: top;\n",
       "    }\n",
       "\n",
       "    .dataframe thead th {\n",
       "        text-align: right;\n",
       "    }\n",
       "</style>\n",
       "<table border=\"1\" class=\"dataframe\">\n",
       "  <thead>\n",
       "    <tr style=\"text-align: right;\">\n",
       "      <th></th>\n",
       "      <th>count</th>\n",
       "      <th>mean</th>\n",
       "      <th>std</th>\n",
       "      <th>min</th>\n",
       "      <th>25%</th>\n",
       "      <th>50%</th>\n",
       "      <th>75%</th>\n",
       "      <th>max</th>\n",
       "    </tr>\n",
       "  </thead>\n",
       "  <tbody>\n",
       "    <tr>\n",
       "      <th>Age</th>\n",
       "      <td>8763.0</td>\n",
       "      <td>5.370798e+01</td>\n",
       "      <td>21.249509</td>\n",
       "      <td>18.0</td>\n",
       "      <td>35.0</td>\n",
       "      <td>54.0</td>\n",
       "      <td>72.0</td>\n",
       "      <td>90.0</td>\n",
       "    </tr>\n",
       "    <tr>\n",
       "      <th>Sex</th>\n",
       "      <td>8763.0</td>\n",
       "      <td>6.973639e-01</td>\n",
       "      <td>0.459425</td>\n",
       "      <td>0.0</td>\n",
       "      <td>0.0</td>\n",
       "      <td>1.0</td>\n",
       "      <td>1.0</td>\n",
       "      <td>1.0</td>\n",
       "    </tr>\n",
       "    <tr>\n",
       "      <th>Cholesterol</th>\n",
       "      <td>8763.0</td>\n",
       "      <td>2.598772e+02</td>\n",
       "      <td>80.863276</td>\n",
       "      <td>120.0</td>\n",
       "      <td>192.0</td>\n",
       "      <td>259.0</td>\n",
       "      <td>330.0</td>\n",
       "      <td>400.0</td>\n",
       "    </tr>\n",
       "    <tr>\n",
       "      <th>Heart Rate</th>\n",
       "      <td>8763.0</td>\n",
       "      <td>7.502168e+01</td>\n",
       "      <td>20.550948</td>\n",
       "      <td>40.0</td>\n",
       "      <td>57.0</td>\n",
       "      <td>75.0</td>\n",
       "      <td>93.0</td>\n",
       "      <td>110.0</td>\n",
       "    </tr>\n",
       "    <tr>\n",
       "      <th>Diabetes</th>\n",
       "      <td>8763.0</td>\n",
       "      <td>3.477120e-01</td>\n",
       "      <td>0.476271</td>\n",
       "      <td>0.0</td>\n",
       "      <td>0.0</td>\n",
       "      <td>0.0</td>\n",
       "      <td>1.0</td>\n",
       "      <td>1.0</td>\n",
       "    </tr>\n",
       "    <tr>\n",
       "      <th>Family History</th>\n",
       "      <td>8763.0</td>\n",
       "      <td>4.929819e-01</td>\n",
       "      <td>0.499979</td>\n",
       "      <td>0.0</td>\n",
       "      <td>0.0</td>\n",
       "      <td>0.0</td>\n",
       "      <td>1.0</td>\n",
       "      <td>1.0</td>\n",
       "    </tr>\n",
       "    <tr>\n",
       "      <th>Smoking</th>\n",
       "      <td>8763.0</td>\n",
       "      <td>8.968390e-01</td>\n",
       "      <td>0.304186</td>\n",
       "      <td>0.0</td>\n",
       "      <td>1.0</td>\n",
       "      <td>1.0</td>\n",
       "      <td>1.0</td>\n",
       "      <td>1.0</td>\n",
       "    </tr>\n",
       "    <tr>\n",
       "      <th>Obesity</th>\n",
       "      <td>8763.0</td>\n",
       "      <td>5.014265e-01</td>\n",
       "      <td>0.500026</td>\n",
       "      <td>0.0</td>\n",
       "      <td>0.0</td>\n",
       "      <td>1.0</td>\n",
       "      <td>1.0</td>\n",
       "      <td>1.0</td>\n",
       "    </tr>\n",
       "    <tr>\n",
       "      <th>Alcohol Consumption</th>\n",
       "      <td>8763.0</td>\n",
       "      <td>5.980828e-01</td>\n",
       "      <td>0.490313</td>\n",
       "      <td>0.0</td>\n",
       "      <td>0.0</td>\n",
       "      <td>1.0</td>\n",
       "      <td>1.0</td>\n",
       "      <td>1.0</td>\n",
       "    </tr>\n",
       "    <tr>\n",
       "      <th>Exercise Hours Per Week</th>\n",
       "      <td>8763.0</td>\n",
       "      <td>inf</td>\n",
       "      <td>5.796875</td>\n",
       "      <td>0.0</td>\n",
       "      <td>5.0</td>\n",
       "      <td>10.0</td>\n",
       "      <td>15.0</td>\n",
       "      <td>20.0</td>\n",
       "    </tr>\n",
       "    <tr>\n",
       "      <th>Diet</th>\n",
       "      <td>8763.0</td>\n",
       "      <td>9.921260e-01</td>\n",
       "      <td>0.817134</td>\n",
       "      <td>0.0</td>\n",
       "      <td>0.0</td>\n",
       "      <td>1.0</td>\n",
       "      <td>2.0</td>\n",
       "      <td>2.0</td>\n",
       "    </tr>\n",
       "    <tr>\n",
       "      <th>Previous Heart Problems</th>\n",
       "      <td>8763.0</td>\n",
       "      <td>4.958348e-01</td>\n",
       "      <td>0.500011</td>\n",
       "      <td>0.0</td>\n",
       "      <td>0.0</td>\n",
       "      <td>0.0</td>\n",
       "      <td>1.0</td>\n",
       "      <td>1.0</td>\n",
       "    </tr>\n",
       "    <tr>\n",
       "      <th>Medication Use</th>\n",
       "      <td>8763.0</td>\n",
       "      <td>4.983453e-01</td>\n",
       "      <td>0.500026</td>\n",
       "      <td>0.0</td>\n",
       "      <td>0.0</td>\n",
       "      <td>0.0</td>\n",
       "      <td>1.0</td>\n",
       "      <td>1.0</td>\n",
       "    </tr>\n",
       "    <tr>\n",
       "      <th>Stress Level</th>\n",
       "      <td>8763.0</td>\n",
       "      <td>5.469702e+00</td>\n",
       "      <td>2.859622</td>\n",
       "      <td>1.0</td>\n",
       "      <td>3.0</td>\n",
       "      <td>5.0</td>\n",
       "      <td>8.0</td>\n",
       "      <td>10.0</td>\n",
       "    </tr>\n",
       "    <tr>\n",
       "      <th>Sedentary Hours Per Day</th>\n",
       "      <td>8763.0</td>\n",
       "      <td>5.992188e+00</td>\n",
       "      <td>3.490234</td>\n",
       "      <td>0.0</td>\n",
       "      <td>3.0</td>\n",
       "      <td>6.0</td>\n",
       "      <td>9.0</td>\n",
       "      <td>12.0</td>\n",
       "    </tr>\n",
       "    <tr>\n",
       "      <th>Income</th>\n",
       "      <td>8763.0</td>\n",
       "      <td>1.582632e+05</td>\n",
       "      <td>80575.190806</td>\n",
       "      <td>20062.0</td>\n",
       "      <td>88310.0</td>\n",
       "      <td>157866.0</td>\n",
       "      <td>227749.0</td>\n",
       "      <td>299954.0</td>\n",
       "    </tr>\n",
       "    <tr>\n",
       "      <th>BMI</th>\n",
       "      <td>8763.0</td>\n",
       "      <td>inf</td>\n",
       "      <td>6.328125</td>\n",
       "      <td>18.0</td>\n",
       "      <td>23.0</td>\n",
       "      <td>29.0</td>\n",
       "      <td>34.0</td>\n",
       "      <td>40.0</td>\n",
       "    </tr>\n",
       "    <tr>\n",
       "      <th>Triglycerides</th>\n",
       "      <td>8763.0</td>\n",
       "      <td>4.176771e+02</td>\n",
       "      <td>223.748137</td>\n",
       "      <td>30.0</td>\n",
       "      <td>225.5</td>\n",
       "      <td>417.0</td>\n",
       "      <td>612.0</td>\n",
       "      <td>800.0</td>\n",
       "    </tr>\n",
       "    <tr>\n",
       "      <th>Physical Activity Days Per Week</th>\n",
       "      <td>8763.0</td>\n",
       "      <td>3.489672e+00</td>\n",
       "      <td>2.282687</td>\n",
       "      <td>0.0</td>\n",
       "      <td>2.0</td>\n",
       "      <td>3.0</td>\n",
       "      <td>5.0</td>\n",
       "      <td>7.0</td>\n",
       "    </tr>\n",
       "    <tr>\n",
       "      <th>Sleep Hours Per Day</th>\n",
       "      <td>8763.0</td>\n",
       "      <td>7.023508e+00</td>\n",
       "      <td>1.988473</td>\n",
       "      <td>4.0</td>\n",
       "      <td>5.0</td>\n",
       "      <td>7.0</td>\n",
       "      <td>9.0</td>\n",
       "      <td>10.0</td>\n",
       "    </tr>\n",
       "    <tr>\n",
       "      <th>Heart Attack Risk</th>\n",
       "      <td>8763.0</td>\n",
       "      <td>3.582107e-01</td>\n",
       "      <td>0.479502</td>\n",
       "      <td>0.0</td>\n",
       "      <td>0.0</td>\n",
       "      <td>0.0</td>\n",
       "      <td>1.0</td>\n",
       "      <td>1.0</td>\n",
       "    </tr>\n",
       "    <tr>\n",
       "      <th>HBP</th>\n",
       "      <td>8763.0</td>\n",
       "      <td>1.350757e+02</td>\n",
       "      <td>26.349976</td>\n",
       "      <td>90.0</td>\n",
       "      <td>112.0</td>\n",
       "      <td>135.0</td>\n",
       "      <td>158.0</td>\n",
       "      <td>180.0</td>\n",
       "    </tr>\n",
       "    <tr>\n",
       "      <th>LBP</th>\n",
       "      <td>8763.0</td>\n",
       "      <td>8.515611e+01</td>\n",
       "      <td>14.676565</td>\n",
       "      <td>60.0</td>\n",
       "      <td>72.0</td>\n",
       "      <td>85.0</td>\n",
       "      <td>98.0</td>\n",
       "      <td>110.0</td>\n",
       "    </tr>\n",
       "  </tbody>\n",
       "</table>\n",
       "</div>"
      ],
      "text/plain": [
       "                                  count          mean           std      min  \\\n",
       "Age                              8763.0  5.370798e+01     21.249509     18.0   \n",
       "Sex                              8763.0  6.973639e-01      0.459425      0.0   \n",
       "Cholesterol                      8763.0  2.598772e+02     80.863276    120.0   \n",
       "Heart Rate                       8763.0  7.502168e+01     20.550948     40.0   \n",
       "Diabetes                         8763.0  3.477120e-01      0.476271      0.0   \n",
       "Family History                   8763.0  4.929819e-01      0.499979      0.0   \n",
       "Smoking                          8763.0  8.968390e-01      0.304186      0.0   \n",
       "Obesity                          8763.0  5.014265e-01      0.500026      0.0   \n",
       "Alcohol Consumption              8763.0  5.980828e-01      0.490313      0.0   \n",
       "Exercise Hours Per Week          8763.0           inf      5.796875      0.0   \n",
       "Diet                             8763.0  9.921260e-01      0.817134      0.0   \n",
       "Previous Heart Problems          8763.0  4.958348e-01      0.500011      0.0   \n",
       "Medication Use                   8763.0  4.983453e-01      0.500026      0.0   \n",
       "Stress Level                     8763.0  5.469702e+00      2.859622      1.0   \n",
       "Sedentary Hours Per Day          8763.0  5.992188e+00      3.490234      0.0   \n",
       "Income                           8763.0  1.582632e+05  80575.190806  20062.0   \n",
       "BMI                              8763.0           inf      6.328125     18.0   \n",
       "Triglycerides                    8763.0  4.176771e+02    223.748137     30.0   \n",
       "Physical Activity Days Per Week  8763.0  3.489672e+00      2.282687      0.0   \n",
       "Sleep Hours Per Day              8763.0  7.023508e+00      1.988473      4.0   \n",
       "Heart Attack Risk                8763.0  3.582107e-01      0.479502      0.0   \n",
       "HBP                              8763.0  1.350757e+02     26.349976     90.0   \n",
       "LBP                              8763.0  8.515611e+01     14.676565     60.0   \n",
       "\n",
       "                                     25%       50%       75%       max  \n",
       "Age                                 35.0      54.0      72.0      90.0  \n",
       "Sex                                  0.0       1.0       1.0       1.0  \n",
       "Cholesterol                        192.0     259.0     330.0     400.0  \n",
       "Heart Rate                          57.0      75.0      93.0     110.0  \n",
       "Diabetes                             0.0       0.0       1.0       1.0  \n",
       "Family History                       0.0       0.0       1.0       1.0  \n",
       "Smoking                              1.0       1.0       1.0       1.0  \n",
       "Obesity                              0.0       1.0       1.0       1.0  \n",
       "Alcohol Consumption                  0.0       1.0       1.0       1.0  \n",
       "Exercise Hours Per Week              5.0      10.0      15.0      20.0  \n",
       "Diet                                 0.0       1.0       2.0       2.0  \n",
       "Previous Heart Problems              0.0       0.0       1.0       1.0  \n",
       "Medication Use                       0.0       0.0       1.0       1.0  \n",
       "Stress Level                         3.0       5.0       8.0      10.0  \n",
       "Sedentary Hours Per Day              3.0       6.0       9.0      12.0  \n",
       "Income                           88310.0  157866.0  227749.0  299954.0  \n",
       "BMI                                 23.0      29.0      34.0      40.0  \n",
       "Triglycerides                      225.5     417.0     612.0     800.0  \n",
       "Physical Activity Days Per Week      2.0       3.0       5.0       7.0  \n",
       "Sleep Hours Per Day                  5.0       7.0       9.0      10.0  \n",
       "Heart Attack Risk                    0.0       0.0       1.0       1.0  \n",
       "HBP                                112.0     135.0     158.0     180.0  \n",
       "LBP                                 72.0      85.0      98.0     110.0  "
      ]
     },
     "execution_count": 5,
     "metadata": {},
     "output_type": "execute_result"
    }
   ],
   "source": [
    "df.describe().transpose()"
   ]
  },
  {
   "cell_type": "code",
   "execution_count": null,
   "id": "453b65ff",
   "metadata": {},
   "outputs": [],
   "source": []
  },
  {
   "cell_type": "code",
   "execution_count": 6,
   "id": "151027e8",
   "metadata": {},
   "outputs": [],
   "source": [
    "X= df.drop(['Heart Attack Risk'], axis= 1)\n",
    "y= df['Heart Attack Risk']"
   ]
  },
  {
   "cell_type": "code",
   "execution_count": 7,
   "id": "d0b1d034",
   "metadata": {},
   "outputs": [],
   "source": [
    "from sklearn.model_selection import train_test_split\n",
    "X_train, X_test, y_train, y_test= train_test_split(X, y, test_size=0.2, random_state=15, stratify=y)"
   ]
  },
  {
   "cell_type": "code",
   "execution_count": 8,
   "id": "db8e4185",
   "metadata": {},
   "outputs": [],
   "source": [
    "from sklearn.preprocessing import RobustScaler\n",
    "scaler= RobustScaler()\n",
    "scaler.fit(X_train)\n",
    "\n",
    "X_train= scaler.transform(X_train)\n",
    "X_test= scaler.transform(X_test)"
   ]
  },
  {
   "cell_type": "code",
   "execution_count": null,
   "id": "af0b6dab",
   "metadata": {},
   "outputs": [],
   "source": []
  },
  {
   "cell_type": "markdown",
   "id": "d0bf5ba8",
   "metadata": {},
   "source": [
    "--- LogisticRegression ---"
   ]
  },
  {
   "cell_type": "code",
   "execution_count": null,
   "id": "0f982495",
   "metadata": {},
   "outputs": [],
   "source": []
  },
  {
   "cell_type": "code",
   "execution_count": 9,
   "id": "790b3cfb",
   "metadata": {},
   "outputs": [
    {
     "name": "stdout",
     "output_type": "stream",
     "text": [
      "              precision    recall  f1-score   support\n",
      "\n",
      "           0       0.64      1.00      0.78      1125\n",
      "           1       0.00      0.00      0.00       628\n",
      "\n",
      "    accuracy                           0.64      1753\n",
      "   macro avg       0.32      0.50      0.39      1753\n",
      "weighted avg       0.41      0.64      0.50      1753\n",
      "\n",
      "Precision: 0.0\n",
      "Accuracy: 0.6417569880205363\n",
      "AUC: 0.4828351026185421\n"
     ]
    },
    {
     "data": {
      "text/plain": [
       "<sklearn.metrics._plot.confusion_matrix.ConfusionMatrixDisplay at 0x1af9dc0b5e0>"
      ]
     },
     "execution_count": 9,
     "metadata": {},
     "output_type": "execute_result"
    },
    {
     "data": {
      "image/png": "[encoded data removed]",
      "text/plain": [
       "<Figure size 432x288 with 2 Axes>"
      ]
     },
     "metadata": {
      "needs_background": "light"
     },
     "output_type": "display_data"
    }
   ],
   "source": [
    "from sklearn.linear_model import LogisticRegression\n",
    "lr= LogisticRegression(max_iter= 1000, random_state=15)\n",
    "lr.fit(X_train, y_train)\n",
    "y_pred_lr= lr.predict(X_test)\n",
    "y_pred_prob_lr= lr.predict_proba(X_test)[:,1]\n",
    "\n",
    "from sklearn.metrics import confusion_matrix, ConfusionMatrixDisplay, classification_report, precision_score, roc_auc_score, accuracy_score \n",
    "cm= confusion_matrix(y_test, y_pred_lr, labels= lr.classes_)\n",
    "print(classification_report(y_test, y_pred_lr, zero_division=0))\n",
    "print('Precision:', precision_score(y_test, y_pred_lr, zero_division=0))\n",
    "print('Accuracy:', accuracy_score(y_test, y_pred_lr))\n",
    "print('AUC:', roc_auc_score(y_test, y_pred_prob_lr))\n",
    "dcm_lr= ConfusionMatrixDisplay(cm, display_labels= lr.classes_)\n",
    "dcm_lr.plot()"
   ]
  },
  {
   "cell_type": "code",
   "execution_count": null,
   "id": "63f446a5",
   "metadata": {},
   "outputs": [],
   "source": []
  },
  {
   "cell_type": "markdown",
   "id": "935a91fa",
   "metadata": {},
   "source": [
    "--- DecisionTreeClassifier ---"
   ]
  },
  {
   "cell_type": "code",
   "execution_count": null,
   "id": "17227aab",
   "metadata": {},
   "outputs": [],
   "source": []
  },
  {
   "cell_type": "code",
   "execution_count": 10,
   "id": "4f328e19",
   "metadata": {},
   "outputs": [
    {
     "name": "stdout",
     "output_type": "stream",
     "text": [
      "              precision    recall  f1-score   support\n",
      "\n",
      "           0       0.64      0.65      0.64      1125\n",
      "           1       0.36      0.36      0.36       628\n",
      "\n",
      "    accuracy                           0.54      1753\n",
      "   macro avg       0.50      0.50      0.50      1753\n",
      "weighted avg       0.54      0.54      0.54      1753\n",
      "\n",
      "Precision: 0.3605769230769231\n",
      "Accuracy: 0.54249857387336\n",
      "AUC: 0.5018067940552017\n"
     ]
    },
    {
     "data": {
      "text/plain": [
       "<sklearn.metrics._plot.confusion_matrix.ConfusionMatrixDisplay at 0x1af9f827cd0>"
      ]
     },
     "execution_count": 10,
     "metadata": {},
     "output_type": "execute_result"
    },
    {
     "data": {
      "image/png": "[encoded data removed]",
      "text/plain": [
       "<Figure size 432x288 with 2 Axes>"
      ]
     },
     "metadata": {
      "needs_background": "light"
     },
     "output_type": "display_data"
    }
   ],
   "source": [
    "from sklearn.tree import DecisionTreeClassifier\n",
    "dt= DecisionTreeClassifier(random_state=15)\n",
    "dt.fit(X_train, y_train)\n",
    "y_pred_dt= dt.predict(X_test)\n",
    "y_pred_prob_dt= dt.predict_proba(X_test)[:,1]\n",
    "\n",
    "cm= confusion_matrix(y_test, y_pred_dt, labels= dt.classes_)\n",
    "print(classification_report(y_test, y_pred_dt, zero_division=0))\n",
    "print('Precision:', precision_score(y_test, y_pred_dt, zero_division=0))\n",
    "print('Accuracy:', accuracy_score(y_test, y_pred_dt))\n",
    "print('AUC:', roc_auc_score(y_test, y_pred_prob_dt))\n",
    "dcm_dt= ConfusionMatrixDisplay(cm, display_labels= dt.classes_)\n",
    "dcm_dt.plot()"
   ]
  },
  {
   "cell_type": "markdown",
   "id": "2b5ed7fc",
   "metadata": {},
   "source": [
    "--- Tuned - DecisionTreeClassifier ---"
   ]
  },
  {
   "cell_type": "code",
   "execution_count": null,
   "id": "8ca0fbe2",
   "metadata": {},
   "outputs": [],
   "source": []
  },
  {
   "cell_type": "code",
   "execution_count": 11,
   "id": "cb57a7c9",
   "metadata": {},
   "outputs": [
    {
     "name": "stdout",
     "output_type": "stream",
     "text": [
      "Best Parameters: {'criterion': 'entropy', 'max_depth': 10, 'max_features': 'sqrt', 'min_samples_leaf': 10, 'min_samples_split': 2}\n",
      "Best Precision Score: 0.3858297654139373\n"
     ]
    }
   ],
   "source": [
    "from sklearn.model_selection import GridSearchCV\n",
    "param_grid= {\n",
    "             'max_depth': [None, 10, 20, 30, 40, 50],\n",
    "             'min_samples_split': [2, 10, 20],\n",
    "             'min_samples_leaf': [1, 5, 10],\n",
    "             'max_features': [None, 'sqrt', 'log2'],\n",
    "             'criterion': ['gini', 'entropy']\n",
    "            }\n",
    "\n",
    "gs_dt= GridSearchCV(estimator= dt, param_grid= param_grid, cv= 5, scoring= 'precision')\n",
    "gs_dt.fit(X_train, y_train)\n",
    "\n",
    "print(\"Best Parameters:\", gs_dt.best_params_)\n",
    "print(\"Best Precision Score:\", gs_dt.best_score_)"
   ]
  },
  {
   "cell_type": "code",
   "execution_count": 12,
   "id": "3e0146a2",
   "metadata": {},
   "outputs": [
    {
     "name": "stdout",
     "output_type": "stream",
     "text": [
      "              precision    recall  f1-score   support\n",
      "\n",
      "           0       0.63      0.87      0.73      1125\n",
      "           1       0.30      0.10      0.15       628\n",
      "\n",
      "    accuracy                           0.59      1753\n",
      "   macro avg       0.47      0.48      0.44      1753\n",
      "weighted avg       0.51      0.59      0.52      1753\n",
      "\n",
      "Precision: 0.2975609756097561\n",
      "Accuracy: 0.5944095835710211\n",
      "AUC: 0.4885138004246285\n"
     ]
    },
    {
     "data": {
      "text/plain": [
       "<sklearn.metrics._plot.confusion_matrix.ConfusionMatrixDisplay at 0x1af9f900e80>"
      ]
     },
     "execution_count": 12,
     "metadata": {},
     "output_type": "execute_result"
    },
    {
     "data": {
      "image/png": "[encoded data removed]",
      "text/plain": [
       "<Figure size 432x288 with 2 Axes>"
      ]
     },
     "metadata": {
      "needs_background": "light"
     },
     "output_type": "display_data"
    }
   ],
   "source": [
    "tuned_dt= gs_dt.best_estimator_\n",
    "y_pred_tuned_dt= tuned_dt.predict(X_test)\n",
    "y_pred_prob_tuned_dt= tuned_dt.predict_proba(X_test)[:,1]\n",
    "\n",
    "cm= confusion_matrix(y_test, y_pred_tuned_dt, labels= tuned_dt.classes_)\n",
    "print(classification_report(y_test, y_pred_tuned_dt, zero_division=0))\n",
    "print('Precision:', precision_score(y_test, y_pred_tuned_dt, zero_division=0))\n",
    "print('Accuracy:', accuracy_score(y_test, y_pred_tuned_dt))\n",
    "print('AUC:', roc_auc_score(y_test, y_pred_prob_tuned_dt))\n",
    "dcm_tuned_dt= ConfusionMatrixDisplay(cm, display_labels= tuned_dt.classes_)\n",
    "dcm_tuned_dt.plot()"
   ]
  },
  {
   "cell_type": "code",
   "execution_count": null,
   "id": "04681239",
   "metadata": {},
   "outputs": [],
   "source": []
  },
  {
   "cell_type": "markdown",
   "id": "da98fb3b",
   "metadata": {},
   "source": [
    "--- KNeighborsClassifier ---"
   ]
  },
  {
   "cell_type": "code",
   "execution_count": null,
   "id": "432e3c97",
   "metadata": {},
   "outputs": [],
   "source": []
  },
  {
   "cell_type": "code",
   "execution_count": 13,
   "id": "5aacb03b",
   "metadata": {},
   "outputs": [
    {
     "name": "stdout",
     "output_type": "stream",
     "text": [
      "              precision    recall  f1-score   support\n",
      "\n",
      "           0       0.64      0.75      0.69      1125\n",
      "           1       0.35      0.24      0.29       628\n",
      "\n",
      "    accuracy                           0.57      1753\n",
      "   macro avg       0.49      0.49      0.49      1753\n",
      "weighted avg       0.53      0.57      0.54      1753\n",
      "\n",
      "Precision: 0.3470319634703196\n",
      "Accuracy: 0.5653166001140901\n",
      "AUC: 0.48260226468506723\n"
     ]
    },
    {
     "data": {
      "text/plain": [
       "<sklearn.metrics._plot.confusion_matrix.ConfusionMatrixDisplay at 0x1af9f9a4550>"
      ]
     },
     "execution_count": 13,
     "metadata": {},
     "output_type": "execute_result"
    },
    {
     "data": {
      "image/png": "[encoded data removed]",
      "text/plain": [
       "<Figure size 432x288 with 2 Axes>"
      ]
     },
     "metadata": {
      "needs_background": "light"
     },
     "output_type": "display_data"
    }
   ],
   "source": [
    "from sklearn.neighbors import KNeighborsClassifier\n",
    "knn= KNeighborsClassifier()\n",
    "knn.fit(X_train, y_train)\n",
    "y_pred_knn= knn.predict(X_test)\n",
    "y_pred_prob_knn= knn.predict_proba(X_test)[:,1]\n",
    "\n",
    "cm= confusion_matrix(y_test, y_pred_knn, labels= knn.classes_)\n",
    "print(classification_report(y_test, y_pred_knn, zero_division=0))\n",
    "print('Precision:', precision_score(y_test, y_pred_knn, zero_division=0))\n",
    "print('Accuracy:', accuracy_score(y_test, y_pred_knn))\n",
    "print('AUC:', roc_auc_score(y_test, y_pred_prob_knn))\n",
    "dcm_knn= ConfusionMatrixDisplay(cm, display_labels= knn.classes_)\n",
    "dcm_knn.plot()"
   ]
  },
  {
   "cell_type": "code",
   "execution_count": null,
   "id": "87a13f8d",
   "metadata": {},
   "outputs": [],
   "source": []
  },
  {
   "cell_type": "markdown",
   "id": "0fcc60fe",
   "metadata": {},
   "source": [
    "--- Tuned - KNeighborsClassifier ---"
   ]
  },
  {
   "cell_type": "code",
   "execution_count": 14,
   "id": "f25b087f",
   "metadata": {},
   "outputs": [
    {
     "name": "stdout",
     "output_type": "stream",
     "text": [
      "Best Parameters: {'metric': 'euclidean', 'n_neighbors': 38, 'weights': 'uniform'}\n",
      "Best Precision Score: 0.42384760921912623\n"
     ]
    }
   ],
   "source": [
    "param_grid= {\n",
    "             'n_neighbors': np.arange(1,40),\n",
    "             'weights': ['uniform', 'distance'],\n",
    "             'metric': ['euclidean', 'manhattan', 'minkowski']\n",
    "            }\n",
    "\n",
    "gs_knn= GridSearchCV(estimator= knn, param_grid= param_grid, cv=5, scoring= 'precision')\n",
    "gs_knn.fit(X_train, y_train)\n",
    "print(\"Best Parameters:\", gs_knn.best_params_)\n",
    "print(\"Best Precision Score:\", gs_knn.best_score_)"
   ]
  },
  {
   "cell_type": "code",
   "execution_count": 15,
   "id": "26be4e33",
   "metadata": {},
   "outputs": [
    {
     "name": "stdout",
     "output_type": "stream",
     "text": [
      "              precision    recall  f1-score   support\n",
      "\n",
      "           0       0.64      0.97      0.77      1125\n",
      "           1       0.34      0.03      0.05       628\n",
      "\n",
      "    accuracy                           0.63      1753\n",
      "   macro avg       0.49      0.50      0.41      1753\n",
      "weighted avg       0.53      0.63      0.51      1753\n",
      "\n",
      "Precision: 0.3404255319148936\n",
      "Accuracy: 0.6332002281802624\n",
      "AUC: 0.5072519462137296\n"
     ]
    },
    {
     "data": {
      "text/plain": [
       "<sklearn.metrics._plot.confusion_matrix.ConfusionMatrixDisplay at 0x1af9f91ee80>"
      ]
     },
     "execution_count": 15,
     "metadata": {},
     "output_type": "execute_result"
    },
    {
     "data": {
      "image/png": "[encoded data removed]",
      "text/plain": [
       "<Figure size 432x288 with 2 Axes>"
      ]
     },
     "metadata": {
      "needs_background": "light"
     },
     "output_type": "display_data"
    }
   ],
   "source": [
    "tuned_knn= gs_knn.best_estimator_\n",
    "y_pred_tuned_knn= tuned_knn.predict(X_test)\n",
    "y_pred_prob_tuned_knn= tuned_knn.predict_proba(X_test)[:,1]\n",
    "\n",
    "cm= confusion_matrix(y_test, y_pred_tuned_knn, labels= tuned_knn.classes_)\n",
    "print(classification_report(y_test, y_pred_tuned_knn, zero_division=0))\n",
    "print('Precision:', precision_score(y_test, y_pred_tuned_knn, zero_division=0))\n",
    "print('Accuracy:', accuracy_score(y_test, y_pred_tuned_knn))\n",
    "print('AUC:', roc_auc_score(y_test, y_pred_prob_tuned_knn))\n",
    "dcm_tuned_knn= ConfusionMatrixDisplay(cm, display_labels= tuned_knn.classes_)\n",
    "dcm_tuned_knn.plot()"
   ]
  },
  {
   "cell_type": "code",
   "execution_count": null,
   "id": "80894d0a",
   "metadata": {},
   "outputs": [],
   "source": []
  },
  {
   "cell_type": "markdown",
   "id": "aa848951",
   "metadata": {},
   "source": [
    "--- GaussianNB ---"
   ]
  },
  {
   "cell_type": "code",
   "execution_count": 16,
   "id": "4dbd7832",
   "metadata": {},
   "outputs": [
    {
     "name": "stdout",
     "output_type": "stream",
     "text": [
      "              precision    recall  f1-score   support\n",
      "\n",
      "           0       0.64      1.00      0.78      1125\n",
      "           1       0.00      0.00      0.00       628\n",
      "\n",
      "    accuracy                           0.64      1753\n",
      "   macro avg       0.32      0.50      0.39      1753\n",
      "weighted avg       0.41      0.64      0.50      1753\n",
      "\n",
      "Precision: 0.0\n",
      "Accuracy: 0.6417569880205363\n",
      "AUC: 0.4885789101203114\n"
     ]
    },
    {
     "data": {
      "text/plain": [
       "<sklearn.metrics._plot.confusion_matrix.ConfusionMatrixDisplay at 0x1afafbf0b20>"
      ]
     },
     "execution_count": 16,
     "metadata": {},
     "output_type": "execute_result"
    },
    {
     "data": {
      "image/png": "[encoded data removed]",
      "text/plain": [
       "<Figure size 432x288 with 2 Axes>"
      ]
     },
     "metadata": {
      "needs_background": "light"
     },
     "output_type": "display_data"
    }
   ],
   "source": [
    "from sklearn.naive_bayes import GaussianNB\n",
    "nb= GaussianNB()\n",
    "nb.fit(X_train, y_train)\n",
    "y_pred_nb= nb.predict(X_test)\n",
    "y_pred_prob_nb= nb.predict_proba(X_test)[:,1]\n",
    "\n",
    "cm= confusion_matrix(y_test, y_pred_nb, labels= nb.classes_)\n",
    "print(classification_report(y_test, y_pred_nb, zero_division=0))\n",
    "print('Precision:', precision_score(y_test, y_pred_nb, zero_division=0))\n",
    "print('Accuracy:', accuracy_score(y_test, y_pred_nb))\n",
    "print('AUC:', roc_auc_score(y_test, y_pred_prob_nb))\n",
    "dcm_nb= ConfusionMatrixDisplay(cm, display_labels= nb.classes_)\n",
    "dcm_nb.plot()"
   ]
  },
  {
   "cell_type": "code",
   "execution_count": null,
   "id": "56176147",
   "metadata": {},
   "outputs": [],
   "source": []
  },
  {
   "cell_type": "markdown",
   "id": "0cc62ec3",
   "metadata": {},
   "source": [
    "--- SVM ---"
   ]
  },
  {
   "cell_type": "code",
   "execution_count": null,
   "id": "d446f144",
   "metadata": {},
   "outputs": [],
   "source": []
  },
  {
   "cell_type": "code",
   "execution_count": 17,
   "id": "f655fef3",
   "metadata": {},
   "outputs": [
    {
     "name": "stdout",
     "output_type": "stream",
     "text": [
      "              precision    recall  f1-score   support\n",
      "\n",
      "           0       0.64      1.00      0.78      1125\n",
      "           1       0.00      0.00      0.00       628\n",
      "\n",
      "    accuracy                           0.64      1753\n",
      "   macro avg       0.32      0.50      0.39      1753\n",
      "weighted avg       0.41      0.64      0.50      1753\n",
      "\n",
      "Precision: 0.0\n",
      "Accuracy: 0.6411865373645179\n",
      "AUC: 0.48940552016985134\n"
     ]
    },
    {
     "data": {
      "text/plain": [
       "<sklearn.metrics._plot.confusion_matrix.ConfusionMatrixDisplay at 0x1afb0e8c5e0>"
      ]
     },
     "execution_count": 17,
     "metadata": {},
     "output_type": "execute_result"
    },
    {
     "data": {
      "image/png": "[encoded data removed]",
      "text/plain": [
       "<Figure size 432x288 with 2 Axes>"
      ]
     },
     "metadata": {
      "needs_background": "light"
     },
     "output_type": "display_data"
    }
   ],
   "source": [
    "from sklearn.svm import SVC\n",
    "svc= SVC(kernel= 'rbf', gamma= 1, probability=True, random_state=15)\n",
    "svc.fit(X_train, y_train)\n",
    "y_pred_svc= svc.predict(X_test)\n",
    "y_pred_prob_svc= svc.predict_proba(X_test)[:,1]\n",
    "\n",
    "cm= confusion_matrix(y_test, y_pred_svc, labels= svc.classes_)\n",
    "print(classification_report(y_test, y_pred_svc, zero_division=0))\n",
    "print('Precision:', precision_score(y_test, y_pred_svc, zero_division=0))\n",
    "print('Accuracy:', accuracy_score(y_test, y_pred_svc))\n",
    "print('AUC:', roc_auc_score(y_test, y_pred_prob_svc))\n",
    "dcm_svc= ConfusionMatrixDisplay(cm, display_labels= svc.classes_)\n",
    "dcm_svc.plot()"
   ]
  },
  {
   "cell_type": "code",
   "execution_count": null,
   "id": "b64e4268",
   "metadata": {},
   "outputs": [],
   "source": []
  },
  {
   "cell_type": "markdown",
   "id": "04c79ba0",
   "metadata": {},
   "source": [
    "--- Random Forest ---"
   ]
  },
  {
   "cell_type": "code",
   "execution_count": null,
   "id": "69542e4d",
   "metadata": {},
   "outputs": [],
   "source": []
  },
  {
   "cell_type": "code",
   "execution_count": 18,
   "id": "23d9f00e",
   "metadata": {},
   "outputs": [],
   "source": [
    "from sklearn.ensemble import RandomForestClassifier\n",
    "rf= RandomForestClassifier(random_state=15)\n",
    "rf.fit(X_train, y_train)\n",
    "y_pred_rf= rf.predict(X_test)\n",
    "y_pred_prob_rf= rf.predict_proba(X_test)[:,1]"
   ]
  },
  {
   "cell_type": "code",
   "execution_count": 19,
   "id": "4a3a4ca9",
   "metadata": {
    "scrolled": false
   },
   "outputs": [
    {
     "name": "stdout",
     "output_type": "stream",
     "text": [
      "              precision    recall  f1-score   support\n",
      "\n",
      "           0       0.64      0.97      0.77      1125\n",
      "           1       0.26      0.02      0.04       628\n",
      "\n",
      "    accuracy                           0.63      1753\n",
      "   macro avg       0.45      0.49      0.40      1753\n",
      "weighted avg       0.50      0.63      0.51      1753\n",
      "\n",
      "Precision: 0.2641509433962264\n",
      "Accuracy: 0.6274957216200798\n",
      "AUC: 0.49828945506015565\n"
     ]
    },
    {
     "data": {
      "text/plain": [
       "<sklearn.metrics._plot.confusion_matrix.ConfusionMatrixDisplay at 0x1af8b92bf10>"
      ]
     },
     "execution_count": 19,
     "metadata": {},
     "output_type": "execute_result"
    },
    {
     "data": {
      "image/png": "[encoded data removed]",
      "text/plain": [
       "<Figure size 432x288 with 2 Axes>"
      ]
     },
     "metadata": {
      "needs_background": "light"
     },
     "output_type": "display_data"
    }
   ],
   "source": [
    "cm= confusion_matrix(y_test, y_pred_rf, labels= rf.classes_)\n",
    "print(classification_report(y_test, y_pred_rf, zero_division=0))\n",
    "print('Precision:', precision_score(y_test, y_pred_rf, zero_division=0))\n",
    "print('Accuracy:', accuracy_score(y_test, y_pred_rf))\n",
    "print('AUC:', roc_auc_score(y_test, y_pred_prob_rf))\n",
    "dcm_rf= ConfusionMatrixDisplay(cm, display_labels= rf.classes_)\n",
    "dcm_rf.plot()"
   ]
  },
  {
   "cell_type": "code",
   "execution_count": 20,
   "id": "f30d7119",
   "metadata": {},
   "outputs": [
    {
     "name": "stdout",
     "output_type": "stream",
     "text": [
      "Fitting 5 folds for each of 108 candidates, totalling 540 fits\n",
      "Best Parameters: {'max_depth': 30, 'min_samples_leaf': 2, 'min_samples_split': 10, 'n_estimators': 300}\n",
      "Best Precision Score: 0.6357142857142858\n"
     ]
    }
   ],
   "source": [
    "param_grid= {\n",
    "             'n_estimators': [100, 200, 300],\n",
    "             'max_depth': [None, 10, 20, 30],\n",
    "             'min_samples_split': [2, 5, 10],\n",
    "             'min_samples_leaf': [1, 2, 4],\n",
    "            }\n",
    "\n",
    "gs_tuned_rf= GridSearchCV(estimator= rf, param_grid= param_grid, cv= 5, scoring= 'precision', n_jobs= -1, verbose= 2)\n",
    "gs_tuned_rf.fit(X_train, y_train)\n",
    "print(\"Best Parameters:\", gs_tuned_rf.best_params_)\n",
    "print(\"Best Precision Score:\", gs_tuned_rf.best_score_)"
   ]
  },
  {
   "cell_type": "code",
   "execution_count": 21,
   "id": "741c1f08",
   "metadata": {},
   "outputs": [
    {
     "name": "stdout",
     "output_type": "stream",
     "text": [
      "              precision    recall  f1-score   support\n",
      "\n",
      "           0       0.64      1.00      0.78      1125\n",
      "           1       0.20      0.00      0.00       628\n",
      "\n",
      "    accuracy                           0.64      1753\n",
      "   macro avg       0.42      0.50      0.39      1753\n",
      "weighted avg       0.48      0.64      0.50      1753\n",
      "\n",
      "Precision: 0.2\n",
      "Accuracy: 0.6400456360524814\n",
      "AUC: 0.5157013446567587\n"
     ]
    },
    {
     "data": {
      "text/plain": [
       "<sklearn.metrics._plot.confusion_matrix.ConfusionMatrixDisplay at 0x1af8ba7d040>"
      ]
     },
     "execution_count": 21,
     "metadata": {},
     "output_type": "execute_result"
    },
    {
     "data": {
      "image/png": "[encoded data removed]",
      "text/plain": [
       "<Figure size 432x288 with 2 Axes>"
      ]
     },
     "metadata": {
      "needs_background": "light"
     },
     "output_type": "display_data"
    }
   ],
   "source": [
    "tuned_rf= gs_tuned_rf.best_estimator_\n",
    "y_pred_tuned_rf= tuned_rf.predict(X_test)\n",
    "y_pred_prob_tuned_rf= tuned_rf.predict_proba(X_test)[:,1]\n",
    "\n",
    "cm= confusion_matrix(y_test, y_pred_tuned_rf, labels= tuned_rf.classes_)\n",
    "print(classification_report(y_test, y_pred_tuned_rf, zero_division=0))\n",
    "print('Precision:', precision_score(y_test, y_pred_tuned_rf, zero_division=0))\n",
    "print('Accuracy:', accuracy_score(y_test, y_pred_tuned_rf))\n",
    "print('AUC:', roc_auc_score(y_test, y_pred_prob_tuned_rf))\n",
    "dcm_tuned_rf= ConfusionMatrixDisplay(cm, display_labels= tuned_rf.classes_)\n",
    "dcm_tuned_rf.plot()"
   ]
  },
  {
   "cell_type": "markdown",
   "id": "73a70a30",
   "metadata": {},
   "source": [
    "--- AdaBoost ---"
   ]
  },
  {
   "cell_type": "code",
   "execution_count": 22,
   "id": "39e0218b",
   "metadata": {},
   "outputs": [],
   "source": [
    "from sklearn.ensemble import AdaBoostClassifier\n",
    "ada= AdaBoostClassifier(random_state=15)\n",
    "ada.fit(X_train, y_train)\n",
    "y_pred_ada= ada.predict(X_test)\n",
    "y_pred_prob_ada= ada.predict_proba(X_test)[:,1]"
   ]
  },
  {
   "cell_type": "code",
   "execution_count": 23,
   "id": "342a43f8",
   "metadata": {
    "scrolled": false
   },
   "outputs": [
    {
     "name": "stdout",
     "output_type": "stream",
     "text": [
      "              precision    recall  f1-score   support\n",
      "\n",
      "           0       0.64      0.99      0.78      1125\n",
      "           1       0.32      0.01      0.02       628\n",
      "\n",
      "    accuracy                           0.64      1753\n",
      "   macro avg       0.48      0.50      0.40      1753\n",
      "weighted avg       0.52      0.64      0.51      1753\n",
      "\n",
      "Precision: 0.3157894736842105\n",
      "Accuracy: 0.6377638334284085\n",
      "AUC: 0.49759660297239916\n"
     ]
    },
    {
     "data": {
      "text/plain": [
       "<sklearn.metrics._plot.confusion_matrix.ConfusionMatrixDisplay at 0x1afb0f98cd0>"
      ]
     },
     "execution_count": 23,
     "metadata": {},
     "output_type": "execute_result"
    },
    {
     "data": {
      "image/png": "[encoded data removed]",
      "text/plain": [
       "<Figure size 432x288 with 2 Axes>"
      ]
     },
     "metadata": {
      "needs_background": "light"
     },
     "output_type": "display_data"
    }
   ],
   "source": [
    "cm= confusion_matrix(y_test, y_pred_ada, labels= ada.classes_)\n",
    "print(classification_report(y_test, y_pred_ada, zero_division=0))\n",
    "print('Precision:', precision_score(y_test, y_pred_ada, zero_division=0))\n",
    "print('Accuracy:', accuracy_score(y_test, y_pred_ada))\n",
    "print('AUC:', roc_auc_score(y_test, y_pred_prob_ada))\n",
    "dcm_ada= ConfusionMatrixDisplay(cm, display_labels= ada.classes_)\n",
    "dcm_ada.plot()"
   ]
  },
  {
   "cell_type": "code",
   "execution_count": 24,
   "id": "708588e4",
   "metadata": {},
   "outputs": [
    {
     "name": "stdout",
     "output_type": "stream",
     "text": [
      "Fitting 5 folds for each of 3 candidates, totalling 15 fits\n",
      "Best Parameters: {'n_estimators': 100}\n",
      "Best Precision Score: 0.44237805828268667\n"
     ]
    }
   ],
   "source": [
    "param_grid= {'n_estimators': [50, 100, 200]}\n",
    "\n",
    "gs_ada= GridSearchCV(estimator= ada, param_grid= param_grid, cv= 5, scoring= 'precision', n_jobs= -1, verbose= 2)\n",
    "gs_ada.fit(X_train, y_train)\n",
    "print(\"Best Parameters:\", gs_ada.best_params_)\n",
    "print(\"Best Precision Score:\", gs_ada.best_score_)"
   ]
  },
  {
   "cell_type": "code",
   "execution_count": 25,
   "id": "d85b3030",
   "metadata": {},
   "outputs": [
    {
     "name": "stdout",
     "output_type": "stream",
     "text": [
      "              precision    recall  f1-score   support\n",
      "\n",
      "           0       0.64      0.99      0.78      1125\n",
      "           1       0.50      0.02      0.05       628\n",
      "\n",
      "    accuracy                           0.64      1753\n",
      "   macro avg       0.57      0.51      0.41      1753\n",
      "weighted avg       0.59      0.64      0.52      1753\n",
      "\n",
      "Precision: 0.5\n",
      "Accuracy: 0.6417569880205363\n",
      "AUC: 0.49360368011323424\n"
     ]
    },
    {
     "data": {
      "text/plain": [
       "<sklearn.metrics._plot.confusion_matrix.ConfusionMatrixDisplay at 0x1afbb4d8d30>"
      ]
     },
     "execution_count": 25,
     "metadata": {},
     "output_type": "execute_result"
    },
    {
     "data": {
      "image/png": "[encoded data removed]",
      "text/plain": [
       "<Figure size 432x288 with 2 Axes>"
      ]
     },
     "metadata": {
      "needs_background": "light"
     },
     "output_type": "display_data"
    }
   ],
   "source": [
    "tuned_ada= gs_ada.best_estimator_\n",
    "y_pred_tuned_ada= tuned_ada.predict(X_test)\n",
    "y_pred_prob_tuned_ada= tuned_ada.predict_proba(X_test)[:,1]\n",
    "\n",
    "cm= confusion_matrix(y_test, y_pred_tuned_ada, labels= tuned_ada.classes_)\n",
    "print(classification_report(y_test, y_pred_tuned_ada, zero_division=0))\n",
    "print('Precision:', precision_score(y_test, y_pred_tuned_ada, zero_division=0))\n",
    "print('Accuracy:', accuracy_score(y_test, y_pred_tuned_ada))\n",
    "print('AUC:', roc_auc_score(y_test, y_pred_prob_tuned_ada))\n",
    "dcm_tuned_ada= ConfusionMatrixDisplay(cm, display_labels= tuned_ada.classes_)\n",
    "dcm_tuned_ada.plot()"
   ]
  },
  {
   "cell_type": "code",
   "execution_count": null,
   "id": "260a91d7",
   "metadata": {},
   "outputs": [],
   "source": []
  },
  {
   "cell_type": "markdown",
   "id": "a74a4591",
   "metadata": {},
   "source": [
    "--- GradientBoosting ---"
   ]
  },
  {
   "cell_type": "code",
   "execution_count": 26,
   "id": "39fc7e71",
   "metadata": {
    "scrolled": false
   },
   "outputs": [
    {
     "name": "stdout",
     "output_type": "stream",
     "text": [
      "              precision    recall  f1-score   support\n",
      "\n",
      "           0       0.64      0.98      0.77      1125\n",
      "           1       0.19      0.01      0.02       628\n",
      "\n",
      "    accuracy                           0.63      1753\n",
      "   macro avg       0.42      0.49      0.40      1753\n",
      "weighted avg       0.48      0.63      0.50      1753\n",
      "\n",
      "Precision: 0.1935483870967742\n",
      "Accuracy: 0.6309184255561894\n",
      "AUC: 0.498418966737438\n"
     ]
    },
    {
     "data": {
      "text/plain": [
       "<sklearn.metrics._plot.confusion_matrix.ConfusionMatrixDisplay at 0x1afbb589940>"
      ]
     },
     "execution_count": 26,
     "metadata": {},
     "output_type": "execute_result"
    },
    {
     "data": {
      "image/png": "[encoded data removed]",
      "text/plain": [
       "<Figure size 432x288 with 2 Axes>"
      ]
     },
     "metadata": {
      "needs_background": "light"
     },
     "output_type": "display_data"
    }
   ],
   "source": [
    "from sklearn.ensemble import GradientBoostingClassifier\n",
    "grb= GradientBoostingClassifier(random_state=15)\n",
    "grb.fit(X_train, y_train)\n",
    "y_pred_grb= grb.predict(X_test)\n",
    "y_pred_prob_grb= grb.predict_proba(X_test)[:,1]\n",
    "\n",
    "cm= confusion_matrix(y_test, y_pred_grb, labels= grb.classes_)\n",
    "print(classification_report(y_test, y_pred_grb, zero_division=0))\n",
    "print('Precision:', precision_score(y_test, y_pred_grb, zero_division=0))\n",
    "print('Accuracy:', accuracy_score(y_test, y_pred_grb))\n",
    "print('AUC:', roc_auc_score(y_test, y_pred_prob_grb))\n",
    "dcm_grb= ConfusionMatrixDisplay(cm, display_labels= grb.classes_)\n",
    "dcm_grb.plot()"
   ]
  },
  {
   "cell_type": "code",
   "execution_count": 27,
   "id": "1020da31",
   "metadata": {},
   "outputs": [
    {
     "name": "stdout",
     "output_type": "stream",
     "text": [
      "Fitting 5 folds for each of 3 candidates, totalling 15 fits\n",
      "Best Parameters: {'learning_rate': 0.2}\n",
      "Best Precision Score: 0.39370162782601725\n"
     ]
    }
   ],
   "source": [
    "param_grid= {'learning_rate': [0.01, 0.1, 0.2]}\n",
    "\n",
    "gs_grb= GridSearchCV(estimator= grb, param_grid= param_grid, cv= 5, scoring= 'precision', n_jobs= -1, verbose= 2)\n",
    "gs_grb.fit(X_train, y_train)\n",
    "\n",
    "print(\"Best Parameters:\", gs_grb.best_params_)\n",
    "print(\"Best Precision Score:\", gs_grb.best_score_)"
   ]
  },
  {
   "cell_type": "code",
   "execution_count": 28,
   "id": "9bb445f5",
   "metadata": {},
   "outputs": [
    {
     "name": "stdout",
     "output_type": "stream",
     "text": [
      "              precision    recall  f1-score   support\n",
      "\n",
      "           0       0.64      0.95      0.77      1125\n",
      "           1       0.38      0.06      0.10       628\n",
      "\n",
      "    accuracy                           0.63      1753\n",
      "   macro avg       0.51      0.50      0.43      1753\n",
      "weighted avg       0.55      0.63      0.53      1753\n",
      "\n",
      "Precision: 0.37894736842105264\n",
      "Accuracy: 0.6286366229321164\n",
      "AUC: 0.5034069355980184\n"
     ]
    },
    {
     "data": {
      "text/plain": [
       "<sklearn.metrics._plot.confusion_matrix.ConfusionMatrixDisplay at 0x1afbb5362b0>"
      ]
     },
     "execution_count": 28,
     "metadata": {},
     "output_type": "execute_result"
    },
    {
     "data": {
      "image/png": "[encoded data removed]",
      "text/plain": [
       "<Figure size 432x288 with 2 Axes>"
      ]
     },
     "metadata": {
      "needs_background": "light"
     },
     "output_type": "display_data"
    }
   ],
   "source": [
    "tuned_grb= gs_grb.best_estimator_\n",
    "y_pred_tuned_grb= tuned_grb.predict(X_test)\n",
    "y_pred_prob_tuned_grb= tuned_grb.predict_proba(X_test)[:,1]\n",
    "\n",
    "cm= confusion_matrix(y_test, y_pred_tuned_grb, labels= tuned_grb.classes_)\n",
    "print(classification_report(y_test, y_pred_tuned_grb, zero_division=0))\n",
    "print('Precision:', precision_score(y_test, y_pred_tuned_grb, zero_division=0))\n",
    "print('Accuracy:', accuracy_score(y_test, y_pred_tuned_grb))\n",
    "print('AUC:', roc_auc_score(y_test, y_pred_prob_tuned_grb))\n",
    "dcm_tuned_grb= ConfusionMatrixDisplay(cm, display_labels= tuned_grb.classes_)\n",
    "dcm_tuned_grb.plot()"
   ]
  },
  {
   "cell_type": "code",
   "execution_count": null,
   "id": "c9496232",
   "metadata": {},
   "outputs": [],
   "source": []
  },
  {
   "cell_type": "markdown",
   "id": "29ff8e08",
   "metadata": {},
   "source": [
    "--- XGB ---"
   ]
  },
  {
   "cell_type": "code",
   "execution_count": 29,
   "id": "8943f6b5",
   "metadata": {
    "scrolled": false
   },
   "outputs": [
    {
     "name": "stdout",
     "output_type": "stream",
     "text": [
      "              precision    recall  f1-score   support\n",
      "\n",
      "           0       0.65      0.78      0.71      1125\n",
      "           1       0.39      0.25      0.30       628\n",
      "\n",
      "    accuracy                           0.59      1753\n",
      "   macro avg       0.52      0.52      0.51      1753\n",
      "weighted avg       0.56      0.59      0.56      1753\n",
      "\n",
      "Precision: 0.3886138613861386\n",
      "Accuracy: 0.5904164289788933\n",
      "AUC: 0.5259179051663128\n"
     ]
    },
    {
     "data": {
      "text/plain": [
       "<sklearn.metrics._plot.confusion_matrix.ConfusionMatrixDisplay at 0x1afbb896880>"
      ]
     },
     "execution_count": 29,
     "metadata": {},
     "output_type": "execute_result"
    },
    {
     "data": {
      "image/png": "[encoded data removed]",
      "text/plain": [
       "<Figure size 432x288 with 2 Axes>"
      ]
     },
     "metadata": {
      "needs_background": "light"
     },
     "output_type": "display_data"
    }
   ],
   "source": [
    "from xgboost import XGBClassifier\n",
    "xgb= XGBClassifier(random_state=15)\n",
    "xgb.fit(X_train, y_train)\n",
    "y_pred_xgb= xgb.predict(X_test)\n",
    "y_pred_prob_xgb= xgb.predict_proba(X_test)[:,1]\n",
    "\n",
    "cm= confusion_matrix(y_test, y_pred_xgb, labels= xgb.classes_)\n",
    "print(classification_report(y_test, y_pred_xgb, zero_division=0))\n",
    "print('Precision:', precision_score(y_test, y_pred_xgb, zero_division=0))\n",
    "print('Accuracy:', accuracy_score(y_test, y_pred_xgb))\n",
    "print('AUC:', roc_auc_score(y_test, y_pred_prob_xgb))\n",
    "dcm_xgb= ConfusionMatrixDisplay(cm, display_labels= xgb.classes_)\n",
    "dcm_xgb.plot()"
   ]
  },
  {
   "cell_type": "code",
   "execution_count": 30,
   "id": "da093569",
   "metadata": {},
   "outputs": [
    {
     "name": "stdout",
     "output_type": "stream",
     "text": [
      "Fitting 5 folds for each of 3 candidates, totalling 15 fits\n",
      "Best Parameters: {'learning_rate': 0.1}\n",
      "Best Precision Score: 0.4058648077035296\n",
      "              precision    recall  f1-score   support\n",
      "\n",
      "           0       0.64      0.89      0.74      1125\n",
      "           1       0.34      0.10      0.15       628\n",
      "\n",
      "    accuracy                           0.61      1753\n",
      "   macro avg       0.49      0.49      0.45      1753\n",
      "weighted avg       0.53      0.61      0.53      1753\n",
      "\n",
      "Precision: 0.3351063829787234\n",
      "Accuracy: 0.6063890473474044\n",
      "AUC: 0.5133531493276716\n"
     ]
    },
    {
     "data": {
      "text/plain": [
       "<sklearn.metrics._plot.confusion_matrix.ConfusionMatrixDisplay at 0x1afbb896f10>"
      ]
     },
     "execution_count": 30,
     "metadata": {},
     "output_type": "execute_result"
    },
    {
     "data": {
      "image/png": "[encoded data removed]",
      "text/plain": [
       "<Figure size 432x288 with 2 Axes>"
      ]
     },
     "metadata": {
      "needs_background": "light"
     },
     "output_type": "display_data"
    }
   ],
   "source": [
    "params_XGBoost= {'learning_rate': [0.01, 0.1, 1.0]}\n",
    "\n",
    "gs_xgb= GridSearchCV(estimator= xgb, param_grid= params_XGBoost, cv= 5, scoring= 'precision', n_jobs= -1, verbose= 2)\n",
    "gs_xgb.fit(X_train, y_train)\n",
    "\n",
    "print(\"Best Parameters:\", gs_xgb.best_params_)\n",
    "print(\"Best Precision Score:\", gs_xgb.best_score_)\n",
    "\n",
    "tuned_xgb= gs_xgb.best_estimator_\n",
    "y_pred_tuned_xgb= tuned_xgb.predict(X_test)\n",
    "y_pred_prob_tuned_xgb= tuned_xgb.predict_proba(X_test)[:,1]\n",
    "\n",
    "\n",
    "cm= confusion_matrix(y_test, y_pred_tuned_xgb, labels= tuned_xgb.classes_)\n",
    "print(classification_report(y_test, y_pred_tuned_xgb, zero_division=0))\n",
    "print('Precision:', precision_score(y_test, y_pred_tuned_xgb, zero_division=0))\n",
    "print('Accuracy:', accuracy_score(y_test, y_pred_tuned_xgb))\n",
    "print('AUC:', roc_auc_score(y_test, y_pred_prob_tuned_xgb))\n",
    "dcm_tuned_xgb= ConfusionMatrixDisplay(cm, display_labels= tuned_xgb.classes_)\n",
    "dcm_tuned_xgb.plot()"
   ]
  },
  {
   "cell_type": "code",
   "execution_count": null,
   "id": "57bd651d",
   "metadata": {},
   "outputs": [],
   "source": []
  },
  {
   "cell_type": "markdown",
   "id": "fe4ddc2b",
   "metadata": {},
   "source": [
    "--- LGBM ---"
   ]
  },
  {
   "cell_type": "code",
   "execution_count": 31,
   "id": "0a1effa6",
   "metadata": {},
   "outputs": [
    {
     "name": "stdout",
     "output_type": "stream",
     "text": [
      "[LightGBM] [Info] Number of positive: 2511, number of negative: 4499\n",
      "[LightGBM] [Info] Auto-choosing row-wise multi-threading, the overhead of testing was 0.106042 seconds.\n",
      "You can set `force_row_wise=true` to remove the overhead.\n",
      "And if memory is not enough, you can set `force_col_wise=true`.\n",
      "[LightGBM] [Info] Total Bins 1145\n",
      "[LightGBM] [Info] Number of data points in the train set: 7010, number of used features: 22\n",
      "[LightGBM] [Info] [binary:BoostFromScore]: pavg=0.358203 -> initscore=-0.583174\n",
      "[LightGBM] [Info] Start training from score -0.583174\n",
      "              precision    recall  f1-score   support\n",
      "\n",
      "           0       0.64      0.91      0.75      1125\n",
      "           1       0.29      0.07      0.11       628\n",
      "\n",
      "    accuracy                           0.61      1753\n",
      "   macro avg       0.46      0.49      0.43      1753\n",
      "weighted avg       0.51      0.61      0.52      1753\n",
      "\n",
      "Precision: 0.29285714285714287\n",
      "Accuracy: 0.6086708499714775\n",
      "AUC: 0.5138655343241331\n"
     ]
    },
    {
     "data": {
      "text/plain": [
       "<sklearn.metrics._plot.confusion_matrix.ConfusionMatrixDisplay at 0x1afbc63b880>"
      ]
     },
     "execution_count": 31,
     "metadata": {},
     "output_type": "execute_result"
    },
    {
     "data": {
      "image/png": "[encoded data removed]",
      "text/plain": [
       "<Figure size 432x288 with 2 Axes>"
      ]
     },
     "metadata": {
      "needs_background": "light"
     },
     "output_type": "display_data"
    }
   ],
   "source": [
    "from lightgbm import LGBMClassifier\n",
    "lgm= LGBMClassifier(random_state=15)\n",
    "lgm.fit(X_train, y_train)\n",
    "y_pred_lgm= lgm.predict(X_test)\n",
    "y_pred_prob_lgm= lgm.predict_proba(X_test)[:,1]\n",
    "\n",
    "\n",
    "cm= confusion_matrix(y_test, y_pred_lgm, labels= lgm.classes_)\n",
    "print(classification_report(y_test, y_pred_lgm, zero_division=0))\n",
    "print('Precision:', precision_score(y_test, y_pred_lgm, zero_division=0))\n",
    "print('Accuracy:', accuracy_score(y_test, y_pred_lgm))\n",
    "print('AUC:', roc_auc_score(y_test, y_pred_prob_lgm))\n",
    "dcm_lgm= ConfusionMatrixDisplay(cm, display_labels= lgm.classes_)\n",
    "dcm_lgm.plot()"
   ]
  },
  {
   "cell_type": "code",
   "execution_count": 32,
   "id": "d9dec891",
   "metadata": {},
   "outputs": [
    {
     "name": "stdout",
     "output_type": "stream",
     "text": [
      "Fitting 5 folds for each of 80 candidates, totalling 400 fits\n",
      "[LightGBM] [Warning] min_data_in_leaf is set=400, min_child_samples=20 will be ignored. Current value: min_data_in_leaf=400\n",
      "[LightGBM] [Warning] min_data_in_leaf is set=400, min_child_samples=20 will be ignored. Current value: min_data_in_leaf=400\n",
      "[LightGBM] [Info] Number of positive: 2511, number of negative: 4499\n",
      "[LightGBM] [Info] Auto-choosing row-wise multi-threading, the overhead of testing was 0.006662 seconds.\n",
      "You can set `force_row_wise=true` to remove the overhead.\n",
      "And if memory is not enough, you can set `force_col_wise=true`.\n",
      "[LightGBM] [Info] Total Bins 1145\n",
      "[LightGBM] [Info] Number of data points in the train set: 7010, number of used features: 22\n",
      "[LightGBM] [Info] [binary:BoostFromScore]: pavg=0.358203 -> initscore=-0.583174\n",
      "[LightGBM] [Info] Start training from score -0.583174\n",
      "[LightGBM] [Warning] No further splits with positive gain, best gain: -inf\n",
      "[LightGBM] [Warning] No further splits with positive gain, best gain: -inf\n",
      "[LightGBM] [Warning] No further splits with positive gain, best gain: -inf\n",
      "[LightGBM] [Warning] No further splits with positive gain, best gain: -inf\n",
      "[LightGBM] [Warning] No further splits with positive gain, best gain: -inf\n",
      "[LightGBM] [Warning] No further splits with positive gain, best gain: -inf\n",
      "[LightGBM] [Warning] No further splits with positive gain, best gain: -inf\n",
      "[LightGBM] [Warning] No further splits with positive gain, best gain: -inf\n",
      "[LightGBM] [Warning] No further splits with positive gain, best gain: -inf\n",
      "[LightGBM] [Warning] No further splits with positive gain, best gain: -inf\n",
      "[LightGBM] [Warning] No further splits with positive gain, best gain: -inf\n",
      "[LightGBM] [Warning] No further splits with positive gain, best gain: -inf\n",
      "[LightGBM] [Warning] No further splits with positive gain, best gain: -inf\n",
      "[LightGBM] [Warning] No further splits with positive gain, best gain: -inf\n",
      "[LightGBM] [Warning] No further splits with positive gain, best gain: -inf\n",
      "[LightGBM] [Warning] No further splits with positive gain, best gain: -inf\n",
      "[LightGBM] [Warning] No further splits with positive gain, best gain: -inf\n",
      "[LightGBM] [Warning] No further splits with positive gain, best gain: -inf\n",
      "[LightGBM] [Warning] No further splits with positive gain, best gain: -inf\n",
      "[LightGBM] [Warning] No further splits with positive gain, best gain: -inf\n",
      "[LightGBM] [Warning] No further splits with positive gain, best gain: -inf\n",
      "[LightGBM] [Warning] No further splits with positive gain, best gain: -inf\n",
      "[LightGBM] [Warning] No further splits with positive gain, best gain: -inf\n",
      "[LightGBM] [Warning] No further splits with positive gain, best gain: -inf\n",
      "[LightGBM] [Warning] No further splits with positive gain, best gain: -inf\n",
      "[LightGBM] [Warning] No further splits with positive gain, best gain: -inf\n",
      "[LightGBM] [Warning] No further splits with positive gain, best gain: -inf\n",
      "[LightGBM] [Warning] No further splits with positive gain, best gain: -inf\n",
      "[LightGBM] [Warning] No further splits with positive gain, best gain: -inf\n",
      "[LightGBM] [Warning] No further splits with positive gain, best gain: -inf\n",
      "[LightGBM] [Warning] No further splits with positive gain, best gain: -inf\n",
      "[LightGBM] [Warning] No further splits with positive gain, best gain: -inf\n",
      "[LightGBM] [Warning] No further splits with positive gain, best gain: -inf\n",
      "[LightGBM] [Warning] No further splits with positive gain, best gain: -inf\n",
      "[LightGBM] [Warning] No further splits with positive gain, best gain: -inf\n",
      "[LightGBM] [Warning] No further splits with positive gain, best gain: -inf\n",
      "[LightGBM] [Warning] No further splits with positive gain, best gain: -inf\n",
      "[LightGBM] [Warning] No further splits with positive gain, best gain: -inf\n",
      "[LightGBM] [Warning] No further splits with positive gain, best gain: -inf\n",
      "[LightGBM] [Warning] No further splits with positive gain, best gain: -inf\n",
      "[LightGBM] [Warning] No further splits with positive gain, best gain: -inf\n",
      "[LightGBM] [Warning] No further splits with positive gain, best gain: -inf\n",
      "[LightGBM] [Warning] No further splits with positive gain, best gain: -inf\n",
      "[LightGBM] [Warning] No further splits with positive gain, best gain: -inf\n",
      "[LightGBM] [Warning] No further splits with positive gain, best gain: -inf\n",
      "[LightGBM] [Warning] No further splits with positive gain, best gain: -inf\n",
      "[LightGBM] [Warning] No further splits with positive gain, best gain: -inf\n",
      "[LightGBM] [Warning] No further splits with positive gain, best gain: -inf\n",
      "[LightGBM] [Warning] No further splits with positive gain, best gain: -inf\n",
      "[LightGBM] [Warning] No further splits with positive gain, best gain: -inf\n",
      "[LightGBM] [Warning] No further splits with positive gain, best gain: -inf\n",
      "[LightGBM] [Warning] No further splits with positive gain, best gain: -inf\n",
      "[LightGBM] [Warning] No further splits with positive gain, best gain: -inf\n",
      "[LightGBM] [Warning] No further splits with positive gain, best gain: -inf\n",
      "[LightGBM] [Warning] No further splits with positive gain, best gain: -inf\n",
      "[LightGBM] [Warning] No further splits with positive gain, best gain: -inf\n",
      "[LightGBM] [Warning] No further splits with positive gain, best gain: -inf\n",
      "[LightGBM] [Warning] No further splits with positive gain, best gain: -inf\n",
      "[LightGBM] [Warning] No further splits with positive gain, best gain: -inf\n",
      "[LightGBM] [Warning] No further splits with positive gain, best gain: -inf\n",
      "[LightGBM] [Warning] No further splits with positive gain, best gain: -inf\n",
      "[LightGBM] [Warning] No further splits with positive gain, best gain: -inf\n",
      "[LightGBM] [Warning] No further splits with positive gain, best gain: -inf\n",
      "[LightGBM] [Warning] No further splits with positive gain, best gain: -inf\n",
      "[LightGBM] [Warning] No further splits with positive gain, best gain: -inf\n",
      "[LightGBM] [Warning] No further splits with positive gain, best gain: -inf\n",
      "[LightGBM] [Warning] No further splits with positive gain, best gain: -inf\n",
      "[LightGBM] [Warning] No further splits with positive gain, best gain: -inf\n",
      "[LightGBM] [Warning] No further splits with positive gain, best gain: -inf\n",
      "[LightGBM] [Warning] No further splits with positive gain, best gain: -inf\n",
      "[LightGBM] [Warning] No further splits with positive gain, best gain: -inf\n",
      "[LightGBM] [Warning] No further splits with positive gain, best gain: -inf\n",
      "[LightGBM] [Warning] No further splits with positive gain, best gain: -inf\n",
      "[LightGBM] [Warning] No further splits with positive gain, best gain: -inf\n",
      "[LightGBM] [Warning] No further splits with positive gain, best gain: -inf\n",
      "[LightGBM] [Warning] No further splits with positive gain, best gain: -inf\n",
      "[LightGBM] [Warning] No further splits with positive gain, best gain: -inf\n",
      "[LightGBM] [Warning] No further splits with positive gain, best gain: -inf\n",
      "[LightGBM] [Warning] No further splits with positive gain, best gain: -inf\n",
      "[LightGBM] [Warning] No further splits with positive gain, best gain: -inf\n",
      "[LightGBM] [Warning] No further splits with positive gain, best gain: -inf\n",
      "[LightGBM] [Warning] No further splits with positive gain, best gain: -inf\n",
      "[LightGBM] [Warning] No further splits with positive gain, best gain: -inf\n",
      "[LightGBM] [Warning] No further splits with positive gain, best gain: -inf\n",
      "[LightGBM] [Warning] No further splits with positive gain, best gain: -inf\n",
      "[LightGBM] [Warning] No further splits with positive gain, best gain: -inf\n",
      "[LightGBM] [Warning] No further splits with positive gain, best gain: -inf\n",
      "[LightGBM] [Warning] No further splits with positive gain, best gain: -inf\n",
      "[LightGBM] [Warning] No further splits with positive gain, best gain: -inf\n",
      "[LightGBM] [Warning] No further splits with positive gain, best gain: -inf\n",
      "[LightGBM] [Warning] No further splits with positive gain, best gain: -inf\n",
      "[LightGBM] [Warning] No further splits with positive gain, best gain: -inf\n",
      "[LightGBM] [Warning] No further splits with positive gain, best gain: -inf\n",
      "[LightGBM] [Warning] No further splits with positive gain, best gain: -inf\n",
      "[LightGBM] [Warning] No further splits with positive gain, best gain: -inf\n",
      "[LightGBM] [Warning] No further splits with positive gain, best gain: -inf\n",
      "[LightGBM] [Warning] No further splits with positive gain, best gain: -inf\n",
      "[LightGBM] [Warning] No further splits with positive gain, best gain: -inf\n",
      "[LightGBM] [Warning] No further splits with positive gain, best gain: -inf\n",
      "[LightGBM] [Warning] No further splits with positive gain, best gain: -inf\n",
      "Best Parameters: {'learning_rate': 0.1, 'min_data_in_leaf': 400, 'num_leaves': 31, 'reg_alpha': 0.1}\n",
      "Best Precision Score: 0.4714934091249881\n",
      "[LightGBM] [Warning] min_data_in_leaf is set=400, min_child_samples=20 will be ignored. Current value: min_data_in_leaf=400\n",
      "[LightGBM] [Warning] min_data_in_leaf is set=400, min_child_samples=20 will be ignored. Current value: min_data_in_leaf=400\n",
      "              precision    recall  f1-score   support\n",
      "\n",
      "           0       0.65      0.97      0.77      1125\n",
      "           1       0.44      0.05      0.09       628\n",
      "\n",
      "    accuracy                           0.64      1753\n",
      "   macro avg       0.54      0.51      0.43      1753\n",
      "weighted avg       0.57      0.64      0.53      1753\n",
      "\n",
      "Precision: 0.44285714285714284\n",
      "Accuracy: 0.6371933827723902\n",
      "AUC: 0.5133333333333334\n"
     ]
    },
    {
     "data": {
      "text/plain": [
       "<sklearn.metrics._plot.confusion_matrix.ConfusionMatrixDisplay at 0x1afbb6d5250>"
      ]
     },
     "execution_count": 32,
     "metadata": {},
     "output_type": "execute_result"
    },
    {
     "data": {
      "image/png": "[encoded data removed]",
      "text/plain": [
       "<Figure size 432x288 with 2 Axes>"
      ]
     },
     "metadata": {
      "needs_background": "light"
     },
     "output_type": "display_data"
    }
   ],
   "source": [
    "params_LGB= {'learning_rate': [0.001, 0.01, 0.1, 1.0],\n",
    "             'num_leaves': [31, 127],\n",
    "             'reg_alpha': [0.1, 0.5],\n",
    "             'min_data_in_leaf': [30, 50, 100, 300, 400]}\n",
    "\n",
    "gs_lgm= GridSearchCV(estimator= lgm, param_grid= params_LGB, cv=5, scoring='precision', n_jobs=-1, verbose=2)\n",
    "gs_lgm.fit(X_train, y_train)\n",
    "\n",
    "print(\"Best Parameters:\", gs_lgm.best_params_)\n",
    "print(\"Best Precision Score:\", gs_lgm.best_score_)\n",
    "\n",
    "tuned_lgm= gs_lgm.best_estimator_\n",
    "y_pred_tuned_lgm= tuned_lgm.predict(X_test)\n",
    "y_pred_prob_tuned_lgm= tuned_lgm.predict_proba(X_test)[:,1]\n",
    "\n",
    "\n",
    "cm= confusion_matrix(y_test, y_pred_tuned_lgm, labels= tuned_lgm.classes_)\n",
    "print(classification_report(y_test, y_pred_tuned_lgm, zero_division=0))\n",
    "print('Precision:', precision_score(y_test, y_pred_tuned_lgm, zero_division=0))\n",
    "print('Accuracy:', accuracy_score(y_test, y_pred_tuned_lgm))\n",
    "print('AUC:', roc_auc_score(y_test, y_pred_prob_tuned_lgm))\n",
    "dcm_tuned_lgm= ConfusionMatrixDisplay(cm, display_labels= tuned_lgm.classes_)\n",
    "dcm_tuned_lgm.plot()"
   ]
  },
  {
   "cell_type": "code",
   "execution_count": null,
   "id": "229ae9fa",
   "metadata": {},
   "outputs": [],
   "source": []
  },
  {
   "cell_type": "markdown",
   "id": "9a7670df",
   "metadata": {},
   "source": [
    "--- CatBoost ---"
   ]
  },
  {
   "cell_type": "code",
   "execution_count": 33,
   "id": "cfa1cef8",
   "metadata": {
    "scrolled": true
   },
   "outputs": [
    {
     "name": "stdout",
     "output_type": "stream",
     "text": [
      "Learning rate set to 0.023662\n",
      "0:\tlearn: 0.6909748\ttotal: 154ms\tremaining: 2m 33s\n",
      "1:\tlearn: 0.6889101\ttotal: 161ms\tremaining: 1m 20s\n",
      "2:\tlearn: 0.6869269\ttotal: 169ms\tremaining: 56.3s\n",
      "3:\tlearn: 0.6850353\ttotal: 178ms\tremaining: 44.3s\n",
      "4:\tlearn: 0.6831982\ttotal: 191ms\tremaining: 38s\n",
      "5:\tlearn: 0.6814262\ttotal: 204ms\tremaining: 33.8s\n",
      "6:\tlearn: 0.6797913\ttotal: 213ms\tremaining: 30.3s\n",
      "7:\tlearn: 0.6781598\ttotal: 220ms\tremaining: 27.3s\n",
      "8:\tlearn: 0.6767292\ttotal: 227ms\tremaining: 25s\n",
      "9:\tlearn: 0.6753181\ttotal: 236ms\tremaining: 23.3s\n",
      "10:\tlearn: 0.6738960\ttotal: 243ms\tremaining: 21.8s\n",
      "11:\tlearn: 0.6725408\ttotal: 252ms\tremaining: 20.7s\n",
      "12:\tlearn: 0.6713718\ttotal: 259ms\tremaining: 19.7s\n",
      "13:\tlearn: 0.6701016\ttotal: 267ms\tremaining: 18.8s\n",
      "14:\tlearn: 0.6689999\ttotal: 277ms\tremaining: 18.2s\n",
      "15:\tlearn: 0.6679177\ttotal: 285ms\tremaining: 17.5s\n",
      "16:\tlearn: 0.6667808\ttotal: 294ms\tremaining: 17s\n",
      "17:\tlearn: 0.6658232\ttotal: 302ms\tremaining: 16.5s\n",
      "18:\tlearn: 0.6646794\ttotal: 311ms\tremaining: 16s\n",
      "19:\tlearn: 0.6636120\ttotal: 318ms\tremaining: 15.6s\n",
      "20:\tlearn: 0.6627786\ttotal: 327ms\tremaining: 15.2s\n",
      "21:\tlearn: 0.6618644\ttotal: 334ms\tremaining: 14.9s\n",
      "22:\tlearn: 0.6610103\ttotal: 343ms\tremaining: 14.6s\n",
      "23:\tlearn: 0.6602631\ttotal: 350ms\tremaining: 14.2s\n",
      "24:\tlearn: 0.6594062\ttotal: 360ms\tremaining: 14s\n",
      "25:\tlearn: 0.6586457\ttotal: 370ms\tremaining: 13.9s\n",
      "26:\tlearn: 0.6578018\ttotal: 383ms\tremaining: 13.8s\n",
      "27:\tlearn: 0.6570673\ttotal: 396ms\tremaining: 13.7s\n",
      "28:\tlearn: 0.6563397\ttotal: 407ms\tremaining: 13.6s\n",
      "29:\tlearn: 0.6556367\ttotal: 415ms\tremaining: 13.4s\n",
      "30:\tlearn: 0.6550440\ttotal: 424ms\tremaining: 13.2s\n",
      "31:\tlearn: 0.6542878\ttotal: 431ms\tremaining: 13s\n",
      "32:\tlearn: 0.6536882\ttotal: 441ms\tremaining: 12.9s\n",
      "33:\tlearn: 0.6530268\ttotal: 449ms\tremaining: 12.8s\n",
      "34:\tlearn: 0.6523882\ttotal: 457ms\tremaining: 12.6s\n",
      "35:\tlearn: 0.6517431\ttotal: 466ms\tremaining: 12.5s\n",
      "36:\tlearn: 0.6511870\ttotal: 474ms\tremaining: 12.3s\n",
      "37:\tlearn: 0.6507188\ttotal: 482ms\tremaining: 12.2s\n",
      "38:\tlearn: 0.6502196\ttotal: 490ms\tremaining: 12.1s\n",
      "39:\tlearn: 0.6496831\ttotal: 499ms\tremaining: 12s\n",
      "40:\tlearn: 0.6491132\ttotal: 505ms\tremaining: 11.8s\n",
      "41:\tlearn: 0.6486134\ttotal: 514ms\tremaining: 11.7s\n",
      "42:\tlearn: 0.6480990\ttotal: 521ms\tremaining: 11.6s\n",
      "43:\tlearn: 0.6475833\ttotal: 531ms\tremaining: 11.5s\n",
      "44:\tlearn: 0.6471167\ttotal: 538ms\tremaining: 11.4s\n",
      "45:\tlearn: 0.6466815\ttotal: 546ms\tremaining: 11.3s\n",
      "46:\tlearn: 0.6462032\ttotal: 554ms\tremaining: 11.2s\n",
      "47:\tlearn: 0.6456831\ttotal: 565ms\tremaining: 11.2s\n",
      "48:\tlearn: 0.6452738\ttotal: 576ms\tremaining: 11.2s\n",
      "49:\tlearn: 0.6449310\ttotal: 583ms\tremaining: 11.1s\n",
      "50:\tlearn: 0.6444628\ttotal: 592ms\tremaining: 11s\n",
      "51:\tlearn: 0.6439402\ttotal: 600ms\tremaining: 10.9s\n",
      "52:\tlearn: 0.6435931\ttotal: 608ms\tremaining: 10.9s\n",
      "53:\tlearn: 0.6431296\ttotal: 615ms\tremaining: 10.8s\n",
      "54:\tlearn: 0.6427233\ttotal: 625ms\tremaining: 10.7s\n",
      "55:\tlearn: 0.6423444\ttotal: 632ms\tremaining: 10.7s\n",
      "56:\tlearn: 0.6420470\ttotal: 640ms\tremaining: 10.6s\n",
      "57:\tlearn: 0.6417184\ttotal: 648ms\tremaining: 10.5s\n",
      "58:\tlearn: 0.6414098\ttotal: 655ms\tremaining: 10.4s\n",
      "59:\tlearn: 0.6410586\ttotal: 662ms\tremaining: 10.4s\n",
      "60:\tlearn: 0.6408437\ttotal: 670ms\tremaining: 10.3s\n",
      "61:\tlearn: 0.6405384\ttotal: 678ms\tremaining: 10.3s\n",
      "62:\tlearn: 0.6402463\ttotal: 686ms\tremaining: 10.2s\n",
      "63:\tlearn: 0.6399899\ttotal: 693ms\tremaining: 10.1s\n",
      "64:\tlearn: 0.6396425\ttotal: 703ms\tremaining: 10.1s\n",
      "65:\tlearn: 0.6393041\ttotal: 710ms\tremaining: 10s\n",
      "66:\tlearn: 0.6389396\ttotal: 719ms\tremaining: 10s\n",
      "67:\tlearn: 0.6385951\ttotal: 727ms\tremaining: 9.96s\n",
      "68:\tlearn: 0.6382262\ttotal: 736ms\tremaining: 9.93s\n",
      "69:\tlearn: 0.6379076\ttotal: 743ms\tremaining: 9.87s\n",
      "70:\tlearn: 0.6374953\ttotal: 755ms\tremaining: 9.88s\n",
      "71:\tlearn: 0.6371587\ttotal: 764ms\tremaining: 9.85s\n",
      "72:\tlearn: 0.6370058\ttotal: 772ms\tremaining: 9.8s\n",
      "73:\tlearn: 0.6367965\ttotal: 780ms\tremaining: 9.76s\n",
      "74:\tlearn: 0.6365293\ttotal: 788ms\tremaining: 9.71s\n",
      "75:\tlearn: 0.6362416\ttotal: 796ms\tremaining: 9.68s\n",
      "76:\tlearn: 0.6359851\ttotal: 803ms\tremaining: 9.63s\n",
      "77:\tlearn: 0.6357068\ttotal: 809ms\tremaining: 9.57s\n",
      "78:\tlearn: 0.6354737\ttotal: 817ms\tremaining: 9.53s\n",
      "79:\tlearn: 0.6354366\ttotal: 821ms\tremaining: 9.44s\n",
      "80:\tlearn: 0.6350777\ttotal: 830ms\tremaining: 9.41s\n",
      "81:\tlearn: 0.6350272\ttotal: 838ms\tremaining: 9.38s\n",
      "82:\tlearn: 0.6347457\ttotal: 848ms\tremaining: 9.37s\n",
      "83:\tlearn: 0.6345533\ttotal: 855ms\tremaining: 9.33s\n",
      "84:\tlearn: 0.6342818\ttotal: 863ms\tremaining: 9.29s\n",
      "85:\tlearn: 0.6340325\ttotal: 871ms\tremaining: 9.26s\n",
      "86:\tlearn: 0.6337421\ttotal: 880ms\tremaining: 9.23s\n",
      "87:\tlearn: 0.6336035\ttotal: 888ms\tremaining: 9.2s\n",
      "88:\tlearn: 0.6332498\ttotal: 896ms\tremaining: 9.17s\n",
      "89:\tlearn: 0.6329849\ttotal: 905ms\tremaining: 9.15s\n",
      "90:\tlearn: 0.6327133\ttotal: 912ms\tremaining: 9.11s\n",
      "91:\tlearn: 0.6324923\ttotal: 921ms\tremaining: 9.09s\n",
      "92:\tlearn: 0.6322978\ttotal: 929ms\tremaining: 9.06s\n",
      "93:\tlearn: 0.6320518\ttotal: 943ms\tremaining: 9.09s\n",
      "94:\tlearn: 0.6318309\ttotal: 951ms\tremaining: 9.05s\n",
      "95:\tlearn: 0.6315917\ttotal: 960ms\tremaining: 9.04s\n",
      "96:\tlearn: 0.6313660\ttotal: 970ms\tremaining: 9.03s\n",
      "97:\tlearn: 0.6310732\ttotal: 977ms\tremaining: 8.99s\n",
      "98:\tlearn: 0.6308377\ttotal: 987ms\tremaining: 8.98s\n",
      "99:\tlearn: 0.6306180\ttotal: 996ms\tremaining: 8.97s\n",
      "100:\tlearn: 0.6303827\ttotal: 1s\tremaining: 8.95s\n",
      "101:\tlearn: 0.6302753\ttotal: 1.01s\tremaining: 8.93s\n",
      "102:\tlearn: 0.6299604\ttotal: 1.02s\tremaining: 8.91s\n",
      "103:\tlearn: 0.6298214\ttotal: 1.03s\tremaining: 8.89s\n",
      "104:\tlearn: 0.6295395\ttotal: 1.04s\tremaining: 8.9s\n",
      "105:\tlearn: 0.6292441\ttotal: 1.05s\tremaining: 8.87s\n",
      "106:\tlearn: 0.6290152\ttotal: 1.06s\tremaining: 8.85s\n",
      "107:\tlearn: 0.6288190\ttotal: 1.07s\tremaining: 8.82s\n",
      "108:\tlearn: 0.6285779\ttotal: 1.08s\tremaining: 8.8s\n",
      "109:\tlearn: 0.6283499\ttotal: 1.08s\tremaining: 8.76s\n",
      "110:\tlearn: 0.6280880\ttotal: 1.09s\tremaining: 8.75s\n",
      "111:\tlearn: 0.6278545\ttotal: 1.1s\tremaining: 8.73s\n",
      "112:\tlearn: 0.6276640\ttotal: 1.11s\tremaining: 8.74s\n",
      "113:\tlearn: 0.6275250\ttotal: 1.12s\tremaining: 8.73s\n",
      "114:\tlearn: 0.6272751\ttotal: 1.13s\tremaining: 8.71s\n",
      "115:\tlearn: 0.6270567\ttotal: 1.14s\tremaining: 8.69s\n",
      "116:\tlearn: 0.6267805\ttotal: 1.15s\tremaining: 8.66s\n",
      "117:\tlearn: 0.6265539\ttotal: 1.16s\tremaining: 8.64s\n",
      "118:\tlearn: 0.6264169\ttotal: 1.16s\tremaining: 8.61s\n",
      "119:\tlearn: 0.6261518\ttotal: 1.17s\tremaining: 8.58s\n",
      "120:\tlearn: 0.6258507\ttotal: 1.18s\tremaining: 8.56s\n",
      "121:\tlearn: 0.6256509\ttotal: 1.19s\tremaining: 8.55s\n",
      "122:\tlearn: 0.6254155\ttotal: 1.2s\tremaining: 8.52s\n",
      "123:\tlearn: 0.6251075\ttotal: 1.2s\tremaining: 8.51s\n",
      "124:\tlearn: 0.6248810\ttotal: 1.21s\tremaining: 8.49s\n",
      "125:\tlearn: 0.6245843\ttotal: 1.22s\tremaining: 8.5s\n",
      "126:\tlearn: 0.6244217\ttotal: 1.24s\tremaining: 8.49s\n",
      "127:\tlearn: 0.6242164\ttotal: 1.25s\tremaining: 8.5s\n",
      "128:\tlearn: 0.6239535\ttotal: 1.25s\tremaining: 8.47s\n",
      "129:\tlearn: 0.6236557\ttotal: 1.26s\tremaining: 8.44s\n",
      "130:\tlearn: 0.6233504\ttotal: 1.27s\tremaining: 8.41s\n",
      "131:\tlearn: 0.6231149\ttotal: 1.27s\tremaining: 8.38s\n",
      "132:\tlearn: 0.6228365\ttotal: 1.28s\tremaining: 8.36s\n",
      "133:\tlearn: 0.6226065\ttotal: 1.29s\tremaining: 8.34s\n",
      "134:\tlearn: 0.6224615\ttotal: 1.3s\tremaining: 8.33s\n",
      "135:\tlearn: 0.6222972\ttotal: 1.31s\tremaining: 8.31s\n",
      "136:\tlearn: 0.6220851\ttotal: 1.31s\tremaining: 8.29s\n",
      "137:\tlearn: 0.6219281\ttotal: 1.32s\tremaining: 8.27s\n",
      "138:\tlearn: 0.6217859\ttotal: 1.33s\tremaining: 8.24s\n",
      "139:\tlearn: 0.6214931\ttotal: 1.34s\tremaining: 8.23s\n",
      "140:\tlearn: 0.6212250\ttotal: 1.35s\tremaining: 8.2s\n",
      "141:\tlearn: 0.6210140\ttotal: 1.36s\tremaining: 8.2s\n",
      "142:\tlearn: 0.6207820\ttotal: 1.36s\tremaining: 8.18s\n",
      "143:\tlearn: 0.6205603\ttotal: 1.37s\tremaining: 8.16s\n",
      "144:\tlearn: 0.6203469\ttotal: 1.38s\tremaining: 8.15s\n",
      "145:\tlearn: 0.6201688\ttotal: 1.39s\tremaining: 8.13s\n",
      "146:\tlearn: 0.6199727\ttotal: 1.4s\tremaining: 8.11s\n",
      "147:\tlearn: 0.6197294\ttotal: 1.41s\tremaining: 8.1s\n",
      "148:\tlearn: 0.6194983\ttotal: 1.41s\tremaining: 8.08s\n",
      "149:\tlearn: 0.6191935\ttotal: 1.42s\tremaining: 8.06s\n",
      "150:\tlearn: 0.6189809\ttotal: 1.44s\tremaining: 8.07s\n",
      "151:\tlearn: 0.6187896\ttotal: 1.44s\tremaining: 8.05s\n",
      "152:\tlearn: 0.6185455\ttotal: 1.45s\tremaining: 8.03s\n",
      "153:\tlearn: 0.6183465\ttotal: 1.46s\tremaining: 8.01s\n",
      "154:\tlearn: 0.6180810\ttotal: 1.47s\tremaining: 8.02s\n",
      "155:\tlearn: 0.6176727\ttotal: 1.49s\tremaining: 8.04s\n",
      "156:\tlearn: 0.6174779\ttotal: 1.5s\tremaining: 8.06s\n",
      "157:\tlearn: 0.6172946\ttotal: 1.51s\tremaining: 8.04s\n",
      "158:\tlearn: 0.6170859\ttotal: 1.51s\tremaining: 8.02s\n",
      "159:\tlearn: 0.6168773\ttotal: 1.52s\tremaining: 7.99s\n",
      "160:\tlearn: 0.6166029\ttotal: 1.53s\tremaining: 7.99s\n",
      "161:\tlearn: 0.6164588\ttotal: 1.54s\tremaining: 7.96s\n",
      "162:\tlearn: 0.6162586\ttotal: 1.55s\tremaining: 7.95s\n",
      "163:\tlearn: 0.6159872\ttotal: 1.55s\tremaining: 7.92s\n",
      "164:\tlearn: 0.6157461\ttotal: 1.56s\tremaining: 7.91s\n",
      "165:\tlearn: 0.6154922\ttotal: 1.57s\tremaining: 7.89s\n",
      "166:\tlearn: 0.6152117\ttotal: 1.58s\tremaining: 7.88s\n",
      "167:\tlearn: 0.6149996\ttotal: 1.59s\tremaining: 7.86s\n",
      "168:\tlearn: 0.6148833\ttotal: 1.6s\tremaining: 7.85s\n",
      "169:\tlearn: 0.6147112\ttotal: 1.6s\tremaining: 7.83s\n",
      "170:\tlearn: 0.6145919\ttotal: 1.61s\tremaining: 7.82s\n",
      "171:\tlearn: 0.6143643\ttotal: 1.62s\tremaining: 7.8s\n",
      "172:\tlearn: 0.6141282\ttotal: 1.63s\tremaining: 7.79s\n",
      "173:\tlearn: 0.6139150\ttotal: 1.64s\tremaining: 7.77s\n",
      "174:\tlearn: 0.6137266\ttotal: 1.65s\tremaining: 7.76s\n",
      "175:\tlearn: 0.6135701\ttotal: 1.66s\tremaining: 7.75s\n"
     ]
    },
    {
     "name": "stdout",
     "output_type": "stream",
     "text": [
      "176:\tlearn: 0.6133047\ttotal: 1.67s\tremaining: 7.75s\n",
      "177:\tlearn: 0.6131295\ttotal: 1.68s\tremaining: 7.75s\n",
      "178:\tlearn: 0.6129494\ttotal: 1.69s\tremaining: 7.75s\n",
      "179:\tlearn: 0.6127884\ttotal: 1.7s\tremaining: 7.73s\n",
      "180:\tlearn: 0.6126641\ttotal: 1.71s\tremaining: 7.73s\n",
      "181:\tlearn: 0.6123609\ttotal: 1.72s\tremaining: 7.71s\n",
      "182:\tlearn: 0.6121765\ttotal: 1.72s\tremaining: 7.7s\n",
      "183:\tlearn: 0.6120022\ttotal: 1.73s\tremaining: 7.68s\n",
      "184:\tlearn: 0.6118379\ttotal: 1.74s\tremaining: 7.66s\n",
      "185:\tlearn: 0.6115786\ttotal: 1.75s\tremaining: 7.65s\n",
      "186:\tlearn: 0.6113336\ttotal: 1.76s\tremaining: 7.64s\n",
      "187:\tlearn: 0.6111988\ttotal: 1.76s\tremaining: 7.62s\n",
      "188:\tlearn: 0.6109130\ttotal: 1.77s\tremaining: 7.62s\n",
      "189:\tlearn: 0.6107318\ttotal: 1.78s\tremaining: 7.6s\n",
      "190:\tlearn: 0.6105035\ttotal: 1.79s\tremaining: 7.58s\n",
      "191:\tlearn: 0.6102428\ttotal: 1.8s\tremaining: 7.56s\n",
      "192:\tlearn: 0.6100751\ttotal: 1.8s\tremaining: 7.55s\n",
      "193:\tlearn: 0.6099424\ttotal: 1.81s\tremaining: 7.53s\n",
      "194:\tlearn: 0.6096470\ttotal: 1.82s\tremaining: 7.52s\n",
      "195:\tlearn: 0.6094077\ttotal: 1.83s\tremaining: 7.51s\n",
      "196:\tlearn: 0.6091970\ttotal: 1.84s\tremaining: 7.49s\n",
      "197:\tlearn: 0.6088739\ttotal: 1.85s\tremaining: 7.48s\n",
      "198:\tlearn: 0.6086858\ttotal: 1.86s\tremaining: 7.48s\n",
      "199:\tlearn: 0.6084639\ttotal: 1.87s\tremaining: 7.47s\n",
      "200:\tlearn: 0.6082805\ttotal: 1.87s\tremaining: 7.45s\n",
      "201:\tlearn: 0.6080152\ttotal: 1.88s\tremaining: 7.44s\n",
      "202:\tlearn: 0.6078411\ttotal: 1.89s\tremaining: 7.42s\n",
      "203:\tlearn: 0.6076942\ttotal: 1.9s\tremaining: 7.41s\n",
      "204:\tlearn: 0.6074731\ttotal: 1.91s\tremaining: 7.39s\n",
      "205:\tlearn: 0.6072415\ttotal: 1.91s\tremaining: 7.38s\n",
      "206:\tlearn: 0.6070238\ttotal: 1.92s\tremaining: 7.37s\n",
      "207:\tlearn: 0.6068897\ttotal: 1.93s\tremaining: 7.35s\n",
      "208:\tlearn: 0.6066468\ttotal: 1.94s\tremaining: 7.34s\n",
      "209:\tlearn: 0.6064638\ttotal: 1.95s\tremaining: 7.32s\n",
      "210:\tlearn: 0.6062409\ttotal: 1.96s\tremaining: 7.31s\n",
      "211:\tlearn: 0.6059572\ttotal: 1.96s\tremaining: 7.3s\n",
      "212:\tlearn: 0.6056552\ttotal: 1.97s\tremaining: 7.29s\n",
      "213:\tlearn: 0.6054356\ttotal: 1.98s\tremaining: 7.27s\n",
      "214:\tlearn: 0.6051523\ttotal: 1.99s\tremaining: 7.26s\n",
      "215:\tlearn: 0.6048768\ttotal: 2s\tremaining: 7.25s\n",
      "216:\tlearn: 0.6046666\ttotal: 2.01s\tremaining: 7.24s\n",
      "217:\tlearn: 0.6044040\ttotal: 2.01s\tremaining: 7.22s\n",
      "218:\tlearn: 0.6041699\ttotal: 2.02s\tremaining: 7.22s\n",
      "219:\tlearn: 0.6039968\ttotal: 2.03s\tremaining: 7.21s\n",
      "220:\tlearn: 0.6037671\ttotal: 2.05s\tremaining: 7.21s\n",
      "221:\tlearn: 0.6035559\ttotal: 2.06s\tremaining: 7.21s\n",
      "222:\tlearn: 0.6033251\ttotal: 2.06s\tremaining: 7.19s\n",
      "223:\tlearn: 0.6031245\ttotal: 2.07s\tremaining: 7.17s\n",
      "224:\tlearn: 0.6029411\ttotal: 2.08s\tremaining: 7.16s\n",
      "225:\tlearn: 0.6027606\ttotal: 2.08s\tremaining: 7.14s\n",
      "226:\tlearn: 0.6025244\ttotal: 2.09s\tremaining: 7.12s\n",
      "227:\tlearn: 0.6023151\ttotal: 2.1s\tremaining: 7.11s\n",
      "228:\tlearn: 0.6020808\ttotal: 2.11s\tremaining: 7.1s\n",
      "229:\tlearn: 0.6018866\ttotal: 2.12s\tremaining: 7.08s\n",
      "230:\tlearn: 0.6016408\ttotal: 2.12s\tremaining: 7.07s\n",
      "231:\tlearn: 0.6014775\ttotal: 2.13s\tremaining: 7.05s\n",
      "232:\tlearn: 0.6013069\ttotal: 2.14s\tremaining: 7.04s\n",
      "233:\tlearn: 0.6010519\ttotal: 2.15s\tremaining: 7.03s\n",
      "234:\tlearn: 0.6008372\ttotal: 2.15s\tremaining: 7.01s\n",
      "235:\tlearn: 0.6005743\ttotal: 2.16s\tremaining: 7s\n",
      "236:\tlearn: 0.6003856\ttotal: 2.17s\tremaining: 6.99s\n",
      "237:\tlearn: 0.6001735\ttotal: 2.18s\tremaining: 6.98s\n",
      "238:\tlearn: 0.5999712\ttotal: 2.19s\tremaining: 6.97s\n",
      "239:\tlearn: 0.5997878\ttotal: 2.2s\tremaining: 6.96s\n",
      "240:\tlearn: 0.5996229\ttotal: 2.2s\tremaining: 6.94s\n",
      "241:\tlearn: 0.5994094\ttotal: 2.21s\tremaining: 6.93s\n",
      "242:\tlearn: 0.5991994\ttotal: 2.23s\tremaining: 6.93s\n",
      "243:\tlearn: 0.5990102\ttotal: 2.23s\tremaining: 6.92s\n",
      "244:\tlearn: 0.5988316\ttotal: 2.24s\tremaining: 6.92s\n",
      "245:\tlearn: 0.5985466\ttotal: 2.25s\tremaining: 6.9s\n",
      "246:\tlearn: 0.5983953\ttotal: 2.26s\tremaining: 6.89s\n",
      "247:\tlearn: 0.5982039\ttotal: 2.27s\tremaining: 6.89s\n",
      "248:\tlearn: 0.5980539\ttotal: 2.29s\tremaining: 6.89s\n",
      "249:\tlearn: 0.5978462\ttotal: 2.29s\tremaining: 6.88s\n",
      "250:\tlearn: 0.5977079\ttotal: 2.3s\tremaining: 6.87s\n",
      "251:\tlearn: 0.5975885\ttotal: 2.31s\tremaining: 6.86s\n",
      "252:\tlearn: 0.5973712\ttotal: 2.32s\tremaining: 6.85s\n",
      "253:\tlearn: 0.5971535\ttotal: 2.33s\tremaining: 6.83s\n",
      "254:\tlearn: 0.5969357\ttotal: 2.33s\tremaining: 6.82s\n",
      "255:\tlearn: 0.5967959\ttotal: 2.35s\tremaining: 6.82s\n",
      "256:\tlearn: 0.5965379\ttotal: 2.36s\tremaining: 6.83s\n",
      "257:\tlearn: 0.5963453\ttotal: 2.37s\tremaining: 6.82s\n",
      "258:\tlearn: 0.5961753\ttotal: 2.38s\tremaining: 6.8s\n",
      "259:\tlearn: 0.5960614\ttotal: 2.39s\tremaining: 6.79s\n",
      "260:\tlearn: 0.5958473\ttotal: 2.39s\tremaining: 6.78s\n",
      "261:\tlearn: 0.5956491\ttotal: 2.4s\tremaining: 6.77s\n",
      "262:\tlearn: 0.5954239\ttotal: 2.41s\tremaining: 6.75s\n",
      "263:\tlearn: 0.5951804\ttotal: 2.42s\tremaining: 6.75s\n",
      "264:\tlearn: 0.5950319\ttotal: 2.43s\tremaining: 6.74s\n",
      "265:\tlearn: 0.5948127\ttotal: 2.44s\tremaining: 6.73s\n",
      "266:\tlearn: 0.5946318\ttotal: 2.45s\tremaining: 6.71s\n",
      "267:\tlearn: 0.5945133\ttotal: 2.45s\tremaining: 6.7s\n",
      "268:\tlearn: 0.5943031\ttotal: 2.46s\tremaining: 6.69s\n",
      "269:\tlearn: 0.5941027\ttotal: 2.47s\tremaining: 6.68s\n",
      "270:\tlearn: 0.5939575\ttotal: 2.48s\tremaining: 6.67s\n",
      "271:\tlearn: 0.5937202\ttotal: 2.49s\tremaining: 6.66s\n",
      "272:\tlearn: 0.5935211\ttotal: 2.5s\tremaining: 6.65s\n",
      "273:\tlearn: 0.5933118\ttotal: 2.5s\tremaining: 6.64s\n",
      "274:\tlearn: 0.5930458\ttotal: 2.51s\tremaining: 6.63s\n",
      "275:\tlearn: 0.5927774\ttotal: 2.52s\tremaining: 6.61s\n",
      "276:\tlearn: 0.5925582\ttotal: 2.53s\tremaining: 6.6s\n",
      "277:\tlearn: 0.5923674\ttotal: 2.54s\tremaining: 6.59s\n",
      "278:\tlearn: 0.5921183\ttotal: 2.54s\tremaining: 6.58s\n",
      "279:\tlearn: 0.5919553\ttotal: 2.55s\tremaining: 6.56s\n",
      "280:\tlearn: 0.5916791\ttotal: 2.56s\tremaining: 6.55s\n",
      "281:\tlearn: 0.5915058\ttotal: 2.57s\tremaining: 6.54s\n",
      "282:\tlearn: 0.5912056\ttotal: 2.58s\tremaining: 6.53s\n",
      "283:\tlearn: 0.5909455\ttotal: 2.58s\tremaining: 6.51s\n",
      "284:\tlearn: 0.5908087\ttotal: 2.59s\tremaining: 6.5s\n",
      "285:\tlearn: 0.5906059\ttotal: 2.6s\tremaining: 6.49s\n",
      "286:\tlearn: 0.5903389\ttotal: 2.61s\tremaining: 6.5s\n",
      "287:\tlearn: 0.5901209\ttotal: 2.62s\tremaining: 6.49s\n",
      "288:\tlearn: 0.5898814\ttotal: 2.63s\tremaining: 6.47s\n",
      "289:\tlearn: 0.5897338\ttotal: 2.64s\tremaining: 6.46s\n",
      "290:\tlearn: 0.5895172\ttotal: 2.65s\tremaining: 6.45s\n",
      "291:\tlearn: 0.5893193\ttotal: 2.65s\tremaining: 6.44s\n",
      "292:\tlearn: 0.5891419\ttotal: 2.66s\tremaining: 6.43s\n",
      "293:\tlearn: 0.5888865\ttotal: 2.67s\tremaining: 6.42s\n",
      "294:\tlearn: 0.5887672\ttotal: 2.68s\tremaining: 6.4s\n",
      "295:\tlearn: 0.5886491\ttotal: 2.69s\tremaining: 6.39s\n",
      "296:\tlearn: 0.5884751\ttotal: 2.69s\tremaining: 6.38s\n",
      "297:\tlearn: 0.5882395\ttotal: 2.7s\tremaining: 6.37s\n",
      "298:\tlearn: 0.5880639\ttotal: 2.71s\tremaining: 6.36s\n",
      "299:\tlearn: 0.5878679\ttotal: 2.72s\tremaining: 6.35s\n",
      "300:\tlearn: 0.5876718\ttotal: 2.73s\tremaining: 6.33s\n",
      "301:\tlearn: 0.5874794\ttotal: 2.73s\tremaining: 6.32s\n",
      "302:\tlearn: 0.5872285\ttotal: 2.74s\tremaining: 6.31s\n",
      "303:\tlearn: 0.5870629\ttotal: 2.75s\tremaining: 6.3s\n",
      "304:\tlearn: 0.5868865\ttotal: 2.76s\tremaining: 6.29s\n",
      "305:\tlearn: 0.5867179\ttotal: 2.77s\tremaining: 6.28s\n",
      "306:\tlearn: 0.5865656\ttotal: 2.78s\tremaining: 6.27s\n",
      "307:\tlearn: 0.5863107\ttotal: 2.79s\tremaining: 6.26s\n",
      "308:\tlearn: 0.5861006\ttotal: 2.79s\tremaining: 6.25s\n",
      "309:\tlearn: 0.5858991\ttotal: 2.81s\tremaining: 6.25s\n",
      "310:\tlearn: 0.5857607\ttotal: 2.81s\tremaining: 6.23s\n",
      "311:\tlearn: 0.5855809\ttotal: 2.82s\tremaining: 6.22s\n",
      "312:\tlearn: 0.5853498\ttotal: 2.83s\tremaining: 6.21s\n",
      "313:\tlearn: 0.5851592\ttotal: 2.84s\tremaining: 6.2s\n",
      "314:\tlearn: 0.5850029\ttotal: 2.85s\tremaining: 6.19s\n",
      "315:\tlearn: 0.5847883\ttotal: 2.85s\tremaining: 6.18s\n",
      "316:\tlearn: 0.5845623\ttotal: 2.86s\tremaining: 6.16s\n",
      "317:\tlearn: 0.5843702\ttotal: 2.87s\tremaining: 6.16s\n",
      "318:\tlearn: 0.5841697\ttotal: 2.88s\tremaining: 6.14s\n",
      "319:\tlearn: 0.5839076\ttotal: 2.89s\tremaining: 6.13s\n",
      "320:\tlearn: 0.5835960\ttotal: 2.89s\tremaining: 6.12s\n",
      "321:\tlearn: 0.5834091\ttotal: 2.9s\tremaining: 6.12s\n",
      "322:\tlearn: 0.5832162\ttotal: 2.91s\tremaining: 6.1s\n",
      "323:\tlearn: 0.5830463\ttotal: 2.92s\tremaining: 6.09s\n",
      "324:\tlearn: 0.5829028\ttotal: 2.93s\tremaining: 6.08s\n",
      "325:\tlearn: 0.5826656\ttotal: 2.94s\tremaining: 6.07s\n",
      "326:\tlearn: 0.5825247\ttotal: 2.95s\tremaining: 6.06s\n",
      "327:\tlearn: 0.5823870\ttotal: 2.95s\tremaining: 6.05s\n",
      "328:\tlearn: 0.5821521\ttotal: 2.96s\tremaining: 6.04s\n",
      "329:\tlearn: 0.5819753\ttotal: 2.97s\tremaining: 6.03s\n",
      "330:\tlearn: 0.5818515\ttotal: 2.98s\tremaining: 6.03s\n",
      "331:\tlearn: 0.5815836\ttotal: 2.99s\tremaining: 6.01s\n",
      "332:\tlearn: 0.5814469\ttotal: 3s\tremaining: 6.01s\n",
      "333:\tlearn: 0.5811961\ttotal: 3.01s\tremaining: 6s\n",
      "334:\tlearn: 0.5809660\ttotal: 3.02s\tremaining: 5.99s\n",
      "335:\tlearn: 0.5807367\ttotal: 3.02s\tremaining: 5.97s\n",
      "336:\tlearn: 0.5805171\ttotal: 3.03s\tremaining: 5.97s\n",
      "337:\tlearn: 0.5803833\ttotal: 3.04s\tremaining: 5.96s\n",
      "338:\tlearn: 0.5801859\ttotal: 3.05s\tremaining: 5.94s\n",
      "339:\tlearn: 0.5799217\ttotal: 3.06s\tremaining: 5.93s\n",
      "340:\tlearn: 0.5797420\ttotal: 3.06s\tremaining: 5.92s\n",
      "341:\tlearn: 0.5795476\ttotal: 3.07s\tremaining: 5.91s\n",
      "342:\tlearn: 0.5793485\ttotal: 3.08s\tremaining: 5.9s\n",
      "343:\tlearn: 0.5790959\ttotal: 3.09s\tremaining: 5.89s\n",
      "344:\tlearn: 0.5789121\ttotal: 3.1s\tremaining: 5.88s\n",
      "345:\tlearn: 0.5787414\ttotal: 3.11s\tremaining: 5.87s\n",
      "346:\tlearn: 0.5786070\ttotal: 3.12s\tremaining: 5.86s\n",
      "347:\tlearn: 0.5784675\ttotal: 3.12s\tremaining: 5.85s\n",
      "348:\tlearn: 0.5782080\ttotal: 3.13s\tremaining: 5.84s\n",
      "349:\tlearn: 0.5780004\ttotal: 3.14s\tremaining: 5.83s\n"
     ]
    },
    {
     "name": "stdout",
     "output_type": "stream",
     "text": [
      "350:\tlearn: 0.5777526\ttotal: 3.15s\tremaining: 5.82s\n",
      "351:\tlearn: 0.5776190\ttotal: 3.16s\tremaining: 5.82s\n",
      "352:\tlearn: 0.5774604\ttotal: 3.17s\tremaining: 5.81s\n",
      "353:\tlearn: 0.5772092\ttotal: 3.18s\tremaining: 5.8s\n",
      "354:\tlearn: 0.5769573\ttotal: 3.19s\tremaining: 5.79s\n",
      "355:\tlearn: 0.5768465\ttotal: 3.19s\tremaining: 5.78s\n",
      "356:\tlearn: 0.5766689\ttotal: 3.2s\tremaining: 5.77s\n",
      "357:\tlearn: 0.5764610\ttotal: 3.21s\tremaining: 5.76s\n",
      "358:\tlearn: 0.5762896\ttotal: 3.22s\tremaining: 5.75s\n",
      "359:\tlearn: 0.5760797\ttotal: 3.23s\tremaining: 5.74s\n",
      "360:\tlearn: 0.5758731\ttotal: 3.23s\tremaining: 5.72s\n",
      "361:\tlearn: 0.5757227\ttotal: 3.24s\tremaining: 5.71s\n",
      "362:\tlearn: 0.5754496\ttotal: 3.25s\tremaining: 5.71s\n",
      "363:\tlearn: 0.5752441\ttotal: 3.26s\tremaining: 5.69s\n",
      "364:\tlearn: 0.5750575\ttotal: 3.27s\tremaining: 5.68s\n",
      "365:\tlearn: 0.5747949\ttotal: 3.28s\tremaining: 5.67s\n",
      "366:\tlearn: 0.5745446\ttotal: 3.29s\tremaining: 5.67s\n",
      "367:\tlearn: 0.5743473\ttotal: 3.29s\tremaining: 5.66s\n",
      "368:\tlearn: 0.5741047\ttotal: 3.3s\tremaining: 5.65s\n",
      "369:\tlearn: 0.5739493\ttotal: 3.31s\tremaining: 5.64s\n",
      "370:\tlearn: 0.5737990\ttotal: 3.32s\tremaining: 5.63s\n",
      "371:\tlearn: 0.5736238\ttotal: 3.33s\tremaining: 5.62s\n",
      "372:\tlearn: 0.5734189\ttotal: 3.34s\tremaining: 5.62s\n",
      "373:\tlearn: 0.5732024\ttotal: 3.35s\tremaining: 5.61s\n",
      "374:\tlearn: 0.5730890\ttotal: 3.36s\tremaining: 5.6s\n",
      "375:\tlearn: 0.5728859\ttotal: 3.36s\tremaining: 5.58s\n",
      "376:\tlearn: 0.5727126\ttotal: 3.37s\tremaining: 5.57s\n",
      "377:\tlearn: 0.5724685\ttotal: 3.38s\tremaining: 5.56s\n",
      "378:\tlearn: 0.5722835\ttotal: 3.39s\tremaining: 5.55s\n",
      "379:\tlearn: 0.5720538\ttotal: 3.39s\tremaining: 5.54s\n",
      "380:\tlearn: 0.5718621\ttotal: 3.4s\tremaining: 5.53s\n",
      "381:\tlearn: 0.5716366\ttotal: 3.41s\tremaining: 5.51s\n",
      "382:\tlearn: 0.5714103\ttotal: 3.42s\tremaining: 5.5s\n",
      "383:\tlearn: 0.5712710\ttotal: 3.42s\tremaining: 5.49s\n",
      "384:\tlearn: 0.5711287\ttotal: 3.43s\tremaining: 5.48s\n",
      "385:\tlearn: 0.5709116\ttotal: 3.44s\tremaining: 5.47s\n",
      "386:\tlearn: 0.5707788\ttotal: 3.45s\tremaining: 5.46s\n",
      "387:\tlearn: 0.5706327\ttotal: 3.46s\tremaining: 5.45s\n",
      "388:\tlearn: 0.5704269\ttotal: 3.47s\tremaining: 5.44s\n",
      "389:\tlearn: 0.5702231\ttotal: 3.47s\tremaining: 5.43s\n",
      "390:\tlearn: 0.5700747\ttotal: 3.48s\tremaining: 5.42s\n",
      "391:\tlearn: 0.5698747\ttotal: 3.49s\tremaining: 5.41s\n",
      "392:\tlearn: 0.5696897\ttotal: 3.5s\tremaining: 5.4s\n",
      "393:\tlearn: 0.5694361\ttotal: 3.5s\tremaining: 5.39s\n",
      "394:\tlearn: 0.5692038\ttotal: 3.51s\tremaining: 5.38s\n",
      "395:\tlearn: 0.5689007\ttotal: 3.52s\tremaining: 5.38s\n",
      "396:\tlearn: 0.5687288\ttotal: 3.54s\tremaining: 5.37s\n",
      "397:\tlearn: 0.5685422\ttotal: 3.54s\tremaining: 5.36s\n",
      "398:\tlearn: 0.5683662\ttotal: 3.55s\tremaining: 5.35s\n",
      "399:\tlearn: 0.5680963\ttotal: 3.56s\tremaining: 5.34s\n",
      "400:\tlearn: 0.5678202\ttotal: 3.57s\tremaining: 5.33s\n",
      "401:\tlearn: 0.5675738\ttotal: 3.58s\tremaining: 5.33s\n",
      "402:\tlearn: 0.5672942\ttotal: 3.59s\tremaining: 5.31s\n",
      "403:\tlearn: 0.5671433\ttotal: 3.6s\tremaining: 5.31s\n",
      "404:\tlearn: 0.5669140\ttotal: 3.61s\tremaining: 5.3s\n",
      "405:\tlearn: 0.5667983\ttotal: 3.61s\tremaining: 5.29s\n",
      "406:\tlearn: 0.5666415\ttotal: 3.62s\tremaining: 5.28s\n",
      "407:\tlearn: 0.5664921\ttotal: 3.63s\tremaining: 5.27s\n",
      "408:\tlearn: 0.5662024\ttotal: 3.64s\tremaining: 5.26s\n",
      "409:\tlearn: 0.5659390\ttotal: 3.65s\tremaining: 5.25s\n",
      "410:\tlearn: 0.5657352\ttotal: 3.66s\tremaining: 5.24s\n",
      "411:\tlearn: 0.5655331\ttotal: 3.66s\tremaining: 5.23s\n",
      "412:\tlearn: 0.5652843\ttotal: 3.67s\tremaining: 5.22s\n",
      "413:\tlearn: 0.5650842\ttotal: 3.68s\tremaining: 5.21s\n",
      "414:\tlearn: 0.5649155\ttotal: 3.69s\tremaining: 5.2s\n",
      "415:\tlearn: 0.5647275\ttotal: 3.7s\tremaining: 5.19s\n",
      "416:\tlearn: 0.5645600\ttotal: 3.7s\tremaining: 5.18s\n",
      "417:\tlearn: 0.5643839\ttotal: 3.71s\tremaining: 5.17s\n",
      "418:\tlearn: 0.5642450\ttotal: 3.73s\tremaining: 5.17s\n",
      "419:\tlearn: 0.5640020\ttotal: 3.73s\tremaining: 5.16s\n",
      "420:\tlearn: 0.5637783\ttotal: 3.74s\tremaining: 5.15s\n",
      "421:\tlearn: 0.5635614\ttotal: 3.75s\tremaining: 5.14s\n",
      "422:\tlearn: 0.5632888\ttotal: 3.76s\tremaining: 5.13s\n",
      "423:\tlearn: 0.5630914\ttotal: 3.77s\tremaining: 5.12s\n",
      "424:\tlearn: 0.5628785\ttotal: 3.77s\tremaining: 5.11s\n",
      "425:\tlearn: 0.5626792\ttotal: 3.78s\tremaining: 5.1s\n",
      "426:\tlearn: 0.5624549\ttotal: 3.79s\tremaining: 5.09s\n",
      "427:\tlearn: 0.5621923\ttotal: 3.8s\tremaining: 5.08s\n",
      "428:\tlearn: 0.5619777\ttotal: 3.81s\tremaining: 5.07s\n",
      "429:\tlearn: 0.5617261\ttotal: 3.81s\tremaining: 5.06s\n",
      "430:\tlearn: 0.5615466\ttotal: 3.82s\tremaining: 5.05s\n",
      "431:\tlearn: 0.5613752\ttotal: 3.83s\tremaining: 5.04s\n",
      "432:\tlearn: 0.5612245\ttotal: 3.84s\tremaining: 5.03s\n",
      "433:\tlearn: 0.5610268\ttotal: 3.85s\tremaining: 5.02s\n",
      "434:\tlearn: 0.5608111\ttotal: 3.86s\tremaining: 5.01s\n",
      "435:\tlearn: 0.5605809\ttotal: 3.86s\tremaining: 5s\n",
      "436:\tlearn: 0.5603807\ttotal: 3.87s\tremaining: 4.99s\n",
      "437:\tlearn: 0.5601668\ttotal: 3.88s\tremaining: 4.98s\n",
      "438:\tlearn: 0.5598444\ttotal: 3.89s\tremaining: 4.97s\n",
      "439:\tlearn: 0.5595391\ttotal: 3.9s\tremaining: 4.96s\n",
      "440:\tlearn: 0.5592272\ttotal: 3.91s\tremaining: 4.95s\n",
      "441:\tlearn: 0.5590925\ttotal: 3.92s\tremaining: 4.95s\n",
      "442:\tlearn: 0.5589026\ttotal: 3.92s\tremaining: 4.93s\n",
      "443:\tlearn: 0.5587820\ttotal: 3.93s\tremaining: 4.93s\n",
      "444:\tlearn: 0.5585567\ttotal: 3.94s\tremaining: 4.92s\n",
      "445:\tlearn: 0.5582982\ttotal: 3.95s\tremaining: 4.91s\n",
      "446:\tlearn: 0.5581347\ttotal: 3.96s\tremaining: 4.9s\n",
      "447:\tlearn: 0.5579095\ttotal: 3.97s\tremaining: 4.89s\n",
      "448:\tlearn: 0.5576656\ttotal: 3.97s\tremaining: 4.88s\n",
      "449:\tlearn: 0.5574193\ttotal: 3.98s\tremaining: 4.87s\n",
      "450:\tlearn: 0.5572120\ttotal: 3.99s\tremaining: 4.86s\n",
      "451:\tlearn: 0.5570550\ttotal: 4s\tremaining: 4.85s\n",
      "452:\tlearn: 0.5568617\ttotal: 4.01s\tremaining: 4.84s\n",
      "453:\tlearn: 0.5566431\ttotal: 4.01s\tremaining: 4.83s\n",
      "454:\tlearn: 0.5563046\ttotal: 4.02s\tremaining: 4.82s\n",
      "455:\tlearn: 0.5560390\ttotal: 4.03s\tremaining: 4.81s\n",
      "456:\tlearn: 0.5558766\ttotal: 4.04s\tremaining: 4.8s\n",
      "457:\tlearn: 0.5555908\ttotal: 4.05s\tremaining: 4.79s\n",
      "458:\tlearn: 0.5554417\ttotal: 4.05s\tremaining: 4.78s\n",
      "459:\tlearn: 0.5551832\ttotal: 4.06s\tremaining: 4.77s\n",
      "460:\tlearn: 0.5549756\ttotal: 4.07s\tremaining: 4.76s\n",
      "461:\tlearn: 0.5547577\ttotal: 4.08s\tremaining: 4.75s\n",
      "462:\tlearn: 0.5545012\ttotal: 4.08s\tremaining: 4.74s\n",
      "463:\tlearn: 0.5542720\ttotal: 4.09s\tremaining: 4.73s\n",
      "464:\tlearn: 0.5540780\ttotal: 4.11s\tremaining: 4.72s\n",
      "465:\tlearn: 0.5538104\ttotal: 4.11s\tremaining: 4.71s\n",
      "466:\tlearn: 0.5536205\ttotal: 4.12s\tremaining: 4.71s\n",
      "467:\tlearn: 0.5533734\ttotal: 4.13s\tremaining: 4.7s\n",
      "468:\tlearn: 0.5531723\ttotal: 4.14s\tremaining: 4.69s\n",
      "469:\tlearn: 0.5528846\ttotal: 4.15s\tremaining: 4.68s\n",
      "470:\tlearn: 0.5526484\ttotal: 4.15s\tremaining: 4.67s\n",
      "471:\tlearn: 0.5524510\ttotal: 4.16s\tremaining: 4.66s\n",
      "472:\tlearn: 0.5522517\ttotal: 4.17s\tremaining: 4.65s\n",
      "473:\tlearn: 0.5521017\ttotal: 4.18s\tremaining: 4.64s\n",
      "474:\tlearn: 0.5519383\ttotal: 4.18s\tremaining: 4.63s\n",
      "475:\tlearn: 0.5517438\ttotal: 4.19s\tremaining: 4.62s\n",
      "476:\tlearn: 0.5515732\ttotal: 4.2s\tremaining: 4.61s\n",
      "477:\tlearn: 0.5512753\ttotal: 4.21s\tremaining: 4.6s\n",
      "478:\tlearn: 0.5510278\ttotal: 4.22s\tremaining: 4.59s\n",
      "479:\tlearn: 0.5507938\ttotal: 4.23s\tremaining: 4.58s\n",
      "480:\tlearn: 0.5505470\ttotal: 4.23s\tremaining: 4.57s\n",
      "481:\tlearn: 0.5503686\ttotal: 4.24s\tremaining: 4.56s\n",
      "482:\tlearn: 0.5502028\ttotal: 4.25s\tremaining: 4.55s\n",
      "483:\tlearn: 0.5500562\ttotal: 4.26s\tremaining: 4.54s\n",
      "484:\tlearn: 0.5498342\ttotal: 4.26s\tremaining: 4.53s\n",
      "485:\tlearn: 0.5496927\ttotal: 4.28s\tremaining: 4.52s\n",
      "486:\tlearn: 0.5494888\ttotal: 4.29s\tremaining: 4.52s\n",
      "487:\tlearn: 0.5493416\ttotal: 4.29s\tremaining: 4.5s\n",
      "488:\tlearn: 0.5491686\ttotal: 4.3s\tremaining: 4.5s\n",
      "489:\tlearn: 0.5490432\ttotal: 4.31s\tremaining: 4.48s\n",
      "490:\tlearn: 0.5487897\ttotal: 4.32s\tremaining: 4.48s\n",
      "491:\tlearn: 0.5485477\ttotal: 4.33s\tremaining: 4.46s\n",
      "492:\tlearn: 0.5483122\ttotal: 4.33s\tremaining: 4.46s\n",
      "493:\tlearn: 0.5480414\ttotal: 4.34s\tremaining: 4.45s\n",
      "494:\tlearn: 0.5478129\ttotal: 4.35s\tremaining: 4.44s\n",
      "495:\tlearn: 0.5476309\ttotal: 4.36s\tremaining: 4.43s\n",
      "496:\tlearn: 0.5474052\ttotal: 4.37s\tremaining: 4.42s\n",
      "497:\tlearn: 0.5471042\ttotal: 4.37s\tremaining: 4.41s\n",
      "498:\tlearn: 0.5468837\ttotal: 4.38s\tremaining: 4.4s\n",
      "499:\tlearn: 0.5466763\ttotal: 4.39s\tremaining: 4.39s\n",
      "500:\tlearn: 0.5464526\ttotal: 4.4s\tremaining: 4.38s\n",
      "501:\tlearn: 0.5461824\ttotal: 4.41s\tremaining: 4.37s\n",
      "502:\tlearn: 0.5460686\ttotal: 4.41s\tremaining: 4.36s\n",
      "503:\tlearn: 0.5459220\ttotal: 4.42s\tremaining: 4.35s\n",
      "504:\tlearn: 0.5456936\ttotal: 4.43s\tremaining: 4.34s\n",
      "505:\tlearn: 0.5453673\ttotal: 4.44s\tremaining: 4.34s\n",
      "506:\tlearn: 0.5452013\ttotal: 4.45s\tremaining: 4.33s\n",
      "507:\tlearn: 0.5448732\ttotal: 4.46s\tremaining: 4.32s\n",
      "508:\tlearn: 0.5446850\ttotal: 4.46s\tremaining: 4.31s\n",
      "509:\tlearn: 0.5443373\ttotal: 4.47s\tremaining: 4.3s\n",
      "510:\tlearn: 0.5441696\ttotal: 4.49s\tremaining: 4.29s\n",
      "511:\tlearn: 0.5440287\ttotal: 4.49s\tremaining: 4.28s\n",
      "512:\tlearn: 0.5438054\ttotal: 4.5s\tremaining: 4.27s\n",
      "513:\tlearn: 0.5435588\ttotal: 4.51s\tremaining: 4.26s\n",
      "514:\tlearn: 0.5433028\ttotal: 4.51s\tremaining: 4.25s\n",
      "515:\tlearn: 0.5430949\ttotal: 4.52s\tremaining: 4.24s\n",
      "516:\tlearn: 0.5428297\ttotal: 4.53s\tremaining: 4.23s\n",
      "517:\tlearn: 0.5425742\ttotal: 4.54s\tremaining: 4.22s\n",
      "518:\tlearn: 0.5423174\ttotal: 4.54s\tremaining: 4.21s\n",
      "519:\tlearn: 0.5421109\ttotal: 4.55s\tremaining: 4.2s\n",
      "520:\tlearn: 0.5419396\ttotal: 4.56s\tremaining: 4.19s\n",
      "521:\tlearn: 0.5417589\ttotal: 4.57s\tremaining: 4.18s\n",
      "522:\tlearn: 0.5414342\ttotal: 4.58s\tremaining: 4.17s\n",
      "523:\tlearn: 0.5412114\ttotal: 4.59s\tremaining: 4.17s\n",
      "524:\tlearn: 0.5409948\ttotal: 4.6s\tremaining: 4.16s\n",
      "525:\tlearn: 0.5408014\ttotal: 4.61s\tremaining: 4.15s\n",
      "526:\tlearn: 0.5405951\ttotal: 4.62s\tremaining: 4.14s\n",
      "527:\tlearn: 0.5403689\ttotal: 4.63s\tremaining: 4.13s\n",
      "528:\tlearn: 0.5401922\ttotal: 4.63s\tremaining: 4.13s\n"
     ]
    },
    {
     "name": "stdout",
     "output_type": "stream",
     "text": [
      "529:\tlearn: 0.5399711\ttotal: 4.65s\tremaining: 4.12s\n",
      "530:\tlearn: 0.5398140\ttotal: 4.66s\tremaining: 4.11s\n",
      "531:\tlearn: 0.5396022\ttotal: 4.66s\tremaining: 4.1s\n",
      "532:\tlearn: 0.5393752\ttotal: 4.67s\tremaining: 4.09s\n",
      "533:\tlearn: 0.5391765\ttotal: 4.68s\tremaining: 4.08s\n",
      "534:\tlearn: 0.5389771\ttotal: 4.69s\tremaining: 4.07s\n",
      "535:\tlearn: 0.5387687\ttotal: 4.7s\tremaining: 4.07s\n",
      "536:\tlearn: 0.5385311\ttotal: 4.7s\tremaining: 4.06s\n",
      "537:\tlearn: 0.5383280\ttotal: 4.71s\tremaining: 4.05s\n",
      "538:\tlearn: 0.5381641\ttotal: 4.72s\tremaining: 4.04s\n",
      "539:\tlearn: 0.5379798\ttotal: 4.73s\tremaining: 4.03s\n",
      "540:\tlearn: 0.5377498\ttotal: 4.73s\tremaining: 4.02s\n",
      "541:\tlearn: 0.5375167\ttotal: 4.74s\tremaining: 4.01s\n",
      "542:\tlearn: 0.5372504\ttotal: 4.75s\tremaining: 4s\n",
      "543:\tlearn: 0.5370965\ttotal: 4.76s\tremaining: 3.99s\n",
      "544:\tlearn: 0.5369244\ttotal: 4.76s\tremaining: 3.98s\n",
      "545:\tlearn: 0.5366897\ttotal: 4.77s\tremaining: 3.97s\n",
      "546:\tlearn: 0.5364407\ttotal: 4.78s\tremaining: 3.96s\n",
      "547:\tlearn: 0.5361875\ttotal: 4.79s\tremaining: 3.95s\n",
      "548:\tlearn: 0.5359703\ttotal: 4.8s\tremaining: 3.94s\n",
      "549:\tlearn: 0.5358136\ttotal: 4.8s\tremaining: 3.93s\n",
      "550:\tlearn: 0.5355778\ttotal: 4.81s\tremaining: 3.92s\n",
      "551:\tlearn: 0.5354130\ttotal: 4.82s\tremaining: 3.91s\n",
      "552:\tlearn: 0.5352350\ttotal: 4.83s\tremaining: 3.91s\n",
      "553:\tlearn: 0.5350956\ttotal: 4.84s\tremaining: 3.9s\n",
      "554:\tlearn: 0.5349371\ttotal: 4.85s\tremaining: 3.89s\n",
      "555:\tlearn: 0.5348042\ttotal: 4.86s\tremaining: 3.88s\n",
      "556:\tlearn: 0.5345779\ttotal: 4.86s\tremaining: 3.87s\n",
      "557:\tlearn: 0.5342941\ttotal: 4.87s\tremaining: 3.86s\n",
      "558:\tlearn: 0.5340429\ttotal: 4.88s\tremaining: 3.85s\n",
      "559:\tlearn: 0.5338417\ttotal: 4.89s\tremaining: 3.84s\n",
      "560:\tlearn: 0.5336426\ttotal: 4.9s\tremaining: 3.83s\n",
      "561:\tlearn: 0.5333775\ttotal: 4.91s\tremaining: 3.82s\n",
      "562:\tlearn: 0.5331850\ttotal: 4.92s\tremaining: 3.81s\n",
      "563:\tlearn: 0.5329412\ttotal: 4.92s\tremaining: 3.81s\n",
      "564:\tlearn: 0.5327436\ttotal: 4.93s\tremaining: 3.8s\n",
      "565:\tlearn: 0.5326202\ttotal: 4.94s\tremaining: 3.79s\n",
      "566:\tlearn: 0.5324704\ttotal: 4.95s\tremaining: 3.78s\n",
      "567:\tlearn: 0.5322649\ttotal: 4.96s\tremaining: 3.77s\n",
      "568:\tlearn: 0.5321058\ttotal: 4.97s\tremaining: 3.76s\n",
      "569:\tlearn: 0.5319398\ttotal: 4.97s\tremaining: 3.75s\n",
      "570:\tlearn: 0.5316817\ttotal: 4.98s\tremaining: 3.74s\n",
      "571:\tlearn: 0.5314104\ttotal: 4.99s\tremaining: 3.73s\n",
      "572:\tlearn: 0.5312144\ttotal: 5s\tremaining: 3.73s\n",
      "573:\tlearn: 0.5309659\ttotal: 5s\tremaining: 3.71s\n",
      "574:\tlearn: 0.5306760\ttotal: 5.02s\tremaining: 3.71s\n",
      "575:\tlearn: 0.5304842\ttotal: 5.03s\tremaining: 3.7s\n",
      "576:\tlearn: 0.5301792\ttotal: 5.04s\tremaining: 3.69s\n",
      "577:\tlearn: 0.5300467\ttotal: 5.05s\tremaining: 3.68s\n",
      "578:\tlearn: 0.5298735\ttotal: 5.05s\tremaining: 3.67s\n",
      "579:\tlearn: 0.5297203\ttotal: 5.06s\tremaining: 3.67s\n",
      "580:\tlearn: 0.5294825\ttotal: 5.07s\tremaining: 3.66s\n",
      "581:\tlearn: 0.5292372\ttotal: 5.08s\tremaining: 3.65s\n",
      "582:\tlearn: 0.5290610\ttotal: 5.09s\tremaining: 3.64s\n",
      "583:\tlearn: 0.5287970\ttotal: 5.09s\tremaining: 3.63s\n",
      "584:\tlearn: 0.5286043\ttotal: 5.1s\tremaining: 3.62s\n",
      "585:\tlearn: 0.5283971\ttotal: 5.11s\tremaining: 3.61s\n",
      "586:\tlearn: 0.5282315\ttotal: 5.12s\tremaining: 3.6s\n",
      "587:\tlearn: 0.5279664\ttotal: 5.13s\tremaining: 3.59s\n",
      "588:\tlearn: 0.5277361\ttotal: 5.13s\tremaining: 3.58s\n",
      "589:\tlearn: 0.5275470\ttotal: 5.14s\tremaining: 3.57s\n",
      "590:\tlearn: 0.5273733\ttotal: 5.15s\tremaining: 3.56s\n",
      "591:\tlearn: 0.5271059\ttotal: 5.16s\tremaining: 3.56s\n",
      "592:\tlearn: 0.5269851\ttotal: 5.17s\tremaining: 3.55s\n",
      "593:\tlearn: 0.5268041\ttotal: 5.18s\tremaining: 3.54s\n",
      "594:\tlearn: 0.5265494\ttotal: 5.19s\tremaining: 3.53s\n",
      "595:\tlearn: 0.5263832\ttotal: 5.19s\tremaining: 3.52s\n",
      "596:\tlearn: 0.5260953\ttotal: 5.2s\tremaining: 3.51s\n",
      "597:\tlearn: 0.5258853\ttotal: 5.21s\tremaining: 3.5s\n",
      "598:\tlearn: 0.5256474\ttotal: 5.22s\tremaining: 3.5s\n",
      "599:\tlearn: 0.5255288\ttotal: 5.23s\tremaining: 3.48s\n",
      "600:\tlearn: 0.5253144\ttotal: 5.24s\tremaining: 3.48s\n",
      "601:\tlearn: 0.5250319\ttotal: 5.24s\tremaining: 3.47s\n",
      "602:\tlearn: 0.5248247\ttotal: 5.25s\tremaining: 3.46s\n",
      "603:\tlearn: 0.5246771\ttotal: 5.26s\tremaining: 3.45s\n",
      "604:\tlearn: 0.5245028\ttotal: 5.27s\tremaining: 3.44s\n",
      "605:\tlearn: 0.5242125\ttotal: 5.27s\tremaining: 3.43s\n",
      "606:\tlearn: 0.5240163\ttotal: 5.28s\tremaining: 3.42s\n",
      "607:\tlearn: 0.5238066\ttotal: 5.29s\tremaining: 3.41s\n",
      "608:\tlearn: 0.5235740\ttotal: 5.3s\tremaining: 3.4s\n",
      "609:\tlearn: 0.5233554\ttotal: 5.3s\tremaining: 3.39s\n",
      "610:\tlearn: 0.5231462\ttotal: 5.31s\tremaining: 3.38s\n",
      "611:\tlearn: 0.5229641\ttotal: 5.32s\tremaining: 3.37s\n",
      "612:\tlearn: 0.5228186\ttotal: 5.33s\tremaining: 3.36s\n",
      "613:\tlearn: 0.5226128\ttotal: 5.33s\tremaining: 3.35s\n",
      "614:\tlearn: 0.5224511\ttotal: 5.34s\tremaining: 3.35s\n",
      "615:\tlearn: 0.5222705\ttotal: 5.35s\tremaining: 3.34s\n",
      "616:\tlearn: 0.5220580\ttotal: 5.36s\tremaining: 3.33s\n",
      "617:\tlearn: 0.5219304\ttotal: 5.37s\tremaining: 3.32s\n",
      "618:\tlearn: 0.5217141\ttotal: 5.38s\tremaining: 3.31s\n",
      "619:\tlearn: 0.5215857\ttotal: 5.39s\tremaining: 3.3s\n",
      "620:\tlearn: 0.5213593\ttotal: 5.4s\tremaining: 3.29s\n",
      "621:\tlearn: 0.5211226\ttotal: 5.4s\tremaining: 3.28s\n",
      "622:\tlearn: 0.5209927\ttotal: 5.41s\tremaining: 3.27s\n",
      "623:\tlearn: 0.5207422\ttotal: 5.42s\tremaining: 3.26s\n",
      "624:\tlearn: 0.5205885\ttotal: 5.43s\tremaining: 3.25s\n",
      "625:\tlearn: 0.5202976\ttotal: 5.43s\tremaining: 3.25s\n",
      "626:\tlearn: 0.5200341\ttotal: 5.44s\tremaining: 3.24s\n",
      "627:\tlearn: 0.5197771\ttotal: 5.45s\tremaining: 3.23s\n",
      "628:\tlearn: 0.5194986\ttotal: 5.46s\tremaining: 3.22s\n",
      "629:\tlearn: 0.5193415\ttotal: 5.47s\tremaining: 3.21s\n",
      "630:\tlearn: 0.5191443\ttotal: 5.47s\tremaining: 3.2s\n",
      "631:\tlearn: 0.5189425\ttotal: 5.48s\tremaining: 3.19s\n",
      "632:\tlearn: 0.5187329\ttotal: 5.49s\tremaining: 3.18s\n",
      "633:\tlearn: 0.5185010\ttotal: 5.5s\tremaining: 3.17s\n",
      "634:\tlearn: 0.5183406\ttotal: 5.51s\tremaining: 3.17s\n",
      "635:\tlearn: 0.5181117\ttotal: 5.52s\tremaining: 3.16s\n",
      "636:\tlearn: 0.5179793\ttotal: 5.53s\tremaining: 3.15s\n",
      "637:\tlearn: 0.5178330\ttotal: 5.54s\tremaining: 3.14s\n",
      "638:\tlearn: 0.5176608\ttotal: 5.54s\tremaining: 3.13s\n",
      "639:\tlearn: 0.5174920\ttotal: 5.55s\tremaining: 3.12s\n",
      "640:\tlearn: 0.5172812\ttotal: 5.56s\tremaining: 3.11s\n",
      "641:\tlearn: 0.5170621\ttotal: 5.57s\tremaining: 3.1s\n",
      "642:\tlearn: 0.5169025\ttotal: 5.58s\tremaining: 3.1s\n",
      "643:\tlearn: 0.5167055\ttotal: 5.6s\tremaining: 3.09s\n",
      "644:\tlearn: 0.5164956\ttotal: 5.61s\tremaining: 3.08s\n",
      "645:\tlearn: 0.5163204\ttotal: 5.61s\tremaining: 3.08s\n",
      "646:\tlearn: 0.5161414\ttotal: 5.62s\tremaining: 3.07s\n",
      "647:\tlearn: 0.5159029\ttotal: 5.63s\tremaining: 3.06s\n",
      "648:\tlearn: 0.5157242\ttotal: 5.63s\tremaining: 3.05s\n",
      "649:\tlearn: 0.5155474\ttotal: 5.64s\tremaining: 3.04s\n",
      "650:\tlearn: 0.5153115\ttotal: 5.65s\tremaining: 3.03s\n",
      "651:\tlearn: 0.5150926\ttotal: 5.66s\tremaining: 3.02s\n",
      "652:\tlearn: 0.5149079\ttotal: 5.67s\tremaining: 3.01s\n",
      "653:\tlearn: 0.5147900\ttotal: 5.67s\tremaining: 3s\n",
      "654:\tlearn: 0.5146218\ttotal: 5.68s\tremaining: 2.99s\n",
      "655:\tlearn: 0.5144197\ttotal: 5.69s\tremaining: 2.98s\n",
      "656:\tlearn: 0.5142665\ttotal: 5.7s\tremaining: 2.97s\n",
      "657:\tlearn: 0.5140204\ttotal: 5.71s\tremaining: 2.97s\n",
      "658:\tlearn: 0.5138816\ttotal: 5.71s\tremaining: 2.96s\n",
      "659:\tlearn: 0.5136904\ttotal: 5.72s\tremaining: 2.95s\n",
      "660:\tlearn: 0.5135307\ttotal: 5.73s\tremaining: 2.94s\n",
      "661:\tlearn: 0.5133693\ttotal: 5.74s\tremaining: 2.93s\n",
      "662:\tlearn: 0.5131353\ttotal: 5.75s\tremaining: 2.92s\n",
      "663:\tlearn: 0.5129558\ttotal: 5.76s\tremaining: 2.91s\n",
      "664:\tlearn: 0.5127395\ttotal: 5.76s\tremaining: 2.9s\n",
      "665:\tlearn: 0.5125545\ttotal: 5.78s\tremaining: 2.9s\n",
      "666:\tlearn: 0.5123175\ttotal: 5.78s\tremaining: 2.89s\n",
      "667:\tlearn: 0.5121040\ttotal: 5.79s\tremaining: 2.88s\n",
      "668:\tlearn: 0.5119382\ttotal: 5.8s\tremaining: 2.87s\n",
      "669:\tlearn: 0.5117824\ttotal: 5.81s\tremaining: 2.86s\n",
      "670:\tlearn: 0.5115518\ttotal: 5.82s\tremaining: 2.85s\n",
      "671:\tlearn: 0.5114178\ttotal: 5.83s\tremaining: 2.84s\n",
      "672:\tlearn: 0.5112326\ttotal: 5.83s\tremaining: 2.83s\n",
      "673:\tlearn: 0.5110427\ttotal: 5.84s\tremaining: 2.82s\n",
      "674:\tlearn: 0.5107867\ttotal: 5.85s\tremaining: 2.81s\n",
      "675:\tlearn: 0.5106304\ttotal: 5.86s\tremaining: 2.81s\n",
      "676:\tlearn: 0.5104470\ttotal: 5.87s\tremaining: 2.8s\n",
      "677:\tlearn: 0.5103088\ttotal: 5.87s\tremaining: 2.79s\n",
      "678:\tlearn: 0.5100949\ttotal: 5.88s\tremaining: 2.78s\n",
      "679:\tlearn: 0.5098905\ttotal: 5.89s\tremaining: 2.77s\n",
      "680:\tlearn: 0.5096646\ttotal: 5.9s\tremaining: 2.76s\n",
      "681:\tlearn: 0.5094680\ttotal: 5.9s\tremaining: 2.75s\n",
      "682:\tlearn: 0.5093265\ttotal: 5.91s\tremaining: 2.74s\n",
      "683:\tlearn: 0.5091143\ttotal: 5.92s\tremaining: 2.73s\n",
      "684:\tlearn: 0.5089544\ttotal: 5.93s\tremaining: 2.73s\n",
      "685:\tlearn: 0.5088413\ttotal: 5.93s\tremaining: 2.72s\n",
      "686:\tlearn: 0.5086759\ttotal: 5.95s\tremaining: 2.71s\n",
      "687:\tlearn: 0.5085635\ttotal: 5.96s\tremaining: 2.7s\n",
      "688:\tlearn: 0.5084377\ttotal: 5.97s\tremaining: 2.7s\n",
      "689:\tlearn: 0.5082958\ttotal: 5.98s\tremaining: 2.69s\n",
      "690:\tlearn: 0.5081013\ttotal: 5.99s\tremaining: 2.68s\n",
      "691:\tlearn: 0.5079608\ttotal: 6s\tremaining: 2.67s\n",
      "692:\tlearn: 0.5077613\ttotal: 6.01s\tremaining: 2.66s\n",
      "693:\tlearn: 0.5076320\ttotal: 6.02s\tremaining: 2.65s\n",
      "694:\tlearn: 0.5074641\ttotal: 6.03s\tremaining: 2.65s\n",
      "695:\tlearn: 0.5072559\ttotal: 6.04s\tremaining: 2.64s\n",
      "696:\tlearn: 0.5070446\ttotal: 6.05s\tremaining: 2.63s\n",
      "697:\tlearn: 0.5068605\ttotal: 6.06s\tremaining: 2.62s\n",
      "698:\tlearn: 0.5066676\ttotal: 6.07s\tremaining: 2.61s\n",
      "699:\tlearn: 0.5064909\ttotal: 6.07s\tremaining: 2.6s\n",
      "700:\tlearn: 0.5063330\ttotal: 6.08s\tremaining: 2.59s\n",
      "701:\tlearn: 0.5061222\ttotal: 6.09s\tremaining: 2.58s\n",
      "702:\tlearn: 0.5058758\ttotal: 6.1s\tremaining: 2.58s\n",
      "703:\tlearn: 0.5057055\ttotal: 6.11s\tremaining: 2.57s\n",
      "704:\tlearn: 0.5054841\ttotal: 6.11s\tremaining: 2.56s\n",
      "705:\tlearn: 0.5053008\ttotal: 6.12s\tremaining: 2.55s\n",
      "706:\tlearn: 0.5051481\ttotal: 6.13s\tremaining: 2.54s\n"
     ]
    },
    {
     "name": "stdout",
     "output_type": "stream",
     "text": [
      "707:\tlearn: 0.5049204\ttotal: 6.14s\tremaining: 2.53s\n",
      "708:\tlearn: 0.5047588\ttotal: 6.15s\tremaining: 2.52s\n",
      "709:\tlearn: 0.5045285\ttotal: 6.16s\tremaining: 2.52s\n",
      "710:\tlearn: 0.5043534\ttotal: 6.17s\tremaining: 2.51s\n",
      "711:\tlearn: 0.5041083\ttotal: 6.17s\tremaining: 2.5s\n",
      "712:\tlearn: 0.5039363\ttotal: 6.18s\tremaining: 2.49s\n",
      "713:\tlearn: 0.5037759\ttotal: 6.19s\tremaining: 2.48s\n",
      "714:\tlearn: 0.5036269\ttotal: 6.2s\tremaining: 2.47s\n",
      "715:\tlearn: 0.5034435\ttotal: 6.21s\tremaining: 2.46s\n",
      "716:\tlearn: 0.5032306\ttotal: 6.21s\tremaining: 2.45s\n",
      "717:\tlearn: 0.5029722\ttotal: 6.22s\tremaining: 2.44s\n",
      "718:\tlearn: 0.5028654\ttotal: 6.23s\tremaining: 2.44s\n",
      "719:\tlearn: 0.5027286\ttotal: 6.24s\tremaining: 2.43s\n",
      "720:\tlearn: 0.5025301\ttotal: 6.25s\tremaining: 2.42s\n",
      "721:\tlearn: 0.5023597\ttotal: 6.26s\tremaining: 2.41s\n",
      "722:\tlearn: 0.5022523\ttotal: 6.26s\tremaining: 2.4s\n",
      "723:\tlearn: 0.5020421\ttotal: 6.27s\tremaining: 2.39s\n",
      "724:\tlearn: 0.5018389\ttotal: 6.28s\tremaining: 2.38s\n",
      "725:\tlearn: 0.5016490\ttotal: 6.29s\tremaining: 2.37s\n",
      "726:\tlearn: 0.5015181\ttotal: 6.3s\tremaining: 2.36s\n",
      "727:\tlearn: 0.5013522\ttotal: 6.3s\tremaining: 2.35s\n",
      "728:\tlearn: 0.5011305\ttotal: 6.32s\tremaining: 2.35s\n",
      "729:\tlearn: 0.5009811\ttotal: 6.33s\tremaining: 2.34s\n",
      "730:\tlearn: 0.5007793\ttotal: 6.33s\tremaining: 2.33s\n",
      "731:\tlearn: 0.5006623\ttotal: 6.34s\tremaining: 2.32s\n",
      "732:\tlearn: 0.5004946\ttotal: 6.35s\tremaining: 2.31s\n",
      "733:\tlearn: 0.5002985\ttotal: 6.36s\tremaining: 2.3s\n",
      "734:\tlearn: 0.5001528\ttotal: 6.37s\tremaining: 2.3s\n",
      "735:\tlearn: 0.4999585\ttotal: 6.38s\tremaining: 2.29s\n",
      "736:\tlearn: 0.4998176\ttotal: 6.38s\tremaining: 2.28s\n",
      "737:\tlearn: 0.4996351\ttotal: 6.39s\tremaining: 2.27s\n",
      "738:\tlearn: 0.4994604\ttotal: 6.4s\tremaining: 2.26s\n",
      "739:\tlearn: 0.4992336\ttotal: 6.41s\tremaining: 2.25s\n",
      "740:\tlearn: 0.4990266\ttotal: 6.41s\tremaining: 2.24s\n",
      "741:\tlearn: 0.4987997\ttotal: 6.42s\tremaining: 2.23s\n",
      "742:\tlearn: 0.4986324\ttotal: 6.43s\tremaining: 2.22s\n",
      "743:\tlearn: 0.4984469\ttotal: 6.44s\tremaining: 2.21s\n",
      "744:\tlearn: 0.4983426\ttotal: 6.45s\tremaining: 2.21s\n",
      "745:\tlearn: 0.4982097\ttotal: 6.45s\tremaining: 2.2s\n",
      "746:\tlearn: 0.4980567\ttotal: 6.46s\tremaining: 2.19s\n",
      "747:\tlearn: 0.4979288\ttotal: 6.47s\tremaining: 2.18s\n",
      "748:\tlearn: 0.4977745\ttotal: 6.48s\tremaining: 2.17s\n",
      "749:\tlearn: 0.4976000\ttotal: 6.49s\tremaining: 2.16s\n",
      "750:\tlearn: 0.4974343\ttotal: 6.5s\tremaining: 2.15s\n",
      "751:\tlearn: 0.4972634\ttotal: 6.5s\tremaining: 2.15s\n",
      "752:\tlearn: 0.4971095\ttotal: 6.52s\tremaining: 2.14s\n",
      "753:\tlearn: 0.4969755\ttotal: 6.53s\tremaining: 2.13s\n",
      "754:\tlearn: 0.4968096\ttotal: 6.53s\tremaining: 2.12s\n",
      "755:\tlearn: 0.4966820\ttotal: 6.54s\tremaining: 2.11s\n",
      "756:\tlearn: 0.4965223\ttotal: 6.55s\tremaining: 2.1s\n",
      "757:\tlearn: 0.4963234\ttotal: 6.56s\tremaining: 2.09s\n",
      "758:\tlearn: 0.4961833\ttotal: 6.57s\tremaining: 2.08s\n",
      "759:\tlearn: 0.4960916\ttotal: 6.58s\tremaining: 2.08s\n",
      "760:\tlearn: 0.4958648\ttotal: 6.58s\tremaining: 2.07s\n",
      "761:\tlearn: 0.4956704\ttotal: 6.59s\tremaining: 2.06s\n",
      "762:\tlearn: 0.4954454\ttotal: 6.6s\tremaining: 2.05s\n",
      "763:\tlearn: 0.4952997\ttotal: 6.61s\tremaining: 2.04s\n",
      "764:\tlearn: 0.4951095\ttotal: 6.62s\tremaining: 2.03s\n",
      "765:\tlearn: 0.4949108\ttotal: 6.63s\tremaining: 2.02s\n",
      "766:\tlearn: 0.4947794\ttotal: 6.64s\tremaining: 2.02s\n",
      "767:\tlearn: 0.4945315\ttotal: 6.64s\tremaining: 2.01s\n",
      "768:\tlearn: 0.4942819\ttotal: 6.65s\tremaining: 2s\n",
      "769:\tlearn: 0.4940820\ttotal: 6.66s\tremaining: 1.99s\n",
      "770:\tlearn: 0.4938297\ttotal: 6.67s\tremaining: 1.98s\n",
      "771:\tlearn: 0.4936364\ttotal: 6.67s\tremaining: 1.97s\n",
      "772:\tlearn: 0.4935053\ttotal: 6.68s\tremaining: 1.96s\n",
      "773:\tlearn: 0.4933771\ttotal: 6.69s\tremaining: 1.95s\n",
      "774:\tlearn: 0.4932483\ttotal: 6.7s\tremaining: 1.94s\n",
      "775:\tlearn: 0.4931141\ttotal: 6.7s\tremaining: 1.94s\n",
      "776:\tlearn: 0.4929078\ttotal: 6.71s\tremaining: 1.93s\n",
      "777:\tlearn: 0.4927967\ttotal: 6.72s\tremaining: 1.92s\n",
      "778:\tlearn: 0.4925380\ttotal: 6.73s\tremaining: 1.91s\n",
      "779:\tlearn: 0.4923833\ttotal: 6.74s\tremaining: 1.9s\n",
      "780:\tlearn: 0.4921917\ttotal: 6.75s\tremaining: 1.89s\n",
      "781:\tlearn: 0.4920541\ttotal: 6.75s\tremaining: 1.88s\n",
      "782:\tlearn: 0.4918741\ttotal: 6.76s\tremaining: 1.87s\n",
      "783:\tlearn: 0.4916823\ttotal: 6.77s\tremaining: 1.86s\n",
      "784:\tlearn: 0.4915837\ttotal: 6.78s\tremaining: 1.86s\n",
      "785:\tlearn: 0.4914392\ttotal: 6.79s\tremaining: 1.85s\n",
      "786:\tlearn: 0.4913516\ttotal: 6.79s\tremaining: 1.84s\n",
      "787:\tlearn: 0.4911865\ttotal: 6.8s\tremaining: 1.83s\n",
      "788:\tlearn: 0.4909471\ttotal: 6.81s\tremaining: 1.82s\n",
      "789:\tlearn: 0.4907993\ttotal: 6.82s\tremaining: 1.81s\n",
      "790:\tlearn: 0.4906043\ttotal: 6.83s\tremaining: 1.8s\n",
      "791:\tlearn: 0.4904299\ttotal: 6.84s\tremaining: 1.8s\n",
      "792:\tlearn: 0.4902869\ttotal: 6.86s\tremaining: 1.79s\n",
      "793:\tlearn: 0.4900837\ttotal: 6.86s\tremaining: 1.78s\n",
      "794:\tlearn: 0.4898661\ttotal: 6.88s\tremaining: 1.77s\n",
      "795:\tlearn: 0.4897242\ttotal: 6.89s\tremaining: 1.76s\n",
      "796:\tlearn: 0.4895893\ttotal: 6.89s\tremaining: 1.75s\n",
      "797:\tlearn: 0.4893881\ttotal: 6.9s\tremaining: 1.75s\n",
      "798:\tlearn: 0.4891791\ttotal: 6.91s\tremaining: 1.74s\n",
      "799:\tlearn: 0.4889607\ttotal: 6.92s\tremaining: 1.73s\n",
      "800:\tlearn: 0.4888139\ttotal: 6.93s\tremaining: 1.72s\n",
      "801:\tlearn: 0.4886138\ttotal: 6.93s\tremaining: 1.71s\n",
      "802:\tlearn: 0.4884355\ttotal: 6.95s\tremaining: 1.7s\n",
      "803:\tlearn: 0.4883099\ttotal: 6.95s\tremaining: 1.7s\n",
      "804:\tlearn: 0.4881329\ttotal: 6.96s\tremaining: 1.69s\n",
      "805:\tlearn: 0.4879833\ttotal: 6.97s\tremaining: 1.68s\n",
      "806:\tlearn: 0.4877602\ttotal: 6.98s\tremaining: 1.67s\n",
      "807:\tlearn: 0.4876013\ttotal: 6.99s\tremaining: 1.66s\n",
      "808:\tlearn: 0.4875359\ttotal: 6.99s\tremaining: 1.65s\n",
      "809:\tlearn: 0.4872984\ttotal: 7s\tremaining: 1.64s\n",
      "810:\tlearn: 0.4871216\ttotal: 7.01s\tremaining: 1.63s\n",
      "811:\tlearn: 0.4869067\ttotal: 7.02s\tremaining: 1.62s\n",
      "812:\tlearn: 0.4867327\ttotal: 7.02s\tremaining: 1.61s\n",
      "813:\tlearn: 0.4865532\ttotal: 7.03s\tremaining: 1.61s\n",
      "814:\tlearn: 0.4863875\ttotal: 7.04s\tremaining: 1.6s\n",
      "815:\tlearn: 0.4861470\ttotal: 7.05s\tremaining: 1.59s\n",
      "816:\tlearn: 0.4860173\ttotal: 7.05s\tremaining: 1.58s\n",
      "817:\tlearn: 0.4858018\ttotal: 7.07s\tremaining: 1.57s\n",
      "818:\tlearn: 0.4856187\ttotal: 7.08s\tremaining: 1.56s\n",
      "819:\tlearn: 0.4854974\ttotal: 7.08s\tremaining: 1.55s\n",
      "820:\tlearn: 0.4853681\ttotal: 7.09s\tremaining: 1.55s\n",
      "821:\tlearn: 0.4852037\ttotal: 7.1s\tremaining: 1.54s\n",
      "822:\tlearn: 0.4850407\ttotal: 7.11s\tremaining: 1.53s\n",
      "823:\tlearn: 0.4848486\ttotal: 7.12s\tremaining: 1.52s\n",
      "824:\tlearn: 0.4846882\ttotal: 7.13s\tremaining: 1.51s\n",
      "825:\tlearn: 0.4844958\ttotal: 7.13s\tremaining: 1.5s\n",
      "826:\tlearn: 0.4843013\ttotal: 7.14s\tremaining: 1.49s\n",
      "827:\tlearn: 0.4841657\ttotal: 7.15s\tremaining: 1.48s\n",
      "828:\tlearn: 0.4839272\ttotal: 7.16s\tremaining: 1.48s\n",
      "829:\tlearn: 0.4837205\ttotal: 7.16s\tremaining: 1.47s\n",
      "830:\tlearn: 0.4836028\ttotal: 7.17s\tremaining: 1.46s\n",
      "831:\tlearn: 0.4835130\ttotal: 7.18s\tremaining: 1.45s\n",
      "832:\tlearn: 0.4833451\ttotal: 7.19s\tremaining: 1.44s\n",
      "833:\tlearn: 0.4831701\ttotal: 7.19s\tremaining: 1.43s\n",
      "834:\tlearn: 0.4830070\ttotal: 7.2s\tremaining: 1.42s\n",
      "835:\tlearn: 0.4828043\ttotal: 7.21s\tremaining: 1.41s\n",
      "836:\tlearn: 0.4826849\ttotal: 7.22s\tremaining: 1.41s\n",
      "837:\tlearn: 0.4825470\ttotal: 7.23s\tremaining: 1.4s\n",
      "838:\tlearn: 0.4824140\ttotal: 7.23s\tremaining: 1.39s\n",
      "839:\tlearn: 0.4822423\ttotal: 7.24s\tremaining: 1.38s\n",
      "840:\tlearn: 0.4820529\ttotal: 7.25s\tremaining: 1.37s\n",
      "841:\tlearn: 0.4818459\ttotal: 7.26s\tremaining: 1.36s\n",
      "842:\tlearn: 0.4816679\ttotal: 7.27s\tremaining: 1.35s\n",
      "843:\tlearn: 0.4814664\ttotal: 7.28s\tremaining: 1.34s\n",
      "844:\tlearn: 0.4812564\ttotal: 7.29s\tremaining: 1.34s\n",
      "845:\tlearn: 0.4810828\ttotal: 7.3s\tremaining: 1.33s\n",
      "846:\tlearn: 0.4808612\ttotal: 7.3s\tremaining: 1.32s\n",
      "847:\tlearn: 0.4807029\ttotal: 7.31s\tremaining: 1.31s\n",
      "848:\tlearn: 0.4805496\ttotal: 7.32s\tremaining: 1.3s\n",
      "849:\tlearn: 0.4803442\ttotal: 7.33s\tremaining: 1.29s\n",
      "850:\tlearn: 0.4802225\ttotal: 7.33s\tremaining: 1.28s\n",
      "851:\tlearn: 0.4800658\ttotal: 7.34s\tremaining: 1.27s\n",
      "852:\tlearn: 0.4799208\ttotal: 7.35s\tremaining: 1.27s\n",
      "853:\tlearn: 0.4797557\ttotal: 7.36s\tremaining: 1.26s\n",
      "854:\tlearn: 0.4795438\ttotal: 7.37s\tremaining: 1.25s\n",
      "855:\tlearn: 0.4793482\ttotal: 7.37s\tremaining: 1.24s\n",
      "856:\tlearn: 0.4792025\ttotal: 7.38s\tremaining: 1.23s\n",
      "857:\tlearn: 0.4790389\ttotal: 7.39s\tremaining: 1.22s\n",
      "858:\tlearn: 0.4788320\ttotal: 7.4s\tremaining: 1.21s\n",
      "859:\tlearn: 0.4787380\ttotal: 7.41s\tremaining: 1.21s\n",
      "860:\tlearn: 0.4785244\ttotal: 7.41s\tremaining: 1.2s\n",
      "861:\tlearn: 0.4784029\ttotal: 7.42s\tremaining: 1.19s\n",
      "862:\tlearn: 0.4782148\ttotal: 7.43s\tremaining: 1.18s\n",
      "863:\tlearn: 0.4779378\ttotal: 7.44s\tremaining: 1.17s\n",
      "864:\tlearn: 0.4777374\ttotal: 7.45s\tremaining: 1.16s\n",
      "865:\tlearn: 0.4775862\ttotal: 7.46s\tremaining: 1.15s\n",
      "866:\tlearn: 0.4773610\ttotal: 7.47s\tremaining: 1.15s\n",
      "867:\tlearn: 0.4772098\ttotal: 7.47s\tremaining: 1.14s\n",
      "868:\tlearn: 0.4770757\ttotal: 7.48s\tremaining: 1.13s\n",
      "869:\tlearn: 0.4768593\ttotal: 7.49s\tremaining: 1.12s\n",
      "870:\tlearn: 0.4766346\ttotal: 7.5s\tremaining: 1.11s\n",
      "871:\tlearn: 0.4765040\ttotal: 7.51s\tremaining: 1.1s\n",
      "872:\tlearn: 0.4762587\ttotal: 7.51s\tremaining: 1.09s\n",
      "873:\tlearn: 0.4760497\ttotal: 7.52s\tremaining: 1.08s\n",
      "874:\tlearn: 0.4759491\ttotal: 7.53s\tremaining: 1.07s\n",
      "875:\tlearn: 0.4758647\ttotal: 7.54s\tremaining: 1.07s\n",
      "876:\tlearn: 0.4756903\ttotal: 7.55s\tremaining: 1.06s\n",
      "877:\tlearn: 0.4755062\ttotal: 7.55s\tremaining: 1.05s\n",
      "878:\tlearn: 0.4753934\ttotal: 7.56s\tremaining: 1.04s\n",
      "879:\tlearn: 0.4752418\ttotal: 7.57s\tremaining: 1.03s\n",
      "880:\tlearn: 0.4750971\ttotal: 7.58s\tremaining: 1.02s\n",
      "881:\tlearn: 0.4749267\ttotal: 7.59s\tremaining: 1.01s\n",
      "882:\tlearn: 0.4747319\ttotal: 7.6s\tremaining: 1.01s\n"
     ]
    },
    {
     "name": "stdout",
     "output_type": "stream",
     "text": [
      "883:\tlearn: 0.4745555\ttotal: 7.61s\tremaining: 998ms\n",
      "884:\tlearn: 0.4744020\ttotal: 7.62s\tremaining: 990ms\n",
      "885:\tlearn: 0.4742941\ttotal: 7.63s\tremaining: 981ms\n",
      "886:\tlearn: 0.4741444\ttotal: 7.63s\tremaining: 973ms\n",
      "887:\tlearn: 0.4739567\ttotal: 7.64s\tremaining: 964ms\n",
      "888:\tlearn: 0.4738631\ttotal: 7.65s\tremaining: 955ms\n",
      "889:\tlearn: 0.4737379\ttotal: 7.66s\tremaining: 946ms\n",
      "890:\tlearn: 0.4735541\ttotal: 7.66s\tremaining: 937ms\n",
      "891:\tlearn: 0.4733753\ttotal: 7.67s\tremaining: 929ms\n",
      "892:\tlearn: 0.4732595\ttotal: 7.68s\tremaining: 920ms\n",
      "893:\tlearn: 0.4731037\ttotal: 7.69s\tremaining: 912ms\n",
      "894:\tlearn: 0.4729218\ttotal: 7.7s\tremaining: 903ms\n",
      "895:\tlearn: 0.4727374\ttotal: 7.7s\tremaining: 894ms\n",
      "896:\tlearn: 0.4725555\ttotal: 7.71s\tremaining: 885ms\n",
      "897:\tlearn: 0.4724689\ttotal: 7.72s\tremaining: 877ms\n",
      "898:\tlearn: 0.4722803\ttotal: 7.72s\tremaining: 868ms\n",
      "899:\tlearn: 0.4721453\ttotal: 7.73s\tremaining: 859ms\n",
      "900:\tlearn: 0.4720218\ttotal: 7.74s\tremaining: 851ms\n",
      "901:\tlearn: 0.4718089\ttotal: 7.75s\tremaining: 842ms\n",
      "902:\tlearn: 0.4716652\ttotal: 7.75s\tremaining: 833ms\n",
      "903:\tlearn: 0.4714855\ttotal: 7.76s\tremaining: 824ms\n",
      "904:\tlearn: 0.4713288\ttotal: 7.77s\tremaining: 816ms\n",
      "905:\tlearn: 0.4711639\ttotal: 7.78s\tremaining: 807ms\n",
      "906:\tlearn: 0.4710215\ttotal: 7.79s\tremaining: 798ms\n",
      "907:\tlearn: 0.4709117\ttotal: 7.8s\tremaining: 790ms\n",
      "908:\tlearn: 0.4707088\ttotal: 7.8s\tremaining: 781ms\n",
      "909:\tlearn: 0.4705985\ttotal: 7.81s\tremaining: 773ms\n",
      "910:\tlearn: 0.4704263\ttotal: 7.82s\tremaining: 764ms\n",
      "911:\tlearn: 0.4702347\ttotal: 7.83s\tremaining: 755ms\n",
      "912:\tlearn: 0.4700583\ttotal: 7.84s\tremaining: 747ms\n",
      "913:\tlearn: 0.4699515\ttotal: 7.84s\tremaining: 738ms\n",
      "914:\tlearn: 0.4698207\ttotal: 7.85s\tremaining: 729ms\n",
      "915:\tlearn: 0.4696792\ttotal: 7.86s\tremaining: 721ms\n",
      "916:\tlearn: 0.4695421\ttotal: 7.87s\tremaining: 712ms\n",
      "917:\tlearn: 0.4694277\ttotal: 7.88s\tremaining: 704ms\n",
      "918:\tlearn: 0.4692694\ttotal: 7.88s\tremaining: 695ms\n",
      "919:\tlearn: 0.4691194\ttotal: 7.89s\tremaining: 686ms\n",
      "920:\tlearn: 0.4689849\ttotal: 7.9s\tremaining: 678ms\n",
      "921:\tlearn: 0.4688023\ttotal: 7.91s\tremaining: 669ms\n",
      "922:\tlearn: 0.4686220\ttotal: 7.92s\tremaining: 660ms\n",
      "923:\tlearn: 0.4684215\ttotal: 7.92s\tremaining: 652ms\n",
      "924:\tlearn: 0.4683343\ttotal: 7.93s\tremaining: 643ms\n",
      "925:\tlearn: 0.4682150\ttotal: 7.94s\tremaining: 635ms\n",
      "926:\tlearn: 0.4680996\ttotal: 7.95s\tremaining: 626ms\n",
      "927:\tlearn: 0.4679043\ttotal: 7.96s\tremaining: 618ms\n",
      "928:\tlearn: 0.4677043\ttotal: 7.97s\tremaining: 609ms\n",
      "929:\tlearn: 0.4675712\ttotal: 7.98s\tremaining: 601ms\n",
      "930:\tlearn: 0.4673980\ttotal: 7.99s\tremaining: 592ms\n",
      "931:\tlearn: 0.4672805\ttotal: 7.99s\tremaining: 583ms\n",
      "932:\tlearn: 0.4671074\ttotal: 8s\tremaining: 575ms\n",
      "933:\tlearn: 0.4670222\ttotal: 8.01s\tremaining: 566ms\n",
      "934:\tlearn: 0.4668735\ttotal: 8.02s\tremaining: 557ms\n",
      "935:\tlearn: 0.4667443\ttotal: 8.02s\tremaining: 549ms\n",
      "936:\tlearn: 0.4665410\ttotal: 8.03s\tremaining: 540ms\n",
      "937:\tlearn: 0.4663966\ttotal: 8.05s\tremaining: 532ms\n",
      "938:\tlearn: 0.4662726\ttotal: 8.06s\tremaining: 524ms\n",
      "939:\tlearn: 0.4661458\ttotal: 8.07s\tremaining: 515ms\n",
      "940:\tlearn: 0.4659985\ttotal: 8.07s\tremaining: 506ms\n",
      "941:\tlearn: 0.4658811\ttotal: 8.08s\tremaining: 498ms\n",
      "942:\tlearn: 0.4657977\ttotal: 8.09s\tremaining: 489ms\n",
      "943:\tlearn: 0.4655965\ttotal: 8.1s\tremaining: 480ms\n",
      "944:\tlearn: 0.4654744\ttotal: 8.1s\tremaining: 472ms\n",
      "945:\tlearn: 0.4652676\ttotal: 8.11s\tremaining: 463ms\n",
      "946:\tlearn: 0.4651348\ttotal: 8.12s\tremaining: 454ms\n",
      "947:\tlearn: 0.4649360\ttotal: 8.13s\tremaining: 446ms\n",
      "948:\tlearn: 0.4648305\ttotal: 8.14s\tremaining: 437ms\n",
      "949:\tlearn: 0.4646579\ttotal: 8.15s\tremaining: 429ms\n",
      "950:\tlearn: 0.4645083\ttotal: 8.15s\tremaining: 420ms\n",
      "951:\tlearn: 0.4643481\ttotal: 8.16s\tremaining: 412ms\n",
      "952:\tlearn: 0.4641715\ttotal: 8.17s\tremaining: 403ms\n",
      "953:\tlearn: 0.4640209\ttotal: 8.18s\tremaining: 394ms\n",
      "954:\tlearn: 0.4638326\ttotal: 8.18s\tremaining: 386ms\n",
      "955:\tlearn: 0.4637051\ttotal: 8.19s\tremaining: 377ms\n",
      "956:\tlearn: 0.4635352\ttotal: 8.2s\tremaining: 368ms\n",
      "957:\tlearn: 0.4633989\ttotal: 8.21s\tremaining: 360ms\n",
      "958:\tlearn: 0.4632137\ttotal: 8.21s\tremaining: 351ms\n",
      "959:\tlearn: 0.4630759\ttotal: 8.22s\tremaining: 343ms\n",
      "960:\tlearn: 0.4628911\ttotal: 8.23s\tremaining: 334ms\n",
      "961:\tlearn: 0.4627593\ttotal: 8.24s\tremaining: 325ms\n",
      "962:\tlearn: 0.4625669\ttotal: 8.25s\tremaining: 317ms\n",
      "963:\tlearn: 0.4624316\ttotal: 8.26s\tremaining: 308ms\n",
      "964:\tlearn: 0.4622576\ttotal: 8.26s\tremaining: 300ms\n",
      "965:\tlearn: 0.4620680\ttotal: 8.27s\tremaining: 291ms\n",
      "966:\tlearn: 0.4619733\ttotal: 8.28s\tremaining: 283ms\n",
      "967:\tlearn: 0.4618470\ttotal: 8.29s\tremaining: 274ms\n",
      "968:\tlearn: 0.4616265\ttotal: 8.29s\tremaining: 265ms\n",
      "969:\tlearn: 0.4614834\ttotal: 8.3s\tremaining: 257ms\n",
      "970:\tlearn: 0.4613907\ttotal: 8.31s\tremaining: 248ms\n",
      "971:\tlearn: 0.4612310\ttotal: 8.32s\tremaining: 240ms\n",
      "972:\tlearn: 0.4611282\ttotal: 8.33s\tremaining: 231ms\n",
      "973:\tlearn: 0.4609610\ttotal: 8.34s\tremaining: 223ms\n",
      "974:\tlearn: 0.4608048\ttotal: 8.35s\tremaining: 214ms\n",
      "975:\tlearn: 0.4606665\ttotal: 8.36s\tremaining: 206ms\n",
      "976:\tlearn: 0.4604609\ttotal: 8.37s\tremaining: 197ms\n",
      "977:\tlearn: 0.4603543\ttotal: 8.37s\tremaining: 188ms\n",
      "978:\tlearn: 0.4601093\ttotal: 8.38s\tremaining: 180ms\n",
      "979:\tlearn: 0.4599484\ttotal: 8.39s\tremaining: 171ms\n",
      "980:\tlearn: 0.4597898\ttotal: 8.4s\tremaining: 163ms\n",
      "981:\tlearn: 0.4596427\ttotal: 8.4s\tremaining: 154ms\n",
      "982:\tlearn: 0.4595254\ttotal: 8.41s\tremaining: 146ms\n",
      "983:\tlearn: 0.4594135\ttotal: 8.42s\tremaining: 137ms\n",
      "984:\tlearn: 0.4592322\ttotal: 8.43s\tremaining: 128ms\n",
      "985:\tlearn: 0.4591023\ttotal: 8.44s\tremaining: 120ms\n",
      "986:\tlearn: 0.4589836\ttotal: 8.44s\tremaining: 111ms\n",
      "987:\tlearn: 0.4588511\ttotal: 8.45s\tremaining: 103ms\n",
      "988:\tlearn: 0.4586390\ttotal: 8.46s\tremaining: 94.1ms\n",
      "989:\tlearn: 0.4585492\ttotal: 8.47s\tremaining: 85.5ms\n",
      "990:\tlearn: 0.4583966\ttotal: 8.47s\tremaining: 77ms\n",
      "991:\tlearn: 0.4582007\ttotal: 8.48s\tremaining: 68.4ms\n",
      "992:\tlearn: 0.4580664\ttotal: 8.49s\tremaining: 59.9ms\n",
      "993:\tlearn: 0.4578748\ttotal: 8.5s\tremaining: 51.3ms\n",
      "994:\tlearn: 0.4576562\ttotal: 8.51s\tremaining: 42.8ms\n",
      "995:\tlearn: 0.4574641\ttotal: 8.52s\tremaining: 34.2ms\n",
      "996:\tlearn: 0.4572655\ttotal: 8.53s\tremaining: 25.7ms\n",
      "997:\tlearn: 0.4571183\ttotal: 8.54s\tremaining: 17.1ms\n",
      "998:\tlearn: 0.4569525\ttotal: 8.55s\tremaining: 8.55ms\n",
      "999:\tlearn: 0.4568126\ttotal: 8.55s\tremaining: 0us\n",
      "              precision    recall  f1-score   support\n",
      "\n",
      "           0       0.64      0.95      0.77      1125\n",
      "           1       0.37      0.05      0.09       628\n",
      "\n",
      "    accuracy                           0.63      1753\n",
      "   macro avg       0.51      0.50      0.43      1753\n",
      "weighted avg       0.55      0.63      0.52      1753\n",
      "\n",
      "Precision: 0.37209302325581395\n",
      "Accuracy: 0.6292070735881347\n",
      "AUC: 0.5089058740268931\n"
     ]
    },
    {
     "data": {
      "text/plain": [
       "<sklearn.metrics._plot.confusion_matrix.ConfusionMatrixDisplay at 0x1afbc7b88b0>"
      ]
     },
     "execution_count": 33,
     "metadata": {},
     "output_type": "execute_result"
    },
    {
     "data": {
      "image/png": "[encoded data removed]",
      "text/plain": [
       "<Figure size 432x288 with 2 Axes>"
      ]
     },
     "metadata": {
      "needs_background": "light"
     },
     "output_type": "display_data"
    }
   ],
   "source": [
    "from catboost import CatBoostClassifier\n",
    "cat= CatBoostClassifier(random_state=15)\n",
    "cat.fit(X_train, y_train)\n",
    "y_pred_cat= cat.predict(X_test)\n",
    "y_pred_prob_cat= cat.predict_proba(X_test)[:,1]\n",
    "\n",
    "cm= confusion_matrix(y_test, y_pred_cat, labels= cat.classes_)\n",
    "print(classification_report(y_test, y_pred_cat, zero_division=0))\n",
    "print('Precision:', precision_score(y_test, y_pred_cat, zero_division=0))\n",
    "print('Accuracy:', accuracy_score(y_test, y_pred_cat))\n",
    "print('AUC:', roc_auc_score(y_test, y_pred_prob_cat))\n",
    "dcm_cat= ConfusionMatrixDisplay(cm, display_labels= cat.classes_)\n",
    "dcm_cat.plot()"
   ]
  },
  {
   "cell_type": "code",
   "execution_count": null,
   "id": "dd8d322e",
   "metadata": {},
   "outputs": [],
   "source": []
  },
  {
   "cell_type": "code",
   "execution_count": 34,
   "id": "0af2c970",
   "metadata": {},
   "outputs": [
    {
     "name": "stdout",
     "output_type": "stream",
     "text": [
      "Fitting 5 folds for each of 36 candidates, totalling 180 fits\n",
      "0:\tlearn: 0.6851452\ttotal: 6.8ms\tremaining: 674ms\n",
      "1:\tlearn: 0.6787267\ttotal: 12.9ms\tremaining: 632ms\n",
      "2:\tlearn: 0.6734260\ttotal: 20.3ms\tremaining: 657ms\n",
      "3:\tlearn: 0.6690385\ttotal: 26.9ms\tremaining: 646ms\n",
      "4:\tlearn: 0.6655928\ttotal: 35.5ms\tremaining: 675ms\n",
      "5:\tlearn: 0.6627958\ttotal: 42ms\tremaining: 658ms\n",
      "6:\tlearn: 0.6606123\ttotal: 48.6ms\tremaining: 645ms\n",
      "7:\tlearn: 0.6587929\ttotal: 53.8ms\tremaining: 619ms\n",
      "8:\tlearn: 0.6573277\ttotal: 58.8ms\tremaining: 594ms\n",
      "9:\tlearn: 0.6561622\ttotal: 63.7ms\tremaining: 573ms\n",
      "10:\tlearn: 0.6551129\ttotal: 70.1ms\tremaining: 567ms\n",
      "11:\tlearn: 0.6542719\ttotal: 76.5ms\tremaining: 561ms\n",
      "12:\tlearn: 0.6534173\ttotal: 82ms\tremaining: 549ms\n",
      "13:\tlearn: 0.6526899\ttotal: 87.5ms\tremaining: 537ms\n",
      "14:\tlearn: 0.6521925\ttotal: 93.5ms\tremaining: 530ms\n",
      "15:\tlearn: 0.6517963\ttotal: 98.9ms\tremaining: 519ms\n",
      "16:\tlearn: 0.6514551\ttotal: 105ms\tremaining: 511ms\n",
      "17:\tlearn: 0.6510748\ttotal: 110ms\tremaining: 503ms\n",
      "18:\tlearn: 0.6508147\ttotal: 118ms\tremaining: 505ms\n",
      "19:\tlearn: 0.6505444\ttotal: 125ms\tremaining: 501ms\n",
      "20:\tlearn: 0.6501912\ttotal: 135ms\tremaining: 509ms\n",
      "21:\tlearn: 0.6499038\ttotal: 141ms\tremaining: 499ms\n",
      "22:\tlearn: 0.6496766\ttotal: 150ms\tremaining: 503ms\n",
      "23:\tlearn: 0.6494105\ttotal: 157ms\tremaining: 496ms\n",
      "24:\tlearn: 0.6491546\ttotal: 164ms\tremaining: 493ms\n",
      "25:\tlearn: 0.6490428\ttotal: 170ms\tremaining: 484ms\n",
      "26:\tlearn: 0.6489321\ttotal: 182ms\tremaining: 493ms\n",
      "27:\tlearn: 0.6487672\ttotal: 192ms\tremaining: 495ms\n",
      "28:\tlearn: 0.6486041\ttotal: 201ms\tremaining: 492ms\n",
      "29:\tlearn: 0.6483921\ttotal: 206ms\tremaining: 482ms\n",
      "30:\tlearn: 0.6482604\ttotal: 211ms\tremaining: 469ms\n",
      "31:\tlearn: 0.6481329\ttotal: 217ms\tremaining: 460ms\n",
      "32:\tlearn: 0.6479624\ttotal: 224ms\tremaining: 454ms\n",
      "33:\tlearn: 0.6476382\ttotal: 231ms\tremaining: 449ms\n",
      "34:\tlearn: 0.6474706\ttotal: 241ms\tremaining: 448ms\n",
      "35:\tlearn: 0.6473214\ttotal: 248ms\tremaining: 441ms\n",
      "36:\tlearn: 0.6472444\ttotal: 258ms\tremaining: 439ms\n",
      "37:\tlearn: 0.6470725\ttotal: 266ms\tremaining: 434ms\n",
      "38:\tlearn: 0.6469130\ttotal: 275ms\tremaining: 430ms\n",
      "39:\tlearn: 0.6466572\ttotal: 282ms\tremaining: 424ms\n",
      "40:\tlearn: 0.6463782\ttotal: 288ms\tremaining: 414ms\n",
      "41:\tlearn: 0.6462525\ttotal: 295ms\tremaining: 408ms\n",
      "42:\tlearn: 0.6460757\ttotal: 301ms\tremaining: 400ms\n",
      "43:\tlearn: 0.6458883\ttotal: 310ms\tremaining: 394ms\n",
      "44:\tlearn: 0.6457428\ttotal: 319ms\tremaining: 389ms\n",
      "45:\tlearn: 0.6454410\ttotal: 326ms\tremaining: 383ms\n",
      "46:\tlearn: 0.6452796\ttotal: 334ms\tremaining: 377ms\n",
      "47:\tlearn: 0.6450892\ttotal: 341ms\tremaining: 370ms\n",
      "48:\tlearn: 0.6448794\ttotal: 349ms\tremaining: 363ms\n",
      "49:\tlearn: 0.6445677\ttotal: 355ms\tremaining: 355ms\n",
      "50:\tlearn: 0.6443204\ttotal: 361ms\tremaining: 347ms\n",
      "51:\tlearn: 0.6441585\ttotal: 371ms\tremaining: 342ms\n",
      "52:\tlearn: 0.6439309\ttotal: 377ms\tremaining: 334ms\n",
      "53:\tlearn: 0.6438277\ttotal: 387ms\tremaining: 329ms\n",
      "54:\tlearn: 0.6436249\ttotal: 396ms\tremaining: 324ms\n",
      "55:\tlearn: 0.6433667\ttotal: 404ms\tremaining: 318ms\n",
      "56:\tlearn: 0.6431884\ttotal: 413ms\tremaining: 312ms\n",
      "57:\tlearn: 0.6429571\ttotal: 422ms\tremaining: 306ms\n",
      "58:\tlearn: 0.6427754\ttotal: 429ms\tremaining: 298ms\n",
      "59:\tlearn: 0.6426102\ttotal: 434ms\tremaining: 289ms\n",
      "60:\tlearn: 0.6423969\ttotal: 443ms\tremaining: 283ms\n",
      "61:\tlearn: 0.6422795\ttotal: 453ms\tremaining: 277ms\n",
      "62:\tlearn: 0.6420446\ttotal: 463ms\tremaining: 272ms\n",
      "63:\tlearn: 0.6419312\ttotal: 470ms\tremaining: 264ms\n",
      "64:\tlearn: 0.6417358\ttotal: 476ms\tremaining: 257ms\n",
      "65:\tlearn: 0.6414464\ttotal: 485ms\tremaining: 250ms\n",
      "66:\tlearn: 0.6411812\ttotal: 495ms\tremaining: 244ms\n",
      "67:\tlearn: 0.6410709\ttotal: 502ms\tremaining: 236ms\n",
      "68:\tlearn: 0.6409180\ttotal: 512ms\tremaining: 230ms\n",
      "69:\tlearn: 0.6406166\ttotal: 520ms\tremaining: 223ms\n",
      "70:\tlearn: 0.6404611\ttotal: 528ms\tremaining: 215ms\n",
      "71:\tlearn: 0.6403057\ttotal: 536ms\tremaining: 209ms\n",
      "72:\tlearn: 0.6401828\ttotal: 544ms\tremaining: 201ms\n",
      "73:\tlearn: 0.6399917\ttotal: 563ms\tremaining: 198ms\n",
      "74:\tlearn: 0.6399324\ttotal: 570ms\tremaining: 190ms\n",
      "75:\tlearn: 0.6398077\ttotal: 580ms\tremaining: 183ms\n",
      "76:\tlearn: 0.6397123\ttotal: 588ms\tremaining: 175ms\n",
      "77:\tlearn: 0.6394596\ttotal: 595ms\tremaining: 168ms\n",
      "78:\tlearn: 0.6391839\ttotal: 602ms\tremaining: 160ms\n",
      "79:\tlearn: 0.6390461\ttotal: 611ms\tremaining: 153ms\n",
      "80:\tlearn: 0.6388242\ttotal: 618ms\tremaining: 145ms\n",
      "81:\tlearn: 0.6386405\ttotal: 626ms\tremaining: 137ms\n",
      "82:\tlearn: 0.6385714\ttotal: 635ms\tremaining: 130ms\n",
      "83:\tlearn: 0.6384568\ttotal: 643ms\tremaining: 123ms\n",
      "84:\tlearn: 0.6381114\ttotal: 649ms\tremaining: 114ms\n",
      "85:\tlearn: 0.6377655\ttotal: 656ms\tremaining: 107ms\n",
      "86:\tlearn: 0.6375270\ttotal: 665ms\tremaining: 99.3ms\n",
      "87:\tlearn: 0.6371748\ttotal: 674ms\tremaining: 91.9ms\n",
      "88:\tlearn: 0.6370022\ttotal: 681ms\tremaining: 84.2ms\n",
      "89:\tlearn: 0.6368456\ttotal: 689ms\tremaining: 76.6ms\n",
      "90:\tlearn: 0.6366918\ttotal: 697ms\tremaining: 68.9ms\n",
      "91:\tlearn: 0.6364908\ttotal: 703ms\tremaining: 61.1ms\n",
      "92:\tlearn: 0.6362515\ttotal: 710ms\tremaining: 53.5ms\n",
      "93:\tlearn: 0.6361264\ttotal: 718ms\tremaining: 45.8ms\n",
      "94:\tlearn: 0.6359703\ttotal: 725ms\tremaining: 38.2ms\n",
      "95:\tlearn: 0.6357770\ttotal: 735ms\tremaining: 30.6ms\n",
      "96:\tlearn: 0.6354956\ttotal: 742ms\tremaining: 22.9ms\n",
      "97:\tlearn: 0.6353050\ttotal: 750ms\tremaining: 15.3ms\n",
      "98:\tlearn: 0.6351764\ttotal: 756ms\tremaining: 7.63ms\n",
      "99:\tlearn: 0.6347685\ttotal: 763ms\tremaining: 0us\n",
      "Best Parameters: {'depth': 3, 'iterations': 100, 'learning_rate': 0.1}\n",
      "Best Precision Score: 0.4333333333333333\n",
      "              precision    recall  f1-score   support\n",
      "\n",
      "           0       0.64      1.00      0.78      1125\n",
      "           1       0.00      0.00      0.00       628\n",
      "\n",
      "    accuracy                           0.64      1753\n",
      "   macro avg       0.32      0.50      0.39      1753\n",
      "weighted avg       0.41      0.64      0.50      1753\n",
      "\n",
      "Precision: 0.0\n",
      "Accuracy: 0.6417569880205363\n",
      "AUC: 0.4943864118895966\n"
     ]
    },
    {
     "data": {
      "text/plain": [
       "<sklearn.metrics._plot.confusion_matrix.ConfusionMatrixDisplay at 0x1afbb96e820>"
      ]
     },
     "execution_count": 34,
     "metadata": {},
     "output_type": "execute_result"
    },
    {
     "data": {
      "image/png": "[encoded data removed]",
      "text/plain": [
       "<Figure size 432x288 with 2 Axes>"
      ]
     },
     "metadata": {
      "needs_background": "light"
     },
     "output_type": "display_data"
    }
   ],
   "source": [
    "params_CatBoost= {\n",
    "                  'depth': [3,5,10],\n",
    "                  'learning_rate' : [0.01,0.1,1],\n",
    "                  'iterations' : [5,10,50,100]\n",
    "                 }\n",
    "\n",
    "gs_cat= GridSearchCV(estimator= cat, param_grid= params_CatBoost, cv=5, scoring='precision', n_jobs=-1, verbose=2)\n",
    "gs_cat.fit(X_train, y_train)\n",
    "\n",
    "print(\"Best Parameters:\", gs_cat.best_params_)\n",
    "print(\"Best Precision Score:\", gs_cat.best_score_)\n",
    "\n",
    "tuned_cat= gs_cat.best_estimator_\n",
    "y_pred_tuned_cat= tuned_cat.predict(X_test)\n",
    "y_pred_prob_tuned_cat= tuned_cat.predict_proba(X_test)[:,1]\n",
    "\n",
    "cm= confusion_matrix(y_test, y_pred_tuned_cat, labels= tuned_cat.classes_)\n",
    "print(classification_report(y_test, y_pred_tuned_cat, zero_division=0))\n",
    "print('Precision:', precision_score(y_test, y_pred_tuned_cat, zero_division=0))\n",
    "print('Accuracy:', accuracy_score(y_test, y_pred_tuned_cat))\n",
    "print('AUC:', roc_auc_score(y_test, y_pred_prob_tuned_cat))\n",
    "dcm_tuned_cat= ConfusionMatrixDisplay(cm, display_labels= tuned_cat.classes_)\n",
    "dcm_tuned_cat.plot()"
   ]
  },
  {
   "cell_type": "code",
   "execution_count": null,
   "id": "44677a1f",
   "metadata": {},
   "outputs": [],
   "source": []
  },
  {
   "cell_type": "code",
   "execution_count": 35,
   "id": "35fd0e92",
   "metadata": {},
   "outputs": [
    {
     "data": {
      "text/html": [
       "<style type=\"text/css\">\n",
       "#T_78ad3_row8_col1 {\n",
       "  background-color: lightgreen;\n",
       "}\n",
       "</style>\n",
       "<table id=\"T_78ad3\">\n",
       "  <thead>\n",
       "    <tr>\n",
       "      <th class=\"blank level0\" >&nbsp;</th>\n",
       "      <th id=\"T_78ad3_level0_col0\" class=\"col_heading level0 col0\" >Description</th>\n",
       "      <th id=\"T_78ad3_level0_col1\" class=\"col_heading level0 col1\" >Value</th>\n",
       "    </tr>\n",
       "  </thead>\n",
       "  <tbody>\n",
       "    <tr>\n",
       "      <th id=\"T_78ad3_level0_row0\" class=\"row_heading level0 row0\" >0</th>\n",
       "      <td id=\"T_78ad3_row0_col0\" class=\"data row0 col0\" >Session id</td>\n",
       "      <td id=\"T_78ad3_row0_col1\" class=\"data row0 col1\" >4355</td>\n",
       "    </tr>\n",
       "    <tr>\n",
       "      <th id=\"T_78ad3_level0_row1\" class=\"row_heading level0 row1\" >1</th>\n",
       "      <td id=\"T_78ad3_row1_col0\" class=\"data row1 col0\" >Target</td>\n",
       "      <td id=\"T_78ad3_row1_col1\" class=\"data row1 col1\" >Heart Attack Risk</td>\n",
       "    </tr>\n",
       "    <tr>\n",
       "      <th id=\"T_78ad3_level0_row2\" class=\"row_heading level0 row2\" >2</th>\n",
       "      <td id=\"T_78ad3_row2_col0\" class=\"data row2 col0\" >Target type</td>\n",
       "      <td id=\"T_78ad3_row2_col1\" class=\"data row2 col1\" >Binary</td>\n",
       "    </tr>\n",
       "    <tr>\n",
       "      <th id=\"T_78ad3_level0_row3\" class=\"row_heading level0 row3\" >3</th>\n",
       "      <td id=\"T_78ad3_row3_col0\" class=\"data row3 col0\" >Original data shape</td>\n",
       "      <td id=\"T_78ad3_row3_col1\" class=\"data row3 col1\" >(8763, 23)</td>\n",
       "    </tr>\n",
       "    <tr>\n",
       "      <th id=\"T_78ad3_level0_row4\" class=\"row_heading level0 row4\" >4</th>\n",
       "      <td id=\"T_78ad3_row4_col0\" class=\"data row4 col0\" >Transformed data shape</td>\n",
       "      <td id=\"T_78ad3_row4_col1\" class=\"data row4 col1\" >(8763, 23)</td>\n",
       "    </tr>\n",
       "    <tr>\n",
       "      <th id=\"T_78ad3_level0_row5\" class=\"row_heading level0 row5\" >5</th>\n",
       "      <td id=\"T_78ad3_row5_col0\" class=\"data row5 col0\" >Transformed train set shape</td>\n",
       "      <td id=\"T_78ad3_row5_col1\" class=\"data row5 col1\" >(6134, 23)</td>\n",
       "    </tr>\n",
       "    <tr>\n",
       "      <th id=\"T_78ad3_level0_row6\" class=\"row_heading level0 row6\" >6</th>\n",
       "      <td id=\"T_78ad3_row6_col0\" class=\"data row6 col0\" >Transformed test set shape</td>\n",
       "      <td id=\"T_78ad3_row6_col1\" class=\"data row6 col1\" >(2629, 23)</td>\n",
       "    </tr>\n",
       "    <tr>\n",
       "      <th id=\"T_78ad3_level0_row7\" class=\"row_heading level0 row7\" >7</th>\n",
       "      <td id=\"T_78ad3_row7_col0\" class=\"data row7 col0\" >Numeric features</td>\n",
       "      <td id=\"T_78ad3_row7_col1\" class=\"data row7 col1\" >22</td>\n",
       "    </tr>\n",
       "    <tr>\n",
       "      <th id=\"T_78ad3_level0_row8\" class=\"row_heading level0 row8\" >8</th>\n",
       "      <td id=\"T_78ad3_row8_col0\" class=\"data row8 col0\" >Preprocess</td>\n",
       "      <td id=\"T_78ad3_row8_col1\" class=\"data row8 col1\" >True</td>\n",
       "    </tr>\n",
       "    <tr>\n",
       "      <th id=\"T_78ad3_level0_row9\" class=\"row_heading level0 row9\" >9</th>\n",
       "      <td id=\"T_78ad3_row9_col0\" class=\"data row9 col0\" >Imputation type</td>\n",
       "      <td id=\"T_78ad3_row9_col1\" class=\"data row9 col1\" >simple</td>\n",
       "    </tr>\n",
       "    <tr>\n",
       "      <th id=\"T_78ad3_level0_row10\" class=\"row_heading level0 row10\" >10</th>\n",
       "      <td id=\"T_78ad3_row10_col0\" class=\"data row10 col0\" >Numeric imputation</td>\n",
       "      <td id=\"T_78ad3_row10_col1\" class=\"data row10 col1\" >mean</td>\n",
       "    </tr>\n",
       "    <tr>\n",
       "      <th id=\"T_78ad3_level0_row11\" class=\"row_heading level0 row11\" >11</th>\n",
       "      <td id=\"T_78ad3_row11_col0\" class=\"data row11 col0\" >Categorical imputation</td>\n",
       "      <td id=\"T_78ad3_row11_col1\" class=\"data row11 col1\" >mode</td>\n",
       "    </tr>\n",
       "    <tr>\n",
       "      <th id=\"T_78ad3_level0_row12\" class=\"row_heading level0 row12\" >12</th>\n",
       "      <td id=\"T_78ad3_row12_col0\" class=\"data row12 col0\" >Fold Generator</td>\n",
       "      <td id=\"T_78ad3_row12_col1\" class=\"data row12 col1\" >StratifiedKFold</td>\n",
       "    </tr>\n",
       "    <tr>\n",
       "      <th id=\"T_78ad3_level0_row13\" class=\"row_heading level0 row13\" >13</th>\n",
       "      <td id=\"T_78ad3_row13_col0\" class=\"data row13 col0\" >Fold Number</td>\n",
       "      <td id=\"T_78ad3_row13_col1\" class=\"data row13 col1\" >10</td>\n",
       "    </tr>\n",
       "    <tr>\n",
       "      <th id=\"T_78ad3_level0_row14\" class=\"row_heading level0 row14\" >14</th>\n",
       "      <td id=\"T_78ad3_row14_col0\" class=\"data row14 col0\" >CPU Jobs</td>\n",
       "      <td id=\"T_78ad3_row14_col1\" class=\"data row14 col1\" >-1</td>\n",
       "    </tr>\n",
       "    <tr>\n",
       "      <th id=\"T_78ad3_level0_row15\" class=\"row_heading level0 row15\" >15</th>\n",
       "      <td id=\"T_78ad3_row15_col0\" class=\"data row15 col0\" >Use GPU</td>\n",
       "      <td id=\"T_78ad3_row15_col1\" class=\"data row15 col1\" >False</td>\n",
       "    </tr>\n",
       "    <tr>\n",
       "      <th id=\"T_78ad3_level0_row16\" class=\"row_heading level0 row16\" >16</th>\n",
       "      <td id=\"T_78ad3_row16_col0\" class=\"data row16 col0\" >Log Experiment</td>\n",
       "      <td id=\"T_78ad3_row16_col1\" class=\"data row16 col1\" >False</td>\n",
       "    </tr>\n",
       "    <tr>\n",
       "      <th id=\"T_78ad3_level0_row17\" class=\"row_heading level0 row17\" >17</th>\n",
       "      <td id=\"T_78ad3_row17_col0\" class=\"data row17 col0\" >Experiment Name</td>\n",
       "      <td id=\"T_78ad3_row17_col1\" class=\"data row17 col1\" >clf-default-name</td>\n",
       "    </tr>\n",
       "    <tr>\n",
       "      <th id=\"T_78ad3_level0_row18\" class=\"row_heading level0 row18\" >18</th>\n",
       "      <td id=\"T_78ad3_row18_col0\" class=\"data row18 col0\" >USI</td>\n",
       "      <td id=\"T_78ad3_row18_col1\" class=\"data row18 col1\" >03e5</td>\n",
       "    </tr>\n",
       "  </tbody>\n",
       "</table>\n"
      ],
      "text/plain": [
       "<pandas.io.formats.style.Styler at 0x1afbdefbeb0>"
      ]
     },
     "metadata": {},
     "output_type": "display_data"
    }
   ],
   "source": [
    "from pycaret.classification import *\n",
    "s= setup(df, target = 'Heart Attack Risk')"
   ]
  },
  {
   "cell_type": "code",
   "execution_count": 36,
   "id": "4c0ca890",
   "metadata": {},
   "outputs": [
    {
     "data": {
      "text/html": [],
      "text/plain": [
       "<IPython.core.display.HTML object>"
      ]
     },
     "metadata": {},
     "output_type": "display_data"
    },
    {
     "data": {
      "text/html": [
       "<style type=\"text/css\">\n",
       "#T_0eb64 th {\n",
       "  text-align: left;\n",
       "}\n",
       "#T_0eb64_row0_col0, #T_0eb64_row0_col1, #T_0eb64_row0_col2, #T_0eb64_row0_col3, #T_0eb64_row0_col5, #T_0eb64_row0_col6, #T_0eb64_row1_col0, #T_0eb64_row1_col1, #T_0eb64_row1_col3, #T_0eb64_row1_col4, #T_0eb64_row1_col5, #T_0eb64_row1_col6, #T_0eb64_row1_col7, #T_0eb64_row2_col0, #T_0eb64_row2_col1, #T_0eb64_row2_col2, #T_0eb64_row2_col3, #T_0eb64_row2_col4, #T_0eb64_row2_col5, #T_0eb64_row2_col7, #T_0eb64_row3_col0, #T_0eb64_row3_col1, #T_0eb64_row3_col2, #T_0eb64_row3_col3, #T_0eb64_row3_col4, #T_0eb64_row3_col5, #T_0eb64_row3_col6, #T_0eb64_row3_col7, #T_0eb64_row4_col0, #T_0eb64_row4_col1, #T_0eb64_row4_col2, #T_0eb64_row4_col3, #T_0eb64_row4_col4, #T_0eb64_row4_col5, #T_0eb64_row4_col6, #T_0eb64_row4_col7, #T_0eb64_row5_col0, #T_0eb64_row5_col1, #T_0eb64_row5_col2, #T_0eb64_row5_col3, #T_0eb64_row5_col4, #T_0eb64_row5_col5, #T_0eb64_row5_col6, #T_0eb64_row5_col7, #T_0eb64_row6_col0, #T_0eb64_row6_col1, #T_0eb64_row6_col2, #T_0eb64_row6_col3, #T_0eb64_row6_col4, #T_0eb64_row6_col5, #T_0eb64_row6_col6, #T_0eb64_row6_col7, #T_0eb64_row7_col0, #T_0eb64_row7_col1, #T_0eb64_row7_col2, #T_0eb64_row7_col4, #T_0eb64_row7_col6, #T_0eb64_row7_col7, #T_0eb64_row8_col0, #T_0eb64_row8_col1, #T_0eb64_row8_col2, #T_0eb64_row8_col3, #T_0eb64_row8_col4, #T_0eb64_row8_col5, #T_0eb64_row8_col6, #T_0eb64_row8_col7, #T_0eb64_row9_col0, #T_0eb64_row9_col1, #T_0eb64_row9_col2, #T_0eb64_row9_col3, #T_0eb64_row9_col4, #T_0eb64_row9_col5, #T_0eb64_row9_col6, #T_0eb64_row9_col7, #T_0eb64_row10_col0, #T_0eb64_row10_col1, #T_0eb64_row10_col2, #T_0eb64_row10_col3, #T_0eb64_row10_col4, #T_0eb64_row10_col5, #T_0eb64_row10_col6, #T_0eb64_row10_col7, #T_0eb64_row11_col0, #T_0eb64_row11_col2, #T_0eb64_row11_col3, #T_0eb64_row11_col4, #T_0eb64_row11_col5, #T_0eb64_row11_col6, #T_0eb64_row11_col7, #T_0eb64_row12_col0, #T_0eb64_row12_col2, #T_0eb64_row12_col3, #T_0eb64_row12_col4, #T_0eb64_row12_col5, #T_0eb64_row12_col6, #T_0eb64_row12_col7, #T_0eb64_row13_col0, #T_0eb64_row13_col2, #T_0eb64_row13_col3, #T_0eb64_row13_col4, #T_0eb64_row13_col5, #T_0eb64_row13_col6, #T_0eb64_row13_col7, #T_0eb64_row14_col0, #T_0eb64_row14_col2, #T_0eb64_row14_col3, #T_0eb64_row14_col4, #T_0eb64_row14_col5, #T_0eb64_row14_col6, #T_0eb64_row14_col7, #T_0eb64_row15_col0, #T_0eb64_row15_col2, #T_0eb64_row15_col3, #T_0eb64_row15_col4, #T_0eb64_row15_col5, #T_0eb64_row15_col6, #T_0eb64_row15_col7 {\n",
       "  text-align: left;\n",
       "}\n",
       "#T_0eb64_row0_col4, #T_0eb64_row0_col7, #T_0eb64_row1_col2, #T_0eb64_row2_col6, #T_0eb64_row7_col3, #T_0eb64_row7_col5, #T_0eb64_row11_col1, #T_0eb64_row12_col1, #T_0eb64_row13_col1, #T_0eb64_row14_col1, #T_0eb64_row15_col1 {\n",
       "  text-align: left;\n",
       "  background-color: yellow;\n",
       "}\n",
       "#T_0eb64_row0_col8, #T_0eb64_row1_col8, #T_0eb64_row2_col8, #T_0eb64_row3_col8, #T_0eb64_row4_col8, #T_0eb64_row5_col8, #T_0eb64_row6_col8, #T_0eb64_row7_col8, #T_0eb64_row8_col8, #T_0eb64_row9_col8, #T_0eb64_row10_col8, #T_0eb64_row11_col8, #T_0eb64_row12_col8, #T_0eb64_row13_col8, #T_0eb64_row14_col8 {\n",
       "  text-align: left;\n",
       "  background-color: lightgrey;\n",
       "}\n",
       "#T_0eb64_row15_col8 {\n",
       "  text-align: left;\n",
       "  background-color: yellow;\n",
       "  background-color: lightgrey;\n",
       "}\n",
       "</style>\n",
       "<table id=\"T_0eb64\">\n",
       "  <thead>\n",
       "    <tr>\n",
       "      <th class=\"blank level0\" >&nbsp;</th>\n",
       "      <th id=\"T_0eb64_level0_col0\" class=\"col_heading level0 col0\" >Model</th>\n",
       "      <th id=\"T_0eb64_level0_col1\" class=\"col_heading level0 col1\" >Accuracy</th>\n",
       "      <th id=\"T_0eb64_level0_col2\" class=\"col_heading level0 col2\" >AUC</th>\n",
       "      <th id=\"T_0eb64_level0_col3\" class=\"col_heading level0 col3\" >Recall</th>\n",
       "      <th id=\"T_0eb64_level0_col4\" class=\"col_heading level0 col4\" >Prec.</th>\n",
       "      <th id=\"T_0eb64_level0_col5\" class=\"col_heading level0 col5\" >F1</th>\n",
       "      <th id=\"T_0eb64_level0_col6\" class=\"col_heading level0 col6\" >Kappa</th>\n",
       "      <th id=\"T_0eb64_level0_col7\" class=\"col_heading level0 col7\" >MCC</th>\n",
       "      <th id=\"T_0eb64_level0_col8\" class=\"col_heading level0 col8\" >TT (Sec)</th>\n",
       "    </tr>\n",
       "  </thead>\n",
       "  <tbody>\n",
       "    <tr>\n",
       "      <th id=\"T_0eb64_level0_row0\" class=\"row_heading level0 row0\" >ada</th>\n",
       "      <td id=\"T_0eb64_row0_col0\" class=\"data row0 col0\" >Ada Boost Classifier</td>\n",
       "      <td id=\"T_0eb64_row0_col1\" class=\"data row0 col1\" >0.6382</td>\n",
       "      <td id=\"T_0eb64_row0_col2\" class=\"data row0 col2\" >0.5090</td>\n",
       "      <td id=\"T_0eb64_row0_col3\" class=\"data row0 col3\" >0.0268</td>\n",
       "      <td id=\"T_0eb64_row0_col4\" class=\"data row0 col4\" >0.4395</td>\n",
       "      <td id=\"T_0eb64_row0_col5\" class=\"data row0 col5\" >0.0503</td>\n",
       "      <td id=\"T_0eb64_row0_col6\" class=\"data row0 col6\" >0.0079</td>\n",
       "      <td id=\"T_0eb64_row0_col7\" class=\"data row0 col7\" >0.0225</td>\n",
       "      <td id=\"T_0eb64_row0_col8\" class=\"data row0 col8\" >0.3070</td>\n",
       "    </tr>\n",
       "    <tr>\n",
       "      <th id=\"T_0eb64_level0_row1\" class=\"row_heading level0 row1\" >catboost</th>\n",
       "      <td id=\"T_0eb64_row1_col0\" class=\"data row1 col0\" >CatBoost Classifier</td>\n",
       "      <td id=\"T_0eb64_row1_col1\" class=\"data row1 col1\" >0.6311</td>\n",
       "      <td id=\"T_0eb64_row1_col2\" class=\"data row1 col2\" >0.5197</td>\n",
       "      <td id=\"T_0eb64_row1_col3\" class=\"data row1 col3\" >0.0587</td>\n",
       "      <td id=\"T_0eb64_row1_col4\" class=\"data row1 col4\" >0.3955</td>\n",
       "      <td id=\"T_0eb64_row1_col5\" class=\"data row1 col5\" >0.1022</td>\n",
       "      <td id=\"T_0eb64_row1_col6\" class=\"data row1 col6\" >0.0113</td>\n",
       "      <td id=\"T_0eb64_row1_col7\" class=\"data row1 col7\" >0.0191</td>\n",
       "      <td id=\"T_0eb64_row1_col8\" class=\"data row1 col8\" >2.5260</td>\n",
       "    </tr>\n",
       "    <tr>\n",
       "      <th id=\"T_0eb64_level0_row2\" class=\"row_heading level0 row2\" >lightgbm</th>\n",
       "      <td id=\"T_0eb64_row2_col0\" class=\"data row2 col0\" >Light Gradient Boosting Machine</td>\n",
       "      <td id=\"T_0eb64_row2_col1\" class=\"data row2 col1\" >0.6192</td>\n",
       "      <td id=\"T_0eb64_row2_col2\" class=\"data row2 col2\" >0.5114</td>\n",
       "      <td id=\"T_0eb64_row2_col3\" class=\"data row2 col3\" >0.1134</td>\n",
       "      <td id=\"T_0eb64_row2_col4\" class=\"data row2 col4\" >0.3872</td>\n",
       "      <td id=\"T_0eb64_row2_col5\" class=\"data row2 col5\" >0.1751</td>\n",
       "      <td id=\"T_0eb64_row2_col6\" class=\"data row2 col6\" >0.0174</td>\n",
       "      <td id=\"T_0eb64_row2_col7\" class=\"data row2 col7\" >0.0221</td>\n",
       "      <td id=\"T_0eb64_row2_col8\" class=\"data row2 col8\" >1.2130</td>\n",
       "    </tr>\n",
       "    <tr>\n",
       "      <th id=\"T_0eb64_level0_row3\" class=\"row_heading level0 row3\" >gbc</th>\n",
       "      <td id=\"T_0eb64_row3_col0\" class=\"data row3 col0\" >Gradient Boosting Classifier</td>\n",
       "      <td id=\"T_0eb64_row3_col1\" class=\"data row3 col1\" >0.6350</td>\n",
       "      <td id=\"T_0eb64_row3_col2\" class=\"data row3 col2\" >0.5188</td>\n",
       "      <td id=\"T_0eb64_row3_col3\" class=\"data row3 col3\" >0.0310</td>\n",
       "      <td id=\"T_0eb64_row3_col4\" class=\"data row3 col4\" >0.3761</td>\n",
       "      <td id=\"T_0eb64_row3_col5\" class=\"data row3 col5\" >0.0570</td>\n",
       "      <td id=\"T_0eb64_row3_col6\" class=\"data row3 col6\" >0.0038</td>\n",
       "      <td id=\"T_0eb64_row3_col7\" class=\"data row3 col7\" >0.0075</td>\n",
       "      <td id=\"T_0eb64_row3_col8\" class=\"data row3 col8\" >0.8770</td>\n",
       "    </tr>\n",
       "    <tr>\n",
       "      <th id=\"T_0eb64_level0_row4\" class=\"row_heading level0 row4\" >qda</th>\n",
       "      <td id=\"T_0eb64_row4_col0\" class=\"data row4 col0\" >Quadratic Discriminant Analysis</td>\n",
       "      <td id=\"T_0eb64_row4_col1\" class=\"data row4 col1\" >0.6180</td>\n",
       "      <td id=\"T_0eb64_row4_col2\" class=\"data row4 col2\" >0.5116</td>\n",
       "      <td id=\"T_0eb64_row4_col3\" class=\"data row4 col3\" >0.0947</td>\n",
       "      <td id=\"T_0eb64_row4_col4\" class=\"data row4 col4\" >0.3736</td>\n",
       "      <td id=\"T_0eb64_row4_col5\" class=\"data row4 col5\" >0.1506</td>\n",
       "      <td id=\"T_0eb64_row4_col6\" class=\"data row4 col6\" >0.0058</td>\n",
       "      <td id=\"T_0eb64_row4_col7\" class=\"data row4 col7\" >0.0090</td>\n",
       "      <td id=\"T_0eb64_row4_col8\" class=\"data row4 col8\" >0.0420</td>\n",
       "    </tr>\n",
       "    <tr>\n",
       "      <th id=\"T_0eb64_level0_row5\" class=\"row_heading level0 row5\" >xgboost</th>\n",
       "      <td id=\"T_0eb64_row5_col0\" class=\"data row5 col0\" >Extreme Gradient Boosting</td>\n",
       "      <td id=\"T_0eb64_row5_col1\" class=\"data row5 col1\" >0.5853</td>\n",
       "      <td id=\"T_0eb64_row5_col2\" class=\"data row5 col2\" >0.5101</td>\n",
       "      <td id=\"T_0eb64_row5_col3\" class=\"data row5 col3\" >0.2189</td>\n",
       "      <td id=\"T_0eb64_row5_col4\" class=\"data row5 col4\" >0.3673</td>\n",
       "      <td id=\"T_0eb64_row5_col5\" class=\"data row5 col5\" >0.2743</td>\n",
       "      <td id=\"T_0eb64_row5_col6\" class=\"data row5 col6\" >0.0094</td>\n",
       "      <td id=\"T_0eb64_row5_col7\" class=\"data row5 col7\" >0.0100</td>\n",
       "      <td id=\"T_0eb64_row5_col8\" class=\"data row5 col8\" >1.3230</td>\n",
       "    </tr>\n",
       "    <tr>\n",
       "      <th id=\"T_0eb64_level0_row6\" class=\"row_heading level0 row6\" >et</th>\n",
       "      <td id=\"T_0eb64_row6_col0\" class=\"data row6 col0\" >Extra Trees Classifier</td>\n",
       "      <td id=\"T_0eb64_row6_col1\" class=\"data row6 col1\" >0.6347</td>\n",
       "      <td id=\"T_0eb64_row6_col2\" class=\"data row6 col2\" >0.4897</td>\n",
       "      <td id=\"T_0eb64_row6_col3\" class=\"data row6 col3\" >0.0259</td>\n",
       "      <td id=\"T_0eb64_row6_col4\" class=\"data row6 col4\" >0.3635</td>\n",
       "      <td id=\"T_0eb64_row6_col5\" class=\"data row6 col5\" >0.0484</td>\n",
       "      <td id=\"T_0eb64_row6_col6\" class=\"data row6 col6\" >0.0004</td>\n",
       "      <td id=\"T_0eb64_row6_col7\" class=\"data row6 col7\" >0.0014</td>\n",
       "      <td id=\"T_0eb64_row6_col8\" class=\"data row6 col8\" >0.8690</td>\n",
       "    </tr>\n",
       "    <tr>\n",
       "      <th id=\"T_0eb64_level0_row7\" class=\"row_heading level0 row7\" >dt</th>\n",
       "      <td id=\"T_0eb64_row7_col0\" class=\"data row7 col0\" >Decision Tree Classifier</td>\n",
       "      <td id=\"T_0eb64_row7_col1\" class=\"data row7 col1\" >0.5360</td>\n",
       "      <td id=\"T_0eb64_row7_col2\" class=\"data row7 col2\" >0.4990</td>\n",
       "      <td id=\"T_0eb64_row7_col3\" class=\"data row7 col3\" >0.3682</td>\n",
       "      <td id=\"T_0eb64_row7_col4\" class=\"data row7 col4\" >0.3573</td>\n",
       "      <td id=\"T_0eb64_row7_col5\" class=\"data row7 col5\" >0.3621</td>\n",
       "      <td id=\"T_0eb64_row7_col6\" class=\"data row7 col6\" >-0.0019</td>\n",
       "      <td id=\"T_0eb64_row7_col7\" class=\"data row7 col7\" >-0.0019</td>\n",
       "      <td id=\"T_0eb64_row7_col8\" class=\"data row7 col8\" >0.0590</td>\n",
       "    </tr>\n",
       "    <tr>\n",
       "      <th id=\"T_0eb64_level0_row8\" class=\"row_heading level0 row8\" >rf</th>\n",
       "      <td id=\"T_0eb64_row8_col0\" class=\"data row8 col0\" >Random Forest Classifier</td>\n",
       "      <td id=\"T_0eb64_row8_col1\" class=\"data row8 col1\" >0.6325</td>\n",
       "      <td id=\"T_0eb64_row8_col2\" class=\"data row8 col2\" >0.5048</td>\n",
       "      <td id=\"T_0eb64_row8_col3\" class=\"data row8 col3\" >0.0287</td>\n",
       "      <td id=\"T_0eb64_row8_col4\" class=\"data row8 col4\" >0.3485</td>\n",
       "      <td id=\"T_0eb64_row8_col5\" class=\"data row8 col5\" >0.0528</td>\n",
       "      <td id=\"T_0eb64_row8_col6\" class=\"data row8 col6\" >-0.0022</td>\n",
       "      <td id=\"T_0eb64_row8_col7\" class=\"data row8 col7\" >-0.0043</td>\n",
       "      <td id=\"T_0eb64_row8_col8\" class=\"data row8 col8\" >0.5180</td>\n",
       "    </tr>\n",
       "    <tr>\n",
       "      <th id=\"T_0eb64_level0_row9\" class=\"row_heading level0 row9\" >knn</th>\n",
       "      <td id=\"T_0eb64_row9_col0\" class=\"data row9 col0\" >K Neighbors Classifier</td>\n",
       "      <td id=\"T_0eb64_row9_col1\" class=\"data row9 col1\" >0.5626</td>\n",
       "      <td id=\"T_0eb64_row9_col2\" class=\"data row9 col2\" >0.4980</td>\n",
       "      <td id=\"T_0eb64_row9_col3\" class=\"data row9 col3\" >0.2303</td>\n",
       "      <td id=\"T_0eb64_row9_col4\" class=\"data row9 col4\" >0.3388</td>\n",
       "      <td id=\"T_0eb64_row9_col5\" class=\"data row9 col5\" >0.2739</td>\n",
       "      <td id=\"T_0eb64_row9_col6\" class=\"data row9 col6\" >-0.0231</td>\n",
       "      <td id=\"T_0eb64_row9_col7\" class=\"data row9 col7\" >-0.0238</td>\n",
       "      <td id=\"T_0eb64_row9_col8\" class=\"data row9 col8\" >0.1300</td>\n",
       "    </tr>\n",
       "    <tr>\n",
       "      <th id=\"T_0eb64_level0_row10\" class=\"row_heading level0 row10\" >svm</th>\n",
       "      <td id=\"T_0eb64_row10_col0\" class=\"data row10 col0\" >SVM - Linear Kernel</td>\n",
       "      <td id=\"T_0eb64_row10_col1\" class=\"data row10 col1\" >0.5853</td>\n",
       "      <td id=\"T_0eb64_row10_col2\" class=\"data row10 col2\" >0.0000</td>\n",
       "      <td id=\"T_0eb64_row10_col3\" class=\"data row10 col3\" >0.2000</td>\n",
       "      <td id=\"T_0eb64_row10_col4\" class=\"data row10 col4\" >0.0717</td>\n",
       "      <td id=\"T_0eb64_row10_col5\" class=\"data row10 col5\" >0.1056</td>\n",
       "      <td id=\"T_0eb64_row10_col6\" class=\"data row10 col6\" >0.0000</td>\n",
       "      <td id=\"T_0eb64_row10_col7\" class=\"data row10 col7\" >0.0000</td>\n",
       "      <td id=\"T_0eb64_row10_col8\" class=\"data row10 col8\" >0.0870</td>\n",
       "    </tr>\n",
       "    <tr>\n",
       "      <th id=\"T_0eb64_level0_row11\" class=\"row_heading level0 row11\" >lr</th>\n",
       "      <td id=\"T_0eb64_row11_col0\" class=\"data row11 col0\" >Logistic Regression</td>\n",
       "      <td id=\"T_0eb64_row11_col1\" class=\"data row11 col1\" >0.6418</td>\n",
       "      <td id=\"T_0eb64_row11_col2\" class=\"data row11 col2\" >0.4849</td>\n",
       "      <td id=\"T_0eb64_row11_col3\" class=\"data row11 col3\" >0.0000</td>\n",
       "      <td id=\"T_0eb64_row11_col4\" class=\"data row11 col4\" >0.0000</td>\n",
       "      <td id=\"T_0eb64_row11_col5\" class=\"data row11 col5\" >0.0000</td>\n",
       "      <td id=\"T_0eb64_row11_col6\" class=\"data row11 col6\" >0.0000</td>\n",
       "      <td id=\"T_0eb64_row11_col7\" class=\"data row11 col7\" >0.0000</td>\n",
       "      <td id=\"T_0eb64_row11_col8\" class=\"data row11 col8\" >1.7200</td>\n",
       "    </tr>\n",
       "    <tr>\n",
       "      <th id=\"T_0eb64_level0_row12\" class=\"row_heading level0 row12\" >nb</th>\n",
       "      <td id=\"T_0eb64_row12_col0\" class=\"data row12 col0\" >Naive Bayes</td>\n",
       "      <td id=\"T_0eb64_row12_col1\" class=\"data row12 col1\" >0.6418</td>\n",
       "      <td id=\"T_0eb64_row12_col2\" class=\"data row12 col2\" >0.4977</td>\n",
       "      <td id=\"T_0eb64_row12_col3\" class=\"data row12 col3\" >0.0000</td>\n",
       "      <td id=\"T_0eb64_row12_col4\" class=\"data row12 col4\" >0.0000</td>\n",
       "      <td id=\"T_0eb64_row12_col5\" class=\"data row12 col5\" >0.0000</td>\n",
       "      <td id=\"T_0eb64_row12_col6\" class=\"data row12 col6\" >0.0000</td>\n",
       "      <td id=\"T_0eb64_row12_col7\" class=\"data row12 col7\" >0.0000</td>\n",
       "      <td id=\"T_0eb64_row12_col8\" class=\"data row12 col8\" >0.0290</td>\n",
       "    </tr>\n",
       "    <tr>\n",
       "      <th id=\"T_0eb64_level0_row13\" class=\"row_heading level0 row13\" >ridge</th>\n",
       "      <td id=\"T_0eb64_row13_col0\" class=\"data row13 col0\" >Ridge Classifier</td>\n",
       "      <td id=\"T_0eb64_row13_col1\" class=\"data row13 col1\" >0.6418</td>\n",
       "      <td id=\"T_0eb64_row13_col2\" class=\"data row13 col2\" >0.0000</td>\n",
       "      <td id=\"T_0eb64_row13_col3\" class=\"data row13 col3\" >0.0000</td>\n",
       "      <td id=\"T_0eb64_row13_col4\" class=\"data row13 col4\" >0.0000</td>\n",
       "      <td id=\"T_0eb64_row13_col5\" class=\"data row13 col5\" >0.0000</td>\n",
       "      <td id=\"T_0eb64_row13_col6\" class=\"data row13 col6\" >0.0000</td>\n",
       "      <td id=\"T_0eb64_row13_col7\" class=\"data row13 col7\" >0.0000</td>\n",
       "      <td id=\"T_0eb64_row13_col8\" class=\"data row13 col8\" >0.0320</td>\n",
       "    </tr>\n",
       "    <tr>\n",
       "      <th id=\"T_0eb64_level0_row14\" class=\"row_heading level0 row14\" >lda</th>\n",
       "      <td id=\"T_0eb64_row14_col0\" class=\"data row14 col0\" >Linear Discriminant Analysis</td>\n",
       "      <td id=\"T_0eb64_row14_col1\" class=\"data row14 col1\" >0.6418</td>\n",
       "      <td id=\"T_0eb64_row14_col2\" class=\"data row14 col2\" >0.4883</td>\n",
       "      <td id=\"T_0eb64_row14_col3\" class=\"data row14 col3\" >0.0000</td>\n",
       "      <td id=\"T_0eb64_row14_col4\" class=\"data row14 col4\" >0.0000</td>\n",
       "      <td id=\"T_0eb64_row14_col5\" class=\"data row14 col5\" >0.0000</td>\n",
       "      <td id=\"T_0eb64_row14_col6\" class=\"data row14 col6\" >0.0000</td>\n",
       "      <td id=\"T_0eb64_row14_col7\" class=\"data row14 col7\" >0.0000</td>\n",
       "      <td id=\"T_0eb64_row14_col8\" class=\"data row14 col8\" >0.0350</td>\n",
       "    </tr>\n",
       "    <tr>\n",
       "      <th id=\"T_0eb64_level0_row15\" class=\"row_heading level0 row15\" >dummy</th>\n",
       "      <td id=\"T_0eb64_row15_col0\" class=\"data row15 col0\" >Dummy Classifier</td>\n",
       "      <td id=\"T_0eb64_row15_col1\" class=\"data row15 col1\" >0.6418</td>\n",
       "      <td id=\"T_0eb64_row15_col2\" class=\"data row15 col2\" >0.5000</td>\n",
       "      <td id=\"T_0eb64_row15_col3\" class=\"data row15 col3\" >0.0000</td>\n",
       "      <td id=\"T_0eb64_row15_col4\" class=\"data row15 col4\" >0.0000</td>\n",
       "      <td id=\"T_0eb64_row15_col5\" class=\"data row15 col5\" >0.0000</td>\n",
       "      <td id=\"T_0eb64_row15_col6\" class=\"data row15 col6\" >0.0000</td>\n",
       "      <td id=\"T_0eb64_row15_col7\" class=\"data row15 col7\" >0.0000</td>\n",
       "      <td id=\"T_0eb64_row15_col8\" class=\"data row15 col8\" >0.0230</td>\n",
       "    </tr>\n",
       "  </tbody>\n",
       "</table>\n"
      ],
      "text/plain": [
       "<pandas.io.formats.style.Styler at 0x1afbdf84c70>"
      ]
     },
     "metadata": {},
     "output_type": "display_data"
    },
    {
     "data": {
      "application/vnd.jupyter.widget-view+json": {
       "model_id": "",
       "version_major": 2,
       "version_minor": 0
      },
      "text/plain": [
       "Processing:   0%|          | 0/69 [00:00<?, ?it/s]"
      ]
     },
     "metadata": {},
     "output_type": "display_data"
    }
   ],
   "source": [
    "best_model= compare_models(sort='Precision')"
   ]
  },
  {
   "cell_type": "code",
   "execution_count": 37,
   "id": "dac19f1e",
   "metadata": {},
   "outputs": [
    {
     "name": "stdout",
     "output_type": "stream",
     "text": [
      "AdaBoostClassifier(algorithm='SAMME.R', base_estimator='deprecated',\n",
      "                   estimator=None, learning_rate=1.0, n_estimators=50,\n",
      "                   random_state=4355)\n"
     ]
    }
   ],
   "source": [
    "print(best_model)"
   ]
  },
  {
   "cell_type": "code",
   "execution_count": 38,
   "id": "fc6deb75",
   "metadata": {},
   "outputs": [
    {
     "data": {
      "text/html": [],
      "text/plain": [
       "<IPython.core.display.HTML object>"
      ]
     },
     "metadata": {},
     "output_type": "display_data"
    },
    {
     "data": {
      "text/html": [
       "<style type=\"text/css\">\n",
       "#T_15367_row10_col0, #T_15367_row10_col1, #T_15367_row10_col2, #T_15367_row10_col3, #T_15367_row10_col4, #T_15367_row10_col5, #T_15367_row10_col6 {\n",
       "  background: yellow;\n",
       "}\n",
       "</style>\n",
       "<table id=\"T_15367\">\n",
       "  <thead>\n",
       "    <tr>\n",
       "      <th class=\"blank level0\" >&nbsp;</th>\n",
       "      <th id=\"T_15367_level0_col0\" class=\"col_heading level0 col0\" >Accuracy</th>\n",
       "      <th id=\"T_15367_level0_col1\" class=\"col_heading level0 col1\" >AUC</th>\n",
       "      <th id=\"T_15367_level0_col2\" class=\"col_heading level0 col2\" >Recall</th>\n",
       "      <th id=\"T_15367_level0_col3\" class=\"col_heading level0 col3\" >Prec.</th>\n",
       "      <th id=\"T_15367_level0_col4\" class=\"col_heading level0 col4\" >F1</th>\n",
       "      <th id=\"T_15367_level0_col5\" class=\"col_heading level0 col5\" >Kappa</th>\n",
       "      <th id=\"T_15367_level0_col6\" class=\"col_heading level0 col6\" >MCC</th>\n",
       "    </tr>\n",
       "    <tr>\n",
       "      <th class=\"index_name level0\" >Fold</th>\n",
       "      <th class=\"blank col0\" >&nbsp;</th>\n",
       "      <th class=\"blank col1\" >&nbsp;</th>\n",
       "      <th class=\"blank col2\" >&nbsp;</th>\n",
       "      <th class=\"blank col3\" >&nbsp;</th>\n",
       "      <th class=\"blank col4\" >&nbsp;</th>\n",
       "      <th class=\"blank col5\" >&nbsp;</th>\n",
       "      <th class=\"blank col6\" >&nbsp;</th>\n",
       "    </tr>\n",
       "  </thead>\n",
       "  <tbody>\n",
       "    <tr>\n",
       "      <th id=\"T_15367_level0_row0\" class=\"row_heading level0 row0\" >0</th>\n",
       "      <td id=\"T_15367_row0_col0\" class=\"data row0 col0\" >0.6417</td>\n",
       "      <td id=\"T_15367_row0_col1\" class=\"data row0 col1\" >0.4925</td>\n",
       "      <td id=\"T_15367_row0_col2\" class=\"data row0 col2\" >0.0000</td>\n",
       "      <td id=\"T_15367_row0_col3\" class=\"data row0 col3\" >0.0000</td>\n",
       "      <td id=\"T_15367_row0_col4\" class=\"data row0 col4\" >0.0000</td>\n",
       "      <td id=\"T_15367_row0_col5\" class=\"data row0 col5\" >0.0000</td>\n",
       "      <td id=\"T_15367_row0_col6\" class=\"data row0 col6\" >0.0000</td>\n",
       "    </tr>\n",
       "    <tr>\n",
       "      <th id=\"T_15367_level0_row1\" class=\"row_heading level0 row1\" >1</th>\n",
       "      <td id=\"T_15367_row1_col0\" class=\"data row1 col0\" >0.6417</td>\n",
       "      <td id=\"T_15367_row1_col1\" class=\"data row1 col1\" >0.4613</td>\n",
       "      <td id=\"T_15367_row1_col2\" class=\"data row1 col2\" >0.0000</td>\n",
       "      <td id=\"T_15367_row1_col3\" class=\"data row1 col3\" >0.0000</td>\n",
       "      <td id=\"T_15367_row1_col4\" class=\"data row1 col4\" >0.0000</td>\n",
       "      <td id=\"T_15367_row1_col5\" class=\"data row1 col5\" >0.0000</td>\n",
       "      <td id=\"T_15367_row1_col6\" class=\"data row1 col6\" >0.0000</td>\n",
       "    </tr>\n",
       "    <tr>\n",
       "      <th id=\"T_15367_level0_row2\" class=\"row_heading level0 row2\" >2</th>\n",
       "      <td id=\"T_15367_row2_col0\" class=\"data row2 col0\" >0.6417</td>\n",
       "      <td id=\"T_15367_row2_col1\" class=\"data row2 col1\" >0.5055</td>\n",
       "      <td id=\"T_15367_row2_col2\" class=\"data row2 col2\" >0.0000</td>\n",
       "      <td id=\"T_15367_row2_col3\" class=\"data row2 col3\" >0.0000</td>\n",
       "      <td id=\"T_15367_row2_col4\" class=\"data row2 col4\" >0.0000</td>\n",
       "      <td id=\"T_15367_row2_col5\" class=\"data row2 col5\" >0.0000</td>\n",
       "      <td id=\"T_15367_row2_col6\" class=\"data row2 col6\" >0.0000</td>\n",
       "    </tr>\n",
       "    <tr>\n",
       "      <th id=\"T_15367_level0_row3\" class=\"row_heading level0 row3\" >3</th>\n",
       "      <td id=\"T_15367_row3_col0\" class=\"data row3 col0\" >0.6401</td>\n",
       "      <td id=\"T_15367_row3_col1\" class=\"data row3 col1\" >0.4976</td>\n",
       "      <td id=\"T_15367_row3_col2\" class=\"data row3 col2\" >0.0000</td>\n",
       "      <td id=\"T_15367_row3_col3\" class=\"data row3 col3\" >0.0000</td>\n",
       "      <td id=\"T_15367_row3_col4\" class=\"data row3 col4\" >0.0000</td>\n",
       "      <td id=\"T_15367_row3_col5\" class=\"data row3 col5\" >-0.0033</td>\n",
       "      <td id=\"T_15367_row3_col6\" class=\"data row3 col6\" >-0.0302</td>\n",
       "    </tr>\n",
       "    <tr>\n",
       "      <th id=\"T_15367_level0_row4\" class=\"row_heading level0 row4\" >4</th>\n",
       "      <td id=\"T_15367_row4_col0\" class=\"data row4 col0\" >0.6427</td>\n",
       "      <td id=\"T_15367_row4_col1\" class=\"data row4 col1\" >0.4706</td>\n",
       "      <td id=\"T_15367_row4_col2\" class=\"data row4 col2\" >0.0091</td>\n",
       "      <td id=\"T_15367_row4_col3\" class=\"data row4 col3\" >0.6667</td>\n",
       "      <td id=\"T_15367_row4_col4\" class=\"data row4 col4\" >0.0179</td>\n",
       "      <td id=\"T_15367_row4_col5\" class=\"data row4 col5\" >0.0084</td>\n",
       "      <td id=\"T_15367_row4_col6\" class=\"data row4 col6\" >0.0450</td>\n",
       "    </tr>\n",
       "    <tr>\n",
       "      <th id=\"T_15367_level0_row5\" class=\"row_heading level0 row5\" >5</th>\n",
       "      <td id=\"T_15367_row5_col0\" class=\"data row5 col0\" >0.6411</td>\n",
       "      <td id=\"T_15367_row5_col1\" class=\"data row5 col1\" >0.5441</td>\n",
       "      <td id=\"T_15367_row5_col2\" class=\"data row5 col2\" >0.0000</td>\n",
       "      <td id=\"T_15367_row5_col3\" class=\"data row5 col3\" >0.0000</td>\n",
       "      <td id=\"T_15367_row5_col4\" class=\"data row5 col4\" >0.0000</td>\n",
       "      <td id=\"T_15367_row5_col5\" class=\"data row5 col5\" >0.0000</td>\n",
       "      <td id=\"T_15367_row5_col6\" class=\"data row5 col6\" >0.0000</td>\n",
       "    </tr>\n",
       "    <tr>\n",
       "      <th id=\"T_15367_level0_row6\" class=\"row_heading level0 row6\" >6</th>\n",
       "      <td id=\"T_15367_row6_col0\" class=\"data row6 col0\" >0.6395</td>\n",
       "      <td id=\"T_15367_row6_col1\" class=\"data row6 col1\" >0.4749</td>\n",
       "      <td id=\"T_15367_row6_col2\" class=\"data row6 col2\" >0.0000</td>\n",
       "      <td id=\"T_15367_row6_col3\" class=\"data row6 col3\" >0.0000</td>\n",
       "      <td id=\"T_15367_row6_col4\" class=\"data row6 col4\" >0.0000</td>\n",
       "      <td id=\"T_15367_row6_col5\" class=\"data row6 col5\" >-0.0033</td>\n",
       "      <td id=\"T_15367_row6_col6\" class=\"data row6 col6\" >-0.0302</td>\n",
       "    </tr>\n",
       "    <tr>\n",
       "      <th id=\"T_15367_level0_row7\" class=\"row_heading level0 row7\" >7</th>\n",
       "      <td id=\"T_15367_row7_col0\" class=\"data row7 col0\" >0.6427</td>\n",
       "      <td id=\"T_15367_row7_col1\" class=\"data row7 col1\" >0.5031</td>\n",
       "      <td id=\"T_15367_row7_col2\" class=\"data row7 col2\" >0.0000</td>\n",
       "      <td id=\"T_15367_row7_col3\" class=\"data row7 col3\" >0.0000</td>\n",
       "      <td id=\"T_15367_row7_col4\" class=\"data row7 col4\" >0.0000</td>\n",
       "      <td id=\"T_15367_row7_col5\" class=\"data row7 col5\" >0.0000</td>\n",
       "      <td id=\"T_15367_row7_col6\" class=\"data row7 col6\" >0.0000</td>\n",
       "    </tr>\n",
       "    <tr>\n",
       "      <th id=\"T_15367_level0_row8\" class=\"row_heading level0 row8\" >8</th>\n",
       "      <td id=\"T_15367_row8_col0\" class=\"data row8 col0\" >0.6444</td>\n",
       "      <td id=\"T_15367_row8_col1\" class=\"data row8 col1\" >0.5482</td>\n",
       "      <td id=\"T_15367_row8_col2\" class=\"data row8 col2\" >0.0046</td>\n",
       "      <td id=\"T_15367_row8_col3\" class=\"data row8 col3\" >1.0000</td>\n",
       "      <td id=\"T_15367_row8_col4\" class=\"data row8 col4\" >0.0091</td>\n",
       "      <td id=\"T_15367_row8_col5\" class=\"data row8 col5\" >0.0059</td>\n",
       "      <td id=\"T_15367_row8_col6\" class=\"data row8 col6\" >0.0542</td>\n",
       "    </tr>\n",
       "    <tr>\n",
       "      <th id=\"T_15367_level0_row9\" class=\"row_heading level0 row9\" >9</th>\n",
       "      <td id=\"T_15367_row9_col0\" class=\"data row9 col0\" >0.6427</td>\n",
       "      <td id=\"T_15367_row9_col1\" class=\"data row9 col1\" >0.5428</td>\n",
       "      <td id=\"T_15367_row9_col2\" class=\"data row9 col2\" >0.0000</td>\n",
       "      <td id=\"T_15367_row9_col3\" class=\"data row9 col3\" >0.0000</td>\n",
       "      <td id=\"T_15367_row9_col4\" class=\"data row9 col4\" >0.0000</td>\n",
       "      <td id=\"T_15367_row9_col5\" class=\"data row9 col5\" >0.0000</td>\n",
       "      <td id=\"T_15367_row9_col6\" class=\"data row9 col6\" >0.0000</td>\n",
       "    </tr>\n",
       "    <tr>\n",
       "      <th id=\"T_15367_level0_row10\" class=\"row_heading level0 row10\" >Mean</th>\n",
       "      <td id=\"T_15367_row10_col0\" class=\"data row10 col0\" >0.6418</td>\n",
       "      <td id=\"T_15367_row10_col1\" class=\"data row10 col1\" >0.5041</td>\n",
       "      <td id=\"T_15367_row10_col2\" class=\"data row10 col2\" >0.0014</td>\n",
       "      <td id=\"T_15367_row10_col3\" class=\"data row10 col3\" >0.1667</td>\n",
       "      <td id=\"T_15367_row10_col4\" class=\"data row10 col4\" >0.0027</td>\n",
       "      <td id=\"T_15367_row10_col5\" class=\"data row10 col5\" >0.0008</td>\n",
       "      <td id=\"T_15367_row10_col6\" class=\"data row10 col6\" >0.0039</td>\n",
       "    </tr>\n",
       "    <tr>\n",
       "      <th id=\"T_15367_level0_row11\" class=\"row_heading level0 row11\" >Std</th>\n",
       "      <td id=\"T_15367_row11_col0\" class=\"data row11 col0\" >0.0013</td>\n",
       "      <td id=\"T_15367_row11_col1\" class=\"data row11 col1\" >0.0300</td>\n",
       "      <td id=\"T_15367_row11_col2\" class=\"data row11 col2\" >0.0029</td>\n",
       "      <td id=\"T_15367_row11_col3\" class=\"data row11 col3\" >0.3416</td>\n",
       "      <td id=\"T_15367_row11_col4\" class=\"data row11 col4\" >0.0058</td>\n",
       "      <td id=\"T_15367_row11_col5\" class=\"data row11 col5\" >0.0035</td>\n",
       "      <td id=\"T_15367_row11_col6\" class=\"data row11 col6\" >0.0258</td>\n",
       "    </tr>\n",
       "  </tbody>\n",
       "</table>\n"
      ],
      "text/plain": [
       "<pandas.io.formats.style.Styler at 0x1af9f8f1a90>"
      ]
     },
     "metadata": {},
     "output_type": "display_data"
    },
    {
     "data": {
      "application/vnd.jupyter.widget-view+json": {
       "model_id": "",
       "version_major": 2,
       "version_minor": 0
      },
      "text/plain": [
       "Processing:   0%|          | 0/7 [00:00<?, ?it/s]"
      ]
     },
     "metadata": {},
     "output_type": "display_data"
    },
    {
     "name": "stdout",
     "output_type": "stream",
     "text": [
      "Fitting 10 folds for each of 10 candidates, totalling 100 fits\n"
     ]
    }
   ],
   "source": [
    "tuned_best_model = tune_model(best_model)"
   ]
  },
  {
   "cell_type": "code",
   "execution_count": null,
   "id": "770d3077",
   "metadata": {},
   "outputs": [],
   "source": []
  },
  {
   "cell_type": "markdown",
   "id": "b57855ee",
   "metadata": {},
   "source": [
    "--- Visualisation ---"
   ]
  },
  {
   "cell_type": "code",
   "execution_count": 39,
   "id": "8a9d69fd",
   "metadata": {},
   "outputs": [
    {
     "name": "stdout",
     "output_type": "stream",
     "text": [
      "Logistic Regression Precision: 0.0\n",
      "Decision Tree Precision: 0.3605769230769231\n",
      "Tuned Decision Tree Precision: 0.2975609756097561\n",
      "KNeighborsClassifier Precision: 0.3470319634703196\n",
      "Tuned KNeighborsClassifier Precision: 0.3404255319148936\n",
      "GaussianNB Precision: 0.0\n",
      "SVM Precision: 0.0\n",
      "Random Forest Precision: 0.2641509433962264\n",
      "Tuned Random Forest Precision: 0.2\n",
      "AdaBoost Precision: 0.3157894736842105\n",
      "Tuned AdaBoost Precision: 0.5\n",
      "GradientBoosting Precision: 0.1935483870967742\n",
      "Tuned GradientBoosting Precision: 0.37894736842105264\n",
      "XGB Precision: 0.3886138613861386\n",
      "Tuned XGB Precision: 0.3351063829787234\n",
      "LGBM Precision: 0.29285714285714287\n",
      "Tuned LGBM Precision: 0.44285714285714284\n",
      "CatBoost Precision: 0.37209302325581395\n",
      "Tuned CatBoost Precision: 0.0\n"
     ]
    }
   ],
   "source": [
    "print('Logistic Regression Precision:', precision_score(y_test, y_pred_lr, zero_division= 0))\n",
    "print('Decision Tree Precision:', precision_score(y_test, y_pred_dt, zero_division= 0))\n",
    "print('Tuned Decision Tree Precision:', precision_score(y_test, y_pred_tuned_dt, zero_division= 0))\n",
    "print('KNeighborsClassifier Precision:', precision_score(y_test, y_pred_knn, zero_division= 0))\n",
    "print('Tuned KNeighborsClassifier Precision:', precision_score(y_test, y_pred_tuned_knn, zero_division= 0))\n",
    "print('GaussianNB Precision:', precision_score(y_test, y_pred_nb, zero_division= 0))\n",
    "print('SVM Precision:', precision_score(y_test, y_pred_svc, zero_division= 0))\n",
    "print('Random Forest Precision:', precision_score(y_test, y_pred_rf, zero_division= 0))\n",
    "print('Tuned Random Forest Precision:', precision_score(y_test, y_pred_tuned_rf, zero_division= 0))\n",
    "print('AdaBoost Precision:', precision_score(y_test, y_pred_ada, zero_division= 0))\n",
    "print('Tuned AdaBoost Precision:', precision_score(y_test, y_pred_tuned_ada, zero_division= 0))\n",
    "print('GradientBoosting Precision:', precision_score(y_test, y_pred_grb, zero_division= 0))\n",
    "print('Tuned GradientBoosting Precision:', precision_score(y_test, y_pred_tuned_grb, zero_division= 0))\n",
    "print('XGB Precision:', precision_score(y_test, y_pred_xgb, zero_division= 0))\n",
    "print('Tuned XGB Precision:', precision_score(y_test, y_pred_tuned_xgb, zero_division= 0))\n",
    "print('LGBM Precision:', precision_score(y_test, y_pred_lgm, zero_division= 0))\n",
    "print('Tuned LGBM Precision:', precision_score(y_test, y_pred_tuned_lgm, zero_division= 0))\n",
    "print('CatBoost Precision:', precision_score(y_test, y_pred_cat, zero_division= 0))\n",
    "print('Tuned CatBoost Precision:', precision_score(y_test, y_pred_tuned_cat, zero_division= 0))"
   ]
  },
  {
   "cell_type": "code",
   "execution_count": 40,
   "id": "9984fadc",
   "metadata": {},
   "outputs": [
    {
     "name": "stdout",
     "output_type": "stream",
     "text": [
      "                                    Model  Precision Score\n",
      "10              Tuned AdaBoost Precision:         0.500000\n",
      "16                  Tuned LGBM Precision:         0.442857\n",
      "13                         XGB Precision:         0.388614\n",
      "12      Tuned GradientBoosting Precision:         0.378947\n",
      "17                    CatBoost Precision:         0.372093\n",
      "1                Decision Tree Precision:         0.360577\n",
      "3         KNeighborsClassifier Precision:         0.347032\n",
      "4   Tuned KNeighborsClassifier Precision:         0.340426\n",
      "14                   Tuned XGB Precision:         0.335106\n",
      "9                     AdaBoost Precision:         0.315789\n",
      "2          Tuned Decision Tree Precision:         0.297561\n",
      "15                        LGBM Precision:         0.292857\n",
      "7                Random Forest Precision:         0.264151\n",
      "8          Tuned Random Forest Precision:         0.200000\n",
      "11            GradientBoosting Precision:         0.193548\n",
      "0          Logistic Regression Precision:         0.000000\n",
      "6                          SVM Precision:         0.000000\n",
      "5                   GaussianNB Precision:         0.000000\n",
      "18              Tuned CatBoost Precision:         0.000000\n"
     ]
    }
   ],
   "source": [
    "precision_scores= {\n",
    "                    'Logistic Regression Precision:': precision_score(y_test, y_pred_lr, zero_division= 0),\n",
    "                    'Decision Tree Precision:': precision_score(y_test, y_pred_dt, zero_division= 0),\n",
    "                    'Tuned Decision Tree Precision:': precision_score(y_test, y_pred_tuned_dt, zero_division= 0),\n",
    "                    'KNeighborsClassifier Precision:': precision_score(y_test, y_pred_knn, zero_division= 0),\n",
    "                    'Tuned KNeighborsClassifier Precision:': precision_score(y_test, y_pred_tuned_knn, zero_division= 0),\n",
    "                    'GaussianNB Precision:': precision_score(y_test, y_pred_nb, zero_division= 0),\n",
    "                    'SVM Precision:': precision_score(y_test, y_pred_svc, zero_division= 0),\n",
    "                    'Random Forest Precision:': precision_score(y_test, y_pred_rf, zero_division= 0),\n",
    "                    'Tuned Random Forest Precision:': precision_score(y_test, y_pred_tuned_rf, zero_division= 0),\n",
    "                    'AdaBoost Precision:': precision_score(y_test, y_pred_ada, zero_division= 0),\n",
    "                    'Tuned AdaBoost Precision:': precision_score(y_test, y_pred_tuned_ada, zero_division= 0),\n",
    "                    'GradientBoosting Precision:': precision_score(y_test, y_pred_grb, zero_division= 0),\n",
    "                    'Tuned GradientBoosting Precision:': precision_score(y_test, y_pred_tuned_grb, zero_division= 0),\n",
    "                    'XGB Precision:': precision_score(y_test, y_pred_xgb, zero_division= 0),\n",
    "                    'Tuned XGB Precision:': precision_score(y_test, y_pred_tuned_xgb, zero_division= 0),\n",
    "                    'LGBM Precision:': precision_score(y_test, y_pred_lgm, zero_division= 0),\n",
    "                    'Tuned LGBM Precision:': precision_score(y_test, y_pred_tuned_lgm, zero_division= 0),\n",
    "                    'CatBoost Precision:': precision_score(y_test, y_pred_cat, zero_division= 0),\n",
    "                    'Tuned CatBoost Precision:': precision_score(y_test, y_pred_tuned_cat, zero_division= 0)\n",
    "                  }\n",
    "\n",
    "ml_precision= pd.DataFrame(list(precision_scores.items()), columns= ['Model', 'Precision Score'])\n",
    "ml_precision= ml_precision.sort_values(by= 'Precision Score', ascending=False)\n",
    "print(ml_precision)"
   ]
  },
  {
   "cell_type": "code",
   "execution_count": 41,
   "id": "e4dfa440",
   "metadata": {},
   "outputs": [
    {
     "name": "stdout",
     "output_type": "stream",
     "text": [
      "                                   Model  Accuracy Score\n",
      "0          Logistic Regression Accuracy:        0.641757\n",
      "5                   GaussianNB Accuracy:        0.641757\n",
      "10              Tuned AdaBoost Accuracy:        0.641757\n",
      "18              Tuned CatBoost Accuracy:        0.641757\n",
      "6                          SVM Accuracy:        0.641187\n",
      "8          Tuned Random Forest Accuracy:        0.640046\n",
      "9                     AdaBoost Accuracy:        0.637764\n",
      "16                  Tuned LGBM Accuracy:        0.637193\n",
      "4   Tuned KNeighborsClassifier Accuracy:        0.633200\n",
      "11            GradientBoosting Accuracy:        0.630918\n",
      "17                    CatBoost Accuracy:        0.629207\n",
      "12      Tuned GradientBoosting Accuracy:        0.628637\n",
      "7                Random Forest Accuracy:        0.627496\n",
      "15                        LGBM Accuracy:        0.608671\n",
      "14                   Tuned XGB Accuracy:        0.606389\n",
      "2          Tuned Decision Tree Accuracy:        0.594410\n",
      "13                         XGB Accuracy:        0.590416\n",
      "3         KNeighborsClassifier Accuracy:        0.565317\n",
      "1                Decision Tree Accuracy:        0.542499\n"
     ]
    }
   ],
   "source": [
    "accuracy_scores= {\n",
    "                    'Logistic Regression Accuracy:': accuracy_score(y_test, y_pred_lr),\n",
    "                    'Decision Tree Accuracy:': accuracy_score(y_test, y_pred_dt),\n",
    "                    'Tuned Decision Tree Accuracy:': accuracy_score(y_test, y_pred_tuned_dt),\n",
    "                    'KNeighborsClassifier Accuracy:': accuracy_score(y_test, y_pred_knn),\n",
    "                    'Tuned KNeighborsClassifier Accuracy:': accuracy_score(y_test, y_pred_tuned_knn),\n",
    "                    'GaussianNB Accuracy:': accuracy_score(y_test, y_pred_nb),\n",
    "                    'SVM Accuracy:': accuracy_score(y_test, y_pred_svc),\n",
    "                    'Random Forest Accuracy:': accuracy_score(y_test, y_pred_rf),\n",
    "                    'Tuned Random Forest Accuracy:': accuracy_score(y_test, y_pred_tuned_rf),\n",
    "                    'AdaBoost Accuracy:': accuracy_score(y_test, y_pred_ada),\n",
    "                    'Tuned AdaBoost Accuracy:': accuracy_score(y_test, y_pred_tuned_ada),\n",
    "                    'GradientBoosting Accuracy:': accuracy_score(y_test, y_pred_grb),\n",
    "                    'Tuned GradientBoosting Accuracy:': accuracy_score(y_test, y_pred_tuned_grb),\n",
    "                    'XGB Accuracy:': accuracy_score(y_test, y_pred_xgb),\n",
    "                    'Tuned XGB Accuracy:': accuracy_score(y_test, y_pred_tuned_xgb),\n",
    "                    'LGBM Accuracy:': accuracy_score(y_test, y_pred_lgm),\n",
    "                    'Tuned LGBM Accuracy:': accuracy_score(y_test, y_pred_tuned_lgm),\n",
    "                    'CatBoost Accuracy:': accuracy_score(y_test, y_pred_cat),\n",
    "                    'Tuned CatBoost Accuracy:': accuracy_score(y_test, y_pred_tuned_cat)\n",
    "                  }\n",
    "\n",
    "ml_accuracy= pd.DataFrame(list(accuracy_scores.items()), columns= ['Model', 'Accuracy Score'])\n",
    "ml_accuracy= ml_accuracy.sort_values(by= 'Accuracy Score', ascending=False)\n",
    "print(ml_accuracy)"
   ]
  },
  {
   "cell_type": "code",
   "execution_count": 42,
   "id": "6585b742",
   "metadata": {},
   "outputs": [
    {
     "name": "stdout",
     "output_type": "stream",
     "text": [
      "                              Model  AUC Score\n",
      "13                         XGB AUC:   0.525918\n",
      "8          Tuned Random Forest AUC:   0.515701\n",
      "15                        LGBM AUC:   0.513866\n",
      "14                   Tuned XGB AUC:   0.513353\n",
      "16                  Tuned LGBM AUC:   0.513333\n",
      "17                    CatBoost AUC:   0.508906\n",
      "4   Tuned KNeighborsClassifier AUC:   0.507252\n",
      "12      Tuned GradientBoosting AUC:   0.503407\n",
      "1                Decision Tree AUC:   0.501807\n",
      "11            GradientBoosting AUC:   0.498419\n",
      "7                Random Forest AUC:   0.498289\n",
      "9                     AdaBoost AUC:   0.497597\n",
      "18              Tuned CatBoost AUC:   0.494386\n",
      "10              Tuned AdaBoost AUC:   0.493604\n",
      "6                          SVM AUC:   0.489406\n",
      "5                   GaussianNB AUC:   0.488579\n",
      "2          Tuned Decision Tree AUC:   0.488514\n",
      "0          Logistic Regression AUC:   0.482835\n",
      "3         KNeighborsClassifier AUC:   0.482602\n"
     ]
    }
   ],
   "source": [
    "auc_scores= {\n",
    "                    'Logistic Regression AUC:': roc_auc_score(y_test, y_pred_prob_lr),\n",
    "                    'Decision Tree AUC:': roc_auc_score(y_test, y_pred_prob_dt),\n",
    "                    'Tuned Decision Tree AUC:': roc_auc_score(y_test, y_pred_prob_tuned_dt),\n",
    "                    'KNeighborsClassifier AUC:': roc_auc_score(y_test, y_pred_prob_knn),\n",
    "                    'Tuned KNeighborsClassifier AUC:': roc_auc_score(y_test, y_pred_prob_tuned_knn),\n",
    "                    'GaussianNB AUC:': roc_auc_score(y_test, y_pred_prob_nb),\n",
    "                    'SVM AUC:': roc_auc_score(y_test, y_pred_prob_svc),\n",
    "                    'Random Forest AUC:': roc_auc_score(y_test, y_pred_prob_rf),\n",
    "                    'Tuned Random Forest AUC:': roc_auc_score(y_test, y_pred_prob_tuned_rf),\n",
    "                    'AdaBoost AUC:': roc_auc_score(y_test, y_pred_prob_ada),\n",
    "                    'Tuned AdaBoost AUC:': roc_auc_score(y_test, y_pred_prob_tuned_ada),\n",
    "                    'GradientBoosting AUC:': roc_auc_score(y_test, y_pred_prob_grb),\n",
    "                    'Tuned GradientBoosting AUC:': roc_auc_score(y_test, y_pred_prob_tuned_grb),\n",
    "                    'XGB AUC:': roc_auc_score(y_test, y_pred_prob_xgb),\n",
    "                    'Tuned XGB AUC:': roc_auc_score(y_test, y_pred_prob_tuned_xgb),\n",
    "                    'LGBM AUC:': roc_auc_score(y_test, y_pred_prob_lgm),\n",
    "                    'Tuned LGBM AUC:': roc_auc_score(y_test, y_pred_prob_tuned_lgm),\n",
    "                    'CatBoost AUC:': roc_auc_score(y_test, y_pred_prob_cat),\n",
    "                    'Tuned CatBoost AUC:': roc_auc_score(y_test, y_pred_prob_tuned_cat)\n",
    "                  }\n",
    "\n",
    "ml_auc= pd.DataFrame(list(auc_scores.items()), columns= ['Model', 'AUC Score'])\n",
    "ml_auc= ml_auc.sort_values(by= 'AUC Score', ascending=False)\n",
    "print(ml_auc)"
   ]
  },
  {
   "cell_type": "code",
   "execution_count": null,
   "id": "12b7cef4",
   "metadata": {},
   "outputs": [],
   "source": []
  },
  {
   "cell_type": "code",
   "execution_count": null,
   "id": "f482b326",
   "metadata": {},
   "outputs": [],
   "source": []
  },
  {
   "cell_type": "code",
   "execution_count": null,
   "id": "03a46620",
   "metadata": {},
   "outputs": [],
   "source": []
  },
  {
   "cell_type": "code",
   "execution_count": null,
   "id": "5da4c5e1",
   "metadata": {},
   "outputs": [],
   "source": []
  },
  {
   "cell_type": "code",
   "execution_count": 43,
   "id": "209b0ea5",
   "metadata": {},
   "outputs": [
    {
     "name": "stdout",
     "output_type": "stream",
     "text": [
      "Logistic Regression Precision: 0.0\n",
      "Decision Tree Precision: 0.3605769230769231\n",
      "Tuned Decision Tree Precision: 0.2975609756097561\n"
     ]
    },
    {
     "data": {
      "image/png": "[encoded data removed]",
      "text/plain": [
       "<Figure size 1080x360 with 6 Axes>"
      ]
     },
     "metadata": {
      "needs_background": "light"
     },
     "output_type": "display_data"
    }
   ],
   "source": [
    "fig, axes= plt.subplots(1, 3, figsize= (15, 5))\n",
    "\n",
    "print('Logistic Regression Precision:', precision_score(y_test, y_pred_lr, zero_division= 0))\n",
    "print('Decision Tree Precision:', precision_score(y_test, y_pred_dt, zero_division= 0))\n",
    "print('Tuned Decision Tree Precision:', precision_score(y_test, y_pred_tuned_dt, zero_division= 0))\n",
    "\n",
    "dcm_lr.plot(ax= axes[0])\n",
    "axes[0].set_title('Confusion Matrix for Logistic Regression')\n",
    "axes[0].grid(linewidth= 0)\n",
    "\n",
    "dcm_dt.plot(ax= axes[1])\n",
    "axes[1].set_title('Confusion Matrix for Decision Tree')\n",
    "axes[1].grid(linewidth= 0)\n",
    "\n",
    "dcm_knn.plot(ax= axes[2])\n",
    "axes[2].set_title('Confusion Matrix for Tuned Decision Tree')\n",
    "axes[2].grid(linewidth= 0)\n",
    "\n",
    "plt.tight_layout()\n",
    "plt.show()"
   ]
  },
  {
   "cell_type": "code",
   "execution_count": 44,
   "id": "a7f99f97",
   "metadata": {},
   "outputs": [
    {
     "name": "stdout",
     "output_type": "stream",
     "text": [
      "KNeighborsClassifier Precision: 0.3470319634703196\n",
      "Tuned KNeighborsClassifier Precision: 0.3404255319148936\n",
      "GaussianNB Precision: 0.0\n"
     ]
    },
    {
     "data": {
      "image/png": "[encoded data removed]",
      "text/plain": [
       "<Figure size 1080x360 with 6 Axes>"
      ]
     },
     "metadata": {
      "needs_background": "light"
     },
     "output_type": "display_data"
    }
   ],
   "source": [
    "fig, axes= plt.subplots(1, 3, figsize= (15, 5))\n",
    "print('KNeighborsClassifier Precision:', precision_score(y_test, y_pred_knn, zero_division= 0))\n",
    "print('Tuned KNeighborsClassifier Precision:', precision_score(y_test, y_pred_tuned_knn, zero_division= 0))\n",
    "print('GaussianNB Precision:', precision_score(y_test, y_pred_nb, zero_division= 0))\n",
    "\n",
    "dcm_knn.plot(ax= axes[0])\n",
    "axes[0].set_title('Confusion Matrix for KNeighborsClassifier')\n",
    "axes[0].grid(linewidth= 0)\n",
    "\n",
    "dcm_tuned_knn.plot(ax= axes[1])\n",
    "axes[1].set_title('Confusion Matrix for Tuned KNeighborsClassifier')\n",
    "axes[1].grid(linewidth= 0)\n",
    "\n",
    "dcm_nb.plot(ax= axes[2])\n",
    "axes[2].set_title('Confusion Matrix for GaussianNB')\n",
    "axes[2].grid(linewidth= 0)\n",
    "\n",
    "plt.tight_layout()\n",
    "plt.show()"
   ]
  },
  {
   "cell_type": "code",
   "execution_count": 45,
   "id": "25317f74",
   "metadata": {},
   "outputs": [
    {
     "name": "stdout",
     "output_type": "stream",
     "text": [
      "SVM Precision: 0.0\n",
      "Random Forest Precision: 0.2641509433962264\n",
      "Tuned Random Forest Precision: 0.2\n"
     ]
    },
    {
     "data": {
      "image/png": "[encoded data removed]",
      "text/plain": [
       "<Figure size 1080x360 with 6 Axes>"
      ]
     },
     "metadata": {
      "needs_background": "light"
     },
     "output_type": "display_data"
    }
   ],
   "source": [
    "fig, axes= plt.subplots(1, 3, figsize= (15, 5))\n",
    "print('SVM Precision:', precision_score(y_test, y_pred_svc, zero_division=0))\n",
    "print('Random Forest Precision:', precision_score(y_test, y_pred_rf, zero_division=0))\n",
    "print('Tuned Random Forest Precision:', precision_score(y_test, y_pred_tuned_rf, zero_division=0))\n",
    "\n",
    "dcm_svc.plot(ax= axes[0])\n",
    "axes[0].set_title('Confusion Matrix for SVM')\n",
    "axes[0].grid(linewidth= 0)\n",
    "\n",
    "dcm_rf.plot(ax= axes[1])\n",
    "axes[1].set_title('Confusion Matrix for Random Forest')\n",
    "axes[1].grid(linewidth= 0)\n",
    "\n",
    "dcm_tuned_rf.plot(ax= axes[2])\n",
    "axes[2].set_title('Confusion Matrix for Tuned Random Forest')\n",
    "axes[2].grid(linewidth= 0)\n",
    "\n",
    "plt.tight_layout()\n",
    "plt.show()"
   ]
  },
  {
   "cell_type": "code",
   "execution_count": 46,
   "id": "337608d0",
   "metadata": {},
   "outputs": [
    {
     "name": "stdout",
     "output_type": "stream",
     "text": [
      "AdaBoost Precision: 0.3157894736842105\n",
      "Tuned AdaBoost Precision: 0.5\n",
      "GradientBoosting Precision: 0.1935483870967742\n"
     ]
    },
    {
     "data": {
      "image/png": "[encoded data removed]",
      "text/plain": [
       "<Figure size 1080x360 with 6 Axes>"
      ]
     },
     "metadata": {
      "needs_background": "light"
     },
     "output_type": "display_data"
    }
   ],
   "source": [
    "fig, axes= plt.subplots(1, 3, figsize= (15, 5))\n",
    "\n",
    "print('AdaBoost Precision:', precision_score(y_test, y_pred_ada, zero_division=0))\n",
    "print('Tuned AdaBoost Precision:', precision_score(y_test, y_pred_tuned_ada, zero_division=0))\n",
    "print('GradientBoosting Precision:', precision_score(y_test, y_pred_grb, zero_division=0))\n",
    "\n",
    "dcm_ada.plot(ax= axes[0])\n",
    "axes[0].set_title('Confusion Matrix for AdaBoost')\n",
    "axes[0].grid(linewidth= 0)\n",
    "\n",
    "dcm_tuned_ada.plot(ax= axes[1])\n",
    "axes[1].set_title('Confusion Matrix for Tuned AdaBoost')\n",
    "axes[1].grid(linewidth= 0)\n",
    "\n",
    "dcm_grb.plot(ax= axes[2])\n",
    "axes[2].set_title('Confusion Matrix for GradientBoosting')\n",
    "axes[2].grid(linewidth= 0)\n",
    "\n",
    "plt.tight_layout()\n",
    "plt.show()"
   ]
  },
  {
   "cell_type": "code",
   "execution_count": 47,
   "id": "bda41d9d",
   "metadata": {},
   "outputs": [
    {
     "name": "stdout",
     "output_type": "stream",
     "text": [
      "Tuned GradientBoosting Precision: 0.37894736842105264\n",
      "XGB Precision: 0.3886138613861386\n",
      "Tuned XGB Precision: 0.3351063829787234\n"
     ]
    },
    {
     "data": {
      "image/png": "[encoded data removed]",
      "text/plain": [
       "<Figure size 1080x360 with 6 Axes>"
      ]
     },
     "metadata": {
      "needs_background": "light"
     },
     "output_type": "display_data"
    }
   ],
   "source": [
    "fig, axes= plt.subplots(1, 3, figsize= (15, 5))\n",
    "\n",
    "print('Tuned GradientBoosting Precision:', precision_score(y_test, y_pred_tuned_grb, zero_division=0))\n",
    "print('XGB Precision:', precision_score(y_test, y_pred_xgb, zero_division=0))\n",
    "print('Tuned XGB Precision:', precision_score(y_test, y_pred_tuned_xgb, zero_division=0))\n",
    "\n",
    "dcm_tuned_grb.plot(ax= axes[0])\n",
    "axes[0].set_title('Confusion Matrix for Tuned GradientBoosting')\n",
    "axes[0].grid(linewidth= 0)\n",
    "\n",
    "dcm_xgb.plot(ax= axes[1])\n",
    "axes[1].set_title('Confusion Matrix for XGB')\n",
    "axes[1].grid(linewidth= 0)\n",
    "\n",
    "dcm_tuned_xgb.plot(ax= axes[2])\n",
    "axes[2].set_title('Confusion Matrix for Tuned XGB')\n",
    "axes[2].grid(linewidth= 0)\n",
    "\n",
    "plt.tight_layout()\n",
    "plt.show()"
   ]
  },
  {
   "cell_type": "code",
   "execution_count": 48,
   "id": "722d4360",
   "metadata": {},
   "outputs": [
    {
     "name": "stdout",
     "output_type": "stream",
     "text": [
      "LGBM Precision: 0.29285714285714287\n",
      "Tuned LGBM Precision: 0.44285714285714284\n",
      "CatBoost Precision: 0.37209302325581395\n",
      "Tuned CatBoost Precision: 0.0\n"
     ]
    },
    {
     "data": {
      "image/png": "[encoded data removed]",
      "text/plain": [
       "<Figure size 1080x360 with 8 Axes>"
      ]
     },
     "metadata": {
      "needs_background": "light"
     },
     "output_type": "display_data"
    }
   ],
   "source": [
    "fig, axes= plt.subplots(1, 4, figsize= (15, 5))\n",
    "\n",
    "print('LGBM Precision:', precision_score(y_test, y_pred_lgm, zero_division=0))\n",
    "print('Tuned LGBM Precision:', precision_score(y_test, y_pred_tuned_lgm, zero_division=0))\n",
    "print('CatBoost Precision:', precision_score(y_test, y_pred_cat, zero_division=0))\n",
    "print('Tuned CatBoost Precision:', precision_score(y_test, y_pred_tuned_cat, zero_division=0))\n",
    "\n",
    "dcm_lgm.plot(ax= axes[0])\n",
    "axes[0].set_title('Confusion Matrix for LGBM')\n",
    "axes[0].grid(linewidth= 0)\n",
    "\n",
    "dcm_tuned_lgm.plot(ax= axes[1])\n",
    "axes[1].set_title('Confusion Matrix for Tuned LGBM')\n",
    "axes[1].grid(linewidth= 0)\n",
    "\n",
    "dcm_cat.plot(ax= axes[2])\n",
    "axes[2].set_title('Confusion Matrix for CatBoost')\n",
    "axes[2].grid(linewidth= 0)\n",
    "\n",
    "dcm_tuned_cat.plot(ax= axes[3])\n",
    "axes[3].set_title('Confusion Matrix for CatBoost')\n",
    "axes[3].grid(linewidth= 0)\n",
    "\n",
    "plt.tight_layout()\n",
    "plt.show()"
   ]
  },
  {
   "cell_type": "code",
   "execution_count": null,
   "id": "801130ed",
   "metadata": {},
   "outputs": [],
   "source": []
  },
  {
   "cell_type": "code",
   "execution_count": null,
   "id": "38ce1a41",
   "metadata": {},
   "outputs": [],
   "source": []
  },
  {
   "cell_type": "code",
   "execution_count": null,
   "id": "73786909",
   "metadata": {},
   "outputs": [],
   "source": []
  }
 ],
 "metadata": {
  "kernelspec": {
   "display_name": "Python 3 (ipykernel)",
   "language": "python",
   "name": "python3"
  },
  "language_info": {
   "codemirror_mode": {
    "name": "ipython",
    "version": 3
   },
   "file_extension": ".py",
   "mimetype": "text/x-python",
   "name": "python",
   "nbconvert_exporter": "python",
   "pygments_lexer": "ipython3",
   "version": "3.9.12"
  }
 },
 "nbformat": 4,
 "nbformat_minor": 5
}
