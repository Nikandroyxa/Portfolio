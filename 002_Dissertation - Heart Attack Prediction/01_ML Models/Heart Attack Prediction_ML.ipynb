{
 "cells": [
  {
   "cell_type": "code",
   "execution_count": 1,
   "id": "f807d5eb",
   "metadata": {},
   "outputs": [],
   "source": [
    "import pandas as pd\n",
    "import numpy as np\n",
    "import seaborn as sns\n",
    "import matplotlib.pyplot as plt\n",
    "\n",
    "df= pd.read_csv('C://Users//User//Desktop//MSc Westminster//Dissertation//DataSets//Heart_Attack_Prediction.csv')"
   ]
  },
  {
   "cell_type": "code",
   "execution_count": 2,
   "id": "bfa3c756",
   "metadata": {},
   "outputs": [],
   "source": [
    "df['Sex']= df['Sex'].map({'Female': 0, 'Male': 1}).astype(int)\n",
    "df['Diet']= df['Diet'].map({'Healthy': 0, 'Average': 1, 'Unhealthy': 2}).astype(int)\n",
    "df[['HBP', 'LBP']]= df['Blood Pressure'].str.split('/', expand= True).astype(int)\n",
    "df['Diabetes']= df['Diabetes'].map({0: 1, 1: 0}).astype(int)\n",
    "df['Exercise Hours Per Week']= df['Exercise Hours Per Week'].round(0).astype(int)\n",
    "df['Sedentary Hours Per Day']= df['Sedentary Hours Per Day'].round(0).astype(int)\n",
    "df['Income']= df['Income'].round(0).astype(int)\n",
    "df['BMI']= df['BMI'].round(0).astype(int)\n",
    "\n",
    "df= df.drop(columns= ['Patient ID', 'Blood Pressure', 'Country', 'Continent', 'Hemisphere'])"
   ]
  },
  {
   "cell_type": "code",
   "execution_count": 3,
   "id": "1d3f7a1d",
   "metadata": {},
   "outputs": [],
   "source": [
    "categorical_columns= ['Sex', 'Diabetes', 'Family History', 'Smoking', 'Obesity', 'Alcohol Consumption', \n",
    "                       'Diet', 'Previous Heart Problems', 'Medication Use', 'Heart Attack Risk']\n",
    "\n",
    "df[categorical_columns]= df[categorical_columns].astype(str)\n",
    "\n",
    "df= pd.get_dummies(df, columns= categorical_columns, drop_first= True)\n",
    "\n",
    "continuous_columns= ['Age', 'Cholesterol', 'Heart Rate', 'Exercise Hours Per Week', 'Stress Level', \n",
    "                      'Sedentary Hours Per Day', 'Income', 'BMI', 'Triglycerides', \n",
    "                      'Physical Activity Days Per Week', 'Sleep Hours Per Day', 'HBP', 'LBP']\n",
    "\n",
    "for column in continuous_columns:\n",
    "    if df[column].dtype== 'int64':\n",
    "        df[column]= df[column].astype('int16')\n",
    "    elif df[column].dtype== 'float64':\n",
    "        df[column]= df[column].astype('float16')"
   ]
  },
  {
   "cell_type": "code",
   "execution_count": 4,
   "id": "e882eadd",
   "metadata": {},
   "outputs": [
    {
     "name": "stdout",
     "output_type": "stream",
     "text": [
      "<class 'pandas.core.frame.DataFrame'>\n",
      "RangeIndex: 8763 entries, 0 to 8762\n",
      "Data columns (total 24 columns):\n",
      " #   Column                           Non-Null Count  Dtype\n",
      "---  ------                           --------------  -----\n",
      " 0   Age                              8763 non-null   int16\n",
      " 1   Cholesterol                      8763 non-null   int16\n",
      " 2   Heart Rate                       8763 non-null   int16\n",
      " 3   Exercise Hours Per Week          8763 non-null   int32\n",
      " 4   Stress Level                     8763 non-null   int16\n",
      " 5   Sedentary Hours Per Day          8763 non-null   int32\n",
      " 6   Income                           8763 non-null   int32\n",
      " 7   BMI                              8763 non-null   int32\n",
      " 8   Triglycerides                    8763 non-null   int16\n",
      " 9   Physical Activity Days Per Week  8763 non-null   int16\n",
      " 10  Sleep Hours Per Day              8763 non-null   int16\n",
      " 11  HBP                              8763 non-null   int32\n",
      " 12  LBP                              8763 non-null   int32\n",
      " 13  Sex_1                            8763 non-null   uint8\n",
      " 14  Diabetes_1                       8763 non-null   uint8\n",
      " 15  Family History_1                 8763 non-null   uint8\n",
      " 16  Smoking_1                        8763 non-null   uint8\n",
      " 17  Obesity_1                        8763 non-null   uint8\n",
      " 18  Alcohol Consumption_1            8763 non-null   uint8\n",
      " 19  Diet_1                           8763 non-null   uint8\n",
      " 20  Diet_2                           8763 non-null   uint8\n",
      " 21  Previous Heart Problems_1        8763 non-null   uint8\n",
      " 22  Medication Use_1                 8763 non-null   uint8\n",
      " 23  Heart Attack Risk_1              8763 non-null   uint8\n",
      "dtypes: int16(7), int32(6), uint8(11)\n",
      "memory usage: 419.4 KB\n"
     ]
    }
   ],
   "source": [
    "df.info()"
   ]
  },
  {
   "cell_type": "code",
   "execution_count": 5,
   "id": "6be2a80d",
   "metadata": {
    "scrolled": false
   },
   "outputs": [
    {
     "data": {
      "text/html": [
       "<div>\n",
       "<style scoped>\n",
       "    .dataframe tbody tr th:only-of-type {\n",
       "        vertical-align: middle;\n",
       "    }\n",
       "\n",
       "    .dataframe tbody tr th {\n",
       "        vertical-align: top;\n",
       "    }\n",
       "\n",
       "    .dataframe thead th {\n",
       "        text-align: right;\n",
       "    }\n",
       "</style>\n",
       "<table border=\"1\" class=\"dataframe\">\n",
       "  <thead>\n",
       "    <tr style=\"text-align: right;\">\n",
       "      <th></th>\n",
       "      <th>count</th>\n",
       "      <th>mean</th>\n",
       "      <th>std</th>\n",
       "      <th>min</th>\n",
       "      <th>25%</th>\n",
       "      <th>50%</th>\n",
       "      <th>75%</th>\n",
       "      <th>max</th>\n",
       "    </tr>\n",
       "  </thead>\n",
       "  <tbody>\n",
       "    <tr>\n",
       "      <th>Age</th>\n",
       "      <td>8763.0</td>\n",
       "      <td>53.707977</td>\n",
       "      <td>21.249509</td>\n",
       "      <td>18.0</td>\n",
       "      <td>35.0</td>\n",
       "      <td>54.0</td>\n",
       "      <td>72.0</td>\n",
       "      <td>90.0</td>\n",
       "    </tr>\n",
       "    <tr>\n",
       "      <th>Cholesterol</th>\n",
       "      <td>8763.0</td>\n",
       "      <td>259.877211</td>\n",
       "      <td>80.863276</td>\n",
       "      <td>120.0</td>\n",
       "      <td>192.0</td>\n",
       "      <td>259.0</td>\n",
       "      <td>330.0</td>\n",
       "      <td>400.0</td>\n",
       "    </tr>\n",
       "    <tr>\n",
       "      <th>Heart Rate</th>\n",
       "      <td>8763.0</td>\n",
       "      <td>75.021682</td>\n",
       "      <td>20.550948</td>\n",
       "      <td>40.0</td>\n",
       "      <td>57.0</td>\n",
       "      <td>75.0</td>\n",
       "      <td>93.0</td>\n",
       "      <td>110.0</td>\n",
       "    </tr>\n",
       "    <tr>\n",
       "      <th>Exercise Hours Per Week</th>\n",
       "      <td>8763.0</td>\n",
       "      <td>10.009700</td>\n",
       "      <td>5.797938</td>\n",
       "      <td>0.0</td>\n",
       "      <td>5.0</td>\n",
       "      <td>10.0</td>\n",
       "      <td>15.0</td>\n",
       "      <td>20.0</td>\n",
       "    </tr>\n",
       "    <tr>\n",
       "      <th>Stress Level</th>\n",
       "      <td>8763.0</td>\n",
       "      <td>5.469702</td>\n",
       "      <td>2.859622</td>\n",
       "      <td>1.0</td>\n",
       "      <td>3.0</td>\n",
       "      <td>5.0</td>\n",
       "      <td>8.0</td>\n",
       "      <td>10.0</td>\n",
       "    </tr>\n",
       "    <tr>\n",
       "      <th>Sedentary Hours Per Day</th>\n",
       "      <td>8763.0</td>\n",
       "      <td>5.989387</td>\n",
       "      <td>3.491569</td>\n",
       "      <td>0.0</td>\n",
       "      <td>3.0</td>\n",
       "      <td>6.0</td>\n",
       "      <td>9.0</td>\n",
       "      <td>12.0</td>\n",
       "    </tr>\n",
       "    <tr>\n",
       "      <th>Income</th>\n",
       "      <td>8763.0</td>\n",
       "      <td>158263.181901</td>\n",
       "      <td>80575.190806</td>\n",
       "      <td>20062.0</td>\n",
       "      <td>88310.0</td>\n",
       "      <td>157866.0</td>\n",
       "      <td>227749.0</td>\n",
       "      <td>299954.0</td>\n",
       "    </tr>\n",
       "    <tr>\n",
       "      <th>BMI</th>\n",
       "      <td>8763.0</td>\n",
       "      <td>28.886454</td>\n",
       "      <td>6.328903</td>\n",
       "      <td>18.0</td>\n",
       "      <td>23.0</td>\n",
       "      <td>29.0</td>\n",
       "      <td>34.0</td>\n",
       "      <td>40.0</td>\n",
       "    </tr>\n",
       "    <tr>\n",
       "      <th>Triglycerides</th>\n",
       "      <td>8763.0</td>\n",
       "      <td>417.677051</td>\n",
       "      <td>223.748137</td>\n",
       "      <td>30.0</td>\n",
       "      <td>225.5</td>\n",
       "      <td>417.0</td>\n",
       "      <td>612.0</td>\n",
       "      <td>800.0</td>\n",
       "    </tr>\n",
       "    <tr>\n",
       "      <th>Physical Activity Days Per Week</th>\n",
       "      <td>8763.0</td>\n",
       "      <td>3.489672</td>\n",
       "      <td>2.282687</td>\n",
       "      <td>0.0</td>\n",
       "      <td>2.0</td>\n",
       "      <td>3.0</td>\n",
       "      <td>5.0</td>\n",
       "      <td>7.0</td>\n",
       "    </tr>\n",
       "    <tr>\n",
       "      <th>Sleep Hours Per Day</th>\n",
       "      <td>8763.0</td>\n",
       "      <td>7.023508</td>\n",
       "      <td>1.988473</td>\n",
       "      <td>4.0</td>\n",
       "      <td>5.0</td>\n",
       "      <td>7.0</td>\n",
       "      <td>9.0</td>\n",
       "      <td>10.0</td>\n",
       "    </tr>\n",
       "    <tr>\n",
       "      <th>HBP</th>\n",
       "      <td>8763.0</td>\n",
       "      <td>135.075659</td>\n",
       "      <td>26.349976</td>\n",
       "      <td>90.0</td>\n",
       "      <td>112.0</td>\n",
       "      <td>135.0</td>\n",
       "      <td>158.0</td>\n",
       "      <td>180.0</td>\n",
       "    </tr>\n",
       "    <tr>\n",
       "      <th>LBP</th>\n",
       "      <td>8763.0</td>\n",
       "      <td>85.156111</td>\n",
       "      <td>14.676565</td>\n",
       "      <td>60.0</td>\n",
       "      <td>72.0</td>\n",
       "      <td>85.0</td>\n",
       "      <td>98.0</td>\n",
       "      <td>110.0</td>\n",
       "    </tr>\n",
       "    <tr>\n",
       "      <th>Sex_1</th>\n",
       "      <td>8763.0</td>\n",
       "      <td>0.697364</td>\n",
       "      <td>0.459425</td>\n",
       "      <td>0.0</td>\n",
       "      <td>0.0</td>\n",
       "      <td>1.0</td>\n",
       "      <td>1.0</td>\n",
       "      <td>1.0</td>\n",
       "    </tr>\n",
       "    <tr>\n",
       "      <th>Diabetes_1</th>\n",
       "      <td>8763.0</td>\n",
       "      <td>0.347712</td>\n",
       "      <td>0.476271</td>\n",
       "      <td>0.0</td>\n",
       "      <td>0.0</td>\n",
       "      <td>0.0</td>\n",
       "      <td>1.0</td>\n",
       "      <td>1.0</td>\n",
       "    </tr>\n",
       "    <tr>\n",
       "      <th>Family History_1</th>\n",
       "      <td>8763.0</td>\n",
       "      <td>0.492982</td>\n",
       "      <td>0.499979</td>\n",
       "      <td>0.0</td>\n",
       "      <td>0.0</td>\n",
       "      <td>0.0</td>\n",
       "      <td>1.0</td>\n",
       "      <td>1.0</td>\n",
       "    </tr>\n",
       "    <tr>\n",
       "      <th>Smoking_1</th>\n",
       "      <td>8763.0</td>\n",
       "      <td>0.896839</td>\n",
       "      <td>0.304186</td>\n",
       "      <td>0.0</td>\n",
       "      <td>1.0</td>\n",
       "      <td>1.0</td>\n",
       "      <td>1.0</td>\n",
       "      <td>1.0</td>\n",
       "    </tr>\n",
       "    <tr>\n",
       "      <th>Obesity_1</th>\n",
       "      <td>8763.0</td>\n",
       "      <td>0.501426</td>\n",
       "      <td>0.500026</td>\n",
       "      <td>0.0</td>\n",
       "      <td>0.0</td>\n",
       "      <td>1.0</td>\n",
       "      <td>1.0</td>\n",
       "      <td>1.0</td>\n",
       "    </tr>\n",
       "    <tr>\n",
       "      <th>Alcohol Consumption_1</th>\n",
       "      <td>8763.0</td>\n",
       "      <td>0.598083</td>\n",
       "      <td>0.490313</td>\n",
       "      <td>0.0</td>\n",
       "      <td>0.0</td>\n",
       "      <td>1.0</td>\n",
       "      <td>1.0</td>\n",
       "      <td>1.0</td>\n",
       "    </tr>\n",
       "    <tr>\n",
       "      <th>Diet_1</th>\n",
       "      <td>8763.0</td>\n",
       "      <td>0.332306</td>\n",
       "      <td>0.471067</td>\n",
       "      <td>0.0</td>\n",
       "      <td>0.0</td>\n",
       "      <td>0.0</td>\n",
       "      <td>1.0</td>\n",
       "      <td>1.0</td>\n",
       "    </tr>\n",
       "    <tr>\n",
       "      <th>Diet_2</th>\n",
       "      <td>8763.0</td>\n",
       "      <td>0.329910</td>\n",
       "      <td>0.470207</td>\n",
       "      <td>0.0</td>\n",
       "      <td>0.0</td>\n",
       "      <td>0.0</td>\n",
       "      <td>1.0</td>\n",
       "      <td>1.0</td>\n",
       "    </tr>\n",
       "    <tr>\n",
       "      <th>Previous Heart Problems_1</th>\n",
       "      <td>8763.0</td>\n",
       "      <td>0.495835</td>\n",
       "      <td>0.500011</td>\n",
       "      <td>0.0</td>\n",
       "      <td>0.0</td>\n",
       "      <td>0.0</td>\n",
       "      <td>1.0</td>\n",
       "      <td>1.0</td>\n",
       "    </tr>\n",
       "    <tr>\n",
       "      <th>Medication Use_1</th>\n",
       "      <td>8763.0</td>\n",
       "      <td>0.498345</td>\n",
       "      <td>0.500026</td>\n",
       "      <td>0.0</td>\n",
       "      <td>0.0</td>\n",
       "      <td>0.0</td>\n",
       "      <td>1.0</td>\n",
       "      <td>1.0</td>\n",
       "    </tr>\n",
       "    <tr>\n",
       "      <th>Heart Attack Risk_1</th>\n",
       "      <td>8763.0</td>\n",
       "      <td>0.358211</td>\n",
       "      <td>0.479502</td>\n",
       "      <td>0.0</td>\n",
       "      <td>0.0</td>\n",
       "      <td>0.0</td>\n",
       "      <td>1.0</td>\n",
       "      <td>1.0</td>\n",
       "    </tr>\n",
       "  </tbody>\n",
       "</table>\n",
       "</div>"
      ],
      "text/plain": [
       "                                  count           mean           std      min  \\\n",
       "Age                              8763.0      53.707977     21.249509     18.0   \n",
       "Cholesterol                      8763.0     259.877211     80.863276    120.0   \n",
       "Heart Rate                       8763.0      75.021682     20.550948     40.0   \n",
       "Exercise Hours Per Week          8763.0      10.009700      5.797938      0.0   \n",
       "Stress Level                     8763.0       5.469702      2.859622      1.0   \n",
       "Sedentary Hours Per Day          8763.0       5.989387      3.491569      0.0   \n",
       "Income                           8763.0  158263.181901  80575.190806  20062.0   \n",
       "BMI                              8763.0      28.886454      6.328903     18.0   \n",
       "Triglycerides                    8763.0     417.677051    223.748137     30.0   \n",
       "Physical Activity Days Per Week  8763.0       3.489672      2.282687      0.0   \n",
       "Sleep Hours Per Day              8763.0       7.023508      1.988473      4.0   \n",
       "HBP                              8763.0     135.075659     26.349976     90.0   \n",
       "LBP                              8763.0      85.156111     14.676565     60.0   \n",
       "Sex_1                            8763.0       0.697364      0.459425      0.0   \n",
       "Diabetes_1                       8763.0       0.347712      0.476271      0.0   \n",
       "Family History_1                 8763.0       0.492982      0.499979      0.0   \n",
       "Smoking_1                        8763.0       0.896839      0.304186      0.0   \n",
       "Obesity_1                        8763.0       0.501426      0.500026      0.0   \n",
       "Alcohol Consumption_1            8763.0       0.598083      0.490313      0.0   \n",
       "Diet_1                           8763.0       0.332306      0.471067      0.0   \n",
       "Diet_2                           8763.0       0.329910      0.470207      0.0   \n",
       "Previous Heart Problems_1        8763.0       0.495835      0.500011      0.0   \n",
       "Medication Use_1                 8763.0       0.498345      0.500026      0.0   \n",
       "Heart Attack Risk_1              8763.0       0.358211      0.479502      0.0   \n",
       "\n",
       "                                     25%       50%       75%       max  \n",
       "Age                                 35.0      54.0      72.0      90.0  \n",
       "Cholesterol                        192.0     259.0     330.0     400.0  \n",
       "Heart Rate                          57.0      75.0      93.0     110.0  \n",
       "Exercise Hours Per Week              5.0      10.0      15.0      20.0  \n",
       "Stress Level                         3.0       5.0       8.0      10.0  \n",
       "Sedentary Hours Per Day              3.0       6.0       9.0      12.0  \n",
       "Income                           88310.0  157866.0  227749.0  299954.0  \n",
       "BMI                                 23.0      29.0      34.0      40.0  \n",
       "Triglycerides                      225.5     417.0     612.0     800.0  \n",
       "Physical Activity Days Per Week      2.0       3.0       5.0       7.0  \n",
       "Sleep Hours Per Day                  5.0       7.0       9.0      10.0  \n",
       "HBP                                112.0     135.0     158.0     180.0  \n",
       "LBP                                 72.0      85.0      98.0     110.0  \n",
       "Sex_1                                0.0       1.0       1.0       1.0  \n",
       "Diabetes_1                           0.0       0.0       1.0       1.0  \n",
       "Family History_1                     0.0       0.0       1.0       1.0  \n",
       "Smoking_1                            1.0       1.0       1.0       1.0  \n",
       "Obesity_1                            0.0       1.0       1.0       1.0  \n",
       "Alcohol Consumption_1                0.0       1.0       1.0       1.0  \n",
       "Diet_1                               0.0       0.0       1.0       1.0  \n",
       "Diet_2                               0.0       0.0       1.0       1.0  \n",
       "Previous Heart Problems_1            0.0       0.0       1.0       1.0  \n",
       "Medication Use_1                     0.0       0.0       1.0       1.0  \n",
       "Heart Attack Risk_1                  0.0       0.0       1.0       1.0  "
      ]
     },
     "execution_count": 5,
     "metadata": {},
     "output_type": "execute_result"
    }
   ],
   "source": [
    "df.describe().transpose()"
   ]
  },
  {
   "cell_type": "code",
   "execution_count": null,
   "id": "453b65ff",
   "metadata": {},
   "outputs": [],
   "source": []
  },
  {
   "cell_type": "code",
   "execution_count": 6,
   "id": "151027e8",
   "metadata": {},
   "outputs": [],
   "source": [
    "X= df.drop(['Heart Attack Risk_1'], axis= 1)\n",
    "y= df['Heart Attack Risk_1']"
   ]
  },
  {
   "cell_type": "code",
   "execution_count": 7,
   "id": "d0b1d034",
   "metadata": {},
   "outputs": [],
   "source": [
    "from sklearn.model_selection import train_test_split\n",
    "X_train, X_test, y_train, y_test= train_test_split(X, y, test_size= 0.2, random_state= 15, stratify= y)"
   ]
  },
  {
   "cell_type": "code",
   "execution_count": 8,
   "id": "db8e4185",
   "metadata": {},
   "outputs": [],
   "source": [
    "from sklearn.preprocessing import StandardScaler\n",
    "ss= StandardScaler()\n",
    "X_train= ss.fit_transform(X_train)\n",
    "X_test= ss.transform(X_test)"
   ]
  },
  {
   "cell_type": "code",
   "execution_count": null,
   "id": "af0b6dab",
   "metadata": {},
   "outputs": [],
   "source": []
  },
  {
   "cell_type": "markdown",
   "id": "d0bf5ba8",
   "metadata": {},
   "source": [
    "--- LogisticRegression ---"
   ]
  },
  {
   "cell_type": "code",
   "execution_count": null,
   "id": "0f982495",
   "metadata": {},
   "outputs": [],
   "source": []
  },
  {
   "cell_type": "code",
   "execution_count": 9,
   "id": "790b3cfb",
   "metadata": {},
   "outputs": [
    {
     "name": "stdout",
     "output_type": "stream",
     "text": [
      "              precision    recall  f1-score   support\n",
      "\n",
      "           0       0.64      1.00      0.78      1125\n",
      "           1       0.00      0.00      0.00       628\n",
      "\n",
      "    accuracy                           0.64      1753\n",
      "   macro avg       0.32      0.50      0.39      1753\n",
      "weighted avg       0.41      0.64      0.50      1753\n",
      "\n",
      "Precision: 0.0\n",
      "Accuracy: 0.6417569880205363\n",
      "AUC: 0.4789922151450814\n"
     ]
    },
    {
     "data": {
      "text/plain": [
       "<sklearn.metrics._plot.confusion_matrix.ConfusionMatrixDisplay at 0x1b4512174f0>"
      ]
     },
     "execution_count": 9,
     "metadata": {},
     "output_type": "execute_result"
    },
    {
     "data": {
      "image/png": "[encoded data removed]",
      "text/plain": [
       "<Figure size 432x288 with 2 Axes>"
      ]
     },
     "metadata": {
      "needs_background": "light"
     },
     "output_type": "display_data"
    }
   ],
   "source": [
    "from sklearn.linear_model import LogisticRegression\n",
    "lr= LogisticRegression(max_iter= 1000, random_state=15)\n",
    "lr.fit(X_train, y_train)\n",
    "y_pred_lr= lr.predict(X_test)\n",
    "y_pred_prob_lr= lr.predict_proba(X_test)[:,1]\n",
    "\n",
    "from sklearn.metrics import confusion_matrix, ConfusionMatrixDisplay, classification_report, precision_score, roc_auc_score, accuracy_score \n",
    "cm= confusion_matrix(y_test, y_pred_lr, labels= lr.classes_)\n",
    "print(classification_report(y_test, y_pred_lr, zero_division=0))\n",
    "print('Precision:', precision_score(y_test, y_pred_lr, zero_division=0))\n",
    "print('Accuracy:', accuracy_score(y_test, y_pred_lr))\n",
    "print('AUC:', roc_auc_score(y_test, y_pred_prob_lr))\n",
    "dcm_lr= ConfusionMatrixDisplay(cm, display_labels= lr.classes_)\n",
    "dcm_lr.plot()"
   ]
  },
  {
   "cell_type": "code",
   "execution_count": null,
   "id": "63f446a5",
   "metadata": {},
   "outputs": [],
   "source": []
  },
  {
   "cell_type": "markdown",
   "id": "935a91fa",
   "metadata": {},
   "source": [
    "--- DecisionTreeClassifier ---"
   ]
  },
  {
   "cell_type": "code",
   "execution_count": null,
   "id": "17227aab",
   "metadata": {},
   "outputs": [],
   "source": []
  },
  {
   "cell_type": "code",
   "execution_count": 10,
   "id": "4f328e19",
   "metadata": {},
   "outputs": [
    {
     "name": "stdout",
     "output_type": "stream",
     "text": [
      "              precision    recall  f1-score   support\n",
      "\n",
      "           0       0.64      0.61      0.62      1125\n",
      "           1       0.35      0.37      0.36       628\n",
      "\n",
      "    accuracy                           0.52      1753\n",
      "   macro avg       0.49      0.49      0.49      1753\n",
      "weighted avg       0.53      0.52      0.53      1753\n",
      "\n",
      "Precision: 0.3476968796433878\n",
      "Accuracy: 0.5248146035367941\n",
      "AUC: 0.4911946213729653\n"
     ]
    },
    {
     "data": {
      "text/plain": [
       "<sklearn.metrics._plot.confusion_matrix.ConfusionMatrixDisplay at 0x1b452d66580>"
      ]
     },
     "execution_count": 10,
     "metadata": {},
     "output_type": "execute_result"
    },
    {
     "data": {
      "image/png": "[encoded data removed]",
      "text/plain": [
       "<Figure size 432x288 with 2 Axes>"
      ]
     },
     "metadata": {
      "needs_background": "light"
     },
     "output_type": "display_data"
    }
   ],
   "source": [
    "from sklearn.tree import DecisionTreeClassifier\n",
    "dt= DecisionTreeClassifier(random_state=15)\n",
    "dt.fit(X_train, y_train)\n",
    "y_pred_dt= dt.predict(X_test)\n",
    "y_pred_prob_dt= dt.predict_proba(X_test)[:,1]\n",
    "\n",
    "cm= confusion_matrix(y_test, y_pred_dt, labels= dt.classes_)\n",
    "print(classification_report(y_test, y_pred_dt, zero_division=0))\n",
    "print('Precision:', precision_score(y_test, y_pred_dt, zero_division=0))\n",
    "print('Accuracy:', accuracy_score(y_test, y_pred_dt))\n",
    "print('AUC:', roc_auc_score(y_test, y_pred_prob_dt))\n",
    "dcm_dt= ConfusionMatrixDisplay(cm, display_labels= dt.classes_)\n",
    "dcm_dt.plot()"
   ]
  },
  {
   "cell_type": "markdown",
   "id": "2b5ed7fc",
   "metadata": {},
   "source": [
    "--- Tuned - DecisionTreeClassifier ---"
   ]
  },
  {
   "cell_type": "code",
   "execution_count": null,
   "id": "8ca0fbe2",
   "metadata": {},
   "outputs": [],
   "source": []
  },
  {
   "cell_type": "code",
   "execution_count": 11,
   "id": "cb57a7c9",
   "metadata": {},
   "outputs": [
    {
     "name": "stdout",
     "output_type": "stream",
     "text": [
      "Best Parameters: {'criterion': 'entropy', 'max_depth': 10, 'max_features': 'sqrt', 'min_samples_leaf': 5, 'min_samples_split': 2}\n",
      "Best Precision Score: 0.4045629743672852\n"
     ]
    }
   ],
   "source": [
    "from sklearn.model_selection import GridSearchCV\n",
    "param_grid= {\n",
    "             'max_depth': [None, 10, 20, 30, 40, 50],\n",
    "             'min_samples_split': [2, 10, 20],\n",
    "             'min_samples_leaf': [1, 5, 10],\n",
    "             'max_features': [None, 'sqrt', 'log2'],\n",
    "             'criterion': ['gini', 'entropy']\n",
    "            }\n",
    "\n",
    "gs_dt= GridSearchCV(estimator= dt, param_grid= param_grid, cv= 5, scoring= 'precision')\n",
    "gs_dt.fit(X_train, y_train)\n",
    "\n",
    "print(\"Best Parameters:\", gs_dt.best_params_)\n",
    "print(\"Best Precision Score:\", gs_dt.best_score_)"
   ]
  },
  {
   "cell_type": "code",
   "execution_count": 12,
   "id": "3e0146a2",
   "metadata": {},
   "outputs": [
    {
     "name": "stdout",
     "output_type": "stream",
     "text": [
      "              precision    recall  f1-score   support\n",
      "\n",
      "           0       0.65      0.85      0.73      1125\n",
      "           1       0.38      0.17      0.24       628\n",
      "\n",
      "    accuracy                           0.60      1753\n",
      "   macro avg       0.51      0.51      0.48      1753\n",
      "weighted avg       0.55      0.60      0.55      1753\n",
      "\n",
      "Precision: 0.3821428571428571\n",
      "Accuracy: 0.6041072447233314\n",
      "AUC: 0.5039858457183297\n"
     ]
    },
    {
     "data": {
      "text/plain": [
       "<sklearn.metrics._plot.confusion_matrix.ConfusionMatrixDisplay at 0x1b450d63dc0>"
      ]
     },
     "execution_count": 12,
     "metadata": {},
     "output_type": "execute_result"
    },
    {
     "data": {
      "image/png": "[encoded data removed]",
      "text/plain": [
       "<Figure size 432x288 with 2 Axes>"
      ]
     },
     "metadata": {
      "needs_background": "light"
     },
     "output_type": "display_data"
    }
   ],
   "source": [
    "tuned_dt= gs_dt.best_estimator_\n",
    "y_pred_tuned_dt= tuned_dt.predict(X_test)\n",
    "y_pred_prob_tuned_dt= tuned_dt.predict_proba(X_test)[:,1]\n",
    "\n",
    "cm= confusion_matrix(y_test, y_pred_tuned_dt, labels= tuned_dt.classes_)\n",
    "print(classification_report(y_test, y_pred_tuned_dt, zero_division=0))\n",
    "print('Precision:', precision_score(y_test, y_pred_tuned_dt, zero_division=0))\n",
    "print('Accuracy:', accuracy_score(y_test, y_pred_tuned_dt))\n",
    "print('AUC:', roc_auc_score(y_test, y_pred_prob_tuned_dt))\n",
    "dcm_tuned_dt= ConfusionMatrixDisplay(cm, display_labels= tuned_dt.classes_)\n",
    "dcm_tuned_dt.plot()"
   ]
  },
  {
   "cell_type": "code",
   "execution_count": null,
   "id": "04681239",
   "metadata": {},
   "outputs": [],
   "source": []
  },
  {
   "cell_type": "markdown",
   "id": "da98fb3b",
   "metadata": {},
   "source": [
    "--- KNeighborsClassifier ---"
   ]
  },
  {
   "cell_type": "code",
   "execution_count": null,
   "id": "432e3c97",
   "metadata": {},
   "outputs": [],
   "source": []
  },
  {
   "cell_type": "code",
   "execution_count": 13,
   "id": "5aacb03b",
   "metadata": {},
   "outputs": [
    {
     "name": "stdout",
     "output_type": "stream",
     "text": [
      "              precision    recall  f1-score   support\n",
      "\n",
      "           0       0.64      0.76      0.70      1125\n",
      "           1       0.36      0.25      0.29       628\n",
      "\n",
      "    accuracy                           0.57      1753\n",
      "   macro avg       0.50      0.50      0.49      1753\n",
      "weighted avg       0.54      0.57      0.55      1753\n",
      "\n",
      "Precision: 0.3615023474178404\n",
      "Accuracy: 0.5744438106103822\n",
      "AUC: 0.49119674451521583\n"
     ]
    },
    {
     "data": {
      "text/plain": [
       "<sklearn.metrics._plot.confusion_matrix.ConfusionMatrixDisplay at 0x1b452f7eee0>"
      ]
     },
     "execution_count": 13,
     "metadata": {},
     "output_type": "execute_result"
    },
    {
     "data": {
      "image/png": "[encoded data removed]",
      "text/plain": [
       "<Figure size 432x288 with 2 Axes>"
      ]
     },
     "metadata": {
      "needs_background": "light"
     },
     "output_type": "display_data"
    }
   ],
   "source": [
    "from sklearn.neighbors import KNeighborsClassifier\n",
    "knn= KNeighborsClassifier()\n",
    "knn.fit(X_train, y_train)\n",
    "y_pred_knn= knn.predict(X_test)\n",
    "y_pred_prob_knn= knn.predict_proba(X_test)[:,1]\n",
    "\n",
    "cm= confusion_matrix(y_test, y_pred_knn, labels= knn.classes_)\n",
    "print(classification_report(y_test, y_pred_knn, zero_division=0))\n",
    "print('Precision:', precision_score(y_test, y_pred_knn, zero_division=0))\n",
    "print('Accuracy:', accuracy_score(y_test, y_pred_knn))\n",
    "print('AUC:', roc_auc_score(y_test, y_pred_prob_knn))\n",
    "dcm_knn= ConfusionMatrixDisplay(cm, display_labels= knn.classes_)\n",
    "dcm_knn.plot()"
   ]
  },
  {
   "cell_type": "code",
   "execution_count": null,
   "id": "87a13f8d",
   "metadata": {},
   "outputs": [],
   "source": []
  },
  {
   "cell_type": "markdown",
   "id": "0fcc60fe",
   "metadata": {},
   "source": [
    "--- Tuned - KNeighborsClassifier ---"
   ]
  },
  {
   "cell_type": "code",
   "execution_count": 14,
   "id": "f25b087f",
   "metadata": {},
   "outputs": [
    {
     "name": "stdout",
     "output_type": "stream",
     "text": [
      "Best Parameters: {'metric': 'manhattan', 'n_neighbors': 32, 'weights': 'uniform'}\n",
      "Best Precision Score: 0.39897836107470935\n"
     ]
    }
   ],
   "source": [
    "param_grid= {\n",
    "             'n_neighbors': np.arange(1,40),\n",
    "             'weights': ['uniform', 'distance'],\n",
    "             'metric': ['euclidean', 'manhattan', 'minkowski']\n",
    "            }\n",
    "\n",
    "gs_knn= GridSearchCV(estimator= knn, param_grid= param_grid, cv=5, scoring= 'precision')\n",
    "gs_knn.fit(X_train, y_train)\n",
    "print(\"Best Parameters:\", gs_knn.best_params_)\n",
    "print(\"Best Precision Score:\", gs_knn.best_score_)"
   ]
  },
  {
   "cell_type": "code",
   "execution_count": 15,
   "id": "26be4e33",
   "metadata": {},
   "outputs": [
    {
     "name": "stdout",
     "output_type": "stream",
     "text": [
      "              precision    recall  f1-score   support\n",
      "\n",
      "           0       0.64      0.97      0.77      1125\n",
      "           1       0.43      0.04      0.08       628\n",
      "\n",
      "    accuracy                           0.64      1753\n",
      "   macro avg       0.54      0.51      0.42      1753\n",
      "weighted avg       0.57      0.64      0.52      1753\n",
      "\n",
      "Precision: 0.4262295081967213\n",
      "Accuracy: 0.6366229321163719\n",
      "AUC: 0.4940481245576787\n"
     ]
    },
    {
     "data": {
      "text/plain": [
       "<sklearn.metrics._plot.confusion_matrix.ConfusionMatrixDisplay at 0x1b4631b4be0>"
      ]
     },
     "execution_count": 15,
     "metadata": {},
     "output_type": "execute_result"
    },
    {
     "data": {
      "image/png": "[encoded data removed]",
      "text/plain": [
       "<Figure size 432x288 with 2 Axes>"
      ]
     },
     "metadata": {
      "needs_background": "light"
     },
     "output_type": "display_data"
    }
   ],
   "source": [
    "tuned_knn= gs_knn.best_estimator_\n",
    "y_pred_tuned_knn= tuned_knn.predict(X_test)\n",
    "y_pred_prob_tuned_knn= tuned_knn.predict_proba(X_test)[:,1]\n",
    "\n",
    "cm= confusion_matrix(y_test, y_pred_tuned_knn, labels= tuned_knn.classes_)\n",
    "print(classification_report(y_test, y_pred_tuned_knn, zero_division=0))\n",
    "print('Precision:', precision_score(y_test, y_pred_tuned_knn, zero_division=0))\n",
    "print('Accuracy:', accuracy_score(y_test, y_pred_tuned_knn))\n",
    "print('AUC:', roc_auc_score(y_test, y_pred_prob_tuned_knn))\n",
    "dcm_tuned_knn= ConfusionMatrixDisplay(cm, display_labels= tuned_knn.classes_)\n",
    "dcm_tuned_knn.plot()"
   ]
  },
  {
   "cell_type": "code",
   "execution_count": null,
   "id": "80894d0a",
   "metadata": {},
   "outputs": [],
   "source": []
  },
  {
   "cell_type": "markdown",
   "id": "aa848951",
   "metadata": {},
   "source": [
    "--- GaussianNB ---"
   ]
  },
  {
   "cell_type": "code",
   "execution_count": 16,
   "id": "4dbd7832",
   "metadata": {},
   "outputs": [
    {
     "name": "stdout",
     "output_type": "stream",
     "text": [
      "              precision    recall  f1-score   support\n",
      "\n",
      "           0       0.64      1.00      0.78      1125\n",
      "           1       0.00      0.00      0.00       628\n",
      "\n",
      "    accuracy                           0.64      1753\n",
      "   macro avg       0.32      0.50      0.39      1753\n",
      "weighted avg       0.41      0.64      0.50      1753\n",
      "\n",
      "Precision: 0.0\n",
      "Accuracy: 0.6417569880205363\n",
      "AUC: 0.48782873319179054\n"
     ]
    },
    {
     "data": {
      "text/plain": [
       "<sklearn.metrics._plot.confusion_matrix.ConfusionMatrixDisplay at 0x1b463197e80>"
      ]
     },
     "execution_count": 16,
     "metadata": {},
     "output_type": "execute_result"
    },
    {
     "data": {
      "image/png": "[encoded data removed]",
      "text/plain": [
       "<Figure size 432x288 with 2 Axes>"
      ]
     },
     "metadata": {
      "needs_background": "light"
     },
     "output_type": "display_data"
    }
   ],
   "source": [
    "from sklearn.naive_bayes import GaussianNB\n",
    "nb= GaussianNB()\n",
    "nb.fit(X_train, y_train)\n",
    "y_pred_nb= nb.predict(X_test)\n",
    "y_pred_prob_nb= nb.predict_proba(X_test)[:,1]\n",
    "\n",
    "cm= confusion_matrix(y_test, y_pred_nb, labels= nb.classes_)\n",
    "print(classification_report(y_test, y_pred_nb, zero_division=0))\n",
    "print('Precision:', precision_score(y_test, y_pred_nb, zero_division=0))\n",
    "print('Accuracy:', accuracy_score(y_test, y_pred_nb))\n",
    "print('AUC:', roc_auc_score(y_test, y_pred_prob_nb))\n",
    "dcm_nb= ConfusionMatrixDisplay(cm, display_labels= nb.classes_)\n",
    "dcm_nb.plot()"
   ]
  },
  {
   "cell_type": "code",
   "execution_count": null,
   "id": "56176147",
   "metadata": {},
   "outputs": [],
   "source": []
  },
  {
   "cell_type": "markdown",
   "id": "0cc62ec3",
   "metadata": {},
   "source": [
    "--- SVM ---"
   ]
  },
  {
   "cell_type": "code",
   "execution_count": null,
   "id": "d446f144",
   "metadata": {},
   "outputs": [],
   "source": []
  },
  {
   "cell_type": "code",
   "execution_count": 17,
   "id": "f655fef3",
   "metadata": {},
   "outputs": [
    {
     "name": "stdout",
     "output_type": "stream",
     "text": [
      "              precision    recall  f1-score   support\n",
      "\n",
      "           0       0.64      1.00      0.78      1125\n",
      "           1       0.00      0.00      0.00       628\n",
      "\n",
      "    accuracy                           0.64      1753\n",
      "   macro avg       0.32      0.50      0.39      1753\n",
      "weighted avg       0.41      0.64      0.50      1753\n",
      "\n",
      "Precision: 0.0\n",
      "Accuracy: 0.6417569880205363\n",
      "AUC: 0.5144614295824487\n"
     ]
    },
    {
     "data": {
      "text/plain": [
       "<sklearn.metrics._plot.confusion_matrix.ConfusionMatrixDisplay at 0x1b4512cf2e0>"
      ]
     },
     "execution_count": 17,
     "metadata": {},
     "output_type": "execute_result"
    },
    {
     "data": {
      "image/png": "[encoded data removed]",
      "text/plain": [
       "<Figure size 432x288 with 2 Axes>"
      ]
     },
     "metadata": {
      "needs_background": "light"
     },
     "output_type": "display_data"
    }
   ],
   "source": [
    "from sklearn.svm import SVC\n",
    "svc= SVC(kernel= 'rbf', gamma= 1, probability=True, random_state=15)\n",
    "svc.fit(X_train, y_train)\n",
    "y_pred_svc= svc.predict(X_test)\n",
    "y_pred_prob_svc= svc.predict_proba(X_test)[:,1]\n",
    "\n",
    "cm= confusion_matrix(y_test, y_pred_svc, labels= svc.classes_)\n",
    "print(classification_report(y_test, y_pred_svc, zero_division=0))\n",
    "print('Precision:', precision_score(y_test, y_pred_svc, zero_division=0))\n",
    "print('Accuracy:', accuracy_score(y_test, y_pred_svc))\n",
    "print('AUC:', roc_auc_score(y_test, y_pred_prob_svc))\n",
    "dcm_svc= ConfusionMatrixDisplay(cm, display_labels= svc.classes_)\n",
    "dcm_svc.plot()"
   ]
  },
  {
   "cell_type": "code",
   "execution_count": null,
   "id": "b64e4268",
   "metadata": {},
   "outputs": [],
   "source": []
  },
  {
   "cell_type": "markdown",
   "id": "04c79ba0",
   "metadata": {},
   "source": [
    "--- Random Forest ---"
   ]
  },
  {
   "cell_type": "code",
   "execution_count": null,
   "id": "69542e4d",
   "metadata": {},
   "outputs": [],
   "source": []
  },
  {
   "cell_type": "code",
   "execution_count": 18,
   "id": "23d9f00e",
   "metadata": {},
   "outputs": [],
   "source": [
    "from sklearn.ensemble import RandomForestClassifier\n",
    "rf= RandomForestClassifier(random_state=15)\n",
    "rf.fit(X_train, y_train)\n",
    "y_pred_rf= rf.predict(X_test)\n",
    "y_pred_prob_rf= rf.predict_proba(X_test)[:,1]"
   ]
  },
  {
   "cell_type": "code",
   "execution_count": 19,
   "id": "4a3a4ca9",
   "metadata": {
    "scrolled": false
   },
   "outputs": [
    {
     "name": "stdout",
     "output_type": "stream",
     "text": [
      "              precision    recall  f1-score   support\n",
      "\n",
      "           0       0.64      0.97      0.77      1125\n",
      "           1       0.28      0.02      0.04       628\n",
      "\n",
      "    accuracy                           0.63      1753\n",
      "   macro avg       0.46      0.50      0.40      1753\n",
      "weighted avg       0.51      0.63      0.51      1753\n",
      "\n",
      "Precision: 0.2765957446808511\n",
      "Accuracy: 0.6297775242441529\n",
      "AUC: 0.5087275300778487\n"
     ]
    },
    {
     "data": {
      "text/plain": [
       "<sklearn.metrics._plot.confusion_matrix.ConfusionMatrixDisplay at 0x1b43f1462e0>"
      ]
     },
     "execution_count": 19,
     "metadata": {},
     "output_type": "execute_result"
    },
    {
     "data": {
      "image/png": "[encoded data removed]",
      "text/plain": [
       "<Figure size 432x288 with 2 Axes>"
      ]
     },
     "metadata": {
      "needs_background": "light"
     },
     "output_type": "display_data"
    }
   ],
   "source": [
    "cm= confusion_matrix(y_test, y_pred_rf, labels= rf.classes_)\n",
    "print(classification_report(y_test, y_pred_rf, zero_division=0))\n",
    "print('Precision:', precision_score(y_test, y_pred_rf, zero_division=0))\n",
    "print('Accuracy:', accuracy_score(y_test, y_pred_rf))\n",
    "print('AUC:', roc_auc_score(y_test, y_pred_prob_rf))\n",
    "dcm_rf= ConfusionMatrixDisplay(cm, display_labels= rf.classes_)\n",
    "dcm_rf.plot()"
   ]
  },
  {
   "cell_type": "code",
   "execution_count": 20,
   "id": "f30d7119",
   "metadata": {},
   "outputs": [
    {
     "name": "stdout",
     "output_type": "stream",
     "text": [
      "Fitting 5 folds for each of 108 candidates, totalling 540 fits\n",
      "Best Parameters: {'max_depth': 20, 'min_samples_leaf': 1, 'min_samples_split': 10, 'n_estimators': 300}\n",
      "Best Precision Score: 0.7071428571428571\n"
     ]
    }
   ],
   "source": [
    "param_grid= {\n",
    "             'n_estimators': [100, 200, 300],\n",
    "             'max_depth': [None, 10, 20, 30],\n",
    "             'min_samples_split': [2, 5, 10],\n",
    "             'min_samples_leaf': [1, 2, 4],\n",
    "            }\n",
    "\n",
    "gs_tuned_rf= GridSearchCV(estimator= rf, param_grid= param_grid, cv= 5, scoring= 'precision', n_jobs= -1, verbose= 2)\n",
    "gs_tuned_rf.fit(X_train, y_train)\n",
    "print(\"Best Parameters:\", gs_tuned_rf.best_params_)\n",
    "print(\"Best Precision Score:\", gs_tuned_rf.best_score_)"
   ]
  },
  {
   "cell_type": "code",
   "execution_count": 21,
   "id": "741c1f08",
   "metadata": {},
   "outputs": [
    {
     "name": "stdout",
     "output_type": "stream",
     "text": [
      "              precision    recall  f1-score   support\n",
      "\n",
      "           0       0.64      1.00      0.78      1125\n",
      "           1       0.29      0.00      0.01       628\n",
      "\n",
      "    accuracy                           0.64      1753\n",
      "   macro avg       0.46      0.50      0.39      1753\n",
      "weighted avg       0.51      0.64      0.50      1753\n",
      "\n",
      "Precision: 0.2857142857142857\n",
      "Accuracy: 0.6400456360524814\n",
      "AUC: 0.5027091295116772\n"
     ]
    },
    {
     "data": {
      "text/plain": [
       "<sklearn.metrics._plot.confusion_matrix.ConfusionMatrixDisplay at 0x1b43f2b3880>"
      ]
     },
     "execution_count": 21,
     "metadata": {},
     "output_type": "execute_result"
    },
    {
     "data": {
      "image/png": "[encoded data removed]",
      "text/plain": [
       "<Figure size 432x288 with 2 Axes>"
      ]
     },
     "metadata": {
      "needs_background": "light"
     },
     "output_type": "display_data"
    }
   ],
   "source": [
    "tuned_rf= gs_tuned_rf.best_estimator_\n",
    "y_pred_tuned_rf= tuned_rf.predict(X_test)\n",
    "y_pred_prob_tuned_rf= tuned_rf.predict_proba(X_test)[:,1]\n",
    "\n",
    "cm= confusion_matrix(y_test, y_pred_tuned_rf, labels= tuned_rf.classes_)\n",
    "print(classification_report(y_test, y_pred_tuned_rf, zero_division=0))\n",
    "print('Precision:', precision_score(y_test, y_pred_tuned_rf, zero_division=0))\n",
    "print('Accuracy:', accuracy_score(y_test, y_pred_tuned_rf))\n",
    "print('AUC:', roc_auc_score(y_test, y_pred_prob_tuned_rf))\n",
    "dcm_tuned_rf= ConfusionMatrixDisplay(cm, display_labels= tuned_rf.classes_)\n",
    "dcm_tuned_rf.plot()"
   ]
  },
  {
   "cell_type": "markdown",
   "id": "73a70a30",
   "metadata": {},
   "source": [
    "--- AdaBoost ---"
   ]
  },
  {
   "cell_type": "code",
   "execution_count": 22,
   "id": "39e0218b",
   "metadata": {},
   "outputs": [],
   "source": [
    "from sklearn.ensemble import AdaBoostClassifier\n",
    "ada= AdaBoostClassifier(random_state=15)\n",
    "ada.fit(X_train, y_train)\n",
    "y_pred_ada= ada.predict(X_test)\n",
    "y_pred_prob_ada= ada.predict_proba(X_test)[:,1]"
   ]
  },
  {
   "cell_type": "code",
   "execution_count": 23,
   "id": "342a43f8",
   "metadata": {
    "scrolled": false
   },
   "outputs": [
    {
     "name": "stdout",
     "output_type": "stream",
     "text": [
      "              precision    recall  f1-score   support\n",
      "\n",
      "           0       0.64      0.98      0.78      1125\n",
      "           1       0.28      0.01      0.02       628\n",
      "\n",
      "    accuracy                           0.64      1753\n",
      "   macro avg       0.46      0.50      0.40      1753\n",
      "weighted avg       0.51      0.64      0.51      1753\n",
      "\n",
      "Precision: 0.28\n",
      "Accuracy: 0.6354820308043354\n",
      "AUC: 0.47963481953290865\n"
     ]
    },
    {
     "data": {
      "text/plain": [
       "<sklearn.metrics._plot.confusion_matrix.ConfusionMatrixDisplay at 0x1b464525b80>"
      ]
     },
     "execution_count": 23,
     "metadata": {},
     "output_type": "execute_result"
    },
    {
     "data": {
      "image/png": "[encoded data removed]",
      "text/plain": [
       "<Figure size 432x288 with 2 Axes>"
      ]
     },
     "metadata": {
      "needs_background": "light"
     },
     "output_type": "display_data"
    }
   ],
   "source": [
    "cm= confusion_matrix(y_test, y_pred_ada, labels= ada.classes_)\n",
    "print(classification_report(y_test, y_pred_ada, zero_division=0))\n",
    "print('Precision:', precision_score(y_test, y_pred_ada, zero_division=0))\n",
    "print('Accuracy:', accuracy_score(y_test, y_pred_ada))\n",
    "print('AUC:', roc_auc_score(y_test, y_pred_prob_ada))\n",
    "dcm_ada= ConfusionMatrixDisplay(cm, display_labels= ada.classes_)\n",
    "dcm_ada.plot()"
   ]
  },
  {
   "cell_type": "code",
   "execution_count": 24,
   "id": "708588e4",
   "metadata": {},
   "outputs": [
    {
     "name": "stdout",
     "output_type": "stream",
     "text": [
      "Fitting 5 folds for each of 3 candidates, totalling 15 fits\n",
      "Best Parameters: {'n_estimators': 100}\n",
      "Best Precision Score: 0.4062753783684016\n"
     ]
    }
   ],
   "source": [
    "param_grid= {'n_estimators': [50, 100, 200]}\n",
    "\n",
    "gs_ada= GridSearchCV(estimator= ada, param_grid= param_grid, cv= 5, scoring= 'precision', n_jobs= -1, verbose= 2)\n",
    "gs_ada.fit(X_train, y_train)\n",
    "print(\"Best Parameters:\", gs_ada.best_params_)\n",
    "print(\"Best Precision Score:\", gs_ada.best_score_)"
   ]
  },
  {
   "cell_type": "code",
   "execution_count": 25,
   "id": "d85b3030",
   "metadata": {},
   "outputs": [
    {
     "name": "stdout",
     "output_type": "stream",
     "text": [
      "              precision    recall  f1-score   support\n",
      "\n",
      "           0       0.64      0.98      0.78      1125\n",
      "           1       0.38      0.02      0.04       628\n",
      "\n",
      "    accuracy                           0.64      1753\n",
      "   macro avg       0.51      0.50      0.41      1753\n",
      "weighted avg       0.55      0.64      0.51      1753\n",
      "\n",
      "Precision: 0.375\n",
      "Accuracy: 0.6360524814603536\n",
      "AUC: 0.4892271762208068\n"
     ]
    },
    {
     "data": {
      "text/plain": [
       "<sklearn.metrics._plot.confusion_matrix.ConfusionMatrixDisplay at 0x1b46ea5bfd0>"
      ]
     },
     "execution_count": 25,
     "metadata": {},
     "output_type": "execute_result"
    },
    {
     "data": {
      "image/png": "[encoded data removed]",
      "text/plain": [
       "<Figure size 432x288 with 2 Axes>"
      ]
     },
     "metadata": {
      "needs_background": "light"
     },
     "output_type": "display_data"
    }
   ],
   "source": [
    "tuned_ada= gs_ada.best_estimator_\n",
    "y_pred_tuned_ada= tuned_ada.predict(X_test)\n",
    "y_pred_prob_tuned_ada= tuned_ada.predict_proba(X_test)[:,1]\n",
    "\n",
    "cm= confusion_matrix(y_test, y_pred_tuned_ada, labels= tuned_ada.classes_)\n",
    "print(classification_report(y_test, y_pred_tuned_ada, zero_division=0))\n",
    "print('Precision:', precision_score(y_test, y_pred_tuned_ada, zero_division=0))\n",
    "print('Accuracy:', accuracy_score(y_test, y_pred_tuned_ada))\n",
    "print('AUC:', roc_auc_score(y_test, y_pred_prob_tuned_ada))\n",
    "dcm_tuned_ada= ConfusionMatrixDisplay(cm, display_labels= tuned_ada.classes_)\n",
    "dcm_tuned_ada.plot()"
   ]
  },
  {
   "cell_type": "code",
   "execution_count": null,
   "id": "260a91d7",
   "metadata": {},
   "outputs": [],
   "source": []
  },
  {
   "cell_type": "markdown",
   "id": "a74a4591",
   "metadata": {},
   "source": [
    "--- GradientBoosting ---"
   ]
  },
  {
   "cell_type": "code",
   "execution_count": 26,
   "id": "39fc7e71",
   "metadata": {
    "scrolled": false
   },
   "outputs": [
    {
     "name": "stdout",
     "output_type": "stream",
     "text": [
      "              precision    recall  f1-score   support\n",
      "\n",
      "           0       0.64      0.98      0.78      1125\n",
      "           1       0.30      0.01      0.03       628\n",
      "\n",
      "    accuracy                           0.63      1753\n",
      "   macro avg       0.47      0.50      0.40      1753\n",
      "weighted avg       0.52      0.63      0.51      1753\n",
      "\n",
      "Precision: 0.3\n",
      "Accuracy: 0.6349115801483172\n",
      "AUC: 0.5085704175513093\n"
     ]
    },
    {
     "data": {
      "text/plain": [
       "<sklearn.metrics._plot.confusion_matrix.ConfusionMatrixDisplay at 0x1b46eb052b0>"
      ]
     },
     "execution_count": 26,
     "metadata": {},
     "output_type": "execute_result"
    },
    {
     "data": {
      "image/png": "[encoded data removed]",
      "text/plain": [
       "<Figure size 432x288 with 2 Axes>"
      ]
     },
     "metadata": {
      "needs_background": "light"
     },
     "output_type": "display_data"
    }
   ],
   "source": [
    "from sklearn.ensemble import GradientBoostingClassifier\n",
    "grb= GradientBoostingClassifier(random_state=15)\n",
    "grb.fit(X_train, y_train)\n",
    "y_pred_grb= grb.predict(X_test)\n",
    "y_pred_prob_grb= grb.predict_proba(X_test)[:,1]\n",
    "\n",
    "cm= confusion_matrix(y_test, y_pred_grb, labels= grb.classes_)\n",
    "print(classification_report(y_test, y_pred_grb, zero_division=0))\n",
    "print('Precision:', precision_score(y_test, y_pred_grb, zero_division=0))\n",
    "print('Accuracy:', accuracy_score(y_test, y_pred_grb))\n",
    "print('AUC:', roc_auc_score(y_test, y_pred_prob_grb))\n",
    "dcm_grb= ConfusionMatrixDisplay(cm, display_labels= grb.classes_)\n",
    "dcm_grb.plot()"
   ]
  },
  {
   "cell_type": "code",
   "execution_count": 27,
   "id": "1020da31",
   "metadata": {},
   "outputs": [
    {
     "name": "stdout",
     "output_type": "stream",
     "text": [
      "Fitting 5 folds for each of 3 candidates, totalling 15 fits\n",
      "Best Parameters: {'learning_rate': 0.1}\n",
      "Best Precision Score: 0.3971706454465075\n"
     ]
    }
   ],
   "source": [
    "param_grid= {'learning_rate': [0.01, 0.1, 0.2]}\n",
    "\n",
    "gs_grb= GridSearchCV(estimator= grb, param_grid= param_grid, cv= 5, scoring= 'precision', n_jobs= -1, verbose= 2)\n",
    "gs_grb.fit(X_train, y_train)\n",
    "\n",
    "print(\"Best Parameters:\", gs_grb.best_params_)\n",
    "print(\"Best Precision Score:\", gs_grb.best_score_)"
   ]
  },
  {
   "cell_type": "code",
   "execution_count": 28,
   "id": "9bb445f5",
   "metadata": {},
   "outputs": [
    {
     "name": "stdout",
     "output_type": "stream",
     "text": [
      "              precision    recall  f1-score   support\n",
      "\n",
      "           0       0.64      0.98      0.78      1125\n",
      "           1       0.30      0.01      0.03       628\n",
      "\n",
      "    accuracy                           0.63      1753\n",
      "   macro avg       0.47      0.50      0.40      1753\n",
      "weighted avg       0.52      0.63      0.51      1753\n",
      "\n",
      "Precision: 0.3\n",
      "Accuracy: 0.6349115801483172\n",
      "AUC: 0.5085704175513093\n"
     ]
    },
    {
     "data": {
      "text/plain": [
       "<sklearn.metrics._plot.confusion_matrix.ConfusionMatrixDisplay at 0x1b46eb72100>"
      ]
     },
     "execution_count": 28,
     "metadata": {},
     "output_type": "execute_result"
    },
    {
     "data": {
      "image/png": "[encoded data removed]",
      "text/plain": [
       "<Figure size 432x288 with 2 Axes>"
      ]
     },
     "metadata": {
      "needs_background": "light"
     },
     "output_type": "display_data"
    }
   ],
   "source": [
    "tuned_grb= gs_grb.best_estimator_\n",
    "y_pred_tuned_grb= tuned_grb.predict(X_test)\n",
    "y_pred_prob_tuned_grb= tuned_grb.predict_proba(X_test)[:,1]\n",
    "\n",
    "cm= confusion_matrix(y_test, y_pred_tuned_grb, labels= tuned_grb.classes_)\n",
    "print(classification_report(y_test, y_pred_tuned_grb, zero_division=0))\n",
    "print('Precision:', precision_score(y_test, y_pred_tuned_grb, zero_division=0))\n",
    "print('Accuracy:', accuracy_score(y_test, y_pred_tuned_grb))\n",
    "print('AUC:', roc_auc_score(y_test, y_pred_prob_tuned_grb))\n",
    "dcm_tuned_grb= ConfusionMatrixDisplay(cm, display_labels= tuned_grb.classes_)\n",
    "dcm_tuned_grb.plot()"
   ]
  },
  {
   "cell_type": "code",
   "execution_count": null,
   "id": "c9496232",
   "metadata": {},
   "outputs": [],
   "source": []
  },
  {
   "cell_type": "markdown",
   "id": "29ff8e08",
   "metadata": {},
   "source": [
    "--- XGB ---"
   ]
  },
  {
   "cell_type": "code",
   "execution_count": 29,
   "id": "8943f6b5",
   "metadata": {
    "scrolled": false
   },
   "outputs": [
    {
     "name": "stdout",
     "output_type": "stream",
     "text": [
      "              precision    recall  f1-score   support\n",
      "\n",
      "           0       0.63      0.78      0.70      1125\n",
      "           1       0.32      0.19      0.24       628\n",
      "\n",
      "    accuracy                           0.57      1753\n",
      "   macro avg       0.48      0.48      0.47      1753\n",
      "weighted avg       0.52      0.57      0.53      1753\n",
      "\n",
      "Precision: 0.3233695652173913\n",
      "Accuracy: 0.5675984027381632\n",
      "AUC: 0.4863609341825903\n"
     ]
    },
    {
     "data": {
      "text/plain": [
       "<sklearn.metrics._plot.confusion_matrix.ConfusionMatrixDisplay at 0x1b46ee15f40>"
      ]
     },
     "execution_count": 29,
     "metadata": {},
     "output_type": "execute_result"
    },
    {
     "data": {
      "image/png": "[encoded data removed]",
      "text/plain": [
       "<Figure size 432x288 with 2 Axes>"
      ]
     },
     "metadata": {
      "needs_background": "light"
     },
     "output_type": "display_data"
    }
   ],
   "source": [
    "from xgboost import XGBClassifier\n",
    "xgb= XGBClassifier(random_state=15)\n",
    "xgb.fit(X_train, y_train)\n",
    "y_pred_xgb= xgb.predict(X_test)\n",
    "y_pred_prob_xgb= xgb.predict_proba(X_test)[:,1]\n",
    "\n",
    "cm= confusion_matrix(y_test, y_pred_xgb, labels= xgb.classes_)\n",
    "print(classification_report(y_test, y_pred_xgb, zero_division=0))\n",
    "print('Precision:', precision_score(y_test, y_pred_xgb, zero_division=0))\n",
    "print('Accuracy:', accuracy_score(y_test, y_pred_xgb))\n",
    "print('AUC:', roc_auc_score(y_test, y_pred_prob_xgb))\n",
    "dcm_xgb= ConfusionMatrixDisplay(cm, display_labels= xgb.classes_)\n",
    "dcm_xgb.plot()"
   ]
  },
  {
   "cell_type": "code",
   "execution_count": 30,
   "id": "da093569",
   "metadata": {},
   "outputs": [
    {
     "name": "stdout",
     "output_type": "stream",
     "text": [
      "Fitting 5 folds for each of 3 candidates, totalling 15 fits\n",
      "Best Parameters: {'learning_rate': 0.01}\n",
      "Best Precision Score: 0.5366666666666666\n",
      "              precision    recall  f1-score   support\n",
      "\n",
      "           0       0.64      0.99      0.78      1125\n",
      "           1       0.25      0.00      0.01       628\n",
      "\n",
      "    accuracy                           0.64      1753\n",
      "   macro avg       0.45      0.50      0.39      1753\n",
      "weighted avg       0.50      0.64      0.50      1753\n",
      "\n",
      "Precision: 0.25\n",
      "Accuracy: 0.6394751853964632\n",
      "AUC: 0.49780891719745224\n"
     ]
    },
    {
     "data": {
      "text/plain": [
       "<sklearn.metrics._plot.confusion_matrix.ConfusionMatrixDisplay at 0x1b46ef06250>"
      ]
     },
     "execution_count": 30,
     "metadata": {},
     "output_type": "execute_result"
    },
    {
     "data": {
      "image/png": "[encoded data removed]",
      "text/plain": [
       "<Figure size 432x288 with 2 Axes>"
      ]
     },
     "metadata": {
      "needs_background": "light"
     },
     "output_type": "display_data"
    }
   ],
   "source": [
    "params_XGBoost= {'learning_rate': [0.01, 0.1, 1.0]}\n",
    "\n",
    "gs_xgb= GridSearchCV(estimator= xgb, param_grid= params_XGBoost, cv= 5, scoring= 'precision', n_jobs= -1, verbose= 2)\n",
    "gs_xgb.fit(X_train, y_train)\n",
    "\n",
    "print(\"Best Parameters:\", gs_xgb.best_params_)\n",
    "print(\"Best Precision Score:\", gs_xgb.best_score_)\n",
    "\n",
    "tuned_xgb= gs_xgb.best_estimator_\n",
    "y_pred_tuned_xgb= tuned_xgb.predict(X_test)\n",
    "y_pred_prob_tuned_xgb= tuned_xgb.predict_proba(X_test)[:,1]\n",
    "\n",
    "\n",
    "cm= confusion_matrix(y_test, y_pred_tuned_xgb, labels= tuned_xgb.classes_)\n",
    "print(classification_report(y_test, y_pred_tuned_xgb, zero_division=0))\n",
    "print('Precision:', precision_score(y_test, y_pred_tuned_xgb, zero_division=0))\n",
    "print('Accuracy:', accuracy_score(y_test, y_pred_tuned_xgb))\n",
    "print('AUC:', roc_auc_score(y_test, y_pred_prob_tuned_xgb))\n",
    "dcm_tuned_xgb= ConfusionMatrixDisplay(cm, display_labels= tuned_xgb.classes_)\n",
    "dcm_tuned_xgb.plot()"
   ]
  },
  {
   "cell_type": "code",
   "execution_count": null,
   "id": "57bd651d",
   "metadata": {},
   "outputs": [],
   "source": []
  },
  {
   "cell_type": "markdown",
   "id": "fe4ddc2b",
   "metadata": {},
   "source": [
    "--- LGBM ---"
   ]
  },
  {
   "cell_type": "code",
   "execution_count": 31,
   "id": "0a1effa6",
   "metadata": {},
   "outputs": [
    {
     "name": "stdout",
     "output_type": "stream",
     "text": [
      "[LightGBM] [Info] Number of positive: 2511, number of negative: 4499\n",
      "[LightGBM] [Info] Auto-choosing row-wise multi-threading, the overhead of testing was 0.001986 seconds.\n",
      "You can set `force_row_wise=true` to remove the overhead.\n",
      "And if memory is not enough, you can set `force_col_wise=true`.\n",
      "[LightGBM] [Info] Total Bins 1165\n",
      "[LightGBM] [Info] Number of data points in the train set: 7010, number of used features: 23\n",
      "[LightGBM] [Info] [binary:BoostFromScore]: pavg=0.358203 -> initscore=-0.583174\n",
      "[LightGBM] [Info] Start training from score -0.583174\n",
      "              precision    recall  f1-score   support\n",
      "\n",
      "           0       0.64      0.91      0.75      1125\n",
      "           1       0.34      0.08      0.13       628\n",
      "\n",
      "    accuracy                           0.61      1753\n",
      "   macro avg       0.49      0.50      0.44      1753\n",
      "weighted avg       0.53      0.61      0.53      1753\n",
      "\n",
      "Precision: 0.33548387096774196\n",
      "Accuracy: 0.6126640045636053\n",
      "AUC: 0.5091295116772824\n"
     ]
    },
    {
     "data": {
      "text/plain": [
       "<sklearn.metrics._plot.confusion_matrix.ConfusionMatrixDisplay at 0x1b46fcf8280>"
      ]
     },
     "execution_count": 31,
     "metadata": {},
     "output_type": "execute_result"
    },
    {
     "data": {
      "image/png": "[encoded data removed]",
      "text/plain": [
       "<Figure size 432x288 with 2 Axes>"
      ]
     },
     "metadata": {
      "needs_background": "light"
     },
     "output_type": "display_data"
    }
   ],
   "source": [
    "from lightgbm import LGBMClassifier\n",
    "lgm= LGBMClassifier(random_state=15)\n",
    "lgm.fit(X_train, y_train)\n",
    "y_pred_lgm= lgm.predict(X_test)\n",
    "y_pred_prob_lgm= lgm.predict_proba(X_test)[:,1]\n",
    "\n",
    "\n",
    "cm= confusion_matrix(y_test, y_pred_lgm, labels= lgm.classes_)\n",
    "print(classification_report(y_test, y_pred_lgm, zero_division=0))\n",
    "print('Precision:', precision_score(y_test, y_pred_lgm, zero_division=0))\n",
    "print('Accuracy:', accuracy_score(y_test, y_pred_lgm))\n",
    "print('AUC:', roc_auc_score(y_test, y_pred_prob_lgm))\n",
    "dcm_lgm= ConfusionMatrixDisplay(cm, display_labels= lgm.classes_)\n",
    "dcm_lgm.plot()"
   ]
  },
  {
   "cell_type": "code",
   "execution_count": 32,
   "id": "d9dec891",
   "metadata": {},
   "outputs": [
    {
     "name": "stdout",
     "output_type": "stream",
     "text": [
      "Fitting 5 folds for each of 80 candidates, totalling 400 fits\n",
      "[LightGBM] [Warning] min_data_in_leaf is set=30, min_child_samples=20 will be ignored. Current value: min_data_in_leaf=30\n",
      "[LightGBM] [Warning] min_data_in_leaf is set=30, min_child_samples=20 will be ignored. Current value: min_data_in_leaf=30\n",
      "[LightGBM] [Info] Number of positive: 2511, number of negative: 4499\n",
      "[LightGBM] [Info] Auto-choosing col-wise multi-threading, the overhead of testing was 0.001774 seconds.\n",
      "You can set `force_col_wise=true` to remove the overhead.\n",
      "[LightGBM] [Info] Total Bins 1165\n",
      "[LightGBM] [Info] Number of data points in the train set: 7010, number of used features: 23\n",
      "[LightGBM] [Info] [binary:BoostFromScore]: pavg=0.358203 -> initscore=-0.583174\n",
      "[LightGBM] [Info] Start training from score -0.583174\n",
      "Best Parameters: {'learning_rate': 0.01, 'min_data_in_leaf': 30, 'num_leaves': 127, 'reg_alpha': 0.1}\n",
      "Best Precision Score: 0.5458333333333334\n",
      "[LightGBM] [Warning] min_data_in_leaf is set=30, min_child_samples=20 will be ignored. Current value: min_data_in_leaf=30\n",
      "[LightGBM] [Warning] min_data_in_leaf is set=30, min_child_samples=20 will be ignored. Current value: min_data_in_leaf=30\n",
      "              precision    recall  f1-score   support\n",
      "\n",
      "           0       0.64      0.99      0.78      1125\n",
      "           1       0.00      0.00      0.00       628\n",
      "\n",
      "    accuracy                           0.64      1753\n",
      "   macro avg       0.32      0.50      0.39      1753\n",
      "weighted avg       0.41      0.64      0.50      1753\n",
      "\n",
      "Precision: 0.0\n",
      "Accuracy: 0.6360524814603536\n",
      "AUC: 0.5185449398443028\n"
     ]
    },
    {
     "data": {
      "text/plain": [
       "<sklearn.metrics._plot.confusion_matrix.ConfusionMatrixDisplay at 0x1b46fc38af0>"
      ]
     },
     "execution_count": 32,
     "metadata": {},
     "output_type": "execute_result"
    },
    {
     "data": {
      "image/png": "[encoded data removed]",
      "text/plain": [
       "<Figure size 432x288 with 2 Axes>"
      ]
     },
     "metadata": {
      "needs_background": "light"
     },
     "output_type": "display_data"
    }
   ],
   "source": [
    "params_LGB= {'learning_rate': [0.001, 0.01, 0.1, 1.0],\n",
    "             'num_leaves': [31, 127],\n",
    "             'reg_alpha': [0.1, 0.5],\n",
    "             'min_data_in_leaf': [30, 50, 100, 300, 400]}\n",
    "\n",
    "gs_lgm= GridSearchCV(estimator= lgm, param_grid= params_LGB, cv=5, scoring='precision', n_jobs=-1, verbose=2)\n",
    "gs_lgm.fit(X_train, y_train)\n",
    "\n",
    "print(\"Best Parameters:\", gs_lgm.best_params_)\n",
    "print(\"Best Precision Score:\", gs_lgm.best_score_)\n",
    "\n",
    "tuned_lgm= gs_lgm.best_estimator_\n",
    "y_pred_tuned_lgm= tuned_lgm.predict(X_test)\n",
    "y_pred_prob_tuned_lgm= tuned_lgm.predict_proba(X_test)[:,1]\n",
    "\n",
    "\n",
    "cm= confusion_matrix(y_test, y_pred_tuned_lgm, labels= tuned_lgm.classes_)\n",
    "print(classification_report(y_test, y_pred_tuned_lgm, zero_division=0))\n",
    "print('Precision:', precision_score(y_test, y_pred_tuned_lgm, zero_division=0))\n",
    "print('Accuracy:', accuracy_score(y_test, y_pred_tuned_lgm))\n",
    "print('AUC:', roc_auc_score(y_test, y_pred_prob_tuned_lgm))\n",
    "dcm_tuned_lgm= ConfusionMatrixDisplay(cm, display_labels= tuned_lgm.classes_)\n",
    "dcm_tuned_lgm.plot()"
   ]
  },
  {
   "cell_type": "code",
   "execution_count": null,
   "id": "229ae9fa",
   "metadata": {},
   "outputs": [],
   "source": []
  },
  {
   "cell_type": "markdown",
   "id": "9a7670df",
   "metadata": {},
   "source": [
    "--- CatBoost ---"
   ]
  },
  {
   "cell_type": "code",
   "execution_count": 33,
   "id": "cfa1cef8",
   "metadata": {
    "scrolled": true
   },
   "outputs": [
    {
     "name": "stdout",
     "output_type": "stream",
     "text": [
      "Learning rate set to 0.023662\n",
      "0:\tlearn: 0.6909776\ttotal: 158ms\tremaining: 2m 37s\n",
      "1:\tlearn: 0.6889479\ttotal: 162ms\tremaining: 1m 20s\n",
      "2:\tlearn: 0.6869969\ttotal: 168ms\tremaining: 55.7s\n",
      "3:\tlearn: 0.6851755\ttotal: 173ms\tremaining: 43s\n",
      "4:\tlearn: 0.6833967\ttotal: 177ms\tremaining: 35.3s\n",
      "5:\tlearn: 0.6816182\ttotal: 183ms\tremaining: 30.3s\n",
      "6:\tlearn: 0.6799567\ttotal: 187ms\tremaining: 26.6s\n",
      "7:\tlearn: 0.6783476\ttotal: 192ms\tremaining: 23.8s\n",
      "8:\tlearn: 0.6767922\ttotal: 197ms\tremaining: 21.7s\n",
      "9:\tlearn: 0.6753403\ttotal: 201ms\tremaining: 19.9s\n",
      "10:\tlearn: 0.6740188\ttotal: 207ms\tremaining: 18.6s\n",
      "11:\tlearn: 0.6725594\ttotal: 214ms\tremaining: 17.6s\n",
      "12:\tlearn: 0.6711870\ttotal: 219ms\tremaining: 16.6s\n",
      "13:\tlearn: 0.6699632\ttotal: 225ms\tremaining: 15.9s\n",
      "14:\tlearn: 0.6687639\ttotal: 231ms\tremaining: 15.2s\n",
      "15:\tlearn: 0.6675694\ttotal: 236ms\tremaining: 14.5s\n",
      "16:\tlearn: 0.6663270\ttotal: 239ms\tremaining: 13.8s\n",
      "17:\tlearn: 0.6652101\ttotal: 242ms\tremaining: 13.2s\n",
      "18:\tlearn: 0.6643914\ttotal: 245ms\tremaining: 12.7s\n",
      "19:\tlearn: 0.6634649\ttotal: 250ms\tremaining: 12.3s\n",
      "20:\tlearn: 0.6625694\ttotal: 255ms\tremaining: 11.9s\n",
      "21:\tlearn: 0.6616556\ttotal: 259ms\tremaining: 11.5s\n",
      "22:\tlearn: 0.6607234\ttotal: 263ms\tremaining: 11.2s\n",
      "23:\tlearn: 0.6598650\ttotal: 267ms\tremaining: 10.8s\n",
      "24:\tlearn: 0.6590332\ttotal: 271ms\tremaining: 10.6s\n",
      "25:\tlearn: 0.6581669\ttotal: 274ms\tremaining: 10.3s\n",
      "26:\tlearn: 0.6573920\ttotal: 279ms\tremaining: 10s\n",
      "27:\tlearn: 0.6566013\ttotal: 283ms\tremaining: 9.82s\n",
      "28:\tlearn: 0.6559048\ttotal: 286ms\tremaining: 9.59s\n",
      "29:\tlearn: 0.6552487\ttotal: 290ms\tremaining: 9.37s\n",
      "30:\tlearn: 0.6545921\ttotal: 294ms\tremaining: 9.19s\n",
      "31:\tlearn: 0.6539650\ttotal: 298ms\tremaining: 9.02s\n",
      "32:\tlearn: 0.6533792\ttotal: 303ms\tremaining: 8.87s\n",
      "33:\tlearn: 0.6527118\ttotal: 306ms\tremaining: 8.69s\n",
      "34:\tlearn: 0.6521454\ttotal: 310ms\tremaining: 8.54s\n",
      "35:\tlearn: 0.6515860\ttotal: 314ms\tremaining: 8.4s\n",
      "36:\tlearn: 0.6510476\ttotal: 317ms\tremaining: 8.25s\n",
      "37:\tlearn: 0.6504595\ttotal: 320ms\tremaining: 8.11s\n",
      "38:\tlearn: 0.6499049\ttotal: 324ms\tremaining: 7.99s\n",
      "39:\tlearn: 0.6492844\ttotal: 328ms\tremaining: 7.87s\n",
      "40:\tlearn: 0.6487699\ttotal: 332ms\tremaining: 7.76s\n",
      "41:\tlearn: 0.6482597\ttotal: 335ms\tremaining: 7.64s\n",
      "42:\tlearn: 0.6476643\ttotal: 339ms\tremaining: 7.54s\n",
      "43:\tlearn: 0.6471603\ttotal: 343ms\tremaining: 7.44s\n",
      "44:\tlearn: 0.6466308\ttotal: 346ms\tremaining: 7.34s\n",
      "45:\tlearn: 0.6462745\ttotal: 350ms\tremaining: 7.26s\n",
      "46:\tlearn: 0.6458452\ttotal: 356ms\tremaining: 7.22s\n",
      "47:\tlearn: 0.6454853\ttotal: 360ms\tremaining: 7.14s\n",
      "48:\tlearn: 0.6450169\ttotal: 365ms\tremaining: 7.08s\n",
      "49:\tlearn: 0.6444997\ttotal: 369ms\tremaining: 7.01s\n",
      "50:\tlearn: 0.6441731\ttotal: 373ms\tremaining: 6.94s\n",
      "51:\tlearn: 0.6437703\ttotal: 377ms\tremaining: 6.88s\n",
      "52:\tlearn: 0.6433784\ttotal: 381ms\tremaining: 6.81s\n",
      "53:\tlearn: 0.6430087\ttotal: 385ms\tremaining: 6.75s\n",
      "54:\tlearn: 0.6426097\ttotal: 389ms\tremaining: 6.69s\n",
      "55:\tlearn: 0.6421493\ttotal: 394ms\tremaining: 6.63s\n",
      "56:\tlearn: 0.6417299\ttotal: 398ms\tremaining: 6.59s\n",
      "57:\tlearn: 0.6413922\ttotal: 403ms\tremaining: 6.54s\n",
      "58:\tlearn: 0.6410337\ttotal: 407ms\tremaining: 6.49s\n",
      "59:\tlearn: 0.6407245\ttotal: 410ms\tremaining: 6.43s\n",
      "60:\tlearn: 0.6403927\ttotal: 414ms\tremaining: 6.38s\n",
      "61:\tlearn: 0.6401023\ttotal: 418ms\tremaining: 6.32s\n",
      "62:\tlearn: 0.6397605\ttotal: 422ms\tremaining: 6.27s\n",
      "63:\tlearn: 0.6395148\ttotal: 425ms\tremaining: 6.21s\n",
      "64:\tlearn: 0.6391873\ttotal: 429ms\tremaining: 6.16s\n",
      "65:\tlearn: 0.6388064\ttotal: 432ms\tremaining: 6.11s\n",
      "66:\tlearn: 0.6385971\ttotal: 435ms\tremaining: 6.06s\n",
      "67:\tlearn: 0.6383326\ttotal: 439ms\tremaining: 6.01s\n",
      "68:\tlearn: 0.6380220\ttotal: 442ms\tremaining: 5.97s\n",
      "69:\tlearn: 0.6377852\ttotal: 446ms\tremaining: 5.92s\n",
      "70:\tlearn: 0.6374717\ttotal: 449ms\tremaining: 5.88s\n",
      "71:\tlearn: 0.6371949\ttotal: 452ms\tremaining: 5.83s\n",
      "72:\tlearn: 0.6368768\ttotal: 456ms\tremaining: 5.79s\n",
      "73:\tlearn: 0.6366103\ttotal: 460ms\tremaining: 5.75s\n",
      "74:\tlearn: 0.6362553\ttotal: 463ms\tremaining: 5.71s\n",
      "75:\tlearn: 0.6359035\ttotal: 467ms\tremaining: 5.67s\n",
      "76:\tlearn: 0.6356049\ttotal: 470ms\tremaining: 5.63s\n",
      "77:\tlearn: 0.6353319\ttotal: 474ms\tremaining: 5.6s\n",
      "78:\tlearn: 0.6350529\ttotal: 477ms\tremaining: 5.56s\n",
      "79:\tlearn: 0.6347094\ttotal: 481ms\tremaining: 5.53s\n",
      "80:\tlearn: 0.6344507\ttotal: 484ms\tremaining: 5.49s\n",
      "81:\tlearn: 0.6341277\ttotal: 488ms\tremaining: 5.46s\n",
      "82:\tlearn: 0.6338654\ttotal: 491ms\tremaining: 5.43s\n",
      "83:\tlearn: 0.6336764\ttotal: 495ms\tremaining: 5.39s\n",
      "84:\tlearn: 0.6334400\ttotal: 498ms\tremaining: 5.36s\n",
      "85:\tlearn: 0.6332377\ttotal: 501ms\tremaining: 5.33s\n",
      "86:\tlearn: 0.6329680\ttotal: 505ms\tremaining: 5.3s\n",
      "87:\tlearn: 0.6326755\ttotal: 508ms\tremaining: 5.27s\n",
      "88:\tlearn: 0.6324330\ttotal: 512ms\tremaining: 5.24s\n",
      "89:\tlearn: 0.6321534\ttotal: 515ms\tremaining: 5.21s\n",
      "90:\tlearn: 0.6319287\ttotal: 518ms\tremaining: 5.18s\n",
      "91:\tlearn: 0.6316879\ttotal: 522ms\tremaining: 5.15s\n",
      "92:\tlearn: 0.6314516\ttotal: 525ms\tremaining: 5.12s\n",
      "93:\tlearn: 0.6311816\ttotal: 529ms\tremaining: 5.1s\n",
      "94:\tlearn: 0.6309072\ttotal: 533ms\tremaining: 5.08s\n",
      "95:\tlearn: 0.6305879\ttotal: 537ms\tremaining: 5.06s\n",
      "96:\tlearn: 0.6302733\ttotal: 541ms\tremaining: 5.03s\n",
      "97:\tlearn: 0.6299665\ttotal: 544ms\tremaining: 5.01s\n",
      "98:\tlearn: 0.6296318\ttotal: 548ms\tremaining: 4.99s\n",
      "99:\tlearn: 0.6294116\ttotal: 552ms\tremaining: 4.96s\n",
      "100:\tlearn: 0.6291660\ttotal: 555ms\tremaining: 4.94s\n",
      "101:\tlearn: 0.6289208\ttotal: 559ms\tremaining: 4.92s\n",
      "102:\tlearn: 0.6287381\ttotal: 562ms\tremaining: 4.9s\n",
      "103:\tlearn: 0.6284558\ttotal: 566ms\tremaining: 4.88s\n",
      "104:\tlearn: 0.6282063\ttotal: 570ms\tremaining: 4.85s\n",
      "105:\tlearn: 0.6279077\ttotal: 573ms\tremaining: 4.83s\n",
      "106:\tlearn: 0.6276893\ttotal: 577ms\tremaining: 4.81s\n",
      "107:\tlearn: 0.6273879\ttotal: 580ms\tremaining: 4.79s\n",
      "108:\tlearn: 0.6271217\ttotal: 584ms\tremaining: 4.77s\n",
      "109:\tlearn: 0.6269169\ttotal: 588ms\tremaining: 4.75s\n",
      "110:\tlearn: 0.6266415\ttotal: 591ms\tremaining: 4.73s\n",
      "111:\tlearn: 0.6264105\ttotal: 595ms\tremaining: 4.72s\n",
      "112:\tlearn: 0.6260825\ttotal: 599ms\tremaining: 4.7s\n",
      "113:\tlearn: 0.6259153\ttotal: 605ms\tremaining: 4.7s\n",
      "114:\tlearn: 0.6257497\ttotal: 610ms\tremaining: 4.69s\n",
      "115:\tlearn: 0.6255414\ttotal: 613ms\tremaining: 4.67s\n",
      "116:\tlearn: 0.6252434\ttotal: 617ms\tremaining: 4.66s\n",
      "117:\tlearn: 0.6250608\ttotal: 621ms\tremaining: 4.64s\n",
      "118:\tlearn: 0.6247109\ttotal: 624ms\tremaining: 4.62s\n",
      "119:\tlearn: 0.6245297\ttotal: 628ms\tremaining: 4.6s\n",
      "120:\tlearn: 0.6243217\ttotal: 631ms\tremaining: 4.59s\n",
      "121:\tlearn: 0.6240895\ttotal: 635ms\tremaining: 4.57s\n",
      "122:\tlearn: 0.6238025\ttotal: 639ms\tremaining: 4.55s\n",
      "123:\tlearn: 0.6235807\ttotal: 642ms\tremaining: 4.54s\n",
      "124:\tlearn: 0.6233916\ttotal: 646ms\tremaining: 4.52s\n",
      "125:\tlearn: 0.6231103\ttotal: 649ms\tremaining: 4.5s\n",
      "126:\tlearn: 0.6229624\ttotal: 653ms\tremaining: 4.49s\n",
      "127:\tlearn: 0.6227486\ttotal: 657ms\tremaining: 4.47s\n",
      "128:\tlearn: 0.6225432\ttotal: 660ms\tremaining: 4.46s\n",
      "129:\tlearn: 0.6222900\ttotal: 664ms\tremaining: 4.44s\n",
      "130:\tlearn: 0.6220563\ttotal: 668ms\tremaining: 4.43s\n",
      "131:\tlearn: 0.6218685\ttotal: 671ms\tremaining: 4.41s\n",
      "132:\tlearn: 0.6215992\ttotal: 675ms\tremaining: 4.4s\n",
      "133:\tlearn: 0.6213557\ttotal: 678ms\tremaining: 4.38s\n",
      "134:\tlearn: 0.6211175\ttotal: 682ms\tremaining: 4.37s\n",
      "135:\tlearn: 0.6209215\ttotal: 685ms\tremaining: 4.35s\n",
      "136:\tlearn: 0.6206958\ttotal: 689ms\tremaining: 4.34s\n",
      "137:\tlearn: 0.6204745\ttotal: 693ms\tremaining: 4.33s\n",
      "138:\tlearn: 0.6202642\ttotal: 696ms\tremaining: 4.31s\n",
      "139:\tlearn: 0.6201078\ttotal: 700ms\tremaining: 4.3s\n",
      "140:\tlearn: 0.6199760\ttotal: 703ms\tremaining: 4.29s\n",
      "141:\tlearn: 0.6197229\ttotal: 708ms\tremaining: 4.28s\n",
      "142:\tlearn: 0.6195510\ttotal: 712ms\tremaining: 4.27s\n",
      "143:\tlearn: 0.6193761\ttotal: 716ms\tremaining: 4.26s\n",
      "144:\tlearn: 0.6191670\ttotal: 720ms\tremaining: 4.24s\n",
      "145:\tlearn: 0.6189286\ttotal: 724ms\tremaining: 4.24s\n",
      "146:\tlearn: 0.6186367\ttotal: 728ms\tremaining: 4.22s\n",
      "147:\tlearn: 0.6184380\ttotal: 732ms\tremaining: 4.21s\n",
      "148:\tlearn: 0.6181329\ttotal: 735ms\tremaining: 4.2s\n",
      "149:\tlearn: 0.6178591\ttotal: 739ms\tremaining: 4.18s\n",
      "150:\tlearn: 0.6176535\ttotal: 742ms\tremaining: 4.17s\n",
      "151:\tlearn: 0.6174042\ttotal: 746ms\tremaining: 4.16s\n",
      "152:\tlearn: 0.6172078\ttotal: 749ms\tremaining: 4.15s\n",
      "153:\tlearn: 0.6170094\ttotal: 753ms\tremaining: 4.13s\n",
      "154:\tlearn: 0.6166838\ttotal: 756ms\tremaining: 4.12s\n",
      "155:\tlearn: 0.6164407\ttotal: 760ms\tremaining: 4.11s\n",
      "156:\tlearn: 0.6161959\ttotal: 764ms\tremaining: 4.1s\n",
      "157:\tlearn: 0.6159463\ttotal: 768ms\tremaining: 4.09s\n",
      "158:\tlearn: 0.6156953\ttotal: 771ms\tremaining: 4.08s\n",
      "159:\tlearn: 0.6155518\ttotal: 775ms\tremaining: 4.07s\n",
      "160:\tlearn: 0.6152779\ttotal: 779ms\tremaining: 4.06s\n",
      "161:\tlearn: 0.6150661\ttotal: 783ms\tremaining: 4.05s\n",
      "162:\tlearn: 0.6148535\ttotal: 786ms\tremaining: 4.04s\n",
      "163:\tlearn: 0.6146436\ttotal: 790ms\tremaining: 4.03s\n",
      "164:\tlearn: 0.6144266\ttotal: 793ms\tremaining: 4.01s\n",
      "165:\tlearn: 0.6142388\ttotal: 797ms\tremaining: 4s\n",
      "166:\tlearn: 0.6139149\ttotal: 800ms\tremaining: 3.99s\n",
      "167:\tlearn: 0.6136972\ttotal: 806ms\tremaining: 3.99s\n",
      "168:\tlearn: 0.6134454\ttotal: 810ms\tremaining: 3.98s\n",
      "169:\tlearn: 0.6132589\ttotal: 814ms\tremaining: 3.97s\n",
      "170:\tlearn: 0.6129608\ttotal: 817ms\tremaining: 3.96s\n",
      "171:\tlearn: 0.6127333\ttotal: 821ms\tremaining: 3.95s\n",
      "172:\tlearn: 0.6125402\ttotal: 824ms\tremaining: 3.94s\n",
      "173:\tlearn: 0.6123448\ttotal: 828ms\tremaining: 3.93s\n",
      "174:\tlearn: 0.6120325\ttotal: 832ms\tremaining: 3.92s\n",
      "175:\tlearn: 0.6117262\ttotal: 837ms\tremaining: 3.92s\n",
      "176:\tlearn: 0.6114714\ttotal: 841ms\tremaining: 3.91s\n",
      "177:\tlearn: 0.6112712\ttotal: 844ms\tremaining: 3.9s\n",
      "178:\tlearn: 0.6110669\ttotal: 848ms\tremaining: 3.89s\n",
      "179:\tlearn: 0.6108005\ttotal: 852ms\tremaining: 3.88s\n",
      "180:\tlearn: 0.6105928\ttotal: 856ms\tremaining: 3.87s\n",
      "181:\tlearn: 0.6104298\ttotal: 859ms\tremaining: 3.86s\n",
      "182:\tlearn: 0.6102182\ttotal: 864ms\tremaining: 3.86s\n",
      "183:\tlearn: 0.6100005\ttotal: 868ms\tremaining: 3.85s\n",
      "184:\tlearn: 0.6097889\ttotal: 871ms\tremaining: 3.84s\n",
      "185:\tlearn: 0.6095558\ttotal: 874ms\tremaining: 3.83s\n",
      "186:\tlearn: 0.6093998\ttotal: 879ms\tremaining: 3.82s\n",
      "187:\tlearn: 0.6092176\ttotal: 883ms\tremaining: 3.81s\n"
     ]
    },
    {
     "name": "stdout",
     "output_type": "stream",
     "text": [
      "188:\tlearn: 0.6090743\ttotal: 887ms\tremaining: 3.81s\n",
      "189:\tlearn: 0.6088830\ttotal: 891ms\tremaining: 3.8s\n",
      "190:\tlearn: 0.6086137\ttotal: 896ms\tremaining: 3.79s\n",
      "191:\tlearn: 0.6083305\ttotal: 899ms\tremaining: 3.78s\n",
      "192:\tlearn: 0.6081505\ttotal: 903ms\tremaining: 3.77s\n",
      "193:\tlearn: 0.6079998\ttotal: 906ms\tremaining: 3.77s\n",
      "194:\tlearn: 0.6078215\ttotal: 913ms\tremaining: 3.77s\n",
      "195:\tlearn: 0.6075924\ttotal: 921ms\tremaining: 3.78s\n",
      "196:\tlearn: 0.6074547\ttotal: 928ms\tremaining: 3.78s\n",
      "197:\tlearn: 0.6072600\ttotal: 934ms\tremaining: 3.78s\n",
      "198:\tlearn: 0.6071286\ttotal: 942ms\tremaining: 3.79s\n",
      "199:\tlearn: 0.6069719\ttotal: 948ms\tremaining: 3.79s\n",
      "200:\tlearn: 0.6067555\ttotal: 954ms\tremaining: 3.79s\n",
      "201:\tlearn: 0.6064938\ttotal: 960ms\tremaining: 3.79s\n",
      "202:\tlearn: 0.6063056\ttotal: 966ms\tremaining: 3.79s\n",
      "203:\tlearn: 0.6061599\ttotal: 972ms\tremaining: 3.79s\n",
      "204:\tlearn: 0.6059395\ttotal: 978ms\tremaining: 3.79s\n",
      "205:\tlearn: 0.6058039\ttotal: 985ms\tremaining: 3.79s\n",
      "206:\tlearn: 0.6055598\ttotal: 991ms\tremaining: 3.79s\n",
      "207:\tlearn: 0.6053552\ttotal: 998ms\tremaining: 3.8s\n",
      "208:\tlearn: 0.6051262\ttotal: 1s\tremaining: 3.8s\n",
      "209:\tlearn: 0.6049732\ttotal: 1.01s\tremaining: 3.8s\n",
      "210:\tlearn: 0.6047576\ttotal: 1.02s\tremaining: 3.8s\n",
      "211:\tlearn: 0.6045896\ttotal: 1.02s\tremaining: 3.8s\n",
      "212:\tlearn: 0.6043284\ttotal: 1.03s\tremaining: 3.8s\n",
      "213:\tlearn: 0.6040798\ttotal: 1.03s\tremaining: 3.8s\n",
      "214:\tlearn: 0.6038287\ttotal: 1.04s\tremaining: 3.8s\n",
      "215:\tlearn: 0.6036598\ttotal: 1.05s\tremaining: 3.8s\n",
      "216:\tlearn: 0.6034869\ttotal: 1.05s\tremaining: 3.8s\n",
      "217:\tlearn: 0.6032397\ttotal: 1.06s\tremaining: 3.79s\n",
      "218:\tlearn: 0.6031283\ttotal: 1.06s\tremaining: 3.79s\n",
      "219:\tlearn: 0.6028768\ttotal: 1.07s\tremaining: 3.79s\n",
      "220:\tlearn: 0.6026380\ttotal: 1.08s\tremaining: 3.79s\n",
      "221:\tlearn: 0.6024077\ttotal: 1.08s\tremaining: 3.79s\n",
      "222:\tlearn: 0.6022479\ttotal: 1.09s\tremaining: 3.8s\n",
      "223:\tlearn: 0.6020818\ttotal: 1.09s\tremaining: 3.8s\n",
      "224:\tlearn: 0.6018585\ttotal: 1.1s\tremaining: 3.8s\n",
      "225:\tlearn: 0.6016490\ttotal: 1.11s\tremaining: 3.79s\n",
      "226:\tlearn: 0.6014133\ttotal: 1.11s\tremaining: 3.79s\n",
      "227:\tlearn: 0.6012577\ttotal: 1.12s\tremaining: 3.79s\n",
      "228:\tlearn: 0.6010251\ttotal: 1.12s\tremaining: 3.79s\n",
      "229:\tlearn: 0.6007475\ttotal: 1.13s\tremaining: 3.79s\n",
      "230:\tlearn: 0.6004886\ttotal: 1.14s\tremaining: 3.78s\n",
      "231:\tlearn: 0.6002725\ttotal: 1.14s\tremaining: 3.78s\n",
      "232:\tlearn: 0.6000404\ttotal: 1.15s\tremaining: 3.78s\n",
      "233:\tlearn: 0.5998560\ttotal: 1.15s\tremaining: 3.77s\n",
      "234:\tlearn: 0.5996722\ttotal: 1.16s\tremaining: 3.77s\n",
      "235:\tlearn: 0.5994385\ttotal: 1.16s\tremaining: 3.77s\n",
      "236:\tlearn: 0.5992772\ttotal: 1.17s\tremaining: 3.77s\n",
      "237:\tlearn: 0.5990298\ttotal: 1.18s\tremaining: 3.76s\n",
      "238:\tlearn: 0.5988791\ttotal: 1.18s\tremaining: 3.76s\n",
      "239:\tlearn: 0.5987715\ttotal: 1.19s\tremaining: 3.76s\n",
      "240:\tlearn: 0.5984881\ttotal: 1.19s\tremaining: 3.76s\n",
      "241:\tlearn: 0.5981888\ttotal: 1.2s\tremaining: 3.76s\n",
      "242:\tlearn: 0.5979926\ttotal: 1.21s\tremaining: 3.76s\n",
      "243:\tlearn: 0.5978432\ttotal: 1.21s\tremaining: 3.75s\n",
      "244:\tlearn: 0.5976821\ttotal: 1.22s\tremaining: 3.75s\n",
      "245:\tlearn: 0.5974710\ttotal: 1.22s\tremaining: 3.75s\n",
      "246:\tlearn: 0.5971873\ttotal: 1.23s\tremaining: 3.74s\n",
      "247:\tlearn: 0.5969540\ttotal: 1.23s\tremaining: 3.74s\n",
      "248:\tlearn: 0.5966919\ttotal: 1.24s\tremaining: 3.73s\n",
      "249:\tlearn: 0.5964707\ttotal: 1.24s\tremaining: 3.73s\n",
      "250:\tlearn: 0.5963128\ttotal: 1.25s\tremaining: 3.73s\n",
      "251:\tlearn: 0.5961592\ttotal: 1.25s\tremaining: 3.72s\n",
      "252:\tlearn: 0.5960041\ttotal: 1.26s\tremaining: 3.71s\n",
      "253:\tlearn: 0.5958057\ttotal: 1.26s\tremaining: 3.71s\n",
      "254:\tlearn: 0.5955766\ttotal: 1.27s\tremaining: 3.72s\n",
      "255:\tlearn: 0.5953154\ttotal: 1.28s\tremaining: 3.72s\n",
      "256:\tlearn: 0.5951508\ttotal: 1.28s\tremaining: 3.72s\n",
      "257:\tlearn: 0.5949468\ttotal: 1.29s\tremaining: 3.71s\n",
      "258:\tlearn: 0.5947764\ttotal: 1.3s\tremaining: 3.71s\n",
      "259:\tlearn: 0.5946927\ttotal: 1.3s\tremaining: 3.71s\n",
      "260:\tlearn: 0.5944451\ttotal: 1.31s\tremaining: 3.7s\n",
      "261:\tlearn: 0.5944349\ttotal: 1.31s\tremaining: 3.69s\n",
      "262:\tlearn: 0.5942389\ttotal: 1.32s\tremaining: 3.69s\n",
      "263:\tlearn: 0.5939651\ttotal: 1.32s\tremaining: 3.69s\n",
      "264:\tlearn: 0.5937647\ttotal: 1.33s\tremaining: 3.68s\n",
      "265:\tlearn: 0.5935467\ttotal: 1.33s\tremaining: 3.67s\n",
      "266:\tlearn: 0.5933470\ttotal: 1.34s\tremaining: 3.67s\n",
      "267:\tlearn: 0.5931713\ttotal: 1.34s\tremaining: 3.67s\n",
      "268:\tlearn: 0.5930720\ttotal: 1.35s\tremaining: 3.67s\n",
      "269:\tlearn: 0.5928778\ttotal: 1.35s\tremaining: 3.67s\n",
      "270:\tlearn: 0.5926654\ttotal: 1.36s\tremaining: 3.66s\n",
      "271:\tlearn: 0.5925207\ttotal: 1.37s\tremaining: 3.66s\n",
      "272:\tlearn: 0.5923854\ttotal: 1.37s\tremaining: 3.66s\n",
      "273:\tlearn: 0.5921350\ttotal: 1.38s\tremaining: 3.66s\n",
      "274:\tlearn: 0.5919442\ttotal: 1.39s\tremaining: 3.66s\n",
      "275:\tlearn: 0.5918086\ttotal: 1.39s\tremaining: 3.66s\n",
      "276:\tlearn: 0.5916260\ttotal: 1.4s\tremaining: 3.66s\n",
      "277:\tlearn: 0.5913590\ttotal: 1.41s\tremaining: 3.65s\n",
      "278:\tlearn: 0.5911742\ttotal: 1.41s\tremaining: 3.65s\n",
      "279:\tlearn: 0.5909143\ttotal: 1.42s\tremaining: 3.65s\n",
      "280:\tlearn: 0.5905996\ttotal: 1.43s\tremaining: 3.65s\n",
      "281:\tlearn: 0.5904784\ttotal: 1.44s\tremaining: 3.65s\n",
      "282:\tlearn: 0.5903243\ttotal: 1.44s\tremaining: 3.65s\n",
      "283:\tlearn: 0.5902076\ttotal: 1.45s\tremaining: 3.65s\n",
      "284:\tlearn: 0.5900060\ttotal: 1.46s\tremaining: 3.65s\n",
      "285:\tlearn: 0.5897383\ttotal: 1.46s\tremaining: 3.66s\n",
      "286:\tlearn: 0.5895429\ttotal: 1.47s\tremaining: 3.65s\n",
      "287:\tlearn: 0.5893951\ttotal: 1.48s\tremaining: 3.65s\n",
      "288:\tlearn: 0.5892102\ttotal: 1.48s\tremaining: 3.65s\n",
      "289:\tlearn: 0.5890335\ttotal: 1.49s\tremaining: 3.65s\n",
      "290:\tlearn: 0.5888095\ttotal: 1.5s\tremaining: 3.65s\n",
      "291:\tlearn: 0.5885897\ttotal: 1.5s\tremaining: 3.65s\n",
      "292:\tlearn: 0.5883493\ttotal: 1.51s\tremaining: 3.64s\n",
      "293:\tlearn: 0.5880995\ttotal: 1.51s\tremaining: 3.64s\n",
      "294:\tlearn: 0.5878752\ttotal: 1.52s\tremaining: 3.63s\n",
      "295:\tlearn: 0.5877366\ttotal: 1.52s\tremaining: 3.63s\n",
      "296:\tlearn: 0.5875561\ttotal: 1.53s\tremaining: 3.63s\n",
      "297:\tlearn: 0.5873569\ttotal: 1.54s\tremaining: 3.62s\n",
      "298:\tlearn: 0.5871585\ttotal: 1.54s\tremaining: 3.62s\n",
      "299:\tlearn: 0.5870359\ttotal: 1.55s\tremaining: 3.61s\n",
      "300:\tlearn: 0.5868734\ttotal: 1.55s\tremaining: 3.61s\n",
      "301:\tlearn: 0.5866689\ttotal: 1.56s\tremaining: 3.6s\n",
      "302:\tlearn: 0.5863800\ttotal: 1.56s\tremaining: 3.6s\n",
      "303:\tlearn: 0.5862166\ttotal: 1.57s\tremaining: 3.59s\n",
      "304:\tlearn: 0.5860550\ttotal: 1.57s\tremaining: 3.58s\n",
      "305:\tlearn: 0.5858456\ttotal: 1.58s\tremaining: 3.58s\n",
      "306:\tlearn: 0.5857215\ttotal: 1.58s\tremaining: 3.58s\n",
      "307:\tlearn: 0.5855700\ttotal: 1.59s\tremaining: 3.57s\n",
      "308:\tlearn: 0.5853800\ttotal: 1.59s\tremaining: 3.56s\n",
      "309:\tlearn: 0.5851700\ttotal: 1.6s\tremaining: 3.56s\n",
      "310:\tlearn: 0.5849053\ttotal: 1.61s\tremaining: 3.56s\n",
      "311:\tlearn: 0.5846655\ttotal: 1.61s\tremaining: 3.55s\n",
      "312:\tlearn: 0.5844523\ttotal: 1.62s\tremaining: 3.55s\n",
      "313:\tlearn: 0.5842232\ttotal: 1.62s\tremaining: 3.54s\n",
      "314:\tlearn: 0.5839418\ttotal: 1.63s\tremaining: 3.54s\n",
      "315:\tlearn: 0.5836506\ttotal: 1.63s\tremaining: 3.53s\n",
      "316:\tlearn: 0.5834660\ttotal: 1.64s\tremaining: 3.53s\n",
      "317:\tlearn: 0.5832031\ttotal: 1.64s\tremaining: 3.52s\n",
      "318:\tlearn: 0.5829887\ttotal: 1.65s\tremaining: 3.51s\n",
      "319:\tlearn: 0.5827155\ttotal: 1.65s\tremaining: 3.51s\n",
      "320:\tlearn: 0.5824689\ttotal: 1.66s\tremaining: 3.5s\n",
      "321:\tlearn: 0.5822730\ttotal: 1.66s\tremaining: 3.5s\n",
      "322:\tlearn: 0.5821696\ttotal: 1.67s\tremaining: 3.49s\n",
      "323:\tlearn: 0.5820253\ttotal: 1.67s\tremaining: 3.49s\n",
      "324:\tlearn: 0.5818722\ttotal: 1.68s\tremaining: 3.49s\n",
      "325:\tlearn: 0.5817422\ttotal: 1.68s\tremaining: 3.48s\n",
      "326:\tlearn: 0.5815710\ttotal: 1.69s\tremaining: 3.48s\n",
      "327:\tlearn: 0.5813529\ttotal: 1.69s\tremaining: 3.47s\n",
      "328:\tlearn: 0.5812117\ttotal: 1.7s\tremaining: 3.47s\n",
      "329:\tlearn: 0.5809883\ttotal: 1.71s\tremaining: 3.46s\n",
      "330:\tlearn: 0.5808365\ttotal: 1.71s\tremaining: 3.46s\n",
      "331:\tlearn: 0.5805962\ttotal: 1.72s\tremaining: 3.45s\n",
      "332:\tlearn: 0.5803904\ttotal: 1.72s\tremaining: 3.45s\n",
      "333:\tlearn: 0.5802505\ttotal: 1.73s\tremaining: 3.44s\n",
      "334:\tlearn: 0.5800369\ttotal: 1.73s\tremaining: 3.44s\n",
      "335:\tlearn: 0.5798548\ttotal: 1.74s\tremaining: 3.43s\n",
      "336:\tlearn: 0.5796438\ttotal: 1.74s\tremaining: 3.43s\n",
      "337:\tlearn: 0.5795194\ttotal: 1.75s\tremaining: 3.42s\n",
      "338:\tlearn: 0.5792717\ttotal: 1.75s\tremaining: 3.42s\n",
      "339:\tlearn: 0.5790676\ttotal: 1.76s\tremaining: 3.41s\n",
      "340:\tlearn: 0.5788397\ttotal: 1.76s\tremaining: 3.41s\n",
      "341:\tlearn: 0.5786084\ttotal: 1.77s\tremaining: 3.4s\n",
      "342:\tlearn: 0.5784094\ttotal: 1.77s\tremaining: 3.4s\n",
      "343:\tlearn: 0.5782220\ttotal: 1.78s\tremaining: 3.39s\n",
      "344:\tlearn: 0.5780024\ttotal: 1.78s\tremaining: 3.39s\n",
      "345:\tlearn: 0.5777817\ttotal: 1.79s\tremaining: 3.38s\n",
      "346:\tlearn: 0.5776164\ttotal: 1.79s\tremaining: 3.38s\n",
      "347:\tlearn: 0.5774152\ttotal: 1.8s\tremaining: 3.37s\n",
      "348:\tlearn: 0.5771662\ttotal: 1.8s\tremaining: 3.37s\n",
      "349:\tlearn: 0.5769850\ttotal: 1.81s\tremaining: 3.36s\n",
      "350:\tlearn: 0.5767679\ttotal: 1.81s\tremaining: 3.35s\n",
      "351:\tlearn: 0.5766732\ttotal: 1.82s\tremaining: 3.35s\n",
      "352:\tlearn: 0.5764642\ttotal: 1.82s\tremaining: 3.34s\n",
      "353:\tlearn: 0.5763061\ttotal: 1.83s\tremaining: 3.34s\n",
      "354:\tlearn: 0.5761144\ttotal: 1.83s\tremaining: 3.33s\n",
      "355:\tlearn: 0.5758488\ttotal: 1.84s\tremaining: 3.33s\n",
      "356:\tlearn: 0.5755584\ttotal: 1.84s\tremaining: 3.32s\n",
      "357:\tlearn: 0.5753758\ttotal: 1.85s\tremaining: 3.32s\n",
      "358:\tlearn: 0.5752392\ttotal: 1.85s\tremaining: 3.31s\n",
      "359:\tlearn: 0.5749859\ttotal: 1.86s\tremaining: 3.31s\n",
      "360:\tlearn: 0.5747952\ttotal: 1.86s\tremaining: 3.3s\n",
      "361:\tlearn: 0.5745967\ttotal: 1.87s\tremaining: 3.29s\n",
      "362:\tlearn: 0.5743514\ttotal: 1.87s\tremaining: 3.29s\n",
      "363:\tlearn: 0.5740173\ttotal: 1.88s\tremaining: 3.28s\n",
      "364:\tlearn: 0.5738317\ttotal: 1.88s\tremaining: 3.28s\n",
      "365:\tlearn: 0.5736781\ttotal: 1.89s\tremaining: 3.27s\n",
      "366:\tlearn: 0.5735329\ttotal: 1.89s\tremaining: 3.27s\n",
      "367:\tlearn: 0.5733194\ttotal: 1.9s\tremaining: 3.26s\n",
      "368:\tlearn: 0.5731064\ttotal: 1.9s\tremaining: 3.25s\n",
      "369:\tlearn: 0.5728262\ttotal: 1.91s\tremaining: 3.25s\n",
      "370:\tlearn: 0.5726829\ttotal: 1.91s\tremaining: 3.24s\n",
      "371:\tlearn: 0.5724447\ttotal: 1.92s\tremaining: 3.24s\n",
      "372:\tlearn: 0.5721938\ttotal: 1.92s\tremaining: 3.23s\n",
      "373:\tlearn: 0.5720367\ttotal: 1.93s\tremaining: 3.23s\n",
      "374:\tlearn: 0.5718910\ttotal: 1.93s\tremaining: 3.22s\n",
      "375:\tlearn: 0.5716554\ttotal: 1.94s\tremaining: 3.21s\n",
      "376:\tlearn: 0.5715326\ttotal: 1.94s\tremaining: 3.21s\n",
      "377:\tlearn: 0.5713347\ttotal: 1.95s\tremaining: 3.2s\n",
      "378:\tlearn: 0.5711358\ttotal: 1.95s\tremaining: 3.2s\n"
     ]
    },
    {
     "name": "stdout",
     "output_type": "stream",
     "text": [
      "379:\tlearn: 0.5709332\ttotal: 1.96s\tremaining: 3.19s\n",
      "380:\tlearn: 0.5706918\ttotal: 1.96s\tremaining: 3.19s\n",
      "381:\tlearn: 0.5705285\ttotal: 1.97s\tremaining: 3.18s\n",
      "382:\tlearn: 0.5703714\ttotal: 1.97s\tremaining: 3.18s\n",
      "383:\tlearn: 0.5701791\ttotal: 1.98s\tremaining: 3.17s\n",
      "384:\tlearn: 0.5699988\ttotal: 1.98s\tremaining: 3.16s\n",
      "385:\tlearn: 0.5698137\ttotal: 1.98s\tremaining: 3.16s\n",
      "386:\tlearn: 0.5695750\ttotal: 1.99s\tremaining: 3.15s\n",
      "387:\tlearn: 0.5692963\ttotal: 1.99s\tremaining: 3.14s\n",
      "388:\tlearn: 0.5690298\ttotal: 2s\tremaining: 3.14s\n",
      "389:\tlearn: 0.5688061\ttotal: 2s\tremaining: 3.13s\n",
      "390:\tlearn: 0.5685558\ttotal: 2.01s\tremaining: 3.13s\n",
      "391:\tlearn: 0.5684003\ttotal: 2.01s\tremaining: 3.12s\n",
      "392:\tlearn: 0.5682071\ttotal: 2.02s\tremaining: 3.11s\n",
      "393:\tlearn: 0.5679528\ttotal: 2.02s\tremaining: 3.11s\n",
      "394:\tlearn: 0.5677431\ttotal: 2.02s\tremaining: 3.1s\n",
      "395:\tlearn: 0.5674834\ttotal: 2.03s\tremaining: 3.1s\n",
      "396:\tlearn: 0.5672658\ttotal: 2.04s\tremaining: 3.09s\n",
      "397:\tlearn: 0.5670525\ttotal: 2.04s\tremaining: 3.09s\n",
      "398:\tlearn: 0.5667866\ttotal: 2.04s\tremaining: 3.08s\n",
      "399:\tlearn: 0.5665931\ttotal: 2.05s\tremaining: 3.07s\n",
      "400:\tlearn: 0.5664562\ttotal: 2.05s\tremaining: 3.07s\n",
      "401:\tlearn: 0.5663211\ttotal: 2.06s\tremaining: 3.06s\n",
      "402:\tlearn: 0.5661149\ttotal: 2.06s\tremaining: 3.06s\n",
      "403:\tlearn: 0.5659701\ttotal: 2.07s\tremaining: 3.05s\n",
      "404:\tlearn: 0.5657510\ttotal: 2.07s\tremaining: 3.05s\n",
      "405:\tlearn: 0.5654775\ttotal: 2.08s\tremaining: 3.04s\n",
      "406:\tlearn: 0.5653384\ttotal: 2.08s\tremaining: 3.04s\n",
      "407:\tlearn: 0.5651131\ttotal: 2.09s\tremaining: 3.03s\n",
      "408:\tlearn: 0.5649186\ttotal: 2.09s\tremaining: 3.02s\n",
      "409:\tlearn: 0.5646802\ttotal: 2.1s\tremaining: 3.02s\n",
      "410:\tlearn: 0.5644582\ttotal: 2.1s\tremaining: 3.01s\n",
      "411:\tlearn: 0.5642746\ttotal: 2.11s\tremaining: 3.01s\n",
      "412:\tlearn: 0.5639974\ttotal: 2.11s\tremaining: 3s\n",
      "413:\tlearn: 0.5637582\ttotal: 2.12s\tremaining: 3s\n",
      "414:\tlearn: 0.5635791\ttotal: 2.12s\tremaining: 2.99s\n",
      "415:\tlearn: 0.5634592\ttotal: 2.13s\tremaining: 2.99s\n",
      "416:\tlearn: 0.5633291\ttotal: 2.13s\tremaining: 2.98s\n",
      "417:\tlearn: 0.5631532\ttotal: 2.14s\tremaining: 2.98s\n",
      "418:\tlearn: 0.5630159\ttotal: 2.15s\tremaining: 2.98s\n",
      "419:\tlearn: 0.5627357\ttotal: 2.15s\tremaining: 2.97s\n",
      "420:\tlearn: 0.5624901\ttotal: 2.16s\tremaining: 2.96s\n",
      "421:\tlearn: 0.5623775\ttotal: 2.16s\tremaining: 2.96s\n",
      "422:\tlearn: 0.5621607\ttotal: 2.17s\tremaining: 2.95s\n",
      "423:\tlearn: 0.5620156\ttotal: 2.17s\tremaining: 2.95s\n",
      "424:\tlearn: 0.5617601\ttotal: 2.17s\tremaining: 2.94s\n",
      "425:\tlearn: 0.5615524\ttotal: 2.18s\tremaining: 2.94s\n",
      "426:\tlearn: 0.5612925\ttotal: 2.18s\tremaining: 2.93s\n",
      "427:\tlearn: 0.5610449\ttotal: 2.19s\tremaining: 2.92s\n",
      "428:\tlearn: 0.5607597\ttotal: 2.19s\tremaining: 2.92s\n",
      "429:\tlearn: 0.5606287\ttotal: 2.2s\tremaining: 2.92s\n",
      "430:\tlearn: 0.5604343\ttotal: 2.2s\tremaining: 2.91s\n",
      "431:\tlearn: 0.5602662\ttotal: 2.21s\tremaining: 2.91s\n",
      "432:\tlearn: 0.5600288\ttotal: 2.22s\tremaining: 2.9s\n",
      "433:\tlearn: 0.5598163\ttotal: 2.22s\tremaining: 2.9s\n",
      "434:\tlearn: 0.5595874\ttotal: 2.23s\tremaining: 2.89s\n",
      "435:\tlearn: 0.5594181\ttotal: 2.23s\tremaining: 2.89s\n",
      "436:\tlearn: 0.5590721\ttotal: 2.24s\tremaining: 2.88s\n",
      "437:\tlearn: 0.5588260\ttotal: 2.24s\tremaining: 2.88s\n",
      "438:\tlearn: 0.5585116\ttotal: 2.25s\tremaining: 2.88s\n",
      "439:\tlearn: 0.5582949\ttotal: 2.26s\tremaining: 2.87s\n",
      "440:\tlearn: 0.5581258\ttotal: 2.26s\tremaining: 2.87s\n",
      "441:\tlearn: 0.5578565\ttotal: 2.27s\tremaining: 2.86s\n",
      "442:\tlearn: 0.5575966\ttotal: 2.27s\tremaining: 2.86s\n",
      "443:\tlearn: 0.5573820\ttotal: 2.28s\tremaining: 2.85s\n",
      "444:\tlearn: 0.5571480\ttotal: 2.28s\tremaining: 2.85s\n",
      "445:\tlearn: 0.5568422\ttotal: 2.29s\tremaining: 2.85s\n",
      "446:\tlearn: 0.5566191\ttotal: 2.3s\tremaining: 2.84s\n",
      "447:\tlearn: 0.5564086\ttotal: 2.3s\tremaining: 2.83s\n",
      "448:\tlearn: 0.5562684\ttotal: 2.31s\tremaining: 2.83s\n",
      "449:\tlearn: 0.5560279\ttotal: 2.31s\tremaining: 2.83s\n",
      "450:\tlearn: 0.5558392\ttotal: 2.32s\tremaining: 2.82s\n",
      "451:\tlearn: 0.5556234\ttotal: 2.32s\tremaining: 2.82s\n",
      "452:\tlearn: 0.5553744\ttotal: 2.33s\tremaining: 2.81s\n",
      "453:\tlearn: 0.5552243\ttotal: 2.34s\tremaining: 2.81s\n",
      "454:\tlearn: 0.5551378\ttotal: 2.34s\tremaining: 2.8s\n",
      "455:\tlearn: 0.5549502\ttotal: 2.35s\tremaining: 2.8s\n",
      "456:\tlearn: 0.5546780\ttotal: 2.35s\tremaining: 2.8s\n",
      "457:\tlearn: 0.5544837\ttotal: 2.36s\tremaining: 2.79s\n",
      "458:\tlearn: 0.5542578\ttotal: 2.36s\tremaining: 2.79s\n",
      "459:\tlearn: 0.5539802\ttotal: 2.37s\tremaining: 2.78s\n",
      "460:\tlearn: 0.5538011\ttotal: 2.38s\tremaining: 2.78s\n",
      "461:\tlearn: 0.5535629\ttotal: 2.38s\tremaining: 2.77s\n",
      "462:\tlearn: 0.5533780\ttotal: 2.38s\tremaining: 2.77s\n",
      "463:\tlearn: 0.5531760\ttotal: 2.39s\tremaining: 2.76s\n",
      "464:\tlearn: 0.5529473\ttotal: 2.4s\tremaining: 2.76s\n",
      "465:\tlearn: 0.5527380\ttotal: 2.4s\tremaining: 2.75s\n",
      "466:\tlearn: 0.5524083\ttotal: 2.41s\tremaining: 2.75s\n",
      "467:\tlearn: 0.5522233\ttotal: 2.41s\tremaining: 2.74s\n",
      "468:\tlearn: 0.5520096\ttotal: 2.42s\tremaining: 2.74s\n",
      "469:\tlearn: 0.5518209\ttotal: 2.42s\tremaining: 2.73s\n",
      "470:\tlearn: 0.5515703\ttotal: 2.43s\tremaining: 2.73s\n",
      "471:\tlearn: 0.5513268\ttotal: 2.43s\tremaining: 2.72s\n",
      "472:\tlearn: 0.5511364\ttotal: 2.44s\tremaining: 2.72s\n",
      "473:\tlearn: 0.5508212\ttotal: 2.44s\tremaining: 2.71s\n",
      "474:\tlearn: 0.5506385\ttotal: 2.45s\tremaining: 2.71s\n",
      "475:\tlearn: 0.5504402\ttotal: 2.46s\tremaining: 2.7s\n",
      "476:\tlearn: 0.5502145\ttotal: 2.46s\tremaining: 2.7s\n",
      "477:\tlearn: 0.5499675\ttotal: 2.47s\tremaining: 2.7s\n",
      "478:\tlearn: 0.5498036\ttotal: 2.48s\tremaining: 2.69s\n",
      "479:\tlearn: 0.5495715\ttotal: 2.48s\tremaining: 2.69s\n",
      "480:\tlearn: 0.5493970\ttotal: 2.49s\tremaining: 2.68s\n",
      "481:\tlearn: 0.5491386\ttotal: 2.49s\tremaining: 2.68s\n",
      "482:\tlearn: 0.5489810\ttotal: 2.5s\tremaining: 2.68s\n",
      "483:\tlearn: 0.5487950\ttotal: 2.51s\tremaining: 2.67s\n",
      "484:\tlearn: 0.5486012\ttotal: 2.51s\tremaining: 2.67s\n",
      "485:\tlearn: 0.5484509\ttotal: 2.52s\tremaining: 2.66s\n",
      "486:\tlearn: 0.5482830\ttotal: 2.52s\tremaining: 2.66s\n",
      "487:\tlearn: 0.5480915\ttotal: 2.53s\tremaining: 2.65s\n",
      "488:\tlearn: 0.5479438\ttotal: 2.54s\tremaining: 2.65s\n",
      "489:\tlearn: 0.5477159\ttotal: 2.54s\tremaining: 2.64s\n",
      "490:\tlearn: 0.5475936\ttotal: 2.55s\tremaining: 2.64s\n",
      "491:\tlearn: 0.5473912\ttotal: 2.55s\tremaining: 2.63s\n",
      "492:\tlearn: 0.5471770\ttotal: 2.56s\tremaining: 2.63s\n",
      "493:\tlearn: 0.5469701\ttotal: 2.56s\tremaining: 2.62s\n",
      "494:\tlearn: 0.5468037\ttotal: 2.57s\tremaining: 2.62s\n",
      "495:\tlearn: 0.5465626\ttotal: 2.57s\tremaining: 2.62s\n",
      "496:\tlearn: 0.5463602\ttotal: 2.58s\tremaining: 2.61s\n",
      "497:\tlearn: 0.5461952\ttotal: 2.58s\tremaining: 2.6s\n",
      "498:\tlearn: 0.5460159\ttotal: 2.59s\tremaining: 2.6s\n",
      "499:\tlearn: 0.5457571\ttotal: 2.6s\tremaining: 2.6s\n",
      "500:\tlearn: 0.5454434\ttotal: 2.6s\tremaining: 2.59s\n",
      "501:\tlearn: 0.5451985\ttotal: 2.61s\tremaining: 2.58s\n",
      "502:\tlearn: 0.5449701\ttotal: 2.61s\tremaining: 2.58s\n",
      "503:\tlearn: 0.5447608\ttotal: 2.62s\tremaining: 2.58s\n",
      "504:\tlearn: 0.5445828\ttotal: 2.62s\tremaining: 2.57s\n",
      "505:\tlearn: 0.5444280\ttotal: 2.63s\tremaining: 2.57s\n",
      "506:\tlearn: 0.5442175\ttotal: 2.63s\tremaining: 2.56s\n",
      "507:\tlearn: 0.5440661\ttotal: 2.64s\tremaining: 2.55s\n",
      "508:\tlearn: 0.5438089\ttotal: 2.64s\tremaining: 2.55s\n",
      "509:\tlearn: 0.5436386\ttotal: 2.65s\tremaining: 2.55s\n",
      "510:\tlearn: 0.5433630\ttotal: 2.66s\tremaining: 2.54s\n",
      "511:\tlearn: 0.5431327\ttotal: 2.66s\tremaining: 2.54s\n",
      "512:\tlearn: 0.5429030\ttotal: 2.67s\tremaining: 2.53s\n",
      "513:\tlearn: 0.5427270\ttotal: 2.67s\tremaining: 2.53s\n",
      "514:\tlearn: 0.5425637\ttotal: 2.68s\tremaining: 2.52s\n",
      "515:\tlearn: 0.5423659\ttotal: 2.69s\tremaining: 2.52s\n",
      "516:\tlearn: 0.5422097\ttotal: 2.69s\tremaining: 2.52s\n",
      "517:\tlearn: 0.5420598\ttotal: 2.7s\tremaining: 2.51s\n",
      "518:\tlearn: 0.5418903\ttotal: 2.7s\tremaining: 2.5s\n",
      "519:\tlearn: 0.5417457\ttotal: 2.71s\tremaining: 2.5s\n",
      "520:\tlearn: 0.5415354\ttotal: 2.72s\tremaining: 2.5s\n",
      "521:\tlearn: 0.5413020\ttotal: 2.72s\tremaining: 2.49s\n",
      "522:\tlearn: 0.5410865\ttotal: 2.73s\tremaining: 2.49s\n",
      "523:\tlearn: 0.5409147\ttotal: 2.73s\tremaining: 2.48s\n",
      "524:\tlearn: 0.5406974\ttotal: 2.74s\tremaining: 2.48s\n",
      "525:\tlearn: 0.5403810\ttotal: 2.75s\tremaining: 2.48s\n",
      "526:\tlearn: 0.5401401\ttotal: 2.76s\tremaining: 2.48s\n",
      "527:\tlearn: 0.5398670\ttotal: 2.76s\tremaining: 2.47s\n",
      "528:\tlearn: 0.5395788\ttotal: 2.77s\tremaining: 2.47s\n",
      "529:\tlearn: 0.5394157\ttotal: 2.78s\tremaining: 2.46s\n",
      "530:\tlearn: 0.5392807\ttotal: 2.79s\tremaining: 2.46s\n",
      "531:\tlearn: 0.5391077\ttotal: 2.79s\tremaining: 2.46s\n",
      "532:\tlearn: 0.5389623\ttotal: 2.8s\tremaining: 2.45s\n",
      "533:\tlearn: 0.5386843\ttotal: 2.8s\tremaining: 2.45s\n",
      "534:\tlearn: 0.5385271\ttotal: 2.81s\tremaining: 2.44s\n",
      "535:\tlearn: 0.5382884\ttotal: 2.82s\tremaining: 2.44s\n",
      "536:\tlearn: 0.5381277\ttotal: 2.83s\tremaining: 2.44s\n",
      "537:\tlearn: 0.5378503\ttotal: 2.83s\tremaining: 2.43s\n",
      "538:\tlearn: 0.5376037\ttotal: 2.84s\tremaining: 2.43s\n"
     ]
    },
    {
     "name": "stdout",
     "output_type": "stream",
     "text": [
      "539:\tlearn: 0.5373292\ttotal: 2.85s\tremaining: 2.42s\n",
      "540:\tlearn: 0.5371401\ttotal: 2.85s\tremaining: 2.42s\n",
      "541:\tlearn: 0.5369325\ttotal: 2.86s\tremaining: 2.42s\n",
      "542:\tlearn: 0.5367050\ttotal: 2.86s\tremaining: 2.41s\n",
      "543:\tlearn: 0.5365233\ttotal: 2.87s\tremaining: 2.41s\n",
      "544:\tlearn: 0.5363051\ttotal: 2.88s\tremaining: 2.4s\n",
      "545:\tlearn: 0.5361191\ttotal: 2.88s\tremaining: 2.4s\n",
      "546:\tlearn: 0.5358492\ttotal: 2.89s\tremaining: 2.39s\n",
      "547:\tlearn: 0.5356632\ttotal: 2.89s\tremaining: 2.39s\n",
      "548:\tlearn: 0.5355096\ttotal: 2.9s\tremaining: 2.38s\n",
      "549:\tlearn: 0.5352786\ttotal: 2.91s\tremaining: 2.38s\n",
      "550:\tlearn: 0.5350671\ttotal: 2.91s\tremaining: 2.37s\n",
      "551:\tlearn: 0.5348802\ttotal: 2.92s\tremaining: 2.37s\n",
      "552:\tlearn: 0.5347444\ttotal: 2.92s\tremaining: 2.36s\n",
      "553:\tlearn: 0.5345289\ttotal: 2.93s\tremaining: 2.36s\n",
      "554:\tlearn: 0.5343182\ttotal: 2.93s\tremaining: 2.35s\n",
      "555:\tlearn: 0.5342220\ttotal: 2.94s\tremaining: 2.35s\n",
      "556:\tlearn: 0.5340106\ttotal: 2.95s\tremaining: 2.34s\n",
      "557:\tlearn: 0.5337855\ttotal: 2.95s\tremaining: 2.34s\n",
      "558:\tlearn: 0.5335625\ttotal: 2.96s\tremaining: 2.34s\n",
      "559:\tlearn: 0.5333300\ttotal: 2.97s\tremaining: 2.33s\n",
      "560:\tlearn: 0.5331636\ttotal: 2.97s\tremaining: 2.33s\n",
      "561:\tlearn: 0.5329937\ttotal: 2.98s\tremaining: 2.32s\n",
      "562:\tlearn: 0.5327572\ttotal: 2.98s\tremaining: 2.32s\n",
      "563:\tlearn: 0.5325077\ttotal: 2.99s\tremaining: 2.31s\n",
      "564:\tlearn: 0.5323578\ttotal: 3s\tremaining: 2.31s\n",
      "565:\tlearn: 0.5321143\ttotal: 3s\tremaining: 2.3s\n",
      "566:\tlearn: 0.5319805\ttotal: 3.01s\tremaining: 2.3s\n",
      "567:\tlearn: 0.5317628\ttotal: 3.02s\tremaining: 2.3s\n",
      "568:\tlearn: 0.5315640\ttotal: 3.03s\tremaining: 2.29s\n",
      "569:\tlearn: 0.5313582\ttotal: 3.03s\tremaining: 2.29s\n",
      "570:\tlearn: 0.5311619\ttotal: 3.04s\tremaining: 2.29s\n",
      "571:\tlearn: 0.5310277\ttotal: 3.05s\tremaining: 2.28s\n",
      "572:\tlearn: 0.5308543\ttotal: 3.06s\tremaining: 2.28s\n",
      "573:\tlearn: 0.5306506\ttotal: 3.07s\tremaining: 2.27s\n",
      "574:\tlearn: 0.5304766\ttotal: 3.07s\tremaining: 2.27s\n",
      "575:\tlearn: 0.5303631\ttotal: 3.08s\tremaining: 2.27s\n",
      "576:\tlearn: 0.5301246\ttotal: 3.09s\tremaining: 2.26s\n",
      "577:\tlearn: 0.5298957\ttotal: 3.09s\tremaining: 2.26s\n",
      "578:\tlearn: 0.5297840\ttotal: 3.1s\tremaining: 2.25s\n",
      "579:\tlearn: 0.5296021\ttotal: 3.11s\tremaining: 2.25s\n",
      "580:\tlearn: 0.5294250\ttotal: 3.12s\tremaining: 2.25s\n",
      "581:\tlearn: 0.5291868\ttotal: 3.12s\tremaining: 2.24s\n",
      "582:\tlearn: 0.5290246\ttotal: 3.13s\tremaining: 2.24s\n",
      "583:\tlearn: 0.5287789\ttotal: 3.14s\tremaining: 2.23s\n",
      "584:\tlearn: 0.5285285\ttotal: 3.14s\tremaining: 2.23s\n",
      "585:\tlearn: 0.5283686\ttotal: 3.15s\tremaining: 2.23s\n",
      "586:\tlearn: 0.5281471\ttotal: 3.16s\tremaining: 2.22s\n",
      "587:\tlearn: 0.5280024\ttotal: 3.16s\tremaining: 2.22s\n",
      "588:\tlearn: 0.5278774\ttotal: 3.17s\tremaining: 2.21s\n",
      "589:\tlearn: 0.5276941\ttotal: 3.17s\tremaining: 2.21s\n",
      "590:\tlearn: 0.5275278\ttotal: 3.18s\tremaining: 2.2s\n",
      "591:\tlearn: 0.5273498\ttotal: 3.19s\tremaining: 2.2s\n",
      "592:\tlearn: 0.5271665\ttotal: 3.19s\tremaining: 2.19s\n",
      "593:\tlearn: 0.5269351\ttotal: 3.2s\tremaining: 2.19s\n",
      "594:\tlearn: 0.5267362\ttotal: 3.21s\tremaining: 2.18s\n",
      "595:\tlearn: 0.5264674\ttotal: 3.21s\tremaining: 2.18s\n",
      "596:\tlearn: 0.5262779\ttotal: 3.22s\tremaining: 2.17s\n",
      "597:\tlearn: 0.5260390\ttotal: 3.23s\tremaining: 2.17s\n",
      "598:\tlearn: 0.5258418\ttotal: 3.23s\tremaining: 2.16s\n",
      "599:\tlearn: 0.5256529\ttotal: 3.24s\tremaining: 2.16s\n",
      "600:\tlearn: 0.5254984\ttotal: 3.24s\tremaining: 2.15s\n",
      "601:\tlearn: 0.5253081\ttotal: 3.25s\tremaining: 2.15s\n",
      "602:\tlearn: 0.5250765\ttotal: 3.25s\tremaining: 2.14s\n",
      "603:\tlearn: 0.5249321\ttotal: 3.26s\tremaining: 2.14s\n",
      "604:\tlearn: 0.5247386\ttotal: 3.27s\tremaining: 2.13s\n",
      "605:\tlearn: 0.5245150\ttotal: 3.27s\tremaining: 2.13s\n",
      "606:\tlearn: 0.5243025\ttotal: 3.28s\tremaining: 2.12s\n",
      "607:\tlearn: 0.5241405\ttotal: 3.28s\tremaining: 2.12s\n",
      "608:\tlearn: 0.5239322\ttotal: 3.29s\tremaining: 2.11s\n",
      "609:\tlearn: 0.5237074\ttotal: 3.29s\tremaining: 2.11s\n",
      "610:\tlearn: 0.5234903\ttotal: 3.3s\tremaining: 2.1s\n",
      "611:\tlearn: 0.5233032\ttotal: 3.3s\tremaining: 2.09s\n",
      "612:\tlearn: 0.5230411\ttotal: 3.31s\tremaining: 2.09s\n",
      "613:\tlearn: 0.5228489\ttotal: 3.31s\tremaining: 2.08s\n",
      "614:\tlearn: 0.5227535\ttotal: 3.31s\tremaining: 2.07s\n",
      "615:\tlearn: 0.5226125\ttotal: 3.32s\tremaining: 2.07s\n",
      "616:\tlearn: 0.5223731\ttotal: 3.32s\tremaining: 2.06s\n",
      "617:\tlearn: 0.5221141\ttotal: 3.32s\tremaining: 2.06s\n",
      "618:\tlearn: 0.5218681\ttotal: 3.33s\tremaining: 2.05s\n",
      "619:\tlearn: 0.5217141\ttotal: 3.33s\tremaining: 2.04s\n",
      "620:\tlearn: 0.5215486\ttotal: 3.34s\tremaining: 2.04s\n",
      "621:\tlearn: 0.5213428\ttotal: 3.34s\tremaining: 2.03s\n",
      "622:\tlearn: 0.5211009\ttotal: 3.34s\tremaining: 2.02s\n",
      "623:\tlearn: 0.5209160\ttotal: 3.35s\tremaining: 2.02s\n",
      "624:\tlearn: 0.5207681\ttotal: 3.35s\tremaining: 2.01s\n",
      "625:\tlearn: 0.5205885\ttotal: 3.35s\tremaining: 2s\n",
      "626:\tlearn: 0.5204115\ttotal: 3.36s\tremaining: 2s\n",
      "627:\tlearn: 0.5202083\ttotal: 3.36s\tremaining: 1.99s\n",
      "628:\tlearn: 0.5199784\ttotal: 3.37s\tremaining: 1.99s\n",
      "629:\tlearn: 0.5197321\ttotal: 3.37s\tremaining: 1.98s\n",
      "630:\tlearn: 0.5195013\ttotal: 3.37s\tremaining: 1.97s\n",
      "631:\tlearn: 0.5193121\ttotal: 3.38s\tremaining: 1.97s\n",
      "632:\tlearn: 0.5191176\ttotal: 3.38s\tremaining: 1.96s\n",
      "633:\tlearn: 0.5188900\ttotal: 3.38s\tremaining: 1.95s\n",
      "634:\tlearn: 0.5187453\ttotal: 3.39s\tremaining: 1.95s\n",
      "635:\tlearn: 0.5184671\ttotal: 3.39s\tremaining: 1.94s\n",
      "636:\tlearn: 0.5183100\ttotal: 3.4s\tremaining: 1.94s\n",
      "637:\tlearn: 0.5181804\ttotal: 3.4s\tremaining: 1.93s\n",
      "638:\tlearn: 0.5180084\ttotal: 3.4s\tremaining: 1.92s\n",
      "639:\tlearn: 0.5178097\ttotal: 3.41s\tremaining: 1.92s\n",
      "640:\tlearn: 0.5176343\ttotal: 3.41s\tremaining: 1.91s\n",
      "641:\tlearn: 0.5173975\ttotal: 3.42s\tremaining: 1.9s\n",
      "642:\tlearn: 0.5172837\ttotal: 3.42s\tremaining: 1.9s\n",
      "643:\tlearn: 0.5170169\ttotal: 3.42s\tremaining: 1.89s\n",
      "644:\tlearn: 0.5168684\ttotal: 3.43s\tremaining: 1.89s\n",
      "645:\tlearn: 0.5165795\ttotal: 3.43s\tremaining: 1.88s\n",
      "646:\tlearn: 0.5164501\ttotal: 3.43s\tremaining: 1.87s\n",
      "647:\tlearn: 0.5162088\ttotal: 3.44s\tremaining: 1.87s\n",
      "648:\tlearn: 0.5160144\ttotal: 3.44s\tremaining: 1.86s\n",
      "649:\tlearn: 0.5158464\ttotal: 3.45s\tremaining: 1.85s\n",
      "650:\tlearn: 0.5156804\ttotal: 3.45s\tremaining: 1.85s\n",
      "651:\tlearn: 0.5154273\ttotal: 3.46s\tremaining: 1.84s\n",
      "652:\tlearn: 0.5152216\ttotal: 3.46s\tremaining: 1.84s\n",
      "653:\tlearn: 0.5150851\ttotal: 3.46s\tremaining: 1.83s\n",
      "654:\tlearn: 0.5148711\ttotal: 3.47s\tremaining: 1.83s\n",
      "655:\tlearn: 0.5146486\ttotal: 3.47s\tremaining: 1.82s\n",
      "656:\tlearn: 0.5144183\ttotal: 3.48s\tremaining: 1.81s\n",
      "657:\tlearn: 0.5142158\ttotal: 3.48s\tremaining: 1.81s\n",
      "658:\tlearn: 0.5140250\ttotal: 3.49s\tremaining: 1.8s\n",
      "659:\tlearn: 0.5138889\ttotal: 3.5s\tremaining: 1.8s\n",
      "660:\tlearn: 0.5136897\ttotal: 3.5s\tremaining: 1.79s\n",
      "661:\tlearn: 0.5134786\ttotal: 3.5s\tremaining: 1.79s\n",
      "662:\tlearn: 0.5133863\ttotal: 3.51s\tremaining: 1.78s\n",
      "663:\tlearn: 0.5131802\ttotal: 3.51s\tremaining: 1.78s\n",
      "664:\tlearn: 0.5129812\ttotal: 3.52s\tremaining: 1.77s\n",
      "665:\tlearn: 0.5128024\ttotal: 3.52s\tremaining: 1.77s\n",
      "666:\tlearn: 0.5126303\ttotal: 3.53s\tremaining: 1.76s\n",
      "667:\tlearn: 0.5124805\ttotal: 3.53s\tremaining: 1.75s\n",
      "668:\tlearn: 0.5122763\ttotal: 3.54s\tremaining: 1.75s\n",
      "669:\tlearn: 0.5121070\ttotal: 3.54s\tremaining: 1.74s\n",
      "670:\tlearn: 0.5119812\ttotal: 3.55s\tremaining: 1.74s\n",
      "671:\tlearn: 0.5117976\ttotal: 3.55s\tremaining: 1.73s\n",
      "672:\tlearn: 0.5115831\ttotal: 3.56s\tremaining: 1.73s\n",
      "673:\tlearn: 0.5114705\ttotal: 3.56s\tremaining: 1.72s\n",
      "674:\tlearn: 0.5113361\ttotal: 3.56s\tremaining: 1.72s\n",
      "675:\tlearn: 0.5112212\ttotal: 3.57s\tremaining: 1.71s\n",
      "676:\tlearn: 0.5110365\ttotal: 3.57s\tremaining: 1.7s\n",
      "677:\tlearn: 0.5109069\ttotal: 3.58s\tremaining: 1.7s\n",
      "678:\tlearn: 0.5106512\ttotal: 3.58s\tremaining: 1.69s\n",
      "679:\tlearn: 0.5104557\ttotal: 3.59s\tremaining: 1.69s\n",
      "680:\tlearn: 0.5102558\ttotal: 3.59s\tremaining: 1.68s\n",
      "681:\tlearn: 0.5100851\ttotal: 3.6s\tremaining: 1.68s\n",
      "682:\tlearn: 0.5098997\ttotal: 3.6s\tremaining: 1.67s\n",
      "683:\tlearn: 0.5097671\ttotal: 3.6s\tremaining: 1.66s\n",
      "684:\tlearn: 0.5095809\ttotal: 3.61s\tremaining: 1.66s\n",
      "685:\tlearn: 0.5093874\ttotal: 3.61s\tremaining: 1.65s\n",
      "686:\tlearn: 0.5091599\ttotal: 3.61s\tremaining: 1.65s\n",
      "687:\tlearn: 0.5089844\ttotal: 3.62s\tremaining: 1.64s\n",
      "688:\tlearn: 0.5087765\ttotal: 3.62s\tremaining: 1.64s\n",
      "689:\tlearn: 0.5085520\ttotal: 3.63s\tremaining: 1.63s\n",
      "690:\tlearn: 0.5083539\ttotal: 3.63s\tremaining: 1.62s\n",
      "691:\tlearn: 0.5081045\ttotal: 3.63s\tremaining: 1.62s\n",
      "692:\tlearn: 0.5078809\ttotal: 3.64s\tremaining: 1.61s\n",
      "693:\tlearn: 0.5076539\ttotal: 3.64s\tremaining: 1.6s\n",
      "694:\tlearn: 0.5074848\ttotal: 3.64s\tremaining: 1.6s\n",
      "695:\tlearn: 0.5072145\ttotal: 3.65s\tremaining: 1.59s\n",
      "696:\tlearn: 0.5069977\ttotal: 3.65s\tremaining: 1.59s\n",
      "697:\tlearn: 0.5068013\ttotal: 3.65s\tremaining: 1.58s\n",
      "698:\tlearn: 0.5065925\ttotal: 3.66s\tremaining: 1.57s\n",
      "699:\tlearn: 0.5063377\ttotal: 3.66s\tremaining: 1.57s\n",
      "700:\tlearn: 0.5061399\ttotal: 3.67s\tremaining: 1.56s\n",
      "701:\tlearn: 0.5059874\ttotal: 3.67s\tremaining: 1.56s\n",
      "702:\tlearn: 0.5057931\ttotal: 3.67s\tremaining: 1.55s\n",
      "703:\tlearn: 0.5056015\ttotal: 3.68s\tremaining: 1.55s\n",
      "704:\tlearn: 0.5054208\ttotal: 3.68s\tremaining: 1.54s\n",
      "705:\tlearn: 0.5052330\ttotal: 3.69s\tremaining: 1.53s\n",
      "706:\tlearn: 0.5050915\ttotal: 3.69s\tremaining: 1.53s\n",
      "707:\tlearn: 0.5049622\ttotal: 3.69s\tremaining: 1.52s\n",
      "708:\tlearn: 0.5047366\ttotal: 3.7s\tremaining: 1.52s\n",
      "709:\tlearn: 0.5045794\ttotal: 3.7s\tremaining: 1.51s\n",
      "710:\tlearn: 0.5044393\ttotal: 3.7s\tremaining: 1.5s\n",
      "711:\tlearn: 0.5043190\ttotal: 3.71s\tremaining: 1.5s\n",
      "712:\tlearn: 0.5041773\ttotal: 3.71s\tremaining: 1.49s\n",
      "713:\tlearn: 0.5039991\ttotal: 3.72s\tremaining: 1.49s\n",
      "714:\tlearn: 0.5038161\ttotal: 3.72s\tremaining: 1.48s\n",
      "715:\tlearn: 0.5036549\ttotal: 3.72s\tremaining: 1.48s\n",
      "716:\tlearn: 0.5035121\ttotal: 3.73s\tremaining: 1.47s\n",
      "717:\tlearn: 0.5033625\ttotal: 3.73s\tremaining: 1.47s\n"
     ]
    },
    {
     "name": "stdout",
     "output_type": "stream",
     "text": [
      "718:\tlearn: 0.5031316\ttotal: 3.74s\tremaining: 1.46s\n",
      "719:\tlearn: 0.5028765\ttotal: 3.74s\tremaining: 1.45s\n",
      "720:\tlearn: 0.5027177\ttotal: 3.74s\tremaining: 1.45s\n",
      "721:\tlearn: 0.5025062\ttotal: 3.75s\tremaining: 1.44s\n",
      "722:\tlearn: 0.5022833\ttotal: 3.75s\tremaining: 1.44s\n",
      "723:\tlearn: 0.5020791\ttotal: 3.76s\tremaining: 1.43s\n",
      "724:\tlearn: 0.5018647\ttotal: 3.76s\tremaining: 1.43s\n",
      "725:\tlearn: 0.5016197\ttotal: 3.76s\tremaining: 1.42s\n",
      "726:\tlearn: 0.5014227\ttotal: 3.77s\tremaining: 1.41s\n",
      "727:\tlearn: 0.5013079\ttotal: 3.77s\tremaining: 1.41s\n",
      "728:\tlearn: 0.5011014\ttotal: 3.77s\tremaining: 1.4s\n",
      "729:\tlearn: 0.5009541\ttotal: 3.78s\tremaining: 1.4s\n",
      "730:\tlearn: 0.5008039\ttotal: 3.78s\tremaining: 1.39s\n",
      "731:\tlearn: 0.5006560\ttotal: 3.79s\tremaining: 1.39s\n",
      "732:\tlearn: 0.5004896\ttotal: 3.79s\tremaining: 1.38s\n",
      "733:\tlearn: 0.5002355\ttotal: 3.79s\tremaining: 1.38s\n",
      "734:\tlearn: 0.5000928\ttotal: 3.8s\tremaining: 1.37s\n",
      "735:\tlearn: 0.4999265\ttotal: 3.8s\tremaining: 1.36s\n",
      "736:\tlearn: 0.4997691\ttotal: 3.81s\tremaining: 1.36s\n",
      "737:\tlearn: 0.4996159\ttotal: 3.81s\tremaining: 1.35s\n",
      "738:\tlearn: 0.4994412\ttotal: 3.81s\tremaining: 1.35s\n",
      "739:\tlearn: 0.4992774\ttotal: 3.82s\tremaining: 1.34s\n",
      "740:\tlearn: 0.4990655\ttotal: 3.82s\tremaining: 1.34s\n",
      "741:\tlearn: 0.4989142\ttotal: 3.83s\tremaining: 1.33s\n",
      "742:\tlearn: 0.4987529\ttotal: 3.83s\tremaining: 1.32s\n",
      "743:\tlearn: 0.4985216\ttotal: 3.84s\tremaining: 1.32s\n",
      "744:\tlearn: 0.4983961\ttotal: 3.84s\tremaining: 1.31s\n",
      "745:\tlearn: 0.4982742\ttotal: 3.84s\tremaining: 1.31s\n",
      "746:\tlearn: 0.4980649\ttotal: 3.85s\tremaining: 1.3s\n",
      "747:\tlearn: 0.4978989\ttotal: 3.85s\tremaining: 1.3s\n",
      "748:\tlearn: 0.4977248\ttotal: 3.85s\tremaining: 1.29s\n",
      "749:\tlearn: 0.4974459\ttotal: 3.86s\tremaining: 1.29s\n",
      "750:\tlearn: 0.4972381\ttotal: 3.86s\tremaining: 1.28s\n",
      "751:\tlearn: 0.4970499\ttotal: 3.87s\tremaining: 1.28s\n",
      "752:\tlearn: 0.4968848\ttotal: 3.87s\tremaining: 1.27s\n",
      "753:\tlearn: 0.4967199\ttotal: 3.88s\tremaining: 1.26s\n",
      "754:\tlearn: 0.4965553\ttotal: 3.88s\tremaining: 1.26s\n",
      "755:\tlearn: 0.4963821\ttotal: 3.88s\tremaining: 1.25s\n",
      "756:\tlearn: 0.4961511\ttotal: 3.89s\tremaining: 1.25s\n",
      "757:\tlearn: 0.4959682\ttotal: 3.89s\tremaining: 1.24s\n",
      "758:\tlearn: 0.4957578\ttotal: 3.9s\tremaining: 1.24s\n",
      "759:\tlearn: 0.4956461\ttotal: 3.9s\tremaining: 1.23s\n",
      "760:\tlearn: 0.4954913\ttotal: 3.9s\tremaining: 1.23s\n",
      "761:\tlearn: 0.4953627\ttotal: 3.91s\tremaining: 1.22s\n",
      "762:\tlearn: 0.4951960\ttotal: 3.91s\tremaining: 1.22s\n",
      "763:\tlearn: 0.4950546\ttotal: 3.92s\tremaining: 1.21s\n",
      "764:\tlearn: 0.4949472\ttotal: 3.92s\tremaining: 1.21s\n",
      "765:\tlearn: 0.4948452\ttotal: 3.93s\tremaining: 1.2s\n",
      "766:\tlearn: 0.4946640\ttotal: 3.93s\tremaining: 1.19s\n",
      "767:\tlearn: 0.4944534\ttotal: 3.93s\tremaining: 1.19s\n",
      "768:\tlearn: 0.4942477\ttotal: 3.94s\tremaining: 1.18s\n",
      "769:\tlearn: 0.4940441\ttotal: 3.94s\tremaining: 1.18s\n",
      "770:\tlearn: 0.4938488\ttotal: 3.94s\tremaining: 1.17s\n",
      "771:\tlearn: 0.4936484\ttotal: 3.95s\tremaining: 1.17s\n",
      "772:\tlearn: 0.4934892\ttotal: 3.95s\tremaining: 1.16s\n",
      "773:\tlearn: 0.4933197\ttotal: 3.96s\tremaining: 1.16s\n",
      "774:\tlearn: 0.4931908\ttotal: 3.96s\tremaining: 1.15s\n",
      "775:\tlearn: 0.4930273\ttotal: 3.96s\tremaining: 1.14s\n",
      "776:\tlearn: 0.4928279\ttotal: 3.97s\tremaining: 1.14s\n",
      "777:\tlearn: 0.4926416\ttotal: 3.97s\tremaining: 1.13s\n",
      "778:\tlearn: 0.4924122\ttotal: 3.98s\tremaining: 1.13s\n",
      "779:\tlearn: 0.4922654\ttotal: 3.98s\tremaining: 1.12s\n",
      "780:\tlearn: 0.4921415\ttotal: 3.98s\tremaining: 1.12s\n",
      "781:\tlearn: 0.4919501\ttotal: 3.99s\tremaining: 1.11s\n",
      "782:\tlearn: 0.4917737\ttotal: 3.99s\tremaining: 1.1s\n",
      "783:\tlearn: 0.4916509\ttotal: 3.99s\tremaining: 1.1s\n",
      "784:\tlearn: 0.4914854\ttotal: 4s\tremaining: 1.09s\n",
      "785:\tlearn: 0.4913093\ttotal: 4s\tremaining: 1.09s\n",
      "786:\tlearn: 0.4911699\ttotal: 4s\tremaining: 1.08s\n",
      "787:\tlearn: 0.4909820\ttotal: 4.01s\tremaining: 1.08s\n",
      "788:\tlearn: 0.4908114\ttotal: 4.01s\tremaining: 1.07s\n",
      "789:\tlearn: 0.4906754\ttotal: 4.02s\tremaining: 1.07s\n",
      "790:\tlearn: 0.4905108\ttotal: 4.02s\tremaining: 1.06s\n",
      "791:\tlearn: 0.4902896\ttotal: 4.02s\tremaining: 1.06s\n",
      "792:\tlearn: 0.4900887\ttotal: 4.03s\tremaining: 1.05s\n",
      "793:\tlearn: 0.4899570\ttotal: 4.03s\tremaining: 1.05s\n",
      "794:\tlearn: 0.4897828\ttotal: 4.04s\tremaining: 1.04s\n",
      "795:\tlearn: 0.4896191\ttotal: 4.04s\tremaining: 1.03s\n",
      "796:\tlearn: 0.4894704\ttotal: 4.04s\tremaining: 1.03s\n",
      "797:\tlearn: 0.4893232\ttotal: 4.05s\tremaining: 1.02s\n",
      "798:\tlearn: 0.4891396\ttotal: 4.05s\tremaining: 1.02s\n",
      "799:\tlearn: 0.4889716\ttotal: 4.05s\tremaining: 1.01s\n",
      "800:\tlearn: 0.4888335\ttotal: 4.06s\tremaining: 1.01s\n",
      "801:\tlearn: 0.4886335\ttotal: 4.06s\tremaining: 1s\n",
      "802:\tlearn: 0.4884205\ttotal: 4.06s\tremaining: 997ms\n",
      "803:\tlearn: 0.4882415\ttotal: 4.07s\tremaining: 992ms\n",
      "804:\tlearn: 0.4880822\ttotal: 4.07s\tremaining: 986ms\n",
      "805:\tlearn: 0.4879500\ttotal: 4.08s\tremaining: 981ms\n",
      "806:\tlearn: 0.4877689\ttotal: 4.08s\tremaining: 976ms\n",
      "807:\tlearn: 0.4876206\ttotal: 4.08s\tremaining: 970ms\n",
      "808:\tlearn: 0.4873889\ttotal: 4.09s\tremaining: 965ms\n",
      "809:\tlearn: 0.4872090\ttotal: 4.09s\tremaining: 960ms\n",
      "810:\tlearn: 0.4870145\ttotal: 4.1s\tremaining: 955ms\n",
      "811:\tlearn: 0.4868254\ttotal: 4.1s\tremaining: 949ms\n",
      "812:\tlearn: 0.4866332\ttotal: 4.1s\tremaining: 944ms\n",
      "813:\tlearn: 0.4865487\ttotal: 4.11s\tremaining: 938ms\n",
      "814:\tlearn: 0.4863623\ttotal: 4.11s\tremaining: 933ms\n",
      "815:\tlearn: 0.4862349\ttotal: 4.11s\tremaining: 928ms\n",
      "816:\tlearn: 0.4861168\ttotal: 4.12s\tremaining: 922ms\n",
      "817:\tlearn: 0.4859248\ttotal: 4.12s\tremaining: 917ms\n",
      "818:\tlearn: 0.4857685\ttotal: 4.13s\tremaining: 912ms\n",
      "819:\tlearn: 0.4856666\ttotal: 4.13s\tremaining: 906ms\n",
      "820:\tlearn: 0.4855083\ttotal: 4.13s\tremaining: 901ms\n",
      "821:\tlearn: 0.4853764\ttotal: 4.14s\tremaining: 896ms\n",
      "822:\tlearn: 0.4852603\ttotal: 4.14s\tremaining: 891ms\n",
      "823:\tlearn: 0.4851612\ttotal: 4.14s\tremaining: 885ms\n",
      "824:\tlearn: 0.4850789\ttotal: 4.15s\tremaining: 880ms\n",
      "825:\tlearn: 0.4849139\ttotal: 4.15s\tremaining: 875ms\n",
      "826:\tlearn: 0.4847580\ttotal: 4.16s\tremaining: 870ms\n",
      "827:\tlearn: 0.4844857\ttotal: 4.16s\tremaining: 864ms\n",
      "828:\tlearn: 0.4843485\ttotal: 4.16s\tremaining: 859ms\n",
      "829:\tlearn: 0.4841593\ttotal: 4.17s\tremaining: 854ms\n",
      "830:\tlearn: 0.4840293\ttotal: 4.17s\tremaining: 848ms\n",
      "831:\tlearn: 0.4838715\ttotal: 4.17s\tremaining: 843ms\n",
      "832:\tlearn: 0.4837342\ttotal: 4.18s\tremaining: 838ms\n",
      "833:\tlearn: 0.4836129\ttotal: 4.18s\tremaining: 833ms\n",
      "834:\tlearn: 0.4834420\ttotal: 4.19s\tremaining: 827ms\n",
      "835:\tlearn: 0.4832400\ttotal: 4.19s\tremaining: 822ms\n",
      "836:\tlearn: 0.4830769\ttotal: 4.19s\tremaining: 817ms\n",
      "837:\tlearn: 0.4828942\ttotal: 4.2s\tremaining: 812ms\n",
      "838:\tlearn: 0.4826855\ttotal: 4.2s\tremaining: 806ms\n",
      "839:\tlearn: 0.4824634\ttotal: 4.21s\tremaining: 801ms\n",
      "840:\tlearn: 0.4823249\ttotal: 4.21s\tremaining: 796ms\n",
      "841:\tlearn: 0.4821541\ttotal: 4.21s\tremaining: 791ms\n",
      "842:\tlearn: 0.4819480\ttotal: 4.22s\tremaining: 785ms\n",
      "843:\tlearn: 0.4818027\ttotal: 4.22s\tremaining: 780ms\n",
      "844:\tlearn: 0.4815839\ttotal: 4.22s\tremaining: 775ms\n",
      "845:\tlearn: 0.4814627\ttotal: 4.23s\tremaining: 770ms\n",
      "846:\tlearn: 0.4812882\ttotal: 4.23s\tremaining: 765ms\n",
      "847:\tlearn: 0.4810565\ttotal: 4.24s\tremaining: 759ms\n",
      "848:\tlearn: 0.4808500\ttotal: 4.24s\tremaining: 754ms\n",
      "849:\tlearn: 0.4807337\ttotal: 4.25s\tremaining: 749ms\n",
      "850:\tlearn: 0.4805032\ttotal: 4.25s\tremaining: 744ms\n",
      "851:\tlearn: 0.4803351\ttotal: 4.25s\tremaining: 739ms\n",
      "852:\tlearn: 0.4801527\ttotal: 4.26s\tremaining: 734ms\n",
      "853:\tlearn: 0.4799310\ttotal: 4.26s\tremaining: 728ms\n",
      "854:\tlearn: 0.4797942\ttotal: 4.26s\tremaining: 723ms\n",
      "855:\tlearn: 0.4796052\ttotal: 4.27s\tremaining: 718ms\n",
      "856:\tlearn: 0.4794712\ttotal: 4.27s\tremaining: 713ms\n",
      "857:\tlearn: 0.4792986\ttotal: 4.28s\tremaining: 708ms\n",
      "858:\tlearn: 0.4791474\ttotal: 4.28s\tremaining: 702ms\n",
      "859:\tlearn: 0.4789675\ttotal: 4.28s\tremaining: 697ms\n",
      "860:\tlearn: 0.4788134\ttotal: 4.29s\tremaining: 692ms\n",
      "861:\tlearn: 0.4787062\ttotal: 4.29s\tremaining: 687ms\n",
      "862:\tlearn: 0.4785847\ttotal: 4.29s\tremaining: 682ms\n",
      "863:\tlearn: 0.4784382\ttotal: 4.3s\tremaining: 677ms\n",
      "864:\tlearn: 0.4782911\ttotal: 4.3s\tremaining: 672ms\n",
      "865:\tlearn: 0.4780460\ttotal: 4.31s\tremaining: 667ms\n",
      "866:\tlearn: 0.4778910\ttotal: 4.31s\tremaining: 662ms\n",
      "867:\tlearn: 0.4777757\ttotal: 4.32s\tremaining: 657ms\n",
      "868:\tlearn: 0.4775786\ttotal: 4.32s\tremaining: 652ms\n",
      "869:\tlearn: 0.4773241\ttotal: 4.33s\tremaining: 646ms\n",
      "870:\tlearn: 0.4771159\ttotal: 4.33s\tremaining: 641ms\n",
      "871:\tlearn: 0.4769618\ttotal: 4.33s\tremaining: 636ms\n",
      "872:\tlearn: 0.4767416\ttotal: 4.34s\tremaining: 631ms\n",
      "873:\tlearn: 0.4766312\ttotal: 4.34s\tremaining: 626ms\n",
      "874:\tlearn: 0.4764405\ttotal: 4.34s\tremaining: 621ms\n",
      "875:\tlearn: 0.4763029\ttotal: 4.35s\tremaining: 616ms\n",
      "876:\tlearn: 0.4761748\ttotal: 4.35s\tremaining: 610ms\n",
      "877:\tlearn: 0.4759922\ttotal: 4.36s\tremaining: 605ms\n",
      "878:\tlearn: 0.4758230\ttotal: 4.36s\tremaining: 600ms\n",
      "879:\tlearn: 0.4756976\ttotal: 4.37s\tremaining: 595ms\n",
      "880:\tlearn: 0.4755273\ttotal: 4.37s\tremaining: 590ms\n",
      "881:\tlearn: 0.4753824\ttotal: 4.37s\tremaining: 585ms\n",
      "882:\tlearn: 0.4752190\ttotal: 4.38s\tremaining: 580ms\n",
      "883:\tlearn: 0.4750808\ttotal: 4.38s\tremaining: 575ms\n",
      "884:\tlearn: 0.4749325\ttotal: 4.38s\tremaining: 570ms\n",
      "885:\tlearn: 0.4746985\ttotal: 4.39s\tremaining: 565ms\n",
      "886:\tlearn: 0.4745591\ttotal: 4.39s\tremaining: 560ms\n",
      "887:\tlearn: 0.4744088\ttotal: 4.4s\tremaining: 555ms\n",
      "888:\tlearn: 0.4742418\ttotal: 4.4s\tremaining: 550ms\n",
      "889:\tlearn: 0.4740469\ttotal: 4.41s\tremaining: 545ms\n",
      "890:\tlearn: 0.4739009\ttotal: 4.41s\tremaining: 540ms\n",
      "891:\tlearn: 0.4737787\ttotal: 4.42s\tremaining: 535ms\n",
      "892:\tlearn: 0.4735850\ttotal: 4.42s\tremaining: 530ms\n",
      "893:\tlearn: 0.4734820\ttotal: 4.43s\tremaining: 525ms\n",
      "894:\tlearn: 0.4733102\ttotal: 4.43s\tremaining: 520ms\n",
      "895:\tlearn: 0.4731642\ttotal: 4.43s\tremaining: 515ms\n",
      "896:\tlearn: 0.4729260\ttotal: 4.44s\tremaining: 510ms\n",
      "897:\tlearn: 0.4727935\ttotal: 4.44s\tremaining: 505ms\n"
     ]
    },
    {
     "name": "stdout",
     "output_type": "stream",
     "text": [
      "898:\tlearn: 0.4726517\ttotal: 4.45s\tremaining: 500ms\n",
      "899:\tlearn: 0.4724570\ttotal: 4.45s\tremaining: 495ms\n",
      "900:\tlearn: 0.4722921\ttotal: 4.46s\tremaining: 490ms\n",
      "901:\tlearn: 0.4721380\ttotal: 4.46s\tremaining: 485ms\n",
      "902:\tlearn: 0.4719824\ttotal: 4.46s\tremaining: 480ms\n",
      "903:\tlearn: 0.4719020\ttotal: 4.47s\tremaining: 475ms\n",
      "904:\tlearn: 0.4717244\ttotal: 4.47s\tremaining: 470ms\n",
      "905:\tlearn: 0.4714987\ttotal: 4.48s\tremaining: 464ms\n",
      "906:\tlearn: 0.4713095\ttotal: 4.48s\tremaining: 459ms\n",
      "907:\tlearn: 0.4711891\ttotal: 4.48s\tremaining: 454ms\n",
      "908:\tlearn: 0.4710338\ttotal: 4.49s\tremaining: 449ms\n",
      "909:\tlearn: 0.4709151\ttotal: 4.49s\tremaining: 444ms\n",
      "910:\tlearn: 0.4707390\ttotal: 4.5s\tremaining: 439ms\n",
      "911:\tlearn: 0.4706387\ttotal: 4.5s\tremaining: 434ms\n",
      "912:\tlearn: 0.4704474\ttotal: 4.5s\tremaining: 429ms\n",
      "913:\tlearn: 0.4703387\ttotal: 4.51s\tremaining: 424ms\n",
      "914:\tlearn: 0.4701144\ttotal: 4.51s\tremaining: 419ms\n",
      "915:\tlearn: 0.4699548\ttotal: 4.51s\tremaining: 414ms\n",
      "916:\tlearn: 0.4697557\ttotal: 4.52s\tremaining: 409ms\n",
      "917:\tlearn: 0.4696435\ttotal: 4.52s\tremaining: 404ms\n",
      "918:\tlearn: 0.4694663\ttotal: 4.52s\tremaining: 399ms\n",
      "919:\tlearn: 0.4692999\ttotal: 4.53s\tremaining: 394ms\n",
      "920:\tlearn: 0.4691956\ttotal: 4.53s\tremaining: 389ms\n",
      "921:\tlearn: 0.4689611\ttotal: 4.54s\tremaining: 384ms\n",
      "922:\tlearn: 0.4687659\ttotal: 4.54s\tremaining: 379ms\n",
      "923:\tlearn: 0.4685817\ttotal: 4.54s\tremaining: 374ms\n",
      "924:\tlearn: 0.4683473\ttotal: 4.54s\tremaining: 369ms\n",
      "925:\tlearn: 0.4681634\ttotal: 4.55s\tremaining: 364ms\n",
      "926:\tlearn: 0.4680154\ttotal: 4.55s\tremaining: 359ms\n",
      "927:\tlearn: 0.4678541\ttotal: 4.56s\tremaining: 354ms\n",
      "928:\tlearn: 0.4677091\ttotal: 4.56s\tremaining: 349ms\n",
      "929:\tlearn: 0.4674781\ttotal: 4.57s\tremaining: 344ms\n",
      "930:\tlearn: 0.4672533\ttotal: 4.57s\tremaining: 339ms\n",
      "931:\tlearn: 0.4671016\ttotal: 4.58s\tremaining: 334ms\n",
      "932:\tlearn: 0.4669996\ttotal: 4.58s\tremaining: 329ms\n",
      "933:\tlearn: 0.4668916\ttotal: 4.58s\tremaining: 324ms\n",
      "934:\tlearn: 0.4667973\ttotal: 4.59s\tremaining: 319ms\n",
      "935:\tlearn: 0.4666377\ttotal: 4.59s\tremaining: 314ms\n",
      "936:\tlearn: 0.4664544\ttotal: 4.6s\tremaining: 309ms\n",
      "937:\tlearn: 0.4662574\ttotal: 4.6s\tremaining: 304ms\n",
      "938:\tlearn: 0.4660649\ttotal: 4.61s\tremaining: 299ms\n",
      "939:\tlearn: 0.4658005\ttotal: 4.61s\tremaining: 294ms\n",
      "940:\tlearn: 0.4656788\ttotal: 4.61s\tremaining: 289ms\n",
      "941:\tlearn: 0.4655591\ttotal: 4.62s\tremaining: 284ms\n",
      "942:\tlearn: 0.4654336\ttotal: 4.62s\tremaining: 279ms\n",
      "943:\tlearn: 0.4653030\ttotal: 4.63s\tremaining: 274ms\n",
      "944:\tlearn: 0.4651352\ttotal: 4.63s\tremaining: 269ms\n",
      "945:\tlearn: 0.4649218\ttotal: 4.63s\tremaining: 264ms\n",
      "946:\tlearn: 0.4647569\ttotal: 4.64s\tremaining: 260ms\n",
      "947:\tlearn: 0.4645925\ttotal: 4.64s\tremaining: 255ms\n",
      "948:\tlearn: 0.4644613\ttotal: 4.64s\tremaining: 250ms\n",
      "949:\tlearn: 0.4643791\ttotal: 4.65s\tremaining: 245ms\n",
      "950:\tlearn: 0.4642712\ttotal: 4.65s\tremaining: 240ms\n",
      "951:\tlearn: 0.4641514\ttotal: 4.66s\tremaining: 235ms\n",
      "952:\tlearn: 0.4640148\ttotal: 4.66s\tremaining: 230ms\n",
      "953:\tlearn: 0.4638663\ttotal: 4.66s\tremaining: 225ms\n",
      "954:\tlearn: 0.4636501\ttotal: 4.67s\tremaining: 220ms\n",
      "955:\tlearn: 0.4634625\ttotal: 4.67s\tremaining: 215ms\n",
      "956:\tlearn: 0.4633498\ttotal: 4.67s\tremaining: 210ms\n",
      "957:\tlearn: 0.4631810\ttotal: 4.68s\tremaining: 205ms\n",
      "958:\tlearn: 0.4630085\ttotal: 4.68s\tremaining: 200ms\n",
      "959:\tlearn: 0.4629107\ttotal: 4.69s\tremaining: 195ms\n",
      "960:\tlearn: 0.4627745\ttotal: 4.69s\tremaining: 190ms\n",
      "961:\tlearn: 0.4625876\ttotal: 4.69s\tremaining: 185ms\n",
      "962:\tlearn: 0.4624065\ttotal: 4.7s\tremaining: 180ms\n",
      "963:\tlearn: 0.4622923\ttotal: 4.7s\tremaining: 176ms\n",
      "964:\tlearn: 0.4621583\ttotal: 4.71s\tremaining: 171ms\n",
      "965:\tlearn: 0.4620291\ttotal: 4.71s\tremaining: 166ms\n",
      "966:\tlearn: 0.4618796\ttotal: 4.71s\tremaining: 161ms\n",
      "967:\tlearn: 0.4617086\ttotal: 4.72s\tremaining: 156ms\n",
      "968:\tlearn: 0.4615834\ttotal: 4.72s\tremaining: 151ms\n",
      "969:\tlearn: 0.4613977\ttotal: 4.72s\tremaining: 146ms\n",
      "970:\tlearn: 0.4612741\ttotal: 4.73s\tremaining: 141ms\n",
      "971:\tlearn: 0.4611576\ttotal: 4.73s\tremaining: 136ms\n",
      "972:\tlearn: 0.4610446\ttotal: 4.74s\tremaining: 131ms\n",
      "973:\tlearn: 0.4608769\ttotal: 4.74s\tremaining: 127ms\n",
      "974:\tlearn: 0.4607639\ttotal: 4.74s\tremaining: 122ms\n",
      "975:\tlearn: 0.4606017\ttotal: 4.75s\tremaining: 117ms\n",
      "976:\tlearn: 0.4604570\ttotal: 4.75s\tremaining: 112ms\n",
      "977:\tlearn: 0.4602953\ttotal: 4.75s\tremaining: 107ms\n",
      "978:\tlearn: 0.4600888\ttotal: 4.76s\tremaining: 102ms\n",
      "979:\tlearn: 0.4599567\ttotal: 4.76s\tremaining: 97.2ms\n",
      "980:\tlearn: 0.4598349\ttotal: 4.77s\tremaining: 92.3ms\n",
      "981:\tlearn: 0.4596909\ttotal: 4.77s\tremaining: 87.4ms\n",
      "982:\tlearn: 0.4595742\ttotal: 4.77s\tremaining: 82.5ms\n",
      "983:\tlearn: 0.4594324\ttotal: 4.78s\tremaining: 77.7ms\n",
      "984:\tlearn: 0.4592411\ttotal: 4.78s\tremaining: 72.8ms\n",
      "985:\tlearn: 0.4590387\ttotal: 4.78s\tremaining: 67.9ms\n",
      "986:\tlearn: 0.4589537\ttotal: 4.79s\tremaining: 63.1ms\n",
      "987:\tlearn: 0.4588290\ttotal: 4.79s\tremaining: 58.2ms\n",
      "988:\tlearn: 0.4587247\ttotal: 4.8s\tremaining: 53.4ms\n",
      "989:\tlearn: 0.4586092\ttotal: 4.8s\tremaining: 48.5ms\n",
      "990:\tlearn: 0.4583968\ttotal: 4.8s\tremaining: 43.6ms\n",
      "991:\tlearn: 0.4582202\ttotal: 4.81s\tremaining: 38.8ms\n",
      "992:\tlearn: 0.4581232\ttotal: 4.81s\tremaining: 33.9ms\n",
      "993:\tlearn: 0.4579309\ttotal: 4.82s\tremaining: 29.1ms\n",
      "994:\tlearn: 0.4577918\ttotal: 4.82s\tremaining: 24.2ms\n",
      "995:\tlearn: 0.4576236\ttotal: 4.83s\tremaining: 19.4ms\n",
      "996:\tlearn: 0.4574956\ttotal: 4.83s\tremaining: 14.5ms\n",
      "997:\tlearn: 0.4573770\ttotal: 4.83s\tremaining: 9.69ms\n",
      "998:\tlearn: 0.4572283\ttotal: 4.84s\tremaining: 4.84ms\n",
      "999:\tlearn: 0.4570849\ttotal: 4.84s\tremaining: 0us\n",
      "              precision    recall  f1-score   support\n",
      "\n",
      "           0       0.64      0.94      0.76      1125\n",
      "           1       0.37      0.06      0.10       628\n",
      "\n",
      "    accuracy                           0.63      1753\n",
      "   macro avg       0.51      0.50      0.43      1753\n",
      "weighted avg       0.54      0.63      0.53      1753\n",
      "\n",
      "Precision: 0.37\n",
      "Accuracy: 0.6269252709640616\n",
      "AUC: 0.5166709129511677\n"
     ]
    },
    {
     "data": {
      "text/plain": [
       "<sklearn.metrics._plot.confusion_matrix.ConfusionMatrixDisplay at 0x1b46fb82310>"
      ]
     },
     "execution_count": 33,
     "metadata": {},
     "output_type": "execute_result"
    },
    {
     "data": {
      "image/png": "[encoded data removed]",
      "text/plain": [
       "<Figure size 432x288 with 2 Axes>"
      ]
     },
     "metadata": {
      "needs_background": "light"
     },
     "output_type": "display_data"
    }
   ],
   "source": [
    "from catboost import CatBoostClassifier\n",
    "cat= CatBoostClassifier(random_state=15)\n",
    "cat.fit(X_train, y_train)\n",
    "y_pred_cat= cat.predict(X_test)\n",
    "y_pred_prob_cat= cat.predict_proba(X_test)[:,1]\n",
    "\n",
    "cm= confusion_matrix(y_test, y_pred_cat, labels= cat.classes_)\n",
    "print(classification_report(y_test, y_pred_cat, zero_division=0))\n",
    "print('Precision:', precision_score(y_test, y_pred_cat, zero_division=0))\n",
    "print('Accuracy:', accuracy_score(y_test, y_pred_cat))\n",
    "print('AUC:', roc_auc_score(y_test, y_pred_prob_cat))\n",
    "dcm_cat= ConfusionMatrixDisplay(cm, display_labels= cat.classes_)\n",
    "dcm_cat.plot()"
   ]
  },
  {
   "cell_type": "code",
   "execution_count": null,
   "id": "dd8d322e",
   "metadata": {},
   "outputs": [],
   "source": []
  },
  {
   "cell_type": "code",
   "execution_count": 34,
   "id": "0af2c970",
   "metadata": {},
   "outputs": [
    {
     "name": "stdout",
     "output_type": "stream",
     "text": [
      "Fitting 5 folds for each of 36 candidates, totalling 180 fits\n",
      "0:\tlearn: 0.6848224\ttotal: 4.95ms\tremaining: 243ms\n",
      "1:\tlearn: 0.6781049\ttotal: 8.14ms\tremaining: 195ms\n",
      "2:\tlearn: 0.6726203\ttotal: 11.7ms\tremaining: 183ms\n",
      "3:\tlearn: 0.6681094\ttotal: 15.5ms\tremaining: 178ms\n",
      "4:\tlearn: 0.6644032\ttotal: 18.8ms\tremaining: 170ms\n",
      "5:\tlearn: 0.6614717\ttotal: 21.9ms\tremaining: 160ms\n",
      "6:\tlearn: 0.6588348\ttotal: 25.1ms\tremaining: 154ms\n",
      "7:\tlearn: 0.6566663\ttotal: 30.9ms\tremaining: 162ms\n",
      "8:\tlearn: 0.6545584\ttotal: 34.3ms\tremaining: 156ms\n",
      "9:\tlearn: 0.6528075\ttotal: 37.4ms\tremaining: 150ms\n",
      "10:\tlearn: 0.6511949\ttotal: 40.6ms\tremaining: 144ms\n",
      "11:\tlearn: 0.6498349\ttotal: 44.8ms\tremaining: 142ms\n",
      "12:\tlearn: 0.6488716\ttotal: 48.4ms\tremaining: 138ms\n",
      "13:\tlearn: 0.6478009\ttotal: 51.6ms\tremaining: 133ms\n",
      "14:\tlearn: 0.6467746\ttotal: 54.9ms\tremaining: 128ms\n",
      "15:\tlearn: 0.6455340\ttotal: 58.5ms\tremaining: 124ms\n",
      "16:\tlearn: 0.6448354\ttotal: 61.7ms\tremaining: 120ms\n",
      "17:\tlearn: 0.6439034\ttotal: 64.8ms\tremaining: 115ms\n",
      "18:\tlearn: 0.6433683\ttotal: 67.8ms\tremaining: 111ms\n",
      "19:\tlearn: 0.6427513\ttotal: 70.8ms\tremaining: 106ms\n",
      "20:\tlearn: 0.6420500\ttotal: 74.2ms\tremaining: 102ms\n",
      "21:\tlearn: 0.6413917\ttotal: 77.6ms\tremaining: 98.8ms\n",
      "22:\tlearn: 0.6407772\ttotal: 80.6ms\tremaining: 94.6ms\n",
      "23:\tlearn: 0.6398793\ttotal: 83.5ms\tremaining: 90.4ms\n",
      "24:\tlearn: 0.6393208\ttotal: 86.2ms\tremaining: 86.2ms\n",
      "25:\tlearn: 0.6390001\ttotal: 91.1ms\tremaining: 84.1ms\n",
      "26:\tlearn: 0.6384078\ttotal: 94ms\tremaining: 80.1ms\n",
      "27:\tlearn: 0.6376363\ttotal: 96.8ms\tremaining: 76ms\n",
      "28:\tlearn: 0.6368472\ttotal: 99.7ms\tremaining: 72.2ms\n",
      "29:\tlearn: 0.6362703\ttotal: 103ms\tremaining: 68.6ms\n",
      "30:\tlearn: 0.6356674\ttotal: 107ms\tremaining: 65.6ms\n",
      "31:\tlearn: 0.6350880\ttotal: 111ms\tremaining: 62.4ms\n",
      "32:\tlearn: 0.6344210\ttotal: 114ms\tremaining: 58.9ms\n",
      "33:\tlearn: 0.6337305\ttotal: 118ms\tremaining: 55.5ms\n",
      "34:\tlearn: 0.6332754\ttotal: 122ms\tremaining: 52.4ms\n",
      "35:\tlearn: 0.6328580\ttotal: 126ms\tremaining: 48.9ms\n",
      "36:\tlearn: 0.6321848\ttotal: 129ms\tremaining: 45.5ms\n",
      "37:\tlearn: 0.6315580\ttotal: 133ms\tremaining: 42ms\n",
      "38:\tlearn: 0.6312510\ttotal: 138ms\tremaining: 38.8ms\n",
      "39:\tlearn: 0.6308669\ttotal: 141ms\tremaining: 35.3ms\n",
      "40:\tlearn: 0.6301252\ttotal: 144ms\tremaining: 31.7ms\n",
      "41:\tlearn: 0.6298510\ttotal: 148ms\tremaining: 28.2ms\n",
      "42:\tlearn: 0.6291468\ttotal: 152ms\tremaining: 24.8ms\n",
      "43:\tlearn: 0.6287029\ttotal: 155ms\tremaining: 21.2ms\n",
      "44:\tlearn: 0.6281158\ttotal: 159ms\tremaining: 17.7ms\n",
      "45:\tlearn: 0.6273084\ttotal: 162ms\tremaining: 14.1ms\n",
      "46:\tlearn: 0.6267653\ttotal: 165ms\tremaining: 10.6ms\n",
      "47:\tlearn: 0.6262114\ttotal: 169ms\tremaining: 7.02ms\n",
      "48:\tlearn: 0.6256724\ttotal: 172ms\tremaining: 3.52ms\n",
      "49:\tlearn: 0.6250599\ttotal: 175ms\tremaining: 0us\n",
      "Best Parameters: {'depth': 5, 'iterations': 50, 'learning_rate': 0.1}\n",
      "Best Precision Score: 0.5\n",
      "              precision    recall  f1-score   support\n",
      "\n",
      "           0       0.64      1.00      0.78      1125\n",
      "           1       1.00      0.00      0.00       628\n",
      "\n",
      "    accuracy                           0.64      1753\n",
      "   macro avg       0.82      0.50      0.39      1753\n",
      "weighted avg       0.77      0.64      0.50      1753\n",
      "\n",
      "Precision: 1.0\n",
      "Accuracy: 0.6423274386765545\n",
      "AUC: 0.5058811040339702\n"
     ]
    },
    {
     "data": {
      "text/plain": [
       "<sklearn.metrics._plot.confusion_matrix.ConfusionMatrixDisplay at 0x1b4512cbe20>"
      ]
     },
     "execution_count": 34,
     "metadata": {},
     "output_type": "execute_result"
    },
    {
     "data": {
      "image/png": "[encoded data removed]",
      "text/plain": [
       "<Figure size 432x288 with 2 Axes>"
      ]
     },
     "metadata": {
      "needs_background": "light"
     },
     "output_type": "display_data"
    }
   ],
   "source": [
    "params_CatBoost= {\n",
    "                  'depth': [3,5,10],\n",
    "                  'learning_rate' : [0.01,0.1,1],\n",
    "                  'iterations' : [5,10,50,100]\n",
    "                 }\n",
    "\n",
    "gs_cat= GridSearchCV(estimator= cat, param_grid= params_CatBoost, cv=5, scoring='precision', n_jobs=-1, verbose=2)\n",
    "gs_cat.fit(X_train, y_train)\n",
    "\n",
    "print(\"Best Parameters:\", gs_cat.best_params_)\n",
    "print(\"Best Precision Score:\", gs_cat.best_score_)\n",
    "\n",
    "tuned_cat= gs_cat.best_estimator_\n",
    "y_pred_tuned_cat= tuned_cat.predict(X_test)\n",
    "y_pred_prob_tuned_cat= tuned_cat.predict_proba(X_test)[:,1]\n",
    "\n",
    "cm= confusion_matrix(y_test, y_pred_tuned_cat, labels= tuned_cat.classes_)\n",
    "print(classification_report(y_test, y_pred_tuned_cat, zero_division=0))\n",
    "print('Precision:', precision_score(y_test, y_pred_tuned_cat, zero_division=0))\n",
    "print('Accuracy:', accuracy_score(y_test, y_pred_tuned_cat))\n",
    "print('AUC:', roc_auc_score(y_test, y_pred_prob_tuned_cat))\n",
    "dcm_tuned_cat= ConfusionMatrixDisplay(cm, display_labels= tuned_cat.classes_)\n",
    "dcm_tuned_cat.plot()"
   ]
  },
  {
   "cell_type": "code",
   "execution_count": null,
   "id": "44677a1f",
   "metadata": {},
   "outputs": [],
   "source": []
  },
  {
   "cell_type": "code",
   "execution_count": 35,
   "id": "35fd0e92",
   "metadata": {},
   "outputs": [
    {
     "data": {
      "text/html": [
       "<style type=\"text/css\">\n",
       "#T_7844a_row8_col1 {\n",
       "  background-color: lightgreen;\n",
       "}\n",
       "</style>\n",
       "<table id=\"T_7844a\">\n",
       "  <thead>\n",
       "    <tr>\n",
       "      <th class=\"blank level0\" >&nbsp;</th>\n",
       "      <th id=\"T_7844a_level0_col0\" class=\"col_heading level0 col0\" >Description</th>\n",
       "      <th id=\"T_7844a_level0_col1\" class=\"col_heading level0 col1\" >Value</th>\n",
       "    </tr>\n",
       "  </thead>\n",
       "  <tbody>\n",
       "    <tr>\n",
       "      <th id=\"T_7844a_level0_row0\" class=\"row_heading level0 row0\" >0</th>\n",
       "      <td id=\"T_7844a_row0_col0\" class=\"data row0 col0\" >Session id</td>\n",
       "      <td id=\"T_7844a_row0_col1\" class=\"data row0 col1\" >2636</td>\n",
       "    </tr>\n",
       "    <tr>\n",
       "      <th id=\"T_7844a_level0_row1\" class=\"row_heading level0 row1\" >1</th>\n",
       "      <td id=\"T_7844a_row1_col0\" class=\"data row1 col0\" >Target</td>\n",
       "      <td id=\"T_7844a_row1_col1\" class=\"data row1 col1\" >Heart Attack Risk_1</td>\n",
       "    </tr>\n",
       "    <tr>\n",
       "      <th id=\"T_7844a_level0_row2\" class=\"row_heading level0 row2\" >2</th>\n",
       "      <td id=\"T_7844a_row2_col0\" class=\"data row2 col0\" >Target type</td>\n",
       "      <td id=\"T_7844a_row2_col1\" class=\"data row2 col1\" >Binary</td>\n",
       "    </tr>\n",
       "    <tr>\n",
       "      <th id=\"T_7844a_level0_row3\" class=\"row_heading level0 row3\" >3</th>\n",
       "      <td id=\"T_7844a_row3_col0\" class=\"data row3 col0\" >Original data shape</td>\n",
       "      <td id=\"T_7844a_row3_col1\" class=\"data row3 col1\" >(8763, 24)</td>\n",
       "    </tr>\n",
       "    <tr>\n",
       "      <th id=\"T_7844a_level0_row4\" class=\"row_heading level0 row4\" >4</th>\n",
       "      <td id=\"T_7844a_row4_col0\" class=\"data row4 col0\" >Transformed data shape</td>\n",
       "      <td id=\"T_7844a_row4_col1\" class=\"data row4 col1\" >(8763, 24)</td>\n",
       "    </tr>\n",
       "    <tr>\n",
       "      <th id=\"T_7844a_level0_row5\" class=\"row_heading level0 row5\" >5</th>\n",
       "      <td id=\"T_7844a_row5_col0\" class=\"data row5 col0\" >Transformed train set shape</td>\n",
       "      <td id=\"T_7844a_row5_col1\" class=\"data row5 col1\" >(6134, 24)</td>\n",
       "    </tr>\n",
       "    <tr>\n",
       "      <th id=\"T_7844a_level0_row6\" class=\"row_heading level0 row6\" >6</th>\n",
       "      <td id=\"T_7844a_row6_col0\" class=\"data row6 col0\" >Transformed test set shape</td>\n",
       "      <td id=\"T_7844a_row6_col1\" class=\"data row6 col1\" >(2629, 24)</td>\n",
       "    </tr>\n",
       "    <tr>\n",
       "      <th id=\"T_7844a_level0_row7\" class=\"row_heading level0 row7\" >7</th>\n",
       "      <td id=\"T_7844a_row7_col0\" class=\"data row7 col0\" >Numeric features</td>\n",
       "      <td id=\"T_7844a_row7_col1\" class=\"data row7 col1\" >23</td>\n",
       "    </tr>\n",
       "    <tr>\n",
       "      <th id=\"T_7844a_level0_row8\" class=\"row_heading level0 row8\" >8</th>\n",
       "      <td id=\"T_7844a_row8_col0\" class=\"data row8 col0\" >Preprocess</td>\n",
       "      <td id=\"T_7844a_row8_col1\" class=\"data row8 col1\" >True</td>\n",
       "    </tr>\n",
       "    <tr>\n",
       "      <th id=\"T_7844a_level0_row9\" class=\"row_heading level0 row9\" >9</th>\n",
       "      <td id=\"T_7844a_row9_col0\" class=\"data row9 col0\" >Imputation type</td>\n",
       "      <td id=\"T_7844a_row9_col1\" class=\"data row9 col1\" >simple</td>\n",
       "    </tr>\n",
       "    <tr>\n",
       "      <th id=\"T_7844a_level0_row10\" class=\"row_heading level0 row10\" >10</th>\n",
       "      <td id=\"T_7844a_row10_col0\" class=\"data row10 col0\" >Numeric imputation</td>\n",
       "      <td id=\"T_7844a_row10_col1\" class=\"data row10 col1\" >mean</td>\n",
       "    </tr>\n",
       "    <tr>\n",
       "      <th id=\"T_7844a_level0_row11\" class=\"row_heading level0 row11\" >11</th>\n",
       "      <td id=\"T_7844a_row11_col0\" class=\"data row11 col0\" >Categorical imputation</td>\n",
       "      <td id=\"T_7844a_row11_col1\" class=\"data row11 col1\" >mode</td>\n",
       "    </tr>\n",
       "    <tr>\n",
       "      <th id=\"T_7844a_level0_row12\" class=\"row_heading level0 row12\" >12</th>\n",
       "      <td id=\"T_7844a_row12_col0\" class=\"data row12 col0\" >Fold Generator</td>\n",
       "      <td id=\"T_7844a_row12_col1\" class=\"data row12 col1\" >StratifiedKFold</td>\n",
       "    </tr>\n",
       "    <tr>\n",
       "      <th id=\"T_7844a_level0_row13\" class=\"row_heading level0 row13\" >13</th>\n",
       "      <td id=\"T_7844a_row13_col0\" class=\"data row13 col0\" >Fold Number</td>\n",
       "      <td id=\"T_7844a_row13_col1\" class=\"data row13 col1\" >10</td>\n",
       "    </tr>\n",
       "    <tr>\n",
       "      <th id=\"T_7844a_level0_row14\" class=\"row_heading level0 row14\" >14</th>\n",
       "      <td id=\"T_7844a_row14_col0\" class=\"data row14 col0\" >CPU Jobs</td>\n",
       "      <td id=\"T_7844a_row14_col1\" class=\"data row14 col1\" >-1</td>\n",
       "    </tr>\n",
       "    <tr>\n",
       "      <th id=\"T_7844a_level0_row15\" class=\"row_heading level0 row15\" >15</th>\n",
       "      <td id=\"T_7844a_row15_col0\" class=\"data row15 col0\" >Use GPU</td>\n",
       "      <td id=\"T_7844a_row15_col1\" class=\"data row15 col1\" >False</td>\n",
       "    </tr>\n",
       "    <tr>\n",
       "      <th id=\"T_7844a_level0_row16\" class=\"row_heading level0 row16\" >16</th>\n",
       "      <td id=\"T_7844a_row16_col0\" class=\"data row16 col0\" >Log Experiment</td>\n",
       "      <td id=\"T_7844a_row16_col1\" class=\"data row16 col1\" >False</td>\n",
       "    </tr>\n",
       "    <tr>\n",
       "      <th id=\"T_7844a_level0_row17\" class=\"row_heading level0 row17\" >17</th>\n",
       "      <td id=\"T_7844a_row17_col0\" class=\"data row17 col0\" >Experiment Name</td>\n",
       "      <td id=\"T_7844a_row17_col1\" class=\"data row17 col1\" >clf-default-name</td>\n",
       "    </tr>\n",
       "    <tr>\n",
       "      <th id=\"T_7844a_level0_row18\" class=\"row_heading level0 row18\" >18</th>\n",
       "      <td id=\"T_7844a_row18_col0\" class=\"data row18 col0\" >USI</td>\n",
       "      <td id=\"T_7844a_row18_col1\" class=\"data row18 col1\" >a74d</td>\n",
       "    </tr>\n",
       "  </tbody>\n",
       "</table>\n"
      ],
      "text/plain": [
       "<pandas.io.formats.style.Styler at 0x1b471371cd0>"
      ]
     },
     "metadata": {},
     "output_type": "display_data"
    }
   ],
   "source": [
    "from pycaret.classification import *\n",
    "s= setup(df, target = 'Heart Attack Risk_1')"
   ]
  },
  {
   "cell_type": "code",
   "execution_count": 36,
   "id": "4c0ca890",
   "metadata": {},
   "outputs": [
    {
     "data": {
      "text/html": [],
      "text/plain": [
       "<IPython.core.display.HTML object>"
      ]
     },
     "metadata": {},
     "output_type": "display_data"
    },
    {
     "data": {
      "text/html": [
       "<style type=\"text/css\">\n",
       "#T_ad8d0 th {\n",
       "  text-align: left;\n",
       "}\n",
       "#T_ad8d0_row0_col0, #T_ad8d0_row0_col1, #T_ad8d0_row0_col2, #T_ad8d0_row0_col3, #T_ad8d0_row0_col5, #T_ad8d0_row0_col6, #T_ad8d0_row0_col7, #T_ad8d0_row1_col0, #T_ad8d0_row1_col1, #T_ad8d0_row1_col2, #T_ad8d0_row1_col3, #T_ad8d0_row1_col4, #T_ad8d0_row1_col5, #T_ad8d0_row2_col0, #T_ad8d0_row2_col1, #T_ad8d0_row2_col2, #T_ad8d0_row2_col3, #T_ad8d0_row2_col4, #T_ad8d0_row2_col5, #T_ad8d0_row2_col6, #T_ad8d0_row2_col7, #T_ad8d0_row3_col0, #T_ad8d0_row3_col1, #T_ad8d0_row3_col2, #T_ad8d0_row3_col3, #T_ad8d0_row3_col4, #T_ad8d0_row3_col5, #T_ad8d0_row3_col6, #T_ad8d0_row3_col7, #T_ad8d0_row4_col0, #T_ad8d0_row4_col1, #T_ad8d0_row4_col2, #T_ad8d0_row4_col3, #T_ad8d0_row4_col4, #T_ad8d0_row4_col5, #T_ad8d0_row4_col6, #T_ad8d0_row4_col7, #T_ad8d0_row5_col0, #T_ad8d0_row5_col1, #T_ad8d0_row5_col2, #T_ad8d0_row5_col4, #T_ad8d0_row5_col6, #T_ad8d0_row5_col7, #T_ad8d0_row6_col0, #T_ad8d0_row6_col1, #T_ad8d0_row6_col2, #T_ad8d0_row6_col3, #T_ad8d0_row6_col4, #T_ad8d0_row6_col5, #T_ad8d0_row6_col6, #T_ad8d0_row6_col7, #T_ad8d0_row7_col0, #T_ad8d0_row7_col1, #T_ad8d0_row7_col2, #T_ad8d0_row7_col3, #T_ad8d0_row7_col4, #T_ad8d0_row7_col5, #T_ad8d0_row7_col6, #T_ad8d0_row7_col7, #T_ad8d0_row8_col0, #T_ad8d0_row8_col1, #T_ad8d0_row8_col2, #T_ad8d0_row8_col3, #T_ad8d0_row8_col4, #T_ad8d0_row8_col5, #T_ad8d0_row8_col6, #T_ad8d0_row8_col7, #T_ad8d0_row9_col0, #T_ad8d0_row9_col1, #T_ad8d0_row9_col2, #T_ad8d0_row9_col3, #T_ad8d0_row9_col4, #T_ad8d0_row9_col5, #T_ad8d0_row9_col6, #T_ad8d0_row9_col7, #T_ad8d0_row10_col0, #T_ad8d0_row10_col1, #T_ad8d0_row10_col2, #T_ad8d0_row10_col3, #T_ad8d0_row10_col4, #T_ad8d0_row10_col5, #T_ad8d0_row10_col6, #T_ad8d0_row10_col7, #T_ad8d0_row11_col0, #T_ad8d0_row11_col2, #T_ad8d0_row11_col3, #T_ad8d0_row11_col4, #T_ad8d0_row11_col5, #T_ad8d0_row11_col6, #T_ad8d0_row11_col7, #T_ad8d0_row12_col0, #T_ad8d0_row12_col3, #T_ad8d0_row12_col4, #T_ad8d0_row12_col5, #T_ad8d0_row12_col6, #T_ad8d0_row12_col7, #T_ad8d0_row13_col0, #T_ad8d0_row13_col2, #T_ad8d0_row13_col3, #T_ad8d0_row13_col4, #T_ad8d0_row13_col5, #T_ad8d0_row13_col6, #T_ad8d0_row13_col7, #T_ad8d0_row14_col0, #T_ad8d0_row14_col2, #T_ad8d0_row14_col3, #T_ad8d0_row14_col4, #T_ad8d0_row14_col5, #T_ad8d0_row14_col6, #T_ad8d0_row14_col7, #T_ad8d0_row15_col0, #T_ad8d0_row15_col2, #T_ad8d0_row15_col3, #T_ad8d0_row15_col4, #T_ad8d0_row15_col5, #T_ad8d0_row15_col6, #T_ad8d0_row15_col7 {\n",
       "  text-align: left;\n",
       "}\n",
       "#T_ad8d0_row0_col4, #T_ad8d0_row1_col6, #T_ad8d0_row1_col7, #T_ad8d0_row5_col3, #T_ad8d0_row5_col5, #T_ad8d0_row11_col1, #T_ad8d0_row12_col1, #T_ad8d0_row12_col2, #T_ad8d0_row13_col1, #T_ad8d0_row14_col1, #T_ad8d0_row15_col1 {\n",
       "  text-align: left;\n",
       "  background-color: yellow;\n",
       "}\n",
       "#T_ad8d0_row0_col8, #T_ad8d0_row1_col8, #T_ad8d0_row2_col8, #T_ad8d0_row3_col8, #T_ad8d0_row4_col8, #T_ad8d0_row5_col8, #T_ad8d0_row6_col8, #T_ad8d0_row7_col8, #T_ad8d0_row8_col8, #T_ad8d0_row9_col8, #T_ad8d0_row10_col8, #T_ad8d0_row11_col8, #T_ad8d0_row12_col8, #T_ad8d0_row13_col8, #T_ad8d0_row14_col8 {\n",
       "  text-align: left;\n",
       "  background-color: lightgrey;\n",
       "}\n",
       "#T_ad8d0_row15_col8 {\n",
       "  text-align: left;\n",
       "  background-color: yellow;\n",
       "  background-color: lightgrey;\n",
       "}\n",
       "</style>\n",
       "<table id=\"T_ad8d0\">\n",
       "  <thead>\n",
       "    <tr>\n",
       "      <th class=\"blank level0\" >&nbsp;</th>\n",
       "      <th id=\"T_ad8d0_level0_col0\" class=\"col_heading level0 col0\" >Model</th>\n",
       "      <th id=\"T_ad8d0_level0_col1\" class=\"col_heading level0 col1\" >Accuracy</th>\n",
       "      <th id=\"T_ad8d0_level0_col2\" class=\"col_heading level0 col2\" >AUC</th>\n",
       "      <th id=\"T_ad8d0_level0_col3\" class=\"col_heading level0 col3\" >Recall</th>\n",
       "      <th id=\"T_ad8d0_level0_col4\" class=\"col_heading level0 col4\" >Prec.</th>\n",
       "      <th id=\"T_ad8d0_level0_col5\" class=\"col_heading level0 col5\" >F1</th>\n",
       "      <th id=\"T_ad8d0_level0_col6\" class=\"col_heading level0 col6\" >Kappa</th>\n",
       "      <th id=\"T_ad8d0_level0_col7\" class=\"col_heading level0 col7\" >MCC</th>\n",
       "      <th id=\"T_ad8d0_level0_col8\" class=\"col_heading level0 col8\" >TT (Sec)</th>\n",
       "    </tr>\n",
       "  </thead>\n",
       "  <tbody>\n",
       "    <tr>\n",
       "      <th id=\"T_ad8d0_level0_row0\" class=\"row_heading level0 row0\" >ada</th>\n",
       "      <td id=\"T_ad8d0_row0_col0\" class=\"data row0 col0\" >Ada Boost Classifier</td>\n",
       "      <td id=\"T_ad8d0_row0_col1\" class=\"data row0 col1\" >0.6373</td>\n",
       "      <td id=\"T_ad8d0_row0_col2\" class=\"data row0 col2\" >0.5079</td>\n",
       "      <td id=\"T_ad8d0_row0_col3\" class=\"data row0 col3\" >0.0241</td>\n",
       "      <td id=\"T_ad8d0_row0_col4\" class=\"data row0 col4\" >0.4030</td>\n",
       "      <td id=\"T_ad8d0_row0_col5\" class=\"data row0 col5\" >0.0453</td>\n",
       "      <td id=\"T_ad8d0_row0_col6\" class=\"data row0 col6\" >0.0045</td>\n",
       "      <td id=\"T_ad8d0_row0_col7\" class=\"data row0 col7\" >0.0126</td>\n",
       "      <td id=\"T_ad8d0_row0_col8\" class=\"data row0 col8\" >0.1800</td>\n",
       "    </tr>\n",
       "    <tr>\n",
       "      <th id=\"T_ad8d0_level0_row1\" class=\"row_heading level0 row1\" >lightgbm</th>\n",
       "      <td id=\"T_ad8d0_row1_col0\" class=\"data row1 col0\" >Light Gradient Boosting Machine</td>\n",
       "      <td id=\"T_ad8d0_row1_col1\" class=\"data row1 col1\" >0.6200</td>\n",
       "      <td id=\"T_ad8d0_row1_col2\" class=\"data row1 col2\" >0.4963</td>\n",
       "      <td id=\"T_ad8d0_row1_col3\" class=\"data row1 col3\" >0.1020</td>\n",
       "      <td id=\"T_ad8d0_row1_col4\" class=\"data row1 col4\" >0.3836</td>\n",
       "      <td id=\"T_ad8d0_row1_col5\" class=\"data row1 col5\" >0.1610</td>\n",
       "      <td id=\"T_ad8d0_row1_col6\" class=\"data row1 col6\" >0.0131</td>\n",
       "      <td id=\"T_ad8d0_row1_col7\" class=\"data row1 col7\" >0.0176</td>\n",
       "      <td id=\"T_ad8d0_row1_col8\" class=\"data row1 col8\" >0.1180</td>\n",
       "    </tr>\n",
       "    <tr>\n",
       "      <th id=\"T_ad8d0_level0_row2\" class=\"row_heading level0 row2\" >xgboost</th>\n",
       "      <td id=\"T_ad8d0_row2_col0\" class=\"data row2 col0\" >Extreme Gradient Boosting</td>\n",
       "      <td id=\"T_ad8d0_row2_col1\" class=\"data row2 col1\" >0.5854</td>\n",
       "      <td id=\"T_ad8d0_row2_col2\" class=\"data row2 col2\" >0.4982</td>\n",
       "      <td id=\"T_ad8d0_row2_col3\" class=\"data row2 col3\" >0.2007</td>\n",
       "      <td id=\"T_ad8d0_row2_col4\" class=\"data row2 col4\" >0.3596</td>\n",
       "      <td id=\"T_ad8d0_row2_col5\" class=\"data row2 col5\" >0.2574</td>\n",
       "      <td id=\"T_ad8d0_row2_col6\" class=\"data row2 col6\" >0.0010</td>\n",
       "      <td id=\"T_ad8d0_row2_col7\" class=\"data row2 col7\" >0.0012</td>\n",
       "      <td id=\"T_ad8d0_row2_col8\" class=\"data row2 col8\" >0.0900</td>\n",
       "    </tr>\n",
       "    <tr>\n",
       "      <th id=\"T_ad8d0_level0_row3\" class=\"row_heading level0 row3\" >qda</th>\n",
       "      <td id=\"T_ad8d0_row3_col0\" class=\"data row3 col0\" >Quadratic Discriminant Analysis</td>\n",
       "      <td id=\"T_ad8d0_row3_col1\" class=\"data row3 col1\" >0.6157</td>\n",
       "      <td id=\"T_ad8d0_row3_col2\" class=\"data row3 col2\" >0.4971</td>\n",
       "      <td id=\"T_ad8d0_row3_col3\" class=\"data row3 col3\" >0.0915</td>\n",
       "      <td id=\"T_ad8d0_row3_col4\" class=\"data row3 col4\" >0.3585</td>\n",
       "      <td id=\"T_ad8d0_row3_col5\" class=\"data row3 col5\" >0.1454</td>\n",
       "      <td id=\"T_ad8d0_row3_col6\" class=\"data row3 col6\" >-0.0002</td>\n",
       "      <td id=\"T_ad8d0_row3_col7\" class=\"data row3 col7\" >-0.0001</td>\n",
       "      <td id=\"T_ad8d0_row3_col8\" class=\"data row3 col8\" >0.0180</td>\n",
       "    </tr>\n",
       "    <tr>\n",
       "      <th id=\"T_ad8d0_level0_row4\" class=\"row_heading level0 row4\" >knn</th>\n",
       "      <td id=\"T_ad8d0_row4_col0\" class=\"data row4 col0\" >K Neighbors Classifier</td>\n",
       "      <td id=\"T_ad8d0_row4_col1\" class=\"data row4 col1\" >0.5703</td>\n",
       "      <td id=\"T_ad8d0_row4_col2\" class=\"data row4 col2\" >0.4944</td>\n",
       "      <td id=\"T_ad8d0_row4_col3\" class=\"data row4 col3\" >0.2453</td>\n",
       "      <td id=\"T_ad8d0_row4_col4\" class=\"data row4 col4\" >0.3571</td>\n",
       "      <td id=\"T_ad8d0_row4_col5\" class=\"data row4 col5\" >0.2901</td>\n",
       "      <td id=\"T_ad8d0_row4_col6\" class=\"data row4 col6\" >-0.0030</td>\n",
       "      <td id=\"T_ad8d0_row4_col7\" class=\"data row4 col7\" >-0.0027</td>\n",
       "      <td id=\"T_ad8d0_row4_col8\" class=\"data row4 col8\" >0.0770</td>\n",
       "    </tr>\n",
       "    <tr>\n",
       "      <th id=\"T_ad8d0_level0_row5\" class=\"row_heading level0 row5\" >dt</th>\n",
       "      <td id=\"T_ad8d0_row5_col0\" class=\"data row5 col0\" >Decision Tree Classifier</td>\n",
       "      <td id=\"T_ad8d0_row5_col1\" class=\"data row5 col1\" >0.5316</td>\n",
       "      <td id=\"T_ad8d0_row5_col2\" class=\"data row5 col2\" >0.4935</td>\n",
       "      <td id=\"T_ad8d0_row5_col3\" class=\"data row5 col3\" >0.3591</td>\n",
       "      <td id=\"T_ad8d0_row5_col4\" class=\"data row5 col4\" >0.3505</td>\n",
       "      <td id=\"T_ad8d0_row5_col5\" class=\"data row5 col5\" >0.3545</td>\n",
       "      <td id=\"T_ad8d0_row5_col6\" class=\"data row5 col6\" >-0.0127</td>\n",
       "      <td id=\"T_ad8d0_row5_col7\" class=\"data row5 col7\" >-0.0128</td>\n",
       "      <td id=\"T_ad8d0_row5_col8\" class=\"data row5 col8\" >0.0340</td>\n",
       "    </tr>\n",
       "    <tr>\n",
       "      <th id=\"T_ad8d0_level0_row6\" class=\"row_heading level0 row6\" >et</th>\n",
       "      <td id=\"T_ad8d0_row6_col0\" class=\"data row6 col0\" >Extra Trees Classifier</td>\n",
       "      <td id=\"T_ad8d0_row6_col1\" class=\"data row6 col1\" >0.6338</td>\n",
       "      <td id=\"T_ad8d0_row6_col2\" class=\"data row6 col2\" >0.4988</td>\n",
       "      <td id=\"T_ad8d0_row6_col3\" class=\"data row6 col3\" >0.0255</td>\n",
       "      <td id=\"T_ad8d0_row6_col4\" class=\"data row6 col4\" >0.3501</td>\n",
       "      <td id=\"T_ad8d0_row6_col5\" class=\"data row6 col5\" >0.0474</td>\n",
       "      <td id=\"T_ad8d0_row6_col6\" class=\"data row6 col6\" >-0.0015</td>\n",
       "      <td id=\"T_ad8d0_row6_col7\" class=\"data row6 col7\" >-0.0029</td>\n",
       "      <td id=\"T_ad8d0_row6_col8\" class=\"data row6 col8\" >0.2380</td>\n",
       "    </tr>\n",
       "    <tr>\n",
       "      <th id=\"T_ad8d0_level0_row7\" class=\"row_heading level0 row7\" >catboost</th>\n",
       "      <td id=\"T_ad8d0_row7_col0\" class=\"data row7 col0\" >CatBoost Classifier</td>\n",
       "      <td id=\"T_ad8d0_row7_col1\" class=\"data row7 col1\" >0.6257</td>\n",
       "      <td id=\"T_ad8d0_row7_col2\" class=\"data row7 col2\" >0.5010</td>\n",
       "      <td id=\"T_ad8d0_row7_col3\" class=\"data row7 col3\" >0.0492</td>\n",
       "      <td id=\"T_ad8d0_row7_col4\" class=\"data row7 col4\" >0.3430</td>\n",
       "      <td id=\"T_ad8d0_row7_col5\" class=\"data row7 col5\" >0.0858</td>\n",
       "      <td id=\"T_ad8d0_row7_col6\" class=\"data row7 col6\" >-0.0042</td>\n",
       "      <td id=\"T_ad8d0_row7_col7\" class=\"data row7 col7\" >-0.0074</td>\n",
       "      <td id=\"T_ad8d0_row7_col8\" class=\"data row7 col8\" >1.8230</td>\n",
       "    </tr>\n",
       "    <tr>\n",
       "      <th id=\"T_ad8d0_level0_row8\" class=\"row_heading level0 row8\" >gbc</th>\n",
       "      <td id=\"T_ad8d0_row8_col0\" class=\"data row8 col0\" >Gradient Boosting Classifier</td>\n",
       "      <td id=\"T_ad8d0_row8_col1\" class=\"data row8 col1\" >0.6351</td>\n",
       "      <td id=\"T_ad8d0_row8_col2\" class=\"data row8 col2\" >0.4967</td>\n",
       "      <td id=\"T_ad8d0_row8_col3\" class=\"data row8 col3\" >0.0173</td>\n",
       "      <td id=\"T_ad8d0_row8_col4\" class=\"data row8 col4\" >0.3320</td>\n",
       "      <td id=\"T_ad8d0_row8_col5\" class=\"data row8 col5\" >0.0327</td>\n",
       "      <td id=\"T_ad8d0_row8_col6\" class=\"data row8 col6\" >-0.0035</td>\n",
       "      <td id=\"T_ad8d0_row8_col7\" class=\"data row8 col7\" >-0.0089</td>\n",
       "      <td id=\"T_ad8d0_row8_col8\" class=\"data row8 col8\" >0.4470</td>\n",
       "    </tr>\n",
       "    <tr>\n",
       "      <th id=\"T_ad8d0_level0_row9\" class=\"row_heading level0 row9\" >rf</th>\n",
       "      <td id=\"T_ad8d0_row9_col0\" class=\"data row9 col0\" >Random Forest Classifier</td>\n",
       "      <td id=\"T_ad8d0_row9_col1\" class=\"data row9 col1\" >0.6330</td>\n",
       "      <td id=\"T_ad8d0_row9_col2\" class=\"data row9 col2\" >0.5022</td>\n",
       "      <td id=\"T_ad8d0_row9_col3\" class=\"data row9 col3\" >0.0237</td>\n",
       "      <td id=\"T_ad8d0_row9_col4\" class=\"data row9 col4\" >0.3293</td>\n",
       "      <td id=\"T_ad8d0_row9_col5\" class=\"data row9 col5\" >0.0441</td>\n",
       "      <td id=\"T_ad8d0_row9_col6\" class=\"data row9 col6\" >-0.0041</td>\n",
       "      <td id=\"T_ad8d0_row9_col7\" class=\"data row9 col7\" >-0.0098</td>\n",
       "      <td id=\"T_ad8d0_row9_col8\" class=\"data row9 col8\" >0.3540</td>\n",
       "    </tr>\n",
       "    <tr>\n",
       "      <th id=\"T_ad8d0_level0_row10\" class=\"row_heading level0 row10\" >svm</th>\n",
       "      <td id=\"T_ad8d0_row10_col0\" class=\"data row10 col0\" >SVM - Linear Kernel</td>\n",
       "      <td id=\"T_ad8d0_row10_col1\" class=\"data row10 col1\" >0.5851</td>\n",
       "      <td id=\"T_ad8d0_row10_col2\" class=\"data row10 col2\" >0.0000</td>\n",
       "      <td id=\"T_ad8d0_row10_col3\" class=\"data row10 col3\" >0.2000</td>\n",
       "      <td id=\"T_ad8d0_row10_col4\" class=\"data row10 col4\" >0.0716</td>\n",
       "      <td id=\"T_ad8d0_row10_col5\" class=\"data row10 col5\" >0.1055</td>\n",
       "      <td id=\"T_ad8d0_row10_col6\" class=\"data row10 col6\" >0.0000</td>\n",
       "      <td id=\"T_ad8d0_row10_col7\" class=\"data row10 col7\" >0.0000</td>\n",
       "      <td id=\"T_ad8d0_row10_col8\" class=\"data row10 col8\" >0.0330</td>\n",
       "    </tr>\n",
       "    <tr>\n",
       "      <th id=\"T_ad8d0_level0_row11\" class=\"row_heading level0 row11\" >lr</th>\n",
       "      <td id=\"T_ad8d0_row11_col0\" class=\"data row11 col0\" >Logistic Regression</td>\n",
       "      <td id=\"T_ad8d0_row11_col1\" class=\"data row11 col1\" >0.6418</td>\n",
       "      <td id=\"T_ad8d0_row11_col2\" class=\"data row11 col2\" >0.4976</td>\n",
       "      <td id=\"T_ad8d0_row11_col3\" class=\"data row11 col3\" >0.0000</td>\n",
       "      <td id=\"T_ad8d0_row11_col4\" class=\"data row11 col4\" >0.0000</td>\n",
       "      <td id=\"T_ad8d0_row11_col5\" class=\"data row11 col5\" >0.0000</td>\n",
       "      <td id=\"T_ad8d0_row11_col6\" class=\"data row11 col6\" >0.0000</td>\n",
       "      <td id=\"T_ad8d0_row11_col7\" class=\"data row11 col7\" >0.0000</td>\n",
       "      <td id=\"T_ad8d0_row11_col8\" class=\"data row11 col8\" >0.5250</td>\n",
       "    </tr>\n",
       "    <tr>\n",
       "      <th id=\"T_ad8d0_level0_row12\" class=\"row_heading level0 row12\" >nb</th>\n",
       "      <td id=\"T_ad8d0_row12_col0\" class=\"data row12 col0\" >Naive Bayes</td>\n",
       "      <td id=\"T_ad8d0_row12_col1\" class=\"data row12 col1\" >0.6418</td>\n",
       "      <td id=\"T_ad8d0_row12_col2\" class=\"data row12 col2\" >0.5121</td>\n",
       "      <td id=\"T_ad8d0_row12_col3\" class=\"data row12 col3\" >0.0000</td>\n",
       "      <td id=\"T_ad8d0_row12_col4\" class=\"data row12 col4\" >0.0000</td>\n",
       "      <td id=\"T_ad8d0_row12_col5\" class=\"data row12 col5\" >0.0000</td>\n",
       "      <td id=\"T_ad8d0_row12_col6\" class=\"data row12 col6\" >0.0000</td>\n",
       "      <td id=\"T_ad8d0_row12_col7\" class=\"data row12 col7\" >0.0000</td>\n",
       "      <td id=\"T_ad8d0_row12_col8\" class=\"data row12 col8\" >0.0170</td>\n",
       "    </tr>\n",
       "    <tr>\n",
       "      <th id=\"T_ad8d0_level0_row13\" class=\"row_heading level0 row13\" >ridge</th>\n",
       "      <td id=\"T_ad8d0_row13_col0\" class=\"data row13 col0\" >Ridge Classifier</td>\n",
       "      <td id=\"T_ad8d0_row13_col1\" class=\"data row13 col1\" >0.6418</td>\n",
       "      <td id=\"T_ad8d0_row13_col2\" class=\"data row13 col2\" >0.0000</td>\n",
       "      <td id=\"T_ad8d0_row13_col3\" class=\"data row13 col3\" >0.0000</td>\n",
       "      <td id=\"T_ad8d0_row13_col4\" class=\"data row13 col4\" >0.0000</td>\n",
       "      <td id=\"T_ad8d0_row13_col5\" class=\"data row13 col5\" >0.0000</td>\n",
       "      <td id=\"T_ad8d0_row13_col6\" class=\"data row13 col6\" >0.0000</td>\n",
       "      <td id=\"T_ad8d0_row13_col7\" class=\"data row13 col7\" >0.0000</td>\n",
       "      <td id=\"T_ad8d0_row13_col8\" class=\"data row13 col8\" >0.0150</td>\n",
       "    </tr>\n",
       "    <tr>\n",
       "      <th id=\"T_ad8d0_level0_row14\" class=\"row_heading level0 row14\" >lda</th>\n",
       "      <td id=\"T_ad8d0_row14_col0\" class=\"data row14 col0\" >Linear Discriminant Analysis</td>\n",
       "      <td id=\"T_ad8d0_row14_col1\" class=\"data row14 col1\" >0.6418</td>\n",
       "      <td id=\"T_ad8d0_row14_col2\" class=\"data row14 col2\" >0.5064</td>\n",
       "      <td id=\"T_ad8d0_row14_col3\" class=\"data row14 col3\" >0.0000</td>\n",
       "      <td id=\"T_ad8d0_row14_col4\" class=\"data row14 col4\" >0.0000</td>\n",
       "      <td id=\"T_ad8d0_row14_col5\" class=\"data row14 col5\" >0.0000</td>\n",
       "      <td id=\"T_ad8d0_row14_col6\" class=\"data row14 col6\" >0.0000</td>\n",
       "      <td id=\"T_ad8d0_row14_col7\" class=\"data row14 col7\" >0.0000</td>\n",
       "      <td id=\"T_ad8d0_row14_col8\" class=\"data row14 col8\" >0.0170</td>\n",
       "    </tr>\n",
       "    <tr>\n",
       "      <th id=\"T_ad8d0_level0_row15\" class=\"row_heading level0 row15\" >dummy</th>\n",
       "      <td id=\"T_ad8d0_row15_col0\" class=\"data row15 col0\" >Dummy Classifier</td>\n",
       "      <td id=\"T_ad8d0_row15_col1\" class=\"data row15 col1\" >0.6418</td>\n",
       "      <td id=\"T_ad8d0_row15_col2\" class=\"data row15 col2\" >0.5000</td>\n",
       "      <td id=\"T_ad8d0_row15_col3\" class=\"data row15 col3\" >0.0000</td>\n",
       "      <td id=\"T_ad8d0_row15_col4\" class=\"data row15 col4\" >0.0000</td>\n",
       "      <td id=\"T_ad8d0_row15_col5\" class=\"data row15 col5\" >0.0000</td>\n",
       "      <td id=\"T_ad8d0_row15_col6\" class=\"data row15 col6\" >0.0000</td>\n",
       "      <td id=\"T_ad8d0_row15_col7\" class=\"data row15 col7\" >0.0000</td>\n",
       "      <td id=\"T_ad8d0_row15_col8\" class=\"data row15 col8\" >0.0130</td>\n",
       "    </tr>\n",
       "  </tbody>\n",
       "</table>\n"
      ],
      "text/plain": [
       "<pandas.io.formats.style.Styler at 0x1b450d0be50>"
      ]
     },
     "metadata": {},
     "output_type": "display_data"
    },
    {
     "data": {
      "application/vnd.jupyter.widget-view+json": {
       "model_id": "",
       "version_major": 2,
       "version_minor": 0
      },
      "text/plain": [
       "Processing:   0%|          | 0/69 [00:00<?, ?it/s]"
      ]
     },
     "metadata": {},
     "output_type": "display_data"
    }
   ],
   "source": [
    "best_model= compare_models(sort='Precision')"
   ]
  },
  {
   "cell_type": "code",
   "execution_count": 37,
   "id": "dac19f1e",
   "metadata": {},
   "outputs": [
    {
     "name": "stdout",
     "output_type": "stream",
     "text": [
      "AdaBoostClassifier(algorithm='SAMME.R', base_estimator='deprecated',\n",
      "                   estimator=None, learning_rate=1.0, n_estimators=50,\n",
      "                   random_state=2636)\n"
     ]
    }
   ],
   "source": [
    "print(best_model)"
   ]
  },
  {
   "cell_type": "code",
   "execution_count": 38,
   "id": "fc6deb75",
   "metadata": {},
   "outputs": [
    {
     "data": {
      "text/html": [],
      "text/plain": [
       "<IPython.core.display.HTML object>"
      ]
     },
     "metadata": {},
     "output_type": "display_data"
    },
    {
     "data": {
      "text/html": [
       "<style type=\"text/css\">\n",
       "#T_e07d2_row10_col0, #T_e07d2_row10_col1, #T_e07d2_row10_col2, #T_e07d2_row10_col3, #T_e07d2_row10_col4, #T_e07d2_row10_col5, #T_e07d2_row10_col6 {\n",
       "  background: yellow;\n",
       "}\n",
       "</style>\n",
       "<table id=\"T_e07d2\">\n",
       "  <thead>\n",
       "    <tr>\n",
       "      <th class=\"blank level0\" >&nbsp;</th>\n",
       "      <th id=\"T_e07d2_level0_col0\" class=\"col_heading level0 col0\" >Accuracy</th>\n",
       "      <th id=\"T_e07d2_level0_col1\" class=\"col_heading level0 col1\" >AUC</th>\n",
       "      <th id=\"T_e07d2_level0_col2\" class=\"col_heading level0 col2\" >Recall</th>\n",
       "      <th id=\"T_e07d2_level0_col3\" class=\"col_heading level0 col3\" >Prec.</th>\n",
       "      <th id=\"T_e07d2_level0_col4\" class=\"col_heading level0 col4\" >F1</th>\n",
       "      <th id=\"T_e07d2_level0_col5\" class=\"col_heading level0 col5\" >Kappa</th>\n",
       "      <th id=\"T_e07d2_level0_col6\" class=\"col_heading level0 col6\" >MCC</th>\n",
       "    </tr>\n",
       "    <tr>\n",
       "      <th class=\"index_name level0\" >Fold</th>\n",
       "      <th class=\"blank col0\" >&nbsp;</th>\n",
       "      <th class=\"blank col1\" >&nbsp;</th>\n",
       "      <th class=\"blank col2\" >&nbsp;</th>\n",
       "      <th class=\"blank col3\" >&nbsp;</th>\n",
       "      <th class=\"blank col4\" >&nbsp;</th>\n",
       "      <th class=\"blank col5\" >&nbsp;</th>\n",
       "      <th class=\"blank col6\" >&nbsp;</th>\n",
       "    </tr>\n",
       "  </thead>\n",
       "  <tbody>\n",
       "    <tr>\n",
       "      <th id=\"T_e07d2_level0_row0\" class=\"row_heading level0 row0\" >0</th>\n",
       "      <td id=\"T_e07d2_row0_col0\" class=\"data row0 col0\" >0.6417</td>\n",
       "      <td id=\"T_e07d2_row0_col1\" class=\"data row0 col1\" >0.4909</td>\n",
       "      <td id=\"T_e07d2_row0_col2\" class=\"data row0 col2\" >0.0000</td>\n",
       "      <td id=\"T_e07d2_row0_col3\" class=\"data row0 col3\" >0.0000</td>\n",
       "      <td id=\"T_e07d2_row0_col4\" class=\"data row0 col4\" >0.0000</td>\n",
       "      <td id=\"T_e07d2_row0_col5\" class=\"data row0 col5\" >0.0000</td>\n",
       "      <td id=\"T_e07d2_row0_col6\" class=\"data row0 col6\" >0.0000</td>\n",
       "    </tr>\n",
       "    <tr>\n",
       "      <th id=\"T_e07d2_level0_row1\" class=\"row_heading level0 row1\" >1</th>\n",
       "      <td id=\"T_e07d2_row1_col0\" class=\"data row1 col0\" >0.6417</td>\n",
       "      <td id=\"T_e07d2_row1_col1\" class=\"data row1 col1\" >0.5000</td>\n",
       "      <td id=\"T_e07d2_row1_col2\" class=\"data row1 col2\" >0.0000</td>\n",
       "      <td id=\"T_e07d2_row1_col3\" class=\"data row1 col3\" >0.0000</td>\n",
       "      <td id=\"T_e07d2_row1_col4\" class=\"data row1 col4\" >0.0000</td>\n",
       "      <td id=\"T_e07d2_row1_col5\" class=\"data row1 col5\" >0.0000</td>\n",
       "      <td id=\"T_e07d2_row1_col6\" class=\"data row1 col6\" >0.0000</td>\n",
       "    </tr>\n",
       "    <tr>\n",
       "      <th id=\"T_e07d2_level0_row2\" class=\"row_heading level0 row2\" >2</th>\n",
       "      <td id=\"T_e07d2_row2_col0\" class=\"data row2 col0\" >0.6417</td>\n",
       "      <td id=\"T_e07d2_row2_col1\" class=\"data row2 col1\" >0.5000</td>\n",
       "      <td id=\"T_e07d2_row2_col2\" class=\"data row2 col2\" >0.0000</td>\n",
       "      <td id=\"T_e07d2_row2_col3\" class=\"data row2 col3\" >0.0000</td>\n",
       "      <td id=\"T_e07d2_row2_col4\" class=\"data row2 col4\" >0.0000</td>\n",
       "      <td id=\"T_e07d2_row2_col5\" class=\"data row2 col5\" >0.0000</td>\n",
       "      <td id=\"T_e07d2_row2_col6\" class=\"data row2 col6\" >0.0000</td>\n",
       "    </tr>\n",
       "    <tr>\n",
       "      <th id=\"T_e07d2_level0_row3\" class=\"row_heading level0 row3\" >3</th>\n",
       "      <td id=\"T_e07d2_row3_col0\" class=\"data row3 col0\" >0.6417</td>\n",
       "      <td id=\"T_e07d2_row3_col1\" class=\"data row3 col1\" >0.5000</td>\n",
       "      <td id=\"T_e07d2_row3_col2\" class=\"data row3 col2\" >0.0000</td>\n",
       "      <td id=\"T_e07d2_row3_col3\" class=\"data row3 col3\" >0.0000</td>\n",
       "      <td id=\"T_e07d2_row3_col4\" class=\"data row3 col4\" >0.0000</td>\n",
       "      <td id=\"T_e07d2_row3_col5\" class=\"data row3 col5\" >0.0000</td>\n",
       "      <td id=\"T_e07d2_row3_col6\" class=\"data row3 col6\" >0.0000</td>\n",
       "    </tr>\n",
       "    <tr>\n",
       "      <th id=\"T_e07d2_level0_row4\" class=\"row_heading level0 row4\" >4</th>\n",
       "      <td id=\"T_e07d2_row4_col0\" class=\"data row4 col0\" >0.6427</td>\n",
       "      <td id=\"T_e07d2_row4_col1\" class=\"data row4 col1\" >0.5000</td>\n",
       "      <td id=\"T_e07d2_row4_col2\" class=\"data row4 col2\" >0.0000</td>\n",
       "      <td id=\"T_e07d2_row4_col3\" class=\"data row4 col3\" >0.0000</td>\n",
       "      <td id=\"T_e07d2_row4_col4\" class=\"data row4 col4\" >0.0000</td>\n",
       "      <td id=\"T_e07d2_row4_col5\" class=\"data row4 col5\" >0.0000</td>\n",
       "      <td id=\"T_e07d2_row4_col6\" class=\"data row4 col6\" >0.0000</td>\n",
       "    </tr>\n",
       "    <tr>\n",
       "      <th id=\"T_e07d2_level0_row5\" class=\"row_heading level0 row5\" >5</th>\n",
       "      <td id=\"T_e07d2_row5_col0\" class=\"data row5 col0\" >0.6427</td>\n",
       "      <td id=\"T_e07d2_row5_col1\" class=\"data row5 col1\" >0.5000</td>\n",
       "      <td id=\"T_e07d2_row5_col2\" class=\"data row5 col2\" >0.0000</td>\n",
       "      <td id=\"T_e07d2_row5_col3\" class=\"data row5 col3\" >0.0000</td>\n",
       "      <td id=\"T_e07d2_row5_col4\" class=\"data row5 col4\" >0.0000</td>\n",
       "      <td id=\"T_e07d2_row5_col5\" class=\"data row5 col5\" >0.0000</td>\n",
       "      <td id=\"T_e07d2_row5_col6\" class=\"data row5 col6\" >0.0000</td>\n",
       "    </tr>\n",
       "    <tr>\n",
       "      <th id=\"T_e07d2_level0_row6\" class=\"row_heading level0 row6\" >6</th>\n",
       "      <td id=\"T_e07d2_row6_col0\" class=\"data row6 col0\" >0.6427</td>\n",
       "      <td id=\"T_e07d2_row6_col1\" class=\"data row6 col1\" >0.5000</td>\n",
       "      <td id=\"T_e07d2_row6_col2\" class=\"data row6 col2\" >0.0000</td>\n",
       "      <td id=\"T_e07d2_row6_col3\" class=\"data row6 col3\" >0.0000</td>\n",
       "      <td id=\"T_e07d2_row6_col4\" class=\"data row6 col4\" >0.0000</td>\n",
       "      <td id=\"T_e07d2_row6_col5\" class=\"data row6 col5\" >0.0000</td>\n",
       "      <td id=\"T_e07d2_row6_col6\" class=\"data row6 col6\" >0.0000</td>\n",
       "    </tr>\n",
       "    <tr>\n",
       "      <th id=\"T_e07d2_level0_row7\" class=\"row_heading level0 row7\" >7</th>\n",
       "      <td id=\"T_e07d2_row7_col0\" class=\"data row7 col0\" >0.6411</td>\n",
       "      <td id=\"T_e07d2_row7_col1\" class=\"data row7 col1\" >0.4979</td>\n",
       "      <td id=\"T_e07d2_row7_col2\" class=\"data row7 col2\" >0.0000</td>\n",
       "      <td id=\"T_e07d2_row7_col3\" class=\"data row7 col3\" >0.0000</td>\n",
       "      <td id=\"T_e07d2_row7_col4\" class=\"data row7 col4\" >0.0000</td>\n",
       "      <td id=\"T_e07d2_row7_col5\" class=\"data row7 col5\" >0.0000</td>\n",
       "      <td id=\"T_e07d2_row7_col6\" class=\"data row7 col6\" >0.0000</td>\n",
       "    </tr>\n",
       "    <tr>\n",
       "      <th id=\"T_e07d2_level0_row8\" class=\"row_heading level0 row8\" >8</th>\n",
       "      <td id=\"T_e07d2_row8_col0\" class=\"data row8 col0\" >0.6411</td>\n",
       "      <td id=\"T_e07d2_row8_col1\" class=\"data row8 col1\" >0.5000</td>\n",
       "      <td id=\"T_e07d2_row8_col2\" class=\"data row8 col2\" >0.0000</td>\n",
       "      <td id=\"T_e07d2_row8_col3\" class=\"data row8 col3\" >0.0000</td>\n",
       "      <td id=\"T_e07d2_row8_col4\" class=\"data row8 col4\" >0.0000</td>\n",
       "      <td id=\"T_e07d2_row8_col5\" class=\"data row8 col5\" >0.0000</td>\n",
       "      <td id=\"T_e07d2_row8_col6\" class=\"data row8 col6\" >0.0000</td>\n",
       "    </tr>\n",
       "    <tr>\n",
       "      <th id=\"T_e07d2_level0_row9\" class=\"row_heading level0 row9\" >9</th>\n",
       "      <td id=\"T_e07d2_row9_col0\" class=\"data row9 col0\" >0.6411</td>\n",
       "      <td id=\"T_e07d2_row9_col1\" class=\"data row9 col1\" >0.4999</td>\n",
       "      <td id=\"T_e07d2_row9_col2\" class=\"data row9 col2\" >0.0000</td>\n",
       "      <td id=\"T_e07d2_row9_col3\" class=\"data row9 col3\" >0.0000</td>\n",
       "      <td id=\"T_e07d2_row9_col4\" class=\"data row9 col4\" >0.0000</td>\n",
       "      <td id=\"T_e07d2_row9_col5\" class=\"data row9 col5\" >0.0000</td>\n",
       "      <td id=\"T_e07d2_row9_col6\" class=\"data row9 col6\" >0.0000</td>\n",
       "    </tr>\n",
       "    <tr>\n",
       "      <th id=\"T_e07d2_level0_row10\" class=\"row_heading level0 row10\" >Mean</th>\n",
       "      <td id=\"T_e07d2_row10_col0\" class=\"data row10 col0\" >0.6418</td>\n",
       "      <td id=\"T_e07d2_row10_col1\" class=\"data row10 col1\" >0.4989</td>\n",
       "      <td id=\"T_e07d2_row10_col2\" class=\"data row10 col2\" >0.0000</td>\n",
       "      <td id=\"T_e07d2_row10_col3\" class=\"data row10 col3\" >0.0000</td>\n",
       "      <td id=\"T_e07d2_row10_col4\" class=\"data row10 col4\" >0.0000</td>\n",
       "      <td id=\"T_e07d2_row10_col5\" class=\"data row10 col5\" >0.0000</td>\n",
       "      <td id=\"T_e07d2_row10_col6\" class=\"data row10 col6\" >0.0000</td>\n",
       "    </tr>\n",
       "    <tr>\n",
       "      <th id=\"T_e07d2_level0_row11\" class=\"row_heading level0 row11\" >Std</th>\n",
       "      <td id=\"T_e07d2_row11_col0\" class=\"data row11 col0\" >0.0006</td>\n",
       "      <td id=\"T_e07d2_row11_col1\" class=\"data row11 col1\" >0.0027</td>\n",
       "      <td id=\"T_e07d2_row11_col2\" class=\"data row11 col2\" >0.0000</td>\n",
       "      <td id=\"T_e07d2_row11_col3\" class=\"data row11 col3\" >0.0000</td>\n",
       "      <td id=\"T_e07d2_row11_col4\" class=\"data row11 col4\" >0.0000</td>\n",
       "      <td id=\"T_e07d2_row11_col5\" class=\"data row11 col5\" >0.0000</td>\n",
       "      <td id=\"T_e07d2_row11_col6\" class=\"data row11 col6\" >0.0000</td>\n",
       "    </tr>\n",
       "  </tbody>\n",
       "</table>\n"
      ],
      "text/plain": [
       "<pandas.io.formats.style.Styler at 0x1b43ddcd670>"
      ]
     },
     "metadata": {},
     "output_type": "display_data"
    },
    {
     "data": {
      "application/vnd.jupyter.widget-view+json": {
       "model_id": "",
       "version_major": 2,
       "version_minor": 0
      },
      "text/plain": [
       "Processing:   0%|          | 0/7 [00:00<?, ?it/s]"
      ]
     },
     "metadata": {},
     "output_type": "display_data"
    },
    {
     "name": "stdout",
     "output_type": "stream",
     "text": [
      "Fitting 10 folds for each of 10 candidates, totalling 100 fits\n"
     ]
    }
   ],
   "source": [
    "tuned_best_model = tune_model(best_model)"
   ]
  },
  {
   "cell_type": "code",
   "execution_count": null,
   "id": "770d3077",
   "metadata": {},
   "outputs": [],
   "source": []
  },
  {
   "cell_type": "markdown",
   "id": "b57855ee",
   "metadata": {},
   "source": [
    "--- Visualisation ---"
   ]
  },
  {
   "cell_type": "code",
   "execution_count": 39,
   "id": "8a9d69fd",
   "metadata": {},
   "outputs": [
    {
     "name": "stdout",
     "output_type": "stream",
     "text": [
      "Logistic Regression Precision: 0.0\n",
      "Decision Tree Precision: 0.3476968796433878\n",
      "Tuned Decision Tree Precision: 0.3821428571428571\n",
      "KNeighborsClassifier Precision: 0.3615023474178404\n",
      "Tuned KNeighborsClassifier Precision: 0.4262295081967213\n",
      "GaussianNB Precision: 0.0\n",
      "SVM Precision: 0.0\n",
      "Random Forest Precision: 0.2765957446808511\n",
      "Tuned Random Forest Precision: 0.2857142857142857\n",
      "AdaBoost Precision: 0.28\n",
      "Tuned AdaBoost Precision: 0.375\n",
      "GradientBoosting Precision: 0.3\n",
      "Tuned GradientBoosting Precision: 0.3\n",
      "XGB Precision: 0.3233695652173913\n",
      "Tuned XGB Precision: 0.25\n",
      "LGBM Precision: 0.33548387096774196\n",
      "Tuned LGBM Precision: 0.0\n",
      "CatBoost Precision: 0.37\n",
      "Tuned CatBoost Precision: 1.0\n"
     ]
    }
   ],
   "source": [
    "print('Logistic Regression Precision:', precision_score(y_test, y_pred_lr, zero_division= 0))\n",
    "print('Decision Tree Precision:', precision_score(y_test, y_pred_dt, zero_division= 0))\n",
    "print('Tuned Decision Tree Precision:', precision_score(y_test, y_pred_tuned_dt, zero_division= 0))\n",
    "print('KNeighborsClassifier Precision:', precision_score(y_test, y_pred_knn, zero_division= 0))\n",
    "print('Tuned KNeighborsClassifier Precision:', precision_score(y_test, y_pred_tuned_knn, zero_division= 0))\n",
    "print('GaussianNB Precision:', precision_score(y_test, y_pred_nb, zero_division= 0))\n",
    "print('SVM Precision:', precision_score(y_test, y_pred_svc, zero_division= 0))\n",
    "print('Random Forest Precision:', precision_score(y_test, y_pred_rf, zero_division= 0))\n",
    "print('Tuned Random Forest Precision:', precision_score(y_test, y_pred_tuned_rf, zero_division= 0))\n",
    "print('AdaBoost Precision:', precision_score(y_test, y_pred_ada, zero_division= 0))\n",
    "print('Tuned AdaBoost Precision:', precision_score(y_test, y_pred_tuned_ada, zero_division= 0))\n",
    "print('GradientBoosting Precision:', precision_score(y_test, y_pred_grb, zero_division= 0))\n",
    "print('Tuned GradientBoosting Precision:', precision_score(y_test, y_pred_tuned_grb, zero_division= 0))\n",
    "print('XGB Precision:', precision_score(y_test, y_pred_xgb, zero_division= 0))\n",
    "print('Tuned XGB Precision:', precision_score(y_test, y_pred_tuned_xgb, zero_division= 0))\n",
    "print('LGBM Precision:', precision_score(y_test, y_pred_lgm, zero_division= 0))\n",
    "print('Tuned LGBM Precision:', precision_score(y_test, y_pred_tuned_lgm, zero_division= 0))\n",
    "print('CatBoost Precision:', precision_score(y_test, y_pred_cat, zero_division= 0))\n",
    "print('Tuned CatBoost Precision:', precision_score(y_test, y_pred_tuned_cat, zero_division= 0))"
   ]
  },
  {
   "cell_type": "code",
   "execution_count": 40,
   "id": "9984fadc",
   "metadata": {},
   "outputs": [
    {
     "name": "stdout",
     "output_type": "stream",
     "text": [
      "                                    Model  Precision Score\n",
      "18              Tuned CatBoost Precision:         1.000000\n",
      "4   Tuned KNeighborsClassifier Precision:         0.426230\n",
      "2          Tuned Decision Tree Precision:         0.382143\n",
      "10              Tuned AdaBoost Precision:         0.375000\n",
      "17                    CatBoost Precision:         0.370000\n",
      "3         KNeighborsClassifier Precision:         0.361502\n",
      "1                Decision Tree Precision:         0.347697\n",
      "15                        LGBM Precision:         0.335484\n",
      "13                         XGB Precision:         0.323370\n",
      "12      Tuned GradientBoosting Precision:         0.300000\n",
      "11            GradientBoosting Precision:         0.300000\n",
      "8          Tuned Random Forest Precision:         0.285714\n",
      "9                     AdaBoost Precision:         0.280000\n",
      "7                Random Forest Precision:         0.276596\n",
      "14                   Tuned XGB Precision:         0.250000\n",
      "6                          SVM Precision:         0.000000\n",
      "16                  Tuned LGBM Precision:         0.000000\n",
      "5                   GaussianNB Precision:         0.000000\n",
      "0          Logistic Regression Precision:         0.000000\n"
     ]
    }
   ],
   "source": [
    "precision_scores= {\n",
    "                    'Logistic Regression Precision:': precision_score(y_test, y_pred_lr, zero_division= 0),\n",
    "                    'Decision Tree Precision:': precision_score(y_test, y_pred_dt, zero_division= 0),\n",
    "                    'Tuned Decision Tree Precision:': precision_score(y_test, y_pred_tuned_dt, zero_division= 0),\n",
    "                    'KNeighborsClassifier Precision:': precision_score(y_test, y_pred_knn, zero_division= 0),\n",
    "                    'Tuned KNeighborsClassifier Precision:': precision_score(y_test, y_pred_tuned_knn, zero_division= 0),\n",
    "                    'GaussianNB Precision:': precision_score(y_test, y_pred_nb, zero_division= 0),\n",
    "                    'SVM Precision:': precision_score(y_test, y_pred_svc, zero_division= 0),\n",
    "                    'Random Forest Precision:': precision_score(y_test, y_pred_rf, zero_division= 0),\n",
    "                    'Tuned Random Forest Precision:': precision_score(y_test, y_pred_tuned_rf, zero_division= 0),\n",
    "                    'AdaBoost Precision:': precision_score(y_test, y_pred_ada, zero_division= 0),\n",
    "                    'Tuned AdaBoost Precision:': precision_score(y_test, y_pred_tuned_ada, zero_division= 0),\n",
    "                    'GradientBoosting Precision:': precision_score(y_test, y_pred_grb, zero_division= 0),\n",
    "                    'Tuned GradientBoosting Precision:': precision_score(y_test, y_pred_tuned_grb, zero_division= 0),\n",
    "                    'XGB Precision:': precision_score(y_test, y_pred_xgb, zero_division= 0),\n",
    "                    'Tuned XGB Precision:': precision_score(y_test, y_pred_tuned_xgb, zero_division= 0),\n",
    "                    'LGBM Precision:': precision_score(y_test, y_pred_lgm, zero_division= 0),\n",
    "                    'Tuned LGBM Precision:': precision_score(y_test, y_pred_tuned_lgm, zero_division= 0),\n",
    "                    'CatBoost Precision:': precision_score(y_test, y_pred_cat, zero_division= 0),\n",
    "                    'Tuned CatBoost Precision:': precision_score(y_test, y_pred_tuned_cat, zero_division= 0)\n",
    "                  }\n",
    "\n",
    "ml_precision= pd.DataFrame(list(precision_scores.items()), columns= ['Model', 'Precision Score'])\n",
    "ml_precision= ml_precision.sort_values(by= 'Precision Score', ascending=False)\n",
    "print(ml_precision)"
   ]
  },
  {
   "cell_type": "code",
   "execution_count": 41,
   "id": "e4dfa440",
   "metadata": {},
   "outputs": [
    {
     "name": "stdout",
     "output_type": "stream",
     "text": [
      "                                   Model  Accuracy Score\n",
      "18              Tuned CatBoost Accuracy:        0.642327\n",
      "5                   GaussianNB Accuracy:        0.641757\n",
      "6                          SVM Accuracy:        0.641757\n",
      "0          Logistic Regression Accuracy:        0.641757\n",
      "8          Tuned Random Forest Accuracy:        0.640046\n",
      "14                   Tuned XGB Accuracy:        0.639475\n",
      "4   Tuned KNeighborsClassifier Accuracy:        0.636623\n",
      "10              Tuned AdaBoost Accuracy:        0.636052\n",
      "16                  Tuned LGBM Accuracy:        0.636052\n",
      "9                     AdaBoost Accuracy:        0.635482\n",
      "11            GradientBoosting Accuracy:        0.634912\n",
      "12      Tuned GradientBoosting Accuracy:        0.634912\n",
      "7                Random Forest Accuracy:        0.629778\n",
      "17                    CatBoost Accuracy:        0.626925\n",
      "15                        LGBM Accuracy:        0.612664\n",
      "2          Tuned Decision Tree Accuracy:        0.604107\n",
      "3         KNeighborsClassifier Accuracy:        0.574444\n",
      "13                         XGB Accuracy:        0.567598\n",
      "1                Decision Tree Accuracy:        0.524815\n"
     ]
    }
   ],
   "source": [
    "accuracy_scores= {\n",
    "                    'Logistic Regression Accuracy:': accuracy_score(y_test, y_pred_lr),\n",
    "                    'Decision Tree Accuracy:': accuracy_score(y_test, y_pred_dt),\n",
    "                    'Tuned Decision Tree Accuracy:': accuracy_score(y_test, y_pred_tuned_dt),\n",
    "                    'KNeighborsClassifier Accuracy:': accuracy_score(y_test, y_pred_knn),\n",
    "                    'Tuned KNeighborsClassifier Accuracy:': accuracy_score(y_test, y_pred_tuned_knn),\n",
    "                    'GaussianNB Accuracy:': accuracy_score(y_test, y_pred_nb),\n",
    "                    'SVM Accuracy:': accuracy_score(y_test, y_pred_svc),\n",
    "                    'Random Forest Accuracy:': accuracy_score(y_test, y_pred_rf),\n",
    "                    'Tuned Random Forest Accuracy:': accuracy_score(y_test, y_pred_tuned_rf),\n",
    "                    'AdaBoost Accuracy:': accuracy_score(y_test, y_pred_ada),\n",
    "                    'Tuned AdaBoost Accuracy:': accuracy_score(y_test, y_pred_tuned_ada),\n",
    "                    'GradientBoosting Accuracy:': accuracy_score(y_test, y_pred_grb),\n",
    "                    'Tuned GradientBoosting Accuracy:': accuracy_score(y_test, y_pred_tuned_grb),\n",
    "                    'XGB Accuracy:': accuracy_score(y_test, y_pred_xgb),\n",
    "                    'Tuned XGB Accuracy:': accuracy_score(y_test, y_pred_tuned_xgb),\n",
    "                    'LGBM Accuracy:': accuracy_score(y_test, y_pred_lgm),\n",
    "                    'Tuned LGBM Accuracy:': accuracy_score(y_test, y_pred_tuned_lgm),\n",
    "                    'CatBoost Accuracy:': accuracy_score(y_test, y_pred_cat),\n",
    "                    'Tuned CatBoost Accuracy:': accuracy_score(y_test, y_pred_tuned_cat)\n",
    "                  }\n",
    "\n",
    "ml_accuracy= pd.DataFrame(list(accuracy_scores.items()), columns= ['Model', 'Accuracy Score'])\n",
    "ml_accuracy= ml_accuracy.sort_values(by= 'Accuracy Score', ascending=False)\n",
    "print(ml_accuracy)"
   ]
  },
  {
   "cell_type": "code",
   "execution_count": 42,
   "id": "6585b742",
   "metadata": {},
   "outputs": [
    {
     "name": "stdout",
     "output_type": "stream",
     "text": [
      "                              Model  AUC Score\n",
      "16                  Tuned LGBM AUC:   0.518545\n",
      "17                    CatBoost AUC:   0.516671\n",
      "6                          SVM AUC:   0.514461\n",
      "15                        LGBM AUC:   0.509130\n",
      "7                Random Forest AUC:   0.508728\n",
      "12      Tuned GradientBoosting AUC:   0.508570\n",
      "11            GradientBoosting AUC:   0.508570\n",
      "18              Tuned CatBoost AUC:   0.505881\n",
      "2          Tuned Decision Tree AUC:   0.503986\n",
      "8          Tuned Random Forest AUC:   0.502709\n",
      "14                   Tuned XGB AUC:   0.497809\n",
      "4   Tuned KNeighborsClassifier AUC:   0.494048\n",
      "3         KNeighborsClassifier AUC:   0.491197\n",
      "1                Decision Tree AUC:   0.491195\n",
      "10              Tuned AdaBoost AUC:   0.489227\n",
      "5                   GaussianNB AUC:   0.487829\n",
      "13                         XGB AUC:   0.486361\n",
      "9                     AdaBoost AUC:   0.479635\n",
      "0          Logistic Regression AUC:   0.478992\n"
     ]
    }
   ],
   "source": [
    "auc_scores= {\n",
    "                    'Logistic Regression AUC:': roc_auc_score(y_test, y_pred_prob_lr),\n",
    "                    'Decision Tree AUC:': roc_auc_score(y_test, y_pred_prob_dt),\n",
    "                    'Tuned Decision Tree AUC:': roc_auc_score(y_test, y_pred_prob_tuned_dt),\n",
    "                    'KNeighborsClassifier AUC:': roc_auc_score(y_test, y_pred_prob_knn),\n",
    "                    'Tuned KNeighborsClassifier AUC:': roc_auc_score(y_test, y_pred_prob_tuned_knn),\n",
    "                    'GaussianNB AUC:': roc_auc_score(y_test, y_pred_prob_nb),\n",
    "                    'SVM AUC:': roc_auc_score(y_test, y_pred_prob_svc),\n",
    "                    'Random Forest AUC:': roc_auc_score(y_test, y_pred_prob_rf),\n",
    "                    'Tuned Random Forest AUC:': roc_auc_score(y_test, y_pred_prob_tuned_rf),\n",
    "                    'AdaBoost AUC:': roc_auc_score(y_test, y_pred_prob_ada),\n",
    "                    'Tuned AdaBoost AUC:': roc_auc_score(y_test, y_pred_prob_tuned_ada),\n",
    "                    'GradientBoosting AUC:': roc_auc_score(y_test, y_pred_prob_grb),\n",
    "                    'Tuned GradientBoosting AUC:': roc_auc_score(y_test, y_pred_prob_tuned_grb),\n",
    "                    'XGB AUC:': roc_auc_score(y_test, y_pred_prob_xgb),\n",
    "                    'Tuned XGB AUC:': roc_auc_score(y_test, y_pred_prob_tuned_xgb),\n",
    "                    'LGBM AUC:': roc_auc_score(y_test, y_pred_prob_lgm),\n",
    "                    'Tuned LGBM AUC:': roc_auc_score(y_test, y_pred_prob_tuned_lgm),\n",
    "                    'CatBoost AUC:': roc_auc_score(y_test, y_pred_prob_cat),\n",
    "                    'Tuned CatBoost AUC:': roc_auc_score(y_test, y_pred_prob_tuned_cat)\n",
    "                  }\n",
    "\n",
    "ml_auc= pd.DataFrame(list(auc_scores.items()), columns= ['Model', 'AUC Score'])\n",
    "ml_auc= ml_auc.sort_values(by= 'AUC Score', ascending=False)\n",
    "print(ml_auc)"
   ]
  },
  {
   "cell_type": "code",
   "execution_count": null,
   "id": "12b7cef4",
   "metadata": {},
   "outputs": [],
   "source": []
  },
  {
   "cell_type": "code",
   "execution_count": null,
   "id": "f482b326",
   "metadata": {},
   "outputs": [],
   "source": []
  },
  {
   "cell_type": "code",
   "execution_count": null,
   "id": "03a46620",
   "metadata": {},
   "outputs": [],
   "source": []
  },
  {
   "cell_type": "code",
   "execution_count": null,
   "id": "5da4c5e1",
   "metadata": {},
   "outputs": [],
   "source": []
  },
  {
   "cell_type": "code",
   "execution_count": 43,
   "id": "209b0ea5",
   "metadata": {},
   "outputs": [
    {
     "name": "stdout",
     "output_type": "stream",
     "text": [
      "Logistic Regression Precision: 0.0\n",
      "Decision Tree Precision: 0.3476968796433878\n",
      "Tuned Decision Tree Precision: 0.3821428571428571\n"
     ]
    },
    {
     "data": {
      "image/png": "[encoded data removed]",
      "text/plain": [
       "<Figure size 1080x360 with 6 Axes>"
      ]
     },
     "metadata": {
      "needs_background": "light"
     },
     "output_type": "display_data"
    }
   ],
   "source": [
    "fig, axes= plt.subplots(1, 3, figsize= (15, 5))\n",
    "\n",
    "print('Logistic Regression Precision:', precision_score(y_test, y_pred_lr, zero_division= 0))\n",
    "print('Decision Tree Precision:', precision_score(y_test, y_pred_dt, zero_division= 0))\n",
    "print('Tuned Decision Tree Precision:', precision_score(y_test, y_pred_tuned_dt, zero_division= 0))\n",
    "\n",
    "dcm_lr.plot(ax= axes[0])\n",
    "axes[0].set_title('Confusion Matrix for Logistic Regression')\n",
    "axes[0].grid(linewidth= 0)\n",
    "\n",
    "dcm_dt.plot(ax= axes[1])\n",
    "axes[1].set_title('Confusion Matrix for Decision Tree')\n",
    "axes[1].grid(linewidth= 0)\n",
    "\n",
    "dcm_knn.plot(ax= axes[2])\n",
    "axes[2].set_title('Confusion Matrix for Tuned Decision Tree')\n",
    "axes[2].grid(linewidth= 0)\n",
    "\n",
    "plt.tight_layout()\n",
    "plt.show()"
   ]
  },
  {
   "cell_type": "code",
   "execution_count": 44,
   "id": "a7f99f97",
   "metadata": {},
   "outputs": [
    {
     "name": "stdout",
     "output_type": "stream",
     "text": [
      "KNeighborsClassifier Precision: 0.3615023474178404\n",
      "Tuned KNeighborsClassifier Precision: 0.4262295081967213\n",
      "GaussianNB Precision: 0.0\n"
     ]
    },
    {
     "data": {
      "image/png": "[encoded data removed]",
      "text/plain": [
       "<Figure size 1080x360 with 6 Axes>"
      ]
     },
     "metadata": {
      "needs_background": "light"
     },
     "output_type": "display_data"
    }
   ],
   "source": [
    "fig, axes= plt.subplots(1, 3, figsize= (15, 5))\n",
    "print('KNeighborsClassifier Precision:', precision_score(y_test, y_pred_knn, zero_division= 0))\n",
    "print('Tuned KNeighborsClassifier Precision:', precision_score(y_test, y_pred_tuned_knn, zero_division= 0))\n",
    "print('GaussianNB Precision:', precision_score(y_test, y_pred_nb, zero_division= 0))\n",
    "\n",
    "dcm_knn.plot(ax= axes[0])\n",
    "axes[0].set_title('Confusion Matrix for KNeighborsClassifier')\n",
    "axes[0].grid(linewidth= 0)\n",
    "\n",
    "dcm_tuned_knn.plot(ax= axes[1])\n",
    "axes[1].set_title('Confusion Matrix for Tuned KNeighborsClassifier')\n",
    "axes[1].grid(linewidth= 0)\n",
    "\n",
    "dcm_nb.plot(ax= axes[2])\n",
    "axes[2].set_title('Confusion Matrix for GaussianNB')\n",
    "axes[2].grid(linewidth= 0)\n",
    "\n",
    "plt.tight_layout()\n",
    "plt.show()"
   ]
  },
  {
   "cell_type": "code",
   "execution_count": 45,
   "id": "25317f74",
   "metadata": {},
   "outputs": [
    {
     "name": "stdout",
     "output_type": "stream",
     "text": [
      "SVM Precision: 0.0\n",
      "Random Forest Precision: 0.2765957446808511\n",
      "Tuned Random Forest Precision: 0.2857142857142857\n"
     ]
    },
    {
     "data": {
      "image/png": "[encoded data removed]",
      "text/plain": [
       "<Figure size 1080x360 with 6 Axes>"
      ]
     },
     "metadata": {
      "needs_background": "light"
     },
     "output_type": "display_data"
    }
   ],
   "source": [
    "fig, axes= plt.subplots(1, 3, figsize= (15, 5))\n",
    "print('SVM Precision:', precision_score(y_test, y_pred_svc, zero_division=0))\n",
    "print('Random Forest Precision:', precision_score(y_test, y_pred_rf, zero_division=0))\n",
    "print('Tuned Random Forest Precision:', precision_score(y_test, y_pred_tuned_rf, zero_division=0))\n",
    "\n",
    "dcm_svc.plot(ax= axes[0])\n",
    "axes[0].set_title('Confusion Matrix for SVM')\n",
    "axes[0].grid(linewidth= 0)\n",
    "\n",
    "dcm_rf.plot(ax= axes[1])\n",
    "axes[1].set_title('Confusion Matrix for Random Forest')\n",
    "axes[1].grid(linewidth= 0)\n",
    "\n",
    "dcm_tuned_rf.plot(ax= axes[2])\n",
    "axes[2].set_title('Confusion Matrix for Tuned Random Forest')\n",
    "axes[2].grid(linewidth= 0)\n",
    "\n",
    "plt.tight_layout()\n",
    "plt.show()"
   ]
  },
  {
   "cell_type": "code",
   "execution_count": 46,
   "id": "337608d0",
   "metadata": {},
   "outputs": [
    {
     "name": "stdout",
     "output_type": "stream",
     "text": [
      "AdaBoost Precision: 0.28\n",
      "Tuned AdaBoost Precision: 0.375\n",
      "GradientBoosting Precision: 0.3\n"
     ]
    },
    {
     "data": {
      "image/png": "[encoded data removed]",
      "text/plain": [
       "<Figure size 1080x360 with 6 Axes>"
      ]
     },
     "metadata": {
      "needs_background": "light"
     },
     "output_type": "display_data"
    }
   ],
   "source": [
    "fig, axes= plt.subplots(1, 3, figsize= (15, 5))\n",
    "\n",
    "print('AdaBoost Precision:', precision_score(y_test, y_pred_ada, zero_division=0))\n",
    "print('Tuned AdaBoost Precision:', precision_score(y_test, y_pred_tuned_ada, zero_division=0))\n",
    "print('GradientBoosting Precision:', precision_score(y_test, y_pred_grb, zero_division=0))\n",
    "\n",
    "dcm_ada.plot(ax= axes[0])\n",
    "axes[0].set_title('Confusion Matrix for AdaBoost')\n",
    "axes[0].grid(linewidth= 0)\n",
    "\n",
    "dcm_tuned_ada.plot(ax= axes[1])\n",
    "axes[1].set_title('Confusion Matrix for Tuned AdaBoost')\n",
    "axes[1].grid(linewidth= 0)\n",
    "\n",
    "dcm_grb.plot(ax= axes[2])\n",
    "axes[2].set_title('Confusion Matrix for GradientBoosting')\n",
    "axes[2].grid(linewidth= 0)\n",
    "\n",
    "plt.tight_layout()\n",
    "plt.show()"
   ]
  },
  {
   "cell_type": "code",
   "execution_count": 47,
   "id": "bda41d9d",
   "metadata": {},
   "outputs": [
    {
     "name": "stdout",
     "output_type": "stream",
     "text": [
      "Tuned GradientBoosting Precision: 0.3\n",
      "XGB Precision: 0.3233695652173913\n",
      "Tuned XGB Precision: 0.25\n"
     ]
    },
    {
     "data": {
      "image/png": "[encoded data removed]",
      "text/plain": [
       "<Figure size 1080x360 with 6 Axes>"
      ]
     },
     "metadata": {
      "needs_background": "light"
     },
     "output_type": "display_data"
    }
   ],
   "source": [
    "fig, axes= plt.subplots(1, 3, figsize= (15, 5))\n",
    "\n",
    "print('Tuned GradientBoosting Precision:', precision_score(y_test, y_pred_tuned_grb, zero_division=0))\n",
    "print('XGB Precision:', precision_score(y_test, y_pred_xgb, zero_division=0))\n",
    "print('Tuned XGB Precision:', precision_score(y_test, y_pred_tuned_xgb, zero_division=0))\n",
    "\n",
    "dcm_tuned_grb.plot(ax= axes[0])\n",
    "axes[0].set_title('Confusion Matrix for Tuned GradientBoosting')\n",
    "axes[0].grid(linewidth= 0)\n",
    "\n",
    "dcm_xgb.plot(ax= axes[1])\n",
    "axes[1].set_title('Confusion Matrix for XGB')\n",
    "axes[1].grid(linewidth= 0)\n",
    "\n",
    "dcm_tuned_xgb.plot(ax= axes[2])\n",
    "axes[2].set_title('Confusion Matrix for Tuned XGB')\n",
    "axes[2].grid(linewidth= 0)\n",
    "\n",
    "plt.tight_layout()\n",
    "plt.show()"
   ]
  },
  {
   "cell_type": "code",
   "execution_count": 48,
   "id": "722d4360",
   "metadata": {},
   "outputs": [
    {
     "name": "stdout",
     "output_type": "stream",
     "text": [
      "LGBM Precision: 0.33548387096774196\n",
      "Tuned LGBM Precision: 0.0\n",
      "CatBoost Precision: 0.37\n",
      "Tuned CatBoost Precision: 1.0\n"
     ]
    },
    {
     "data": {
      "image/png": "[encoded data removed]",
      "text/plain": [
       "<Figure size 1080x360 with 8 Axes>"
      ]
     },
     "metadata": {
      "needs_background": "light"
     },
     "output_type": "display_data"
    }
   ],
   "source": [
    "fig, axes= plt.subplots(1, 4, figsize= (15, 5))\n",
    "\n",
    "print('LGBM Precision:', precision_score(y_test, y_pred_lgm, zero_division=0))\n",
    "print('Tuned LGBM Precision:', precision_score(y_test, y_pred_tuned_lgm, zero_division=0))\n",
    "print('CatBoost Precision:', precision_score(y_test, y_pred_cat, zero_division=0))\n",
    "print('Tuned CatBoost Precision:', precision_score(y_test, y_pred_tuned_cat, zero_division=0))\n",
    "\n",
    "dcm_lgm.plot(ax= axes[0])\n",
    "axes[0].set_title('Confusion Matrix for LGBM')\n",
    "axes[0].grid(linewidth= 0)\n",
    "\n",
    "dcm_tuned_lgm.plot(ax= axes[1])\n",
    "axes[1].set_title('Confusion Matrix for Tuned LGBM')\n",
    "axes[1].grid(linewidth= 0)\n",
    "\n",
    "dcm_cat.plot(ax= axes[2])\n",
    "axes[2].set_title('Confusion Matrix for CatBoost')\n",
    "axes[2].grid(linewidth= 0)\n",
    "\n",
    "dcm_tuned_cat.plot(ax= axes[3])\n",
    "axes[3].set_title('Confusion Matrix for CatBoost')\n",
    "axes[3].grid(linewidth= 0)\n",
    "\n",
    "plt.tight_layout()\n",
    "plt.show()"
   ]
  },
  {
   "cell_type": "code",
   "execution_count": null,
   "id": "801130ed",
   "metadata": {},
   "outputs": [],
   "source": []
  },
  {
   "cell_type": "code",
   "execution_count": null,
   "id": "38ce1a41",
   "metadata": {},
   "outputs": [],
   "source": []
  },
  {
   "cell_type": "code",
   "execution_count": null,
   "id": "73786909",
   "metadata": {},
   "outputs": [],
   "source": []
  }
 ],
 "metadata": {
  "kernelspec": {
   "display_name": "Python 3 (ipykernel)",
   "language": "python",
   "name": "python3"
  },
  "language_info": {
   "codemirror_mode": {
    "name": "ipython",
    "version": 3
   },
   "file_extension": ".py",
   "mimetype": "text/x-python",
   "name": "python",
   "nbconvert_exporter": "python",
   "pygments_lexer": "ipython3",
   "version": "3.9.12"
  }
 },
 "nbformat": 4,
 "nbformat_minor": 5
}
